{
 "cells": [
  {
   "cell_type": "code",
   "execution_count": 1,
   "metadata": {},
   "outputs": [],
   "source": [
    "import uuid\n",
    "from googleads import adwords\n",
    "import sys"
   ]
  },
  {
   "cell_type": "code",
   "execution_count": 2,
   "metadata": {},
   "outputs": [],
   "source": [
    "from csv import reader\n",
    "import csv\n",
    "import pandas as pd\n",
    "import numpy as np\n",
    "import copy"
   ]
  },
  {
   "cell_type": "code",
   "execution_count": 3,
   "metadata": {},
   "outputs": [],
   "source": [
    "AUTH_FILE_PATH = '/home/tim_su/ai_optimizer/opt/ai_optimizer/googleads.yaml'\n",
    "client = adwords.AdWordsClient.LoadFromStorage(AUTH_FILE_PATH)\n",
    "#client_2 = ad_manager.AdManagerClient.LoadFromStorage('/home/tim_su/ai_optimizer/opt/ai_optimizer/googleads.yaml')"
   ]
  },
  {
   "cell_type": "code",
   "execution_count": 4,
   "metadata": {},
   "outputs": [],
   "source": [
    "CUSTOMER_SERVICE_ID = '3637290511'\n",
    "CUSTOMER_SERVICE_ID = '5066360290'\n",
    "client.SetClientCustomerId(CUSTOMER_SERVICE_ID)"
   ]
  },
  {
   "cell_type": "markdown",
   "metadata": {
    "heading_collapsed": true
   },
   "source": [
    "## Get Available Fields of Report Type"
   ]
  },
  {
   "cell_type": "code",
   "execution_count": null,
   "metadata": {
    "hidden": true,
    "scrolled": true
   },
   "outputs": [],
   "source": [
    "# Display which field is able to query for certain report type\n",
    "REPORT_TYPE = 'CAMPAIGN_PERFORMANCE_REPORT'\n",
    "\n",
    "def get_report_fields(client, report_type):\n",
    "    # Initialize appropriate service.\n",
    "    report_definition_service = client.GetService(\n",
    "        'ReportDefinitionService', version='v201809')\n",
    "\n",
    "    # Get report fields.\n",
    "    fields = report_definition_service.getReportFields(report_type)\n",
    "\n",
    "    # Display results.\n",
    "    print('Report type \"%s\" contains the following fields:' % report_type)\n",
    "    for field in fields:\n",
    "        print(' - %s(%s)' % (field['fieldName'], field['fieldType']))\n",
    "        if 'enumValues' in field:\n",
    "            print('  := [%s]' % ', '.join(field['enumValues']))\n",
    "\n",
    "if __name__ == '__main__':\n",
    "    # Initialize client object.\n",
    "    adwords_client = adwords.AdWordsClient.LoadFromStorage(AUTH_FILE_PATH)\n",
    "    get_report_fields(adwords_client, REPORT_TYPE)"
   ]
  },
  {
   "cell_type": "markdown",
   "metadata": {
    "heading_collapsed": true
   },
   "source": [
    "## Campaign Insights & AdGroup Insights"
   ]
  },
  {
   "cell_type": "code",
   "execution_count": null,
   "metadata": {
    "hidden": true
   },
   "outputs": [],
   "source": [
    "CAMPAIGN_FIELDS = ['ExternalCustomerId','CampaignId','AdvertisingChannelType', 'CampaignStatus',\n",
    "                   'BiddingStrategyType','Amount','StartDate','EndDate','Cost',\n",
    "                   'AverageCost','Impressions', 'Clicks','Conversions',\n",
    "                   'AverageCpc','CostPerConversion', 'Ctr']\n",
    "class DatePreset:\n",
    "    today = 'TODAY'\n",
    "    yesterday = 'YESTERDAY'\n",
    "    lifetime = 'ALL_TIME'\n",
    "\n",
    "def get_campaign_insights(client, campaign_id=None, date_preset=None):\n",
    "    client.SetClientCustomerId(CUSTOMER_SERVICE_ID)\n",
    "    report_downloader = client.GetReportDownloader(version='v201809')\n",
    "    if date_preset is None:\n",
    "        date_preset = 'ALL_TIME'\n",
    "    else:\n",
    "        date_preset = date_preset\n",
    "    # Create report definition.\n",
    "    report = {\n",
    "        'reportName': 'CAMPAIGN_PERFORMANCE_REPORT',\n",
    "#         'dateRangeType': 'CUSTOM_DATE',\n",
    "        'dateRangeType': date_preset,\n",
    "        'reportType': 'CAMPAIGN_PERFORMANCE_REPORT',\n",
    "        'downloadFormat': 'CSV',\n",
    "        'selector': {\n",
    "            'fields': CAMPAIGN_FIELDS,\n",
    "#             'dateRange': {'min': '20190301','max': '20190401'},\n",
    "            'predicates': [\n",
    "                {\n",
    "                    'field': 'CampaignId',\n",
    "                    'operator': 'EQUALS',\n",
    "                    'values':[campaign_id]\n",
    "                }\n",
    "            ]\n",
    "        }\n",
    "    }\n",
    "    # Print out the report as a string\n",
    "    csv = report_downloader.DownloadReportAsString(  \n",
    "        report, skip_report_header=True, skip_column_header=True,   \n",
    "        skip_report_summary=True, include_zero_impressions=True,client_customer_id=CUSTOMER_SERVICE_ID)\n",
    "    csv_list = csv.split('\\n')[:-1]\n",
    "    df = pd.DataFrame()\n",
    "    for lil_csv in csv_list:\n",
    "        df_temp = pd.DataFrame(\n",
    "            data=np.array(lil_csv.split(',')).reshape(1,len(CAMPAIGN_FIELDS)),\n",
    "            columns=CAMPAIGN_FIELDS\n",
    "        )\n",
    "        df = df.append(df_temp)\n",
    "        df['Ctr'] = df.Ctr.str.split('%', expand = True)[0]\n",
    "    df[df.columns.difference(['CampaignStatus', 'AdvertisingChannelType', 'BiddingStrategyType', 'StartDate', 'EndDate'])] = df[df.columns.difference(\n",
    "        ['CampaignStatus', 'AdvertisingChannelType', 'BiddingStrategyType', 'StartDate', 'EndDate'])].apply(pd.to_numeric, errors='coerce')\n",
    "    df[df.columns.difference(['ExternalCustomerId', 'CampaignId', 'AdvertisingChannelType', 'CampaignStatus', 'BiddingStrategyType', 'StartDate', 'EndDate', 'Impressions', 'Clicks', 'Conversions', 'Ctr'])] = df[df.columns.difference(\n",
    "        ['ExternalCustomerId', 'CampaignId', 'CampaignStatus', 'AdvertisingChannelType', 'BiddingStrategyType', 'StartDate', 'EndDate', 'Impressions', 'Clicks', 'Conversions', 'Ctr'])].div(1000000)\n",
    "    df[['StartDate','EndDate']] = df[['StartDate','EndDate']].apply( pd.to_datetime, errors='coerce' )\n",
    "    return df\n",
    "\n",
    "\n"
   ]
  },
  {
   "cell_type": "code",
   "execution_count": null,
   "metadata": {
    "hidden": true
   },
   "outputs": [],
   "source": [
    "if __name__ == '__main__':\n",
    "    # Initialize client object.\n",
    "    campaign_id = 1809236789\n",
    "    client = adwords.AdWordsClient.LoadFromStorage(AUTH_FILE_PATH)\n",
    "    campaign_insights = get_campaign_insights(client, campaign_id=campaign_id)"
   ]
  },
  {
   "cell_type": "code",
   "execution_count": null,
   "metadata": {
    "hidden": true
   },
   "outputs": [],
   "source": [
    "campaign_insights"
   ]
  },
  {
   "cell_type": "code",
   "execution_count": null,
   "metadata": {
    "hidden": true
   },
   "outputs": [],
   "source": [
    "ADGROUP_FIELDS = ['ExternalCustomerId','CampaignId', 'AdGroupType', 'AdGroupId', 'AdGroupStatus',\n",
    "                  'CpmBid','CpvBid', 'CpcBid', 'TargetCpa', 'BiddingStrategyType','Cost',\n",
    "                   'AverageCost','Impressions', 'Clicks','Conversions',\n",
    "                   'AverageCpc','CostPerConversion']\n",
    "# ADGROUP_FIELDS = ['ExternalCustomerId','CampaignId', 'AdGroupType', 'AdGroupId','ConversionCategoryName']\n",
    "def get_adgroup_insights(client, campaign_id=None, adgroup_id=None, date_preset=None):\n",
    "    client.SetClientCustomerId(CUSTOMER_SERVICE_ID)\n",
    "    report_downloader = client.GetReportDownloader(version='v201809')\n",
    "    if date_preset is None:\n",
    "        date_preset = 'ALL_TIME'\n",
    "    else:\n",
    "        date_preset = date_preset\n",
    "    # Create report definition.\n",
    "    if campaign_id is not None and adgroup_id is None:\n",
    "        operand = {\n",
    "                    'field': 'CampaignId',\n",
    "                    'operator': 'EQUALS',\n",
    "                    'values':[campaign_id]\n",
    "        }\n",
    "    elif adgroup_id is not None:\n",
    "        operand = {\n",
    "                    'field': 'AdGroupId',\n",
    "                    'operator': 'EQUALS',\n",
    "                    'values':[adgroup_id]\n",
    "        }\n",
    "    else:\n",
    "        print('get_adgroup_insights: Missing arguments campaign_id or adgroup_id.' )\n",
    "        operand = None\n",
    "        return\n",
    "    report = {\n",
    "        'reportName': 'ADGROUP_PERFORMANCE_REPORT',\n",
    "#         'dateRangeType': 'CUSTOM_DATE',\n",
    "        'dateRangeType': date_preset,\n",
    "        'reportType': 'ADGROUP_PERFORMANCE_REPORT',\n",
    "        'downloadFormat': 'CSV',\n",
    "        'selector': {\n",
    "            'fields': ADGROUP_FIELDS,\n",
    "#             'dateRange': {'min': '20190301','max': '20190401'},\n",
    "            'predicates': [\n",
    "                operand\n",
    "            ]\n",
    "        }\n",
    "    }\n",
    "    # Print out the report as a string\n",
    "    csv = report_downloader.DownloadReportAsString(  \n",
    "        report, skip_report_header=True, skip_column_header=True,   \n",
    "        skip_report_summary=True, include_zero_impressions=True,client_customer_id=CUSTOMER_SERVICE_ID)\n",
    "    csv_list = csv.split('\\n')[:-1]\n",
    "    df = pd.DataFrame()\n",
    "    for lil_csv in csv_list:\n",
    "        df_temp = pd.DataFrame(\n",
    "            data=np.array(lil_csv.split(',')).reshape(1,len(ADGROUP_FIELDS)),\n",
    "            columns=ADGROUP_FIELDS\n",
    "        )\n",
    "        df = df.append(df_temp)\n",
    "    df[df.columns.difference(['AdGroupType', 'AdGroupStatus', 'BiddingStrategyType'])] = df[df.columns.difference(\n",
    "        ['AdGroupType', 'AdGroupStatus', 'BiddingStrategyType'])].apply(pd.to_numeric, errors='coerce')\n",
    "    df[df.columns.difference( ['ExternalCustomerId', 'CampaignId', 'AdGroupType', 'AdGroupId', 'AdGroupStatus', 'BiddingStrategyType', 'Conversions'] )] = df[df.columns.difference(\n",
    "        ['ExternalCustomerId', 'CampaignId', 'AdGroupType', 'AdGroupId', 'AdGroupStatus', 'BiddingStrategyType', 'Conversions'])].div(1000000)\n",
    "\n",
    "    return df.reset_index(drop=True)\n",
    "\n",
    "if __name__ == '__main__':\n",
    "    # Initialize client object.\n",
    "    client = adwords.AdWordsClient.LoadFromStorage(AUTH_FILE_PATH)\n",
    "#     adgroup_insights = get_adgroup_insights(client)\n",
    "    adgroup_insights = get_adgroup_insights(client, campaign_id=campaign_id)"
   ]
  },
  {
   "cell_type": "markdown",
   "metadata": {
    "heading_collapsed": true
   },
   "source": [
    "## Retrieve Age Range Performance Report"
   ]
  },
  {
   "cell_type": "code",
   "execution_count": null,
   "metadata": {
    "hidden": true
   },
   "outputs": [],
   "source": [
    "AGE_RANGE_FIELDS = ['ExternalCustomerId','CampaignId', 'AdGroupId','Criteria', 'Id', 'AdGroupStatus',\n",
    "                  'CpmBid', 'CpcBid', 'BiddingStrategyType','Cost',\n",
    "                   'AverageCost','Impressions', 'Clicks','Conversions',\n",
    "                   'AverageCpc','CostPerConversion']\n",
    "# AGE_RANGE_FIELDS = ['ExternalCustomerId','CampaignId', 'AdGroupType', 'AdGroupId','ConversionCategoryName']\n",
    "def get_age_range_insights(client, campaign_id=None, adgroup_id=None, date_preset=None):\n",
    "    client.SetClientCustomerId(CUSTOMER_SERVICE_ID)\n",
    "    report_downloader = client.GetReportDownloader(version='v201809')\n",
    "    if date_preset is None:\n",
    "        date_preset = 'ALL_TIME'\n",
    "    else:\n",
    "        date_preset = date_preset\n",
    "    # Create report definition.\n",
    "    if campaign_id is not None and adgroup_id is None:\n",
    "        operand = {\n",
    "                    'field': 'CampaignId',\n",
    "                    'operator': 'EQUALS',\n",
    "                    'values':[campaign_id]\n",
    "        }\n",
    "    elif adgroup_id is not None:\n",
    "        operand = {\n",
    "                    'field': 'AdGroupId',\n",
    "                    'operator': 'EQUALS',\n",
    "                    'values':[adgroup_id]\n",
    "        }\n",
    "    else:\n",
    "        print('get_age_range_insights: Missing arguments campaign_id or adgroup_id.' )\n",
    "        operand = None\n",
    "        return\n",
    "    report = {\n",
    "        'reportName': 'AGE_RANGE_PERFORMANCE_REPORT',\n",
    "        'dateRangeType': date_preset,\n",
    "        'reportType': 'AGE_RANGE_PERFORMANCE_REPORT',\n",
    "        'downloadFormat': 'CSV',\n",
    "        'selector': {\n",
    "            'fields': AGE_RANGE_FIELDS,\n",
    "            'predicates': [\n",
    "                operand\n",
    "            ]\n",
    "        }\n",
    "    }\n",
    "    # Print out the report as a string\n",
    "    csv = report_downloader.DownloadReportAsString(  \n",
    "        report, skip_report_header=True, skip_column_header=True,   \n",
    "        skip_report_summary=True, include_zero_impressions=True,client_customer_id=CUSTOMER_SERVICE_ID)\n",
    "    csv_list = csv.split('\\n')[:-1]\n",
    "    df = pd.DataFrame()\n",
    "    for lil_csv in csv_list:\n",
    "        df_temp = pd.DataFrame(\n",
    "            data=np.array(lil_csv.split(',')).reshape(1,len(AGE_RANGE_FIELDS)),\n",
    "            columns=AGE_RANGE_FIELDS\n",
    "        )\n",
    "        df = df.append(df_temp)\n",
    "    df[df.columns.difference(['AdGroupType', 'AdGroupStatus', 'BiddingStrategyType', 'Criteria'])] = df[df.columns.difference(\n",
    "        ['AdGroupType', 'AdGroupStatus', 'BiddingStrategyType', 'Criteria'])].apply(pd.to_numeric, errors='coerce')\n",
    "    df[df.columns.difference( ['ExternalCustomerId', 'CampaignId','Criteria', 'Id', 'AdGroupType', 'AdGroupId', 'AdGroupStatus', 'BiddingStrategyType','Impressions', 'Clicks', 'Conversions'] )] = df[df.columns.difference(\n",
    "        ['ExternalCustomerId', 'CampaignId', 'Criteria', 'Id', 'AdGroupType', 'AdGroupId', 'AdGroupStatus', 'BiddingStrategyType','Impressions', 'Clicks', 'Conversions'])].div(1000000)\n",
    "\n",
    "    return df.reset_index(drop=True)\n",
    "\n",
    "# if __name__ == '__main__':\n",
    "# Initialize client object.\n",
    "client = adwords.AdWordsClient.LoadFromStorage(AUTH_FILE_PATH)\n",
    "#     adgroup_insights = get_age_range_insights(client)\n",
    "adgroup_insights = get_age_range_insights(client, campaign_id=1747836670, adgroup_id=68524904775)"
   ]
  },
  {
   "cell_type": "markdown",
   "metadata": {
    "heading_collapsed": true
   },
   "source": [
    "## Retrieve Performance Report from Different Criterions"
   ]
  },
  {
   "cell_type": "code",
   "execution_count": null,
   "metadata": {
    "hidden": true
   },
   "outputs": [],
   "source": [
    "# URL\n",
    "URL_FIELDS_LIST = [\n",
    "    'ExternalCustomerId', 'CampaignId', 'AdGroupId', 'AdGroupStatus', 'Cost', 'AverageCost',\n",
    "    'Impressions', 'Clicks', 'Conversions', 'AverageCpc', 'CostPerConversion', 'DisplayName', ]\n",
    "\n",
    "# CRITERIA,\n",
    "CRITERIA_FIELDS_LIST = [\n",
    "    'ExternalCustomerId', 'CampaignId', 'AdGroupId', 'Criteria', 'Id', 'AdGroupStatus', 'CpmBid', 'CpcBid',\n",
    "    'Cost', 'AverageCost', 'Impressions', 'Clicks', 'Conversions', 'AverageCpc', 'CostPerConversion']\n",
    "\n",
    "# AUDIENCE, AGE_RANGE, DISPLAY_KEYWORD\n",
    "BIDDABLE_FIELDS_LIST = [\n",
    "    'ExternalCustomerId', 'CampaignId', 'AdGroupId', 'Criteria', 'Id', 'AdGroupStatus', 'CpmBid', 'CpcBid',\n",
    "    'BiddingStrategyType', 'Cost', 'AverageCost', 'Impressions', 'Clicks', 'Conversions', 'AverageCpc', 'CostPerConversion']\n",
    "\n",
    "# ADGROUP\n",
    "ADGROUP_FIELDS_LIST = [\n",
    "    'ExternalCustomerId', 'CampaignId', 'AdGroupType', 'AdGroupId', 'AdGroupStatus', 'CpmBid', 'CpvBid', 'CpcBid', 'TargetCpa',\n",
    "    'BiddingStrategyType', 'Cost', 'AverageCost', 'Impressions', 'Clicks', 'Conversions', 'AverageCpc', 'CostPerConversion']\n",
    "\n",
    "NON_NUMERIC_FIELDS_LIST = [\n",
    "    'Ad group type', 'Ad group state', 'Bid Strategy Type', 'Keyword', 'Age Range', 'Audience', 'Keyword / Placement', 'Criteria Display Name']\n",
    "\n",
    "NUMERIC_FIELDS_LIST = [\n",
    "    'Max. CPM', 'Max. CPV', 'Max. CPC', 'Default max. CPC', 'Target CPA', 'Cost', 'Avg. Cost', 'Avg. CPC', 'Cost / conv.']\n",
    "\n",
    "FIELD_INDEX = {\n",
    "    'ADGROUP': ADGROUP_FIELDS_LIST,\n",
    "    'URL': URL_FIELDS_LIST,\n",
    "    'CRITERIA': CRITERIA_FIELDS_LIST,\n",
    "    'AUDIENCE': BIDDABLE_FIELDS_LIST,\n",
    "    'AGE_RANGE': BIDDABLE_FIELDS_LIST,\n",
    "    'DISPLAY_KEYWORD': BIDDABLE_FIELDS_LIST,\n",
    "}\n",
    "\n",
    "ADGROUP_FIELDS_LIST  = [\n",
    "    'customer_id', 'campaign_id', 'channel_type', 'adgroup_id', 'status', 'cpm_bid', 'cpv_bid', 'cpc_bid', 'cpa_bid', 'bidding_type', 'spend', 'cost_per_target', 'impressions', 'clicks', 'conversions', 'cost_per_click', 'cost_per_conversion']\n",
    "URL_FIELDS_LIST      = [\n",
    "    'customer_id', 'campaign_id', 'adgroup_id', 'status', 'spend', 'cost_per_target', 'impressions', 'clicks', 'conversions', 'cost_per_click', 'cost_per_conversion', 'url_display_name']\n",
    "CRITERIA_FIELDS_LIST = [\n",
    "    'customer_id', 'campaign_id', 'adgroup_id', 'keyword_placement', 'keyword_id', 'status', 'cpm_bid', 'cpc_bid', 'spend', 'cost_per_target', 'impressions', 'clicks', 'conversions', 'cost_per_click', 'cost_per_conversion']\n",
    "AUDIENCE_FIELDS_LIST = [\n",
    "    'customer_id', 'campaign_id', 'adgroup_id', 'audience', 'criterion_id', 'status', 'cpm_bid', 'cpc_bid', 'bidding_type', 'spend', 'cost_per_target', 'impressions', 'clicks', 'conversions', 'cost_per_click', 'cost_per_conversion']\n",
    "AGE_RANGE_FIELDS_LIST = [\n",
    "    'customer_id', 'campaign_id', 'adgroup_id', 'age_range', 'criterion_id', 'status', 'cpm_bid', 'cpc_bid', 'bidding_type', 'spend', 'cost_per_target', 'impressions', 'clicks', 'conversions', 'cost_per_click', 'cost_per_conversion']\n",
    "BIDDABLE_FIELDS_LIST = [\n",
    "    'customer_id', 'campaign_id', 'adgroup_id', 'keyword', 'keyword_id', 'status', 'cpm_bid', 'cpc_bid', 'bidding_type', 'spend', 'cost_per_target', 'impressions', 'clicks', 'conversions', 'cost_per_click', 'cost_per_conversion']\n",
    "\n",
    "COLUMN_INDEX = {\n",
    "    'ADGROUP': ADGROUP_FIELDS_LIST,\n",
    "    'URL': URL_FIELDS_LIST,\n",
    "    'CRITERIA': CRITERIA_FIELDS_LIST,\n",
    "    'AUDIENCE': AUDIENCE_FIELDS_LIST,\n",
    "    'AGE_RANGE': AGE_RANGE_FIELDS_LIST,\n",
    "    'DISPLAY_KEYWORD': BIDDABLE_FIELDS_LIST,\n",
    "}\n",
    "DATABASE_INDEX = {\n",
    "    'ADGROUP': 'adgroup_insights',\n",
    "    'URL': 'url_insights',\n",
    "    'CRITERIA': 'criteria_insights',\n",
    "    'AUDIENCE': 'audience_insights',\n",
    "    'AGE_RANGE': 'age_range_insights',\n",
    "    'DISPLAY_KEYWORD': 'display_keyword_insights',\n",
    "}"
   ]
  },
  {
   "cell_type": "code",
   "execution_count": null,
   "metadata": {
    "hidden": true,
    "scrolled": false
   },
   "outputs": [],
   "source": [
    "\n",
    "def get_performance_insights(client, campaign_id=None, adgroup_id=None, date_preset=None, performance_type='ADGROUP'):\n",
    "    client.SetClientCustomerId(CUSTOMER_SERVICE_ID)\n",
    "    report_downloader = client.GetReportDownloader(version='v201809')\n",
    "    if date_preset is None:\n",
    "        date_preset = 'ALL_TIME'\n",
    "    # Create report definition.\n",
    "    if campaign_id is not None and adgroup_id is None:\n",
    "        operand = {\n",
    "            'field': 'CampaignId',\n",
    "            'operator': 'EQUALS',\n",
    "            'values': [campaign_id]\n",
    "        }\n",
    "    elif adgroup_id is not None:\n",
    "        operand = {\n",
    "            'field': 'AdGroupId',\n",
    "            'operator': 'EQUALS',\n",
    "            'values': [adgroup_id]\n",
    "        }\n",
    "    else:\n",
    "        print('get_audience_insights: Missing arguments campaign_id or adgroup_id.')\n",
    "        operand = None\n",
    "        return\n",
    "    report = {\n",
    "        'downloadFormat': 'CSV',\n",
    "        'reportName': performance_type+'_PERFORMANCE_REPORT',\n",
    "        'reportType': performance_type+'_PERFORMANCE_REPORT',\n",
    "        'dateRangeType': date_preset,\n",
    "        'selector': {\n",
    "            'fields': FIELD_INDEX[performance_type],\n",
    "            'predicates': [operand]\n",
    "        }\n",
    "    }\n",
    "    # Print out the report as a string\n",
    "    with open(performance_type+'.csv', 'wb') as output_file:\n",
    "        report_downloader.DownloadReport(\n",
    "            report, output=output_file, skip_report_header=True, skip_column_header=False,\n",
    "            skip_report_summary=True, include_zero_impressions=False, client_customer_id=CUSTOMER_SERVICE_ID)\n",
    "    with open(performance_type+'.csv')as csv_file:\n",
    "        df = pd.read_csv(csv_file, sep=\",\", quotechar='\"')\n",
    "        \n",
    "        df[df.columns.difference( NON_NUMERIC_FIELDS_LIST )] = df[df.columns.difference( NON_NUMERIC_FIELDS_LIST )].apply(pd.to_numeric, errors='coerce')\n",
    "        \n",
    "        df[df.columns.intersection( NUMERIC_FIELDS_LIST )] = df[df.columns.intersection( NUMERIC_FIELDS_LIST )].div(1000000)\n",
    "        \n",
    "        df.columns = COLUMN_INDEX[performance_type]\n",
    "        gdn_db.into_table( df, DATABASE_INDEX[performance_type] )\n",
    "        return df.sort_values(by=['impressions'], ascending=False).reset_index(drop=True)\n",
    "\n",
    "\n",
    "if __name__ == '__main__':\n",
    "    # Initialize client object.\n",
    "    # URL\n",
    "    # CRITERIA\n",
    "    # AUDIENCE, AGE_RANGE, DISPLAY_KEYWORD\n",
    "    from ai_optimizer.codes import gdn_db\n",
    "    client = adwords.AdWordsClient.LoadFromStorage(AUTH_FILE_PATH)\n",
    "    display_keyword_insights = get_performance_insights(\n",
    "        client, campaign_id=1747836664, adgroup_id=68524904535, performance_type='DISPLAY_KEYWORD')"
   ]
  },
  {
   "cell_type": "markdown",
   "metadata": {
    "heading_collapsed": true
   },
   "source": [
    "## Make AdGroup"
   ]
  },
  {
   "cell_type": "code",
   "execution_count": null,
   "metadata": {
    "hidden": true,
    "scrolled": false
   },
   "outputs": [],
   "source": [
    "from googleads import adwords\n",
    "CUSTOMER_SERVICE_ID = '3637290511'\n",
    "client.SetClientCustomerId(CUSTOMER_SERVICE_ID)\n",
    "AD_GROUP_ID = 68524904055\n",
    "CPC_BID_MICRO_AMOUNT = '4000000'\n",
    "\n",
    "\n",
    "def update_adgroup_bid(client, ad_group_id, bid_micro_amount=None):\n",
    "    # Initialize appropriate service.\n",
    "    ad_group_service = client.GetService('AdGroupService', version='v201809')\n",
    "    \n",
    "    # Construct operations and update an ad group.\n",
    "    operations = [{\n",
    "        'operator': 'SET',\n",
    "        'operand': {\n",
    "            'id': ad_group_id,\n",
    "            'status': 'ENABLED'\n",
    "        }\n",
    "    }]\n",
    "  \n",
    "    if bid_micro_amount:\n",
    "        operations[0]['operand']['biddingStrategyConfiguration'] = {\n",
    "            'bids': [{\n",
    "                'xsi_type': 'CpcBid',\n",
    "                'bid': {\n",
    "                    'microAmount': bid_micro_amount,\n",
    "                }\n",
    "            }]\n",
    "        }\n",
    "  \n",
    "    ad_groups = ad_group_service.mutate(operations)\n",
    "    return ad_groups\n",
    "\n",
    "if __name__ == '__main__':\n",
    "    # Initialize client object.\n",
    "    adwords_client = adwords.AdWordsClient.LoadFromStorage(AUTH_FILE_PATH)\n",
    "    adwords_client.SetClientCustomerId(CUSTOMER_SERVICE_ID)\n",
    "    update_adgroup_bid(adwords_client, AD_GROUP_ID, CPC_BID_MICRO_AMOUNT)"
   ]
  },
  {
   "cell_type": "code",
   "execution_count": null,
   "metadata": {
    "hidden": true,
    "scrolled": true
   },
   "outputs": [],
   "source": [
    "\n",
    "adwords_client = adwords.AdWordsClient.LoadFromStorage(AUTH_FILE_PATH)\n",
    "adwords_client.SetClientCustomerId(CUSTOMER_SERVICE_ID)\n",
    "update_adgroup_bid(adwords_client, AD_GROUP_ID, CPC_BID_MICRO_AMOUNT)"
   ]
  },
  {
   "cell_type": "code",
   "execution_count": null,
   "metadata": {
    "hidden": true
   },
   "outputs": [],
   "source": [
    "def retrieve_campaign_params(client, campaign_id):\n",
    "    _FIELDS = ['CampaignId', 'Name']\n",
    "    selector= [{\n",
    "        'fields': _FIELDS,\n",
    "    #             'dateRange': {'min': '20190301','max': '20190401'},\n",
    "        'predicates': [\n",
    "            {\n",
    "                'field': 'CampaignId',\n",
    "                'operator': 'EQUALS',\n",
    "                'values':[campaign_id]\n",
    "            }\n",
    "        ]\n",
    "    }]\n",
    "    campaign_service = client.GetService('CampaignService', version='v201809')\n",
    "    campaign_params = campaign_service.get(selector)\n",
    "    return campaign_params"
   ]
  },
  {
   "cell_type": "markdown",
   "metadata": {
    "heading_collapsed": true
   },
   "source": [
    "## Retrive AdGroup Params"
   ]
  },
  {
   "cell_type": "markdown",
   "metadata": {
    "hidden": true
   },
   "source": [
    "### Params"
   ]
  },
  {
   "cell_type": "markdown",
   "metadata": {
    "hidden": true
   },
   "source": [
    "#### AdGroup"
   ]
  },
  {
   "cell_type": "code",
   "execution_count": null,
   "metadata": {
    "hidden": true
   },
   "outputs": [],
   "source": [
    "def retrieve_ad_group_params(client, ad_group_id):\n",
    "    _FIELDS = ['CampaignId', 'AdGroupId', 'Name', 'CpcBid', 'BiddingStrategyId','BiddingStrategyName','BiddingStrategySource', 'BiddingStrategyType']\n",
    "    selector= [{\n",
    "        'fields': _FIELDS,\n",
    "    #             'dateRange': {'min': '20190301','max': '20190401'},\n",
    "        'predicates': [\n",
    "            {\n",
    "                'field': 'AdGroupId',\n",
    "                'operator': 'EQUALS',\n",
    "                'values':[ad_group_id]\n",
    "            }\n",
    "        ]\n",
    "    }]\n",
    "    ad_group_service = client.GetService('AdGroupService', version='v201809')\n",
    "    ad_group_params = ad_group_service.get(selector)\n",
    "    return ad_group_params\n",
    "\n",
    "def make_ad_group(ad_group_id):\n",
    "    ad_group_params = retrieve_ad_group_params(client, ad_group_id)\n",
    "    campaign_id = ad_group_params['entries'][0]['campaignId']\n",
    "    name = ad_group_params['entries'][0]['name']\n",
    "    xsi_type = ad_group_params['entries'][0]['biddingStrategyConfiguration']['bids'][0]['Bids.Type']\n",
    "    micro_amount = ad_group_params['entries'][0]['biddingStrategyConfiguration']['bids'][0]['bid']['microAmount']\n",
    "    operations = [{\n",
    "        'operator': 'ADD',\n",
    "        'operand': {\n",
    "            'campaignId': campaign_id,\n",
    "            'name':  'Mutant {}'.format(name),\n",
    "            'status': 'ENABLED',\n",
    "            'biddingStrategyConfiguration': {\n",
    "                'bids': [\n",
    "                    {\n",
    "                        'xsi_type': xsi_type,\n",
    "                        'bid': {\n",
    "                            'microAmount': micro_amount\n",
    "                        }\n",
    "                    }\n",
    "                ]\n",
    "            }\n",
    "        }\n",
    "    }]\n",
    "    ad_group_service = client.GetService('AdGroupService', version='v201809')\n",
    "    ad_groups = ad_group_service.mutate(operations)\n",
    "    return ad_groups"
   ]
  },
  {
   "cell_type": "markdown",
   "metadata": {
    "hidden": true
   },
   "source": [
    "#### Ad"
   ]
  },
  {
   "cell_type": "code",
   "execution_count": null,
   "metadata": {
    "hidden": true
   },
   "outputs": [],
   "source": [
    "def retrive_ad_params(ad_group_id):\n",
    "    ad_params_list = []\n",
    "    ad_criteria = dict()\n",
    "    _FIELDS = ['AdGroupId', 'HeadlinePart1', 'HeadlinePart2', 'DisplayUrl', 'CreativeFinalUrls', 'Description', 'Url']\n",
    "    selector= [{\n",
    "        'fields': _FIELDS,\n",
    "        'predicates': [\n",
    "            {\n",
    "                'field': 'AdGroupId',\n",
    "                'operator': 'EQUALS',\n",
    "                'values':[ad_group_id]\n",
    "            }\n",
    "        ]\n",
    "    }]\n",
    "    ad_service = client.GetService('AdGroupAdService', version='v201809')\n",
    "    ad_params = ad_service.get(selector)\n",
    "    for entry in ad_params['entries']:\n",
    "        ad_criteria['id'] = entry['ad']['id']\n",
    "        ad_params_list.append(copy.deepcopy(ad_criteria))\n",
    "    return ad_params_list\n",
    "\n",
    "def assign_ad_to_ad_group(ad_group_id, ad_params_list):\n",
    "    operations = []\n",
    "    for ad_params in ad_params_list:\n",
    "        operations.append({\n",
    "            'operator': 'ADD',\n",
    "            'operand': {\n",
    "                'adGroupId': ad_group_id,\n",
    "                'status': 'ENABLED',\n",
    "                'ad': ad_params\n",
    "            }\n",
    "        })\n",
    "    ad_group_service = client.GetService('AdGroupAdService', version='v201809')\n",
    "    ad_groups = ad_group_service.mutate(operations)\n",
    "    return ad_groups"
   ]
  },
  {
   "cell_type": "markdown",
   "metadata": {
    "hidden": true
   },
   "source": [
    "### Criterion"
   ]
  },
  {
   "cell_type": "code",
   "execution_count": null,
   "metadata": {
    "hidden": true
   },
   "outputs": [],
   "source": [
    "def retrieve_ad_group_criterion(client, ad_group_id):\n",
    "    _FIELDS = ['AdGroupId', 'CriteriaType', 'UserInterestId', 'UserInterestName', 'UserListId', 'LabelIds']\n",
    "    selector= [{\n",
    "        'fields': _FIELDS,\n",
    "    #             'dateRange': {'min': '20190301','max': '20190401'},\n",
    "        'predicates': [\n",
    "            {\n",
    "                'field': 'AdGroupId',\n",
    "                'operator': 'EQUALS',\n",
    "                'values':[ad_group_id]\n",
    "            }\n",
    "        ]\n",
    "    }]\n",
    "    ad_group_service = client.GetService('AdGroupCriterionService', version='v201809')\n",
    "    ad_group_criterion = ad_group_service.get(selector)\n",
    "    return ad_group_criterion\n",
    "\n",
    "def make_adgroup_criterion(new_adgroup_id = None, old_ad_group_criterion=None):\n",
    "    if new_adgroup_id is None and old_ad_group_criterion is None:\n",
    "        raise ValueError('new_adgroup_id and old_ad_group_criterion is Required.')\n",
    "    biddable_criterion = dict()\n",
    "    negative_criterion = dict()\n",
    "    biddable_criterion['adGroupId'] = new_adgroup_id\n",
    "    negative_criterion['adGroupId'] = new_adgroup_id\n",
    "\n",
    "    biddable_ad_group_criteria_list = list()\n",
    "    negative_ad_group_criteria_list = list()\n",
    "    for entry in old_ad_group_criterion['entries']:\n",
    "        criterion = dict()\n",
    "        \n",
    "        if 'AgeRange' in entry['criterion']['Criterion.Type']:\n",
    "            criterion['id'] = entry['criterion']['id']\n",
    "            criterion['xsi_type'] = entry['criterion']['Criterion.Type']\n",
    "            \n",
    "        elif 'Placement'  in entry['criterion']['Criterion.Type']:\n",
    "            criterion['id'] = entry['criterion']['id']\n",
    "            criterion['url'] = entry['criterion']['url']\n",
    "            criterion['xsi_type'] = entry['criterion']['Criterion.Type']\n",
    "\n",
    "        elif 'Keyword'  in entry['criterion']['Criterion.Type']:\n",
    "            criterion['id'] = entry['criterion']['id']\n",
    "            criterion['matchType'] = entry['criterion']['matchType']\n",
    "            criterion['text'] = entry['criterion']['text']\n",
    "            criterion['xsi_type'] = entry['criterion']['Criterion.Type']\n",
    "\n",
    "        elif 'CriterionUserInterest'  in entry['criterion']['Criterion.Type']:\n",
    "            criterion['id'] = entry['criterion']['id']\n",
    "            criterion['userInterestId'] = entry['criterion']['userInterestId']\n",
    "            criterion['xsi_type'] = entry['criterion']['Criterion.Type']\n",
    "        else:\n",
    "            pass\n",
    "        if criterion:\n",
    "            if 'BiddableAdGroupCriterion' in entry['AdGroupCriterion.Type']:\n",
    "                biddable_criterion['xsi_type'] = entry['AdGroupCriterion.Type']\n",
    "                biddable_criterion['criterion'] = criterion\n",
    "                biddable_ad_group_criteria_list.append(copy.deepcopy(biddable_criterion))\n",
    "\n",
    "            elif 'NegativeAdGroupCriterion' in entry['AdGroupCriterion.Type']:\n",
    "                negative_criterion['xsi_type'] = entry['AdGroupCriterion.Type']\n",
    "                negative_criterion['criterion'] = criterion\n",
    "                negative_ad_group_criteria_list.append(copy.deepcopy(negative_criterion))\n",
    "    return biddable_ad_group_criteria_list, negative_ad_group_criteria_list\n",
    " \n",
    "\n",
    "def assign_criterion_to_ad_group(client, ad_group_id, ad_group_criterion):\n",
    "    '''\n",
    "    an example of addong 4 type of criterion to new adgroup,\n",
    "    if trying to exclude certain criterions, \n",
    "    change 'xsi_type' from 'BiddableAdGroupCriterion' to 'NegativeAdGroupCriterion' in ad_group_criteria object\n",
    "    '''\n",
    "    # Initialize appropriate service.\n",
    "    ad_group_criterion_service = client.GetService(\n",
    "        'AdGroupCriterionService', version='v201809')\n",
    "    # Create the ad group criteria.  \n",
    "    # Create operations.\n",
    "    operations = []\n",
    "    for criterion in ad_group_criterion:\n",
    "        operations.append({\n",
    "            'operator': 'ADD',\n",
    "            'operand': criterion\n",
    "        })\n",
    "    response = ad_group_criterion_service.mutate(operations)\n",
    "    return response\n",
    "\n",
    "def make_adgroup_criterion_by_score(campaign_id, new_ad_group_id):\n",
    "    criterions=[]\n",
    "    for criteria in SCORE_INDEX.keys():\n",
    "        df = gdn_db.get_table(campaign_id=campaign_id, table=SCORE_INDEX[criteria]+\"_score\").head()\n",
    "        if not df.empty:\n",
    "#             print(criteria)\n",
    "            sub_criterions = []\n",
    "            df = df.sort_values(by=['score'], ascending=False).reset_index(drop=True).drop_duplicates([CRITERIA_COLUMN_INDEX[criteria]])\n",
    "            criterion = {\n",
    "                'adGroupId': new_ad_group_id,\n",
    "                'xsi_type': 'BiddableAdGroupCriterion',\n",
    "                'criterion': {\n",
    "                    'xsi_type': None,\n",
    "                    'id': None\n",
    "                }\n",
    "            }\n",
    "            if criteria == 'AGE_RANGE':\n",
    "                criterion['criterion']['xsi_type'] = CRITERIA_TYPE_INDEX[criteria]\n",
    "                for i, criterion_id in enumerate( df[CRITERIA_COLUMN_INDEX[criteria]] ):\n",
    "                    if CRITERIA_TYPE_INDEX[criteria] == 'AgeRange':\n",
    "                        criterion['criterion']['id'] = criterion_id\n",
    "                        sub_criterions.append(copy.deepcopy(criterion))\n",
    "            else:\n",
    "                criterion['criterion']['xsi_type'] = CRITERIA_TYPE_INDEX[criteria]\n",
    "                for i, criterion_id in enumerate( df[CRITERIA_COLUMN_INDEX[criteria]] ):\n",
    "                    if CRITERIA_TYPE_INDEX[criteria] == 'Placement':\n",
    "                        criterion['criterion']['id'] = criterion_id\n",
    "                        criterion['criterion']['url'] = df['url_display_name'].iloc[0]\n",
    "\n",
    "                    elif CRITERIA_TYPE_INDEX[criteria] == 'Keyword':\n",
    "#                         criterion['criterion']['id'] = criterion_id\n",
    "                        criterion['criterion']['matchType'] = 'BROAD'\n",
    "                        criterion['criterion']['text'] = df['keyword'].iloc[i]\n",
    "\n",
    "                    elif CRITERIA_TYPE_INDEX[criteria] == 'CriterionUserInterest':\n",
    "                        criterion['criterion']['id'] = criterion_id\n",
    "                        criterion['criterion']['userInterestId'] = criterion_id\n",
    "                    sub_criterions.append(copy.deepcopy(criterion))\n",
    "            criterions = criterions+sub_criterions\n",
    "    return criterions"
   ]
  },
  {
   "cell_type": "markdown",
   "metadata": {
    "heading_collapsed": true
   },
   "source": [
    "## Make New AdGroup With Criterion From Old AdGroup"
   ]
  },
  {
   "cell_type": "code",
   "execution_count": null,
   "metadata": {
    "hidden": true
   },
   "outputs": [],
   "source": [
    "def make_adgroup_with_criterion(old_ad_group_id):\n",
    "    # Params\n",
    "    ad_group_params = make_ad_group(old_ad_group_id)\n",
    "    new_ad_group_id = ad_group_params['value'][0]['id']\n",
    "    # Criterion\n",
    "#     old_ad_group_criterion = retrieve_ad_group_criterion(client, old_ad_group_id)\n",
    "#     biddable_criterion, negative_criterion = make_adgroup_criterion(new_ad_group_id, old_ad_group_criterion)\n",
    "#     print(biddable_criterion)\n",
    "#     new_ad_group_criterion = biddable_criterion + negative_criterion\n",
    "    new_ad_group_criterion = make_adgroup_criterion_by_score(campaign_id, new_ad_group_id)\n",
    "    result = assign_criterion_to_ad_group(client, new_ad_group_id, new_ad_group_criterion)\n",
    "    # Assign Ad Params\n",
    "    ad_params_list = retrive_ad_params(old_ad_group_id)\n",
    "    assign_ad_to_ad_group(new_ad_group_id, ad_params_list)\n",
    "    return result"
   ]
  },
  {
   "cell_type": "markdown",
   "metadata": {},
   "source": [
    "## Test Custom Affinity"
   ]
  },
  {
   "cell_type": "code",
   "execution_count": 6,
   "metadata": {},
   "outputs": [],
   "source": [
    "custom_affinity_ad_group_id = 68524903895\n",
    "similar_audience_ad_group_id = 68524904615\n",
    "ad_group_id = 70749935918"
   ]
  },
  {
   "cell_type": "markdown",
   "metadata": {},
   "source": [
    "### Criterion"
   ]
  },
  {
   "cell_type": "code",
   "execution_count": null,
   "metadata": {},
   "outputs": [],
   "source": [
    "_FIELDS = ['AdGroupId', 'CriteriaType', 'UserInterestId', 'UserInterestName', 'UserListId', 'LabelIds','CustomAffinityId',\n",
    "           'FinalUrls', 'UrlCustomParameters', 'CriteriaSamples','UserListMembershipStatus']\n",
    "selector= [{\n",
    "    'fields': _FIELDS,\n",
    "#             'dateRange': {'min': '20190301','max': '20190401'},\n",
    "    'predicates': [\n",
    "        {\n",
    "            'field': 'AdGroupId',\n",
    "            'operator': 'EQUALS',\n",
    "            'values':[ad_group_id]\n",
    "        }\n",
    "    ]\n",
    "}]\n",
    "ad_group_service = client.GetService('AdGroupCriterionService', version='v201809')\n",
    "ad_group_criterion = ad_group_service.get(selector)\n"
   ]
  },
  {
   "cell_type": "code",
   "execution_count": null,
   "metadata": {
    "scrolled": true
   },
   "outputs": [],
   "source": [
    "ad_group_criterion"
   ]
  },
  {
   "cell_type": "code",
   "execution_count": null,
   "metadata": {
    "scrolled": true
   },
   "outputs": [],
   "source": [
    "for criterion in ad_group_criterion['entries']:\n",
    "    if criterion['criterion']['type']=='CUSTOM_AFFINITY':\n",
    "        print(criterion)"
   ]
  },
  {
   "cell_type": "code",
   "execution_count": null,
   "metadata": {},
   "outputs": [],
   "source": [
    "custom_affinity_id = 2511435\n",
    "id = 456069648865"
   ]
  },
  {
   "cell_type": "markdown",
   "metadata": {},
   "source": [
    "### Params"
   ]
  },
  {
   "cell_type": "code",
   "execution_count": null,
   "metadata": {},
   "outputs": [],
   "source": [
    "_FIELDS = ['CampaignId', 'AdGroupId', 'Name', 'CpcBid', 'BiddingStrategyId','BiddingStrategyName','BiddingStrategySource',\n",
    "           'BiddingStrategyType', 'FinalUrlSuffix', 'Settings', 'UrlCustomParameters', 'TrackingUrlTemplate']\n",
    "selector= [{\n",
    "    'fields': _FIELDS,\n",
    "#             'dateRange': {'min': '20190301','max': '20190401'},\n",
    "    'predicates': [\n",
    "        {\n",
    "            'field': 'AdGroupId',\n",
    "            'operator': 'EQUALS',\n",
    "            'values':[ad_group_id]\n",
    "        }\n",
    "    ]\n",
    "}]\n",
    "ad_group_service = client.GetService('AdGroupService', version='v201809')\n",
    "ad_group_params = ad_group_service.get(selector)"
   ]
  },
  {
   "cell_type": "code",
   "execution_count": null,
   "metadata": {
    "scrolled": true
   },
   "outputs": [],
   "source": [
    "ad_group_params"
   ]
  },
  {
   "cell_type": "markdown",
   "metadata": {},
   "source": [
    "### Custom Affinity Service(get url by CustomAffinityId)"
   ]
  },
  {
   "cell_type": "code",
   "execution_count": null,
   "metadata": {},
   "outputs": [],
   "source": [
    "_FIELDS = ['CustomAffinityId', 'Name', 'Status', 'Type']\n",
    "selector= [{\n",
    "    'fields': _FIELDS,\n",
    "#             'dateRange': {'min': '20190301','max': '20190401'},\n",
    "    'predicates': [\n",
    "        {\n",
    "            'field': 'CustomAffinityId',\n",
    "            'operator': 'EQUALS',\n",
    "            'values':[custom_affinity_id]\n",
    "        }\n",
    "    ]\n",
    "}]\n",
    "ad_group_service = client.GetService('CustomAffinityService', version='v201809')\n",
    "ad_group_params = ad_group_service.get(selector)"
   ]
  },
  {
   "cell_type": "code",
   "execution_count": null,
   "metadata": {
    "scrolled": true
   },
   "outputs": [],
   "source": [
    "ad_group_params"
   ]
  },
  {
   "cell_type": "code",
   "execution_count": 7,
   "metadata": {},
   "outputs": [],
   "source": [
    "URL_FIELDS_LIST = [\n",
    "#     'Criteria','CriteriaDestinationUrl','CriterionAttachmentLevel', 'CustomerDescriptiveName', 'ExternalCustomerId',\n",
    "#     'FinalAppUrls','FinalMobileUrls', 'FinalUrls','Id','IsRestrict','Status','TrackingUrlTemplate','UrlCustomParameters',\n",
    "#     'UserListName'\n",
    "    'ExternalCustomerId', 'CampaignId', 'AdGroupId', 'AdGroupStatus', 'Cost', 'AverageCost',\n",
    "    'Impressions', 'Clicks', 'Conversions', 'AverageCpc', 'CostPerConversion',\n",
    "    'VerticalId', 'CustomerDescriptiveName', 'Criteria'\n",
    "    \n",
    "]\n",
    "# client.SetClientCustomerId(CUSTOMER_SERVICE_ID)\n",
    "report_downloader = client.GetReportDownloader(version='v201809')\n",
    "\n",
    "operand = {\n",
    "    'field': 'AdGroupId',\n",
    "    'operator': 'EQUALS',\n",
    "    'values': [ad_group_id]\n",
    "}\n",
    "\n",
    "report = {\n",
    "    'downloadFormat': 'CSV',\n",
    "    'reportName': 'DISPLAY_TOPICS_PERFORMANCE_REPORT',\n",
    "    'reportType': 'DISPLAY_TOPICS_PERFORMANCE_REPORT',\n",
    "    'dateRangeType': 'ALL_TIME',\n",
    "    'selector': {\n",
    "        'fields': URL_FIELDS_LIST,\n",
    "        'predicates': [operand]\n",
    "    }\n",
    "}\n",
    "# Print out the report as a string\n",
    "with open('url_test.csv', 'wb') as output_file:\n",
    "    report_downloader.DownloadReport(\n",
    "        report, output=output_file, skip_report_header=True, skip_column_header=False,\n",
    "        skip_report_summary=True, include_zero_impressions=False, client_customer_id=CUSTOMER_SERVICE_ID)\n",
    "with open('url_test.csv')as csv_file:\n",
    "    df = pd.read_csv(csv_file, sep=\",\", quotechar='\"')"
   ]
  },
  {
   "cell_type": "code",
   "execution_count": 8,
   "metadata": {},
   "outputs": [
    {
     "data": {
      "text/html": [
       "<div>\n",
       "<style scoped>\n",
       "    .dataframe tbody tr th:only-of-type {\n",
       "        vertical-align: middle;\n",
       "    }\n",
       "\n",
       "    .dataframe tbody tr th {\n",
       "        vertical-align: top;\n",
       "    }\n",
       "\n",
       "    .dataframe thead th {\n",
       "        text-align: right;\n",
       "    }\n",
       "</style>\n",
       "<table border=\"1\" class=\"dataframe\">\n",
       "  <thead>\n",
       "    <tr style=\"text-align: right;\">\n",
       "      <th></th>\n",
       "      <th>Customer ID</th>\n",
       "      <th>Campaign ID</th>\n",
       "      <th>Ad group ID</th>\n",
       "      <th>Ad group state</th>\n",
       "      <th>Cost</th>\n",
       "      <th>Avg. Cost</th>\n",
       "      <th>Impressions</th>\n",
       "      <th>Clicks</th>\n",
       "      <th>Conversions</th>\n",
       "      <th>Avg. CPC</th>\n",
       "      <th>Cost / conv.</th>\n",
       "      <th>Vertical ID</th>\n",
       "      <th>Client name</th>\n",
       "      <th>Topic</th>\n",
       "    </tr>\n",
       "  </thead>\n",
       "  <tbody>\n",
       "    <tr>\n",
       "      <th>0</th>\n",
       "      <td>5066360290</td>\n",
       "      <td>1837064053</td>\n",
       "      <td>70749935918</td>\n",
       "      <td>enabled</td>\n",
       "      <td>378621243</td>\n",
       "      <td>3129101</td>\n",
       "      <td>48595</td>\n",
       "      <td>121</td>\n",
       "      <td>0.0</td>\n",
       "      <td>3129101</td>\n",
       "      <td>0</td>\n",
       "      <td>78</td>\n",
       "      <td>三菱電機</td>\n",
       "      <td>Consumer Electronics</td>\n",
       "    </tr>\n",
       "  </tbody>\n",
       "</table>\n",
       "</div>"
      ],
      "text/plain": [
       "   Customer ID  Campaign ID  Ad group ID Ad group state       Cost  Avg. Cost  \\\n",
       "0   5066360290   1837064053  70749935918        enabled  378621243    3129101   \n",
       "\n",
       "   Impressions  Clicks  Conversions  Avg. CPC  Cost / conv.  Vertical ID  \\\n",
       "0        48595     121          0.0   3129101             0           78   \n",
       "\n",
       "  Client name                 Topic  \n",
       "0        三菱電機  Consumer Electronics  "
      ]
     },
     "execution_count": 8,
     "metadata": {},
     "output_type": "execute_result"
    }
   ],
   "source": [
    "df.head()"
   ]
  },
  {
   "cell_type": "code",
   "execution_count": null,
   "metadata": {},
   "outputs": [],
   "source": []
  }
 ],
 "metadata": {
  "kernelspec": {
   "display_name": "Python 3",
   "language": "python",
   "name": "python3"
  },
  "language_info": {
   "codemirror_mode": {
    "name": "ipython",
    "version": 3
   },
   "file_extension": ".py",
   "mimetype": "text/x-python",
   "name": "python",
   "nbconvert_exporter": "python",
   "pygments_lexer": "ipython3",
   "version": "3.6.7"
  },
  "varInspector": {
   "cols": {
    "lenName": 16,
    "lenType": 16,
    "lenVar": 40
   },
   "kernels_config": {
    "python": {
     "delete_cmd_postfix": "",
     "delete_cmd_prefix": "del ",
     "library": "var_list.py",
     "varRefreshCmd": "print(var_dic_list())"
    },
    "r": {
     "delete_cmd_postfix": ") ",
     "delete_cmd_prefix": "rm(",
     "library": "var_list.r",
     "varRefreshCmd": "cat(var_dic_list()) "
    }
   },
   "position": {
    "height": "562.4px",
    "left": "1166px",
    "right": "20px",
    "top": "120px",
    "width": "350px"
   },
   "types_to_exclude": [
    "module",
    "function",
    "builtin_function_or_method",
    "instance",
    "_Feature"
   ],
   "window_display": false
  }
 },
 "nbformat": 4,
 "nbformat_minor": 2
}
