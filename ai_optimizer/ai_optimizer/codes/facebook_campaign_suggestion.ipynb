{
 "cells": [
  {
   "cell_type": "code",
   "execution_count": null,
   "metadata": {},
   "outputs": [],
   "source": [
    "from pathlib import Path\n",
    "import datetime\n",
    "import time\n",
    "import facebook_business.adobjects.adset as facebook_business_adset\n",
    "import facebook_business.adobjects.campaign as facebook_business_campaign\n",
    "import facebook_business.adobjects.adsinsights as facebook_business_adsinsights\n",
    "\n",
    "import facebook_datacollector as fb_collector\n",
    "import database_controller\n",
    "\n",
    "import adgeek_permission as permission\n",
    "\n",
    "IGNORE_ADSET_STR_LIST = ['AI', 'Copy', 'COPY', 'Lookalike', 'RT', 'Look-a-like']"
   ]
  },
  {
   "cell_type": "code",
   "execution_count": null,
   "metadata": {},
   "outputs": [],
   "source": [
    "def get_adset_name(adset_id):\n",
    "    this_adset = facebook_business_adset.AdSet( adset_id).api_get(fields=[ \"name\" ])\n",
    "    return this_adset.get('name')"
   ]
  },
  {
   "cell_type": "code",
   "execution_count": null,
   "metadata": {},
   "outputs": [],
   "source": [
    "def get_account_id_by_campaign(campaign_id):\n",
    "    this_campaign = facebook_business_campaign.Campaign( campaign_id ).api_get(fields=[\"account_id\"])\n",
    "    account_id = this_campaign.get('account_id')\n",
    "    return account_id"
   ]
  },
  {
   "cell_type": "code",
   "execution_count": null,
   "metadata": {},
   "outputs": [],
   "source": [
    "def search_target_keyword(keyword):\n",
    "    from facebook_business.adobjects.targetingsearch import TargetingSearch\n",
    "    params = {\n",
    "        'q': str(keyword),\n",
    "        'type': TargetingSearch.TargetingSearchTypes.interest,\n",
    "    }\n",
    "    search_target_result_list = TargetingSearch.search(params=params)\n",
    "    return search_target_result_list"
   ]
  },
  {
   "cell_type": "code",
   "execution_count": null,
   "metadata": {},
   "outputs": [],
   "source": [
    "def retrieve_adset_interest_list(origin_adset_id):\n",
    "    this_adset = facebook_business_adset.AdSet(fbid = origin_adset_id)\n",
    "    this_adset_interest = this_adset.api_get(fields=[facebook_business_adset.AdSet.Field.targeting])\n",
    "    if this_adset_interest.get(\"targeting\") and this_adset_interest.get(\"targeting\").get(\"flexible_spec\"):\n",
    "        flexible_spec_list = this_adset_interest.get(\"targeting\").get(\"flexible_spec\")\n",
    "        if len(flexible_spec_list) > 0:\n",
    "            interests_list = flexible_spec_list[0].get('interests')\n",
    "            return interests_list\n",
    "\n",
    "    return None"
   ]
  },
  {
   "cell_type": "code",
   "execution_count": null,
   "metadata": {},
   "outputs": [],
   "source": [
    "def get_existed_all_interests(campaign_id):\n",
    "    camp = facebook_business_campaign.Campaign(campaign_id)\n",
    "    adset_ids = camp.get_ad_sets(fields = [ facebook_business_adset.AdSet.Field.id ])\n",
    "    \n",
    "    # get the existed adset's interest\n",
    "    campaign_interest_id_list = []\n",
    "    interest_id_name_mapping = {}\n",
    "    \n",
    "    for adset_id in adset_ids:\n",
    "        adset_id = adset_id.get('id')\n",
    "        adset_interests = retrieve_adset_interest_list(adset_id)\n",
    "        if adset_interests:\n",
    "            for adset_interest in adset_interests:\n",
    "                adset_interest_id = int(adset_interest.get('id'))\n",
    "                adset_interest_name = adset_interest.get('name')\n",
    "                if adset_interest_id and adset_interest_name:\n",
    "                    if adset_interest_id not in campaign_interest_id_list:\n",
    "                        interest_id_name_mapping[adset_interest_id] = adset_interest_name\n",
    "                        campaign_interest_id_list.append(adset_interest_id)\n",
    "    return campaign_interest_id_list, interest_id_name_mapping "
   ]
  },
  {
   "cell_type": "code",
   "execution_count": null,
   "metadata": {},
   "outputs": [],
   "source": [
    "def get_suggest_interets_by_keyword(interest_id, interest_name):\n",
    "    \n",
    "    suggest_id_list = []\n",
    "    suggest_id_name_mapping = {}\n",
    "    suggest_id_size_mapping = {}\n",
    "    search_target_result_list = search_target_keyword(interest_name)\n",
    "    print('[get_suggest_interets_by_keyword] search_target_result_list',search_target_result_list)\n",
    "\n",
    "    for search_target_result in search_target_result_list:\n",
    "        if search_target_result.get('id') not in suggest_id_list:\n",
    "            suggest_id_list.append(search_target_result.get('id'))\n",
    "            suggest_id_name_mapping[search_target_result.get('id')] = search_target_result.get('name')\n",
    "            suggest_id_size_mapping[search_target_result.get('id')] = search_target_result.get('audience_size')\n",
    "#     print('[get_suggest_interets_by_keyword] suggest_id_list:' , suggest_id_list)\n",
    "    print('[get_suggest_interets_by_keyword] suggest_id_name_mapping:' , suggest_id_name_mapping)\n",
    "    return suggest_id_list, suggest_id_name_mapping, suggest_id_size_mapping"
   ]
  },
  {
   "cell_type": "code",
   "execution_count": null,
   "metadata": {},
   "outputs": [],
   "source": [
    "def save_suggestion_by_adset(account_id, campaign_id, adset_id, suggest_id_set, suggest_id_name_mapping, suggest_id_size_mapping):\n",
    "    db = database_controller.Database()\n",
    "    database_fb = database_controller.FB(db)\n",
    "    for suggest_id in suggest_id_set:\n",
    "        suggest_name = suggest_id_name_mapping.get(suggest_id)\n",
    "        audience_size = suggest_id_size_mapping.get(suggest_id)\n",
    "        \n",
    "        database_fb.insert_ignore(\n",
    "            \"campaign_target_suggestion\",\n",
    "            {\n",
    "                'account_id': int(account_id),\n",
    "                'campaign_id': int(campaign_id),\n",
    "                'source_adset_id': int(adset_id),\n",
    "                'suggest_id': int(suggest_id),\n",
    "                'suggest_name': suggest_name,\n",
    "                'audience_size': int(audience_size),\n",
    "            }\n",
    "        )"
   ]
  },
  {
   "cell_type": "code",
   "execution_count": null,
   "metadata": {},
   "outputs": [],
   "source": [
    "def get_queryed_adset_list(campaign_id):\n",
    "    db = database_controller.Database()\n",
    "    database_fb = database_controller.FB(db)\n",
    "    df_source_adset_id = database_fb.retrieve(\"campaign_target_suggestion\", campaign_id, by_request_time=False)\n",
    "    if not df_source_adset_id.empty:\n",
    "        return df_source_adset_id['source_adset_id'].unique().tolist()\n",
    "    else:\n",
    "        return []"
   ]
  },
  {
   "cell_type": "code",
   "execution_count": null,
   "metadata": {},
   "outputs": [],
   "source": [
    "def get_saved_suggestion_interests(campaign_id):\n",
    "    db = database_controller.Database()\n",
    "    database_fb = database_controller.FB(db)\n",
    "    df = database_fb.retrieve(\"campaign_target_suggestion\", campaign_id, by_request_time=False)\n",
    "    df = df[['suggest_id', 'suggest_name', 'audience_size']]\n",
    "    \n",
    "    saved_suggest_id_name_dic = {}\n",
    "    saved_suggest_id_size_dic = {}\n",
    "    if not df.empty:\n",
    "        for (idx, row,) in df.iterrows():\n",
    "            row['suggest_id'], row['suggest_name'], row['audience_size']\n",
    "            saved_suggest_id_name_dic[row['suggest_id']] = row['suggest_name']\n",
    "            saved_suggest_id_size_dic[row['suggest_id']] = int(row['audience_size'])\n",
    "    else:\n",
    "        print('[get_saved_suggestion_interests] no saved suggestions')\n",
    "    return saved_suggest_id_name_dic, saved_suggest_id_size_dic"
   ]
  },
  {
   "cell_type": "code",
   "execution_count": null,
   "metadata": {},
   "outputs": [],
   "source": [
    "def process_campaign_suggestion(campaign_id):\n",
    "    print('[process_campaign_suggestion] campaign_id:', campaign_id)\n",
    "\n",
    "    #get adset which already use to get interest\n",
    "    queryed_source_adset_list = get_queryed_adset_list(campaign_id)\n",
    "#     print('[process_campaign_suggestion] queryed_source_adset_list:', queryed_source_adset_list)\n",
    "    \n",
    "    #find existed adset as source adset to get suggestion\n",
    "    account_id = get_account_id_by_campaign(campaign_id)\n",
    "    camp = facebook_business_campaign.Campaign(campaign_id)\n",
    "    adset_ids = camp.get_ad_sets(fields = [ facebook_business_adset.AdSet.Field.id ])\n",
    "    for adset_id in adset_ids:\n",
    "        adset_id = int(adset_id.get('id'))\n",
    "        \n",
    "        # only query suggest interest for new added adset\n",
    "        if adset_id in queryed_source_adset_list:\n",
    "            continue\n",
    "            \n",
    "        adset_name = get_adset_name(adset_id)  \n",
    "#         print('[process_campaign_suggestion] adset_id:', adset_id, 'adset_name:', adset_name)\n",
    "\n",
    "        is_need_ignore = False\n",
    "        for ignore_str in IGNORE_ADSET_STR_LIST:\n",
    "            if ignore_str in adset_name:\n",
    "                is_need_ignore = True\n",
    "                break\n",
    "                \n",
    "        if not is_need_ignore:\n",
    "            print('[process_campaign_suggestion] adset_id:', adset_id, 'adset_name:', adset_name)\n",
    "\n",
    "            # get interests in this adset\n",
    "            this_adset_interest_id_name_list = retrieve_adset_interest_list(adset_id)\n",
    "            print('[process_campaign_suggestion] this_adset_interest_id_name_list:', this_adset_interest_id_name_list)\n",
    "\n",
    "            # lookalike adset don't have interest\n",
    "            if not this_adset_interest_id_name_list:\n",
    "                continue\n",
    "                \n",
    "            # use each interest to find suggest interests\n",
    "            for this_adset_interest_id_name in this_adset_interest_id_name_list:\n",
    "                interest_id = this_adset_interest_id_name.get('id')\n",
    "                interest_name = this_adset_interest_id_name.get('name')\n",
    "                suggest_id_list, suggest_id_name_mapping, suggest_id_size_mapping = get_suggest_interets_by_keyword(interest_id, interest_name)\n",
    "                \n",
    "                # save suggest interests for this adset into database\n",
    "                this_suggest_set = set(suggest_id_list)\n",
    "                print('[process_campaign_suggestion] this_suggest_set:', this_suggest_set)\n",
    "                save_suggestion_by_adset(account_id, campaign_id, adset_id, this_suggest_set, suggest_id_name_mapping, suggest_id_size_mapping)\n",
    "                \n",
    "                \n",
    "            print('===========')\n",
    "            \n",
    "    print('--')"
   ]
  },
  {
   "cell_type": "code",
   "execution_count": null,
   "metadata": {},
   "outputs": [],
   "source": [
    "def save_suggestion_for_all_campaign():\n",
    "    db = database_controller.Database()\n",
    "    database_fb = database_controller.FB(db)\n",
    "    campaign_list = database_fb.get_running_campaign().to_dict('records')\n",
    "    print('[save_suggestion_for_all_campaign] current running campaign:', len(campaign_list), campaign_list )\n",
    "    \n",
    "    for campaign in campaign_list:\n",
    "        print('[save_suggestion_for_all_campaign] campaign_id:', campaign.get(\"campaign_id\"))\n",
    "        process_campaign_suggestion(campaign.get(\"campaign_id\"))"
   ]
  },
  {
   "cell_type": "code",
   "execution_count": null,
   "metadata": {},
   "outputs": [],
   "source": [
    "def get_suggestion_not_used(campaign_id):\n",
    "    # need to process each time because it may has new added adset\n",
    "    process_campaign_suggestion(campaign_id)\n",
    "    \n",
    "    saved_suggest_id_name_dic, saved_suggest_id_size_dic = get_saved_suggestion_interests(campaign_id)\n",
    "    if not saved_suggest_id_name_dic:\n",
    "        print('[get_suggestion_not_used] saved_suggest_id_name_dic None')\n",
    "        return None, None\n",
    "    \n",
    "    print('[get_suggestion_not_used] saved_suggest_id_name_dic total len:', len(saved_suggest_id_name_dic))\n",
    "    print(saved_suggest_id_name_dic)\n",
    "    print('--')\n",
    "    #need to minus used interest\n",
    "    campaign_interest_id_list, interest_id_name_mapping = get_existed_all_interests(campaign_id)\n",
    "    print(campaign_interest_id_list)\n",
    "    for interest_id in campaign_interest_id_list:\n",
    "        if interest_id in saved_suggest_id_name_dic:\n",
    "            del saved_suggest_id_name_dic[interest_id]\n",
    "    \n",
    "    print('[get_suggestion_not_used] saved_suggest_id_name_dic not use, len:', len(saved_suggest_id_name_dic))\n",
    "    return saved_suggest_id_name_dic, saved_suggest_id_size_dic"
   ]
  },
  {
   "cell_type": "code",
   "execution_count": null,
   "metadata": {},
   "outputs": [],
   "source": [
    "def main():\n",
    "    # only save suggestion once for each campaign\n",
    "    import adgeek_permission as permission\n",
    "    a_id = 237880526824540\n",
    "    c_id = 23844100165680431\n",
    "    permission.init_facebook_api(a_id)\n",
    "    saved_suggest_id_name_dic, saved_suggest_id_size_dic  = get_suggestion_not_used(c_id)\n",
    "    print('[make_suggest_adset] saved_suggest_id_name_dic', saved_suggest_id_name_dic, 'saved_suggest_id_size_dic', saved_suggest_id_size_dic)"
   ]
  },
  {
   "cell_type": "code",
   "execution_count": null,
   "metadata": {},
   "outputs": [],
   "source": [
    "if __name__ == \"__main__\":\n",
    "    main()"
   ]
  },
  {
   "cell_type": "code",
   "execution_count": 1,
   "metadata": {},
   "outputs": [
    {
     "name": "stdout",
     "output_type": "stream",
     "text": [
      "[NbConvertApp] Converting notebook facebook_campaign_suggestion.ipynb to script\n",
      "[NbConvertApp] Writing 10705 bytes to facebook_campaign_suggestion.py\n"
     ]
    }
   ],
   "source": [
    "# !jupyter nbconvert --to script facebook_campaign_suggestion.ipynb"
   ]
  },
  {
   "cell_type": "code",
   "execution_count": null,
   "metadata": {},
   "outputs": [],
   "source": []
  }
 ],
 "metadata": {
  "kernelspec": {
   "display_name": "Python 3",
   "language": "python",
   "name": "python3"
  },
  "language_info": {
   "codemirror_mode": {
    "name": "ipython",
    "version": 3
   },
   "file_extension": ".py",
   "mimetype": "text/x-python",
   "name": "python",
   "nbconvert_exporter": "python",
   "pygments_lexer": "ipython3",
   "version": "3.6.8"
  },
  "varInspector": {
   "cols": {
    "lenName": 16,
    "lenType": 16,
    "lenVar": 40
   },
   "kernels_config": {
    "python": {
     "delete_cmd_postfix": "",
     "delete_cmd_prefix": "del ",
     "library": "var_list.py",
     "varRefreshCmd": "print(var_dic_list())"
    },
    "r": {
     "delete_cmd_postfix": ") ",
     "delete_cmd_prefix": "rm(",
     "library": "var_list.r",
     "varRefreshCmd": "cat(var_dic_list()) "
    }
   },
   "types_to_exclude": [
    "module",
    "function",
    "builtin_function_or_method",
    "instance",
    "_Feature"
   ],
   "window_display": false
  }
 },
 "nbformat": 4,
 "nbformat_minor": 4
}
