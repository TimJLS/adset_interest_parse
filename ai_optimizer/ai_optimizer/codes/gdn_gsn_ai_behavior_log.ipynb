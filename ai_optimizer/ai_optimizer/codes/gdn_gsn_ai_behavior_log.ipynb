{
 "cells": [
  {
   "cell_type": "code",
   "execution_count": 1,
   "metadata": {},
   "outputs": [],
   "source": [
    "from pathlib import Path\n",
    "import time\n",
    "from googleads import adwords\n",
    "import mysql.connector\n",
    "import pandas as pd\n",
    "import datetime\n",
    "from pandas.io import sql\n",
    "from sqlalchemy import create_engine\n",
    "import pymysql\n",
    "pymysql.install_as_MySQLdb()\n",
    "import MySQLdb\n",
    "AUTH_FILE_PATH = '/home/tim_su/ai_optimizer/opt/ai_optimizer/googleads.yaml'\n",
    "adwords_client = adwords.AdWordsClient.LoadFromStorage(AUTH_FILE_PATH)\n",
    "\n",
    "import gdn_db as gdn_saver\n",
    "import gsn_db as gsn_saver\n",
    "\n",
    "class BehaviorType:\n",
    "    COPY = 'copy'\n",
    "    CLOSE = 'close'\n",
    "    CREATE = 'create'\n",
    "    ADJUST = 'adjust'\n",
    "    OPEN = 'open'\n"
   ]
  },
  {
   "cell_type": "code",
   "execution_count": 32,
   "metadata": {},
   "outputs": [],
   "source": [
    "def get_adgroup_name_bidding(db_type, campaign_id, adgroup_id, criterion_id, criterion_type):\n",
    "    ADGROUP_SERVICE_FIELDS = ['AdGroupId', 'Name', 'CpcBid', 'CampaignId']\n",
    "    ADGROUP_CRITERION_SERVICE_FIELDS = ['AdGroupId', 'CpcBid', 'CriteriaType', 'UserInterestId', 'UserInterestName', 'UserListId', 'LabelIds']\n",
    "    if criterion_type == 'audience':\n",
    "#         table = 'audience_insights'\n",
    "#         criterion = 'criterion_id'\n",
    "#         adgroup = 'adgroup_id'\n",
    "        field_list = ADGROUP_CRITERION_SERVICE_FIELDS\n",
    "        field = 'Id'\n",
    "        service = 'AdGroupCriterionService'\n",
    "#         sql = \"SELECT DISTINCT customer_id FROM {} WHERE {}={} AND {}={}\".format(table, adgroup, adgroup_id, criterion, criterion_id)\n",
    "    elif criterion_type == 'keyword':\n",
    "#         table = 'keywords_insights'\n",
    "#         criterion = 'keyword_id'\n",
    "#         adgroup = 'adgroup_id'\n",
    "        field_list = ADGROUP_CRITERION_SERVICE_FIELDS\n",
    "        field = 'Id'\n",
    "        service = 'AdGroupCriterionService'\n",
    "#         sql = \"SELECT DISTINCT customer_id FROM {} WHERE {}={} AND {}={}\".format(table, adgroup, adgroup_id, criterion, criterion_id)\n",
    "    elif criterion_type == 'adgroup':\n",
    "#         table = 'campaign_target'\n",
    "#         campaign = 'campaign_id'\n",
    "        field_list = ADGROUP_SERVICE_FIELDS\n",
    "        field = 'AdGroupId'\n",
    "        service = 'AdGroupService'\n",
    "#         sql = \"SELECT DISTINCT customer_id FROM {} WHERE {}={}\".format(table, campaign, campaign_id)\n",
    "    engine = create_engine( 'mysql://{}:{}@{}/{}'.format(gdn_saver.USER, gdn_saver.PASSWORD, gdn_saver.HOST, db_type) )\n",
    "    sql = \"SELECT DISTINCT customer_id FROM campaign_target WHERE campaign_id={}\".format(campaign_id)\n",
    "    with engine.connect() as conn, conn.begin():\n",
    "        df = pd.read_sql(sql, con=conn)\n",
    "        engine.dispose()\n",
    "        customer_id = df.customer_id.iloc[0]\n",
    "        print(customer_id)\n",
    "    adwords_client.SetClientCustomerId(customer_id)\n",
    "\n",
    "    selector= [{\n",
    "        'fields': field_list,\n",
    "        'predicates': [{\n",
    "            'field': field,\n",
    "            'operator': 'EQUALS',\n",
    "            'values':[criterion_id]\n",
    "        }]\n",
    "    }]\n",
    "#     service = adwords_client.GetService('AdGroupService', version='v201809')\n",
    "    adwords_service = adwords_client.GetService(service, version='v201809')\n",
    "    entries = adwords_service.get(selector)['entries']\n",
    "    if criterion_type == 'keyword':\n",
    "        criterion = [ entry['criterion'] for i, entry in enumerate(entries) if entry['criterion']['type']=='KEYWORD' and entry['adGroupId']==adgroup_id ]\n",
    "        bid_amount = [ entry['biddingStrategyConfiguration']['bids'][0]['bid']['microAmount'] for i, entry in enumerate(entries) if entry['criterion']['type']=='KEYWORD' and entry['adGroupId']==adgroup_id ][0]\n",
    "        name = [ entry['criterion']['text'] for i, entry in enumerate(entries) if entry['criterion']['type']=='KEYWORD' and entry['adGroupId']==adgroup_id ][0]\n",
    "\n",
    "    elif criterion_type == 'audience':\n",
    "        criterion = [ entry['criterion'] for i, entry in enumerate(entries) if entry['criterion']['type']=='USER_INTEREST' and entry['adGroupId']==adgroup_id ]\n",
    "        bid_amount = [ entry['biddingStrategyConfiguration']['bids'][0]['bid']['microAmount'] for i, entry in enumerate(entries) if entry['criterion']['type']=='USER_INTEREST' and entry['adGroupId']==adgroup_id ][0]\n",
    "        name = [ entry['criterion']['userInterestName'] for i, entry in enumerate(entries) if entry['criterion']['type']=='USER_INTEREST' and entry['adGroupId']==adgroup_id ][0]\n",
    "    \n",
    "    elif criterion_type == 'adgroup':\n",
    "        criterion = None\n",
    "        bid_amount = [ entry['biddingStrategyConfiguration']['bids'][0]['bid']['microAmount'] for i, entry in enumerate(entries) ][0]\n",
    "        name = entries[0]['name']\n",
    "\n",
    "    return name, bid_amount/pow(10, 6)"
   ]
  },
  {
   "cell_type": "code",
   "execution_count": 33,
   "metadata": {},
   "outputs": [],
   "source": [
    "def save_adgroup_behavior(behavior_type, db_type, campaign_id, adgroup_id, criterion_id, criterion_type, behavior_misc = '' ):\n",
    "    '''\n",
    "    ad_group_pair = {'db_type': 'dev_gdn', 'adgroup_id': 71252991065, 'criterion_id': None, 'criterion_type': 'adgroup'}\n",
    "    audience_pair = {'db_type': 'dev_gdn', 'adgroup_id': 71252991065, 'criterion_id': 164710527631, 'criterion_type': 'audience'}\n",
    "    keywords_pair = {'db_type': 'dev_gsn', 'adgroup_id': 71353342785, 'criterion_id': 298175279711, 'criterion_type': 'keyword'}\n",
    "    '''\n",
    "    display_name , criterion_bid = get_adgroup_name_bidding(db_type, campaign_id, adgroup_id, criterion_id, criterion_type)\n",
    "    created_at = int(time.time())\n",
    "\n",
    "    if behavior_type == BehaviorType.ADJUST:\n",
    "        if criterion_bid == behavior_misc:\n",
    "            return\n",
    "        behavior_misc = str(criterion_bid) + ':' + str(behavior_misc)\n",
    "\n",
    "    my_db = gdn_saver.connectDB( db_type )\n",
    "    my_cursor = my_db.cursor()\n",
    "    sql = \"INSERT INTO ai_behavior_log ( campaign_id, adgroup_id, criterion_id, display_name, criterion_type, behavior, behavior_misc, created_at ) VALUES ( %s, %s, %s, %s, %s, %s, %s, %s )\"\n",
    "    val = ( int(campaign_id), int(adgroup_id), criterion_id, display_name, criterion_type, behavior_type, behavior_misc, int(created_at) )\n",
    "    my_cursor.execute(sql, val)\n",
    "    my_db.commit()\n",
    "    my_cursor.close()\n",
    "    my_db.close()\n",
    "    "
   ]
  },
  {
   "cell_type": "code",
   "execution_count": 19,
   "metadata": {},
   "outputs": [],
   "source": [
    "if __name__ == \"__main__\":\n",
    "    ad_group_pair = {'db_type': 'dev_gdn', 'campaign_id': 1111, 'adgroup_id': 71252991065, 'criterion_id': None, 'criterion_type': 'adgroup'}\n",
    "    audience_pair = {'db_type': 'dev_gdn', 'campaign_id': 1111, 'adgroup_id': 71252991065, 'criterion_id': 164710527631, 'criterion_type': 'audience'}\n",
    "    keywords_pair = {'db_type': 'dev_gsn', 'campaign_id': 1111, 'adgroup_id': 71353342785, 'criterion_id': 298175279711, 'criterion_type': 'keyword'}\n",
    "\n",
    "    save_adgroup_behavior(BehaviorType.CREATE, **ad_group_pair)\n",
    "#     save_adgroup_behavior(BehaviorType.ADJUST, **audience_pair, behavior_misc=15)\n",
    "#     save_adgroup_behavior(BehaviorType.ADJUST, **keywords_pair, behavior_misc=15)\n",
    "#     print(adset_name , adset_bid )\""
   ]
  },
  {
   "cell_type": "code",
   "execution_count": 27,
   "metadata": {},
   "outputs": [
    {
     "name": "stdout",
     "output_type": "stream",
     "text": [
      "[NbConvertApp] Converting notebook gdn_gsn_ai_behavior_log.ipynb to script\n",
      "[NbConvertApp] Writing 6424 bytes to gdn_gsn_ai_behavior_log.py\n"
     ]
    }
   ],
   "source": [
    "#!jupyter nbconvert --to script gdn_gsn_ai_behavior_log.ipynb"
   ]
  }
 ],
 "metadata": {
  "kernelspec": {
   "display_name": "Python 3",
   "language": "python",
   "name": "python3"
  },
  "language_info": {
   "codemirror_mode": {
    "name": "ipython",
    "version": 3
   },
   "file_extension": ".py",
   "mimetype": "text/x-python",
   "name": "python",
   "nbconvert_exporter": "python",
   "pygments_lexer": "ipython3",
   "version": "3.6.7"
  },
  "varInspector": {
   "cols": {
    "lenName": 16,
    "lenType": 16,
    "lenVar": 40
   },
   "kernels_config": {
    "python": {
     "delete_cmd_postfix": "",
     "delete_cmd_prefix": "del ",
     "library": "var_list.py",
     "varRefreshCmd": "print(var_dic_list())"
    },
    "r": {
     "delete_cmd_postfix": ") ",
     "delete_cmd_prefix": "rm(",
     "library": "var_list.r",
     "varRefreshCmd": "cat(var_dic_list()) "
    }
   },
   "types_to_exclude": [
    "module",
    "function",
    "builtin_function_or_method",
    "instance",
    "_Feature"
   ],
   "window_display": false
  }
 },
 "nbformat": 4,
 "nbformat_minor": 2
}
