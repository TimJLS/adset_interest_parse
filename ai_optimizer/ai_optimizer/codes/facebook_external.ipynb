{
 "cells": [
  {
   "cell_type": "code",
   "execution_count": 1,
   "metadata": {},
   "outputs": [],
   "source": [
    "from pathlib import Path\n",
    "from facebook_business.api import FacebookAdsApi\n",
    "from facebook_business.adobjects.adaccount import AdAccount\n",
    "from facebook_business.adobjects.adset import AdSet\n",
    "from facebook_business.adobjects.ad import Ad\n",
    "from facebook_business.adobjects.campaign import Campaign\n",
    "from facebook_business.adobjects.adcreative import AdCreative\n",
    "from facebook_business.adobjects.targeting import Targeting\n",
    "from facebook_business.api import FacebookRequest\n",
    "import copy\n",
    "from facebook_adapter import FacebookCampaignAdapter\n",
    "# import facebook\n",
    "import os\n",
    "\n",
    "my_app_id = '958842090856883'\n",
    "my_app_secret = 'a952f55afca38572cea2994d440d674b'\n",
    "my_access_token = 'EAANoD9I4obMBAPcoZA5V7OZBQaPa3Tk7NMAT0ZBZCepdD8zZBcwMZBMHAM1zPeQiRY4Yw07rscee4LMRn9lMsJGuNZAYBA4nCYdZA6tsyL0KGTfQKIAFls3T5jul9Am6t95nbvcGXFmcFDYEyZAX2FpAuVesVGyiHuLFRKxlXfh5t6AZDZD'\n"
   ]
  },
  {
   "cell_type": "code",
   "execution_count": 2,
   "metadata": {},
   "outputs": [],
   "source": [
    "import datetime\n",
    "yesterday = datetime.datetime.now().date() - datetime.timedelta(1)"
   ]
  },
  {
   "cell_type": "code",
   "execution_count": 3,
   "metadata": {},
   "outputs": [],
   "source": [
    "from facebook_datacollector import Campaigns\n",
    "import mysql_adactivity_save\n",
    "import pandas as pd\n",
    "campaign_objective = {\n",
    "    'LINK_CLICKS': 'link_click',\n",
    "    'POST_ENGAGEMENT': 'post_engagement', \n",
    "    'VIDEO_VIEWS': 'video_view', \n",
    "    'CONVERSIONS':'offsite_conversion',\n",
    "}"
   ]
  },
  {
   "cell_type": "code",
   "execution_count": 4,
   "metadata": {},
   "outputs": [],
   "source": [
    "def copy_adset(adset_id):\n",
    "    request = FacebookRequest(\n",
    "            node_id=adset_id,\n",
    "            method='POST',\n",
    "            endpoint='/copies',\n",
    "            api_type='EDGE',\n",
    "            \n",
    "    )\n",
    "    params = {\n",
    "            'deep_copy': True,\n",
    "    }\n",
    "    request.add_params(params)    \n",
    "    response = request.execute()\n",
    "\n",
    "    response_json = response.json()\n",
    "#     print(response_json)\n",
    "    \n",
    "    new_adset_id = response_json.get('copied_adset_id')\n",
    "#     print(new_adset_id)\n",
    "    return new_adset_id\n",
    "\n",
    "\n",
    "def modify_exists_adset(adset_id, adset_params):\n",
    "    adset = AdSet(adset_id)\n",
    "    \n",
    "    for key in adset_params:\n",
    "#         print(key, adset_params[key])\n",
    "        adset[key] = adset_params[key]\n",
    "\n",
    "    #print('[modify_exists_adset] adset:' , str(adset))\n",
    "        \n",
    "    update_response = adset.update()\n",
    "    #print('update_response:' , update_response)\n",
    "    \n",
    "    remote_update_response = adset.remote_update()\n",
    "    #print('remote_update_response:' , remote_update_response)\n",
    "    \n",
    "def config_adset_params_by_age(new_adset_id, age_max, age_min, init_bid=None):\n",
    "    \n",
    "    fields_adSet = [  AdSet.Field.campaign_id,  AdSet.Field.name, AdSet.Field.bid_amount, AdSet.Field.bid_strategy, AdSet.Field.daily_budget, AdSet.Field.budget_remaining, AdSet.Field.optimization_goal, AdSet.Field.bid_info, AdSet.Field.pacing_type\n",
    "                    , AdSet.Field.attribution_spec, AdSet.Field.targeting]\n",
    "\n",
    "    ad_set = AdSet(new_adset_id)\n",
    "    ad_set_data = ad_set.remote_read(fields = fields_adSet)\n",
    "    \n",
    "    target = ad_set_data[AdSet.Field.targeting]\n",
    "    original_name = ad_set_data[AdSet.Field.name]\n",
    "                     \n",
    "    target['age_max'] =  age_max\n",
    "    target['age_min'] =  age_min\n",
    "\n",
    "    if init_bid is None:\n",
    "        adset_params = {\n",
    "            AdSet.Field.name: original_name + ' ' +str(age_min) + '-' + str(age_max) ,\n",
    "            AdSet.Field.targeting: target,\n",
    "            'status': AdSet.Status.active,\n",
    "        }\n",
    "        ad_groups = ad_set.get_ads(fields=[\n",
    "            AdSet.Field.name,\n",
    "            AdSet.Field.campaign_id,\n",
    "            AdSet.Field.configured_status,\n",
    "        ])\n",
    "    else:\n",
    "        adset_params = {\n",
    "            AdSet.Field.name: original_name + ' ' +str(age_min) + '-' + str(age_max) ,\n",
    "            AdSet.Field.targeting: target,\n",
    "            AdSet.Field.bid_amount: init_bid+1,\n",
    "            'status': AdSet.Status.active,\n",
    "        }\n",
    "        ad_groups = ad_set.get_ads(fields=[\n",
    "            AdSet.Field.name,\n",
    "            AdSet.Field.campaign_id,\n",
    "            AdSet.Field.bid_amount,\n",
    "            AdSet.Field.configured_status,\n",
    "        ])\n",
    "    for ad in ad_groups:\n",
    "        ad_id = ad['id']\n",
    "#         print('ad_id' , ad_id)\n",
    "        ad_object = Ad(ad_id)\n",
    "        ad_object['status'] = Ad.Status.active\n",
    "        ad_object.remote_update()\n",
    "        \n",
    "    return adset_params\n",
    "\n",
    "def duplicate_asset_by_more_target(adset_id_which_want_copy, init_bid=None, bid_adjust=False):\n",
    "    # duplicate more age target , use original age interval\n",
    "    \n",
    "    ad_set = AdSet(adset_id_which_want_copy)\n",
    "    print(adset_id_which_want_copy)\n",
    "    ad_set_data = ad_set.remote_read(fields = [AdSet.Field.targeting])\n",
    "    target = ad_set_data[AdSet.Field.targeting]\n",
    "    age_max = target['age_max']\n",
    "    age_min = target['age_min']    \n",
    "#     print('original age interval: ', age_min, '-' , age_max)\n",
    "    \n",
    "    interval_count = 2\n",
    "    age_interval = int((age_max - age_min)/interval_count)\n",
    "    \n",
    "    current_adset_min = age_min\n",
    "    current_adset_max = current_adset_min + age_interval\n",
    "  \n",
    "    for i in range(interval_count):\n",
    "#         print(current_adset_min, current_adset_max)\n",
    "\n",
    "        new_adset_id = copy_adset(adset_id_which_want_copy)\n",
    "#         adset_params = config_adset_params_by_age(new_adset_id, current_adset_max, current_adset_min, init_bid)\n",
    "        if bid_adjust is True and init_bid is not None:\n",
    "            adset_params = config_adset_params_by_age(new_adset_id, current_adset_max, current_adset_min, init_bid)\n",
    "        else:\n",
    "            adset_params = config_adset_params_by_age(new_adset_id, current_adset_max, current_adset_min)\n",
    "        modify_exists_adset(new_adset_id, adset_params)\n",
    "        \n",
    "        current_adset_min += age_interval\n",
    "        current_adset_max += age_interval"
   ]
  },
  {
   "cell_type": "code",
   "execution_count": null,
   "metadata": {},
   "outputs": [],
   "source": [
    "FacebookAdsApi.init(my_app_id, my_app_secret, my_access_token)\n",
    "duplicate_asset_by_more_target(23843212213240457, 1, bid_adjust=False)"
   ]
  },
  {
   "cell_type": "code",
   "execution_count": 5,
   "metadata": {},
   "outputs": [],
   "source": [
    "def check_if_campaign_day_target_reach(campaign):\n",
    "    mydict = Campaigns(campaign).get_campaign_insights()\n",
    "    charge_type = campaign_objective[Campaigns( campaign ).get_campaign_feature().get(\"target_type\")]\n",
    "    target_dict=dict()\n",
    "    summary_dict=dict()\n",
    "    for dic in mydict[0].get(\"actions\"):\n",
    "        if dic.get(\"action_type\") == charge_type:\n",
    "            summary_dict[campaign] = int( dic.get(\"value\") )\n",
    "    target = mysql_adactivity_save.get_campaign_target_dict()[campaign].iloc[0]\n",
    "    campaign_days = Campaigns(campaign).get_campaign_feature()['campaign_days']\n",
    "    charge_per_day = target/campaign_days\n",
    "    target_dict[campaign] = charge_per_day\n",
    "    if summary_dict[campaign] < target_dict[campaign]:\n",
    "        return False\n",
    "    else:\n",
    "        return True"
   ]
  },
  {
   "cell_type": "code",
   "execution_count": null,
   "metadata": {},
   "outputs": [],
   "source": [
    "FacebookAdsApi.init(my_app_id, my_app_secret, my_access_token)\n",
    "campaign_list = mysql_adactivity_save.get_campaign()\n",
    "for campaign in campaign_list:\n",
    "    if check_if_campaign_day_target_reach(campaign) is False:\n",
    "        fb = FacebookCampaignAdapter(campaign)\n",
    "        fb.get_df()\n",
    "        fb.get_bid()\n",
    "        \n",
    "        \n",
    "        mydb=mysql_adactivity_save.connectDB(\"ad_activity\")\n",
    "        df = pd.read_sql(\"select * from adset_score where campaign_id=%s\" %(campaign), con=mydb)\n",
    "        df = df[df.request_time.dt.date==yesterday].sort_values(by=['score'], ascending=False)\n",
    "        adset_id = df['adset_id'].iloc[0]\n",
    "        init_bid = fb.init_bid_dict[ df['adset_id'].iloc[0] ]\n",
    "        \n",
    "        duplicate_asset_by_more_target(adset_id, init_bid, bid_adjust=True)"
   ]
  },
  {
   "cell_type": "code",
   "execution_count": 6,
   "metadata": {},
   "outputs": [],
   "source": [
    "def duplicate_highest_ranking_adset_with_higher_bid():\n",
    "    campaign_list = mysql_adactivity_save.get_campaign()\n",
    "    for campaign in campaign_list:\n",
    "        if check_if_campaign_day_target_reach(campaign) is False:\n",
    "            fb = FacebookCampaignAdapter(campaign)\n",
    "            fb.get_df()\n",
    "            fb.get_bid()\n",
    "\n",
    "            mydb=mysql_adactivity_save.connectDB(\"ad_activity\")\n",
    "            df = pd.read_sql(\"select * from adset_score where campaign_id=%s\" %(campaign), con=mydb)\n",
    "            df = df[df.request_time.dt.date==yesterday].sort_values(by=['score'], ascending=False)\n",
    "            adset_id = df['adset_id'].iloc[0]\n",
    "            init_bid = fb.init_bid_dict[ df['adset_id'].iloc[0] ]\n",
    "\n",
    "            duplicate_asset_by_more_target(adset_id, init_bid, bid_adjust=True)"
   ]
  },
  {
   "cell_type": "code",
   "execution_count": 7,
   "metadata": {},
   "outputs": [
    {
     "name": "stdout",
     "output_type": "stream",
     "text": [
      "23843212221300457\n",
      "25 34\n",
      "ad_id 23843220010850457\n",
      "ad_id 23843220010820457\n",
      "True\n",
      "34 43\n",
      "ad_id 23843220011670457\n",
      "ad_id 23843220011610457\n",
      "True\n"
     ]
    }
   ],
   "source": [
    "FacebookAdsApi.init(my_app_id, my_app_secret, my_access_token)\n",
    "duplicate_highest_ranking_adset_with_higher_bid()"
   ]
  },
  {
   "cell_type": "code",
   "execution_count": 11,
   "metadata": {},
   "outputs": [],
   "source": [
    "def duplicate_highest_ranking_adset():\n",
    "    campaign_list = mysql_adactivity_save.get_campaign()\n",
    "    for campaign in campaign_list:\n",
    "        if check_if_campaign_day_target_reach(campaign) is False:\n",
    "            mydb=mysql_adactivity_save.connectDB(\"ad_activity\")\n",
    "            df = pd.read_sql(\"select * from adset_score where campaign_id=%s\" %(campaign), con=mydb)\n",
    "            df = df[df.request_time.dt.date==yesterday].sort_values(by=['score'], ascending=False)\n",
    "            adset_id = df['adset_id'].iloc[0]\n",
    "            duplicate_asset_by_more_target(adset_id, bid_adjust=False)"
   ]
  },
  {
   "cell_type": "code",
   "execution_count": 12,
   "metadata": {},
   "outputs": [
    {
     "name": "stdout",
     "output_type": "stream",
     "text": [
      "23843212221300457\n",
      "25 34\n",
      "ad_id 23843220016190457\n",
      "ad_id 23843220016150457\n",
      "False\n",
      "34 43\n",
      "ad_id 23843220016730457\n",
      "ad_id 23843220016680457\n",
      "False\n"
     ]
    }
   ],
   "source": [
    "duplicate_highest_ranking_adset()"
   ]
  },
  {
   "cell_type": "code",
   "execution_count": null,
   "metadata": {},
   "outputs": [],
   "source": []
  }
 ],
 "metadata": {
  "kernelspec": {
   "display_name": "Python 3",
   "language": "python",
   "name": "python3"
  },
  "language_info": {
   "codemirror_mode": {
    "name": "ipython",
    "version": 3
   },
   "file_extension": ".py",
   "mimetype": "text/x-python",
   "name": "python",
   "nbconvert_exporter": "python",
   "pygments_lexer": "ipython3",
   "version": "3.5.2"
  }
 },
 "nbformat": 4,
 "nbformat_minor": 2
}
