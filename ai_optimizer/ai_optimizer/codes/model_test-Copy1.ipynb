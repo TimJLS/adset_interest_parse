{
 "cells": [
  {
   "cell_type": "code",
   "execution_count": 1,
   "metadata": {
    "hideCode": false,
    "hidePrompt": false
   },
   "outputs": [],
   "source": [
    "import mysql.connector\n",
    "import pandas as pd\n",
    "import datetime\n",
    "from pandas.io import sql\n",
    "from sqlalchemy import create_engine\n",
    "import pymysql\n",
    "pymysql.install_as_MySQLdb()\n",
    "import MySQLdb as db\n",
    "\n",
    "import numpy as np"
   ]
  },
  {
   "cell_type": "code",
   "execution_count": 2,
   "metadata": {},
   "outputs": [],
   "source": [
    "#### GNC ####\n",
    "CAMPAIGN_ID = 23843180432940316\n",
    "date_12 = datetime.date(2018,11,12)\n",
    "date_13 = datetime.date(2018,11,13)\n",
    "minute = datetime.time(11,59,20).minute"
   ]
  },
  {
   "cell_type": "code",
   "execution_count": 3,
   "metadata": {},
   "outputs": [],
   "source": [
    "def connectDB(db_name):\n",
    "    mydb = mysql.connector.connect(\n",
    "        host=\"localhost\", \n",
    "        user=\"root\",\n",
    "        passwd=\"adgeek1234\",\n",
    "        database=db_name\n",
    "    )\n",
    "    return mydb\n",
    "mydb = connectDB(\"ad_activity\")\n",
    "df_camp = pd.read_sql( \"SELECT * FROM by_campaign where campaign_id = %s\" %(CAMPAIGN_ID), con=mydb)\n",
    "\n",
    "df_gnc = df_camp[(df_camp.request_time.dt.date == date_12) | (df_camp.request_time.dt.date == date_13)]\n",
    "df_gnc = df_gnc[(df_gnc.request_time.dt.minute == minute)]"
   ]
  },
  {
   "cell_type": "code",
   "execution_count": 4,
   "metadata": {},
   "outputs": [],
   "source": [
    "#### 蜂主義 ####\n",
    "CAMPAIGN_ID = 23843052139470246\n",
    "date_12 = datetime.date(2018,11,12)\n",
    "date_13 = datetime.date(2018,11,13)\n",
    "minute = datetime.time(11,59,20).minute"
   ]
  },
  {
   "cell_type": "code",
   "execution_count": 5,
   "metadata": {},
   "outputs": [],
   "source": [
    "def connectDB(db_name):\n",
    "    mydb = mysql.connector.connect(\n",
    "        host=\"localhost\", \n",
    "        user=\"root\",\n",
    "        passwd=\"adgeek1234\",\n",
    "        database=db_name\n",
    "    )\n",
    "    return mydb\n",
    "mydb = connectDB(\"ad_activity\")\n",
    "df_camp = pd.read_sql( \"SELECT * FROM by_campaign where campaign_id = %s\" %(CAMPAIGN_ID), con=mydb)\n",
    "\n",
    "df_feng = df_camp[(df_camp.request_time.dt.date == date_12) | (df_camp.request_time.dt.date == date_13)]\n",
    "df_feng = df_feng[(df_feng.request_time.dt.minute == minute)]"
   ]
  },
  {
   "cell_type": "code",
   "execution_count": 6,
   "metadata": {},
   "outputs": [],
   "source": [
    "#### 善住 #####\n",
    "CAMPAIGN_ID = 23843085681850632\n",
    "date_12 = datetime.date(2018,11,12)\n",
    "date_13 = datetime.date(2018,11,13)\n",
    "minute = datetime.time(11,59,20).minute"
   ]
  },
  {
   "cell_type": "code",
   "execution_count": 7,
   "metadata": {},
   "outputs": [],
   "source": [
    "def connectDB(db_name):\n",
    "    mydb = mysql.connector.connect(\n",
    "        host=\"localhost\", \n",
    "        user=\"root\",\n",
    "        passwd=\"adgeek1234\",\n",
    "        database=db_name\n",
    "    )\n",
    "    return mydb\n",
    "mydb = connectDB(\"ad_activity\")\n",
    "df_camp = pd.read_sql( \"SELECT * FROM by_campaign where campaign_id = %s\" %(CAMPAIGN_ID), con=mydb)\n",
    "\n",
    "df_shan = df_camp[(df_camp.request_time.dt.date == date_12) | (df_camp.request_time.dt.date == date_13)]\n",
    "df_shan = df_shan[(df_shan.request_time.dt.minute == minute)]"
   ]
  },
  {
   "cell_type": "code",
   "execution_count": 8,
   "metadata": {
    "hideCode": false,
    "hidePrompt": false
   },
   "outputs": [],
   "source": [
    "def connectDB(db_name):\n",
    "    mydb = mysql.connector.connect(\n",
    "        host=\"localhost\", \n",
    "        user=\"root\",\n",
    "        passwd=\"adgeek1234\",\n",
    "        database=db_name\n",
    "    )\n",
    "    return mydb\n",
    "mydb = connectDB(\"ad_activity\")\n",
    "df_camp = pd.read_sql( \"SELECT * FROM by_campaign where campaign_id = %s\" %(CAMPAIGN_ID), con=mydb)"
   ]
  },
  {
   "cell_type": "code",
   "execution_count": 9,
   "metadata": {},
   "outputs": [],
   "source": [
    "frames = [df_gnc, df_shan, df_feng]"
   ]
  },
  {
   "cell_type": "code",
   "execution_count": 10,
   "metadata": {},
   "outputs": [],
   "source": [
    "result = pd.concat(frames)"
   ]
  },
  {
   "cell_type": "code",
   "execution_count": 11,
   "metadata": {
    "hideCode": false,
    "hidePrompt": false
   },
   "outputs": [
    {
     "data": {
      "text/plain": [
       "314"
      ]
     },
     "execution_count": 11,
     "metadata": {},
     "output_type": "execute_result"
    }
   ],
   "source": [
    "len(result)"
   ]
  },
  {
   "cell_type": "code",
   "execution_count": 12,
   "metadata": {},
   "outputs": [],
   "source": [
    "def make_train(df):\n",
    "    df['ratio'] = df['clicks'] / df['impressions']\n",
    "    df.sort_values(by=['ad_id','request_time']).reset_index(drop=True)\n",
    "    adid_list=df['ad_id'].unique()\n",
    "    ad_list = []\n",
    "\n",
    "    df_concat=pd.DataFrame(columns=df.columns)\n",
    "    \n",
    "    for ad in adid_list:\n",
    "        df_tmp = df[df.ad_id==ad]\n",
    "        if len(df_tmp) > 3:\n",
    "            for i in range( 1,len( df_tmp ) ):\n",
    "                df_tmp['clicks'].iloc[i-1] = df_tmp['clicks'].iloc[i] - df_tmp['clicks'].iloc[i-1]\n",
    "                df_tmp['impressions'].iloc[i-1] = df_tmp['impressions'].iloc[i] - df_tmp['impressions'].iloc[i-1]\n",
    "                df_tmp['reach'].iloc[i-1] = df_tmp['reach'].iloc[i] - df_tmp['reach'].iloc[i-1]\n",
    "            df_concat=pd.concat([df_concat,df_tmp], ignore_index=True)\n",
    "\n",
    "    for i in range(len(df['clicks'])):\n",
    "        if df_concat['clicks'].iloc[i]==0:\n",
    "            df_concat['clicks'].iloc[i]=df_concat['impressions'].iloc[i]*0.05\n",
    "    \n",
    "    for i in range(len(df['clicks'])):\n",
    "        if df_concat['cpc'].iloc[i]==0:\n",
    "            df_concat['cpc'].iloc[i]=np.mean(df['cpc'])\n",
    "        \n",
    "    df_drop = df_concat.drop(['age_max','age_min','flexible_spec','geo_locations', 'ratio', 'total_clicks','spend_cap', 'objective', 'start_time', 'stop_time', 'adset_id','campaign_id','avgspeed', 'speed'],axis=1)\n",
    "    df_drop = df_drop.sort_values(by=['ad_id','request_time']).reset_index(drop=True)\n",
    "    \n",
    "    df_drop['request_time'] = pd.to_datetime(df_drop['request_time'], infer_datetime_format=True)\n",
    "    hour = pd.get_dummies(df_drop['request_time'].dt.hour)\n",
    "    train = pd.concat( [df_drop, hour] ,axis=1)\n",
    "    train = train.reset_index(drop=True)\n",
    "    \n",
    "    return train"
   ]
  },
  {
   "cell_type": "code",
   "execution_count": 13,
   "metadata": {
    "scrolled": true
   },
   "outputs": [
    {
     "name": "stderr",
     "output_type": "stream",
     "text": [
      "/usr/local/lib/python3.5/dist-packages/pandas/core/indexing.py:189: SettingWithCopyWarning: \n",
      "A value is trying to be set on a copy of a slice from a DataFrame\n",
      "\n",
      "See the caveats in the documentation: http://pandas.pydata.org/pandas-docs/stable/indexing.html#indexing-view-versus-copy\n",
      "  self._setitem_with_indexer(indexer, value)\n",
      "/usr/local/lib/python3.5/dist-packages/ipykernel_launcher.py:13: SettingWithCopyWarning: \n",
      "A value is trying to be set on a copy of a slice from a DataFrame\n",
      "\n",
      "See the caveats in the documentation: http://pandas.pydata.org/pandas-docs/stable/indexing.html#indexing-view-versus-copy\n",
      "  del sys.path[0]\n",
      "/usr/local/lib/python3.5/dist-packages/ipykernel_launcher.py:14: SettingWithCopyWarning: \n",
      "A value is trying to be set on a copy of a slice from a DataFrame\n",
      "\n",
      "See the caveats in the documentation: http://pandas.pydata.org/pandas-docs/stable/indexing.html#indexing-view-versus-copy\n",
      "  \n",
      "/usr/local/lib/python3.5/dist-packages/ipykernel_launcher.py:15: SettingWithCopyWarning: \n",
      "A value is trying to be set on a copy of a slice from a DataFrame\n",
      "\n",
      "See the caveats in the documentation: http://pandas.pydata.org/pandas-docs/stable/indexing.html#indexing-view-versus-copy\n",
      "  from ipykernel import kernelapp as app\n"
     ]
    },
    {
     "data": {
      "text/html": [
       "<div>\n",
       "<style scoped>\n",
       "    .dataframe tbody tr th:only-of-type {\n",
       "        vertical-align: middle;\n",
       "    }\n",
       "\n",
       "    .dataframe tbody tr th {\n",
       "        vertical-align: top;\n",
       "    }\n",
       "\n",
       "    .dataframe thead th {\n",
       "        text-align: right;\n",
       "    }\n",
       "</style>\n",
       "<table border=\"1\" class=\"dataframe\">\n",
       "  <thead>\n",
       "    <tr style=\"text-align: right;\">\n",
       "      <th></th>\n",
       "      <th>ad_id</th>\n",
       "      <th>cpc</th>\n",
       "      <th>clicks</th>\n",
       "      <th>impressions</th>\n",
       "      <th>reach</th>\n",
       "      <th>bid_amount</th>\n",
       "      <th>daily_budget</th>\n",
       "      <th>request_time</th>\n",
       "      <th>0</th>\n",
       "      <th>1</th>\n",
       "      <th>...</th>\n",
       "      <th>14</th>\n",
       "      <th>15</th>\n",
       "      <th>16</th>\n",
       "      <th>17</th>\n",
       "      <th>18</th>\n",
       "      <th>19</th>\n",
       "      <th>20</th>\n",
       "      <th>21</th>\n",
       "      <th>22</th>\n",
       "      <th>23</th>\n",
       "    </tr>\n",
       "  </thead>\n",
       "  <tbody>\n",
       "    <tr>\n",
       "      <th>0</th>\n",
       "      <td>23843052139410246</td>\n",
       "      <td>3.00000</td>\n",
       "      <td>3</td>\n",
       "      <td>74</td>\n",
       "      <td>74</td>\n",
       "      <td>9</td>\n",
       "      <td>200</td>\n",
       "      <td>2018-11-12 18:59:15</td>\n",
       "      <td>0</td>\n",
       "      <td>0</td>\n",
       "      <td>...</td>\n",
       "      <td>0</td>\n",
       "      <td>0</td>\n",
       "      <td>0</td>\n",
       "      <td>0</td>\n",
       "      <td>1</td>\n",
       "      <td>0</td>\n",
       "      <td>0</td>\n",
       "      <td>0</td>\n",
       "      <td>0</td>\n",
       "      <td>0</td>\n",
       "    </tr>\n",
       "    <tr>\n",
       "      <th>1</th>\n",
       "      <td>23843052139410246</td>\n",
       "      <td>1.71429</td>\n",
       "      <td>12</td>\n",
       "      <td>319</td>\n",
       "      <td>319</td>\n",
       "      <td>9</td>\n",
       "      <td>200</td>\n",
       "      <td>2018-11-12 19:59:17</td>\n",
       "      <td>0</td>\n",
       "      <td>0</td>\n",
       "      <td>...</td>\n",
       "      <td>0</td>\n",
       "      <td>0</td>\n",
       "      <td>0</td>\n",
       "      <td>0</td>\n",
       "      <td>0</td>\n",
       "      <td>1</td>\n",
       "      <td>0</td>\n",
       "      <td>0</td>\n",
       "      <td>0</td>\n",
       "      <td>0</td>\n",
       "    </tr>\n",
       "    <tr>\n",
       "      <th>2</th>\n",
       "      <td>23843052139410246</td>\n",
       "      <td>2.15790</td>\n",
       "      <td>3</td>\n",
       "      <td>42</td>\n",
       "      <td>42</td>\n",
       "      <td>9</td>\n",
       "      <td>200</td>\n",
       "      <td>2018-11-12 20:59:17</td>\n",
       "      <td>0</td>\n",
       "      <td>0</td>\n",
       "      <td>...</td>\n",
       "      <td>0</td>\n",
       "      <td>0</td>\n",
       "      <td>0</td>\n",
       "      <td>0</td>\n",
       "      <td>0</td>\n",
       "      <td>0</td>\n",
       "      <td>1</td>\n",
       "      <td>0</td>\n",
       "      <td>0</td>\n",
       "      <td>0</td>\n",
       "    </tr>\n",
       "  </tbody>\n",
       "</table>\n",
       "<p>3 rows × 32 columns</p>\n",
       "</div>"
      ],
      "text/plain": [
       "               ad_id      cpc clicks impressions reach bid_amount  \\\n",
       "0  23843052139410246  3.00000      3          74    74          9   \n",
       "1  23843052139410246  1.71429     12         319   319          9   \n",
       "2  23843052139410246  2.15790      3          42    42          9   \n",
       "\n",
       "  daily_budget        request_time  0  1 ...  14  15  16  17  18  19  20  21  \\\n",
       "0          200 2018-11-12 18:59:15  0  0 ...   0   0   0   0   1   0   0   0   \n",
       "1          200 2018-11-12 19:59:17  0  0 ...   0   0   0   0   0   1   0   0   \n",
       "2          200 2018-11-12 20:59:17  0  0 ...   0   0   0   0   0   0   1   0   \n",
       "\n",
       "   22  23  \n",
       "0   0   0  \n",
       "1   0   0  \n",
       "2   0   0  \n",
       "\n",
       "[3 rows x 32 columns]"
      ]
     },
     "execution_count": 13,
     "metadata": {},
     "output_type": "execute_result"
    }
   ],
   "source": [
    "TRAIN = make_train(result)\n",
    "TRAIN.head(3)"
   ]
  },
  {
   "cell_type": "code",
   "execution_count": 14,
   "metadata": {
    "hideCode": false,
    "hidePrompt": false
   },
   "outputs": [],
   "source": [
    "import numpy as np\n",
    "import pandas as pd\n",
    "import seaborn as sns\n",
    "import matplotlib.pyplot as plt\n",
    "import datetime\n",
    "import calendar\n",
    "import random"
   ]
  },
  {
   "cell_type": "code",
   "execution_count": 15,
   "metadata": {
    "hideCode": false,
    "hidePrompt": false
   },
   "outputs": [],
   "source": [
    "adid_list = TRAIN['ad_id'].unique()"
   ]
  },
  {
   "cell_type": "code",
   "execution_count": null,
   "metadata": {},
   "outputs": [],
   "source": []
  },
  {
   "cell_type": "code",
   "execution_count": 16,
   "metadata": {
    "hideCode": false,
    "hidePrompt": false
   },
   "outputs": [
    {
     "name": "stdout",
     "output_type": "stream",
     "text": [
      "23843052139410246\n",
      "----------------------- 24\n",
      "23843052139420246\n",
      "----------------------- 48\n",
      "23843052139440246\n",
      "----------------------- 72\n",
      "23843052139460246\n",
      "----------------------- 95\n",
      "23843052139490246\n",
      "----------------------- 118\n",
      "23843052139520246\n",
      "----------------------- 140\n",
      "23843085681860632\n",
      "----------------------- 166\n",
      "23843085681870632\n",
      "----------------------- 192\n",
      "23843180432910316\n",
      "----------------------- 197\n",
      "23843180432920316\n",
      "----------------------- 206\n",
      "23843180432930316\n",
      "----------------------- 213\n",
      "23843180432950316\n",
      "----------------------- 221\n",
      "23843180432960316\n",
      "----------------------- 229\n",
      "23843180432980316\n",
      "----------------------- 240\n",
      "23843180432990316\n",
      "----------------------- 249\n",
      "23843180433050316\n",
      "----------------------- 266\n"
     ]
    }
   ],
   "source": [
    "train_x=pd.DataFrame(columns=TRAIN.columns)\n",
    "train_X=pd.DataFrame(columns=TRAIN.columns)\n",
    "train_Xs=pd.DataFrame()\n",
    "dfs=[]\n",
    "for i in range(len(adid_list)):\n",
    "    print(adid_list[i])\n",
    "    train_x = TRAIN[(TRAIN.ad_id == adid_list[i]) ]\n",
    "#     print(train_x.request_time.dt.hour)\n",
    "    train_X = pd.concat( [ train_x.shift(1), train_x.shift(2), train_x.shift(3) ], axis=1, sort=False )\n",
    "\n",
    "    train_X = train_X.dropna()\n",
    "#     print(train_x['request_time'])\n",
    "    train_X = train_X.drop(['request_time'], axis=1)\n",
    "\n",
    "    train_Xs = pd.concat( [ train_Xs, train_X ],axis=0,sort=False)\n",
    "    train_Xs = train_Xs.reset_index(drop=True)\n",
    "    print('-----------------------',len(train_Xs))"
   ]
  },
  {
   "cell_type": "code",
   "execution_count": 17,
   "metadata": {
    "hideCode": false,
    "hidePrompt": false
   },
   "outputs": [
    {
     "data": {
      "text/plain": [
       "266"
      ]
     },
     "execution_count": 17,
     "metadata": {},
     "output_type": "execute_result"
    }
   ],
   "source": [
    "len(train_Xs)"
   ]
  },
  {
   "cell_type": "code",
   "execution_count": 18,
   "metadata": {
    "hideCode": false,
    "hidePrompt": false,
    "scrolled": true
   },
   "outputs": [
    {
     "name": "stdout",
     "output_type": "stream",
     "text": [
      "23843052139410246\n",
      "----------------------- 24\n",
      "23843052139420246\n",
      "----------------------- 48\n",
      "23843052139440246\n",
      "----------------------- 72\n",
      "23843052139460246\n",
      "----------------------- 95\n",
      "23843052139490246\n"
     ]
    },
    {
     "name": "stderr",
     "output_type": "stream",
     "text": [
      "/usr/local/lib/python3.5/dist-packages/pandas/core/frame.py:3697: SettingWithCopyWarning: \n",
      "A value is trying to be set on a copy of a slice from a DataFrame\n",
      "\n",
      "See the caveats in the documentation: http://pandas.pydata.org/pandas-docs/stable/indexing.html#indexing-view-versus-copy\n",
      "  errors=errors)\n"
     ]
    },
    {
     "name": "stdout",
     "output_type": "stream",
     "text": [
      "----------------------- 118\n",
      "23843052139520246\n",
      "----------------------- 140\n",
      "23843085681860632\n",
      "----------------------- 166\n",
      "23843085681870632\n",
      "----------------------- 192\n",
      "23843180432910316\n",
      "----------------------- 197\n",
      "23843180432920316\n",
      "----------------------- 206\n",
      "23843180432930316\n",
      "----------------------- 213\n",
      "23843180432950316\n",
      "----------------------- 221\n",
      "23843180432960316\n",
      "----------------------- 229\n",
      "23843180432980316\n",
      "----------------------- 240\n",
      "23843180432990316\n",
      "----------------------- 249\n",
      "23843180433050316\n",
      "----------------------- 266\n"
     ]
    },
    {
     "data": {
      "text/html": [
       "<div>\n",
       "<style scoped>\n",
       "    .dataframe tbody tr th:only-of-type {\n",
       "        vertical-align: middle;\n",
       "    }\n",
       "\n",
       "    .dataframe tbody tr th {\n",
       "        vertical-align: top;\n",
       "    }\n",
       "\n",
       "    .dataframe thead th {\n",
       "        text-align: right;\n",
       "    }\n",
       "</style>\n",
       "<table border=\"1\" class=\"dataframe\">\n",
       "  <thead>\n",
       "    <tr style=\"text-align: right;\">\n",
       "      <th></th>\n",
       "      <th>ad_id</th>\n",
       "      <th>cpc</th>\n",
       "      <th>clicks</th>\n",
       "      <th>impressions</th>\n",
       "      <th>reach</th>\n",
       "      <th>bid_amount</th>\n",
       "      <th>daily_budget</th>\n",
       "      <th>0</th>\n",
       "      <th>1</th>\n",
       "      <th>2</th>\n",
       "      <th>...</th>\n",
       "      <th>14</th>\n",
       "      <th>15</th>\n",
       "      <th>16</th>\n",
       "      <th>17</th>\n",
       "      <th>18</th>\n",
       "      <th>19</th>\n",
       "      <th>20</th>\n",
       "      <th>21</th>\n",
       "      <th>22</th>\n",
       "      <th>23</th>\n",
       "    </tr>\n",
       "  </thead>\n",
       "  <tbody>\n",
       "    <tr>\n",
       "      <th>0</th>\n",
       "      <td>23843052139410246</td>\n",
       "      <td>2.409090</td>\n",
       "      <td>4</td>\n",
       "      <td>72</td>\n",
       "      <td>68</td>\n",
       "      <td>9</td>\n",
       "      <td>200</td>\n",
       "      <td>0</td>\n",
       "      <td>0</td>\n",
       "      <td>0</td>\n",
       "      <td>...</td>\n",
       "      <td>0</td>\n",
       "      <td>0</td>\n",
       "      <td>0</td>\n",
       "      <td>0</td>\n",
       "      <td>0</td>\n",
       "      <td>0</td>\n",
       "      <td>0</td>\n",
       "      <td>1</td>\n",
       "      <td>0</td>\n",
       "      <td>0</td>\n",
       "    </tr>\n",
       "    <tr>\n",
       "      <th>1</th>\n",
       "      <td>23843052139410246</td>\n",
       "      <td>2.730770</td>\n",
       "      <td>2</td>\n",
       "      <td>68</td>\n",
       "      <td>72</td>\n",
       "      <td>9</td>\n",
       "      <td>200</td>\n",
       "      <td>0</td>\n",
       "      <td>0</td>\n",
       "      <td>0</td>\n",
       "      <td>...</td>\n",
       "      <td>0</td>\n",
       "      <td>0</td>\n",
       "      <td>0</td>\n",
       "      <td>0</td>\n",
       "      <td>0</td>\n",
       "      <td>0</td>\n",
       "      <td>0</td>\n",
       "      <td>0</td>\n",
       "      <td>1</td>\n",
       "      <td>0</td>\n",
       "    </tr>\n",
       "    <tr>\n",
       "      <th>2</th>\n",
       "      <td>23843052139410246</td>\n",
       "      <td>2.785710</td>\n",
       "      <td>-28</td>\n",
       "      <td>-581</td>\n",
       "      <td>-581</td>\n",
       "      <td>9</td>\n",
       "      <td>200</td>\n",
       "      <td>0</td>\n",
       "      <td>0</td>\n",
       "      <td>0</td>\n",
       "      <td>...</td>\n",
       "      <td>0</td>\n",
       "      <td>0</td>\n",
       "      <td>0</td>\n",
       "      <td>0</td>\n",
       "      <td>0</td>\n",
       "      <td>0</td>\n",
       "      <td>0</td>\n",
       "      <td>0</td>\n",
       "      <td>0</td>\n",
       "      <td>1</td>\n",
       "    </tr>\n",
       "    <tr>\n",
       "      <th>3</th>\n",
       "      <td>23843052139410246</td>\n",
       "      <td>3.030127</td>\n",
       "      <td>0.1</td>\n",
       "      <td>2</td>\n",
       "      <td>2</td>\n",
       "      <td>9</td>\n",
       "      <td>200</td>\n",
       "      <td>1</td>\n",
       "      <td>0</td>\n",
       "      <td>0</td>\n",
       "      <td>...</td>\n",
       "      <td>0</td>\n",
       "      <td>0</td>\n",
       "      <td>0</td>\n",
       "      <td>0</td>\n",
       "      <td>0</td>\n",
       "      <td>0</td>\n",
       "      <td>0</td>\n",
       "      <td>0</td>\n",
       "      <td>0</td>\n",
       "      <td>0</td>\n",
       "    </tr>\n",
       "    <tr>\n",
       "      <th>4</th>\n",
       "      <td>23843052139410246</td>\n",
       "      <td>3.030127</td>\n",
       "      <td>0</td>\n",
       "      <td>0</td>\n",
       "      <td>0</td>\n",
       "      <td>9</td>\n",
       "      <td>200</td>\n",
       "      <td>0</td>\n",
       "      <td>1</td>\n",
       "      <td>0</td>\n",
       "      <td>...</td>\n",
       "      <td>0</td>\n",
       "      <td>0</td>\n",
       "      <td>0</td>\n",
       "      <td>0</td>\n",
       "      <td>0</td>\n",
       "      <td>0</td>\n",
       "      <td>0</td>\n",
       "      <td>0</td>\n",
       "      <td>0</td>\n",
       "      <td>0</td>\n",
       "    </tr>\n",
       "  </tbody>\n",
       "</table>\n",
       "<p>5 rows × 31 columns</p>\n",
       "</div>"
      ],
      "text/plain": [
       "               ad_id       cpc clicks impressions reach bid_amount  \\\n",
       "0  23843052139410246  2.409090      4          72    68          9   \n",
       "1  23843052139410246  2.730770      2          68    72          9   \n",
       "2  23843052139410246  2.785710    -28        -581  -581          9   \n",
       "3  23843052139410246  3.030127    0.1           2     2          9   \n",
       "4  23843052139410246  3.030127      0           0     0          9   \n",
       "\n",
       "  daily_budget  0  1  2 ... 14 15 16 17 18 19 20 21 22 23  \n",
       "0          200  0  0  0 ...  0  0  0  0  0  0  0  1  0  0  \n",
       "1          200  0  0  0 ...  0  0  0  0  0  0  0  0  1  0  \n",
       "2          200  0  0  0 ...  0  0  0  0  0  0  0  0  0  1  \n",
       "3          200  1  0  0 ...  0  0  0  0  0  0  0  0  0  0  \n",
       "4          200  0  1  0 ...  0  0  0  0  0  0  0  0  0  0  \n",
       "\n",
       "[5 rows x 31 columns]"
      ]
     },
     "execution_count": 18,
     "metadata": {},
     "output_type": "execute_result"
    }
   ],
   "source": [
    "train_y=[]\n",
    "train_Y=pd.DataFrame(columns=TRAIN.columns)\n",
    "for i in range(len(adid_list)):\n",
    "    print(adid_list[i])\n",
    "    train_y = TRAIN[(TRAIN.ad_id == adid_list[i]) ]\n",
    "#     print(train_y.request_time.dt.hour)\n",
    "#     train_y = train_y[(TRAIN.ad_id == adid_list[i]) & (TRAIN.request_time.dt.hour != 1)]\n",
    "#     train_y = train_y[(TRAIN.ad_id == adid_list[i]) & (TRAIN.request_time.dt.hour != 2)]\n",
    "#     print(train.request_time.dt.hour)\n",
    "#     train_y.drop(train_y.tail(3).index,inplace=True)\n",
    "    train_y.drop(train_y.head(3).index,inplace=True)\n",
    "    train_Y = pd.concat( [ train_Y, train_y ], ignore_index=True,sort=False )\n",
    "    print('-----------------------',len(train_Y))\n",
    "    train_Y = train_Y.drop(['request_time'], axis=1)\n",
    "#     train_Y = train_Y.dropna()\n",
    "train_Y = train_Y.reset_index(drop=True)\n",
    "train_Y.head()"
   ]
  },
  {
   "cell_type": "code",
   "execution_count": 19,
   "metadata": {},
   "outputs": [
    {
     "data": {
      "text/plain": [
       "23843052139410246"
      ]
     },
     "execution_count": 19,
     "metadata": {},
     "output_type": "execute_result"
    }
   ],
   "source": [
    "train_Xs['ad_id'].iloc[0,0]"
   ]
  },
  {
   "cell_type": "code",
   "execution_count": null,
   "metadata": {},
   "outputs": [],
   "source": []
  },
  {
   "cell_type": "code",
   "execution_count": 20,
   "metadata": {
    "hideCode": false,
    "hidePrompt": false
   },
   "outputs": [],
   "source": [
    "train_Xs = train_Xs.drop(['ad_id'], axis=1)\n",
    "train_Y = train_Y.drop(['ad_id'], axis=1)"
   ]
  },
  {
   "cell_type": "code",
   "execution_count": 21,
   "metadata": {
    "hideCode": false,
    "hidePrompt": false
   },
   "outputs": [],
   "source": [
    "test_X = train_Xs.iloc[:21,:]\n",
    "train_X = train_Xs.iloc[21:,:]"
   ]
  },
  {
   "cell_type": "code",
   "execution_count": 22,
   "metadata": {
    "hideCode": false,
    "hidePrompt": false
   },
   "outputs": [],
   "source": [
    "test_Y = train_Y.iloc[:21,:]\n",
    "train_Y = train_Y.iloc[21:,:]"
   ]
  },
  {
   "cell_type": "code",
   "execution_count": 23,
   "metadata": {},
   "outputs": [
    {
     "data": {
      "text/plain": [
       "Index([         'cpc',       'clicks',  'impressions',        'reach',\n",
       "         'bid_amount', 'daily_budget',              0,              1,\n",
       "                    2,              3,              4,              5,\n",
       "                    6,              7,              8,              9,\n",
       "                   10,             11,             12,             13,\n",
       "                   14,             15,             16,             17,\n",
       "                   18,             19,             20,             21,\n",
       "                   22,             23],\n",
       "      dtype='object')"
      ]
     },
     "execution_count": 23,
     "metadata": {},
     "output_type": "execute_result"
    }
   ],
   "source": [
    "train_Y.columns"
   ]
  },
  {
   "cell_type": "code",
   "execution_count": 39,
   "metadata": {
    "hideCode": false,
    "hidePrompt": false
   },
   "outputs": [],
   "source": [
    "def scaleData(train_X , train_Y):\n",
    "    from sklearn.preprocessing import StandardScaler\n",
    "    train_X_arr = train_X.values\n",
    "    train_Y_arr = train_Y[['cpc','clicks']].values\n",
    "#     train_Y_arr = train_Y[['clicks','cpc']].values\n",
    "    #train_Y_arr = train_Y_arr.reshape(-1,1)\n",
    "\n",
    "    scalerX = StandardScaler().fit(train_X_arr)\n",
    "    scaled_X = scalerX.transform(train_X_arr)\n",
    "    scalerY = StandardScaler().fit(train_Y_arr)\n",
    "    scaled_Y = scalerY.transform(train_Y_arr)\n",
    "    return scalerX, scaled_X, scalerY, scaled_Y"
   ]
  },
  {
   "cell_type": "code",
   "execution_count": 40,
   "metadata": {
    "hideCode": false,
    "hidePrompt": false
   },
   "outputs": [
    {
     "name": "stderr",
     "output_type": "stream",
     "text": [
      "/usr/local/lib/python3.5/dist-packages/sklearn/utils/validation.py:590: DataConversionWarning: Data with input dtype object was converted to float64 by StandardScaler.\n",
      "  warnings.warn(msg, DataConversionWarning)\n",
      "/usr/local/lib/python3.5/dist-packages/sklearn/utils/validation.py:590: DataConversionWarning: Data with input dtype object was converted to float64 by StandardScaler.\n",
      "  warnings.warn(msg, DataConversionWarning)\n",
      "/usr/local/lib/python3.5/dist-packages/sklearn/utils/validation.py:590: DataConversionWarning: Data with input dtype object was converted to float64 by StandardScaler.\n",
      "  warnings.warn(msg, DataConversionWarning)\n",
      "/usr/local/lib/python3.5/dist-packages/sklearn/utils/validation.py:590: DataConversionWarning: Data with input dtype object was converted to float64 by StandardScaler.\n",
      "  warnings.warn(msg, DataConversionWarning)\n"
     ]
    }
   ],
   "source": [
    "scalerX, scaled_X, scalerY, scaled_Y = scaleData(train_X , train_Y[['cpc','clicks']] )"
   ]
  },
  {
   "cell_type": "code",
   "execution_count": 41,
   "metadata": {},
   "outputs": [
    {
     "data": {
      "text/plain": [
       "['IT_stateful_scalerY.pkl']"
      ]
     },
     "execution_count": 41,
     "metadata": {},
     "output_type": "execute_result"
    }
   ],
   "source": [
    "from sklearn.externals import joblib\n",
    "scalerX_filename = \"IT_stateful_scalerX.pkl\"\n",
    "scalerY_filename = \"IT_stateful_scalerY.pkl\"\n",
    "joblib.dump(scalerX, scalerX_filename) \n",
    "joblib.dump(scalerY, scalerY_filename) "
   ]
  },
  {
   "cell_type": "code",
   "execution_count": 42,
   "metadata": {
    "hideCode": false,
    "hidePrompt": false
   },
   "outputs": [],
   "source": [
    "from keras.models import Sequential\n",
    "from keras.layers import LSTM, Dense, Dropout\n",
    "from keras import optimizers, metrics\n",
    "from keras.callbacks import EarlyStopping\n",
    "from keras.models import load_model\n",
    "from sklearn.externals import joblib \n",
    "\n",
    "BATCH_SIZE = 1\n",
    "ITERATION = 10\n",
    "EPOCH = 500\n",
    "NEURONS = 128\n",
    "MODEL_NAME = 'IT_test_cpc_' +  str(ITERATION) + '_' + str(EPOCH) + '_' + str(NEURONS) + '.h5'\n"
   ]
  },
  {
   "cell_type": "code",
   "execution_count": 43,
   "metadata": {
    "hideCode": false,
    "hidePrompt": false
   },
   "outputs": [],
   "source": [
    "def create_model(train, target, batch_size, iteration, neurons, epoch):\n",
    "    x, y = train, target\n",
    "    x = train.reshape(train.shape[0], 1, train.shape[1])\n",
    "    #x = train.values.reshape(train.shape[0], 1, train.shape[1])\n",
    "    \n",
    "    model = Sequential()\n",
    "    model.add(LSTM( int(neurons) , batch_input_shape=(batch_size, x.shape[1], x.shape[2]), stateful = True, return_sequences=True))\n",
    "    model.add(Dropout(0.2))\n",
    "\n",
    "    model.add(LSTM(neurons, batch_input_shape=(batch_size, x.shape[1], x.shape[2]), stateful=True))\n",
    "    model.add(Dropout(0.2))\n",
    "    model.add(Dense(target.shape[1]))\n",
    "    model.compile(loss='mse', optimizer='adam',metrics=[metrics.mse])\n",
    "    \n",
    "    es = EarlyStopping(monitor='val_loss', patience=10)\n",
    "#     history = model.fit(x, y, epochs=EPOCH, batch_size=batch_size, verbose=1, shuffle=False, validation_split=0.2, callbacks=[es])\n",
    "#     plt.plot(history.history['val_loss'], 'r')\n",
    "    \n",
    "    for i in range(iteration):\n",
    "        print('====round', str(i) +  '/' + str(iteration))\n",
    "        history = model.fit(x, y, epochs=EPOCH, batch_size=batch_size,\n",
    "                  verbose=1, shuffle=False, validation_split=0.2, callbacks=[es])\n",
    "        #plt.plot(history.history['val_loss'], 'r')\n",
    "        model.reset_states()\n",
    "    model.save(MODEL_NAME)\n",
    "    return model, history"
   ]
  },
  {
   "cell_type": "code",
   "execution_count": 44,
   "metadata": {
    "hideCode": false,
    "hidePrompt": false,
    "scrolled": true
   },
   "outputs": [
    {
     "name": "stdout",
     "output_type": "stream",
     "text": [
      "====round 0/10\n",
      "Train on 196 samples, validate on 49 samples\n",
      "Epoch 1/500\n",
      "196/196 [==============================] - 2s 11ms/step - loss: 1.0403 - mean_squared_error: 1.0403 - val_loss: 1.8842 - val_mean_squared_error: 1.8842\n",
      "Epoch 2/500\n",
      "196/196 [==============================] - 1s 4ms/step - loss: 0.9376 - mean_squared_error: 0.9376 - val_loss: 0.9605 - val_mean_squared_error: 0.9605\n",
      "Epoch 3/500\n",
      "196/196 [==============================] - 1s 4ms/step - loss: 0.8846 - mean_squared_error: 0.8846 - val_loss: 1.1126 - val_mean_squared_error: 1.1126\n",
      "Epoch 4/500\n",
      "196/196 [==============================] - 1s 4ms/step - loss: 0.8619 - mean_squared_error: 0.8619 - val_loss: 1.0049 - val_mean_squared_error: 1.0049\n",
      "Epoch 5/500\n",
      "196/196 [==============================] - 1s 4ms/step - loss: 0.8000 - mean_squared_error: 0.8000 - val_loss: 0.8770 - val_mean_squared_error: 0.8770\n",
      "Epoch 6/500\n",
      "196/196 [==============================] - 1s 4ms/step - loss: 0.7960 - mean_squared_error: 0.7960 - val_loss: 0.7589 - val_mean_squared_error: 0.7589\n",
      "Epoch 7/500\n",
      "196/196 [==============================] - 1s 4ms/step - loss: 0.7103 - mean_squared_error: 0.7103 - val_loss: 0.6475 - val_mean_squared_error: 0.6475\n",
      "Epoch 8/500\n",
      "196/196 [==============================] - 1s 4ms/step - loss: 0.6835 - mean_squared_error: 0.6835 - val_loss: 0.6957 - val_mean_squared_error: 0.6957\n",
      "Epoch 9/500\n",
      "196/196 [==============================] - 1s 4ms/step - loss: 0.6844 - mean_squared_error: 0.6844 - val_loss: 0.5448 - val_mean_squared_error: 0.5448\n",
      "Epoch 10/500\n",
      "196/196 [==============================] - 1s 6ms/step - loss: 0.6857 - mean_squared_error: 0.6857 - val_loss: 0.5531 - val_mean_squared_error: 0.5531\n",
      "Epoch 11/500\n",
      "196/196 [==============================] - 1s 6ms/step - loss: 0.6340 - mean_squared_error: 0.6340 - val_loss: 0.4788 - val_mean_squared_error: 0.4788\n",
      "Epoch 12/500\n",
      "196/196 [==============================] - 1s 6ms/step - loss: 0.5083 - mean_squared_error: 0.5083 - val_loss: 0.5172 - val_mean_squared_error: 0.5172\n",
      "Epoch 13/500\n",
      "196/196 [==============================] - 1s 6ms/step - loss: 0.7287 - mean_squared_error: 0.7287 - val_loss: 0.5447 - val_mean_squared_error: 0.5447\n",
      "Epoch 14/500\n",
      "196/196 [==============================] - 1s 6ms/step - loss: 0.7012 - mean_squared_error: 0.7012 - val_loss: 0.6330 - val_mean_squared_error: 0.6330\n",
      "Epoch 15/500\n",
      "196/196 [==============================] - 1s 6ms/step - loss: 0.6429 - mean_squared_error: 0.6429 - val_loss: 0.4516 - val_mean_squared_error: 0.4516\n",
      "Epoch 16/500\n",
      "196/196 [==============================] - 1s 7ms/step - loss: 0.5432 - mean_squared_error: 0.5432 - val_loss: 0.4843 - val_mean_squared_error: 0.4843\n",
      "Epoch 17/500\n",
      "196/196 [==============================] - 1s 6ms/step - loss: 0.4990 - mean_squared_error: 0.4990 - val_loss: 0.5631 - val_mean_squared_error: 0.5631\n",
      "Epoch 18/500\n",
      "196/196 [==============================] - 1s 6ms/step - loss: 0.6193 - mean_squared_error: 0.6193 - val_loss: 0.5995 - val_mean_squared_error: 0.5995\n",
      "Epoch 19/500\n",
      "196/196 [==============================] - 1s 6ms/step - loss: 0.4614 - mean_squared_error: 0.4614 - val_loss: 0.6663 - val_mean_squared_error: 0.6663\n",
      "Epoch 20/500\n",
      "196/196 [==============================] - 1s 5ms/step - loss: 0.4591 - mean_squared_error: 0.4591 - val_loss: 0.5189 - val_mean_squared_error: 0.5189\n",
      "Epoch 21/500\n",
      "196/196 [==============================] - 1s 5ms/step - loss: 0.5134 - mean_squared_error: 0.5134 - val_loss: 0.4414 - val_mean_squared_error: 0.4414\n",
      "Epoch 22/500\n",
      "196/196 [==============================] - 1s 5ms/step - loss: 0.3812 - mean_squared_error: 0.3812 - val_loss: 0.4094 - val_mean_squared_error: 0.4094\n",
      "Epoch 23/500\n",
      "196/196 [==============================] - 1s 5ms/step - loss: 0.8304 - mean_squared_error: 0.8304 - val_loss: 0.4710 - val_mean_squared_error: 0.4710\n",
      "Epoch 24/500\n",
      "196/196 [==============================] - 1s 5ms/step - loss: 0.4182 - mean_squared_error: 0.4182 - val_loss: 0.4993 - val_mean_squared_error: 0.4993\n",
      "Epoch 25/500\n",
      "196/196 [==============================] - 1s 5ms/step - loss: 0.4413 - mean_squared_error: 0.4413 - val_loss: 0.4664 - val_mean_squared_error: 0.4664\n",
      "Epoch 26/500\n",
      "196/196 [==============================] - 1s 5ms/step - loss: 0.4134 - mean_squared_error: 0.4134 - val_loss: 0.4186 - val_mean_squared_error: 0.4186\n",
      "Epoch 27/500\n",
      "196/196 [==============================] - 1s 4ms/step - loss: 0.3564 - mean_squared_error: 0.3564 - val_loss: 0.4271 - val_mean_squared_error: 0.4271\n",
      "Epoch 28/500\n",
      "196/196 [==============================] - 1s 5ms/step - loss: 0.2716 - mean_squared_error: 0.2716 - val_loss: 0.4716 - val_mean_squared_error: 0.4716\n",
      "Epoch 29/500\n",
      "196/196 [==============================] - 1s 5ms/step - loss: 0.6353 - mean_squared_error: 0.6353 - val_loss: 0.4118 - val_mean_squared_error: 0.4118\n",
      "Epoch 30/500\n",
      "196/196 [==============================] - 1s 5ms/step - loss: 0.3194 - mean_squared_error: 0.3194 - val_loss: 0.4256 - val_mean_squared_error: 0.4256\n",
      "Epoch 31/500\n",
      "196/196 [==============================] - 1s 4ms/step - loss: 0.3722 - mean_squared_error: 0.3722 - val_loss: 0.4821 - val_mean_squared_error: 0.4821\n",
      "Epoch 32/500\n",
      "196/196 [==============================] - 1s 4ms/step - loss: 1.2819 - mean_squared_error: 1.2819 - val_loss: 0.5164 - val_mean_squared_error: 0.5164\n",
      "====round 1/10\n",
      "Train on 196 samples, validate on 49 samples\n",
      "Epoch 1/500\n",
      "196/196 [==============================] - 1s 5ms/step - loss: 0.6410 - mean_squared_error: 0.6410 - val_loss: 0.5236 - val_mean_squared_error: 0.5236\n",
      "Epoch 2/500\n",
      "196/196 [==============================] - 1s 4ms/step - loss: 0.5011 - mean_squared_error: 0.5011 - val_loss: 0.5084 - val_mean_squared_error: 0.5084\n",
      "Epoch 3/500\n",
      "196/196 [==============================] - 1s 4ms/step - loss: 0.4293 - mean_squared_error: 0.4293 - val_loss: 0.5920 - val_mean_squared_error: 0.5920\n",
      "Epoch 4/500\n",
      "196/196 [==============================] - 1s 4ms/step - loss: 0.5224 - mean_squared_error: 0.5224 - val_loss: 0.5761 - val_mean_squared_error: 0.5761\n",
      "Epoch 5/500\n",
      "196/196 [==============================] - 1s 4ms/step - loss: 0.3397 - mean_squared_error: 0.3397 - val_loss: 0.5563 - val_mean_squared_error: 0.5563\n",
      "Epoch 6/500\n",
      "196/196 [==============================] - 1s 4ms/step - loss: 0.5323 - mean_squared_error: 0.5323 - val_loss: 0.4971 - val_mean_squared_error: 0.4971\n",
      "Epoch 7/500\n",
      "196/196 [==============================] - 1s 4ms/step - loss: 0.3166 - mean_squared_error: 0.3166 - val_loss: 0.4691 - val_mean_squared_error: 0.4691\n",
      "Epoch 8/500\n",
      "196/196 [==============================] - 1s 4ms/step - loss: 0.2317 - mean_squared_error: 0.2317 - val_loss: 0.4952 - val_mean_squared_error: 0.4952\n",
      "Epoch 9/500\n",
      "196/196 [==============================] - 1s 4ms/step - loss: 0.1989 - mean_squared_error: 0.1989 - val_loss: 0.5407 - val_mean_squared_error: 0.5407\n",
      "Epoch 10/500\n",
      "196/196 [==============================] - 1s 5ms/step - loss: 0.3569 - mean_squared_error: 0.3569 - val_loss: 0.5705 - val_mean_squared_error: 0.5705\n",
      "Epoch 11/500\n",
      "196/196 [==============================] - 1s 5ms/step - loss: 0.7425 - mean_squared_error: 0.7425 - val_loss: 0.6249 - val_mean_squared_error: 0.6249\n",
      "Epoch 12/500\n",
      "196/196 [==============================] - 1s 4ms/step - loss: 0.3896 - mean_squared_error: 0.3896 - val_loss: 0.5071 - val_mean_squared_error: 0.5071\n",
      "Epoch 13/500\n",
      "196/196 [==============================] - 1s 4ms/step - loss: 0.3705 - mean_squared_error: 0.3705 - val_loss: 0.5238 - val_mean_squared_error: 0.5238\n",
      "Epoch 14/500\n",
      "196/196 [==============================] - 1s 4ms/step - loss: 0.3437 - mean_squared_error: 0.3437 - val_loss: 0.6010 - val_mean_squared_error: 0.6010\n",
      "Epoch 15/500\n",
      "196/196 [==============================] - 1s 5ms/step - loss: 0.2087 - mean_squared_error: 0.2087 - val_loss: 0.6946 - val_mean_squared_error: 0.6946\n",
      "Epoch 16/500\n",
      "196/196 [==============================] - 1s 5ms/step - loss: 0.1935 - mean_squared_error: 0.1935 - val_loss: 0.6971 - val_mean_squared_error: 0.6971\n",
      "Epoch 17/500\n",
      "196/196 [==============================] - 1s 4ms/step - loss: 0.4906 - mean_squared_error: 0.4906 - val_loss: 0.6787 - val_mean_squared_error: 0.6787\n",
      "====round 2/10\n",
      "Train on 196 samples, validate on 49 samples\n",
      "Epoch 1/500\n"
     ]
    },
    {
     "name": "stdout",
     "output_type": "stream",
     "text": [
      "196/196 [==============================] - 1s 4ms/step - loss: 0.3777 - mean_squared_error: 0.3777 - val_loss: 0.6009 - val_mean_squared_error: 0.6009\n",
      "Epoch 2/500\n",
      "196/196 [==============================] - 1s 3ms/step - loss: 0.6001 - mean_squared_error: 0.6001 - val_loss: 0.6565 - val_mean_squared_error: 0.6565\n",
      "Epoch 3/500\n",
      "196/196 [==============================] - 1s 3ms/step - loss: 0.1851 - mean_squared_error: 0.1851 - val_loss: 0.7777 - val_mean_squared_error: 0.7777\n",
      "Epoch 4/500\n",
      "196/196 [==============================] - 1s 4ms/step - loss: 0.1136 - mean_squared_error: 0.1136 - val_loss: 0.8478 - val_mean_squared_error: 0.8478\n",
      "Epoch 5/500\n",
      "196/196 [==============================] - 1s 4ms/step - loss: 0.1249 - mean_squared_error: 0.1249 - val_loss: 0.6659 - val_mean_squared_error: 0.6659\n",
      "Epoch 6/500\n",
      "196/196 [==============================] - 1s 4ms/step - loss: 0.0962 - mean_squared_error: 0.0962 - val_loss: 0.6758 - val_mean_squared_error: 0.6758\n",
      "Epoch 7/500\n",
      "196/196 [==============================] - 1s 4ms/step - loss: 0.1309 - mean_squared_error: 0.1309 - val_loss: 0.7257 - val_mean_squared_error: 0.7257\n",
      "Epoch 8/500\n",
      "196/196 [==============================] - 1s 4ms/step - loss: 0.1485 - mean_squared_error: 0.1485 - val_loss: 0.7019 - val_mean_squared_error: 0.7019\n",
      "Epoch 9/500\n",
      "196/196 [==============================] - 1s 4ms/step - loss: 0.3751 - mean_squared_error: 0.3751 - val_loss: 0.5876 - val_mean_squared_error: 0.5876\n",
      "Epoch 10/500\n",
      "196/196 [==============================] - 1s 4ms/step - loss: 0.1683 - mean_squared_error: 0.1683 - val_loss: 0.6583 - val_mean_squared_error: 0.6583\n",
      "Epoch 11/500\n",
      "196/196 [==============================] - 1s 4ms/step - loss: 1.1258 - mean_squared_error: 1.1258 - val_loss: 0.7072 - val_mean_squared_error: 0.7072\n",
      "Epoch 12/500\n",
      "196/196 [==============================] - 1s 4ms/step - loss: 0.4717 - mean_squared_error: 0.4717 - val_loss: 0.7320 - val_mean_squared_error: 0.7320\n",
      "Epoch 13/500\n",
      "196/196 [==============================] - 1s 4ms/step - loss: 0.2055 - mean_squared_error: 0.2055 - val_loss: 0.6887 - val_mean_squared_error: 0.6887\n",
      "Epoch 14/500\n",
      "196/196 [==============================] - 1s 4ms/step - loss: 0.2701 - mean_squared_error: 0.2701 - val_loss: 0.6941 - val_mean_squared_error: 0.6941\n",
      "Epoch 15/500\n",
      "196/196 [==============================] - 1s 4ms/step - loss: 0.1518 - mean_squared_error: 0.1518 - val_loss: 0.7211 - val_mean_squared_error: 0.7211\n",
      "Epoch 16/500\n",
      "196/196 [==============================] - 1s 4ms/step - loss: 0.1549 - mean_squared_error: 0.1549 - val_loss: 0.8668 - val_mean_squared_error: 0.8668\n",
      "Epoch 17/500\n",
      "196/196 [==============================] - 1s 4ms/step - loss: 0.1295 - mean_squared_error: 0.1295 - val_loss: 0.7177 - val_mean_squared_error: 0.7177\n",
      "Epoch 18/500\n",
      "196/196 [==============================] - 1s 4ms/step - loss: 0.7711 - mean_squared_error: 0.7711 - val_loss: 0.6070 - val_mean_squared_error: 0.6070\n",
      "Epoch 19/500\n",
      "196/196 [==============================] - 1s 4ms/step - loss: 0.1510 - mean_squared_error: 0.1510 - val_loss: 0.6054 - val_mean_squared_error: 0.6054\n",
      "====round 3/10\n",
      "Train on 196 samples, validate on 49 samples\n",
      "Epoch 1/500\n",
      "196/196 [==============================] - 1s 4ms/step - loss: 0.1483 - mean_squared_error: 0.1483 - val_loss: 0.6855 - val_mean_squared_error: 0.6855\n",
      "Epoch 2/500\n",
      "196/196 [==============================] - 1s 4ms/step - loss: 0.1062 - mean_squared_error: 0.1062 - val_loss: 0.6522 - val_mean_squared_error: 0.6522\n",
      "Epoch 3/500\n",
      "196/196 [==============================] - 1s 4ms/step - loss: 0.0945 - mean_squared_error: 0.0945 - val_loss: 0.6748 - val_mean_squared_error: 0.6748\n",
      "Epoch 4/500\n",
      "196/196 [==============================] - 1s 4ms/step - loss: 0.1072 - mean_squared_error: 0.1072 - val_loss: 0.6765 - val_mean_squared_error: 0.6765\n",
      "Epoch 5/500\n",
      "196/196 [==============================] - 1s 4ms/step - loss: 0.0751 - mean_squared_error: 0.0751 - val_loss: 0.6317 - val_mean_squared_error: 0.6317\n",
      "Epoch 6/500\n",
      "196/196 [==============================] - 1s 4ms/step - loss: 0.0951 - mean_squared_error: 0.0951 - val_loss: 0.5768 - val_mean_squared_error: 0.5768\n",
      "Epoch 7/500\n",
      "196/196 [==============================] - 1s 4ms/step - loss: 0.1511 - mean_squared_error: 0.1511 - val_loss: 0.7294 - val_mean_squared_error: 0.7294\n",
      "Epoch 8/500\n",
      "196/196 [==============================] - 1s 5ms/step - loss: 0.4830 - mean_squared_error: 0.4830 - val_loss: 0.6065 - val_mean_squared_error: 0.6065\n",
      "Epoch 9/500\n",
      "196/196 [==============================] - 1s 6ms/step - loss: 0.2402 - mean_squared_error: 0.2402 - val_loss: 0.6371 - val_mean_squared_error: 0.6371\n",
      "Epoch 10/500\n",
      "196/196 [==============================] - 1s 7ms/step - loss: 0.1540 - mean_squared_error: 0.1540 - val_loss: 0.5574 - val_mean_squared_error: 0.5574\n",
      "Epoch 11/500\n",
      "196/196 [==============================] - 1s 7ms/step - loss: 0.0782 - mean_squared_error: 0.0782 - val_loss: 0.5977 - val_mean_squared_error: 0.5977\n",
      "Epoch 12/500\n",
      "196/196 [==============================] - 1s 7ms/step - loss: 0.0984 - mean_squared_error: 0.0984 - val_loss: 0.6121 - val_mean_squared_error: 0.6121\n",
      "Epoch 13/500\n",
      "196/196 [==============================] - 1s 6ms/step - loss: 0.0766 - mean_squared_error: 0.0766 - val_loss: 0.6522 - val_mean_squared_error: 0.6522\n",
      "Epoch 14/500\n",
      "196/196 [==============================] - 1s 7ms/step - loss: 0.3476 - mean_squared_error: 0.3476 - val_loss: 0.6612 - val_mean_squared_error: 0.6612\n",
      "Epoch 15/500\n",
      "196/196 [==============================] - 1s 7ms/step - loss: 0.4032 - mean_squared_error: 0.4032 - val_loss: 0.6342 - val_mean_squared_error: 0.6342\n",
      "Epoch 16/500\n",
      "196/196 [==============================] - 1s 6ms/step - loss: 0.2330 - mean_squared_error: 0.2330 - val_loss: 0.7805 - val_mean_squared_error: 0.7805\n",
      "Epoch 17/500\n",
      "196/196 [==============================] - 1s 5ms/step - loss: 0.3048 - mean_squared_error: 0.3048 - val_loss: 0.6797 - val_mean_squared_error: 0.6797\n",
      "Epoch 18/500\n",
      "196/196 [==============================] - 1s 5ms/step - loss: 0.1724 - mean_squared_error: 0.1724 - val_loss: 0.7290 - val_mean_squared_error: 0.7290\n",
      "Epoch 19/500\n",
      "196/196 [==============================] - 1s 5ms/step - loss: 0.1409 - mean_squared_error: 0.1409 - val_loss: 0.7248 - val_mean_squared_error: 0.7248\n",
      "Epoch 20/500\n",
      "196/196 [==============================] - 1s 5ms/step - loss: 0.0669 - mean_squared_error: 0.0669 - val_loss: 0.6255 - val_mean_squared_error: 0.6255\n",
      "====round 4/10\n",
      "Train on 196 samples, validate on 49 samples\n",
      "Epoch 1/500\n",
      "196/196 [==============================] - 1s 5ms/step - loss: 0.1085 - mean_squared_error: 0.1085 - val_loss: 0.6474 - val_mean_squared_error: 0.6474\n",
      "Epoch 2/500\n",
      "196/196 [==============================] - 1s 5ms/step - loss: 0.0719 - mean_squared_error: 0.0719 - val_loss: 0.6232 - val_mean_squared_error: 0.6232\n",
      "Epoch 3/500\n",
      "196/196 [==============================] - 1s 5ms/step - loss: 0.0857 - mean_squared_error: 0.0857 - val_loss: 0.6108 - val_mean_squared_error: 0.6108\n",
      "Epoch 4/500\n",
      "196/196 [==============================] - 1s 4ms/step - loss: 0.1199 - mean_squared_error: 0.1199 - val_loss: 0.5769 - val_mean_squared_error: 0.5769\n",
      "Epoch 5/500\n",
      "196/196 [==============================] - 1s 5ms/step - loss: 0.0712 - mean_squared_error: 0.0712 - val_loss: 0.5983 - val_mean_squared_error: 0.5983\n",
      "Epoch 6/500\n",
      "196/196 [==============================] - 1s 5ms/step - loss: 0.0665 - mean_squared_error: 0.0665 - val_loss: 0.6326 - val_mean_squared_error: 0.6326\n",
      "Epoch 7/500\n",
      "196/196 [==============================] - 1s 6ms/step - loss: 0.3436 - mean_squared_error: 0.3436 - val_loss: 0.5966 - val_mean_squared_error: 0.5966\n",
      "Epoch 8/500\n",
      "196/196 [==============================] - 1s 6ms/step - loss: 0.0809 - mean_squared_error: 0.0809 - val_loss: 0.5634 - val_mean_squared_error: 0.5634\n",
      "Epoch 9/500\n",
      "196/196 [==============================] - 1s 5ms/step - loss: 0.0555 - mean_squared_error: 0.0555 - val_loss: 0.5423 - val_mean_squared_error: 0.5423\n",
      "Epoch 10/500\n",
      "196/196 [==============================] - 1s 5ms/step - loss: 0.0847 - mean_squared_error: 0.0847 - val_loss: 0.5778 - val_mean_squared_error: 0.5778\n",
      "Epoch 11/500\n",
      "196/196 [==============================] - 1s 6ms/step - loss: 0.1000 - mean_squared_error: 0.1000 - val_loss: 0.5384 - val_mean_squared_error: 0.5384\n",
      "Epoch 12/500\n",
      "196/196 [==============================] - 1s 5ms/step - loss: 0.0659 - mean_squared_error: 0.0659 - val_loss: 0.5616 - val_mean_squared_error: 0.5616\n",
      "Epoch 13/500\n",
      "196/196 [==============================] - 1s 5ms/step - loss: 0.0486 - mean_squared_error: 0.0486 - val_loss: 0.5628 - val_mean_squared_error: 0.5628\n",
      "Epoch 14/500\n",
      "196/196 [==============================] - 1s 5ms/step - loss: 0.0781 - mean_squared_error: 0.0781 - val_loss: 0.5179 - val_mean_squared_error: 0.5179\n",
      "Epoch 15/500\n",
      "196/196 [==============================] - 1s 5ms/step - loss: 0.0592 - mean_squared_error: 0.0592 - val_loss: 0.5144 - val_mean_squared_error: 0.5144\n",
      "Epoch 16/500\n",
      "196/196 [==============================] - 1s 5ms/step - loss: 0.2806 - mean_squared_error: 0.2806 - val_loss: 0.5740 - val_mean_squared_error: 0.5740\n",
      "Epoch 17/500\n",
      "196/196 [==============================] - 1s 5ms/step - loss: 0.1044 - mean_squared_error: 0.1044 - val_loss: 0.5809 - val_mean_squared_error: 0.5809\n",
      "Epoch 18/500\n",
      "196/196 [==============================] - 1s 5ms/step - loss: 0.0584 - mean_squared_error: 0.0584 - val_loss: 0.5953 - val_mean_squared_error: 0.5953\n",
      "Epoch 19/500\n",
      "196/196 [==============================] - 1s 5ms/step - loss: 0.0627 - mean_squared_error: 0.0627 - val_loss: 0.5833 - val_mean_squared_error: 0.5833\n",
      "Epoch 20/500\n",
      "196/196 [==============================] - 1s 5ms/step - loss: 0.0887 - mean_squared_error: 0.0887 - val_loss: 0.5716 - val_mean_squared_error: 0.5716\n",
      "Epoch 21/500\n",
      "196/196 [==============================] - 1s 5ms/step - loss: 0.0715 - mean_squared_error: 0.0715 - val_loss: 0.5877 - val_mean_squared_error: 0.5877\n",
      "Epoch 22/500\n",
      "196/196 [==============================] - 1s 4ms/step - loss: 0.0497 - mean_squared_error: 0.0497 - val_loss: 0.5944 - val_mean_squared_error: 0.5944\n",
      "Epoch 23/500\n",
      "196/196 [==============================] - 1s 5ms/step - loss: 0.0509 - mean_squared_error: 0.0509 - val_loss: 0.6686 - val_mean_squared_error: 0.6686\n",
      "Epoch 24/500\n",
      "196/196 [==============================] - 1s 5ms/step - loss: 0.0508 - mean_squared_error: 0.0508 - val_loss: 0.6769 - val_mean_squared_error: 0.6769\n",
      "Epoch 25/500\n",
      "196/196 [==============================] - 1s 5ms/step - loss: 0.0514 - mean_squared_error: 0.0514 - val_loss: 0.6660 - val_mean_squared_error: 0.6660\n",
      "====round 5/10\n",
      "Train on 196 samples, validate on 49 samples\n",
      "Epoch 1/500\n",
      "196/196 [==============================] - 1s 5ms/step - loss: 0.1254 - mean_squared_error: 0.1254 - val_loss: 0.7766 - val_mean_squared_error: 0.7766\n",
      "Epoch 2/500\n",
      "196/196 [==============================] - 1s 5ms/step - loss: 0.0750 - mean_squared_error: 0.0750 - val_loss: 0.6489 - val_mean_squared_error: 0.6489\n",
      "Epoch 3/500\n",
      "196/196 [==============================] - 1s 4ms/step - loss: 0.0703 - mean_squared_error: 0.0703 - val_loss: 0.6531 - val_mean_squared_error: 0.6531\n",
      "Epoch 4/500\n",
      "196/196 [==============================] - 1s 4ms/step - loss: 0.0639 - mean_squared_error: 0.0639 - val_loss: 0.6324 - val_mean_squared_error: 0.6324\n",
      "Epoch 5/500\n",
      "196/196 [==============================] - 1s 4ms/step - loss: 0.0519 - mean_squared_error: 0.0519 - val_loss: 0.6766 - val_mean_squared_error: 0.6766\n",
      "Epoch 6/500\n",
      "196/196 [==============================] - 1s 4ms/step - loss: 0.0642 - mean_squared_error: 0.0642 - val_loss: 0.5999 - val_mean_squared_error: 0.5999\n",
      "Epoch 7/500\n",
      "196/196 [==============================] - 1s 4ms/step - loss: 0.0506 - mean_squared_error: 0.0506 - val_loss: 0.5682 - val_mean_squared_error: 0.5682\n",
      "Epoch 8/500\n",
      "196/196 [==============================] - 1s 4ms/step - loss: 0.0628 - mean_squared_error: 0.0628 - val_loss: 0.7314 - val_mean_squared_error: 0.7314\n",
      "Epoch 9/500\n",
      "196/196 [==============================] - 1s 4ms/step - loss: 0.0542 - mean_squared_error: 0.0542 - val_loss: 0.7293 - val_mean_squared_error: 0.7293\n",
      "Epoch 10/500\n",
      "196/196 [==============================] - 1s 4ms/step - loss: 0.0646 - mean_squared_error: 0.0646 - val_loss: 0.6383 - val_mean_squared_error: 0.6383\n",
      "Epoch 11/500\n",
      "196/196 [==============================] - 1s 4ms/step - loss: 0.0490 - mean_squared_error: 0.0490 - val_loss: 0.7028 - val_mean_squared_error: 0.7028\n",
      "Epoch 12/500\n",
      "196/196 [==============================] - 1s 4ms/step - loss: 0.0554 - mean_squared_error: 0.0554 - val_loss: 0.7144 - val_mean_squared_error: 0.7144\n",
      "Epoch 13/500\n",
      "196/196 [==============================] - 1s 5ms/step - loss: 0.0583 - mean_squared_error: 0.0583 - val_loss: 0.8702 - val_mean_squared_error: 0.8702\n",
      "Epoch 14/500\n",
      "196/196 [==============================] - 1s 4ms/step - loss: 0.4806 - mean_squared_error: 0.4806 - val_loss: 0.9107 - val_mean_squared_error: 0.9107\n",
      "Epoch 15/500\n",
      "196/196 [==============================] - 1s 4ms/step - loss: 0.2274 - mean_squared_error: 0.2274 - val_loss: 1.0861 - val_mean_squared_error: 1.0861\n",
      "Epoch 16/500\n",
      "196/196 [==============================] - 1s 4ms/step - loss: 0.1117 - mean_squared_error: 0.1117 - val_loss: 0.9351 - val_mean_squared_error: 0.9351\n",
      "Epoch 17/500\n",
      "196/196 [==============================] - 1s 4ms/step - loss: 0.0629 - mean_squared_error: 0.0629 - val_loss: 1.0028 - val_mean_squared_error: 1.0028\n",
      "====round 6/10\n",
      "Train on 196 samples, validate on 49 samples\n",
      "Epoch 1/500\n",
      "196/196 [==============================] - 1s 4ms/step - loss: 0.0835 - mean_squared_error: 0.0835 - val_loss: 0.8991 - val_mean_squared_error: 0.8991\n",
      "Epoch 2/500\n",
      "196/196 [==============================] - 1s 4ms/step - loss: 0.0830 - mean_squared_error: 0.0830 - val_loss: 0.8462 - val_mean_squared_error: 0.8462\n",
      "Epoch 3/500\n",
      "196/196 [==============================] - 1s 4ms/step - loss: 0.0628 - mean_squared_error: 0.0628 - val_loss: 0.8517 - val_mean_squared_error: 0.8517\n",
      "Epoch 4/500\n",
      "196/196 [==============================] - 1s 4ms/step - loss: 0.0710 - mean_squared_error: 0.0710 - val_loss: 0.9352 - val_mean_squared_error: 0.9352\n",
      "Epoch 5/500\n",
      "196/196 [==============================] - 1s 3ms/step - loss: 0.0502 - mean_squared_error: 0.0502 - val_loss: 0.9085 - val_mean_squared_error: 0.9085\n",
      "Epoch 6/500\n",
      "196/196 [==============================] - 1s 3ms/step - loss: 0.0477 - mean_squared_error: 0.0477 - val_loss: 0.9457 - val_mean_squared_error: 0.9457\n",
      "Epoch 7/500\n",
      "196/196 [==============================] - 1s 4ms/step - loss: 0.0682 - mean_squared_error: 0.0682 - val_loss: 0.9572 - val_mean_squared_error: 0.9572\n",
      "Epoch 8/500\n",
      "196/196 [==============================] - 1s 3ms/step - loss: 0.0415 - mean_squared_error: 0.0415 - val_loss: 1.0017 - val_mean_squared_error: 1.0017\n",
      "Epoch 9/500\n",
      "196/196 [==============================] - 1s 4ms/step - loss: 0.0895 - mean_squared_error: 0.0895 - val_loss: 0.8966 - val_mean_squared_error: 0.8966\n",
      "Epoch 10/500\n",
      "196/196 [==============================] - 1s 4ms/step - loss: 0.0735 - mean_squared_error: 0.0735 - val_loss: 0.9873 - val_mean_squared_error: 0.9873\n",
      "Epoch 11/500\n",
      "196/196 [==============================] - 1s 4ms/step - loss: 0.0730 - mean_squared_error: 0.0730 - val_loss: 0.9326 - val_mean_squared_error: 0.9326\n",
      "Epoch 12/500\n",
      "196/196 [==============================] - 1s 7ms/step - loss: 0.0678 - mean_squared_error: 0.0678 - val_loss: 0.9834 - val_mean_squared_error: 0.9834\n",
      "====round 7/10\n",
      "Train on 196 samples, validate on 49 samples\n",
      "Epoch 1/500\n",
      "196/196 [==============================] - 1s 7ms/step - loss: 0.0820 - mean_squared_error: 0.0820 - val_loss: 0.8135 - val_mean_squared_error: 0.8135\n",
      "Epoch 2/500\n",
      "196/196 [==============================] - 2s 8ms/step - loss: 0.0573 - mean_squared_error: 0.0573 - val_loss: 0.9688 - val_mean_squared_error: 0.9688\n",
      "Epoch 3/500\n",
      "196/196 [==============================] - 2s 8ms/step - loss: 0.0431 - mean_squared_error: 0.0431 - val_loss: 1.0329 - val_mean_squared_error: 1.0329\n",
      "Epoch 4/500\n",
      "196/196 [==============================] - 1s 7ms/step - loss: 0.0795 - mean_squared_error: 0.0795 - val_loss: 0.8665 - val_mean_squared_error: 0.8665\n",
      "Epoch 5/500\n",
      "196/196 [==============================] - 2s 9ms/step - loss: 0.0420 - mean_squared_error: 0.0420 - val_loss: 0.7315 - val_mean_squared_error: 0.7315\n",
      "Epoch 6/500\n"
     ]
    },
    {
     "name": "stdout",
     "output_type": "stream",
     "text": [
      "196/196 [==============================] - 1s 7ms/step - loss: 0.0563 - mean_squared_error: 0.0563 - val_loss: 0.6618 - val_mean_squared_error: 0.6618\n",
      "Epoch 7/500\n",
      "196/196 [==============================] - 1s 6ms/step - loss: 0.0701 - mean_squared_error: 0.0701 - val_loss: 0.6884 - val_mean_squared_error: 0.6884\n",
      "Epoch 8/500\n",
      "196/196 [==============================] - 1s 7ms/step - loss: 0.0494 - mean_squared_error: 0.0494 - val_loss: 0.7114 - val_mean_squared_error: 0.7114\n",
      "Epoch 9/500\n",
      "196/196 [==============================] - 1s 8ms/step - loss: 0.0597 - mean_squared_error: 0.0597 - val_loss: 0.6011 - val_mean_squared_error: 0.6011\n",
      "Epoch 10/500\n",
      "196/196 [==============================] - 1s 6ms/step - loss: 0.0459 - mean_squared_error: 0.0459 - val_loss: 0.6477 - val_mean_squared_error: 0.6477\n",
      "Epoch 11/500\n",
      "196/196 [==============================] - 1s 5ms/step - loss: 0.0385 - mean_squared_error: 0.0385 - val_loss: 0.7439 - val_mean_squared_error: 0.7439\n",
      "Epoch 12/500\n",
      "196/196 [==============================] - 1s 5ms/step - loss: 0.0420 - mean_squared_error: 0.0420 - val_loss: 0.7227 - val_mean_squared_error: 0.7227\n",
      "Epoch 13/500\n",
      "196/196 [==============================] - 1s 5ms/step - loss: 0.0517 - mean_squared_error: 0.0517 - val_loss: 0.6693 - val_mean_squared_error: 0.6693\n",
      "Epoch 14/500\n",
      "196/196 [==============================] - 1s 5ms/step - loss: 0.0623 - mean_squared_error: 0.0623 - val_loss: 0.6266 - val_mean_squared_error: 0.6266\n",
      "Epoch 15/500\n",
      "196/196 [==============================] - 1s 6ms/step - loss: 0.0389 - mean_squared_error: 0.0389 - val_loss: 0.6950 - val_mean_squared_error: 0.6950\n",
      "Epoch 16/500\n",
      "196/196 [==============================] - 1s 6ms/step - loss: 0.0926 - mean_squared_error: 0.0926 - val_loss: 0.5900 - val_mean_squared_error: 0.5900\n",
      "Epoch 17/500\n",
      "196/196 [==============================] - 1s 6ms/step - loss: 0.1075 - mean_squared_error: 0.1075 - val_loss: 0.7860 - val_mean_squared_error: 0.7860\n",
      "Epoch 18/500\n",
      "196/196 [==============================] - 1s 7ms/step - loss: 0.1919 - mean_squared_error: 0.1919 - val_loss: 0.7192 - val_mean_squared_error: 0.7192\n",
      "Epoch 19/500\n",
      "196/196 [==============================] - 1s 6ms/step - loss: 0.0883 - mean_squared_error: 0.0883 - val_loss: 0.8640 - val_mean_squared_error: 0.8640\n",
      "Epoch 20/500\n",
      "196/196 [==============================] - 1s 6ms/step - loss: 0.0790 - mean_squared_error: 0.0790 - val_loss: 0.7421 - val_mean_squared_error: 0.7421\n",
      "Epoch 21/500\n",
      "196/196 [==============================] - 1s 6ms/step - loss: 0.0408 - mean_squared_error: 0.0408 - val_loss: 0.7874 - val_mean_squared_error: 0.7874\n",
      "Epoch 22/500\n",
      "196/196 [==============================] - 1s 5ms/step - loss: 0.0448 - mean_squared_error: 0.0448 - val_loss: 0.7217 - val_mean_squared_error: 0.7217\n",
      "Epoch 23/500\n",
      "196/196 [==============================] - 1s 5ms/step - loss: 0.0361 - mean_squared_error: 0.0361 - val_loss: 0.8211 - val_mean_squared_error: 0.8211\n",
      "Epoch 24/500\n",
      "196/196 [==============================] - 1s 6ms/step - loss: 0.0399 - mean_squared_error: 0.0399 - val_loss: 0.7815 - val_mean_squared_error: 0.7815\n",
      "Epoch 25/500\n",
      "196/196 [==============================] - 1s 6ms/step - loss: 0.0468 - mean_squared_error: 0.0468 - val_loss: 0.7930 - val_mean_squared_error: 0.7930\n",
      "Epoch 26/500\n",
      "196/196 [==============================] - 1s 5ms/step - loss: 0.0400 - mean_squared_error: 0.0400 - val_loss: 0.7705 - val_mean_squared_error: 0.7705\n",
      "====round 8/10\n",
      "Train on 196 samples, validate on 49 samples\n",
      "Epoch 1/500\n",
      "196/196 [==============================] - 1s 7ms/step - loss: 0.1116 - mean_squared_error: 0.1116 - val_loss: 0.7747 - val_mean_squared_error: 0.7747\n",
      "Epoch 2/500\n",
      "196/196 [==============================] - 1s 7ms/step - loss: 0.0433 - mean_squared_error: 0.0433 - val_loss: 0.7509 - val_mean_squared_error: 0.7509\n",
      "Epoch 3/500\n",
      "196/196 [==============================] - 1s 6ms/step - loss: 0.0543 - mean_squared_error: 0.0543 - val_loss: 0.8676 - val_mean_squared_error: 0.8676\n",
      "Epoch 4/500\n",
      "196/196 [==============================] - 1s 5ms/step - loss: 0.0430 - mean_squared_error: 0.0430 - val_loss: 0.7439 - val_mean_squared_error: 0.7439\n",
      "Epoch 5/500\n",
      "196/196 [==============================] - 1s 5ms/step - loss: 0.0748 - mean_squared_error: 0.0748 - val_loss: 0.7329 - val_mean_squared_error: 0.7329\n",
      "Epoch 6/500\n",
      "196/196 [==============================] - 1s 5ms/step - loss: 0.0525 - mean_squared_error: 0.0525 - val_loss: 0.6810 - val_mean_squared_error: 0.6810\n",
      "Epoch 7/500\n",
      "196/196 [==============================] - 1s 5ms/step - loss: 0.0706 - mean_squared_error: 0.0706 - val_loss: 0.7115 - val_mean_squared_error: 0.7115\n",
      "Epoch 8/500\n",
      "196/196 [==============================] - 1s 5ms/step - loss: 0.0397 - mean_squared_error: 0.0397 - val_loss: 0.7309 - val_mean_squared_error: 0.7309\n",
      "Epoch 9/500\n",
      "196/196 [==============================] - 1s 5ms/step - loss: 0.0438 - mean_squared_error: 0.0438 - val_loss: 0.5767 - val_mean_squared_error: 0.5767\n",
      "Epoch 10/500\n",
      "196/196 [==============================] - 1s 4ms/step - loss: 0.0621 - mean_squared_error: 0.0621 - val_loss: 0.5748 - val_mean_squared_error: 0.5748\n",
      "Epoch 11/500\n",
      "196/196 [==============================] - 1s 4ms/step - loss: 0.0382 - mean_squared_error: 0.0382 - val_loss: 0.5894 - val_mean_squared_error: 0.5894\n",
      "Epoch 12/500\n",
      "196/196 [==============================] - 1s 4ms/step - loss: 0.0379 - mean_squared_error: 0.0379 - val_loss: 0.6223 - val_mean_squared_error: 0.6223\n",
      "Epoch 13/500\n",
      "196/196 [==============================] - 1s 4ms/step - loss: 0.0499 - mean_squared_error: 0.0499 - val_loss: 0.7027 - val_mean_squared_error: 0.7027\n",
      "Epoch 14/500\n",
      "196/196 [==============================] - 1s 4ms/step - loss: 0.0584 - mean_squared_error: 0.0584 - val_loss: 0.5872 - val_mean_squared_error: 0.5872\n",
      "Epoch 15/500\n",
      "196/196 [==============================] - 1s 4ms/step - loss: 0.0817 - mean_squared_error: 0.0817 - val_loss: 0.6859 - val_mean_squared_error: 0.6859\n",
      "Epoch 16/500\n",
      "196/196 [==============================] - 1s 4ms/step - loss: 2.0689 - mean_squared_error: 2.0689 - val_loss: 0.6595 - val_mean_squared_error: 0.6595\n",
      "Epoch 17/500\n",
      "196/196 [==============================] - 1s 4ms/step - loss: 0.3461 - mean_squared_error: 0.3461 - val_loss: 0.7092 - val_mean_squared_error: 0.7092\n",
      "Epoch 18/500\n",
      "196/196 [==============================] - 1s 4ms/step - loss: 0.2254 - mean_squared_error: 0.2254 - val_loss: 0.6186 - val_mean_squared_error: 0.6186\n",
      "Epoch 19/500\n",
      "196/196 [==============================] - 1s 4ms/step - loss: 0.0790 - mean_squared_error: 0.0790 - val_loss: 0.5855 - val_mean_squared_error: 0.5855\n",
      "Epoch 20/500\n",
      "196/196 [==============================] - 1s 4ms/step - loss: 0.0866 - mean_squared_error: 0.0866 - val_loss: 0.6031 - val_mean_squared_error: 0.6031\n",
      "====round 9/10\n",
      "Train on 196 samples, validate on 49 samples\n",
      "Epoch 1/500\n",
      "196/196 [==============================] - 1s 4ms/step - loss: 0.1649 - mean_squared_error: 0.1649 - val_loss: 0.6420 - val_mean_squared_error: 0.6420\n",
      "Epoch 2/500\n",
      "196/196 [==============================] - 1s 4ms/step - loss: 0.0709 - mean_squared_error: 0.0709 - val_loss: 0.6996 - val_mean_squared_error: 0.6996\n",
      "Epoch 3/500\n",
      "196/196 [==============================] - 1s 4ms/step - loss: 0.0503 - mean_squared_error: 0.0503 - val_loss: 0.6851 - val_mean_squared_error: 0.6851\n",
      "Epoch 4/500\n",
      "196/196 [==============================] - 1s 4ms/step - loss: 0.0810 - mean_squared_error: 0.0810 - val_loss: 0.7031 - val_mean_squared_error: 0.7031\n",
      "Epoch 5/500\n",
      "196/196 [==============================] - 1s 4ms/step - loss: 0.0567 - mean_squared_error: 0.0567 - val_loss: 0.8166 - val_mean_squared_error: 0.8166\n",
      "Epoch 6/500\n",
      "196/196 [==============================] - 1s 4ms/step - loss: 0.0561 - mean_squared_error: 0.0561 - val_loss: 0.7811 - val_mean_squared_error: 0.7811\n",
      "Epoch 7/500\n",
      "196/196 [==============================] - 1s 4ms/step - loss: 0.0531 - mean_squared_error: 0.0531 - val_loss: 0.9016 - val_mean_squared_error: 0.9016\n",
      "Epoch 8/500\n",
      "196/196 [==============================] - 1s 4ms/step - loss: 0.0420 - mean_squared_error: 0.0420 - val_loss: 0.9101 - val_mean_squared_error: 0.9101\n",
      "Epoch 9/500\n",
      "196/196 [==============================] - 1s 4ms/step - loss: 0.0368 - mean_squared_error: 0.0368 - val_loss: 0.8884 - val_mean_squared_error: 0.8884\n",
      "Epoch 10/500\n",
      "196/196 [==============================] - 1s 3ms/step - loss: 0.0394 - mean_squared_error: 0.0394 - val_loss: 0.8419 - val_mean_squared_error: 0.8419\n",
      "Epoch 11/500\n",
      "196/196 [==============================] - 1s 3ms/step - loss: 0.0340 - mean_squared_error: 0.0340 - val_loss: 0.8594 - val_mean_squared_error: 0.8594\n",
      "CPU times: user 8min 7s, sys: 1min 18s, total: 9min 25s\n",
      "Wall time: 3min 10s\n"
     ]
    }
   ],
   "source": [
    "%%time\n",
    "model, history = create_model(scaled_X,scaled_Y, BATCH_SIZE, ITERATION, NEURONS, EPOCH)"
   ]
  },
  {
   "cell_type": "code",
   "execution_count": null,
   "metadata": {},
   "outputs": [],
   "source": [
    "MODEL_NAME = '/storage/opt_project_test/optProjectTest/optProjectTest/models/IT_test_cpc_20_500_128(1).h5'\n",
    "# MODEL_NAME = 'IT_stateful_alldata_20_500_128.h5'"
   ]
  },
  {
   "cell_type": "code",
   "execution_count": 45,
   "metadata": {
    "hideCode": false,
    "hidePrompt": false
   },
   "outputs": [],
   "source": [
    "def evaluateModel(test_X,test_Y, scalerX, scalerY):\n",
    "    #load model and scaler\n",
    "    model = load_model(MODEL_NAME)\n",
    "    \n",
    "    \n",
    "    \n",
    "    \n",
    "#     scalerX = joblib.load(scalerX_filename) \n",
    "#     scalerY = joblib.load(scalerY_filename)     \n",
    "    \n",
    "    test_X = scalerX.transform(test_X)\n",
    "\n",
    "    test_X = test_X.reshape(test_X.shape[0],1,test_X.shape[1])\n",
    "    pred_click, pred_cpc = [], []\n",
    "    for i,arr in enumerate(test_X):\n",
    "        ans = model.predict(test_X[i:i+1,:,:])\n",
    "        ans = scalerY.inverse_transform(ans)\n",
    "        print(ans)\n",
    "#         pred_click.append(ans[0,0])\n",
    "#         pred_cpc.append(ans[0,1])\n",
    "        pred_cpc.append(ans[0])\n",
    "    pred = pd.DataFrame({'pred_cpc':pred_cpc})\n",
    "#     pred = pd.DataFrame({'pred_click':pred_click,'pred_cpc':pred_cpc})\n",
    "    ans = pd.DataFrame(data=ans)\n",
    "    frm = [pred,test_Y.reset_index(drop=True)]\n",
    "    pred = pd.concat(frm,axis=1,sort=False)\n",
    "    \n",
    "#     pred['delta_click'] = pred['pred_click']-pred['clicks']\n",
    "    pred['delta_cpc'] = pred['pred_cpc']-pred['cpc']\n",
    "    return pred"
   ]
  },
  {
   "cell_type": "code",
   "execution_count": 46,
   "metadata": {
    "hideCode": false,
    "hidePrompt": false
   },
   "outputs": [
    {
     "name": "stderr",
     "output_type": "stream",
     "text": [
      "/usr/local/lib/python3.5/dist-packages/ipykernel_launcher.py:11: DataConversionWarning: Data with input dtype float64, object were all converted to float64 by StandardScaler.\n",
      "  # This is added back by InteractiveShellApp.init_path()\n"
     ]
    },
    {
     "name": "stdout",
     "output_type": "stream",
     "text": [
      "[[2.469265 1.642663]]\n",
      "[[3.2114997 2.6662774]]\n",
      "[[ 3.1555293 -5.604941 ]]\n",
      "[[3.0219605 1.7556424]]\n",
      "[[3.0293248 1.8716655]]\n",
      "[[2.7134564 2.3665237]]\n",
      "[[3.3176985 2.3582006]]\n",
      "[[3.1122851 2.2961202]]\n",
      "[[3.1044636 3.1125593]]\n",
      "[[2.8914883 1.1842041]]\n",
      "[[3.4653516 3.1190562]]\n",
      "[[4.137681  1.4575324]]\n",
      "[[ 4.1627474 -6.858484 ]]\n",
      "[[3.4724822  0.01020193]]\n",
      "[[3.2318752 2.824152 ]]\n",
      "[[3.1243923  0.76664925]]\n",
      "[[3.1463776 1.660398 ]]\n",
      "[[3.2146268 2.3647718]]\n",
      "[[3.2301497 1.7228856]]\n",
      "[[3.10413 2.03554]]\n",
      "[[3.00702   2.4279838]]\n"
     ]
    },
    {
     "data": {
      "text/html": [
       "<div>\n",
       "<style scoped>\n",
       "    .dataframe tbody tr th:only-of-type {\n",
       "        vertical-align: middle;\n",
       "    }\n",
       "\n",
       "    .dataframe tbody tr th {\n",
       "        vertical-align: top;\n",
       "    }\n",
       "\n",
       "    .dataframe thead th {\n",
       "        text-align: right;\n",
       "    }\n",
       "</style>\n",
       "<table border=\"1\" class=\"dataframe\">\n",
       "  <thead>\n",
       "    <tr style=\"text-align: right;\">\n",
       "      <th></th>\n",
       "      <th>pred_cpc</th>\n",
       "      <th>cpc</th>\n",
       "      <th>clicks</th>\n",
       "      <th>delta_cpc</th>\n",
       "    </tr>\n",
       "  </thead>\n",
       "  <tbody>\n",
       "    <tr>\n",
       "      <th>0</th>\n",
       "      <td>[2.469265, 1.642663]</td>\n",
       "      <td>2.409090</td>\n",
       "      <td>4</td>\n",
       "      <td>[0.060174942, -0.76642704]</td>\n",
       "    </tr>\n",
       "    <tr>\n",
       "      <th>1</th>\n",
       "      <td>[3.2114997, 2.6662774]</td>\n",
       "      <td>2.730770</td>\n",
       "      <td>2</td>\n",
       "      <td>[0.48072958, -0.0644927]</td>\n",
       "    </tr>\n",
       "    <tr>\n",
       "      <th>2</th>\n",
       "      <td>[3.1555293, -5.604941]</td>\n",
       "      <td>2.785710</td>\n",
       "      <td>-28</td>\n",
       "      <td>[0.36981916, -8.390651]</td>\n",
       "    </tr>\n",
       "    <tr>\n",
       "      <th>3</th>\n",
       "      <td>[3.0219605, 1.7556424]</td>\n",
       "      <td>3.030127</td>\n",
       "      <td>0.1</td>\n",
       "      <td>[-0.008166313, -1.2744844]</td>\n",
       "    </tr>\n",
       "    <tr>\n",
       "      <th>4</th>\n",
       "      <td>[3.0293248, 1.8716655]</td>\n",
       "      <td>3.030127</td>\n",
       "      <td>0</td>\n",
       "      <td>[-0.0008020401, -1.1584613]</td>\n",
       "    </tr>\n",
       "    <tr>\n",
       "      <th>5</th>\n",
       "      <td>[2.7134564, 2.3665237]</td>\n",
       "      <td>3.030127</td>\n",
       "      <td>0.15</td>\n",
       "      <td>[-0.31667042, -0.66360307]</td>\n",
       "    </tr>\n",
       "    <tr>\n",
       "      <th>6</th>\n",
       "      <td>[3.3176985, 2.3582006]</td>\n",
       "      <td>3.030127</td>\n",
       "      <td>0.3</td>\n",
       "      <td>[0.28757167, -0.67192626]</td>\n",
       "    </tr>\n",
       "    <tr>\n",
       "      <th>7</th>\n",
       "      <td>[3.1122851, 2.2961202]</td>\n",
       "      <td>3.030127</td>\n",
       "      <td>2</td>\n",
       "      <td>[0.08215833, -0.73400664]</td>\n",
       "    </tr>\n",
       "    <tr>\n",
       "      <th>8</th>\n",
       "      <td>[3.1044636, 3.1125593]</td>\n",
       "      <td>2.500000</td>\n",
       "      <td>1.35</td>\n",
       "      <td>[0.6044636, 0.6125593]</td>\n",
       "    </tr>\n",
       "    <tr>\n",
       "      <th>9</th>\n",
       "      <td>[2.8914883, 1.1842041]</td>\n",
       "      <td>2.500000</td>\n",
       "      <td>1</td>\n",
       "      <td>[0.3914883, -1.3157959]</td>\n",
       "    </tr>\n",
       "  </tbody>\n",
       "</table>\n",
       "</div>"
      ],
      "text/plain": [
       "                 pred_cpc       cpc clicks                    delta_cpc\n",
       "0    [2.469265, 1.642663]  2.409090      4   [0.060174942, -0.76642704]\n",
       "1  [3.2114997, 2.6662774]  2.730770      2     [0.48072958, -0.0644927]\n",
       "2  [3.1555293, -5.604941]  2.785710    -28      [0.36981916, -8.390651]\n",
       "3  [3.0219605, 1.7556424]  3.030127    0.1   [-0.008166313, -1.2744844]\n",
       "4  [3.0293248, 1.8716655]  3.030127      0  [-0.0008020401, -1.1584613]\n",
       "5  [2.7134564, 2.3665237]  3.030127   0.15   [-0.31667042, -0.66360307]\n",
       "6  [3.3176985, 2.3582006]  3.030127    0.3    [0.28757167, -0.67192626]\n",
       "7  [3.1122851, 2.2961202]  3.030127      2    [0.08215833, -0.73400664]\n",
       "8  [3.1044636, 3.1125593]  2.500000   1.35       [0.6044636, 0.6125593]\n",
       "9  [2.8914883, 1.1842041]  2.500000      1      [0.3914883, -1.3157959]"
      ]
     },
     "execution_count": 46,
     "metadata": {},
     "output_type": "execute_result"
    }
   ],
   "source": [
    "pred = evaluateModel(test_X, test_Y[['cpc','clicks']], scalerX, scalerY)\n",
    "# print(pred.columns)\n",
    "# pred[['pred_click', 'clicks', 'delta_click' , 'pred_cpc' , 'cpc', 'delta_cpc', 'impressions']]\n",
    "# pred[['pred_cpc' , 'cpc', 'delta_cpc', 'impressions']]\n",
    "pred.head(10)"
   ]
  },
  {
   "cell_type": "code",
   "execution_count": 33,
   "metadata": {
    "hideCode": false,
    "hidePrompt": false
   },
   "outputs": [],
   "source": [
    "import matplotlib.pyplot as plt\n",
    "%matplotlib inline"
   ]
  },
  {
   "cell_type": "code",
   "execution_count": 34,
   "metadata": {
    "hideCode": false,
    "hidePrompt": false
   },
   "outputs": [
    {
     "data": {
      "text/plain": [
       "[<matplotlib.lines.Line2D at 0x7f94b2ffaa90>]"
      ]
     },
     "execution_count": 34,
     "metadata": {},
     "output_type": "execute_result"
    },
    {
     "data": {
      "image/png": "[encoded data removed]",
      "text/plain": [
       "<Figure size 360x216 with 1 Axes>"
      ]
     },
     "metadata": {
      "needs_background": "light"
     },
     "output_type": "display_data"
    }
   ],
   "source": [
    "plt.figure(figsize=(5,3))\n",
    "plt.plot(pred['cpc'])\n",
    "plt.plot(pred['pred_cpc'])\n",
    "# plt.plot(pred['delta_cpc'])"
   ]
  },
  {
   "cell_type": "code",
   "execution_count": 35,
   "metadata": {
    "hideCode": false,
    "hidePrompt": false
   },
   "outputs": [
    {
     "data": {
      "text/plain": [
       "[<matplotlib.lines.Line2D at 0x7f94b2f43f28>]"
      ]
     },
     "execution_count": 35,
     "metadata": {},
     "output_type": "execute_result"
    },
    {
     "data": {
      "image/png": "[encoded data removed]",
      "text/plain": [
       "<Figure size 1080x216 with 1 Axes>"
      ]
     },
     "metadata": {
      "needs_background": "light"
     },
     "output_type": "display_data"
    }
   ],
   "source": [
    "plt.figure(figsize=(15,3))\n",
    "plt.plot(pred['cpc'])\n",
    "plt.plot(pred['pred_cpc'])\n",
    "# plt.plot(pred['delta_cpc'])"
   ]
  },
  {
   "cell_type": "code",
   "execution_count": null,
   "metadata": {
    "hideCode": false,
    "hidePrompt": false
   },
   "outputs": [],
   "source": [
    "plt.figure(figsize=(7,3))\n",
    "plt.plot(pred['cpc'])\n",
    "plt.plot(pred['pred_cpc'])\n",
    "# plt.plot(pred['delta_cpc'])"
   ]
  },
  {
   "cell_type": "code",
   "execution_count": null,
   "metadata": {},
   "outputs": [],
   "source": [
    "plt.figure(figsize=(15,3))\n",
    "plt.plot(pred['cpc'])\n",
    "plt.plot(pred['pred_cpc'])\n",
    "# plt.plot(pred['delta_cpc'])"
   ]
  },
  {
   "cell_type": "code",
   "execution_count": null,
   "metadata": {
    "hideCode": false,
    "hidePrompt": false
   },
   "outputs": [],
   "source": [
    "plt.figure(figsize=(7,3))\n",
    "plt.plot(pred['cpc'])\n",
    "plt.plot(pred['pred_cpc'])\n",
    "# plt.plot(pred['delta_cpc'])"
   ]
  },
  {
   "cell_type": "code",
   "execution_count": null,
   "metadata": {},
   "outputs": [],
   "source": [
    "plt.figure(figsize=(15,3))\n",
    "plt.plot(pred['cpc'].tail(200))\n",
    "plt.plot(pred['pred_cpc'].tail(200))\n",
    "# plt.plot(pred['delta_cpc'])"
   ]
  },
  {
   "cell_type": "code",
   "execution_count": null,
   "metadata": {
    "hideCode": false,
    "hidePrompt": false
   },
   "outputs": [],
   "source": [
    "train_Y[['impressions', 'daily_budget']].tail(200)"
   ]
  },
  {
   "cell_type": "code",
   "execution_count": 1,
   "metadata": {},
   "outputs": [],
   "source": [
    "def normalized_sigmoid_fkt(a, b, x):\n",
    "    s= 1/(1+np.exp(b*(x-a)))\n",
    "    return s"
   ]
  },
  {
   "cell_type": "code",
   "execution_count": 12,
   "metadata": {},
   "outputs": [
    {
     "data": {
      "text/plain": [
       "1.7999999999999998"
      ]
     },
     "execution_count": 12,
     "metadata": {},
     "output_type": "execute_result"
    }
   ],
   "source": [
    "3 * 0.8* ( normalized_sigmoid_fkt(a, b, 9) - 0.5 ) +3"
   ]
  },
  {
   "cell_type": "code",
   "execution_count": 24,
   "metadata": {},
   "outputs": [],
   "source": [
    "import matplotlib.pyplot as plt\n",
    "import numpy as np\n",
    "a = 1\n",
    "b = 5\n",
    "bid_range = 0.8\n",
    "init_cpc = 12"
   ]
  },
  {
   "cell_type": "code",
   "execution_count": 25,
   "metadata": {},
   "outputs": [
    {
     "data": {
      "text/plain": [
       "[<matplotlib.lines.Line2D at 0x7f68ee40f828>]"
      ]
     },
     "execution_count": 25,
     "metadata": {},
     "output_type": "execute_result"
    },
    {
     "data": {
      "image/png": "[encoded data removed]",
      "text/plain": [
       "<Figure size 432x288 with 1 Axes>"
      ]
     },
     "metadata": {
      "needs_background": "light"
     },
     "output_type": "display_data"
    }
   ],
   "source": [
    "\n",
    "x = np.linspace(0, 2)\n",
    "# x_new = np.linspace(0, 1)\n",
    "\n",
    "tanh = np.linspace(0, 1)\n",
    "y = normalized_sigmoid_fkt(a, b, x)\n",
    "# for x_index in range(len(x)):\n",
    "#     if x[x_index] >= 0.5:    \n",
    "#         x_new[x_index]= 1 - x[x_index]\n",
    "#         tanh[x_index] = init_cpc * bid_range * ( normalized_sigmoid_fkt(a, b, x_new[x_index]) - 0.5 ) + init_cpc\n",
    "#     else:\n",
    "#         tanh[x_index]  = init_cpc * bid_range * ( normalized_sigmoid_fkt(a, b, x_new[x_index]) - 0.5 ) + init_cpc\n",
    "tanh = init_cpc * bid_range * ( normalized_sigmoid_fkt(a, b, x) - 0.5 ) + init_cpc\n",
    "y1 = np.tanh(x)\n",
    "plt.plot(x,tanh,label=\"Tanh\", color = \"red\")\n",
    "# plt.plot(x,y,label=\"Tanh\", color = \"blue\")"
   ]
  },
  {
   "cell_type": "code",
   "execution_count": null,
   "metadata": {},
   "outputs": [],
   "source": []
  },
  {
   "cell_type": "code",
   "execution_count": null,
   "metadata": {},
   "outputs": [],
   "source": []
  }
 ],
 "metadata": {
  "hide_code_all_hidden": false,
  "kernelspec": {
   "display_name": "Python 3",
   "language": "python",
   "name": "python3"
  },
  "language_info": {
   "codemirror_mode": {
    "name": "ipython",
    "version": 3
   },
   "file_extension": ".py",
   "mimetype": "text/x-python",
   "name": "python",
   "nbconvert_exporter": "python",
   "pygments_lexer": "ipython3",
   "version": "3.5.2"
  }
 },
 "nbformat": 4,
 "nbformat_minor": 2
}
