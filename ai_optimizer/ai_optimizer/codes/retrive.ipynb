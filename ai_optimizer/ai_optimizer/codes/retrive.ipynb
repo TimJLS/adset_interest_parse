{
 "cells": [
  {
   "cell_type": "code",
   "execution_count": 1,
   "metadata": {},
   "outputs": [],
   "source": [
    "import gdn_datacollector\n",
    "import datetime\n",
    "import gdn_db\n",
    "from googleads import adwords\n",
    "import pandas as pd\n",
    "import numpy as np\n",
    "AUTH_FILE_PATH = '/home/tim_su/ai_optimizer/opt/ai_optimizer/googleads.yaml'\n",
    "client = adwords.AdWordsClient.LoadFromStorage(AUTH_FILE_PATH)\n",
    "CRITERIA_LIST = ['ADGROUP', 'URL', 'CRITERIA', 'AGE_RANGE', 'DISPLAY_KEYWORD', 'AUDIENCE']"
   ]
  },
  {
   "cell_type": "code",
   "execution_count": 117,
   "metadata": {},
   "outputs": [],
   "source": [
    "DATABASE_INDEX = {\n",
    "    'ADGROUP': 'adgroup_insights',\n",
    "    'URL': 'url_insights',\n",
    "    'CRITERIA': 'criteria_insights',\n",
    "    'AUDIENCE': 'audience_insights',\n",
    "    'AGE_RANGE': 'age_range_insights',\n",
    "    'DISPLAY_KEYWORD': 'display_keyword_insights',\n",
    "}\n",
    "SCORE_INDEX = {\n",
    "    'ADGROUP': 'adgroup',\n",
    "    'URL': 'url',\n",
    "    'CRITERIA': 'criteria',\n",
    "    'AUDIENCE': 'audience',\n",
    "    'AGE_RANGE': 'age_range',\n",
    "    'DISPLAY_KEYWORD': 'display_keyword',\n",
    "}\n",
    "SCORE_COLUMN_INDEX = {\n",
    "    'ADGROUP': ['campaign_id', 'adgroup_id', 'score'],\n",
    "    'URL': ['campaign_id', 'url_display_name', 'score'],\n",
    "    'CRITERIA': ['campaign_id', 'keyword_placement', 'keyword_id', 'score'],\n",
    "    'AUDIENCE': ['campaign_id', 'audience', 'criterion_id', 'score'],\n",
    "    'AGE_RANGE': ['campaign_id', 'age_range', 'criterion_id', 'score'],\n",
    "    'DISPLAY_KEYWORD': ['campaign_id', 'keyword', 'keyword_id', 'score'],\n",
    "}"
   ]
  },
  {
   "cell_type": "code",
   "execution_count": 149,
   "metadata": {},
   "outputs": [],
   "source": [
    "class ReportField:\n",
    "    # URL\n",
    "    URL_LIST = [\n",
    "        'ExternalCustomerId', 'CampaignId', 'AdGroupId', 'AdGroupStatus', 'Cost', 'AverageCost',\n",
    "        'Impressions', 'Clicks', 'Conversions', 'AverageCpc', 'CostPerConversion', 'DisplayName', ]\n",
    "    # CRITERIA,\n",
    "    CRITERIA_LIST = [\n",
    "        'ExternalCustomerId', 'CampaignId', 'AdGroupId', 'Criteria', 'Id', 'AdGroupStatus', 'CpmBid', 'CpcBid',\n",
    "        'Cost', 'AverageCost', 'Impressions', 'Clicks', 'Conversions', 'AverageCpc', 'CostPerConversion']\n",
    "    # AUDIENCE, AGE_RANGE, DISPLAY_KEYWORD\n",
    "    BIDDABLE_LIST = [\n",
    "        'ExternalCustomerId', 'CampaignId', 'AdGroupId', 'Criteria', 'Id', 'AdGroupStatus', 'CpmBid', 'CpcBid',\n",
    "        'BiddingStrategyType', 'Cost', 'AverageCost', 'Impressions', 'Clicks', 'Conversions', 'AverageCpc', 'CostPerConversion']\n",
    "    # ADGROUP\n",
    "    ADGROUP_LIST = [\n",
    "        'ExternalCustomerId', 'CampaignId', 'AdGroupType', 'AdGroupId', 'AdGroupStatus', 'CpmBid', 'CpvBid', 'CpcBid', 'TargetCpa',\n",
    "        'BiddingStrategyType', 'Cost', 'AverageCost', 'Impressions', 'Clicks', 'Conversions', 'AverageCpc', 'CostPerConversion']\n",
    "\n",
    "    NON_NUMERIC_LIST = [\n",
    "        'Ad group type', 'Ad group state', 'Bid Strategy Type', 'Keyword', 'Age Range', 'Audience', 'Keyword / Placement', 'Criteria Display Name']\n",
    "\n",
    "    NUMERIC_LIST = [\n",
    "        'Max. CPM', 'Max. CPV', 'Max. CPC', 'Default max. CPC', 'Target CPA', 'Cost', 'Avg. Cost', 'Avg. CPC', 'Cost / conv.']\n",
    "\n",
    "    INDEX = {\n",
    "        'ADGROUP': ADGROUP_LIST,\n",
    "        'URL': URL_LIST,\n",
    "        'CRITERIA': CRITERIA_LIST,\n",
    "        'AUDIENCE': BIDDABLE_LIST,\n",
    "        'AGE_RANGE': BIDDABLE_LIST,\n",
    "        'DISPLAY_KEYWORD': BIDDABLE_LIST,\n",
    "    }\n",
    "class ReportColumn:\n",
    "    ADGROUP_LIST  = [\n",
    "        'customer_id', 'campaign_id', 'channel_type', 'adgroup_id', 'status', 'cpm_bid', 'cpv_bid', 'cpc_bid', 'cpa_bid', 'bidding_type', 'spend', 'cost_per_target', 'impressions', 'clicks', 'conversions', 'cost_per_click', 'cost_per_conversion']\n",
    "    URL_LIST      = [\n",
    "        'customer_id', 'campaign_id', 'adgroup_id', 'status', 'spend', 'cost_per_target', 'impressions', 'clicks', 'conversions', 'cost_per_click', 'cost_per_conversion', 'url_display_name']\n",
    "    CRITERIA_LIST = [\n",
    "        'customer_id', 'campaign_id', 'adgroup_id', 'keyword_placement', 'keyword_id', 'status', 'cpm_bid', 'cpc_bid', 'spend', 'cost_per_target', 'impressions', 'clicks', 'conversions', 'cost_per_click', 'cost_per_conversion']\n",
    "    AUDIENCE_LIST = [\n",
    "        'customer_id', 'campaign_id', 'adgroup_id', 'audience', 'criterion_id', 'status', 'cpm_bid', 'cpc_bid', 'bidding_type', 'spend', 'cost_per_target', 'impressions', 'clicks', 'conversions', 'cost_per_click', 'cost_per_conversion']\n",
    "    AGE_RANGE_LIST = [\n",
    "        'customer_id', 'campaign_id', 'adgroup_id', 'age_range', 'criterion_id', 'status', 'cpm_bid', 'cpc_bid', 'bidding_type', 'spend', 'cost_per_target', 'impressions', 'clicks', 'conversions', 'cost_per_click', 'cost_per_conversion']\n",
    "    BIDDABLE_LIST = [\n",
    "        'customer_id', 'campaign_id', 'adgroup_id', 'keyword', 'keyword_id', 'status', 'cpm_bid', 'cpc_bid', 'bidding_type', 'spend', 'cost_per_target', 'impressions', 'clicks', 'conversions', 'cost_per_click', 'cost_per_conversion']\n",
    "\n",
    "    INDEX = {\n",
    "        'ADGROUP': ADGROUP_LIST,\n",
    "        'URL': URL_LIST,\n",
    "        'CRITERIA': CRITERIA_LIST,\n",
    "        'AUDIENCE': AUDIENCE_LIST,\n",
    "        'AGE_RANGE': AGE_RANGE_LIST,\n",
    "        'DISPLAY_KEYWORD': BIDDABLE_LIST,\n",
    "    }"
   ]
  },
  {
   "cell_type": "code",
   "execution_count": 163,
   "metadata": {},
   "outputs": [],
   "source": [
    "def get_performance_insights(client, campaign_id=None, adgroup_id=None, date_preset=None, performance_type='ADGROUP'):\n",
    "    report_downloader = client.GetReportDownloader(version='v201809')\n",
    "    if date_preset is None:\n",
    "        date_preset = 'ALL_TIME'\n",
    "    else:\n",
    "        date_preset = date_preset\n",
    "    # Create report definition.\n",
    "    if campaign_id and not adgroup_id:\n",
    "        operand = {\n",
    "            'field': 'CampaignId',\n",
    "            'operator': 'EQUALS',\n",
    "            'values': [campaign_id]\n",
    "        }\n",
    "#         ReportField.INDEX[performance_type].remove('AdGroupId')\n",
    "#         ReportColumn.INDEX[performance_type].remove('adgroup_id')\n",
    "        fields = ReportField.INDEX[performance_type]\n",
    "        columns = ReportColumn.INDEX[performance_type]\n",
    "    elif adgroup_id:\n",
    "        operand = {\n",
    "            'field': 'AdGroupId',\n",
    "            'operator': 'EQUALS',\n",
    "            'values': [adgroup_id]\n",
    "        }\n",
    "        fields = ReportField.INDEX[performance_type]\n",
    "        columns = ReportColumn.INDEX[performance_type]\n",
    "    else:\n",
    "        print('get_performance_insights: Missing arguments campaign_id or adgroup_id.')\n",
    "        operand = None\n",
    "        return\n",
    "    report = {\n",
    "        'downloadFormat': 'CSV',\n",
    "        'reportName': performance_type+'_PERFORMANCE_REPORT',\n",
    "        'reportType': performance_type+'_PERFORMANCE_REPORT',\n",
    "        'dateRangeType': date_preset,\n",
    "        'selector': {\n",
    "            'fields': fields,\n",
    "            'predicates': [operand]\n",
    "        }\n",
    "    }\n",
    "    # Print out the report as a string\n",
    "    with open(performance_type+'.csv', 'wb') as output_file:\n",
    "        report_downloader.DownloadReport(\n",
    "            report, output=output_file, skip_report_header=True, skip_column_header=False,\n",
    "            skip_report_summary=True, include_zero_impressions=False)\n",
    "    with open(performance_type+'.csv')as csv_file:\n",
    "        df = pd.read_csv(csv_file, sep=\",\", quotechar='\"')\n",
    "        df[df.columns.difference( ReportField.NON_NUMERIC_LIST )] = df[df.columns.difference( ReportField.NON_NUMERIC_LIST )].apply(pd.to_numeric, errors='coerce')\n",
    "        df[df.columns.intersection( ReportField.NUMERIC_LIST )] = df[df.columns.intersection( ReportField.NUMERIC_LIST )].div(1000000)\n",
    "        df.columns = columns\n",
    "        df.sort_values(by=['impressions'], ascending=False).reset_index(drop=True)\n",
    "        gdn_db.into_table( df, DATABASE_INDEX[performance_type] )\n",
    "        return df\n",
    "\n",
    "\n",
    "    "
   ]
  },
  {
   "cell_type": "code",
   "execution_count": 164,
   "metadata": {},
   "outputs": [],
   "source": [
    "def retrive_all_criteria_insights():\n",
    "    starttime = datetime.datetime.now()\n",
    "    df_camp = gdn_db.get_campaign()\n",
    "    campaign_id_list = df_camp['campaign_id'].unique()\n",
    "    # retrive all criteria insights\n",
    "    for campaign_id in campaign_id_list:\n",
    "        df = df_camp[df_camp.campaign_id==campaign_id]\n",
    "        customer_id = df['customer_id'].iloc[0]\n",
    "        destination_type = df['destination_type'].iloc[0]\n",
    "        client.SetClientCustomerId(customer_id)\n",
    "        for criteria in CRITERIA_LIST:\n",
    "            df = get_performance_insights(client, campaign_id=campaign_id, performance_type=criteria)\n",
    "            "
   ]
  },
  {
   "cell_type": "code",
   "execution_count": 152,
   "metadata": {},
   "outputs": [
    {
     "data": {
      "text/plain": [
       "['ADGROUP', 'URL', 'CRITERIA', 'AGE_RANGE', 'DISPLAY_KEYWORD', 'AUDIENCE']"
      ]
     },
     "execution_count": 152,
     "metadata": {},
     "output_type": "execute_result"
    }
   ],
   "source": [
    "CRITERIA_LIST"
   ]
  },
  {
   "cell_type": "code",
   "execution_count": 165,
   "metadata": {
    "code_folding": []
   },
   "outputs": [
    {
     "name": "stdout",
     "output_type": "stream",
     "text": [
      "[1777436620 1809236789]\n",
      "1777436620\n",
      "1777436620\n",
      "1777436620\n",
      "1777436620\n",
      "1777436620\n",
      "1777436620\n",
      "1809236789\n",
      "1809236789\n",
      "1809236789\n",
      "1809236789\n",
      "1809236789\n",
      "1809236789\n",
      "CPU times: user 489 ms, sys: 15.9 ms, total: 505 ms\n",
      "Wall time: 34.8 s\n"
     ]
    }
   ],
   "source": [
    "%%time\n",
    "from tabulate import tabulate\n",
    "df_camp = gdn_db.get_campaign()\n",
    "campaign_id_list = df_camp['campaign_id'].unique()\n",
    "for campaign_id in campaign_id_list:\n",
    "    df = df_camp[df_camp.campaign_id==campaign_id]\n",
    "    customer_id = df['customer_id'].iloc[0]\n",
    "    destination_type = df['destination_type'].iloc[0]\n",
    "    client.SetClientCustomerId(customer_id)\n",
    "    for criteria in CRITERIA_LIST:\n",
    "        df = get_performance_insights(client, campaign_id=campaign_id, performance_type=criteria)\n",
    "#         print(tabulate(df, headers=df.columns, tablefmt='simple'))\n"
   ]
  },
  {
   "cell_type": "code",
   "execution_count": 6,
   "metadata": {},
   "outputs": [
    {
     "name": "stdout",
     "output_type": "stream",
     "text": [
      "CPU times: user 2 µs, sys: 0 ns, total: 2 µs\n",
      "Wall time: 5.25 µs\n"
     ]
    }
   ],
   "source": [
    "%%time\n",
    "# import gdn_db\n",
    "# df_camp = gdn_db.get_campaign()\n",
    "# campaign_id_list = df_camp['campaign_id'].unique()\n",
    "# for campaign_id in campaign_id_list:\n",
    "#     for criteria in CRITERIA_LIST:\n",
    "# table = DATABASE_INDEX[\"CRITERIA\"]\n",
    "# df = gdn_db.get_table(campaign_id=1747836664, table=table)\n",
    "# print(tabulate(df.head(1), headers=df.columns, tablefmt='simple'))"
   ]
  },
  {
   "cell_type": "code",
   "execution_count": 139,
   "metadata": {},
   "outputs": [],
   "source": [
    "import gdn_db\n",
    "BIDDING_INDEX = {\n",
    "    'cpc': 'cpc_bid',\n",
    "    'cpa': 'cpa_bid',\n",
    "}\n",
    "TARGET_INDEX = {\n",
    "    'cpc': 'clicks',\n",
    "    'cpa': 'conversions',\n",
    "}\n",
    "\n",
    "def get_criteria_score( campaign_id=None, criteria=None):\n",
    "    mydb = gdn_db.connectDB(\"dev_gdn\")\n",
    "    df = pd.DataFrame({'adgroup_id': [], 'target': [],\n",
    "                       'impressions': [], 'bid_amount': []})\n",
    "    df_camp = pd.read_sql(\n",
    "        \"SELECT * FROM campaign_target WHERE campaign_id='{}'\".format(campaign_id), con=mydb)    \n",
    "    table = DATABASE_INDEX[criteria]\n",
    "    df = pd.read_sql(\n",
    "        \"SELECT * FROM {} WHERE campaign_id='{}'\".format(table, campaign_id), con=mydb)\n",
    "    df_weight = pd.read_sql(\n",
    "        \"SELECT * FROM optimal_weight WHERE campaign_id='{}' \".format(campaign_id), con=mydb)\n",
    "    if not df.empty:\n",
    "        if criteria != \"URL\" and criteria != \"CRITERIA\":\n",
    "            df['daily_budget'] = df_camp['daily_budget'].iloc[0]\n",
    "            df['bid_amount'] = df[ BIDDING_INDEX[ df['bidding_type'].iloc[0] ] ]\n",
    "            df['target'] = df[ TARGET_INDEX[ df['bidding_type'].iloc[0] ] ]\n",
    "            daily_destination = df_camp['destination'] / df_camp['period']\n",
    "            df['daily_destination'] = daily_destination.iloc[0]\n",
    "            for index, row in df.iterrows():\n",
    "                df = pd.DataFrame(data=[row], columns=df.columns, index=[0])\n",
    "                r = ObjectiveFunc.adgroup_fitness(df_weight, df)\n",
    "                df['score'] = r\n",
    "                df_final = df[ SCORE_COLUMN_INDEX[criteria] ]\n",
    "                gdn_db.into_table(df_final, table=SCORE_INDEX[criteria]+\"_score\")\n",
    "            \n",
    "            mydb.close()\n",
    "            return \n"
   ]
  },
  {
   "cell_type": "code",
   "execution_count": 140,
   "metadata": {},
   "outputs": [
    {
     "name": "stdout",
     "output_type": "stream",
     "text": [
      "AGE_RANGE\n"
     ]
    }
   ],
   "source": [
    "get_criteria_score(campaign_id=1777436620, criteria=\"AGE_RANGE\")"
   ]
  },
  {
   "cell_type": "code",
   "execution_count": 15,
   "metadata": {},
   "outputs": [
    {
     "name": "stderr",
     "output_type": "stream",
     "text": [
      "/home/tim_su/ai_optimizer/opt/ai_optimizer/ai_optimizer/codes/genetic_algorithm_gdn.py:290: FutureWarning: convert_objects is deprecated.  To re-infer data dtypes for object columns, use DataFrame.infer_objects()\n",
      "For all other conversions use the data-type specific converters pd.to_datetime, pd.to_timedelta and pd.to_numeric.\n",
      "  df = df.convert_objects(convert_numeric=True)\n"
     ]
    },
    {
     "ename": "NameError",
     "evalue": "name 'df' is not defined",
     "output_type": "error",
     "traceback": [
      "\u001b[0;31m---------------------------------------------------------------------------\u001b[0m",
      "\u001b[0;31mNameError\u001b[0m                                 Traceback (most recent call last)",
      "\u001b[0;32m<ipython-input-15-1ef42387851f>\u001b[0m in \u001b[0;36m<module>\u001b[0;34m\u001b[0m\n\u001b[1;32m      5\u001b[0m \u001b[0mbound\u001b[0m \u001b[0;34m=\u001b[0m \u001b[0mnp\u001b[0m\u001b[0;34m.\u001b[0m\u001b[0mtile\u001b[0m\u001b[0;34m(\u001b[0m\u001b[0;34m[\u001b[0m\u001b[0;34m[\u001b[0m\u001b[0;36m0\u001b[0m\u001b[0;34m]\u001b[0m\u001b[0;34m,\u001b[0m \u001b[0;34m[\u001b[0m\u001b[0;36m1\u001b[0m\u001b[0;34m]\u001b[0m\u001b[0;34m]\u001b[0m\u001b[0;34m,\u001b[0m \u001b[0mvardim\u001b[0m\u001b[0;34m)\u001b[0m\u001b[0;34m\u001b[0m\u001b[0;34m\u001b[0m\u001b[0m\n\u001b[1;32m      6\u001b[0m \u001b[0mga\u001b[0m \u001b[0;34m=\u001b[0m \u001b[0mGeneticAlgorithm\u001b[0m\u001b[0;34m(\u001b[0m\u001b[0msizepop\u001b[0m\u001b[0;34m,\u001b[0m \u001b[0mvardim\u001b[0m\u001b[0;34m,\u001b[0m \u001b[0mbound\u001b[0m\u001b[0;34m,\u001b[0m \u001b[0mMAXGEN\u001b[0m\u001b[0;34m,\u001b[0m \u001b[0mparams\u001b[0m\u001b[0;34m)\u001b[0m\u001b[0;34m\u001b[0m\u001b[0;34m\u001b[0m\u001b[0m\n\u001b[0;32m----> 7\u001b[0;31m \u001b[0moptimal\u001b[0m \u001b[0;34m=\u001b[0m \u001b[0mga\u001b[0m\u001b[0;34m.\u001b[0m\u001b[0msolve\u001b[0m\u001b[0;34m(\u001b[0m\u001b[0;34m)\u001b[0m\u001b[0;34m\u001b[0m\u001b[0;34m\u001b[0m\u001b[0m\n\u001b[0m\u001b[1;32m      8\u001b[0m \u001b[0mscore\u001b[0m \u001b[0;34m=\u001b[0m \u001b[0mObjectiveFunc\u001b[0m\u001b[0;34m.\u001b[0m\u001b[0mfitnessfunc\u001b[0m\u001b[0;34m(\u001b[0m\u001b[0moptimal\u001b[0m\u001b[0;34m,\u001b[0m \u001b[0mdf\u001b[0m\u001b[0;34m)\u001b[0m\u001b[0;34m\u001b[0m\u001b[0;34m\u001b[0m\u001b[0m\n\u001b[1;32m      9\u001b[0m \u001b[0;34m\u001b[0m\u001b[0m\n",
      "\u001b[0;32m~/ai_optimizer/opt/ai_optimizer/ai_optimizer/codes/genetic_algorithm_gdn.py\u001b[0m in \u001b[0;36msolve\u001b[0;34m(self)\u001b[0m\n\u001b[1;32m     72\u001b[0m         \u001b[0mself\u001b[0m\u001b[0;34m.\u001b[0m\u001b[0mt\u001b[0m \u001b[0;34m=\u001b[0m \u001b[0;36m0\u001b[0m\u001b[0;34m\u001b[0m\u001b[0;34m\u001b[0m\u001b[0m\n\u001b[1;32m     73\u001b[0m         \u001b[0mself\u001b[0m\u001b[0;34m.\u001b[0m\u001b[0minitialize\u001b[0m\u001b[0;34m(\u001b[0m\u001b[0;34m)\u001b[0m\u001b[0;34m\u001b[0m\u001b[0;34m\u001b[0m\u001b[0m\n\u001b[0;32m---> 74\u001b[0;31m         \u001b[0mself\u001b[0m\u001b[0;34m.\u001b[0m\u001b[0mevaluate\u001b[0m\u001b[0;34m(\u001b[0m\u001b[0;34m)\u001b[0m\u001b[0;34m\u001b[0m\u001b[0;34m\u001b[0m\u001b[0m\n\u001b[0m\u001b[1;32m     75\u001b[0m         \u001b[0mbest\u001b[0m \u001b[0;34m=\u001b[0m \u001b[0mnp\u001b[0m\u001b[0;34m.\u001b[0m\u001b[0mmax\u001b[0m\u001b[0;34m(\u001b[0m\u001b[0mself\u001b[0m\u001b[0;34m.\u001b[0m\u001b[0mfitness\u001b[0m\u001b[0;34m)\u001b[0m\u001b[0;34m\u001b[0m\u001b[0;34m\u001b[0m\u001b[0m\n\u001b[1;32m     76\u001b[0m         \u001b[0mbestIndex\u001b[0m \u001b[0;34m=\u001b[0m \u001b[0mnp\u001b[0m\u001b[0;34m.\u001b[0m\u001b[0margmax\u001b[0m\u001b[0;34m(\u001b[0m\u001b[0mself\u001b[0m\u001b[0;34m.\u001b[0m\u001b[0mfitness\u001b[0m\u001b[0;34m)\u001b[0m\u001b[0;34m\u001b[0m\u001b[0;34m\u001b[0m\u001b[0m\n",
      "\u001b[0;32m~/ai_optimizer/opt/ai_optimizer/ai_optimizer/codes/genetic_algorithm_gdn.py\u001b[0m in \u001b[0;36mevaluate\u001b[0;34m(self)\u001b[0m\n\u001b[1;32m     63\u001b[0m         '''\n\u001b[1;32m     64\u001b[0m         \u001b[0;32mfor\u001b[0m \u001b[0mi\u001b[0m \u001b[0;32min\u001b[0m \u001b[0mrange\u001b[0m\u001b[0;34m(\u001b[0m\u001b[0;36m0\u001b[0m\u001b[0;34m,\u001b[0m \u001b[0mself\u001b[0m\u001b[0;34m.\u001b[0m\u001b[0msizepop\u001b[0m\u001b[0;34m)\u001b[0m\u001b[0;34m:\u001b[0m\u001b[0;34m\u001b[0m\u001b[0;34m\u001b[0m\u001b[0m\n\u001b[0;32m---> 65\u001b[0;31m             \u001b[0mself\u001b[0m\u001b[0;34m.\u001b[0m\u001b[0mpopulation\u001b[0m\u001b[0;34m[\u001b[0m\u001b[0mi\u001b[0m\u001b[0;34m]\u001b[0m\u001b[0;34m.\u001b[0m\u001b[0mcalculateFitness\u001b[0m\u001b[0;34m(\u001b[0m\u001b[0;34m)\u001b[0m\u001b[0;34m\u001b[0m\u001b[0;34m\u001b[0m\u001b[0m\n\u001b[0m\u001b[1;32m     66\u001b[0m             \u001b[0mself\u001b[0m\u001b[0;34m.\u001b[0m\u001b[0mfitness\u001b[0m\u001b[0;34m[\u001b[0m\u001b[0mi\u001b[0m\u001b[0;34m]\u001b[0m \u001b[0;34m=\u001b[0m \u001b[0mself\u001b[0m\u001b[0;34m.\u001b[0m\u001b[0mpopulation\u001b[0m\u001b[0;34m[\u001b[0m\u001b[0mi\u001b[0m\u001b[0;34m]\u001b[0m\u001b[0;34m.\u001b[0m\u001b[0mfitness\u001b[0m\u001b[0;34m\u001b[0m\u001b[0;34m\u001b[0m\u001b[0m\n\u001b[1;32m     67\u001b[0m \u001b[0;34m\u001b[0m\u001b[0m\n",
      "\u001b[0;32m~/ai_optimizer/opt/ai_optimizer/ai_optimizer/codes/genetic_algorithm_gdn.py\u001b[0m in \u001b[0;36mcalculateFitness\u001b[0;34m(self)\u001b[0m\n\u001b[1;32m    216\u001b[0m         \u001b[0mcalculate\u001b[0m \u001b[0mthe\u001b[0m \u001b[0mfitness\u001b[0m \u001b[0mof\u001b[0m \u001b[0mthe\u001b[0m \u001b[0mchromsome\u001b[0m\u001b[0;34m\u001b[0m\u001b[0;34m\u001b[0m\u001b[0m\n\u001b[1;32m    217\u001b[0m         '''\n\u001b[0;32m--> 218\u001b[0;31m         \u001b[0mself\u001b[0m\u001b[0;34m.\u001b[0m\u001b[0mfitness\u001b[0m \u001b[0;34m=\u001b[0m \u001b[0mObjectiveFunc\u001b[0m\u001b[0;34m.\u001b[0m\u001b[0mfitnessfunc\u001b[0m\u001b[0;34m(\u001b[0m\u001b[0mself\u001b[0m\u001b[0;34m.\u001b[0m\u001b[0mchrom\u001b[0m\u001b[0;34m,\u001b[0m \u001b[0mdf\u001b[0m\u001b[0;34m)\u001b[0m\u001b[0;34m\u001b[0m\u001b[0;34m\u001b[0m\u001b[0m\n\u001b[0m\u001b[1;32m    219\u001b[0m \u001b[0;34m\u001b[0m\u001b[0m\n\u001b[1;32m    220\u001b[0m \u001b[0;34m\u001b[0m\u001b[0m\n",
      "\u001b[0;31mNameError\u001b[0m: name 'df' is not defined"
     ]
    }
   ],
   "source": [
    "from genetic_algorithm_gdn import *\n",
    "campaign_id = 1777436620\n",
    "global df\n",
    "df = ObjectiveFunc().campaign_status(campaign_id)\n",
    "bound = np.tile([[0], [1]], vardim)\n",
    "ga = GeneticAlgorithm(sizepop, vardim, bound, MAXGEN, params)\n",
    "optimal = ga.solve()\n",
    "score = ObjectiveFunc.fitnessfunc(optimal, df)\n",
    "\n",
    "score_columns=['weight_kpi', 'weight_spend', 'weight_bid']\n",
    "df_score = pd.DataFrame(data=[optimal], columns=['weight_kpi', 'weight_spend', 'weight_bid'], index=[0])\n",
    "#         score_columns=['weight_kpi', 'weight_spend', 'weight_bid', 'weight_width']\n",
    "#         df_score = pd.DataFrame(data=[optimal], columns=['weight_kpi', 'weight_spend', 'weight_bid', 'weight_width'], index=[0])        \n",
    "\n",
    "df_final = pd.DataFrame({'campaign_id':campaign_id, 'score':score}, columns=['campaign_id', 'score'], index=[0])\n",
    "df_final = pd.concat( [df_score, df_final], axis=1, sort=True, ignore_index=False)\n",
    "\n",
    "print(df_final)\n",
    "gdn_db.check_optimal_weight(campaign_id, df_final)"
   ]
  },
  {
   "cell_type": "code",
   "execution_count": 161,
   "metadata": {},
   "outputs": [],
   "source": [
    "adgroup_id=None\n",
    "campaign_id=1"
   ]
  },
  {
   "cell_type": "code",
   "execution_count": 162,
   "metadata": {},
   "outputs": [
    {
     "name": "stdout",
     "output_type": "stream",
     "text": [
      "True\n"
     ]
    }
   ],
   "source": [
    "if adgroup_id or campaign_id:\n",
    "    print(True)\n",
    "elif not adgroup_id:\n",
    "    print(False)"
   ]
  },
  {
   "cell_type": "code",
   "execution_count": null,
   "metadata": {},
   "outputs": [],
   "source": []
  }
 ],
 "metadata": {
  "kernelspec": {
   "display_name": "Python 3",
   "language": "python",
   "name": "python3"
  },
  "language_info": {
   "codemirror_mode": {
    "name": "ipython",
    "version": 3
   },
   "file_extension": ".py",
   "mimetype": "text/x-python",
   "name": "python",
   "nbconvert_exporter": "python",
   "pygments_lexer": "ipython3",
   "version": "3.6.7"
  },
  "varInspector": {
   "cols": {
    "lenName": 16,
    "lenType": 16,
    "lenVar": 40
   },
   "kernels_config": {
    "python": {
     "delete_cmd_postfix": "",
     "delete_cmd_prefix": "del ",
     "library": "var_list.py",
     "varRefreshCmd": "print(var_dic_list())"
    },
    "r": {
     "delete_cmd_postfix": ") ",
     "delete_cmd_prefix": "rm(",
     "library": "var_list.r",
     "varRefreshCmd": "cat(var_dic_list()) "
    }
   },
   "types_to_exclude": [
    "module",
    "function",
    "builtin_function_or_method",
    "instance",
    "_Feature"
   ],
   "window_display": false
  }
 },
 "nbformat": 4,
 "nbformat_minor": 2
}
