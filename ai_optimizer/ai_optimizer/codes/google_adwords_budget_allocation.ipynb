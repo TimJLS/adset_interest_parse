{
 "cells": [
  {
   "cell_type": "code",
   "execution_count": null,
   "metadata": {},
   "outputs": [],
   "source": [
    "import copy\n",
    "import math\n",
    "import datetime\n",
    "import inspect\n",
    "from typing import Union\n",
    "from functools import wraps\n",
    "\n",
    "import json\n",
    "import pandas as pd\n",
    "from loguru import logger\n",
    "import database_controller\n",
    "import google_adwords_controller as controller\n",
    "import google_adwords_report_generator as collector\n",
    "import adgeek_permission as permission\n",
    "PATH = '/home/tim_su/ai_optimizer/opt/ai_optimizer/app_log/auto_calibration/facebook/'+ \\\n",
    "        '{date}.log'.format(date=datetime.datetime.strftime(datetime.datetime.today(), \"%m_%d_%Y\"))"
   ]
  },
  {
   "cell_type": "code",
   "execution_count": null,
   "metadata": {},
   "outputs": [],
   "source": [
    "class CampaignGroup:\n",
    "    def __init__(self, campaign_group_id: int=None, data: pd.DataFrame=None, *arg, **kwarg):\n",
    "        self.data = data\n",
    "        if data is None:\n",
    "            self.data = pd.DataFrame()\n",
    "        if isinstance(data, pd.DataFrame):\n",
    "            self._data_parsing()\n",
    "            self.campaigns = [Campaign(campaign_id=row['campaign_id'],\n",
    "                                       media=kwarg['media'],\n",
    "                                       data=dict(row)) for idx, row in self.data.iterrows()]\n",
    "\n",
    "    def __repr__(self) -> str:\n",
    "        return \"{0}{1}\".format(self.__class__, json.dumps(self.data.to_dict('records'), indent=4, default=str))\n",
    "\n",
    "    def _data_parsing(self):\n",
    "        assert len(self.data['campaign_group_id'].unique()) == 1, \"Multiple Campaign Group Ids\" +\\\n",
    "                                                                  \", should be only one Id.\"\n",
    "        self.campaign_group_id = self.data['campaign_group_id'].unique()[0]\n",
    "        self.budget = self.data['budget'].agg('sum').astype(object)\n",
    "\n",
    "    def budget_allocation(self):\n",
    "        self.campaigns = [campaign for campaign in self.campaigns if campaign.spend_ratio > 0.5]\n",
    "        self.available_balance = sum([campaign.budget for campaign in self.campaigns])\n",
    "        self.expected_destination = sum([campaign.expected_destination for campaign in self.campaigns])\n",
    "        for campaign in self.campaigns:\n",
    "            campaign.available_balance = (self.available_balance / self.expected_destination) * \\\n",
    "                                          campaign.expected_destination"
   ]
  },
  {
   "cell_type": "code",
   "execution_count": null,
   "metadata": {},
   "outputs": [],
   "source": [
    "class Campaign(collector.CampaignReportGenerator):\n",
    "    _COST_OBJECTIVE = {\n",
    "        'LINK_CLICKS': 'cost_per_click',\n",
    "        'COVERSIONS': 'cost_per_conversion'\n",
    "    }\n",
    "    _OBJECTIVE = {\n",
    "        'LINK_CLICKS': 'clicks',\n",
    "        'COVERSIONS': 'conversions'\n",
    "    }\n",
    "    def __init__(self, campaign_id: int, media: str, data: dict=None, *arg, **kwarg):\n",
    "        super().__init__(campaign_id, media)\n",
    "        self.data = data\n",
    "        self.objective = self._COST_OBJECTIVE[self.brief['destination_type']]\n",
    "        self.insights = self.get_insights(date_preset='yesterday')[0]\n",
    "        self.budget = self.data['budget'] if isinstance(data, dict) else None\n",
    "        self.closing_price = self.insights[self._COST_OBJECTIVE[self.brief['destination_type']]]\n",
    "        self.expected_destination = self.insights['daily_budget'] / self.closing_price if self.closing_price != 0 else 10\n",
    "        self.actual_destination = self.insights[self._OBJECTIVE[self.brief['destination_type']]]\n",
    "        self.spend_ratio = self.insights['spend'] / self.insights['daily_budget']\n",
    "        self.service = controller.CampaignServiceContainer(self.customer_id)\n",
    "        \n",
    "    def __repr__(self) -> str:\n",
    "        return \"{0}{1}\".format(self.__class__, json.dumps(self.insights, indent=4, default=str))"
   ]
  },
  {
   "cell_type": "code",
   "execution_count": null,
   "metadata": {},
   "outputs": [],
   "source": [
    "@logger.catch\n",
    "def process_budget_allocation(database):\n",
    "    PATH = '/home/tim_su/ai_optimizer/opt/ai_optimizer/app_log/budget_allocation/' + \\\n",
    "           '{media}/{date}.log'.format(media=database.media,\n",
    "                                       date=datetime.datetime.strftime(datetime.datetime.today(),\n",
    "                                                                       \"%m_%d_%Y\"))\n",
    "    logger.add(PATH)\n",
    "    campaign_groups = database.get_running_campaign_group().groupby('campaign_group_id')\n",
    "    for idx, campaign_group in campaign_groups:\n",
    "        cgp = CampaignGroup(media='gdn', data=campaign_group)\n",
    "        cgp.budget_allocation()\n",
    "        logger.info(\"Campaign Group ID: {}\".format(cgp.campaign_group_id))\n",
    "        logger.info(\"    Budget: {}\".format(cgp.budget), )\n",
    "        logger.info(\"    Available Balance: {}\".format(cgp.available_balance), )\n",
    "        logger.info(\"    Expected Destinations: {}\".format(cgp.expected_destination), )\n",
    "        if not cgp.campaigns:\n",
    "            logger.info(\"Allocation Requirements not match.\")\n",
    "            return\n",
    "        for campaign in cgp.campaigns:\n",
    "            logger.info(\"Campaign ID: {}\".format(campaign.campaign_id))\n",
    "            logger.info(\"    Objective: {}\".format(campaign.objective))\n",
    "            logger.info(\"    Budget: {}\".format(campaign.budget))\n",
    "            logger.info(\"    Closing Price(CPC): {}\".format(campaign.closing_price))\n",
    "            logger.info(\"    Spend Ratio: {}\".format(campaign.spend_ratio))\n",
    "            logger.info(\"    Expected Destinations: {}\".format(campaign.expected_destination))\n",
    "            logger.info(\"    Actual Destinations: {}\".format(campaign.actual_destination))\n",
    "            logger.info(\"    Available Balance: {}\".format(campaign.available_balance))\n",
    "            controller_campaign = controller.Campaign(campaign.service, campaign.campaign_id)\n",
    "            resp = controller_campaign.get_budget().update(campaign.available_balance)\n",
    "            logger.info(\"    Update Response: {}\".format(resp))"
   ]
  },
  {
   "cell_type": "code",
   "execution_count": null,
   "metadata": {},
   "outputs": [],
   "source": [
    "def main():\n",
    "    db_host = database_controller.Database\n",
    "    for database in [database_controller.GDN(db_host), database_controller.GSN(db_host)]:\n",
    "        process_budget_allocation(database)"
   ]
  },
  {
   "cell_type": "code",
   "execution_count": null,
   "metadata": {},
   "outputs": [],
   "source": [
    "if __name__=='__main__':\n",
    "    main()"
   ]
  },
  {
   "cell_type": "code",
   "execution_count": 1,
   "metadata": {},
   "outputs": [
    {
     "name": "stdout",
     "output_type": "stream",
     "text": [
      "[NbConvertApp] Converting notebook google_adwords_budget_allocation.ipynb to script\n",
      "[NbConvertApp] Writing 5734 bytes to google_adwords_budget_allocation.py\n"
     ]
    }
   ],
   "source": [
    "# !jupyter nbconvert --to script google_adwords_budget_allocation.ipynb"
   ]
  },
  {
   "cell_type": "code",
   "execution_count": null,
   "metadata": {},
   "outputs": [],
   "source": []
  }
 ],
 "metadata": {
  "kernelspec": {
   "display_name": "Python 3",
   "language": "python",
   "name": "python3"
  },
  "language_info": {
   "codemirror_mode": {
    "name": "ipython",
    "version": 3
   },
   "file_extension": ".py",
   "mimetype": "text/x-python",
   "name": "python",
   "nbconvert_exporter": "python",
   "pygments_lexer": "ipython3",
   "version": "3.6.9"
  }
 },
 "nbformat": 4,
 "nbformat_minor": 4
}
