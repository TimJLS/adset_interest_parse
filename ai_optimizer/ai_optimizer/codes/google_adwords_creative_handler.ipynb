{
 "cells": [
  {
   "cell_type": "code",
   "execution_count": null,
   "metadata": {},
   "outputs": [],
   "source": [
    "from googleads import adwords\n",
    "import pandas as pd\n",
    "import copy\n",
    "import math\n",
    "import datetime\n",
    "\n",
    "import adgeek_permission as permission\n",
    "import google_adwords_controller as controller\n",
    "import database_controller\n",
    "\n",
    "LIMMITED_STATUS_LIST = ['UNDER_REVIEW', 'DISAPPROVED']"
   ]
  },
  {
   "cell_type": "code",
   "execution_count": null,
   "metadata": {},
   "outputs": [],
   "source": [
    "def is_all_disapproved(controller_campaign):\n",
    "    controller_campaign.get_ads()\n",
    "    disapproved_creative_list = [\n",
    "        creative.policy.approval_status for creative in controller_campaign.creatives if creative.policy.approval_status in LIMMITED_STATUS_LIST ]\n",
    "    return len(controller_campaign.creatives) == len(disapproved_creative_list)"
   ]
  },
  {
   "cell_type": "code",
   "execution_count": null,
   "metadata": {},
   "outputs": [],
   "source": [
    "def handle_gdn_campaign():\n",
    "    db = database_controller.Database()\n",
    "    database_gdn = database_controller.GDN(db)\n",
    "    running_campaign_dict_list = database_gdn.get_running_campaign().to_dict('records')\n",
    "    campaign_id_list = [ running_campaign_dict['campaign_id'] for running_campaign_dict in running_campaign_dict_list ]\n",
    "    print('[handle_gdn_campaign]: campaign_id_list', campaign_id_list)\n",
    "    for running_campaign_dict in running_campaign_dict_list:\n",
    "        customer_id = running_campaign_dict['customer_id']\n",
    "        campaign_id = running_campaign_dict['campaign_id']\n",
    "        service_container = controller.AdGroupServiceContainer( customer_id )\n",
    "        controller_campaign = controller.Campaign(service_container, campaign_id)\n",
    "\n",
    "        if is_all_disapproved(controller_campaign):\n",
    "            print('====[handle_gdn_campaign]: all campaign creatives is disapproved')\n",
    "            print('========[campaign_id]:', campaign_id)\n",
    "            # stops intervention\n",
    "            database_gdn.upsert(\"campaign_target\", {\"campaign_id\": campaign_id, \"ai_status\": \"inactive\"})"
   ]
  },
  {
   "cell_type": "code",
   "execution_count": null,
   "metadata": {},
   "outputs": [],
   "source": [
    "def handle_gsn_campaign():\n",
    "    db = database_controller.Database()\n",
    "    database_gsn = database_controller.GSN(db)\n",
    "    running_campaign_dict_list = database_gsn.get_running_campaign().to_dict('records')\n",
    "    campaign_id_list = [ running_campaign_dict['campaign_id'] for running_campaign_dict in running_campaign_dict_list ]\n",
    "    print('[handle_gsn_campaign]: campaign_id_list', campaign_id_list)\n",
    "    for running_campaign_dict in running_campaign_dict_list:\n",
    "        customer_id = running_campaign_dict['customer_id']\n",
    "        campaign_id = running_campaign_dict['campaign_id']\n",
    "        service_container = controller.AdGroupServiceContainer( customer_id )\n",
    "        controller_campaign = controller.Campaign(service_container, campaign_id)\n",
    "\n",
    "        if is_all_disapproved(controller_campaign):\n",
    "            print('====[handle_gsn_campaign]: all campaign creatives is disapproved')\n",
    "            print('========[campaign_id]:', campaign_id)\n",
    "            # stops intervention\n",
    "            database_gsn.upsert(\"campaign_target\", {\"campaign_id\": campaign_id, \"ai_status\": \"inactive\"})"
   ]
  },
  {
   "cell_type": "code",
   "execution_count": null,
   "metadata": {},
   "outputs": [],
   "source": [
    "def main():\n",
    "    start_time = datetime.datetime.now()\n",
    "    print('current time: ', start_time)\n",
    "    global database_gdn\n",
    "    global database_gsn\n",
    "    handle_gdn_campaign()\n",
    "    handle_gsn_campaign()"
   ]
  },
  {
   "cell_type": "code",
   "execution_count": null,
   "metadata": {},
   "outputs": [],
   "source": [
    "if __name__=='__main__':\n",
    "    main()"
   ]
  },
  {
   "cell_type": "code",
   "execution_count": 1,
   "metadata": {},
   "outputs": [
    {
     "name": "stdout",
     "output_type": "stream",
     "text": [
      "[NbConvertApp] Converting notebook google_adwords_creative_handler.ipynb to script\n",
      "[NbConvertApp] Writing 3177 bytes to google_adwords_creative_handler.py\n"
     ]
    }
   ],
   "source": [
    "# !jupyter nbconvert --to script google_adwords_creative_handler.ipynb"
   ]
  },
  {
   "cell_type": "code",
   "execution_count": null,
   "metadata": {},
   "outputs": [],
   "source": []
  }
 ],
 "metadata": {
  "kernelspec": {
   "display_name": "Python 3",
   "language": "python",
   "name": "python3"
  },
  "language_info": {
   "codemirror_mode": {
    "name": "ipython",
    "version": 3
   },
   "file_extension": ".py",
   "mimetype": "text/x-python",
   "name": "python",
   "nbconvert_exporter": "python",
   "pygments_lexer": "ipython3",
   "version": "3.6.8"
  }
 },
 "nbformat": 4,
 "nbformat_minor": 4
}
