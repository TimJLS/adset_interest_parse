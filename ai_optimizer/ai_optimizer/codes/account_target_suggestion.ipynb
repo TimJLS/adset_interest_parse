{
 "cells": [
  {
   "cell_type": "code",
   "execution_count": null,
   "metadata": {},
   "outputs": [],
   "source": [
    "# ref: https://developers.facebook.com/tools/explorer?method=GET&path=act_516689492098932%2Ftargetingsuggestions&version=v3.3&classic=0\n",
    "\n",
    "from pathlib import Path\n",
    "import datetime\n",
    "import time\n",
    "\n",
    "from facebook_business.api import FacebookAdsApi\n",
    "import facebook_business.adobjects.adaccount as facebook_business_adaccount\n",
    "import facebook_business.adobjects.adset as facebook_business_adset\n",
    "import facebook_business.adobjects.campaign as facebook_business_campaign\n",
    "import facebook_business.adobjects.adsinsights as facebook_business_adsinsights\n",
    "import facebook_business.adobjects.adaccounttargetingunified as facebook_business_adaccounttarget\n",
    "\n",
    "import facebook_datacollector as fb_collector\n",
    "import database_controller\n",
    "ADSET_INSIGHT_QUERY_FIELD = {\n",
    "    'account_id': facebook_business_adsinsights.AdsInsights.Field.account_id,\n",
    "    'campaign_id': facebook_business_adsinsights.AdsInsights.Field.campaign_id\n",
    "}\n",
    "\n",
    "\n",
    "class Account_Suggestion_Handler(object):\n",
    "    db = database_controller.Database()\n",
    "    database_connector = database_controller.FB(db)\n",
    "    \n",
    "    def __init__(self, account_id, suggestion_id, suggestion_name, suggestion_type, audience_size):\n",
    "        self.account_id = account_id\n",
    "        self.suggestion_id = suggestion_id\n",
    "        self.suggestion_name = suggestion_name\n",
    "        self.suggestion_type = suggestion_type\n",
    "        self.audience_size = audience_size\n",
    "        self.log_date = datetime.datetime.now().strftime(\"%Y-%m-%d\")\n",
    "        \n",
    "    def __str__(self):\n",
    "        return str(self.__dict__)\n",
    "    \n",
    "    def save_into_database(self):\n",
    "        cols = ', '.join(self.__dict__.keys())\n",
    "        vals = self.__dict__.values()\n",
    "        placeholders = ', '.join(['%s'] * len(self.__dict__))\n",
    "        \n",
    "        table_name = 'account_target_suggestion'\n",
    "        self.database_connector.insert(table_name, dict(zip(cols, placeholders)))\n",
    "        \n",
    "def get_account_id_by_adset(adset_id):\n",
    "    this_adsets = facebook_business_adset.AdSet( adset_id ).api_get(fields=[\"account_id\"])\n",
    "    account_id = this_adsets.get('account_id')\n",
    "    return account_id\n",
    "\n",
    "def get_account_id_by_campaign(campaign_id):\n",
    "    this_campaign = facebook_business_campaign.Campaign( campaign_id ).api_get(fields=[\"account_id\"])\n",
    "    account_id = this_campaign.get('account_id')\n",
    "    return account_id\n",
    "    \n",
    "def get_account_suggestion(account_id_act):\n",
    "    account = facebook_business_adaccount.AdAccount(account_id_act)\n",
    "    targeting_suggestions = account.get_targeting_suggestions()\n",
    "#     print(targeting_suggestions)\n",
    "    return targeting_suggestions\n",
    "\n",
    "def process_account_suggestion(account_id):\n",
    "    account_id_act = 'act_' + str(account_id)\n",
    "    account_suggestion_list = get_account_suggestion(account_id_act)\n",
    "    print('[process_account_suggestion] len:', len(account_suggestion_list))\n",
    "    \n",
    "    for account_suggestion in account_suggestion_list:\n",
    "        suggestion_id = account_suggestion.get(facebook_business_adaccounttarget.AdAccountTargetingUnified.Field.id)\n",
    "        suggestion_name = account_suggestion.get(facebook_business_adaccounttarget.AdAccountTargetingUnified.Field.name)\n",
    "        suggestion_type = account_suggestion.get(facebook_business_adaccounttarget.AdAccountTargetingUnified.Field.type)\n",
    "        audience_size = account_suggestion.get(facebook_business_adaccounttarget.AdAccountTargetingUnified.Field.audience_size)\n",
    "        \n",
    "        account_suggestion_handler = Account_Suggestion_Handler(account_id, suggestion_id, suggestion_name, suggestion_type, audience_size)\n",
    "        account_suggestion_handler.save_into_database()\n",
    "#         print(account_suggestion_handler)\n",
    "    \n",
    "\n",
    "        \n",
    "    \n",
    "def save_suggestion_for_all_campaign():\n",
    "    db = database_controller.Database()\n",
    "    database_connector = database_controller.FB(db)\n",
    "    campaign_list =  database_connector.get_running_campaign().to_dict('records')\n",
    "    print('[save_suggestion_for_all_campaign] current running campaign:', len(campaign_list), campaign_list )\n",
    "    \n",
    "    for campaign in campaign_list:\n",
    "#         account_id = get_account_id_by_campaign(campaign['campaign_id'])\n",
    "        print('[save_suggestion_for_all_campaign] account_id:', campaign['account_id'], 'campaign_id:', campaign['campaign_id'])\n",
    "        process_account_suggestion(campaign['account_id'])\n",
    "        \n",
    "def main():\n",
    "    save_suggestion_for_all_campaign()\n",
    "    \n",
    "\n",
    "    \n",
    "if __name__ == \"__main__\":\n",
    "    main()"
   ]
  },
  {
   "cell_type": "code",
   "execution_count": 1,
   "metadata": {},
   "outputs": [
    {
     "name": "stdout",
     "output_type": "stream",
     "text": [
      "[NbConvertApp] Converting notebook account_target_suggestion.ipynb to script\n",
      "[NbConvertApp] Writing 4348 bytes to account_target_suggestion.py\n"
     ]
    }
   ],
   "source": [
    "# !jupyter nbconvert --to script account_target_suggestion.ipynb"
   ]
  },
  {
   "cell_type": "code",
   "execution_count": null,
   "metadata": {},
   "outputs": [],
   "source": []
  }
 ],
 "metadata": {
  "kernelspec": {
   "display_name": "Python 3",
   "language": "python",
   "name": "python3"
  },
  "language_info": {
   "codemirror_mode": {
    "name": "ipython",
    "version": 3
   },
   "file_extension": ".py",
   "mimetype": "text/x-python",
   "name": "python",
   "nbconvert_exporter": "python",
   "pygments_lexer": "ipython3",
   "version": "3.6.8"
  },
  "varInspector": {
   "cols": {
    "lenName": 16,
    "lenType": 16,
    "lenVar": 40
   },
   "kernels_config": {
    "python": {
     "delete_cmd_postfix": "",
     "delete_cmd_prefix": "del ",
     "library": "var_list.py",
     "varRefreshCmd": "print(var_dic_list())"
    },
    "r": {
     "delete_cmd_postfix": ") ",
     "delete_cmd_prefix": "rm(",
     "library": "var_list.r",
     "varRefreshCmd": "cat(var_dic_list()) "
    }
   },
   "types_to_exclude": [
    "module",
    "function",
    "builtin_function_or_method",
    "instance",
    "_Feature"
   ],
   "window_display": false
  }
 },
 "nbformat": 4,
 "nbformat_minor": 4
}
