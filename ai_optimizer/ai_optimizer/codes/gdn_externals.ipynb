{
 "cells": [
  {
   "cell_type": "code",
   "execution_count": 1,
   "metadata": {},
   "outputs": [],
   "source": [
    "import gdn_datacollector\n",
    "import datetime\n",
    "import gdn_db\n",
    "from googleads import adwords\n",
    "AUTH_FILE_PATH = '/home/tim_su/ai_optimizer/opt/ai_optimizer/googleads.yaml'\n",
    "client = adwords.AdWordsClient.LoadFromStorage(AUTH_FILE_PATH)\n",
    "DATABASE = \"dev_gdn\""
   ]
  },
  {
   "cell_type": "code",
   "execution_count": 2,
   "metadata": {},
   "outputs": [],
   "source": [
    "def get_sorted_adgroup(campaign):\n",
    "    mydb = gdn_db.connectDB(DATABASE)\n",
    "    try:\n",
    "        df = pd.read_sql(\n",
    "            \"select * from adgroup_score where campaign_id=%s\" % (campaign), con=mydb)\n",
    "        df = df[df.request_time.dt.date == DATE].sort_values(\n",
    "            by=['score'], ascending=False)\n",
    "        adgroup_list = df['adgroup_id']\n",
    "        assert adgroup_list, 'Empty List'\n",
    "    except:\n",
    "        df_camp = gdn_db.get_campaign(campaign)\n",
    "        destination_type = df_camp['destination_type'].iloc[0]\n",
    "        adgroup_list = gdn_datacollector.Campaign(\n",
    "            df_camp['customer_id'][df_camp.campaign_id==campaign].iloc[0],\n",
    "            campaign,\n",
    "            destination_type).get_adgroup_id_list()\n",
    "    return adgroup_list\n",
    "\n",
    "def split_adgroup_list(adgroup_list):\n",
    "    import math\n",
    "    adgroup_list.sort(reverse=True)\n",
    "    half = math.ceil(len(adgroup_list) / 2)\n",
    "    return adgroup_list[:half], adgroup_list[half:]\n",
    "\n",
    "def main():\n",
    "    starttime = datetime.datetime.now()\n",
    "    df_camp = gdn_db.get_campaign()\n",
    "    campaign_id_list = df_camp['campaign_id'].unique()\n",
    "    for campaign_id in campaign_id_list:\n",
    "        client = adwords.AdWordsClient.LoadFromStorage(AUTH_FILE_PATH)\n",
    "        adgroup_list = get_sorted_adgroup(campaign_id)\n",
    "        adgroup_for_copy, adgroup_for_off = split_adgroup_list(adgroup_list)\n",
    "        for adgroup_id in adgroup_for_off:\n",
    "            \n",
    "            adgroup = gdn_datacollector.AdGroup( \n",
    "                df_camp['customer_id'].iloc[0],\n",
    "                df_camp['campaign_id'].iloc[0],\n",
    "                df_camp['destination_type'].iloc[0],\n",
    "                adgroup_id )\n",
    "            adgroup.update_status(client=client)\n",
    "    return"
   ]
  },
  {
   "cell_type": "code",
   "execution_count": null,
   "metadata": {},
   "outputs": [],
   "source": [
    "if __name__==\"__main__\":\n",
    "    main()"
   ]
  },
  {
   "cell_type": "code",
   "execution_count": 3,
   "metadata": {},
   "outputs": [
    {
     "name": "stdout",
     "output_type": "stream",
     "text": [
      "[NbConvertApp] Converting notebook gdn_externals.ipynb to script\n",
      "[NbConvertApp] Writing 2020 bytes to gdn_externals.py\n"
     ]
    }
   ],
   "source": [
    "!jupyter nbconvert --to script gdn_externals.ipynb"
   ]
  },
  {
   "cell_type": "code",
   "execution_count": null,
   "metadata": {},
   "outputs": [],
   "source": []
  }
 ],
 "metadata": {
  "kernelspec": {
   "display_name": "Python 3",
   "language": "python",
   "name": "python3"
  },
  "language_info": {
   "codemirror_mode": {
    "name": "ipython",
    "version": 3
   },
   "file_extension": ".py",
   "mimetype": "text/x-python",
   "name": "python",
   "nbconvert_exporter": "python",
   "pygments_lexer": "ipython3",
   "version": "3.6.7"
  },
  "varInspector": {
   "cols": {
    "lenName": 16,
    "lenType": 16,
    "lenVar": 40
   },
   "kernels_config": {
    "python": {
     "delete_cmd_postfix": "",
     "delete_cmd_prefix": "del ",
     "library": "var_list.py",
     "varRefreshCmd": "print(var_dic_list())"
    },
    "r": {
     "delete_cmd_postfix": ") ",
     "delete_cmd_prefix": "rm(",
     "library": "var_list.r",
     "varRefreshCmd": "cat(var_dic_list()) "
    }
   },
   "position": {
    "height": "546.4px",
    "left": "1134px",
    "right": "20px",
    "top": "120px",
    "width": "350px"
   },
   "types_to_exclude": [
    "module",
    "function",
    "builtin_function_or_method",
    "instance",
    "_Feature"
   ],
   "window_display": true
  }
 },
 "nbformat": 4,
 "nbformat_minor": 2
}
