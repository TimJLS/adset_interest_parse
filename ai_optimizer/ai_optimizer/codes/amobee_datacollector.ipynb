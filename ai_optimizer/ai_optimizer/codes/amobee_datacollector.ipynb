{
 "cells": [
  {
   "cell_type": "code",
   "execution_count": 39,
   "metadata": {},
   "outputs": [],
   "source": [
    "import requests\n",
    "import json"
   ]
  },
  {
   "cell_type": "code",
   "execution_count": 40,
   "metadata": {},
   "outputs": [],
   "source": [
    "url = \"https://services.amobee.com/accounts/v1/api/token\"\n",
    "headers = {\"Content-Type\":\"application/json\"}\n",
    "payload = {\n",
    "\"client_id\":\"ad2819a6-5f55-1038-834c-5bbb75af789b@658.api\",\n",
    "\"client_secret\":\"Lmrp3yqrzToo3NM/\",\n",
    "\"grant_type\":\"client_credentials\"\n",
    "}"
   ]
  },
  {
   "cell_type": "code",
   "execution_count": 41,
   "metadata": {},
   "outputs": [],
   "source": [
    "r = requests.post(url, headers=headers, data=json.dumps(payload))"
   ]
  },
  {
   "cell_type": "code",
   "execution_count": 42,
   "metadata": {},
   "outputs": [
    {
     "data": {
      "text/plain": [
       "<Response [200]>"
      ]
     },
     "execution_count": 42,
     "metadata": {},
     "output_type": "execute_result"
    }
   ],
   "source": [
    "r"
   ]
  },
  {
   "cell_type": "code",
   "execution_count": 43,
   "metadata": {},
   "outputs": [],
   "source": [
    "access_token = json.loads(r.text)['access_token']"
   ]
  },
  {
   "cell_type": "code",
   "execution_count": 44,
   "metadata": {},
   "outputs": [
    {
     "data": {
      "text/plain": [
       "'eyJhbGciOiJSUzI1NiIsImtpZCI6ImNkNTgwNmE0MzE0NmZhZTlkZmMwOWMwZDIyMDg2MGYyZTNhMjBkMjQifQ.eyJpc3MiOiJodHRwczovL29pZGMudW5pdHkuYW1vYmVlLmNvbSIsInN1YiI6IkNpUmhaREk0TVRsaE5pMDFaalUxTFRFd016Z3RPRE0wWXkwMVltSmlOelZoWmpjNE9XSVNCR3hrWVhBIiwiYXVkIjoiZEx5elVXX0t5bThCblFSSmx3Tzk2WVQ0ZEk3R2JNSnBQZUptZ2d6cHZzZz1AYXBwLnVuaXR5LmFtb2JlZS5jb20iLCJleHAiOjE1NDg3NzUwMzAsImlhdCI6MTU0ODczMTgzMCwiYXRfaGFzaCI6IlZKOFpFdGNXX3ExbmMyYmdkQVZkZHciLCJlbWFpbCI6ImFkMjgxOWE2LTVmNTUtMTAzOC04MzRjLTViYmI3NWFmNzg5YkA2NTguYXBpIiwiZW1haWxfdmVyaWZpZWQiOnRydWUsImF1dGhvcml0aWVzIjpbIkFQUF9VTklUWSIsIkFQUF9UVVJOX1BMQVRGT1JNIl0sImVudHJ5VVVJRCI6ImFkMjgxOWE2LTVmNTUtMTAzOC04MzRjLTViYmI3NWFmNzg5YiIsIm5hbWUiOiJhZDI4MTlhNi01ZjU1LTEwMzgtODM0Yy01YmJiNzVhZjc4OWIgNjU4LmFwaSJ9.afSYfT_BtfQ_-NxM9p-5KHYt44OIdxwH1QEo2EzNNOfGCtBv4VrGM9Dwphz96joUwkWsvKqyS8jXXXRoBZ2Nf2sBoauPJaAK9jjA_hTXmkrg2tZ7vtrglBoEolRHQdBCbaftaS8Os4klkcfQ6Hr1eKSnNiR1wOYWkffm9TjX5oucSaHVR3ETID_yX8OpWiLu_iX2OO4UoFTaVUvOBGEAIWqdlPuj1JOX2pq4YiY49U7ZPhouYRVcVXtsFW9FwL64cKYNWmyuvE1DGmbgicNuRh7qSD86SdMTeHGvV2I1mxO14nEyJthlaOEVHdxHfz6paQrst9eTxaPWfJmJhxmldw'"
      ]
     },
     "execution_count": 44,
     "metadata": {},
     "output_type": "execute_result"
    }
   ],
   "source": [
    "access_token"
   ]
  },
  {
   "cell_type": "code",
   "execution_count": 45,
   "metadata": {},
   "outputs": [],
   "source": [
    "\n",
    "ioid = 1605762997  "
   ]
  },
  {
   "cell_type": "code",
   "execution_count": 46,
   "metadata": {},
   "outputs": [],
   "source": [
    "url = \"https://services.amobee.com/metadata/v2/api/packages/ioid/%s\" %ioid\n",
    "headers = {\"Authorization\":\"Bearer %s\" %access_token}"
   ]
  },
  {
   "cell_type": "code",
   "execution_count": 47,
   "metadata": {},
   "outputs": [],
   "source": [
    "r = requests.get(url, headers=headers)"
   ]
  },
  {
   "cell_type": "code",
   "execution_count": 48,
   "metadata": {},
   "outputs": [
    {
     "data": {
      "text/plain": [
       "<Response [200]>"
      ]
     },
     "execution_count": 48,
     "metadata": {},
     "output_type": "execute_result"
    }
   ],
   "source": [
    "r"
   ]
  },
  {
   "cell_type": "code",
   "execution_count": 60,
   "metadata": {},
   "outputs": [
    {
     "data": {
      "text/plain": [
       "{'accountManagerName': 'ailing.chiu@adgeek.com.tw',\n",
       " 'advertiserId': '1603306498',\n",
       " 'advertiserName': 'Pxmart',\n",
       " 'billingBasis': {'billingBasisType': 'margin_percent_fee',\n",
       "  'billingBasisValue': 40.0},\n",
       " 'clientStatusId': 'play',\n",
       " 'creativeRotationType': 'clicks',\n",
       " 'goalTypeId': 'gt_cpc',\n",
       " 'goalValue': 9.0,\n",
       " 'id': '1605762998',\n",
       " 'localCurrencyId': 'twd',\n",
       " 'name': 'Pxmart_2019WeiLu_banner_CPC_1901',\n",
       " 'pastBudgetSchedules': [{'billingInvoiceCap': 134771.0,\n",
       "   'endDate': '2019-01-23',\n",
       "   'id': '1603826444',\n",
       "   'spendingCap': 134771.0,\n",
       "   'startDate': '2019-01-11'},\n",
       "  {'billingInvoiceCap': 134771.0,\n",
       "   'endDate': '2019-02-13',\n",
       "   'id': '1603849078',\n",
       "   'spendingCap': 134771.0,\n",
       "   'startDate': '2019-01-25'}],\n",
       " 'workflowStatusId': 'approved'}"
      ]
     },
     "execution_count": 60,
     "metadata": {},
     "output_type": "execute_result"
    }
   ],
   "source": [
    "json.loads(r.text)"
   ]
  },
  {
   "cell_type": "code",
   "execution_count": 50,
   "metadata": {},
   "outputs": [],
   "source": [
    "advertiserid = 1431829168"
   ]
  },
  {
   "cell_type": "code",
   "execution_count": 51,
   "metadata": {},
   "outputs": [],
   "source": [
    "url = \"https://services.amobee.com/metadata/v2/api/insertionorders/1605762998\"#/%s\" %advertiserid\n",
    "headers = {\"Authorization\":\"Bearer %s\" %access_token}"
   ]
  },
  {
   "cell_type": "code",
   "execution_count": 52,
   "metadata": {},
   "outputs": [],
   "source": [
    "r = requests.get(url, headers=headers)"
   ]
  },
  {
   "cell_type": "code",
   "execution_count": 53,
   "metadata": {},
   "outputs": [
    {
     "data": {
      "text/plain": [
       "<Response [200]>"
      ]
     },
     "execution_count": 53,
     "metadata": {},
     "output_type": "execute_result"
    }
   ],
   "source": [
    "r"
   ]
  },
  {
   "cell_type": "code",
   "execution_count": 61,
   "metadata": {},
   "outputs": [
    {
     "data": {
      "text/plain": [
       "{'accountManagerName': 'ailing.chiu@adgeek.com.tw',\n",
       " 'advertiserId': '1603306498',\n",
       " 'advertiserName': 'Pxmart',\n",
       " 'billingBasis': {'billingBasisType': 'margin_percent_fee',\n",
       "  'billingBasisValue': 40.0},\n",
       " 'clientStatusId': 'play',\n",
       " 'creativeRotationType': 'clicks',\n",
       " 'goalTypeId': 'gt_cpc',\n",
       " 'goalValue': 9.0,\n",
       " 'id': '1605762998',\n",
       " 'localCurrencyId': 'twd',\n",
       " 'name': 'Pxmart_2019WeiLu_banner_CPC_1901',\n",
       " 'pastBudgetSchedules': [{'billingInvoiceCap': 134771.0,\n",
       "   'endDate': '2019-01-23',\n",
       "   'id': '1603826444',\n",
       "   'spendingCap': 134771.0,\n",
       "   'startDate': '2019-01-11'},\n",
       "  {'billingInvoiceCap': 134771.0,\n",
       "   'endDate': '2019-02-13',\n",
       "   'id': '1603849078',\n",
       "   'spendingCap': 134771.0,\n",
       "   'startDate': '2019-01-25'}],\n",
       " 'workflowStatusId': 'approved'}"
      ]
     },
     "execution_count": 61,
     "metadata": {},
     "output_type": "execute_result"
    }
   ],
   "source": [
    "json.loads(r.text)"
   ]
  },
  {
   "cell_type": "code",
   "execution_count": null,
   "metadata": {},
   "outputs": [],
   "source": []
  }
 ],
 "metadata": {
  "kernelspec": {
   "display_name": "Python 3",
   "language": "python",
   "name": "python3"
  },
  "language_info": {
   "codemirror_mode": {
    "name": "ipython",
    "version": 3
   },
   "file_extension": ".py",
   "mimetype": "text/x-python",
   "name": "python",
   "nbconvert_exporter": "python",
   "pygments_lexer": "ipython3",
   "version": "3.5.2"
  }
 },
 "nbformat": 4,
 "nbformat_minor": 2
}
