{
 "cells": [
  {
   "cell_type": "code",
   "execution_count": 32,
   "metadata": {},
   "outputs": [],
   "source": [
    "import requests\n",
    "import json\n",
    "import datetime"
   ]
  },
  {
   "cell_type": "code",
   "execution_count": null,
   "metadata": {},
   "outputs": [],
   "source": [
    "def get_access_token():\n",
    "    url = \"https://services.amobee.com/accounts/v1/api/token\"\n",
    "    headers = {\"Content-Type\":\"application/json\"}\n",
    "    payload = {\n",
    "    \"client_id\":\"ad2819a6-5f55-1038-834c-5bbb75af789b@658.api\",\n",
    "    \"client_secret\":\"Lmrp3yqrzToo3NM/\",\n",
    "    \"grant_type\":\"client_credentials\"\n",
    "    }\n",
    "    data = json.dumps(payload)\n",
    "    r = requests.post(url, headers=headers, data=data)\n",
    "    access_token = json.loads(r.text)['access_token']\n",
    "    return access_token"
   ]
  },
  {
   "cell_type": "code",
   "execution_count": null,
   "metadata": {},
   "outputs": [],
   "source": [
    "access_token = get_access_token()"
   ]
  },
  {
   "cell_type": "code",
   "execution_count": null,
   "metadata": {},
   "outputs": [],
   "source": [
    "access_token"
   ]
  },
  {
   "cell_type": "code",
   "execution_count": 141,
   "metadata": {},
   "outputs": [],
   "source": [
    "ioid = 1605762997\n",
    "ioid = 1605818538\n",
    "ioid = 1605762998"
   ]
  },
  {
   "cell_type": "code",
   "execution_count": 229,
   "metadata": {},
   "outputs": [],
   "source": [
    "url = \"https://services.amobee.com/reporting/v1/api/insertionorders/{}?reportType=summary&startDate=2019-01-31&endDate=2019-02-11 \".format(ioid)\n",
    "headers = {\"Authorization\":\"Bearer %s\" %access_token}"
   ]
  },
  {
   "cell_type": "code",
   "execution_count": 230,
   "metadata": {},
   "outputs": [],
   "source": [
    "r = requests.get(url, headers=headers)"
   ]
  },
  {
   "cell_type": "code",
   "execution_count": 252,
   "metadata": {
    "hideOutput": true
   },
   "outputs": [
    {
     "name": "stdout",
     "output_type": "stream",
     "text": [
      "{'7.719698508632068': 'advertiser_ecpm', '0.0': 'actions', '83050.5854350641': 'advertiser_invoice', '18728.0': 'clicks', '1.0758268E7': 'impressions'}\n"
     ]
    },
    {
     "data": {
      "text/plain": [
       "{'actions': 0.0,\n",
       " 'advertiser_ecpm': 7.719698508632068,\n",
       " 'advertiser_invoice': 83050.5854350641,\n",
       " 'clicks': 18728.0,\n",
       " 'impressions': 10758268.0}"
      ]
     },
     "execution_count": 252,
     "metadata": {},
     "output_type": "execute_result"
    }
   ],
   "source": [
    "b = dict()\n",
    "for d in json.loads(r.text)['data']:\n",
    "    result = list( d.values() )\n",
    "    i = iter(result)\n",
    "    b.update( dict(zip(i, i)) )\n",
    "print(b)\n",
    "a = dict()\n",
    "\n",
    "a.update( {v: float(k) for k, v in b.items()} )\n",
    "a"
   ]
  },
  {
   "cell_type": "code",
   "execution_count": null,
   "metadata": {},
   "outputs": [],
   "source": [
    "def get_metadatda_from_ioId(ioid):\n",
    "    url = \"https://services.amobee.com/reporting/v1/api/packages/ioid/%s\" %ioid\n",
    "    headers = {\"Authorization\":\"Bearer %s\" %access_token}\n",
    "    r = requests.get(url, headers=headers)\n",
    "    return json.loads(r.text)"
   ]
  },
  {
   "cell_type": "code",
   "execution_count": null,
   "metadata": {},
   "outputs": [],
   "source": [
    "metadata_ioid = get_metadatda_from_ioId(ioid)"
   ]
  },
  {
   "cell_type": "code",
   "execution_count": null,
   "metadata": {
    "scrolled": true
   },
   "outputs": [],
   "source": [
    "metadata_ioid"
   ]
  },
  {
   "cell_type": "code",
   "execution_count": 74,
   "metadata": {},
   "outputs": [],
   "source": [
    "packageID = 1605770217\n",
    "packageID = 1605770053\n",
    "packageID = 1605770237"
   ]
  },
  {
   "cell_type": "code",
   "execution_count": 75,
   "metadata": {},
   "outputs": [],
   "source": [
    "url = \"https://services.amobee.com/metadata/v2/api/packages/{}\".format(packageID)\n",
    "headers = {\"Authorization\":\"Bearer %s\" %access_token}"
   ]
  },
  {
   "cell_type": "code",
   "execution_count": 76,
   "metadata": {},
   "outputs": [],
   "source": [
    "r = requests.get(url, headers=headers)"
   ]
  },
  {
   "cell_type": "code",
   "execution_count": 77,
   "metadata": {},
   "outputs": [
    {
     "data": {
      "text/plain": [
       "{'advertiserId': '1603306498',\n",
       " 'advertiserName': 'Pxmart',\n",
       " 'allLineItemsCustomized': False,\n",
       " 'arOptimized': False,\n",
       " 'bidding': {'cpmBid': 20.0, 'pricing': 'pricing_cpm'},\n",
       " 'budgeting': {'budgetSchedule': [{'endDate': '2019-01-23',\n",
       "    'spendingCap': 1000.0,\n",
       "    'startDate': '2019-01-11'},\n",
       "   {'spendingCap': 1200.0, 'startDate': '2019-01-27'}],\n",
       "  'budgetType': 'bte_manual',\n",
       "  'pacingType': 'daily'},\n",
       " 'category': '17',\n",
       " 'clientStatusId': 'stop_interval_spending_cap',\n",
       " 'frequencyCap': {'impressionCapPeriod': '1',\n",
       "  'impressionCapTimeFrame': 'hours',\n",
       "  'impressionCapValue': '3'},\n",
       " 'insertionOrderId': '1605762997',\n",
       " 'insertionOrderName': 'Pxmart_2019Giftbox_banner_CPC_1901',\n",
       " 'inventorySources': ['rtb_ad_x2_r_t_b',\n",
       "  'rtb_pubmatic_r_t_b',\n",
       "  'rtb_adtech_r_t_b',\n",
       "  'rtb_ad_e_c_n_r_t_b',\n",
       "  'rtb_mopub_r_t_b',\n",
       "  'rtb_right_media_r_t_b',\n",
       "  'rtb_rubicon_project_r_t_b',\n",
       "  'rtb_open_x_r_t_b',\n",
       "  'rtb_ad_marvel_r_t_b',\n",
       "  'rtb_smart_ad_server_r_t_b',\n",
       "  'rtb_lijit_r_t_b',\n",
       "  'rtb_nexage_r_t_b',\n",
       "  'rtb_yieldlab_r_t_b',\n",
       "  'rtb_smaato_r_t_b',\n",
       "  'rtb_microsoft_r_t_b'],\n",
       " 'inventoryType': 'real_time_bidded_or_shared_buy',\n",
       " 'mediaChannel': 'mediachannel_display',\n",
       " 'packageId': '1605770237',\n",
       " 'packageName': 'Pxmart_2019Giftbox_RT_LP/clicker',\n",
       " 'targeting': {'adVisibility': ['av_above_fold',\n",
       "   'av_below_fold',\n",
       "   'av_unknown'],\n",
       "  'age': [1,\n",
       "   2,\n",
       "   3,\n",
       "   4,\n",
       "   5,\n",
       "   6,\n",
       "   7,\n",
       "   8,\n",
       "   9,\n",
       "   10,\n",
       "   11,\n",
       "   12,\n",
       "   13,\n",
       "   14,\n",
       "   15,\n",
       "   16,\n",
       "   17,\n",
       "   18,\n",
       "   19,\n",
       "   20,\n",
       "   21,\n",
       "   22,\n",
       "   23,\n",
       "   24,\n",
       "   25,\n",
       "   26,\n",
       "   27,\n",
       "   28,\n",
       "   29,\n",
       "   30,\n",
       "   31,\n",
       "   32,\n",
       "   33,\n",
       "   34,\n",
       "   35,\n",
       "   36,\n",
       "   37,\n",
       "   38,\n",
       "   39,\n",
       "   40,\n",
       "   41,\n",
       "   42,\n",
       "   43,\n",
       "   44,\n",
       "   45,\n",
       "   46,\n",
       "   47,\n",
       "   48,\n",
       "   49,\n",
       "   50,\n",
       "   51,\n",
       "   52,\n",
       "   53,\n",
       "   54,\n",
       "   55,\n",
       "   56,\n",
       "   57,\n",
       "   58,\n",
       "   59,\n",
       "   60,\n",
       "   61,\n",
       "   62,\n",
       "   63,\n",
       "   64,\n",
       "   65,\n",
       "   66,\n",
       "   67,\n",
       "   68,\n",
       "   69,\n",
       "   70,\n",
       "   71,\n",
       "   72,\n",
       "   73,\n",
       "   74,\n",
       "   75,\n",
       "   76,\n",
       "   77,\n",
       "   78,\n",
       "   79,\n",
       "   80,\n",
       "   81,\n",
       "   82,\n",
       "   83,\n",
       "   84,\n",
       "   85,\n",
       "   86,\n",
       "   87,\n",
       "   88,\n",
       "   89,\n",
       "   90,\n",
       "   91,\n",
       "   92,\n",
       "   93,\n",
       "   94,\n",
       "   95,\n",
       "   96,\n",
       "   97,\n",
       "   98,\n",
       "   99],\n",
       "  'browser': ['browser_i_e7',\n",
       "   'browser_i_e8',\n",
       "   'browser_i_e9',\n",
       "   'browser_i_e_other',\n",
       "   'browser_firefox',\n",
       "   'browser_chrome',\n",
       "   'browser_safari',\n",
       "   'browser_opera',\n",
       "   'browser_other',\n",
       "   'browser_i_e10',\n",
       "   'browser_android_browser',\n",
       "   'browser_internet_explorer_mobile',\n",
       "   'browser_chrome_mobile',\n",
       "   'browser_opera_mini',\n",
       "   'browser_opera_mobile',\n",
       "   'browser_firefox_mobile',\n",
       "   'browser_a_o_l',\n",
       "   'browser_amazon',\n",
       "   'browser_blackberry',\n",
       "   'browser_dolfin',\n",
       "   'browser_kindle',\n",
       "   'browser_m_q_q',\n",
       "   'browser_motorola',\n",
       "   'browser_netfront',\n",
       "   'browser_netfront_life',\n",
       "   'browser_nokia',\n",
       "   'browser_nokia_s40',\n",
       "   'browser_nokia_s60',\n",
       "   'browser_obigo',\n",
       "   'browser_one_browser',\n",
       "   'browser_open_wave',\n",
       "   'browser_phantom',\n",
       "   'browser_polaris',\n",
       "   'browser_s_e_m_c',\n",
       "   'browser_u_c_browser',\n",
       "   'browser_u_p_browser',\n",
       "   'browser_w_a_p',\n",
       "   'browser_i_browser',\n",
       "   'browser_web_o_s'],\n",
       "  'connectionType': {'byMobileCarrierNetwork': False,\n",
       "   'wiredAndWifi': ['connection_cable',\n",
       "    'connection_corporate',\n",
       "    'connection_dialup',\n",
       "    'connection_mobile_carrier_network',\n",
       "    'connection_other']},\n",
       "  'dayPart': {'days': ['sunday',\n",
       "    'monday',\n",
       "    'tuesday',\n",
       "    'wednesday',\n",
       "    'thursday',\n",
       "    'friday',\n",
       "    'saturday'],\n",
       "   'hours': ['am12',\n",
       "    'am1',\n",
       "    'am2',\n",
       "    'am3',\n",
       "    'am4',\n",
       "    'am5',\n",
       "    'am6',\n",
       "    'am7',\n",
       "    'am8',\n",
       "    'am9',\n",
       "    'am10',\n",
       "    'am11',\n",
       "    'pm12',\n",
       "    'pm1',\n",
       "    'pm2',\n",
       "    'pm3',\n",
       "    'pm4',\n",
       "    'pm5',\n",
       "    'pm6',\n",
       "    'pm7',\n",
       "    'pm8',\n",
       "    'pm9',\n",
       "    'pm10',\n",
       "    'pm11']},\n",
       "  'devices': {'devices': [{'deviceType': 'Mobile Phone', 'id': 4602978},\n",
       "    {'deviceType': 'PC', 'id': 5347466},\n",
       "    {'deviceType': 'Tablet', 'id': 4606383},\n",
       "    {'deviceType': 'Unknown', 'id': 0}],\n",
       "   'type': 'device_type'},\n",
       "  'gender': ['unspecified', 'male', 'female'],\n",
       "  'geographic': {'geoPedia': {'countries': ['taiwan']}, 'type': 'geo_pedia'},\n",
       "  'inventoryType': ['web', 'applications'],\n",
       "  'retargeting': {'name': 'RT_LP/clicker',\n",
       "   'targetRules': [{'deltaPercent': 0.0,\n",
       "     'depth': '0',\n",
       "     'eventTypeId': 'advertiser_click',\n",
       "     'frequency': '1',\n",
       "     'isNot': False,\n",
       "     'operatorDepth': '0',\n",
       "     'period': '-1',\n",
       "     'ruleEntities': [{'id': '1603306498', 'name': 'Pxmart'}],\n",
       "     'ruleOrder': '0',\n",
       "     'targetRuleEntities': ['1603306498']},\n",
       "    {'deltaPercent': 0.0,\n",
       "     'depth': '0',\n",
       "     'eventTypeId': 'beacon_impression',\n",
       "     'frequency': '1',\n",
       "     'isNot': False,\n",
       "     'operator': 'or',\n",
       "     'operatorDepth': '0',\n",
       "     'period': '-1',\n",
       "     'ruleEntities': [{'id': '1603306519', 'name': 'pxmart_event_homepage'}],\n",
       "     'ruleOrder': '1',\n",
       "     'targetRuleEntities': ['1603306519']}]},\n",
       "  'sites': [{'filterType': 'exclude',\n",
       "    'numberOfSites': '586',\n",
       "    'siteListId': '7296857',\n",
       "    'siteListName': 'universal blacklist (Turn)'},\n",
       "   {'filterType': 'exclude',\n",
       "    'numberOfSites': '188',\n",
       "    'siteListId': '10525711',\n",
       "    'siteListName': 'adGeek Display high CPC BL'},\n",
       "   {'filterType': 'exclude',\n",
       "    'numberOfSites': '82',\n",
       "    'siteListId': '10536112',\n",
       "    'siteListName': 'adGeek Mobile high CPC BL'},\n",
       "   {'filterType': 'exclude',\n",
       "    'numberOfSites': '70',\n",
       "    'siteListId': '11732103',\n",
       "    'siteListName': 'adgeek Mobile CPC BL'},\n",
       "   {'filterType': 'exclude',\n",
       "    'numberOfSites': '33',\n",
       "    'siteListId': '12886832',\n",
       "    'siteListName': 'adGeek Display CPC BL_New'}]}}"
      ]
     },
     "execution_count": 77,
     "metadata": {},
     "output_type": "execute_result"
    }
   ],
   "source": [
    "json.loads(r.text)"
   ]
  },
  {
   "cell_type": "code",
   "execution_count": 65,
   "metadata": {
    "scrolled": true
   },
   "outputs": [
    {
     "data": {
      "text/plain": [
       "{'advertiserId': '1603306498',\n",
       " 'advertiserName': 'Pxmart',\n",
       " 'allLineItemsCustomized': False,\n",
       " 'arOptimized': False,\n",
       " 'bidding': {'dcpmBid': {'cpc': 9.0,\n",
       "   'ctr': 0.08888889,\n",
       "   'goalType': 'gt_cpc',\n",
       "   'hardGoal': True,\n",
       "   'maxAvgBid': 8.0},\n",
       "  'pricing': 'pricing_dcpm'},\n",
       " 'budgeting': {'budgetSchedule': [{'spendingCap': 3200.0,\n",
       "    'startDate': '2019-01-14'}],\n",
       "  'budgetType': 'bte_manual',\n",
       "  'pacingType': 'daily'},\n",
       " 'category': '17',\n",
       " 'clientStatusId': 'play',\n",
       " 'frequencyCap': {'impressionCapPeriod': '6',\n",
       "  'impressionCapTimeFrame': 'hours',\n",
       "  'impressionCapValue': '1'},\n",
       " 'insertionOrderId': '1605762997',\n",
       " 'insertionOrderName': 'Pxmart_2019Giftbox_banner_CPC_1901',\n",
       " 'inventorySources': ['rtb_ad_x2_r_t_b',\n",
       "  'rtb_pubmatic_r_t_b',\n",
       "  'rtb_adtech_r_t_b',\n",
       "  'rtb_ad_e_c_n_r_t_b',\n",
       "  'rtb_mopub_r_t_b',\n",
       "  'rtb_right_media_r_t_b',\n",
       "  'rtb_rubicon_project_r_t_b',\n",
       "  'rtb_open_x_r_t_b',\n",
       "  'rtb_ad_marvel_r_t_b',\n",
       "  'rtb_smart_ad_server_r_t_b',\n",
       "  'rtb_lijit_r_t_b',\n",
       "  'rtb_nexage_r_t_b',\n",
       "  'rtb_yieldlab_r_t_b',\n",
       "  'rtb_smaato_r_t_b',\n",
       "  'rtb_microsoft_r_t_b'],\n",
       " 'inventoryType': 'real_time_bidded_or_shared_buy',\n",
       " 'mediaChannel': 'mediachannel_display',\n",
       " 'packageId': '1605770053',\n",
       " 'packageName': 'Pxmart_2019Giftbox_PT_LBS',\n",
       " 'targeting': {'adVisibility': ['av_above_fold',\n",
       "   'av_below_fold',\n",
       "   'av_unknown'],\n",
       "  'age': [1,\n",
       "   2,\n",
       "   3,\n",
       "   4,\n",
       "   5,\n",
       "   6,\n",
       "   7,\n",
       "   8,\n",
       "   9,\n",
       "   10,\n",
       "   11,\n",
       "   12,\n",
       "   13,\n",
       "   14,\n",
       "   15,\n",
       "   16,\n",
       "   17,\n",
       "   18,\n",
       "   19,\n",
       "   20,\n",
       "   21,\n",
       "   22,\n",
       "   23,\n",
       "   24,\n",
       "   25,\n",
       "   26,\n",
       "   27,\n",
       "   28,\n",
       "   29,\n",
       "   30,\n",
       "   31,\n",
       "   32,\n",
       "   33,\n",
       "   34,\n",
       "   35,\n",
       "   36,\n",
       "   37,\n",
       "   38,\n",
       "   39,\n",
       "   40,\n",
       "   41,\n",
       "   42,\n",
       "   43,\n",
       "   44,\n",
       "   45,\n",
       "   46,\n",
       "   47,\n",
       "   48,\n",
       "   49,\n",
       "   50,\n",
       "   51,\n",
       "   52,\n",
       "   53,\n",
       "   54,\n",
       "   55,\n",
       "   56,\n",
       "   57,\n",
       "   58,\n",
       "   59,\n",
       "   60,\n",
       "   61,\n",
       "   62,\n",
       "   63,\n",
       "   64,\n",
       "   65,\n",
       "   66,\n",
       "   67,\n",
       "   68,\n",
       "   69,\n",
       "   70,\n",
       "   71,\n",
       "   72,\n",
       "   73,\n",
       "   74,\n",
       "   75,\n",
       "   76,\n",
       "   77,\n",
       "   78,\n",
       "   79,\n",
       "   80,\n",
       "   81,\n",
       "   82,\n",
       "   83,\n",
       "   84,\n",
       "   85,\n",
       "   86,\n",
       "   87,\n",
       "   88,\n",
       "   89,\n",
       "   90,\n",
       "   91,\n",
       "   92,\n",
       "   93,\n",
       "   94,\n",
       "   95,\n",
       "   96,\n",
       "   97,\n",
       "   98,\n",
       "   99],\n",
       "  'browser': ['browser_i_e7',\n",
       "   'browser_i_e8',\n",
       "   'browser_i_e9',\n",
       "   'browser_i_e_other',\n",
       "   'browser_firefox',\n",
       "   'browser_chrome',\n",
       "   'browser_safari',\n",
       "   'browser_opera',\n",
       "   'browser_other',\n",
       "   'browser_i_e10',\n",
       "   'browser_android_browser',\n",
       "   'browser_internet_explorer_mobile',\n",
       "   'browser_chrome_mobile',\n",
       "   'browser_opera_mini',\n",
       "   'browser_opera_mobile',\n",
       "   'browser_firefox_mobile',\n",
       "   'browser_a_o_l',\n",
       "   'browser_amazon',\n",
       "   'browser_blackberry',\n",
       "   'browser_dolfin',\n",
       "   'browser_kindle',\n",
       "   'browser_m_q_q',\n",
       "   'browser_motorola',\n",
       "   'browser_netfront',\n",
       "   'browser_netfront_life',\n",
       "   'browser_nokia',\n",
       "   'browser_nokia_s40',\n",
       "   'browser_nokia_s60',\n",
       "   'browser_obigo',\n",
       "   'browser_one_browser',\n",
       "   'browser_open_wave',\n",
       "   'browser_phantom',\n",
       "   'browser_polaris',\n",
       "   'browser_s_e_m_c',\n",
       "   'browser_u_c_browser',\n",
       "   'browser_u_p_browser',\n",
       "   'browser_w_a_p',\n",
       "   'browser_i_browser',\n",
       "   'browser_web_o_s'],\n",
       "  'connectionType': {'byMobileCarrierNetwork': False,\n",
       "   'wiredAndWifi': ['connection_cable',\n",
       "    'connection_corporate',\n",
       "    'connection_dialup',\n",
       "    'connection_mobile_carrier_network',\n",
       "    'connection_other']},\n",
       "  'dayPart': {'days': ['sunday',\n",
       "    'monday',\n",
       "    'tuesday',\n",
       "    'wednesday',\n",
       "    'thursday',\n",
       "    'friday',\n",
       "    'saturday'],\n",
       "   'hours': ['am12',\n",
       "    'am1',\n",
       "    'am2',\n",
       "    'am3',\n",
       "    'am4',\n",
       "    'am5',\n",
       "    'am6',\n",
       "    'am7',\n",
       "    'am8',\n",
       "    'am9',\n",
       "    'am10',\n",
       "    'am11',\n",
       "    'pm12',\n",
       "    'pm1',\n",
       "    'pm2',\n",
       "    'pm3',\n",
       "    'pm4',\n",
       "    'pm5',\n",
       "    'pm6',\n",
       "    'pm7',\n",
       "    'pm8',\n",
       "    'pm9',\n",
       "    'pm10',\n",
       "    'pm11']},\n",
       "  'devices': {'devices': [{'deviceType': 'Mobile Phone', 'id': 4602978},\n",
       "    {'deviceType': 'PC', 'id': 5347466},\n",
       "    {'deviceType': 'Tablet', 'id': 4606383},\n",
       "    {'deviceType': 'Unknown', 'id': 0}],\n",
       "   'type': 'device_type'},\n",
       "  'gender': ['unspecified', 'male', 'female'],\n",
       "  'geographic': {'type': 'unsupported'},\n",
       "  'inventoryType': ['web', 'applications'],\n",
       "  'sites': [{'filterType': 'exclude',\n",
       "    'numberOfSites': '586',\n",
       "    'siteListId': '7296857',\n",
       "    'siteListName': 'universal blacklist (Turn)'},\n",
       "   {'filterType': 'exclude',\n",
       "    'numberOfSites': '188',\n",
       "    'siteListId': '10525711',\n",
       "    'siteListName': 'adGeek Display high CPC BL'},\n",
       "   {'filterType': 'exclude',\n",
       "    'numberOfSites': '82',\n",
       "    'siteListId': '10536112',\n",
       "    'siteListName': 'adGeek Mobile high CPC BL'},\n",
       "   {'filterType': 'exclude',\n",
       "    'numberOfSites': '70',\n",
       "    'siteListId': '11732103',\n",
       "    'siteListName': 'adgeek Mobile CPC BL'},\n",
       "   {'filterType': 'exclude',\n",
       "    'numberOfSites': '33',\n",
       "    'siteListId': '12886832',\n",
       "    'siteListName': 'adGeek Display CPC BL_New'}]}}"
      ]
     },
     "execution_count": 65,
     "metadata": {},
     "output_type": "execute_result"
    }
   ],
   "source": [
    "json.loads(r.text)"
   ]
  },
  {
   "cell_type": "code",
   "execution_count": 78,
   "metadata": {},
   "outputs": [],
   "source": [
    "budgeting = json.loads(r.text)['budgeting']"
   ]
  },
  {
   "cell_type": "code",
   "execution_count": 79,
   "metadata": {},
   "outputs": [
    {
     "data": {
      "text/plain": [
       "[{'endDate': '2019-01-23', 'spendingCap': 1000.0, 'startDate': '2019-01-11'},\n",
       " {'spendingCap': 1200.0, 'startDate': '2019-01-27'}]"
      ]
     },
     "execution_count": 79,
     "metadata": {},
     "output_type": "execute_result"
    }
   ],
   "source": [
    "budgeting['budgetSchedule']"
   ]
  },
  {
   "cell_type": "code",
   "execution_count": null,
   "metadata": {},
   "outputs": [],
   "source": [
    "package_list = list()\n",
    "for package in json.loads(r.text)['items']:\n",
    "    package_list.append( package['packageId'] )"
   ]
  },
  {
   "cell_type": "code",
   "execution_count": null,
   "metadata": {},
   "outputs": [],
   "source": [
    "package_list"
   ]
  },
  {
   "cell_type": "code",
   "execution_count": null,
   "metadata": {},
   "outputs": [],
   "source": [
    "advertiserid = 1431829168"
   ]
  },
  {
   "cell_type": "code",
   "execution_count": 11,
   "metadata": {},
   "outputs": [],
   "source": [
    "url = \"https://services.amobee.com/metadata/v2/api/insertionorders/{}\".format(ioid)\n",
    "headers = {\"Authorization\":\"Bearer %s\" %access_token}"
   ]
  },
  {
   "cell_type": "code",
   "execution_count": 12,
   "metadata": {},
   "outputs": [],
   "source": [
    "r = requests.get(url, headers=headers)"
   ]
  },
  {
   "cell_type": "code",
   "execution_count": 13,
   "metadata": {},
   "outputs": [
    {
     "data": {
      "text/plain": [
       "<Response [200]>"
      ]
     },
     "execution_count": 13,
     "metadata": {},
     "output_type": "execute_result"
    }
   ],
   "source": [
    "r"
   ]
  },
  {
   "cell_type": "code",
   "execution_count": 14,
   "metadata": {},
   "outputs": [
    {
     "data": {
      "text/plain": [
       "{'accountManagerName': 'kim.huang@adgeek.com.tw',\n",
       " 'advertiserId': '1603306498',\n",
       " 'advertiserName': 'Pxmart',\n",
       " 'billingBasis': {'billingBasisType': 'margin_percent_fee',\n",
       "  'billingBasisValue': 45.0},\n",
       " 'clientStatusId': 'play',\n",
       " 'creativeRotationType': 'clicks',\n",
       " 'goalTypeId': 'gt_cpc',\n",
       " 'goalValue': 1.0,\n",
       " 'id': '1605818538',\n",
       " 'localCurrencyId': 'twd',\n",
       " 'name': 'Pxmart_Taipei-Luminarie_CPV_190130-190217',\n",
       " 'pastBudgetSchedules': [{'billingInvoiceCap': 8345.0,\n",
       "   'endDate': '2019-02-17',\n",
       "   'id': '1603860287',\n",
       "   'spendingCap': 8345.0,\n",
       "   'startDate': '2019-01-31'}],\n",
       " 'workflowStatusId': 'approved'}"
      ]
     },
     "execution_count": 14,
     "metadata": {},
     "output_type": "execute_result"
    }
   ],
   "source": [
    "json.loads(r.text)"
   ]
  },
  {
   "cell_type": "code",
   "execution_count": 15,
   "metadata": {},
   "outputs": [],
   "source": [
    "schedule = json.loads(r.text)['pastBudgetSchedules']"
   ]
  },
  {
   "cell_type": "code",
   "execution_count": 36,
   "metadata": {},
   "outputs": [
    {
     "name": "stdout",
     "output_type": "stream",
     "text": [
      "2019-01-31 00:00:00\n"
     ]
    }
   ],
   "source": [
    "schedule\n",
    "for sch in schedule:\n",
    "    print(datetime.datetime.strptime( sch['startDate'],'%Y-%m-%d' ))"
   ]
  },
  {
   "cell_type": "code",
   "execution_count": 1,
   "metadata": {},
   "outputs": [],
   "source": [
    "def get_access_token():\n",
    "    url = \"https://services.amobee.com/accounts/v1/api/token\"\n",
    "    headers = {\"Content-Type\":\"application/json\"}\n",
    "    payload = {\n",
    "    \"client_id\":\"ad2819a6-5f55-1038-834c-5bbb75af789b@658.api\",\n",
    "    \"client_secret\":\"Lmrp3yqrzToo3NM/\",\n",
    "    \"grant_type\":\"client_credentials\"\n",
    "    }\n",
    "    data = json.dumps(payload)\n",
    "    r = requests.post(url, headers=headers, data=data)\n",
    "    global access_token\n",
    "    access_token = json.loads(r.text)['access_token']\n",
    "    return access_token"
   ]
  },
  {
   "cell_type": "code",
   "execution_count": 4,
   "metadata": {},
   "outputs": [
    {
     "data": {
      "text/plain": [
       "'eyJhbGciOiJSUzI1NiIsImtpZCI6IjhjZjI5ZTQzZTQzYjk4MjE3NzEzYzdkMzE3NTM3YjEwZDMwNWFhM2YifQ.eyJpc3MiOiJodHRwczovL29pZGMudW5pdHkuYW1vYmVlLmNvbSIsInN1YiI6IkNpUmhaREk0TVRsaE5pMDFaalUxTFRFd016Z3RPRE0wWXkwMVltSmlOelZoWmpjNE9XSVNCR3hrWVhBIiwiYXVkIjoiZEx5elVXX0t5bThCblFSSmx3Tzk2WVQ0ZEk3R2JNSnBQZUptZ2d6cHZzZz1AYXBwLnVuaXR5LmFtb2JlZS5jb20iLCJleHAiOjE1NDk5ODQ3NjQsImlhdCI6MTU0OTk0MTU2NCwiYXRfaGFzaCI6ImtaTC1Fb3dLN2Jic0w4RFdhNVVKMWciLCJlbWFpbCI6ImFkMjgxOWE2LTVmNTUtMTAzOC04MzRjLTViYmI3NWFmNzg5YkA2NTguYXBpIiwiZW1haWxfdmVyaWZpZWQiOnRydWUsImF1dGhvcml0aWVzIjpbIkFQUF9VTklUWSIsIkFQUF9UVVJOX1BMQVRGT1JNIl0sImVudHJ5VVVJRCI6ImFkMjgxOWE2LTVmNTUtMTAzOC04MzRjLTViYmI3NWFmNzg5YiIsIm5hbWUiOiJhZDI4MTlhNi01ZjU1LTEwMzgtODM0Yy01YmJiNzVhZjc4OWIgNjU4LmFwaSJ9.ED25hwaYyroJSpQZZ9ZwHOiXFRTDn45bcBzliAhkOErCw7j2qc_E9galh-MQCopYAjE8upB6WYOFEfWXg0SN5e1bsI8BoZIxKQlFgrZ-pwg-nx-ur8lZeigYePHTq6S-FXYDIdkUfIR93fj78PaWdQpgiDNUhhqbeUMUglkWUelPXGBHRJWDs1Mycu1mOakFRC0tnkTzehndFpLtryJsReJG1E6lkIzBrS6FxJd4BpiwiDy4_6gClmsmpFgfvVjwy-BAznp0KBx8opUDyDnTRMJ6uUIsAGi5puLQJgOCYfoIQawIfbuJMv9nX5LiPJT_SNE8SEQOI4Cpm6ILYU07WA'"
      ]
     },
     "execution_count": 4,
     "metadata": {},
     "output_type": "execute_result"
    }
   ],
   "source": [
    "get_access_token()"
   ]
  },
  {
   "cell_type": "code",
   "execution_count": 5,
   "metadata": {},
   "outputs": [
    {
     "data": {
      "text/plain": [
       "'eyJhbGciOiJSUzI1NiIsImtpZCI6IjhjZjI5ZTQzZTQzYjk4MjE3NzEzYzdkMzE3NTM3YjEwZDMwNWFhM2YifQ.eyJpc3MiOiJodHRwczovL29pZGMudW5pdHkuYW1vYmVlLmNvbSIsInN1YiI6IkNpUmhaREk0TVRsaE5pMDFaalUxTFRFd016Z3RPRE0wWXkwMVltSmlOelZoWmpjNE9XSVNCR3hrWVhBIiwiYXVkIjoiZEx5elVXX0t5bThCblFSSmx3Tzk2WVQ0ZEk3R2JNSnBQZUptZ2d6cHZzZz1AYXBwLnVuaXR5LmFtb2JlZS5jb20iLCJleHAiOjE1NDk5ODQ3NjQsImlhdCI6MTU0OTk0MTU2NCwiYXRfaGFzaCI6ImtaTC1Fb3dLN2Jic0w4RFdhNVVKMWciLCJlbWFpbCI6ImFkMjgxOWE2LTVmNTUtMTAzOC04MzRjLTViYmI3NWFmNzg5YkA2NTguYXBpIiwiZW1haWxfdmVyaWZpZWQiOnRydWUsImF1dGhvcml0aWVzIjpbIkFQUF9VTklUWSIsIkFQUF9UVVJOX1BMQVRGT1JNIl0sImVudHJ5VVVJRCI6ImFkMjgxOWE2LTVmNTUtMTAzOC04MzRjLTViYmI3NWFmNzg5YiIsIm5hbWUiOiJhZDI4MTlhNi01ZjU1LTEwMzgtODM0Yy01YmJiNzVhZjc4OWIgNjU4LmFwaSJ9.ED25hwaYyroJSpQZZ9ZwHOiXFRTDn45bcBzliAhkOErCw7j2qc_E9galh-MQCopYAjE8upB6WYOFEfWXg0SN5e1bsI8BoZIxKQlFgrZ-pwg-nx-ur8lZeigYePHTq6S-FXYDIdkUfIR93fj78PaWdQpgiDNUhhqbeUMUglkWUelPXGBHRJWDs1Mycu1mOakFRC0tnkTzehndFpLtryJsReJG1E6lkIzBrS6FxJd4BpiwiDy4_6gClmsmpFgfvVjwy-BAznp0KBx8opUDyDnTRMJ6uUIsAGi5puLQJgOCYfoIQawIfbuJMv9nX5LiPJT_SNE8SEQOI4Cpm6ILYU07WA'"
      ]
     },
     "execution_count": 5,
     "metadata": {},
     "output_type": "execute_result"
    }
   ],
   "source": [
    "access_token"
   ]
  },
  {
   "cell_type": "code",
   "execution_count": 306,
   "metadata": {},
   "outputs": [],
   "source": [
    "class DatePreset:\n",
    "    today = 'today'\n",
    "    lifetime = 'lifetime'\n",
    "\n",
    "class AmobeeField:\n",
    "    clientStatusId = 'clientStatusId'\n",
    "    creativeRotationType = 'creativeRotationType'\n",
    "    goalValue = 'goalValue'\n",
    "    pastBudgetSchedules = 'pastBudgetSchedules'\n",
    "    spendingCap = 'spendingCap'\n",
    "    startDate = 'startDate'\n",
    "    endDate = 'endDate'\n",
    "    data = 'data'\n",
    "    items = 'items'\n",
    "    packageId = 'packageId'\n",
    "    advertiser_invoice = 'advertiser_invoice'\n",
    "    clicks = 'clicks'\n",
    "    advertiser_ecpm = 'advertiser_ecpm'\n",
    "    \n",
    "class AdgeekField:\n",
    "    spend_cap = 'spend_cap'\n",
    "    start_time = 'start_time'\n",
    "    stop_time = 'stop_time'\n",
    "    target_type = 'target_type'\n",
    "    goal_cpc = 'goal_cpc'\n",
    "    period = 'period'\n",
    "    ioid = 'ioid'\n",
    "    cost_per_impresions = 'cost_per_impresions'\n",
    "    cost_per_target = 'cost_per_target'\n",
    "    daily_budget = 'daily_budget'\n",
    "    spend = 'spend'\n",
    "    target = 'target'\n",
    "    "
   ]
  },
  {
   "cell_type": "code",
   "execution_count": 307,
   "metadata": {},
   "outputs": [],
   "source": [
    "class InsertionOrders(object):\n",
    "    def __init__(self, ioid):\n",
    "        self.ioid = ioid\n",
    "        self.start_date = None\n",
    "        self.end_date = None\n",
    "        self.spend_cap = None\n",
    "        self.package_list = list()\n",
    "        self.io_insights = dict()\n",
    "        self.io_features = dict()\n",
    "        \n",
    "    def get_insertion_order_features(self):\n",
    "        url = \"https://services.amobee.com/metadata/v2/api/insertionorders/{}\".format(ioid)\n",
    "        headers = {\"Authorization\":\"Bearer {}\".format(access_token)}\n",
    "        r = requests.get(url, headers=headers)\n",
    "        metadata = json.loads(r.text)\n",
    "        status = metadata[ AmobeeField.clientStatusId ]\n",
    "        target_type = metadata[ AmobeeField.creativeRotationType ]\n",
    "        goal_cpc = metadata[ AmobeeField.goalValue ]\n",
    "        schedule = metadata[ AmobeeField.pastBudgetSchedules ]\n",
    "        for sch in schedule:\n",
    "            self.spend_cap = sch[ AmobeeField.spendingCap ]\n",
    "            self.start_date = datetime.datetime.strptime( sch[ AmobeeField.startDate ],'%Y-%m-%d' )\n",
    "            self.end_date = datetime.datetime.strptime( sch[ AmobeeField.endDate ],'%Y-%m-%d' )\n",
    "        self.io_features.update( {AdgeekField.spend_cap: self.spend_cap} )\n",
    "        self.io_features.update( {AdgeekField.start_time: self.start_date} )\n",
    "        self.io_features.update( {AdgeekField.stop_time: self.end_date} )\n",
    "        self.io_features.update( {AdgeekField.target_type: target_type} )\n",
    "        self.io_features.update( {AdgeekField.goal_cpc: goal_cpc} )\n",
    "        self.io_features.update( {AdgeekField.period: (self.io_features[AdgeekField.stop_time] - self.io_features[AdgeekField.start_time]).days } )\n",
    "        \n",
    "        return self.io_features\n",
    "    \n",
    "    def get_insertion_order_insights(self, date_preset=None):\n",
    "        if date_preset is None or date_preset==DatePreset.lifetime:\n",
    "            start_time = self.io_features[AdgeekField.start_time].strftime( '%Y-%m-%d' )\n",
    "            stop_time = ( datetime.datetime.now() - datetime.timedelta(1) ).strftime( '%Y-%m-%d' )\n",
    "        elif date_preset==DatePreset.today:\n",
    "            start_time = ( datetime.datetime.now() - datetime.timedelta(1) ).strftime( '%Y-%m-%d' )\n",
    "            stop_time = ( datetime.datetime.now() - datetime.timedelta(1) ).strftime( '%Y-%m-%d' )\n",
    "        url = \"https://services.amobee.com/reporting/v1/api/insertionorders/{}?reportType=summary&startDate={}&endDate={}\".format(ioid, start_time, stop_time)\n",
    "        headers = {\"Authorization\":\"Bearer {}\".format(access_token)}\n",
    "        r = requests.get(url, headers=headers)\n",
    "        insights = json.loads(r.text)[ AmobeeField.data ]\n",
    "        tmp = dict()\n",
    "        for d in json.loads(r.text)[ AmobeeField.data ]:\n",
    "            result = list( d.values() )\n",
    "            i = iter(result)\n",
    "            tmp.update( dict( zip(i, i) ) )\n",
    "        self.io_insights.update( {v: float(k) for k, v in tmp.items()} )\n",
    "        return self.io_insights\n",
    "    \n",
    "    def get_package_list(self):\n",
    "        url = \"https://services.amobee.com/metadata/v2/api/packages/ioid/{}\".format(self.ioid)\n",
    "        headers = {\"Authorization\":\"Bearer {}\".format(access_token)}\n",
    "        r = requests.get(url, headers=headers)\n",
    "        for package in json.loads(r.text)[ AmobeeField.items ]:\n",
    "            self.package_list.append( package[ AmobeeField.packageId ] )\n",
    "        return self.package_list\n",
    "    \n",
    "    def initialize(self):\n",
    "        self.get_insertion_order_features()\n",
    "        self.get_insertion_order_insights( date_preset=DatePreset.lifetime )\n",
    "        self.io_insights.update( {AdgeekField.ioid:self.ioid} )\n",
    "        self.io_insights[AdgeekField.spend] = self.io_insights.pop( AmobeeField.advertiser_invoice)\n",
    "        self.io_insights[AdgeekField.target] = self.io_insights.pop( AmobeeField.clicks )\n",
    "        self.io_insights[AdgeekField.cost_per_impresions] = self.io_insights.pop( AmobeeField.advertiser_ecpm )\n",
    "        self.insertion_order = { **self.io_insights, **self.io_features }\n",
    "        self.insertion_order.update( {AdgeekField.cost_per_target: self.io_insights[AdgeekField.spend] / self.io_insights[AdgeekField.target] } )\n",
    "        self.insertion_order.update( {AdgeekField.daily_budget:self.io_features[AdgeekField.spend_cap] / self.io_features[AdgeekField.period] } )\n",
    "        return self.insertion_order"
   ]
  },
  {
   "cell_type": "code",
   "execution_count": 300,
   "metadata": {},
   "outputs": [],
   "source": [
    "io = InsertionOrders(ioid)\n",
    "io.initialize()\n",
    "packagelist = io.get_insertion_order_insights()"
   ]
  },
  {
   "cell_type": "code",
   "execution_count": 301,
   "metadata": {},
   "outputs": [
    {
     "data": {
      "text/plain": [
       "{'actions': 0.0,\n",
       " 'advertiser_ecpm': 7.73269971287077,\n",
       " 'advertiser_invoice': 109209.0881642676,\n",
       " 'clicks': 23530.0,\n",
       " 'cost_per_impresions': 7.73269971287077,\n",
       " 'impressions': 14123022.0,\n",
       " 'ioid': 1605762998,\n",
       " 'spend': 109209.0881642676,\n",
       " 'target': 23530.0}"
      ]
     },
     "execution_count": 301,
     "metadata": {},
     "output_type": "execute_result"
    }
   ],
   "source": [
    "io.io_insights"
   ]
  },
  {
   "cell_type": "code",
   "execution_count": 311,
   "metadata": {},
   "outputs": [],
   "source": [
    "class Package(object):\n",
    "    def __init__(self, package_id):\n",
    "        self.package_id = package_id\n",
    "        self.goal_value = None\n",
    "        self.package_features = dict()\n",
    "        self.package_insights = dict()\n",
    "        \n",
    "    def get_package_features(self):\n",
    "        url = \"https://services.amobee.com/metadata/v2/api/packages/{}\".format(self.package_id)\n",
    "        headers = {\"Authorization\":\"Bearer {}\".format(access_token)}\n",
    "        r = requests.get(url, headers=headers)\n",
    "        metadata = json.loads(r.text)\n",
    "        bidding = metadata['bidding']\n",
    "        try:\n",
    "            bid = bidding['dcpmBid']['cpc']\n",
    "        except:\n",
    "            bid = bidding['cpmBid']\n",
    "        budgeting = metadata['budgeting']\n",
    "        schedule = budgeting['budgetSchedule']\n",
    "        for sch in schedule:\n",
    "            daily_budget = sch['spendingCap']\n",
    "        "
   ]
  },
  {
   "cell_type": "code",
   "execution_count": 312,
   "metadata": {},
   "outputs": [],
   "source": [
    "pkg = Package(packageID)\n",
    "pkg.get_package_features()"
   ]
  },
  {
   "cell_type": "code",
   "execution_count": null,
   "metadata": {},
   "outputs": [],
   "source": []
  }
 ],
 "metadata": {
  "kernelspec": {
   "display_name": "Python 3",
   "language": "python",
   "name": "python3"
  },
  "language_info": {
   "codemirror_mode": {
    "name": "ipython",
    "version": 3
   },
   "file_extension": ".py",
   "mimetype": "text/x-python",
   "name": "python",
   "nbconvert_exporter": "python",
   "pygments_lexer": "ipython3",
   "version": "3.5.2"
  }
 },
 "nbformat": 4,
 "nbformat_minor": 2
}
