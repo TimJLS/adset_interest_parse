{
 "cells": [
  {
   "cell_type": "code",
   "execution_count": 3,
   "metadata": {},
   "outputs": [],
   "source": [
    "import requests\n",
    "import json\n",
    "import database_controller"
   ]
  },
  {
   "cell_type": "code",
   "execution_count": 11,
   "metadata": {},
   "outputs": [],
   "source": [
    "ACCOUNT_URL = \"https://mpc.adgeek.net/v2/accounts?\"     #filter[account_id]=6242788100&filter[media]=gdn"
   ]
  },
  {
   "cell_type": "code",
   "execution_count": 18,
   "metadata": {},
   "outputs": [],
   "source": [
    "def get_currency(campaign_id, media):\n",
    "    if media.lower() == 'gdn':\n",
    "        database = database_controller.GDN(database_controller.Database)\n",
    "    elif media.lower() == 'gsn':\n",
    "        database = database_controller.GSN(database_controller.Database)\n",
    "    else:\n",
    "        raise ValueError(\"the parameter 'media' should be 'gdn' or 'gsn'\")\n",
    "    \n",
    "    campaign = database.get_one_campaign(campaign_id).to_dict('records')\n",
    "    currency_url = ACCOUNT_URL + \"filter[account_id]={}&filter[media]={}\".format(campaign_id, media.lower())\n",
    "    \n",
    "    resp = requests.get(currency_url)\n",
    "    if resp.status_code == requests.codes.ok:\n",
    "        content = json.loads(resp.text)\n",
    "        return content.get('currency_code', None)"
   ]
  },
  {
   "cell_type": "code",
   "execution_count": 21,
   "metadata": {},
   "outputs": [
    {
     "name": "stdout",
     "output_type": "stream",
     "text": [
      "[NbConvertApp] Converting notebook google_adwords_currency_handler.ipynb to script\n",
      "[NbConvertApp] Writing 952 bytes to google_adwords_currency_handler.py\n"
     ]
    }
   ],
   "source": [
    "# !jupyter nbconvert --to script google_adwords_currency_handler.ipynb"
   ]
  },
  {
   "cell_type": "code",
   "execution_count": null,
   "metadata": {},
   "outputs": [],
   "source": []
  }
 ],
 "metadata": {
  "kernelspec": {
   "display_name": "Python 3",
   "language": "python",
   "name": "python3"
  },
  "language_info": {
   "codemirror_mode": {
    "name": "ipython",
    "version": 3
   },
   "file_extension": ".py",
   "mimetype": "text/x-python",
   "name": "python",
   "nbconvert_exporter": "python",
   "pygments_lexer": "ipython3",
   "version": "3.6.8"
  }
 },
 "nbformat": 4,
 "nbformat_minor": 4
}
