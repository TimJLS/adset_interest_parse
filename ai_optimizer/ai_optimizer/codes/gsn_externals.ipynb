{
 "cells": [
  {
   "cell_type": "code",
   "execution_count": 1,
   "metadata": {},
   "outputs": [],
   "source": [
    "import gsn_datacollector as datacollector\n",
    "import gsn_db\n",
    "from googleads import adwords\n",
    "\n",
    "import datetime\n",
    "import pandas as pd\n",
    "import copy\n",
    "import math\n",
    "IS_DEBUG = False\n",
    "AUTH_FILE_PATH = '/home/tim_su/ai_optimizer/opt/ai_optimizer/googleads.yaml'\n",
    "adwords_client = adwords.AdWordsClient.LoadFromStorage(AUTH_FILE_PATH)\n",
    "DATABASE = \"dev_gsn\"\n",
    "DATE = datetime.datetime.now().date()\n",
    "DATETIME = datetime.datetime.now()\n",
    "AGE_RANGE_LIST = [503001,503002,503003,503004,503005,503006,503999,]"
   ]
  },
  {
   "cell_type": "code",
   "execution_count": 2,
   "metadata": {},
   "outputs": [],
   "source": [
    "def handle_initial_bids(spend, budget, daily_target, original_cpa, keyword_insights_dict, campaign_id=None):\n",
    "    keyword_id = keyword_insights_dict['keyword_id']\n",
    "    ad_group_id = keyword_insights_dict['adgroup_id']\n",
    "    if IS_DEBUG:\n",
    "        print('[handle_initial_bids] IS_DEBUG == True , not adjust bid')\n",
    "        return\n",
    "    if campaign_id:\n",
    "        if daily_target < 0:\n",
    "            if gsn_db.get_current_init_bid(campaign_id=campaign_id) >= original_cpa:\n",
    "                print('[handle_initial_bids] good enough , lower the bid')\n",
    "                gsn_db.update_init_bid(campaign_id=campaign_id, bid_ratio = 0.9)\n",
    "            else:\n",
    "                print('[handle_initial_bids] good enough , keep the bid', ', original_cpa:', original_cpa)\n",
    "\n",
    "        elif spend >= 1.5 * budget :\n",
    "            print('[handle_initial_bids] stay_init_bid')\n",
    "        elif spend < budget:\n",
    "            print('[handle_initial_bids] adjust_init_bid up the bid)')\n",
    "            gsn_db.update_init_bid(campaign_id=campaign_id, bid_ratio = 1.1)\n",
    "    elif keyword_id and ad_group_id:\n",
    "        if daily_target < 0:\n",
    "            if gsn_db.get_current_init_bid(ad_group_id = ad_group_id, keyword_id = keyword_id) >= original_cpa:\n",
    "                print('[handle_initial_bids] good enough , lower the bid')\n",
    "                gsn_db.update_init_bid(keyword_id = keyword_id, ad_group_id = ad_group_id, bid_ratio = 0.9)\n",
    "            else:\n",
    "                print('[handle_initial_bids] good enough , keep the bid', ', original_cpa:', original_cpa)\n",
    "\n",
    "        elif spend >= 1.5 * budget :\n",
    "            print('[handle_initial_bids] stay_init_bid')\n",
    "        elif spend < 0.8 * budget:\n",
    "            print('[handle_initial_bids] adjust_init_bid up the bid)')\n",
    "            gsn_db.update_init_bid(keyword_id = keyword_id, ad_group_id = ad_group_id, bid_ratio = 1.1)"
   ]
  },
  {
   "cell_type": "code",
   "execution_count": 3,
   "metadata": {},
   "outputs": [],
   "source": [
    "def modify_opt_result_db(campaign_id, is_optimized):\n",
    "    #get date\n",
    "    opt_date = datetime.datetime.now()\n",
    "    #insert to table date and Ture for is_opt\n",
    "    sql = \"update campaign_target set is_optimized = '{}', optimized_date = '{}' where campaign_id = {}\".format(is_optimized, opt_date, campaign_id)\n",
    "    mydb = gsn_db.connectDB(DATABASE)\n",
    "    mycursor = mydb.cursor()\n",
    "    try:\n",
    "        mycursor.execute(sql)\n",
    "    except Exception as e:\n",
    "        print('[gsn_externals] modify_opt_result_db: ', e)\n",
    "    finally:\n",
    "        mydb.commit()\n",
    "        mydb.close()"
   ]
  },
  {
   "cell_type": "code",
   "execution_count": 4,
   "metadata": {},
   "outputs": [],
   "source": [
    "def optimize_performance_campaign():\n",
    "    return"
   ]
  },
  {
   "cell_type": "code",
   "execution_count": 5,
   "metadata": {},
   "outputs": [],
   "source": [
    "def optimize_branding_campaign():\n",
    "    df_branding_campaign = gsn_db.get_branding_campaign_is_running()\n",
    "    campaign_id_list = df_branding_campaign['campaign_id'].tolist()\n",
    "    print('[optimize_branding_campaign]: campaign_id_list', campaign_id_list)\n",
    "    for campaign_id in campaign_id_list:\n",
    "        print('[optimize_branding_campaign] campaign_id', campaign_id)\n",
    "        customer_id = df_branding_campaign['customer_id'][df_branding_campaign.campaign_id==campaign_id].iloc[0]\n",
    "        destination_type = df_branding_campaign['destination_type'][df_branding_campaign.campaign_id==campaign_id].iloc[0]\n",
    "        daily_target = df_branding_campaign['daily_target'][df_branding_campaign.campaign_id==campaign_id].iloc[0]\n",
    "\n",
    "        destination = df_branding_campaign['destination'][df_branding_campaign.campaign_id==campaign_id].iloc[0]\n",
    "        ai_spend_cap = df_branding_campaign['ai_spend_cap'][df_branding_campaign.campaign_id==campaign_id].iloc[0]\n",
    "        original_cpa = ai_spend_cap/destination\n",
    "        print('[optimize_branding_campaign]  original_cpa:' , original_cpa)\n",
    "\n",
    "        adwords_client.SetClientCustomerId( customer_id )\n",
    "\n",
    "        target = 'clicks'\n",
    "        # Init datacollector Campaign\n",
    "        camp = datacollector.Campaign(customer_id, campaign_id)\n",
    "        day_dict = camp.get_campaign_insights(adwords_client, date_preset=datacollector.DatePreset.yesterday)\n",
    "        print('[optimize_branding_campaign] day_dict', day_dict)\n",
    "        lifetime_dict = camp.get_campaign_insights(adwords_client, date_preset=datacollector.DatePreset.lifetime)\n",
    "        print('[optimize_branding_campaign] lifetime_dict', lifetime_dict)\n",
    "        target = int( day_dict[target] )\n",
    "        achieving_rate = target / daily_target\n",
    "        print('[optimize_branding_campaign][achieving rate]', achieving_rate, '[target]', target, '[daily_target]', daily_target)\n",
    "#         if day_dict['spend'] < day_dict['daily_budget'] * 0.8:\n",
    "#             print('[optimize_branding_campaign] spending is not enough')\n",
    "        if  0 <= achieving_rate < 1 and day_dict['spend'] < day_dict['daily_budget'] * 0.8:\n",
    "            print('[optimize_branding_campaign] achieving_rate is not OK, optimze')\n",
    "            print('[optimize_branding_campaign] spending is not enough')\n",
    "            keyword_insights_dict_list = camp.get_keyword_insights(date_preset=datacollector.DatePreset.lifetime)\n",
    "            for keyword_insights_dict in keyword_insights_dict_list:\n",
    "                if keyword_insights_dict['position'] >= 2 or keyword_insights_dict['position'] <1 and keyword_insights_dict['cost_per_target'] < original_cpa:\n",
    "                    # Update initial bids\n",
    "                    handle_initial_bids(day_dict['spend'], day_dict['daily_budget'], daily_target, original_cpa, keyword_insights_dict)\n",
    "            modify_opt_result_db(campaign_id , True)\n",
    "        else:\n",
    "            modify_opt_result_db(campaign_id , False)\n",
    "#         else:\n",
    "#             print('[optimize_branding_campaign] spending is enough, no optimize')\n",
    "#             modify_opt_result_db(campaign_id , False)\n",
    "        print('[optimize_branding_campaign]: next campaign====================')"
   ]
  },
  {
   "cell_type": "code",
   "execution_count": 6,
   "metadata": {
    "scrolled": false
   },
   "outputs": [
    {
     "name": "stdout",
     "output_type": "stream",
     "text": [
      "current time:  2019-06-28 12:27:14.152570\n",
      "[optimize_branding_campaign]: campaign_id_list [2030591888, 2031012661, 2031455940]\n",
      "[optimize_branding_campaign] campaign_id 2030591888\n",
      "[optimize_branding_campaign]  original_cpa: 10.0\n",
      "[optimize_branding_campaign] day_dict {'customer_id': 9716870905, 'campaign_id': 2030591888, 'channel_type': 'Search', 'status': 'enabled', 'bidding_type': 'cpc', 'daily_budget': 200.0, 'start_time': Timestamp('2019-06-17 00:00:00'), 'stop_time': Timestamp('2019-06-30 00:00:00'), 'spend': 167.1, 'cost_per_target': 7.265217, 'impressions': 204, 'clicks': 23, 'conversions': 0.0, 'all_conversions': 0.0, 'cost_per_click': 7.265217, 'cost_per_conversion': 0.0, 'cost_per_all_conversion': 0.0, 'ctr': 11.27}\n",
      "[optimize_branding_campaign] lifetime_dict {'customer_id': 9716870905, 'campaign_id': 2030591888, 'channel_type': 'Search', 'status': 'enabled', 'bidding_type': 'cpc', 'daily_budget': 200.0, 'start_time': Timestamp('2019-06-17 00:00:00'), 'stop_time': Timestamp('2019-06-30 00:00:00'), 'spend': 1161.1, 'cost_per_target': 7.167284, 'impressions': 2191, 'clicks': 162, 'conversions': 0.0, 'all_conversions': 0.0, 'cost_per_click': 7.167284, 'cost_per_conversion': 0.0, 'cost_per_all_conversion': 0.0, 'ctr': 7.39}\n",
      "[optimize_branding_campaign][achieving rate] -3.1363650619841192 [target] 23 [daily_target] -7.33333\n",
      "[optimize_branding_campaign]: next campaign====================\n",
      "[optimize_branding_campaign] campaign_id 2031012661\n",
      "[optimize_branding_campaign]  original_cpa: 10.0\n",
      "[optimize_branding_campaign] day_dict {'customer_id': 9716870905, 'campaign_id': 2031012661, 'channel_type': 'Search', 'status': 'enabled', 'bidding_type': 'cpc', 'daily_budget': 100.0, 'start_time': Timestamp('2019-06-17 00:00:00'), 'stop_time': Timestamp('2019-06-30 00:00:00'), 'spend': 103.64, 'cost_per_target': 5.454737, 'impressions': 228, 'clicks': 19, 'conversions': 0.0, 'all_conversions': 0.0, 'cost_per_click': 5.454737, 'cost_per_conversion': 0.0, 'cost_per_all_conversion': 0.0, 'ctr': 8.33}\n",
      "[optimize_branding_campaign] lifetime_dict {'customer_id': 9716870905, 'campaign_id': 2031012661, 'channel_type': 'Search', 'status': 'enabled', 'bidding_type': 'cpc', 'daily_budget': 100.0, 'start_time': Timestamp('2019-06-17 00:00:00'), 'stop_time': Timestamp('2019-06-30 00:00:00'), 'spend': 743.89, 'cost_per_target': 6.047886, 'impressions': 2838, 'clicks': 123, 'conversions': 0.0, 'all_conversions': 0.0, 'cost_per_click': 6.047886, 'cost_per_conversion': 0.0, 'cost_per_all_conversion': 0.0, 'ctr': 4.33}\n",
      "[optimize_branding_campaign][achieving rate] -1.075469668925153 [target] 19 [daily_target] -17.6667\n",
      "[optimize_branding_campaign]: next campaign====================\n",
      "[optimize_branding_campaign] campaign_id 2031455940\n",
      "[optimize_branding_campaign]  original_cpa: 2.0\n",
      "[optimize_branding_campaign] day_dict {'customer_id': 9716870905, 'campaign_id': 2031455940, 'channel_type': 'Search', 'status': 'enabled', 'bidding_type': 'cpc', 'daily_budget': 400.0, 'start_time': Timestamp('2019-06-17 00:00:00'), 'stop_time': Timestamp('2019-06-30 00:00:00'), 'spend': 424.13, 'cost_per_target': 5.655067, 'impressions': 1123, 'clicks': 75, 'conversions': 0.0, 'all_conversions': 0.0, 'cost_per_click': 5.655067, 'cost_per_conversion': 0.0, 'cost_per_all_conversion': 0.0, 'ctr': 6.68}\n",
      "[optimize_branding_campaign] lifetime_dict {'customer_id': 9716870905, 'campaign_id': 2031455940, 'channel_type': 'Search', 'status': 'enabled', 'bidding_type': 'cpc', 'daily_budget': 400.0, 'start_time': Timestamp('2019-06-17 00:00:00'), 'stop_time': Timestamp('2019-06-30 00:00:00'), 'spend': 2228.69, 'cost_per_target': 4.30249, 'impressions': 6426, 'clicks': 518, 'conversions': 0.0, 'all_conversions': 0.0, 'cost_per_click': 4.30249, 'cost_per_conversion': 0.0, 'cost_per_all_conversion': 0.0, 'ctr': 8.06}\n",
      "[optimize_branding_campaign][achieving rate] 0.2548134256097685 [target] 75 [daily_target] 294.333\n",
      "[optimize_branding_campaign]: next campaign====================\n",
      "0:00:10.887818\n"
     ]
    }
   ],
   "source": [
    "if __name__==\"__main__\":\n",
    "    start_time = datetime.datetime.now()\n",
    "    print('current time: ', start_time)\n",
    "    optimize_performance_campaign()\n",
    "    optimize_branding_campaign()\n",
    "    print(datetime.datetime.now() - start_time)"
   ]
  },
  {
   "cell_type": "code",
   "execution_count": 8,
   "metadata": {},
   "outputs": [
    {
     "name": "stdout",
     "output_type": "stream",
     "text": [
      "[NbConvertApp] Converting notebook gsn_externals.ipynb to script\n",
      "[NbConvertApp] Writing 6391 bytes to gsn_externals.py\n"
     ]
    }
   ],
   "source": [
    "#!jupyter nbconvert --to script gsn_externals.ipynb"
   ]
  },
  {
   "cell_type": "code",
   "execution_count": null,
   "metadata": {},
   "outputs": [],
   "source": []
  }
 ],
 "metadata": {
  "kernelspec": {
   "display_name": "Python 3",
   "language": "python",
   "name": "python3"
  },
  "language_info": {
   "codemirror_mode": {
    "name": "ipython",
    "version": 3
   },
   "file_extension": ".py",
   "mimetype": "text/x-python",
   "name": "python",
   "nbconvert_exporter": "python",
   "pygments_lexer": "ipython3",
   "version": "3.6.7"
  },
  "varInspector": {
   "cols": {
    "lenName": 16,
    "lenType": 16,
    "lenVar": 40
   },
   "kernels_config": {
    "python": {
     "delete_cmd_postfix": "",
     "delete_cmd_prefix": "del ",
     "library": "var_list.py",
     "varRefreshCmd": "print(var_dic_list())"
    },
    "r": {
     "delete_cmd_postfix": ") ",
     "delete_cmd_prefix": "rm(",
     "library": "var_list.r",
     "varRefreshCmd": "cat(var_dic_list()) "
    }
   },
   "types_to_exclude": [
    "module",
    "function",
    "builtin_function_or_method",
    "instance",
    "_Feature"
   ],
   "window_display": false
  }
 },
 "nbformat": 4,
 "nbformat_minor": 2
}
