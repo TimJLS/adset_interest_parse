{
 "cells": [
  {
   "cell_type": "code",
   "execution_count": null,
   "metadata": {},
   "outputs": [],
   "source": [
    "import datetime\n",
    "import pandas as pd\n",
    "import copy\n",
    "import math\n",
    "\n",
    "from googleads import adwords\n",
    "\n",
    "import gsn_datacollector as datacollector\n",
    "import google_adwords_controller as controller\n",
    "import database_controller\n",
    "\n",
    "IS_DEBUG = False\n",
    "DATABASE = \"dev_gsn\"\n",
    "DATE = datetime.datetime.now().date()\n",
    "DATETIME = datetime.datetime.now()\n",
    "AGE_RANGE_LIST = [503001,503002,503003,503004,503005,503006,503999,]"
   ]
  },
  {
   "cell_type": "code",
   "execution_count": null,
   "metadata": {},
   "outputs": [],
   "source": [
    "def modify_opt_result_db(campaign_id, is_optimized):\n",
    "    #get date\n",
    "    opt_date = datetime.date.today()\n",
    "    database_gsn.update(\"campaign_target\", {\"is_optimized\": is_optimized, \"optimized_date\": opt_date }, campaign_id=campaign_id)\n"
   ]
  },
  {
   "cell_type": "code",
   "execution_count": null,
   "metadata": {},
   "outputs": [],
   "source": [
    "def optimize_performance_campaign():\n",
    "    objective = 'conversions'\n",
    "    performance_campaign_dict_list = database_gsn.get_performance_campaign().to_dict('records')\n",
    "    campaign_id_list = [ performance_campaign_dict['campaign_id'] for performance_campaign_dict in performance_campaign_dict_list ]\n",
    "    print('[optimize_performance_campaign]: campaign_id_list', campaign_id_list)\n",
    "    for performance_campaign_dict in performance_campaign_dict_list:\n",
    "        print('[optimize_performance_campaign] campaign_id', performance_campaign_dict['campaign_id'])\n",
    "        customer_id = performance_campaign_dict['customer_id']\n",
    "        campaign_id = branding_campaign_dict['campaign_id']\n",
    "        destination_type = performance_campaign_dict['destination_type']\n",
    "        daily_target = performance_campaign_dict['daily_target']\n",
    "        is_lookalike = eval(performance_campaign_dict['is_lookalike'])\n",
    "        destination = performance_campaign_dict['destination']\n",
    "        ai_spend_cap = performance_campaign_dict['ai_spend_cap']\n",
    "        original_cpa = ai_spend_cap/destination\n",
    "        print('[optimize_performance_campaign]  original_cpa:' , original_cpa)\n",
    "        \n",
    "        service_container = controller.AdGroupServiceContainer( customer_id )\n",
    "        # Init datacollector Campaign\n",
    "        collector_campaign = collector.Campaign(customer_id, campaign_id)\n",
    "        campaign_day_insights_dict_list = collector_campaign.get_performance_insights(date_preset=datacollector.DatePreset.yesterday, performance_type='CAMPAIGN').to_dict('records')\n",
    "        print('[optimize_branding_campaign] campaign_day_insights_dict', campaign_day_insights_dict_list)\n",
    "        # Init param retriever Retrieve\n",
    "        controller_campaign = controller.Campaign(service_container, campaign_id)\n",
    "        ad_group_list = controller_campaign.get_ad_groups()\n",
    "        if bool(campaign_day_insights_dict_list):\n",
    "            campaign_day_insights_dict = campaign_day_insights_dict_list[0]\n",
    "            campaign_day_insights_dict['original_cpa'] = original_cpa\n",
    "            campaign_day_insights_dict['daily_target'] = daily_target\n",
    "            campaign_day_insights_dict['achieving_rate'] = int( campaign_day_insights_dict[objective] ) / daily_target\n",
    "            campaign_day_insights_dict['target'] = campaign_day_insights_dict[objective]\n",
    "            print('[optimize_branding_campaign][achieving rate]', campaign_day_insights_dict['achieving_rate'], '[target]', campaign_day_insights_dict[objective], '[daily_target]', daily_target)\n",
    "            for ad_group in ad_group_list:\n",
    "                handle_campaign_destination(ad_group.ad_group_id, daily_target, original_cpa)\n",
    "            optimize_list = ['customer_id', 'campaign_id', 'spend', 'daily_budget', 'original_cpa', 'achieving_rate']\n",
    "            campaign_status_dict = dict([(key, value) for key, value in campaign_day_insights_dict.items() if key in optimize_list])\n",
    "            handle_initial_bids(**campaign_status_dict)\n",
    "\n",
    "            if spend >= 1.5 * daily_budget:\n",
    "                off_keyword_list = get_keyword_off_by_score(campaign_id).to_dict('records')\n",
    "                adjust_init_bids(off_keyword_list, bid_ratio=0.75)\n",
    "                modify_opt_result_db(campaign_id , 'True')\n",
    "            else:\n",
    "                modify_opt_result_db(campaign_id , 'False')"
   ]
  },
  {
   "cell_type": "code",
   "execution_count": null,
   "metadata": {},
   "outputs": [],
   "source": [
    "def optimize_branding_campaign():\n",
    "    objective = 'clicks'\n",
    "    branding_campaign_dict_list = database_gsn.get_branding_campaign().to_dict('records')\n",
    "    campaign_id_list = [ branding_campaign_dict['campaign_id'] for branding_campaign_dict in branding_campaign_dict_list ]\n",
    "    print('[optimize_branding_campaign]: campaign_id_list', campaign_id_list)\n",
    "    for branding_campaign_dict in branding_campaign_dict_list:\n",
    "        print('[optimize_branding_campaign] campaign_id', branding_campaign_dict['campaign_id'])\n",
    "        customer_id = branding_campaign_dict['customer_id']\n",
    "        campaign_id = branding_campaign_dict['campaign_id']\n",
    "        destination_type = branding_campaign_dict['destination_type']\n",
    "        daily_target = branding_campaign_dict['daily_target']\n",
    "        is_lookalike = eval(branding_campaign_dict['is_lookalike'])\n",
    "        destination = branding_campaign_dict['destination']\n",
    "        ai_spend_cap = branding_campaign_dict['ai_spend_cap']\n",
    "        original_cpa = ai_spend_cap/destination\n",
    "        print('[optimize_branding_campaign]  original_cpa:' , original_cpa)\n",
    "        \n",
    "        service_container = controller.AdGroupServiceContainer( customer_id )\n",
    "\n",
    "        # Init datacollector Campaign\n",
    "        camp = datacollector.Campaign(customer_id, campaign_id)\n",
    "        campaign_day_insights_dict_list = camp.get_performance_insights(database=database_gsn, date_preset=datacollector.DatePreset.yesterday, performance_type='CAMPAIGN').to_dict('records')\n",
    "        # Init param retriever Retrieve\n",
    "        controller_campaign = controller.Campaign(service_container, campaign_id)\n",
    "        ad_group_list = controller_campaign.get_ad_groups()\n",
    "        print('[optimize_branding_campaign] campaign_day_insights_dict', campaign_day_insights_dict_list)\n",
    "        if bool(campaign_day_insights_dict_list):\n",
    "            campaign_day_insights_dict = campaign_day_insights_dict_list[0]\n",
    "            campaign_day_insights_dict['original_cpa'] = original_cpa\n",
    "            campaign_day_insights_dict['daily_target'] = daily_target\n",
    "            campaign_day_insights_dict['achieving_rate'] = int( campaign_day_insights_dict[objective] ) / daily_target\n",
    "            campaign_day_insights_dict['target'] = campaign_day_insights_dict[objective]\n",
    "            print('[optimize_branding_campaign][achieving rate]', campaign_day_insights_dict['achieving_rate'], '[target]', campaign_day_insights_dict[objective], '[daily_target]', daily_target)\n",
    "\n",
    "            for ad_group in ad_group_list:\n",
    "                handle_campaign_destination(ad_group.ad_group_id, daily_target, original_cpa)\n",
    "\n",
    "            optimize_list = ['customer_id', 'campaign_id', 'spend', 'daily_budget', 'original_cpa', 'achieving_rate']\n",
    "            campaign_status_dict = dict([(key, value) for key, value in campaign_day_insights_dict.items() if key in optimize_list])\n",
    "            handle_initial_bids(**campaign_status_dict)"
   ]
  },
  {
   "cell_type": "code",
   "execution_count": null,
   "metadata": {},
   "outputs": [],
   "source": [
    "def get_keyword_off_by_score(campaign_id):\n",
    "    keywords_for_off = []\n",
    "    df = database_gsn.retrieve( \"keywords_score\", campaign_id=campaign_id,)\n",
    "    df = df.infer_objects()\n",
    "    df.request_time = pd.to_datetime(df.request_time)\n",
    "    df = df[ df.request_time.dt.date == (datetime.datetime.now().date()) ]\n",
    "    df = df.sort_values(by=['score']).drop_duplicates([\"adgroup_id\", \"keyword_id\"]).reset_index(drop=True)\n",
    "    half = math.ceil( len(df)/2 )\n",
    "    df_off = df.iloc[:half]\n",
    "    return df_off"
   ]
  },
  {
   "cell_type": "code",
   "execution_count": null,
   "metadata": {},
   "outputs": [],
   "source": [
    "def handle_campaign_destination(ad_group_id, daily_target, original_cpa):\n",
    "    if IS_DEBUG:\n",
    "        return\n",
    "    if daily_target < 0:\n",
    "        if database_gsn.get_init_bid(ad_group_id) >= original_cpa:\n",
    "            print('[handle_initial_bids] lifetime target has reached, no optimize.')\n",
    "            database_gsn.update_init_bid(adset_id=ad_group_id, update_ratio=0.9)\n",
    "        else:\n",
    "            print('[handle_initial_bids] good enough , keep the bid', ', original_cpa:', original_cpa)"
   ]
  },
  {
   "cell_type": "code",
   "execution_count": null,
   "metadata": {},
   "outputs": [],
   "source": [
    "def adjust_init_bids(keyword_list, bid_ratio):\n",
    "    print('[adjust_init_bids] target not enough.')\n",
    "    for keyword in keyword_list:\n",
    "        keyword_id = keyword.get('keyword_id')\n",
    "        ad_group_id = keyword.get('adgroup_id')\n",
    "        database_gsn.update_init_bid(adset_id=ad_group_id, keyword_id=keyword_id, update_ratio=bid_ratio)"
   ]
  },
  {
   "cell_type": "code",
   "execution_count": null,
   "metadata": {},
   "outputs": [],
   "source": [
    "def handle_initial_bids(customer_id, campaign_id, spend, daily_budget, original_cpa, achieving_rate):\n",
    "    if IS_DEBUG:\n",
    "        print('[handle_initial_bids] IS_DEBUG == True , not adjust bid')\n",
    "        return\n",
    "    camp = datacollector.Campaign(customer_id, campaign_id)\n",
    "    keyword_insights_dict_list = camp.get_keyword_insights(date_preset=datacollector.DatePreset.lifetime)\n",
    "    keyword_insights_dict_list = [\n",
    "        keyword for keyword in keyword_insights_dict_list if keyword['top_impression_percentage'] <= 0.75\n",
    "    ]\n",
    "    if achieving_rate > 1 and spend >= 1.5 * daily_budget:\n",
    "        print('[handle_initial_bids][spend]: over daily_budget')\n",
    "        print('[handle_initial_bids][target]: over daily_target')\n",
    "        adjust_init_bids(keyword_insights_dict_list, 0.75)\n",
    "        modify_opt_result_db(campaign_id , 'True')\n",
    "\n",
    "    elif achieving_rate > 1 and spend < 0.8 * daily_budget:\n",
    "        print('[handle_initial_bids][spend]: lower daily_budget')\n",
    "        print('[handle_initial_bids][target]: over daily_target')\n",
    "        position_keyword_list = [\n",
    "            keyword for keyword in keyword_insights_dict_list if keyword['cost_per_target'] < original_cpa\n",
    "        ]\n",
    "        first_page_keyword_list = [\n",
    "            keyword for keyword in keyword_insights_dict_list if keyword['first_page_cpc'] >= 2 or keyword['cpc_bid'] <1 and keyword['cost_per_target'] < original_cpa\n",
    "        ]\n",
    "        first_page_keyword_list = [\n",
    "             keyword for keyword in first_page_keyword_list if keyword not in position_keyword_list\n",
    "        ]\n",
    "        adjust_init_bids(position_keyword_list, 1.25)\n",
    "        adjust_init_bids(first_page_keyword_list, 1.25)\n",
    "        modify_opt_result_db(campaign_id , 'True')\n",
    "\n",
    "    elif 0 <= achieving_rate < 1 and spend < 0.8 * daily_budget:\n",
    "        print('[handle_initial_bids][spend]: lower daily_budget')\n",
    "        print('[handle_initial_bids][target]: lower daily_target')\n",
    "        adjust_init_bids(keyword_insights_dict_list, 1.25)\n",
    "        modify_opt_result_db(campaign_id , 'False')\n",
    "        return\n",
    "\n",
    "    elif 0 <= achieving_rate < 1 and spend >= 1.5 * daily_budget:\n",
    "        print('[handle_initial_bids][spend]: over daily_budget')\n",
    "        print('[handle_initial_bids][target]: lower daily_target')\n",
    "        adjust_init_bids(keyword_insights_dict_list, 0.75)\n",
    "        modify_opt_result_db(campaign_id , 'True')"
   ]
  },
  {
   "cell_type": "code",
   "execution_count": null,
   "metadata": {},
   "outputs": [],
   "source": [
    "if __name__==\"__main__\":\n",
    "    start_time = datetime.datetime.now()\n",
    "    print('current time: ', start_time)\n",
    "    global database_gsn\n",
    "    db = database_controller.Database()\n",
    "    database_gsn = database_controller.GSN(db)\n",
    "    optimize_performance_campaign()\n",
    "    optimize_branding_campaign()\n",
    "    print('===============[gsn_externals]: main finish====================')\n",
    "    print(datetime.datetime.now() - start_time)"
   ]
  },
  {
   "cell_type": "code",
   "execution_count": 1,
   "metadata": {},
   "outputs": [
    {
     "name": "stdout",
     "output_type": "stream",
     "text": [
      "[NbConvertApp] Converting notebook gsn_externals.ipynb to script\n",
      "[NbConvertApp] Writing 11091 bytes to gsn_externals.py\n"
     ]
    }
   ],
   "source": [
    "# !jupyter nbconvert --to script gsn_externals.ipynb"
   ]
  },
  {
   "cell_type": "code",
   "execution_count": null,
   "metadata": {
    "scrolled": true
   },
   "outputs": [],
   "source": [
    "# [keyword_insights for keyword_insights in keyword_insights_dict_list]"
   ]
  },
  {
   "cell_type": "code",
   "execution_count": null,
   "metadata": {},
   "outputs": [],
   "source": []
  }
 ],
 "metadata": {
  "kernelspec": {
   "display_name": "Python 3",
   "language": "python",
   "name": "python3"
  },
  "language_info": {
   "codemirror_mode": {
    "name": "ipython",
    "version": 3
   },
   "file_extension": ".py",
   "mimetype": "text/x-python",
   "name": "python",
   "nbconvert_exporter": "python",
   "pygments_lexer": "ipython3",
   "version": "3.6.8"
  },
  "varInspector": {
   "cols": {
    "lenName": 16,
    "lenType": 16,
    "lenVar": 40
   },
   "kernels_config": {
    "python": {
     "delete_cmd_postfix": "",
     "delete_cmd_prefix": "del ",
     "library": "var_list.py",
     "varRefreshCmd": "print(var_dic_list())"
    },
    "r": {
     "delete_cmd_postfix": ") ",
     "delete_cmd_prefix": "rm(",
     "library": "var_list.r",
     "varRefreshCmd": "cat(var_dic_list()) "
    }
   },
   "types_to_exclude": [
    "module",
    "function",
    "builtin_function_or_method",
    "instance",
    "_Feature"
   ],
   "window_display": false
  }
 },
 "nbformat": 4,
 "nbformat_minor": 4
}
