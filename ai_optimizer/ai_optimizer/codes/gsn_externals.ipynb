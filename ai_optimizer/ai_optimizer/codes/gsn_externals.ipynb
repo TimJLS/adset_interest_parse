{
 "cells": [
  {
   "cell_type": "code",
   "execution_count": 1,
   "metadata": {},
   "outputs": [],
   "source": [
    "import gsn_datacollector as datacollector\n",
    "import google_adwords_controller as controller\n",
    "import gsn_db\n",
    "from googleads import adwords\n",
    "\n",
    "import datetime\n",
    "import pandas as pd\n",
    "import copy\n",
    "import math\n",
    "IS_DEBUG = False\n",
    "DATABASE = \"dev_gsn\"\n",
    "DATE = datetime.datetime.now().date()\n",
    "DATETIME = datetime.datetime.now()\n",
    "AGE_RANGE_LIST = [503001,503002,503003,503004,503005,503006,503999,]"
   ]
  },
  {
   "cell_type": "code",
   "execution_count": 2,
   "metadata": {},
   "outputs": [],
   "source": [
    "def modify_opt_result_db(campaign_id, is_optimized):\n",
    "    #get date\n",
    "    opt_date = datetime.datetime.now()\n",
    "    #insert to table date and Ture for is_opt\n",
    "    sql = \"update campaign_target set is_optimized = '{}', optimized_date = '{}' where campaign_id = {}\".format(is_optimized, opt_date, campaign_id)\n",
    "    mydb = gsn_db.connectDB(DATABASE)\n",
    "    mycursor = mydb.cursor()\n",
    "    try:\n",
    "        mycursor.execute(sql)\n",
    "    except Exception as e:\n",
    "        print('[gsn_externals] modify_opt_result_db: ', e)\n",
    "    finally:\n",
    "        mydb.commit()\n",
    "        mydb.close()"
   ]
  },
  {
   "cell_type": "code",
   "execution_count": 3,
   "metadata": {},
   "outputs": [],
   "source": [
    "def optimize_performance_campaign():\n",
    "    objective = 'conversions'\n",
    "    performance_campaign_dict_list = gsn_db.get_performance_campaign_is_running().to_dict('records')\n",
    "    campaign_id_list = [ performance_campaign_dict['campaign_id'] for performance_campaign_dict in performance_campaign_dict_list ]\n",
    "    print('[optimize_performance_campaign]: campaign_id_list', campaign_id_list)\n",
    "    for performance_campaign_dict in performance_campaign_dict_list:\n",
    "        print('[optimize_performance_campaign] campaign_id', performance_campaign_dict['campaign_id'])\n",
    "        customer_id = performance_campaign_dict['customer_id']\n",
    "        campaign_id = branding_campaign_dict['campaign_id']\n",
    "        destination_type = performance_campaign_dict['destination_type']\n",
    "        daily_target = performance_campaign_dict['daily_target']\n",
    "\n",
    "        destination = performance_campaign_dict['destination']\n",
    "        ai_spend_cap = performance_campaign_dict['ai_spend_cap']\n",
    "        original_cpa = ai_spend_cap/destination\n",
    "        print('[optimize_performance_campaign]  original_cpa:' , original_cpa)\n",
    "        service_container = controller.AdGroupServiceContainer( customer_id )\n",
    "        \n",
    "        collector_campaign = collector.Campaign(customer_id, campaign_id)\n",
    "        campaign_day_insights_dict_list = collector_campaign.get_performance_insights(date_preset=datacollector.DatePreset.yesterday, performance_type='CAMPAIGN').to_dict('records')\n",
    "        print('[optimize_branding_campaign] campaign_day_insights_dict', campaign_day_insights_dict_list)\n",
    "#         campaign_lifetime_insights_dict = collector_campaign.get_performance_insights(date_preset=datacollector.DatePreset.lifetime, performance_type='CAMPAIGN').to_dict('records')[0]\n",
    "#         print('[optimize_branding_campaign] campaign_lifetime_insights_dict', campaign_lifetime_insights_dict)\n",
    "        if bool(campaign_day_insights_dict_list):\n",
    "            campaign_day_insights_dict = campaign_day_insights_dict_list[0]\n",
    "            campaign_day_insights_dict['original_cpa'] = original_cpa\n",
    "            campaign_day_insights_dict['daily_target'] = daily_target\n",
    "            campaign_day_insights_dict['achieving_rate'] = int( campaign_day_insights_dict[objective] ) / daily_target\n",
    "            campaign_day_insights_dict['target'] = campaign_day_insights_dict[objective]\n",
    "            print('[optimize_branding_campaign][achieving rate]', campaign_day_insights_dict['achieving_rate'], '[target]', campaign_day_insights_dict[objective], '[daily_target]', daily_target)\n",
    "\n",
    "            handle_campaign_destination(campaign_id, daily_target, original_cpa)\n",
    "            optimize_list = ['customer_id', 'campaign_id', 'spend', 'daily_budget', 'original_cpa', 'achieving_rate']\n",
    "            campaign_status_dict = dict([(key, value) for key, value in campaign_day_insights_dict.items() if key in optimize_list])\n",
    "            handle_initial_bids(**campaign_status_dict)\n",
    "\n",
    "            if spend >= 1.5 * daily_budget:\n",
    "                off_keyword_list = get_keyword_off_by_score(campaign_id).to_dict('records')\n",
    "                adjust_init_bids(off_keyword_list, bid_ratio=0.75)\n"
   ]
  },
  {
   "cell_type": "code",
   "execution_count": 4,
   "metadata": {},
   "outputs": [],
   "source": [
    "def optimize_branding_campaign():\n",
    "    objective = 'clicks'\n",
    "    branding_campaign_dict_list = gsn_db.get_branding_campaign_is_running().to_dict('records')\n",
    "    campaign_id_list = [ branding_campaign_dict['campaign_id'] for branding_campaign_dict in branding_campaign_dict_list ]\n",
    "    print('[optimize_branding_campaign]: campaign_id_list', campaign_id_list)\n",
    "    for branding_campaign_dict in branding_campaign_dict_list:\n",
    "        print('[optimize_branding_campaign] campaign_id', branding_campaign_dict['campaign_id'])\n",
    "        customer_id = branding_campaign_dict['customer_id']\n",
    "        campaign_id = branding_campaign_dict['campaign_id']\n",
    "        destination_type = branding_campaign_dict['destination_type']\n",
    "        daily_target = branding_campaign_dict['daily_target']\n",
    "\n",
    "        destination = branding_campaign_dict['destination']\n",
    "        ai_spend_cap = branding_campaign_dict['ai_spend_cap']\n",
    "        original_cpa = ai_spend_cap/destination\n",
    "        print('[optimize_branding_campaign]  original_cpa:' , original_cpa)\n",
    "        service_container = controller.AdGroupServiceContainer( customer_id )\n",
    "\n",
    "        # Init datacollector Campaign\n",
    "        camp = datacollector.Campaign(customer_id, campaign_id)\n",
    "        campaign_day_insights_dict_list = camp.get_performance_insights(date_preset=datacollector.DatePreset.yesterday, performance_type='CAMPAIGN').to_dict('records')\n",
    "        \n",
    "        print('[optimize_branding_campaign] campaign_day_insights_dict', campaign_day_insights_dict_list)\n",
    "        if bool(campaign_day_insights_dict_list):\n",
    "            campaign_day_insights_dict = campaign_day_insights_dict_list[0]\n",
    "    #         campaign_lifetime_insights_dict = camp.get_performance_insights(date_preset=datacollector.DatePreset.lifetime, performance_type='CAMPAIGN').to_dict('records')[0]\n",
    "    #         print('[optimize_branding_campaign] campaign_lifetime_insights_dict', campaign_lifetime_insights_dict)\n",
    "\n",
    "            campaign_day_insights_dict['original_cpa'] = original_cpa\n",
    "            campaign_day_insights_dict['daily_target'] = daily_target\n",
    "            campaign_day_insights_dict['achieving_rate'] = int( campaign_day_insights_dict[objective] ) / daily_target\n",
    "            campaign_day_insights_dict['target'] = campaign_day_insights_dict[objective]\n",
    "            print('[optimize_branding_campaign][achieving rate]', campaign_day_insights_dict['achieving_rate'], '[target]', campaign_day_insights_dict[objective], '[daily_target]', daily_target)\n",
    "\n",
    "    #         print(campaign_status_dict)\n",
    "            handle_campaign_destination(campaign_id, daily_target, original_cpa)\n",
    "\n",
    "            optimize_list = ['customer_id', 'campaign_id', 'spend', 'daily_budget', 'original_cpa', 'achieving_rate']\n",
    "            campaign_status_dict = dict([(key, value) for key, value in campaign_day_insights_dict.items() if key in optimize_list])\n",
    "            handle_initial_bids(**campaign_status_dict)"
   ]
  },
  {
   "cell_type": "code",
   "execution_count": 5,
   "metadata": {},
   "outputs": [],
   "source": [
    "def get_keyword_off_by_score(campaign_id):\n",
    "    keywords_for_off = []\n",
    "    df = gsn_db.get_table(campaign_id, \"keywords_score\")\n",
    "    df = df.infer_objects()\n",
    "    df.request_time = pd.to_datetime(df.request_time)\n",
    "    df = df[ df.request_time.dt.date == (datetime.datetime.now().date()) ]\n",
    "    df = df.sort_values(by=['score']).drop_duplicates([\"adgroup_id\", \"keyword_id\"]).reset_index(drop=True)\n",
    "    half = math.ceil( len(df)/2 )\n",
    "    df_off = df.iloc[:half]\n",
    "    return df_off"
   ]
  },
  {
   "cell_type": "code",
   "execution_count": 6,
   "metadata": {},
   "outputs": [],
   "source": [
    "def handle_campaign_destination(campaign_id, daily_target, original_cpa):\n",
    "    if IS_DEBUG:\n",
    "        return\n",
    "    if daily_target < 0:\n",
    "        if gsn_db.get_current_init_bid(campaign_id=campaign_id) >= original_cpa:\n",
    "            print('[handle_initial_bids] lifetime target has reached, no optimize.')\n",
    "            gsn_db.update_init_bid(campaign_id=campaign_id, bid_ratio=0.9)\n",
    "            modify_opt_result_db(campaign_id , True)\n",
    "        else:\n",
    "            print('[handle_initial_bids] good enough , keep the bid', ', original_cpa:', original_cpa)\n",
    "            modify_opt_result_db(campaign_id , False)"
   ]
  },
  {
   "cell_type": "code",
   "execution_count": 7,
   "metadata": {},
   "outputs": [],
   "source": [
    "def adjust_init_bids(keyword_list, bid_ratio):\n",
    "    print('[adjust_init_bids] target not enough.')\n",
    "    for keyword in keyword_list:\n",
    "        keyword_id = keyword.get('keyword_id')\n",
    "        ad_group_id = keyword.get('adgroup_id')\n",
    "        gsn_db.update_init_bid(keyword_id=keyword_id, ad_group_id=ad_group_id, bid_ratio=bid_ratio)"
   ]
  },
  {
   "cell_type": "code",
   "execution_count": 8,
   "metadata": {},
   "outputs": [],
   "source": [
    "def handle_initial_bids(customer_id, campaign_id, spend, daily_budget, original_cpa, achieving_rate):\n",
    "    if IS_DEBUG:\n",
    "        print('[handle_initial_bids] IS_DEBUG == True , not adjust bid')\n",
    "        return\n",
    "    camp = datacollector.Campaign(customer_id, campaign_id)\n",
    "    keyword_insights_dict_list = camp.get_keyword_insights(date_preset=datacollector.DatePreset.lifetime)\n",
    "    keyword_insights_dict_list = [\n",
    "        keyword for keyword in keyword_insights_dict_list if keyword['top_impression_percentage'] <= 0.75\n",
    "    ]\n",
    "    if achieving_rate > 1 and spend >= 1.5 * daily_budget:\n",
    "        print('[handle_initial_bids][spend]: over daily_budget')\n",
    "        print('[handle_initial_bids][target]: over daily_target')\n",
    "        adjust_init_bids(keyword_insights_dict_list, 0.75)\n",
    "        modify_opt_result_db(campaign_id , True)\n",
    "\n",
    "    elif achieving_rate > 1 and spend < 0.8 * daily_budget:\n",
    "        print('[handle_initial_bids][spend]: lower daily_budget')\n",
    "        print('[handle_initial_bids][target]: over daily_target')\n",
    "        position_keyword_list = [\n",
    "            keyword for keyword in keyword_insights_dict_list if keyword['cost_per_target'] < original_cpa\n",
    "        ]\n",
    "        first_page_keyword_list = [\n",
    "            keyword for keyword in keyword_insights_dict_list if keyword['first_page_cpc'] >= 2 or keyword['cpc_bid'] <1 and keyword['cost_per_target'] < original_cpa\n",
    "        ]\n",
    "        first_page_keyword_list = [\n",
    "             keyword for keyword in first_page_keyword_list if keyword not in position_keyword_list\n",
    "        ]\n",
    "        adjust_init_bids(position_keyword_list, 1.25)\n",
    "        adjust_init_bids(first_page_keyword_list, 1.25)\n",
    "        modify_opt_result_db(campaign_id , True)\n",
    "\n",
    "    elif 0 <= achieving_rate < 1 and spend < 0.8 * daily_budget:\n",
    "        print('[handle_initial_bids][spend]: lower daily_budget')\n",
    "        print('[handle_initial_bids][target]: lower daily_target')\n",
    "        adjust_init_bids(keyword_insights_dict_list, 1.25)\n",
    "        modify_opt_result_db(campaign_id , False)\n",
    "        return\n",
    "\n",
    "    elif 0 <= achieving_rate < 1 and spend >= 1.5 * daily_budget:\n",
    "        print('[handle_initial_bids][spend]: over daily_budget')\n",
    "        print('[handle_initial_bids][target]: lower daily_target')\n",
    "        adjust_init_bids(keyword_insights_dict_list, 0.75)\n",
    "        modify_opt_result_db(campaign_id , True)"
   ]
  },
  {
   "cell_type": "code",
   "execution_count": 9,
   "metadata": {
    "scrolled": true
   },
   "outputs": [
    {
     "name": "stdout",
     "output_type": "stream",
     "text": [
      "current time:  2019-08-16 10:45:18.447367\n",
      "[optimize_performance_campaign]: campaign_id_list []\n",
      "[optimize_branding_campaign]: campaign_id_list [2082826068, 1973767370, 6447481810, 6447481813, 6447481816]\n",
      "[optimize_branding_campaign] campaign_id 2082826068\n",
      "[optimize_branding_campaign]  original_cpa: 200.0\n",
      "[get_media_token_by_queryid] token_dic {'credential_id': '664346892453-n9vq0h8lppobp10jfq3tv8f1vkembs0q.apps.googleusercontent.com', 'credential_secret': 'JJxPNzva1axzUulKVUoi-6Du', 'credential_token': '', 'credential_developer_token': 'OteLlPsJQdjV9ph_NzdODg', 'credential_refresh_token': '1/O7rTXFVKqpcylF8t23E5cI6rR00Nu-SzUXl6YaJ6Ios', 'name': 'Aaron Chen-google-103203740430436483221'}\n",
      "[get_media_token_by_queryid] token_dic {'credential_id': '664346892453-n9vq0h8lppobp10jfq3tv8f1vkembs0q.apps.googleusercontent.com', 'credential_secret': 'JJxPNzva1axzUulKVUoi-6Du', 'credential_token': '', 'credential_developer_token': 'OteLlPsJQdjV9ph_NzdODg', 'credential_refresh_token': '1/O7rTXFVKqpcylF8t23E5cI6rR00Nu-SzUXl6YaJ6Ios', 'name': 'Aaron Chen-google-103203740430436483221'}\n",
      "[optimize_branding_campaign] campaign_day_insights_dict [{'customer_id': 7847536852, 'campaign_id': 2082826068, 'average_position': 2.9, 'channel_type': 'Search', 'status': 'enabled', 'bidding_type': 'cpc', 'daily_budget': 1000.0, 'start_time': '2019-07-31', 'stop_time': ' --', 'spend': 0.0, 'cost_per_target': 0.0, 'impressions': 473, 'clicks': 0, 'conversions': 0.0, 'all_conversions': 0.0, 'cost_per_click': 0.0, 'cost_per_conversion': 0.0, 'cost_per_all_conversion': 0.0, 'ctr': 0.0}]\n",
      "[optimize_branding_campaign][achieving rate] 0.0 [target] 0 [daily_target] 46.0\n",
      "[get_media_token_by_queryid] token_dic {'credential_id': '664346892453-n9vq0h8lppobp10jfq3tv8f1vkembs0q.apps.googleusercontent.com', 'credential_secret': 'JJxPNzva1axzUulKVUoi-6Du', 'credential_token': '', 'credential_developer_token': 'OteLlPsJQdjV9ph_NzdODg', 'credential_refresh_token': '1/O7rTXFVKqpcylF8t23E5cI6rR00Nu-SzUXl6YaJ6Ios', 'name': 'Aaron Chen-google-103203740430436483221'}\n",
      "3\n",
      "[adjust_init_bids] target not enough.\n",
      "[optimize_branding_campaign] campaign_id 1973767370\n",
      "[optimize_branding_campaign]  original_cpa: 500.0\n",
      "[get_media_token_by_queryid] token_dic {'credential_id': '664346892453-n9vq0h8lppobp10jfq3tv8f1vkembs0q.apps.googleusercontent.com', 'credential_secret': 'JJxPNzva1axzUulKVUoi-6Du', 'credential_token': '', 'credential_developer_token': 'OteLlPsJQdjV9ph_NzdODg', 'credential_refresh_token': '1/EfKG2DKG6tP6OaWSdi67LPt4Hlm1-7Hdc7YtYXrCYO8bKIEadJ0sDT46fe1tpwok', 'name': '程俊昇-google-108635754076865825305'}\n",
      "[get_media_token_by_queryid] token_dic {'credential_id': '664346892453-n9vq0h8lppobp10jfq3tv8f1vkembs0q.apps.googleusercontent.com', 'credential_secret': 'JJxPNzva1axzUulKVUoi-6Du', 'credential_token': '', 'credential_developer_token': 'OteLlPsJQdjV9ph_NzdODg', 'credential_refresh_token': '1/EfKG2DKG6tP6OaWSdi67LPt4Hlm1-7Hdc7YtYXrCYO8bKIEadJ0sDT46fe1tpwok', 'name': '程俊昇-google-108635754076865825305'}\n",
      "[gsn_datacollector.Campaign.get_performance_insights]:  CAMPAIGN 0\n",
      "[optimize_branding_campaign] campaign_day_insights_dict []\n",
      "[optimize_branding_campaign] campaign_id 6447481810\n",
      "[optimize_branding_campaign]  original_cpa: 12.02659574468085\n",
      "[get_media_token_by_queryid] token_dic {'credential_id': '383662757090-j7mjkvtt22dp44ae08l8ns4a1qu1jaq2.apps.googleusercontent.com', 'credential_secret': 'DC84vPzbgnKhkpmVO7htA46h', 'credential_token': None, 'credential_developer_token': 'OteLlPsJQdjV9ph_NzdODg', 'credential_refresh_token': '1/3ox-mppBSpSLb3GjiWKbE8Q2CRmAmNfWFIHwkbkiL-0', 'name': 'AntMan Google Credential'}\n",
      "[get_media_token_by_queryid] token_dic {'credential_id': '383662757090-j7mjkvtt22dp44ae08l8ns4a1qu1jaq2.apps.googleusercontent.com', 'credential_secret': 'DC84vPzbgnKhkpmVO7htA46h', 'credential_token': None, 'credential_developer_token': 'OteLlPsJQdjV9ph_NzdODg', 'credential_refresh_token': '1/3ox-mppBSpSLb3GjiWKbE8Q2CRmAmNfWFIHwkbkiL-0', 'name': 'AntMan Google Credential'}\n",
      "[optimize_branding_campaign] campaign_day_insights_dict [{'customer_id': 2042877296, 'campaign_id': 6447481810, 'average_position': 1.2, 'channel_type': 'Search', 'status': 'enabled', 'bidding_type': 'cpc', 'daily_budget': 323.0, 'start_time': '2019-08-13', 'stop_time': '2019-09-12', 'spend': 23.29, 'cost_per_target': 7.763333, 'impressions': 82, 'clicks': 3, 'conversions': 0.0, 'all_conversions': 0.0, 'cost_per_click': 7.763333, 'cost_per_conversion': 0.0, 'cost_per_all_conversion': 0.0, 'ctr': 3.66}]\n",
      "[optimize_branding_campaign][achieving rate] 0.06557377049180328 [target] 3 [daily_target] 45.75\n",
      "[get_media_token_by_queryid] token_dic {'credential_id': '383662757090-j7mjkvtt22dp44ae08l8ns4a1qu1jaq2.apps.googleusercontent.com', 'credential_secret': 'DC84vPzbgnKhkpmVO7htA46h', 'credential_token': None, 'credential_developer_token': 'OteLlPsJQdjV9ph_NzdODg', 'credential_refresh_token': '1/3ox-mppBSpSLb3GjiWKbE8Q2CRmAmNfWFIHwkbkiL-0', 'name': 'AntMan Google Credential'}\n",
      "3\n",
      "[adjust_init_bids] target not enough.\n",
      "[optimize_branding_campaign] campaign_id 6447481813\n",
      "[optimize_branding_campaign]  original_cpa: 12.02659574468085\n",
      "[get_media_token_by_queryid] token_dic {'credential_id': '383662757090-j7mjkvtt22dp44ae08l8ns4a1qu1jaq2.apps.googleusercontent.com', 'credential_secret': 'DC84vPzbgnKhkpmVO7htA46h', 'credential_token': None, 'credential_developer_token': 'OteLlPsJQdjV9ph_NzdODg', 'credential_refresh_token': '1/3ox-mppBSpSLb3GjiWKbE8Q2CRmAmNfWFIHwkbkiL-0', 'name': 'AntMan Google Credential'}\n",
      "[get_media_token_by_queryid] token_dic {'credential_id': '383662757090-j7mjkvtt22dp44ae08l8ns4a1qu1jaq2.apps.googleusercontent.com', 'credential_secret': 'DC84vPzbgnKhkpmVO7htA46h', 'credential_token': None, 'credential_developer_token': 'OteLlPsJQdjV9ph_NzdODg', 'credential_refresh_token': '1/3ox-mppBSpSLb3GjiWKbE8Q2CRmAmNfWFIHwkbkiL-0', 'name': 'AntMan Google Credential'}\n",
      "[optimize_branding_campaign] campaign_day_insights_dict [{'customer_id': 2042877296, 'campaign_id': 6447481813, 'average_position': 2.9, 'channel_type': 'Search', 'status': 'enabled', 'bidding_type': 'cpc', 'daily_budget': 323.0, 'start_time': '2019-08-13', 'stop_time': '2019-09-12', 'spend': 20.06, 'cost_per_target': 10.03, 'impressions': 366, 'clicks': 2, 'conversions': 0.0, 'all_conversions': 0.0, 'cost_per_click': 10.03, 'cost_per_conversion': 0.0, 'cost_per_all_conversion': 0.0, 'ctr': 0.55}]\n",
      "[optimize_branding_campaign][achieving rate] 0.04371584699453552 [target] 2 [daily_target] 45.75\n",
      "[get_media_token_by_queryid] token_dic {'credential_id': '383662757090-j7mjkvtt22dp44ae08l8ns4a1qu1jaq2.apps.googleusercontent.com', 'credential_secret': 'DC84vPzbgnKhkpmVO7htA46h', 'credential_token': None, 'credential_developer_token': 'OteLlPsJQdjV9ph_NzdODg', 'credential_refresh_token': '1/3ox-mppBSpSLb3GjiWKbE8Q2CRmAmNfWFIHwkbkiL-0', 'name': 'AntMan Google Credential'}\n",
      "3\n",
      "[adjust_init_bids] target not enough.\n",
      "[optimize_branding_campaign] campaign_id 6447481816\n",
      "[optimize_branding_campaign]  original_cpa: 12.02659574468085\n",
      "[get_media_token_by_queryid] token_dic {'credential_id': '383662757090-j7mjkvtt22dp44ae08l8ns4a1qu1jaq2.apps.googleusercontent.com', 'credential_secret': 'DC84vPzbgnKhkpmVO7htA46h', 'credential_token': None, 'credential_developer_token': 'OteLlPsJQdjV9ph_NzdODg', 'credential_refresh_token': '1/3ox-mppBSpSLb3GjiWKbE8Q2CRmAmNfWFIHwkbkiL-0', 'name': 'AntMan Google Credential'}\n",
      "[get_media_token_by_queryid] token_dic {'credential_id': '383662757090-j7mjkvtt22dp44ae08l8ns4a1qu1jaq2.apps.googleusercontent.com', 'credential_secret': 'DC84vPzbgnKhkpmVO7htA46h', 'credential_token': None, 'credential_developer_token': 'OteLlPsJQdjV9ph_NzdODg', 'credential_refresh_token': '1/3ox-mppBSpSLb3GjiWKbE8Q2CRmAmNfWFIHwkbkiL-0', 'name': 'AntMan Google Credential'}\n",
      "[optimize_branding_campaign] campaign_day_insights_dict [{'customer_id': 2042877296, 'campaign_id': 6447481816, 'average_position': 3.8, 'channel_type': 'Search', 'status': 'enabled', 'bidding_type': 'cpc', 'daily_budget': 323.0, 'start_time': '2019-08-13', 'stop_time': '2019-09-12', 'spend': 59.61, 'cost_per_target': 8.515714, 'impressions': 1281, 'clicks': 7, 'conversions': 0.0, 'all_conversions': 0.0, 'cost_per_click': 8.515714, 'cost_per_conversion': 0.0, 'cost_per_all_conversion': 0.0, 'ctr': 0.55}]\n",
      "[optimize_branding_campaign][achieving rate] 0.16279069767441862 [target] 7 [daily_target] 43.0\n",
      "[get_media_token_by_queryid] token_dic {'credential_id': '383662757090-j7mjkvtt22dp44ae08l8ns4a1qu1jaq2.apps.googleusercontent.com', 'credential_secret': 'DC84vPzbgnKhkpmVO7htA46h', 'credential_token': None, 'credential_developer_token': 'OteLlPsJQdjV9ph_NzdODg', 'credential_refresh_token': '1/3ox-mppBSpSLb3GjiWKbE8Q2CRmAmNfWFIHwkbkiL-0', 'name': 'AntMan Google Credential'}\n",
      "3\n",
      "[adjust_init_bids] target not enough.\n",
      "0:00:20.968834\n"
     ]
    }
   ],
   "source": [
    "if __name__==\"__main__\":\n",
    "    start_time = datetime.datetime.now()\n",
    "    print('current time: ', start_time)\n",
    "    optimize_performance_campaign()\n",
    "    optimize_branding_campaign()\n",
    "    print(datetime.datetime.now() - start_time)"
   ]
  },
  {
   "cell_type": "code",
   "execution_count": 2,
   "metadata": {},
   "outputs": [
    {
     "name": "stdout",
     "output_type": "stream",
     "text": [
      "[NbConvertApp] Converting notebook gsn_externals.ipynb to script\n",
      "[NbConvertApp] Writing 11122 bytes to gsn_externals.py\n"
     ]
    }
   ],
   "source": [
    "# !jupyter nbconvert --to script gsn_externals.ipynb"
   ]
  },
  {
   "cell_type": "code",
   "execution_count": 11,
   "metadata": {
    "scrolled": true
   },
   "outputs": [],
   "source": [
    "# [keyword_insights for keyword_insights in keyword_insights_dict_list]"
   ]
  },
  {
   "cell_type": "code",
   "execution_count": null,
   "metadata": {},
   "outputs": [],
   "source": []
  }
 ],
 "metadata": {
  "kernelspec": {
   "display_name": "Python 3",
   "language": "python",
   "name": "python3"
  },
  "language_info": {
   "codemirror_mode": {
    "name": "ipython",
    "version": 3
   },
   "file_extension": ".py",
   "mimetype": "text/x-python",
   "name": "python",
   "nbconvert_exporter": "python",
   "pygments_lexer": "ipython3",
   "version": "3.6.8"
  },
  "varInspector": {
   "cols": {
    "lenName": 16,
    "lenType": 16,
    "lenVar": 40
   },
   "kernels_config": {
    "python": {
     "delete_cmd_postfix": "",
     "delete_cmd_prefix": "del ",
     "library": "var_list.py",
     "varRefreshCmd": "print(var_dic_list())"
    },
    "r": {
     "delete_cmd_postfix": ") ",
     "delete_cmd_prefix": "rm(",
     "library": "var_list.r",
     "varRefreshCmd": "cat(var_dic_list()) "
    }
   },
   "types_to_exclude": [
    "module",
    "function",
    "builtin_function_or_method",
    "instance",
    "_Feature"
   ],
   "window_display": false
  }
 },
 "nbformat": 4,
 "nbformat_minor": 4
}
