{
 "cells": [
  {
   "cell_type": "code",
   "execution_count": 1,
   "metadata": {},
   "outputs": [],
   "source": [
    "import requests\n",
    "import json"
   ]
  },
  {
   "cell_type": "code",
   "execution_count": 2,
   "metadata": {},
   "outputs": [],
   "source": [
    "url = \"https://services.amobee.com/accounts/v1/api/token\"\n",
    "headers = {\"Content-Type\":\"application/json\"}\n",
    "payload = {\n",
    "\"client_id\":\"ad2819a6-5f55-1038-834c-5bbb75af789b@658.api\",\n",
    "\"client_secret\":\"Lmrp3yqrzToo3NM/\",\n",
    "\"grant_type\":\"client_credentials\"\n",
    "}"
   ]
  },
  {
   "cell_type": "code",
   "execution_count": 3,
   "metadata": {},
   "outputs": [],
   "source": [
    "r = requests.post(url, headers=headers, data=json.dumps(payload))"
   ]
  },
  {
   "cell_type": "code",
   "execution_count": 4,
   "metadata": {},
   "outputs": [
    {
     "data": {
      "text/plain": [
       "<Response [200]>"
      ]
     },
     "execution_count": 4,
     "metadata": {},
     "output_type": "execute_result"
    }
   ],
   "source": [
    "r"
   ]
  },
  {
   "cell_type": "code",
   "execution_count": 10,
   "metadata": {},
   "outputs": [],
   "source": [
    "access_token = json.loads(r.text)['access_token']"
   ]
  },
  {
   "cell_type": "code",
   "execution_count": 11,
   "metadata": {},
   "outputs": [
    {
     "data": {
      "text/plain": [
       "'eyJhbGciOiJSUzI1NiIsImtpZCI6IjYzNTZjOTU0YWQ1ZTE2NDJiYjVmYmI1ZDc5ZWY1MDcyMDQyYzZiMjAifQ.eyJpc3MiOiJodHRwczovL29pZGMudW5pdHkuYW1vYmVlLmNvbSIsInN1YiI6IkNpUmhaREk0TVRsaE5pMDFaalUxTFRFd016Z3RPRE0wWXkwMVltSmlOelZoWmpjNE9XSVNCR3hrWVhBIiwiYXVkIjoiZEx5elVXX0t5bThCblFSSmx3Tzk2WVQ0ZEk3R2JNSnBQZUptZ2d6cHZzZz1AYXBwLnVuaXR5LmFtb2JlZS5jb20iLCJleHAiOjE1NDgxNjk1NzUsImlhdCI6MTU0ODEyNjM3NSwiYXRfaGFzaCI6Im1yYWFteXNDQ1BUQ2ZPNzZSekRRNlEiLCJlbWFpbCI6ImFkMjgxOWE2LTVmNTUtMTAzOC04MzRjLTViYmI3NWFmNzg5YkA2NTguYXBpIiwiZW1haWxfdmVyaWZpZWQiOnRydWUsImF1dGhvcml0aWVzIjpbIkFQUF9VTklUWSIsIkFQUF9UVVJOX1BMQVRGT1JNIl0sImVudHJ5VVVJRCI6ImFkMjgxOWE2LTVmNTUtMTAzOC04MzRjLTViYmI3NWFmNzg5YiIsIm5hbWUiOiJhZDI4MTlhNi01ZjU1LTEwMzgtODM0Yy01YmJiNzVhZjc4OWIgNjU4LmFwaSJ9.dkQUNzl0BOpxce1ptFqpY_bEwHWPRKRNCLTGtQVN0cQhEIAtSsKzL5gelFd-xptqBvKcDy7vmeAn4l5Im3dgd2pdkXdisO8SYzENJT6kgT8OMd20h9gA3uY1gys2naLqLfoxhQEkKH4-NDIFnD_HQQ9qvJxys791GG-6vZ_ddO55sNEd_6pLBf72Qjt9-z9BCQJGPqcVH126AVrvNrV0eOFxAoSCvHiSnCssD9M67Co5DXUzikmAaPkK6IkfJxUItVetNQHEsarKWUKDOsjUBQ9JhG1-4i0Dyc1g4jgVs-p8WnHAsYH5fblYgZ2IE17rrcuQy85Mrjt7-h4zmnl_uQ'"
      ]
     },
     "execution_count": 11,
     "metadata": {},
     "output_type": "execute_result"
    }
   ],
   "source": [
    "access_token"
   ]
  },
  {
   "cell_type": "code",
   "execution_count": 12,
   "metadata": {},
   "outputs": [],
   "source": [
    "\n",
    "ioid = 1605762997  "
   ]
  },
  {
   "cell_type": "code",
   "execution_count": 13,
   "metadata": {},
   "outputs": [],
   "source": [
    "url = \"https://services.amobee.com/metadata/v2/api/packages/ioid/%s\" %ioid\n",
    "headers = {\"Authorization\":\"Bearer %s\" %access_token}"
   ]
  },
  {
   "cell_type": "code",
   "execution_count": 14,
   "metadata": {},
   "outputs": [],
   "source": [
    "r = requests.get(url, headers=headers)"
   ]
  },
  {
   "cell_type": "code",
   "execution_count": 15,
   "metadata": {},
   "outputs": [
    {
     "data": {
      "text/plain": [
       "<Response [200]>"
      ]
     },
     "execution_count": 15,
     "metadata": {},
     "output_type": "execute_result"
    }
   ],
   "source": [
    "r"
   ]
  },
  {
   "cell_type": "code",
   "execution_count": 16,
   "metadata": {},
   "outputs": [
    {
     "data": {
      "text/plain": [
       "''"
      ]
     },
     "execution_count": 16,
     "metadata": {},
     "output_type": "execute_result"
    }
   ],
   "source": [
    "r.text"
   ]
  },
  {
   "cell_type": "code",
   "execution_count": 17,
   "metadata": {},
   "outputs": [],
   "source": [
    "advertiserid = 1431829168"
   ]
  },
  {
   "cell_type": "code",
   "execution_count": 18,
   "metadata": {},
   "outputs": [],
   "source": [
    "url = \"https://services.amobee.com/metadata/v2/api/insertionorders/1605762998\"#/%s\" %advertiserid\n",
    "headers = {\"Authorization\":\"Bearer %s\" %access_token}"
   ]
  },
  {
   "cell_type": "code",
   "execution_count": 19,
   "metadata": {},
   "outputs": [],
   "source": [
    "r = requests.get(url, headers=headers)"
   ]
  },
  {
   "cell_type": "code",
   "execution_count": 20,
   "metadata": {},
   "outputs": [
    {
     "data": {
      "text/plain": [
       "<Response [200]>"
      ]
     },
     "execution_count": 20,
     "metadata": {},
     "output_type": "execute_result"
    }
   ],
   "source": [
    "r"
   ]
  },
  {
   "cell_type": "code",
   "execution_count": 21,
   "metadata": {},
   "outputs": [
    {
     "data": {
      "text/plain": [
       "''"
      ]
     },
     "execution_count": 21,
     "metadata": {},
     "output_type": "execute_result"
    }
   ],
   "source": [
    "r.text"
   ]
  },
  {
   "cell_type": "code",
   "execution_count": null,
   "metadata": {},
   "outputs": [],
   "source": []
  }
 ],
 "metadata": {
  "kernelspec": {
   "display_name": "Python 3",
   "language": "python",
   "name": "python3"
  },
  "language_info": {
   "codemirror_mode": {
    "name": "ipython",
    "version": 3
   },
   "file_extension": ".py",
   "mimetype": "text/x-python",
   "name": "python",
   "nbconvert_exporter": "python",
   "pygments_lexer": "ipython3",
   "version": "3.5.2"
  }
 },
 "nbformat": 4,
 "nbformat_minor": 2
}
