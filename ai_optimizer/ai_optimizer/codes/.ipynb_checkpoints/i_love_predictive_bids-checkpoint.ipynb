{
 "cells": [
  {
   "cell_type": "code",
   "execution_count": 1,
   "metadata": {},
   "outputs": [],
   "source": [
    "import mysql_adactivity_save\n",
    "import pandas as pd\n",
    "import facebook_datacollector as datacollector\n",
    "DATABASE = \"dev_facebook_test\"\n",
    "\n",
    "BRANDING_LIST = ['LINK_CLICKS', 'ALL_CLICKS', 'VIDEO_VIEWS', 'REACH', 'IMPRESSIONS']\n",
    "\n",
    "TIME_WINDOW_CONST = 36\n",
    "PREDICT_STEP = 6"
   ]
  },
  {
   "cell_type": "code",
   "execution_count": 2,
   "metadata": {},
   "outputs": [],
   "source": [
    "def make_df_train(df_train):\n",
    "    df_train = pd.concat([df_train.shift(-5),df_train.shift(-4),df_train.shift(-3),df_train.shift(-2),df_train.shift(-1),df_train], axis=1, sort=False)\n",
    "\n",
    "    df_train = df_train.dropna().reset_index(drop=True)\n",
    "    return df_train"
   ]
  },
  {
   "cell_type": "code",
   "execution_count": 3,
   "metadata": {
    "scrolled": true
   },
   "outputs": [],
   "source": [
    "def make_predict():\n",
    "#     %matplotlib inline\n",
    "    df_camp = mysql_adactivity_save.get_campaign_target()\n",
    "    df_branding = df_camp[df_camp['charge_type'].isin( BRANDING_LIST )]\n",
    "    branding_campaign_id_list = df_branding.campaign_id.tolist()\n",
    "    mydb = mysql_adactivity_save.connectDB(DATABASE)\n",
    "    mycursor = mydb.cursor()\n",
    "    print('[campaign_id_list]: ', branding_campaign_id_list)\n",
    "    for campaign_id in branding_campaign_id_list:\n",
    "        print('[campaign id]: ', campaign_id)\n",
    "        insights_sql = \"select campaign_id, bid_amount from campaign_insights where campaign_id={} order by request_time desc limit 1\".format(campaign_id)\n",
    "        df_insights = pd.read_sql( insights_sql , con=mydb )\n",
    "        sql = \"select cost_per_target from campaign_insights where campaign_id={} order by request_time desc limit {}\".format(campaign_id,TIME_WINDOW_CONST)\n",
    "        df = pd.read_sql( sql , con=mydb )\n",
    "        df_train_y = df.head(PREDICT_STEP)\n",
    "        df_train_y = make_df_train(df_train_y)\n",
    "        df.drop(df.head(PREDICT_STEP).index, inplace=True)\n",
    "        if len(df) < TIME_WINDOW_CONST and len(df) >= PREDICT_STEP:\n",
    "            size = len(df.index)//PREDICT_STEP * PREDICT_STEP\n",
    "            df_train_x = df.head(size)\n",
    "            df_train_x = make_df_train(df_train_x)\n",
    "            result = i_love_predict(df_train_x, df_train_y)\n",
    "            df_insights['predict_bids'] = result\n",
    "            mysql_adactivity_save.intoDB(\"campaign_predict_bids\", df_insights)\n",
    "        else:\n",
    "            print('[make_predict]: campaign_id {} not enough data to predict.'.format(campaign_id))\n",
    "    mydb.close()\n",
    "    mycursor.close()"
   ]
  },
  {
   "cell_type": "code",
   "execution_count": 4,
   "metadata": {},
   "outputs": [],
   "source": [
    "# %matplotlib inline\n",
    "def i_love_predict(df_train_x, df_train_y):\n",
    "    import matplotlib.pyplot as plt\n",
    "    import numpy as np\n",
    "    from sklearn import linear_model\n",
    "    from sklearn.metrics import mean_squared_error, r2_score\n",
    "    regr = linear_model.Ridge(alpha=0.1)\n",
    "    regr.fit(df_train_x.iloc[0].as_matrix().reshape(-1,1), df_train_y.iloc[0].as_matrix().reshape(-1,1))\n",
    "    df_y_pred = regr.predict(df_train_y['cost_per_target'].iloc[0].as_matrix().reshape(-1, 1))\n",
    "    plt.plot([i for i in range(12)],\n",
    "             df_train_x['cost_per_target'].iloc[0].as_matrix().reshape(1,-1)[0].tolist() + df_y_pred.reshape(1,-1)[0].tolist(),\n",
    "             color='blue', linewidth=3)\n",
    "\n",
    "    plt.xticks(())\n",
    "    plt.yticks()\n",
    "\n",
    "    plt.show()\n",
    "    return str(df_y_pred.reshape(1,-1)[0].tolist())"
   ]
  },
  {
   "cell_type": "code",
   "execution_count": 5,
   "metadata": {
    "scrolled": false
   },
   "outputs": [
    {
     "name": "stdout",
     "output_type": "stream",
     "text": [
      "[campaign_id_list]:  [23843358370700576, 23843546765400616, 23843431154770620, 23843584924490768, 23843460479780395]\n",
      "[campaign id]:  23843358370700576\n"
     ]
    },
    {
     "name": "stderr",
     "output_type": "stream",
     "text": [
      "/home/tim_su/.local/lib/python3.6/site-packages/ipykernel_launcher.py:8: FutureWarning: Method .as_matrix will be removed in a future version. Use .values instead.\n",
      "  \n",
      "/home/tim_su/.local/lib/python3.6/site-packages/ipykernel_launcher.py:9: FutureWarning: Method .as_matrix will be removed in a future version. Use .values instead.\n",
      "  if __name__ == '__main__':\n",
      "/home/tim_su/.local/lib/python3.6/site-packages/ipykernel_launcher.py:11: FutureWarning: Method .as_matrix will be removed in a future version. Use .values instead.\n",
      "  # This is added back by InteractiveShellApp.init_path()\n"
     ]
    },
    {
     "data": {
      "image/png": "[encoded data removed]",
      "text/plain": [
       "<Figure size 432x288 with 1 Axes>"
      ]
     },
     "metadata": {
      "needs_background": "light"
     },
     "output_type": "display_data"
    },
    {
     "name": "stdout",
     "output_type": "stream",
     "text": [
      "[campaign id]:  23843546765400616\n"
     ]
    },
    {
     "name": "stderr",
     "output_type": "stream",
     "text": [
      "/home/tim_su/.local/lib/python3.6/site-packages/ipykernel_launcher.py:8: FutureWarning: Method .as_matrix will be removed in a future version. Use .values instead.\n",
      "  \n",
      "/home/tim_su/.local/lib/python3.6/site-packages/ipykernel_launcher.py:9: FutureWarning: Method .as_matrix will be removed in a future version. Use .values instead.\n",
      "  if __name__ == '__main__':\n",
      "/home/tim_su/.local/lib/python3.6/site-packages/ipykernel_launcher.py:11: FutureWarning: Method .as_matrix will be removed in a future version. Use .values instead.\n",
      "  # This is added back by InteractiveShellApp.init_path()\n"
     ]
    },
    {
     "data": {
      "image/png": "[encoded data removed]",
      "text/plain": [
       "<Figure size 432x288 with 1 Axes>"
      ]
     },
     "metadata": {
      "needs_background": "light"
     },
     "output_type": "display_data"
    },
    {
     "name": "stdout",
     "output_type": "stream",
     "text": [
      "[campaign id]:  23843431154770620\n",
      "[make_predict]: campaign_id 23843431154770620 not enough data to predict.\n",
      "[campaign id]:  23843584924490768\n",
      "[make_predict]: campaign_id 23843584924490768 not enough data to predict.\n",
      "[campaign id]:  23843460479780395\n",
      "[make_predict]: campaign_id 23843460479780395 not enough data to predict.\n"
     ]
    }
   ],
   "source": [
    "# %matplotlib inline\n",
    "if __name__ == '__main__':\n",
    "    make_predict()"
   ]
  },
  {
   "cell_type": "code",
   "execution_count": 7,
   "metadata": {},
   "outputs": [
    {
     "name": "stdout",
     "output_type": "stream",
     "text": [
      "[NbConvertApp] Converting notebook i_love_predictive_bids.ipynb to script\n",
      "[NbConvertApp] Writing 3179 bytes to i_love_predictive_bids.py\n"
     ]
    }
   ],
   "source": [
    "#!jupyter nbconvert --to script i_love_predictive_bids.ipynb"
   ]
  },
  {
   "cell_type": "code",
   "execution_count": null,
   "metadata": {},
   "outputs": [],
   "source": []
  }
 ],
 "metadata": {
  "kernelspec": {
   "display_name": "Python 3",
   "language": "python",
   "name": "python3"
  },
  "language_info": {
   "codemirror_mode": {
    "name": "ipython",
    "version": 3
   },
   "file_extension": ".py",
   "mimetype": "text/x-python",
   "name": "python",
   "nbconvert_exporter": "python",
   "pygments_lexer": "ipython3",
   "version": "3.6.7"
  },
  "varInspector": {
   "cols": {
    "lenName": 16,
    "lenType": 16,
    "lenVar": 40
   },
   "kernels_config": {
    "python": {
     "delete_cmd_postfix": "",
     "delete_cmd_prefix": "del ",
     "library": "var_list.py",
     "varRefreshCmd": "print(var_dic_list())"
    },
    "r": {
     "delete_cmd_postfix": ") ",
     "delete_cmd_prefix": "rm(",
     "library": "var_list.r",
     "varRefreshCmd": "cat(var_dic_list()) "
    }
   },
   "types_to_exclude": [
    "module",
    "function",
    "builtin_function_or_method",
    "instance",
    "_Feature"
   ],
   "window_display": false
  }
 },
 "nbformat": 4,
 "nbformat_minor": 2
}
