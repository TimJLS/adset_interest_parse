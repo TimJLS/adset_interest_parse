{
 "cells": [
  {
   "cell_type": "code",
   "execution_count": 34,
   "metadata": {},
   "outputs": [
    {
     "data": {
      "text/plain": [
       "<facebook_business.api.FacebookAdsApi at 0x7f0f0278a630>"
      ]
     },
     "execution_count": 34,
     "metadata": {},
     "output_type": "execute_result"
    }
   ],
   "source": [
    "import facebook_business.adobjects.adset as facebook_business_adset\n",
    "import facebook_business.adobjects.campaign as facebook_business_campaign\n",
    "import facebook_business.adobjects.adaccount as facebook_business_adaccount\n",
    "import facebook_business.adobjects.customaudience as facebook_business_custom_audience\n",
    "\n",
    "from facebook_business.api import FacebookAdsApi\n",
    "import facebook_datacollector as collector\n",
    "import mysql_adactivity_save as mysql_saver\n",
    "\n",
    "import pandas as pd\n",
    "import datetime\n",
    "my_app_id = '958842090856883'\n",
    "my_app_secret = 'a952f55afca38572cea2994d440d674b'\n",
    "my_access_token = 'EAANoD9I4obMBALrHTgMWgRujnWcZA3ZB823phs6ynDDtQxnzIZASyRQZCHfr5soXBZA7NM9Dc4j9O8FtnlIzxiPCsYt4tmPQ6ZAT3yJLPuYQqjnWZBWX5dsOVzNhEqsHYj1jVJ3RAVVueW7RSxRDbNXKvK3W23dcAjNMjxIjQGIOgZDZD'\n",
    "\n",
    "FacebookAdsApi.init(my_app_id, my_app_secret, my_access_token)\n"
   ]
  },
  {
   "cell_type": "code",
   "execution_count": 26,
   "metadata": {},
   "outputs": [],
   "source": [
    "def get_lookalike_not_used(campaign_id):\n",
    "    # check has already process this campaign first\n",
    "    save_campaign_pixel_id(campaign_id)\n",
    "    \n",
    "    df_not_processed_lookalike = get_not_processed_lookalike_df(campaign_id)\n",
    "    if df_not_processed_lookalike.empty:\n",
    "        print('[get_lookalike_not_used] df_saved_pixel_id None')\n",
    "        return\n",
    "    print('[get_lookalike_not_used] df_saved_pixel_id len:', len(df_not_processed_lookalike))\n",
    "    print(df_not_processed_lookalike.behavior_type.tolist())\n",
    "    print('--')\n",
    "    return df_not_processed_lookalike"
   ]
  },
  {
   "cell_type": "code",
   "execution_count": null,
   "metadata": {},
   "outputs": [],
   "source": [
    "def get_existing_lookalike(campaign_id):\n",
    "    \n",
    "    return"
   ]
  },
  {
   "cell_type": "code",
   "execution_count": 30,
   "metadata": {},
   "outputs": [],
   "source": [
    "def modify_result_db(campaign_id, lookalike_audience_id, is_lookalike_in_adset):\n",
    "    #get date\n",
    "    opt_date = datetime.datetime.now()\n",
    "    #insert to table date and Ture for is_opt\n",
    "    sql = \"update campaign_pixel_id set is_lookalike_in_adset='{}', updated_at='{}' where campaign_id={} and lookalike_audience_id={}\".format(is_lookalike_in_adset, opt_date, campaign_id, lookalike_audience_id)\n",
    "    mydb = mysql_saver.connectDB(mysql_saver.DATABASE)\n",
    "    mycursor = mydb.cursor()\n",
    "    mycursor.execute(sql)\n",
    "    mydb.commit()\n",
    "    mydb.close()"
   ]
  },
  {
   "cell_type": "code",
   "execution_count": 32,
   "metadata": {},
   "outputs": [],
   "source": [
    "def get_lookalike_audience_id(campaign_id):\n",
    "    lookalike_audience_dict = dict()\n",
    "    my_db = mysql_saver.connectDB(mysql_saver.DATABASE)\n",
    "    my_cursor = my_db.cursor()\n",
    "    sql = \"SELECT behavior_type, lookalike_audience_id FROM campaign_pixel_id WHERE campaign_id={} AND is_lookalike_in_adset='False'\".format(campaign_id)\n",
    "    my_cursor.execute(sql)\n",
    "    results = my_cursor.fetchall()\n",
    "    for (behavior_type, audience_id) in results:\n",
    "        lookalike_audience_dict[behavior_type] = audience_id\n",
    "    my_db.commit()\n",
    "    my_cursor.close()\n",
    "    my_db.close()\n",
    "    return lookalike_audience_dict"
   ]
  },
  {
   "cell_type": "code",
   "execution_count": 2,
   "metadata": {},
   "outputs": [],
   "source": [
    "def is_lookalike_created(campaign_id):\n",
    "    my_db = mysql_saver.connectDB(mysql_saver.DATABASE)\n",
    "    my_cursor = my_db.cursor()\n",
    "    sql = 'SELECT * FROM campaign_pixel_id where campaign_id = {}'.format(campaign_id)\n",
    "    my_cursor.execute(sql)\n",
    "    result = my_cursor.fetchall()\n",
    "    my_db.commit()\n",
    "    my_cursor.close()\n",
    "    my_db.close()\n",
    "    return len(result) > 0"
   ]
  },
  {
   "cell_type": "code",
   "execution_count": 3,
   "metadata": {},
   "outputs": [],
   "source": [
    "def create_lookalike_custom_audience(account_id, campaign_id, behavior_type, audience_id):\n",
    "\n",
    "    lookalike = facebook_business_custom_audience.CustomAudience(parent_id='act_'+account_id)\n",
    "    lookalike.update({\n",
    "        facebook_business_custom_audience.CustomAudience.Field.name: 'My lookalike audience for {}'.format(behavior_type),\n",
    "        facebook_business_custom_audience.CustomAudience.Field.subtype: facebook_business_custom_audience.CustomAudience.Subtype.lookalike,\n",
    "        facebook_business_custom_audience.CustomAudience.Field.origin_audience_id: audience_id,\n",
    "        facebook_business_custom_audience.CustomAudience.Field.lookalike_spec: {\n",
    "            'type': 'similarity',\n",
    "            'country': 'TW',\n",
    "        },\n",
    "    })\n",
    "    resp = lookalike.remote_create()\n",
    "    lookalike_audience_id = resp.get(\"id\")\n",
    "    print('==========[lookalike response]')\n",
    "    print(resp)\n",
    "    my_db = mysql_saver.connectDB(mysql_saver.DATABASE)\n",
    "    my_cursor = my_db.cursor(buffered=True)\n",
    "    update_sql = (\"UPDATE campaign_pixel_id SET is_created='{}', lookalike_audience_id={} WHERE campaign_id={} AND behavior_type='{}'\".format( True, lookalike_audience_id, campaign_id, behavior_type ) )\n",
    "    my_cursor.execute(update_sql)\n",
    "    my_db.commit()\n",
    "    \n",
    "    return"
   ]
  },
  {
   "cell_type": "code",
   "execution_count": 4,
   "metadata": {},
   "outputs": [],
   "source": [
    "def create_campaign_custom_audience_by_pixel(campaign_id):\n",
    "    campaign = facebook_business_campaign.Campaign(campaign_id)\n",
    "    campaign_object = campaign.get_insights(\n",
    "        fields = [facebook_business_campaign.Campaign.Field.account_id] )\n",
    "    account_id = campaign_object[0].get(\"account_id\")    \n",
    "    \n",
    "    my_db = mysql_saver.connectDB(mysql_saver.DATABASE)\n",
    "    my_cursor = my_db.cursor(buffered=True)\n",
    "    sql = \"SELECT * FROM campaign_pixel_id WHERE campaign_id = {} AND is_created='False'\".format(campaign_id)\n",
    "    df_not_opted_pixel_id = pd.read_sql(sql, con=my_db)\n",
    "    df_not_opted_pixel_id = df_not_opted_pixel_id.dropna(subset=['pixel_id'])\n",
    "    if df_not_opted_pixel_id.empty:\n",
    "        print('[create_campaign_custom_audience_by_pixel]: all custom audience is created.')\n",
    "        return\n",
    "    for pixel_id in df_not_opted_pixel_id['pixel_id'].unique().tolist():\n",
    "        event_sources = [{\n",
    "            \"id\": pixel_id,\n",
    "            \"type\": \"pixel\"\n",
    "        }]\n",
    "        for behavior_type in df_not_opted_pixel_id['behavior_type'].tolist():\n",
    "            filters = [{\n",
    "                \"field\": \"event\",\n",
    "                \"operator\": \"=\",\n",
    "                \"value\": behavior_type,\n",
    "            }]\n",
    "            filter = {\n",
    "                \"operator\": \"or\",\n",
    "                \"filters\": filters,\n",
    "            }\n",
    "            fields = []\n",
    "            params = {\n",
    "                'name': 'My {} Custom Audience'.format(behavior_type),\n",
    "                \"operator\" : \"and\",\n",
    "                'rule': {\n",
    "                    \"inclusions\": {\n",
    "                        \"operator\": \"or\",\n",
    "                        \"rules\":[{\n",
    "                            \"event_sources\": event_sources, \n",
    "                            \"retention_seconds\" : 2592000,\n",
    "                            \"filter\": filter,\n",
    "                            \"aggregation\" : {\n",
    "                                \"type\":\"count\",\n",
    "                                \"operator\":\">\",\n",
    "                                \"value\":1\n",
    "                            }\n",
    "                        }]\n",
    "                    }\n",
    "                }\n",
    "            }\n",
    "            resp = facebook_business_adaccount.AdAccount('act_'+account_id).create_custom_audience(\n",
    "                fields=fields,\n",
    "                params=params,\n",
    "            )\n",
    "            print('==================[custom]')\n",
    "            print(resp)\n",
    "            audience_id = resp.get(\"id\")\n",
    "            \n",
    "            create_lookalike_custom_audience(account_id, campaign_id, behavior_type, audience_id)\n",
    "            \n",
    "            update_sql = (\"UPDATE campaign_pixel_id SET is_created='{}', audience_id={} WHERE campaign_id={} AND behavior_type='{}'\".format( True, audience_id, campaign_id, behavior_type ) )\n",
    "            my_cursor.execute(update_sql)\n",
    "            my_db.commit()\n",
    "    my_cursor.close()\n",
    "    my_db.close()\n",
    "    return"
   ]
  },
  {
   "cell_type": "code",
   "execution_count": 18,
   "metadata": {},
   "outputs": [],
   "source": [
    "def get_not_processed_lookalike_df(campaign_id):\n",
    "    my_db = mysql_saver.connectDB(mysql_saver.DATABASE)\n",
    "    sql = \"SELECT * FROM campaign_pixel_id WHERE campaign_id={} AND is_lookalike_in_adset='False'\".format(campaign_id)\n",
    "    df_saved_pixel_id = pd.read_sql(sql, con=my_db)\n",
    "    my_db.close()\n",
    "    return df_saved_pixel_id"
   ]
  },
  {
   "cell_type": "code",
   "execution_count": 17,
   "metadata": {},
   "outputs": [],
   "source": [
    "def get_processed_lookalike_df(campaign_id):\n",
    "    my_db = mysql_saver.connectDB(mysql_saver.DATABASE)\n",
    "    sql = \"SELECT * FROM campaign_pixel_id WHERE campaign_id={} AND is_lookalike_in_adset='True'\".format(campaign_id)\n",
    "    df_saved_pixel_id = pd.read_sql(sql, con=my_db)\n",
    "    my_db.close()\n",
    "    return df_saved_pixel_id"
   ]
  },
  {
   "cell_type": "code",
   "execution_count": 10,
   "metadata": {},
   "outputs": [],
   "source": [
    "def save_campaign_pixel_id(campaign_id):\n",
    "    CONVERSION_BEHAVIOR_LIST = ['Purchase', 'AddToCart', 'ViewContent']\n",
    "    campaign = facebook_business_campaign.Campaign(campaign_id)\n",
    "    campaign_object = campaign.get_ad_sets(\n",
    "        fields = [facebook_business_adset.AdSet.Field.id, facebook_business_adset.AdSet.Field.status,] )\n",
    "    active_adset_id_list = [adset_object.get(\"id\") for adset_object in campaign_object if adset_object.get(\"status\")=='ACTIVE']\n",
    "    adset = facebook_business_adset.AdSet(int(active_adset_id_list[0]))\n",
    "    adset_object = adset.remote_read( fields=['promoted_object'] )\n",
    "    promoted_object = adset_object.get(\"promoted_object\")\n",
    "    pixel_id = promoted_object.get(\"pixel_id\") if promoted_object else None\n",
    "    if pixel_id is None:\n",
    "        return\n",
    "    \n",
    "    my_db = mysql_saver.connectDB(mysql_saver.DATABASE)\n",
    "    my_cursor = my_db.cursor()\n",
    "    for behavior_type in CONVERSION_BEHAVIOR_LIST:\n",
    "        print('[process_campaign_funnel_lookalike]', campaign_id, behavior_type, pixel_id, 'False')\n",
    "        sql = \"INSERT IGNORE INTO campaign_pixel_id ( campaign_id, behavior_type, pixel_id, is_created ) VALUES ( %s, %s, %s, %s )\"\n",
    "        val = ( campaign_id, behavior_type, pixel_id, 'False')\n",
    "        my_cursor.execute(sql, val)\n",
    "        my_db.commit()    \n",
    "    my_cursor.close()\n",
    "    my_db.close()\n",
    "    return"
   ]
  },
  {
   "cell_type": "code",
   "execution_count": 11,
   "metadata": {},
   "outputs": [],
   "source": [
    "def save_pixel_id_for_all_campaign():\n",
    "    running_campaign_id_list = mysql_saver.get_campaign_target().campaign_id.tolist()\n",
    "    conversion_campaign_id_list = mysql_saver.get_running_conversion_campaign().campaign_id.tolist()\n",
    "    print('[save_pixel_id_for_all_campaign] current running campaign:', len(running_campaign_id_list), running_campaign_id_list )\n",
    "    for campaign_id in running_campaign_id_list:\n",
    "        print('[save_pixel_id_for_all_campaign] campaign_id:', campaign_id)\n",
    "        save_campaign_pixel_id(campaign_id)\n",
    "    print('[save_pixel_id_for_all_campaign] current conversion campaign:', len(running_campaign_id_list), running_campaign_id_list )\n",
    "    for campaign_id in conversion_campaign_id_list:\n",
    "        print('[save_pixel_id_for_all_campaign] conveersion campaign_id:', campaign_id)\n",
    "        create_campaign_custom_audience_by_pixel(campaign_id)"
   ]
  },
  {
   "cell_type": "code",
   "execution_count": 8,
   "metadata": {},
   "outputs": [],
   "source": [
    "def main():\n",
    "    save_pixel_id_for_all_campaign()"
   ]
  },
  {
   "cell_type": "code",
   "execution_count": 9,
   "metadata": {
    "scrolled": true
   },
   "outputs": [
    {
     "name": "stdout",
     "output_type": "stream",
     "text": [
      "[save_pixel_id_for_all_campaign] current running campaign: 10 [23843467729120098, 23843358370700576, 23843546765400616, 23843346060540647, 23843484377040702, 23843494059550273, 23843431154770620, 23843584947050768, 23843584924490768, 23843460479780395]\n",
      "[save_pixel_id_for_all_campaign] campaign_id: 23843467729120098\n",
      "[process_campaign_funnel_lookalike] 23843467729120098 Purchase 382613745622159 False\n",
      "[process_campaign_funnel_lookalike] 23843467729120098 AddToCart 382613745622159 False\n",
      "[process_campaign_funnel_lookalike] 23843467729120098 ViewContent 382613745622159 False\n",
      "[save_pixel_id_for_all_campaign] campaign_id: 23843358370700576\n",
      "[process_campaign_funnel_lookalike] 23843358370700576 Purchase None False\n",
      "[process_campaign_funnel_lookalike] 23843358370700576 AddToCart None False\n",
      "[process_campaign_funnel_lookalike] 23843358370700576 ViewContent None False\n",
      "[save_pixel_id_for_all_campaign] campaign_id: 23843546765400616\n",
      "[process_campaign_funnel_lookalike] 23843546765400616 Purchase None False\n",
      "[process_campaign_funnel_lookalike] 23843546765400616 AddToCart None False\n",
      "[process_campaign_funnel_lookalike] 23843546765400616 ViewContent None False\n",
      "[save_pixel_id_for_all_campaign] campaign_id: 23843346060540647\n",
      "[process_campaign_funnel_lookalike] 23843346060540647 Purchase 2063636910516817 False\n",
      "[process_campaign_funnel_lookalike] 23843346060540647 AddToCart 2063636910516817 False\n",
      "[process_campaign_funnel_lookalike] 23843346060540647 ViewContent 2063636910516817 False\n",
      "[save_pixel_id_for_all_campaign] campaign_id: 23843484377040702\n",
      "[process_campaign_funnel_lookalike] 23843484377040702 Purchase 1229125743834035 False\n",
      "[process_campaign_funnel_lookalike] 23843484377040702 AddToCart 1229125743834035 False\n",
      "[process_campaign_funnel_lookalike] 23843484377040702 ViewContent 1229125743834035 False\n",
      "[save_pixel_id_for_all_campaign] campaign_id: 23843494059550273\n",
      "[process_campaign_funnel_lookalike] 23843494059550273 Purchase None False\n",
      "[process_campaign_funnel_lookalike] 23843494059550273 AddToCart None False\n",
      "[process_campaign_funnel_lookalike] 23843494059550273 ViewContent None False\n",
      "[save_pixel_id_for_all_campaign] campaign_id: 23843431154770620\n",
      "[process_campaign_funnel_lookalike] 23843431154770620 Purchase None False\n",
      "[process_campaign_funnel_lookalike] 23843431154770620 AddToCart None False\n",
      "[process_campaign_funnel_lookalike] 23843431154770620 ViewContent None False\n",
      "[save_pixel_id_for_all_campaign] campaign_id: 23843584947050768\n",
      "[process_campaign_funnel_lookalike] 23843584947050768 Purchase None False\n",
      "[process_campaign_funnel_lookalike] 23843584947050768 AddToCart None False\n",
      "[process_campaign_funnel_lookalike] 23843584947050768 ViewContent None False\n",
      "[save_pixel_id_for_all_campaign] campaign_id: 23843584924490768\n",
      "[process_campaign_funnel_lookalike] 23843584924490768 Purchase None False\n",
      "[process_campaign_funnel_lookalike] 23843584924490768 AddToCart None False\n",
      "[process_campaign_funnel_lookalike] 23843584924490768 ViewContent None False\n",
      "[save_pixel_id_for_all_campaign] campaign_id: 23843460479780395\n",
      "[process_campaign_funnel_lookalike] 23843460479780395 Purchase None False\n",
      "[process_campaign_funnel_lookalike] 23843460479780395 AddToCart None False\n",
      "[process_campaign_funnel_lookalike] 23843460479780395 ViewContent None False\n",
      "[create_campaign_custom_audience_by_pixel]: all custom audience is created.\n"
     ]
    },
    {
     "name": "stderr",
     "output_type": "stream",
     "text": [
      "/home/tim_su/.local/lib/python3.6/site-packages/facebook_business/utils/api_utils.py:30: UserWarning: value of rule might not be compatible.  Expect string;  got <class 'dict'>\n",
      "  warnings.warn(message)\n",
      "WARNING:root:parent_id as a parameter of constructor is being deprecated.\n"
     ]
    },
    {
     "name": "stdout",
     "output_type": "stream",
     "text": [
      "==================[custom]\n",
      "<CustomAudience> {\n",
      "    \"id\": \"23843443336040647\"\n",
      "}\n"
     ]
    },
    {
     "name": "stderr",
     "output_type": "stream",
     "text": [
      "/home/tim_su/.local/lib/python3.6/site-packages/facebook_business/utils/api_utils.py:30: UserWarning: value of lookalike_spec might not be compatible.  Expect string;  got <class 'dict'>\n",
      "  warnings.warn(message)\n"
     ]
    },
    {
     "name": "stdout",
     "output_type": "stream",
     "text": [
      "==========[lookalike response]\n",
      "<CustomAudience> {\n",
      "    \"id\": \"23843443336170647\",\n",
      "    \"lookalike_spec\": {\n",
      "        \"country\": \"TW\",\n",
      "        \"type\": \"similarity\"\n",
      "    },\n",
      "    \"name\": \"My lookalike audience for Purchase\",\n",
      "    \"origin_audience_id\": \"23843443336040647\",\n",
      "    \"subtype\": \"LOOKALIKE\"\n",
      "}\n"
     ]
    },
    {
     "name": "stderr",
     "output_type": "stream",
     "text": [
      "WARNING:root:parent_id as a parameter of constructor is being deprecated.\n"
     ]
    },
    {
     "name": "stdout",
     "output_type": "stream",
     "text": [
      "==================[custom]\n",
      "<CustomAudience> {\n",
      "    \"id\": \"23843443336200647\"\n",
      "}\n",
      "==========[lookalike response]\n",
      "<CustomAudience> {\n",
      "    \"id\": \"23843443336210647\",\n",
      "    \"lookalike_spec\": {\n",
      "        \"country\": \"TW\",\n",
      "        \"type\": \"similarity\"\n",
      "    },\n",
      "    \"name\": \"My lookalike audience for AddToCart\",\n",
      "    \"origin_audience_id\": \"23843443336200647\",\n",
      "    \"subtype\": \"LOOKALIKE\"\n",
      "}\n"
     ]
    },
    {
     "name": "stderr",
     "output_type": "stream",
     "text": [
      "WARNING:root:parent_id as a parameter of constructor is being deprecated.\n"
     ]
    },
    {
     "name": "stdout",
     "output_type": "stream",
     "text": [
      "==================[custom]\n",
      "<CustomAudience> {\n",
      "    \"id\": \"23843443336270647\"\n",
      "}\n",
      "==========[lookalike response]\n",
      "<CustomAudience> {\n",
      "    \"id\": \"23843443336320647\",\n",
      "    \"lookalike_spec\": {\n",
      "        \"country\": \"TW\",\n",
      "        \"type\": \"similarity\"\n",
      "    },\n",
      "    \"name\": \"My lookalike audience for ViewContent\",\n",
      "    \"origin_audience_id\": \"23843443336270647\",\n",
      "    \"subtype\": \"LOOKALIKE\"\n",
      "}\n"
     ]
    },
    {
     "name": "stderr",
     "output_type": "stream",
     "text": [
      "WARNING:root:parent_id as a parameter of constructor is being deprecated.\n"
     ]
    },
    {
     "name": "stdout",
     "output_type": "stream",
     "text": [
      "==================[custom]\n",
      "<CustomAudience> {\n",
      "    \"id\": \"23843591901850702\"\n",
      "}\n",
      "==========[lookalike response]\n",
      "<CustomAudience> {\n",
      "    \"id\": \"23843591901910702\",\n",
      "    \"lookalike_spec\": {\n",
      "        \"country\": \"TW\",\n",
      "        \"type\": \"similarity\"\n",
      "    },\n",
      "    \"name\": \"My lookalike audience for Purchase\",\n",
      "    \"origin_audience_id\": \"23843591901850702\",\n",
      "    \"subtype\": \"LOOKALIKE\"\n",
      "}\n"
     ]
    },
    {
     "name": "stderr",
     "output_type": "stream",
     "text": [
      "WARNING:root:parent_id as a parameter of constructor is being deprecated.\n"
     ]
    },
    {
     "name": "stdout",
     "output_type": "stream",
     "text": [
      "==================[custom]\n",
      "<CustomAudience> {\n",
      "    \"id\": \"23843591901970702\"\n",
      "}\n",
      "==========[lookalike response]\n",
      "<CustomAudience> {\n",
      "    \"id\": \"23843591902100702\",\n",
      "    \"lookalike_spec\": {\n",
      "        \"country\": \"TW\",\n",
      "        \"type\": \"similarity\"\n",
      "    },\n",
      "    \"name\": \"My lookalike audience for AddToCart\",\n",
      "    \"origin_audience_id\": \"23843591901970702\",\n",
      "    \"subtype\": \"LOOKALIKE\"\n",
      "}\n"
     ]
    },
    {
     "name": "stderr",
     "output_type": "stream",
     "text": [
      "WARNING:root:parent_id as a parameter of constructor is being deprecated.\n"
     ]
    },
    {
     "name": "stdout",
     "output_type": "stream",
     "text": [
      "==================[custom]\n",
      "<CustomAudience> {\n",
      "    \"id\": \"23843591902130702\"\n",
      "}\n",
      "==========[lookalike response]\n",
      "<CustomAudience> {\n",
      "    \"id\": \"23843591902150702\",\n",
      "    \"lookalike_spec\": {\n",
      "        \"country\": \"TW\",\n",
      "        \"type\": \"similarity\"\n",
      "    },\n",
      "    \"name\": \"My lookalike audience for ViewContent\",\n",
      "    \"origin_audience_id\": \"23843591902130702\",\n",
      "    \"subtype\": \"LOOKALIKE\"\n",
      "}\n"
     ]
    }
   ],
   "source": [
    "if __name__ == \"__main__\":\n",
    "    main()"
   ]
  },
  {
   "cell_type": "code",
   "execution_count": 35,
   "metadata": {},
   "outputs": [
    {
     "name": "stdout",
     "output_type": "stream",
     "text": [
      "[NbConvertApp] Converting notebook facebook_lookalike_audience.ipynb to script\n",
      "[NbConvertApp] Writing 10149 bytes to facebook_lookalike_audience.py\n"
     ]
    }
   ],
   "source": [
    "!jupyter nbconvert --to script facebook_lookalike_audience.ipynb"
   ]
  },
  {
   "cell_type": "code",
   "execution_count": null,
   "metadata": {},
   "outputs": [],
   "source": []
  }
 ],
 "metadata": {
  "kernelspec": {
   "display_name": "Python 3",
   "language": "python",
   "name": "python3"
  },
  "language_info": {
   "codemirror_mode": {
    "name": "ipython",
    "version": 3
   },
   "file_extension": ".py",
   "mimetype": "text/x-python",
   "name": "python",
   "nbconvert_exporter": "python",
   "pygments_lexer": "ipython3",
   "version": "3.6.7"
  },
  "varInspector": {
   "cols": {
    "lenName": 16,
    "lenType": 16,
    "lenVar": 40
   },
   "kernels_config": {
    "python": {
     "delete_cmd_postfix": "",
     "delete_cmd_prefix": "del ",
     "library": "var_list.py",
     "varRefreshCmd": "print(var_dic_list())"
    },
    "r": {
     "delete_cmd_postfix": ") ",
     "delete_cmd_prefix": "rm(",
     "library": "var_list.r",
     "varRefreshCmd": "cat(var_dic_list()) "
    }
   },
   "types_to_exclude": [
    "module",
    "function",
    "builtin_function_or_method",
    "instance",
    "_Feature"
   ],
   "window_display": false
  }
 },
 "nbformat": 4,
 "nbformat_minor": 2
}
