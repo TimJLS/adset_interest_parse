{
 "cells": [
  {
   "cell_type": "code",
   "execution_count": 1,
   "metadata": {},
   "outputs": [],
   "source": [
    "import facebook_business.adobjects.adset as facebook_business_adset\n",
    "import facebook_business.adobjects.campaign as facebook_business_campaign\n",
    "import facebook_business.adobjects.adaccount as facebook_business_adaccount\n",
    "import facebook_business.adobjects.customaudience as facebook_business_custom_audience\n",
    "\n",
    "import facebook_datacollector as collector\n",
    "import database_controller\n",
    "import adgeek_permission as permission\n",
    "\n",
    "import pandas as pd\n",
    "import datetime\n",
    "import time\n",
    "\n",
    "\n",
    "\n",
    "CONVERSION_BEHAVIOR_LIST = ['Purchase', 'AddToCart', 'ViewContent']"
   ]
  },
  {
   "cell_type": "code",
   "execution_count": 2,
   "metadata": {},
   "outputs": [],
   "source": [
    "def get_lookalike_not_used(campaign_id):\n",
    "    # check has already process this campaign first\n",
    "    save_campaign_pixel_id(campaign_id)\n",
    "    \n",
    "    df_not_processed_lookalike = get_not_processed_lookalike_df(campaign_id)\n",
    "    if df_not_processed_lookalike.empty:\n",
    "        print('[get_lookalike_not_used] df_saved_pixel_id None')\n",
    "        return\n",
    "    print('[get_lookalike_not_used] df_saved_pixel_id len:', len(df_not_processed_lookalike))\n",
    "    print(df_not_processed_lookalike.behavior_type.tolist())\n",
    "    print('--')\n",
    "    return df_not_processed_lookalike"
   ]
  },
  {
   "cell_type": "code",
   "execution_count": 3,
   "metadata": {},
   "outputs": [],
   "source": [
    "def modify_result_db(campaign_id, lookalike_audience_id, is_lookalike_in_adset):\n",
    "    #get date\n",
    "    opt_date = datetime.datetime.now()\n",
    "    \n",
    "    db = database_controller.Database()\n",
    "    database_fb = database_controller.FB(db)\n",
    "    \n",
    "    database_fb.upsert(\n",
    "        \"campaign_pixel_id\",\n",
    "        {\n",
    "            'is_lookalike_in_adset': is_lookalike_in_adset,\n",
    "            'updated_at': opt_date,\n",
    "            'campaign_id': campaign_id,\n",
    "            'lookalike_audience_id': lookalike_audience_id,\n",
    "        }\n",
    "    )\n",
    "    database_fb.dispose()"
   ]
  },
  {
   "cell_type": "code",
   "execution_count": 4,
   "metadata": {},
   "outputs": [],
   "source": [
    "def get_custom_audience_id(campaign_id):\n",
    "    custom_audience_dict = dict()\n",
    "    \n",
    "    db = database_controller.Database()\n",
    "    database_fb = database_controller.FB(db)\n",
    "    \n",
    "    df_pixel_id = database_fb.retrieve(\"campaign_pixel_id\", campaign_id=campaign_id, by_request_time=False)\n",
    "    df_pixel_id = df_pixel_id[df_pixel_id.is_created=='True'][['behavior_type', 'audience_id']]\n",
    "    database_fb.dispose()\n",
    "    if df_pixel_id.empty:\n",
    "        print('[get_custom_audience_id]: No custom audience is created.')\n",
    "        return \n",
    "    for idx, row in df_pixel_id.iterrows():\n",
    "        custom_audience_dict[row['behavior_type']] = row['audience_id']\n",
    "\n",
    "    return custom_audience_dict"
   ]
  },
  {
   "cell_type": "code",
   "execution_count": 5,
   "metadata": {},
   "outputs": [],
   "source": [
    "def get_lookalike_audience_id(campaign_id):\n",
    "    import collections\n",
    "    lookalike_audience_dict = collections.OrderedDict()\n",
    "    \n",
    "    db = database_controller.Database()\n",
    "    database_fb = database_controller.FB(db)\n",
    "    \n",
    "    df_pixel_id = database_fb.retrieve(\"campaign_pixel_id\", campaign_id=campaign_id, by_request_time=False)\n",
    "    df_is_in_adset = df_pixel_id[df_pixel_id.is_lookalike_in_adset=='False'].sort_values(by=['approximate_count'], ascending=False)\n",
    "    df_is_in_adset = df_is_in_adset[df_is_in_adset.approximate_count>1000]\n",
    "    database_fb.dispose()\n",
    "    if df_pixel_id.empty:\n",
    "        print('[get_lookalike_audience_id]: No lookalike audience is created.')\n",
    "    elif df_is_in_adset.empty:\n",
    "        print('[get_lookalike_audience_id]: All lookalike audience is in adset.')\n",
    "    \n",
    "    for idx, row in df_is_in_adset.iterrows():\n",
    "        lookalike_audience_dict[row['behavior_type']] = row['lookalike_audience_id']\n",
    "    return lookalike_audience_dict"
   ]
  },
  {
   "cell_type": "code",
   "execution_count": 6,
   "metadata": {},
   "outputs": [],
   "source": [
    "def is_lookalike_created(campaign_id):\n",
    "    \n",
    "    db = database_controller.Database()\n",
    "    database_fb = database_controller.FB(db)\n",
    "    \n",
    "    df = database_fb.retrieve(\"campaign_pixel_id\", campaign_id, by_request_time=False)\n",
    "    database_fb.dispose()\n",
    "    return not df.empty"
   ]
  },
  {
   "cell_type": "code",
   "execution_count": 7,
   "metadata": {},
   "outputs": [],
   "source": [
    "def create_lookalike_custom_audience(account_id, campaign_id, behavior_type, audience_id):\n",
    "\n",
    "    lookalike = facebook_business_custom_audience.CustomAudience(parent_id='act_'+account_id)\n",
    "    lookalike.update({\n",
    "        facebook_business_custom_audience.CustomAudience.Field.name: 'My lookalike audience for {}'.format(behavior_type),\n",
    "        facebook_business_custom_audience.CustomAudience.Field.subtype: facebook_business_custom_audience.CustomAudience.Subtype.lookalike,\n",
    "        facebook_business_custom_audience.CustomAudience.Field.origin_audience_id: audience_id,\n",
    "        facebook_business_custom_audience.CustomAudience.Field.lookalike_spec: {\n",
    "            'type': 'similarity',\n",
    "            'country': 'TW',\n",
    "        },\n",
    "    })\n",
    "    try:\n",
    "        resp = lookalike.remote_create()\n",
    "    except Exception as e:\n",
    "        print('[create_lookalike_custom_audience]: unexpected error occired.')\n",
    "        return\n",
    "    lookalike_audience_id = resp.get(\"id\")\n",
    "    print('==========[lookalike response]')\n",
    "    print(resp)\n",
    "    \n",
    "    db = database_controller.Database()\n",
    "    database_fb = database_controller.FB(db)\n",
    "    \n",
    "    database_fb.upsert(\n",
    "        \"campaign_pixel_id\",\n",
    "        {\n",
    "            'is_created': 'True',\n",
    "            'lookalike_audience_id': lookalike_audience_id,\n",
    "            'campaign_id': campaign_id,\n",
    "            'behavior_type': behavior_type,\n",
    "        },\n",
    "    )\n",
    "    database_fb.dispose()\n",
    "    return"
   ]
  },
  {
   "cell_type": "code",
   "execution_count": 8,
   "metadata": {},
   "outputs": [],
   "source": [
    "def create_campaign_custom_audience_by_pixel(campaign_id):\n",
    "    campaign = facebook_business_campaign.Campaign(campaign_id)\n",
    "    campaign_object = campaign.get_insights(\n",
    "        fields = [facebook_business_campaign.Campaign.Field.account_id] )\n",
    "    account_id = campaign_object[0].get(\"account_id\")    \n",
    "    \n",
    "    db = database_controller.Database()\n",
    "    database_fb = database_controller.FB(db)\n",
    "    \n",
    "    df = database_fb.retrieve(\"campaign_pixel_id\", campaign_id=campaign_id, by_request_time=False)\n",
    "    df_not_opted_pixel_id = df[df.is_created=='False']\n",
    "    df_not_opted_pixel_id = df_not_opted_pixel_id.dropna(subset=['pixel_id'])\n",
    "    \n",
    "\n",
    "    if df_not_opted_pixel_id.empty:\n",
    "        print('[create_campaign_custom_audience_by_pixel]: all custom audience of campaign {} is created.'.format(campaign_id))\n",
    "        if is_lookalike_audience_created(campaign_id):\n",
    "            print('[create_campaign_custom_audience_by_pixel]: all lookalike audience of campaign {} is created.'.format(campaign_id))\n",
    "        else:\n",
    "            print('[create_campaign_custom_audience_by_pixel]: all lookalike audience of campaign {} is not set.'.format(campaign_id))\n",
    "        return\n",
    "    for pixel_id in df_not_opted_pixel_id['pixel_id'].unique().tolist():\n",
    "        event_sources = [{\n",
    "            \"id\": pixel_id,\n",
    "            \"type\": \"pixel\"\n",
    "        }]\n",
    "        for behavior_type in df_not_opted_pixel_id['behavior_type'].tolist():\n",
    "            filters = [{\n",
    "                \"field\": \"event\",\n",
    "                \"operator\": \"=\",\n",
    "                \"value\": behavior_type,\n",
    "            }]\n",
    "            filter = {\n",
    "                \"operator\": \"or\",\n",
    "                \"filters\": filters,\n",
    "            }\n",
    "            fields = []\n",
    "            params = {\n",
    "                'name': 'My {} Custom Audience'.format(behavior_type),\n",
    "                \"operator\" : \"and\",\n",
    "                'rule': {\n",
    "                    \"inclusions\": {\n",
    "                        \"operator\": \"or\",\n",
    "                        \"rules\":[{\n",
    "                            \"event_sources\": event_sources, \n",
    "                            \"retention_seconds\" : 2592000,\n",
    "                            \"filter\": filter,\n",
    "                            \"aggregation\" : {\n",
    "                                \"type\":\"count\",\n",
    "                                \"operator\":\">\",\n",
    "                                \"value\":1\n",
    "                            }\n",
    "                        }]\n",
    "                    }\n",
    "                }\n",
    "            }\n",
    "            try:\n",
    "                resp = facebook_business_adaccount.AdAccount('act_'+account_id).create_custom_audience(\n",
    "                    fields=fields,\n",
    "                    params=params,\n",
    "                )\n",
    "            except Exception as e:\n",
    "                print('[create_campaign_custom_audience_by_pixel]: unexpected error occured.')\n",
    "                return\n",
    "            print('==================[custom]')\n",
    "            print(resp)\n",
    "            audience_id = resp.get(\"id\")\n",
    "            \n",
    "            create_lookalike_custom_audience(account_id, campaign_id, behavior_type, audience_id)\n",
    "            \n",
    "            update_sql = (\"UPDATE campaign_pixel_id SET is_created='{}', audience_id={} WHERE campaign_id={} AND behavior_type='{}'\".format( True, audience_id, campaign_id, behavior_type ) )\n",
    "            database_fb.upsert(\"campaign_pixel_id\", {\n",
    "                \"is_created\": \"True\",\n",
    "                \"audience_id\": audience_id,\n",
    "                \"campaign_id\": campaign_id,\n",
    "                \"behavior_type\": behavior_type,\n",
    "            })\n",
    "    database_fb.dispose()\n",
    "    return"
   ]
  },
  {
   "cell_type": "code",
   "execution_count": 9,
   "metadata": {},
   "outputs": [],
   "source": [
    "def get_not_processed_lookalike_df(campaign_id):\n",
    "    \n",
    "    db = database_controller.Database()\n",
    "    database_fb = database_controller.FB(db)\n",
    "    df_saved_pixel_id = database_fb.retrieve(\"campaign_pixel_id\", campaign_id=campaign_id, by_request_time=False)\n",
    "    df_saved_pixel_id = df_saved_pixel_id[df_saved_pixel_id.is_lookalike_in_adset=='False']\n",
    "    database_fb.dispose()\n",
    "    return df_saved_pixel_id"
   ]
  },
  {
   "cell_type": "code",
   "execution_count": 10,
   "metadata": {},
   "outputs": [],
   "source": [
    "def get_processed_lookalike_df(campaign_id):\n",
    "    \n",
    "    db = database_controller.Database()\n",
    "    database_fb = database_controller.FB(db)\n",
    "    \n",
    "    df_saved_pixel_id = database_fb.retrieve(\"campaign_pixel_id\", campaign_id=campaign_id, by_request_time=False)\n",
    "    df_saved_pixel_id = df_saved_pixel_id[df_saved_pixel_id.is_lookalike_in_adset=='True']\n",
    "    database_fb.dispose()\n",
    "    return df_saved_pixel_id"
   ]
  },
  {
   "cell_type": "code",
   "execution_count": 11,
   "metadata": {},
   "outputs": [],
   "source": [
    "def save_campaign_pixel_id(campaign_id):\n",
    "    campaign = facebook_business_campaign.Campaign(campaign_id)\n",
    "    campaign_object = campaign.get_ad_sets(\n",
    "        fields = [facebook_business_adset.AdSet.Field.id, facebook_business_adset.AdSet.Field.status,] )\n",
    "    active_adset_id_list = [adset_object.get(\"id\") for adset_object in campaign_object if adset_object.get(\"status\")=='ACTIVE']\n",
    "    adset = facebook_business_adset.AdSet(int(active_adset_id_list[0]))\n",
    "    adset_object = adset.remote_read( fields=['promoted_object'] )\n",
    "    promoted_object = adset_object.get(\"promoted_object\")\n",
    "    pixel_id = promoted_object.get(\"pixel_id\") if promoted_object else None\n",
    "    if pixel_id is None:\n",
    "        print('[facebook_lookalike_audience.save_campaign_pixel_id]: No pixel id in this campaign')\n",
    "        return\n",
    "\n",
    "    db = database_controller.Database()\n",
    "    database_fb = database_controller.FB(db)\n",
    "    \n",
    "    for behavior_type in CONVERSION_BEHAVIOR_LIST:\n",
    "        \n",
    "        database_fb.insert_ignore(\n",
    "            \"campaign_pixel_id\",\n",
    "            {\n",
    "                'campaign_id': campaign_id,\n",
    "                'behavior_type': behavior_type,\n",
    "                'pixel_id': pixel_id,\n",
    "                'is_created': 'False',\n",
    "            }\n",
    "        )\n",
    "    database_fb.dispose()\n",
    "    return"
   ]
  },
  {
   "cell_type": "code",
   "execution_count": 12,
   "metadata": {},
   "outputs": [],
   "source": [
    "def is_custom_audience_created(campaign_id):\n",
    "    \n",
    "    db = database_controller.Database()\n",
    "    database_fb = database_controller.FB(db)\n",
    "    \n",
    "    df_pixel_id = database_fb.retrieve(\"campaign_pixel_id\", campaign_id=campaign_id, by_request_time=False)\n",
    "    df_pixel_id = df_pixel_id[df_pixel_id.is_created=='True']\n",
    "    database_fb.dispose()\n",
    "    return len(df_pixel_id.index) == len(CONVERSION_BEHAVIOR_LIST)"
   ]
  },
  {
   "cell_type": "code",
   "execution_count": 13,
   "metadata": {},
   "outputs": [],
   "source": [
    "def is_lookalike_audience_created(campaign_id):\n",
    "    \n",
    "    db = database_controller.Database()\n",
    "    database_fb = database_controller.FB(db)\n",
    "    \n",
    "    df_pixel_id = database_fb.retrieve(\"campaign_pixel_id\", campaign_id=campaign_id, by_request_time=False)\n",
    "    database_fb.dispose()\n",
    "    if df_pixel_id.empty:\n",
    "        print('[is_lookalike_audience_created]: campaign not in DB.')\n",
    "        save_campaign_pixel_id(campaign_id)\n",
    "        return False\n",
    "    df_lookalike = df_pixel_id[df_pixel_id.is_created=='True']\n",
    "    return len(df_lookalike.index) == len(CONVERSION_BEHAVIOR_LIST)"
   ]
  },
  {
   "cell_type": "code",
   "execution_count": 14,
   "metadata": {},
   "outputs": [],
   "source": [
    "def is_operation_status_normal(campaign_id):\n",
    "    \n",
    "    db = database_controller.Database()\n",
    "    database_fb = database_controller.FB(db)\n",
    "    \n",
    "    df_pixel_id = database_fb.retrieve(\"campaign_pixel_id\", campaign_id=campaign_id, by_request_time=False)\n",
    "    database_fb.dispose()\n",
    "    if df_pixel_id.empty:\n",
    "        print('[is_operation_status_normal]: campaign not in DB.')\n",
    "        save_campaign_pixel_id(campaign_id)\n",
    "        return False\n",
    "    df_operation = df_pixel_id[df_pixel_id.operation_status=='Normal']\n",
    "    return df_operation.empty"
   ]
  },
  {
   "cell_type": "code",
   "execution_count": 15,
   "metadata": {},
   "outputs": [],
   "source": [
    "def retrieve_custom_audience_spec(campaign_id):\n",
    "    audience_attribute_list = []\n",
    "    custom_audience_dict = get_custom_audience_id(campaign_id)\n",
    "    if bool(custom_audience_dict):\n",
    "        for audience_id in custom_audience_dict.values():\n",
    "            if audience_id:\n",
    "                custom_audience = facebook_business_custom_audience.CustomAudience(audience_id)\n",
    "                audience_attribute = custom_audience.remote_read(fields=[\n",
    "                    custom_audience.Field.data_source,\n",
    "                    custom_audience.Field.operation_status,\n",
    "                    custom_audience.Field.retention_days,\n",
    "                    custom_audience.Field.approximate_count,\n",
    "                ])\n",
    "                approximate_count = audience_attribute.get(\"approximate_count\")\n",
    "                operation_status = audience_attribute.get(\"operation_status\").get(\"description\") if audience_attribute.get(\"operation_status\").get(\"code\")==200 else \"Abnormal\"\n",
    "                retention_days = audience_attribute.get(\"retention_days\")\n",
    "                data_source = audience_attribute.get(\"data_source\")\n",
    "                audience_id = audience_attribute.get(\"id\")\n",
    "                audience_attribute = {\n",
    "                    \"audience_id\": audience_id,\n",
    "                    \"retention_days\": retention_days,\n",
    "                    \"operation_status\": operation_status, \n",
    "                    \"approximate_count\": approximate_count,\n",
    "                    \"data_source\": data_source\n",
    "                }\n",
    "                audience_attribute_list.append(audience_attribute)\n",
    "    return audience_attribute_list"
   ]
  },
  {
   "cell_type": "code",
   "execution_count": 16,
   "metadata": {},
   "outputs": [],
   "source": [
    "def update_audience_attribute(audience_id, retention_days, operation_status, approximate_count, data_source):\n",
    "    \n",
    "    db = database_controller.Database()\n",
    "    database_fb = database_controller.FB(db)\n",
    "    \n",
    "    database_fb.update(\n",
    "        \"campaign_pixel_id\",\n",
    "        {\n",
    "            'retention_days': retention_days,\n",
    "            'operation_status': operation_status,\n",
    "            'approximate_count': approximate_count,\n",
    "            'data_source': str(data_source),\n",
    "        },\n",
    "        audience_id=audience_id,\n",
    "    )\n",
    "    database_fb.dispose()\n",
    "    return"
   ]
  },
  {
   "cell_type": "code",
   "execution_count": 17,
   "metadata": {},
   "outputs": [],
   "source": [
    "def process_campaign_custom_audience(campaign_id):\n",
    "    if is_lookalike_audience_created(campaign_id):\n",
    "        print('[process_campaign_custom_audience]: lookalike audience is created.')\n",
    "        return\n",
    "    else:\n",
    "        print('[process_campaign_custom_audience] lookalike audience not created.')\n",
    "        create_campaign_custom_audience_by_pixel(campaign_id)"
   ]
  },
  {
   "cell_type": "code",
   "execution_count": 18,
   "metadata": {},
   "outputs": [],
   "source": [
    "def save_pixel_id_for_one_campaign(campaign_id):\n",
    "    save_campaign_pixel_id(campaign_id)\n",
    "    process_campaign_custom_audience(campaign_id)"
   ]
  },
  {
   "cell_type": "code",
   "execution_count": 19,
   "metadata": {},
   "outputs": [],
   "source": [
    "def save_pixel_id_for_all_campaign():\n",
    "    db = database_controller.Database()\n",
    "    database_fb = database_controller.FB(db)\n",
    "    performance_campaign_list = database_fb.get_performance_campaign().to_dict('records')\n",
    "    database_fb.dispose()\n",
    "    for campaign in performance_campaign_list:\n",
    "        account_id = campaign.get(\"account_id\")\n",
    "        campaign_id = campaign.get(\"campaign_id\")\n",
    "        permission.init_facebook_api(account_id)\n",
    "        \n",
    "        print('[save_pixel_id_for_all_campaign] conversion campaign_id:', campaign_id)\n",
    "        save_pixel_id_for_one_campaign(campaign_id)\n",
    "    "
   ]
  },
  {
   "cell_type": "code",
   "execution_count": 20,
   "metadata": {},
   "outputs": [],
   "source": [
    "def update_all_custom_audience():\n",
    "    db = database_controller.Database()\n",
    "    database_fb = database_controller.FB(db)\n",
    "    conversion_campaign_list = database_fb.get_performance_campaign().to_dict('records')\n",
    "    database_fb.dispose()\n",
    "    print('[update_all_custom_audience]: conversion_campaign_id_list')\n",
    "    print(conversion_campaign_list)\n",
    "    for campaign in conversion_campaign_list:\n",
    "        account_id = campaign.get(\"account_id\")\n",
    "        campaign_id = campaign.get(\"campaign_id\")\n",
    "        permission.init_facebook_api(account_id)\n",
    "        audience_attribute_list = retrieve_custom_audience_spec(campaign_id)\n",
    "        for audience_attribute in audience_attribute_list:\n",
    "            update_audience_attribute(**audience_attribute)"
   ]
  },
  {
   "cell_type": "code",
   "execution_count": 21,
   "metadata": {},
   "outputs": [],
   "source": [
    "def main():\n",
    "    save_pixel_id_for_all_campaign()\n",
    "    update_all_custom_audience()"
   ]
  },
  {
   "cell_type": "code",
   "execution_count": 24,
   "metadata": {},
   "outputs": [],
   "source": [
    "if __name__ == \"__main__\":\n",
    "    main()"
   ]
  },
  {
   "cell_type": "code",
   "execution_count": 25,
   "metadata": {},
   "outputs": [
    {
     "name": "stdout",
     "output_type": "stream",
     "text": [
      "[NbConvertApp] Converting notebook facebook_lookalike_audience.ipynb to script\n",
      "[NbConvertApp] Writing 16411 bytes to facebook_lookalike_audience.py\n"
     ]
    }
   ],
   "source": [
    "# !jupyter nbconvert --to script facebook_lookalike_audience.ipynb"
   ]
  },
  {
   "cell_type": "code",
   "execution_count": null,
   "metadata": {},
   "outputs": [],
   "source": []
  }
 ],
 "metadata": {
  "kernelspec": {
   "display_name": "Python 3",
   "language": "python",
   "name": "python3"
  },
  "language_info": {
   "codemirror_mode": {
    "name": "ipython",
    "version": 3
   },
   "file_extension": ".py",
   "mimetype": "text/x-python",
   "name": "python",
   "nbconvert_exporter": "python",
   "pygments_lexer": "ipython3",
   "version": "3.6.8"
  },
  "varInspector": {
   "cols": {
    "lenName": 16,
    "lenType": 16,
    "lenVar": 40
   },
   "kernels_config": {
    "python": {
     "delete_cmd_postfix": "",
     "delete_cmd_prefix": "del ",
     "library": "var_list.py",
     "varRefreshCmd": "print(var_dic_list())"
    },
    "r": {
     "delete_cmd_postfix": ") ",
     "delete_cmd_prefix": "rm(",
     "library": "var_list.r",
     "varRefreshCmd": "cat(var_dic_list()) "
    }
   },
   "types_to_exclude": [
    "module",
    "function",
    "builtin_function_or_method",
    "instance",
    "_Feature"
   ],
   "window_display": false
  }
 },
 "nbformat": 4,
 "nbformat_minor": 4
}
