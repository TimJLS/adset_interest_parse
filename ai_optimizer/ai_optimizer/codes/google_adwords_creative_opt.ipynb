{
 "cells": [
  {
   "cell_type": "code",
   "execution_count": null,
   "metadata": {},
   "outputs": [],
   "source": [
    "import copy\n",
    "import math\n",
    "import datetime\n",
    "import pandas as pd\n",
    "from loguru import logger\n",
    "import adgeek_permission as permission\n",
    "import google_adwords_controller as controller\n",
    "import google_adwords_report_generator as report_generator\n",
    "import database_controller\n",
    "\n",
    "LOGGER_FOLDER = '/home/tim_su/ai_optimizer/opt/ai_optimizer/app_log/creative_controller/'"
   ]
  },
  {
   "cell_type": "code",
   "execution_count": null,
   "metadata": {},
   "outputs": [],
   "source": [
    "@logger.catch\n",
    "def process(database):\n",
    "    PATH = LOGGER_FOLDER + '{media}/{date}.log'.format(\n",
    "        media=database.media,\n",
    "        date=datetime.datetime.strftime(datetime.datetime.today(),\"%m_%d_%Y\"))\n",
    "    logger.add(PATH)\n",
    "    \n",
    "    performance_campaigns = database.get_performance_campaign().to_dict('records')\n",
    "    performance_campaigns = [campaign for campaign in performance_campaigns\n",
    "                             if eval(campaign['is_creative_opt'])]\n",
    "    \n",
    "    if not performance_campaigns:\n",
    "        logger.info(\"No Campaigns to optimize.\")\n",
    "        return\n",
    "    \n",
    "    for campaign in performance_campaigns:\n",
    "        campaign_id = campaign['campaign_id']\n",
    "        logger.info(\"Campaign ID: {}\".format(campaign_id))\n",
    "        \n",
    "        kpi = campaign['ai_spend_cap'] / campaign['destination']\n",
    "        rpg = report_generator.AdReportGenerator(campaign_id,\n",
    "                                                 media=database.media)\n",
    "        ads = rpg.get_insights(date_preset='entire_time')\n",
    "        df_ads = pd.DataFrame(ads)\n",
    "        conditions = ((df_ads.conversions == 0) & (df_ads.spend > kpi))\n",
    "        df_ads = df_ads[conditions]\n",
    "        \n",
    "        service_container = controller.AdGroupServiceContainer(campaign['customer_id'])\n",
    "        controller_campaign = controller.Campaign(service_container, campaign_id)\n",
    "        \n",
    "        creatives = [controller.Creative(controller_campaign.service_container.service_ad,\n",
    "                                         ad['adgroup_id'],\n",
    "                                         ad['ad_id'])\n",
    "                     for ad in df_ads.to_dict('records')]\n",
    "        for creative in creatives:\n",
    "            try:\n",
    "                creative.update(status=controller.Status.pause)\n",
    "            except Exception as err:\n",
    "                logger.debug(\"Exception occurred. \\n{}\".format(err))"
   ]
  },
  {
   "cell_type": "code",
   "execution_count": null,
   "metadata": {},
   "outputs": [],
   "source": [
    "def main():\n",
    "    db_host = database_controller.Database\n",
    "    for database in [database_controller.GDN(db_host), database_controller.GSN(db_host)]:\n",
    "        process(database)"
   ]
  },
  {
   "cell_type": "code",
   "execution_count": null,
   "metadata": {},
   "outputs": [],
   "source": [
    "if __name__ == '__main__':\n",
    "    main()"
   ]
  },
  {
   "cell_type": "code",
   "execution_count": 1,
   "metadata": {},
   "outputs": [
    {
     "name": "stdout",
     "output_type": "stream",
     "text": [
      "[NbConvertApp] Converting notebook google_adwords_creative_opt.ipynb to script\n",
      "[NbConvertApp] Writing 2532 bytes to google_adwords_creative_opt.py\n"
     ]
    }
   ],
   "source": [
    "# !jupyter nbconvert --to script google_adwords_creative_opt.ipynb"
   ]
  },
  {
   "cell_type": "code",
   "execution_count": null,
   "metadata": {},
   "outputs": [],
   "source": []
  }
 ],
 "metadata": {
  "kernelspec": {
   "display_name": "Python 3",
   "language": "python",
   "name": "python3"
  },
  "language_info": {
   "codemirror_mode": {
    "name": "ipython",
    "version": 3
   },
   "file_extension": ".py",
   "mimetype": "text/x-python",
   "name": "python",
   "nbconvert_exporter": "python",
   "pygments_lexer": "ipython3",
   "version": "3.6.9"
  }
 },
 "nbformat": 4,
 "nbformat_minor": 4
}
