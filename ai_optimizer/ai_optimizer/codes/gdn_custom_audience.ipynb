{
 "cells": [
  {
   "cell_type": "code",
   "execution_count": 1,
   "metadata": {},
   "outputs": [],
   "source": [
    "import gdn_datacollector\n",
    "from gdn_datacollector import Campaign\n",
    "from gdn_datacollector import AdGroup\n",
    "from gdn_datacollector import DatePreset\n",
    "import google_adwords_controller as controller\n",
    "import gdn_db\n",
    "import datetime\n",
    "from googleads import adwords\n",
    "import pandas as pd\n",
    "import copy\n",
    "import math\n",
    "\n",
    "IS_DEBUG = False\n",
    "AUTH_FILE_PATH = '/home/tim_su/ai_optimizer/opt/ai_optimizer/googleads.yaml'\n",
    "adwords_client = adwords.AdWordsClient.LoadFromStorage(AUTH_FILE_PATH)\n",
    "DATABASE = \"dev_gdn\"\n",
    "DATE = datetime.datetime.now().date()\n",
    "DATETIME = datetime.datetime.now()\n",
    "AGE_RANGE_LIST = [503001,503002,503003,503004,503005,503006,503999,]"
   ]
  },
  {
   "cell_type": "code",
   "execution_count": 2,
   "metadata": {},
   "outputs": [],
   "source": [
    "def get_campaign_custom_audience(campaign_id):\n",
    "    all_converters_dict_list = list()\n",
    "    optimized_list_dict_list = list()\n",
    "    custom_audience_dict = dict()\n",
    "    \n",
    "    df = gdn_db.get_table(campaign_id=campaign_id, table='custom_audience')\n",
    "    df_optimized_list = df[ (df.behavior_type=='optimized_list') & (df.list_type!='similar') ]\n",
    "    df_similar_all_converters = df[ (df.behavior_type=='all_converters') & (df.list_type=='similar') ]\n",
    "    \n",
    "    if df.empty:\n",
    "        print('[get_custom_audience_id]: No custom audience is created.')\n",
    "    if df_optimized_list.empty:\n",
    "        print('optimized list is not created.')\n",
    "    else:\n",
    "        for idx, row in df_optimized_list.iterrows():\n",
    "            custom_audience_dict['behavior_type'] = row['behavior_type']\n",
    "            custom_audience_dict['list_type'] = row['list_type']\n",
    "            custom_audience_dict['criterion_id'] = row['criterion_id']\n",
    "            optimized_list_dict_list.append(copy.deepcopy(custom_audience_dict))\n",
    "    if df_similar_all_converters.empty:\n",
    "        print('similar all converters is not created.')\n",
    "    else:\n",
    "        for idx, row in df_similar_all_converters.iterrows():\n",
    "            custom_audience_dict['behavior_type'] = row['behavior_type']\n",
    "            custom_audience_dict['list_type'] = row['list_type']\n",
    "            custom_audience_dict['criterion_id'] = row['criterion_id']\n",
    "            all_converters_dict_list.append(copy.deepcopy(custom_audience_dict))\n",
    "    return optimized_list_dict_list, all_converters_dict_list\n",
    "    "
   ]
  },
  {
   "cell_type": "code",
   "execution_count": 3,
   "metadata": {},
   "outputs": [],
   "source": [
    "def get_ad_groups_include_custom_audience(customer_id, campaign_id):\n",
    "    group_service = controller.AdGroupServiceContainer(customer_id=customer_id)\n",
    "    campaign = controller.Campaign(group_service, campaign_id=campaign_id)\n",
    "    campaign.get_ad_groups()\n",
    "    ad_group_list = campaign.ad_groups\n",
    "    user_list_criterion_list = []\n",
    "    for ad_group in ad_group_list:\n",
    "        biddable_criterions, negative_criterions = ad_group.user_list_criterions.retrieve()\n",
    "    #     print([biddable_criterion['userListId'] for biddable_criterion in biddable_criterions])\n",
    "        user_list_criterion_list.append( {\n",
    "            'criterion_id': [biddable_criterion['userListId'] for biddable_criterion in biddable_criterions],\n",
    "            'ad_group_id': ad_group.ad_group_id\n",
    "        })\n",
    "    return user_list_criterion_list"
   ]
  },
  {
   "cell_type": "code",
   "execution_count": 4,
   "metadata": {},
   "outputs": [],
   "source": [
    "def save_campaign_custom_audience(customer_id, campaign_id):\n",
    "    adwords_client.SetClientCustomerId(customer_id)\n",
    "    _FIELDS = ['Name', 'Status', 'AccessReason', 'AccountUserListStatus', 'AppId', 'ClosingReason',\n",
    "               'ConversionTypes', 'DataSourceType', 'DataUploadResult', 'DateSpecificListEndDate', 'DateSpecificListRule',\n",
    "               'DateSpecificListStartDate', 'Description', 'ExpressionListRule', 'IntegrationCode', 'IsEligibleForDisplay',\n",
    "               'IsEligibleForSearch', 'IsReadOnly', 'ListType', 'MembershipLifeSpan', 'PrepopulationStatus', 'Rules', 'SeedListSize', \n",
    "               'SeedUserListDescription', 'SeedUserListId', 'SeedUserListName', 'SeedUserListStatus', 'Size', 'SizeForSearch',\n",
    "               'SizeRange', 'SizeRangeForSearch', 'UploadKeyType']\n",
    "    selector = [{\n",
    "        'fields': _FIELDS,\n",
    "        'predicates': [{\n",
    "            'field': 'Status',\n",
    "            'operator': 'EQUALS',\n",
    "            'values': ['OPEN']   \n",
    "        }]\n",
    "    }]\n",
    "    ad_group_service = adwords_client.GetService( 'AdwordsUserListService', version='v201809' )\n",
    "    ad_group_criterion = ad_group_service.get(selector)\n",
    "    entries = ad_group_criterion['entries']\n",
    "    custom_audience_list = [ entry for entry in entries if 'optimized list' in entry['name'] or 'All Converter' in entry['name'] ]\n",
    "    \n",
    "    custom_criterion_list = []\n",
    "    user_list_criterion_list = get_ad_groups_include_custom_audience(customer_id, campaign_id)     \n",
    "    for custom_audience in custom_audience_list:\n",
    "        custom_criterion = {}\n",
    "        custom_criterion['customer_id'] = customer_id\n",
    "        custom_criterion['criterion_id'] = custom_audience['id']\n",
    "        custom_criterion['campaign_id'] = campaign_id\n",
    "        custom_criterion['behavior_type'] = 'optimized_list' if 'optimized list' in custom_audience['name'] else 'all_converters'\n",
    "        custom_criterion['list_type'] = custom_audience['listType'].lower() if custom_audience['listType'] else None\n",
    "        custom_criterion['display_name'] = custom_audience['name']\n",
    "        custom_criterion['size'] = custom_audience['size']\n",
    "        custom_criterion['membership_life_span'] = custom_audience['membershipLifeSpan']\n",
    "        custom_criterion['seed_id'] = custom_audience['seedUserListId'] if custom_audience['listType']=='SIMILAR' else None\n",
    "        custom_criterion['seed_size'] = custom_audience['seedListSize'] if custom_audience['listType']=='SIMILAR' else None\n",
    "        custom_criterion['ad_group_ids'] = []\n",
    "        for user_list_criterion in user_list_criterion_list:\n",
    "            for criterion_id in user_list_criterion['criterion_id']:\n",
    "                if criterion_id == custom_audience['id']:\n",
    "                    custom_criterion['ad_group_ids'].append(user_list_criterion['ad_group_id'])\n",
    "        custom_criterion_list.append(custom_criterion)\n",
    "    my_db = gdn_db.connectDB(gdn_db.DATABASE)\n",
    "    my_cursor = my_db.cursor()\n",
    "    for custom_criterion in custom_criterion_list:\n",
    "        customer_id = custom_criterion['customer_id']\n",
    "        campaign_id = custom_criterion['campaign_id']\n",
    "        ad_group_ids = ','.join(str(ad_group_id) for ad_group_id in custom_criterion['ad_group_ids'])\n",
    "        criterion_id = custom_criterion['criterion_id']\n",
    "        behavior_type = custom_criterion['behavior_type']\n",
    "        list_type = custom_criterion['list_type']\n",
    "        display_name = custom_criterion['display_name']\n",
    "        size = custom_criterion['size']\n",
    "        membership_life_span = custom_criterion['membership_life_span']\n",
    "        seed_id = custom_criterion['seed_id']\n",
    "        seed_size = custom_criterion['seed_size']\n",
    "        sql = \"INSERT IGNORE INTO custom_audience ( customer_id, campaign_id, ad_group_ids, criterion_id, behavior_type, list_type, display_name, size, membership_life_span, seed_id, seed_size ) VALUES ( %s,%s,%s,%s,%s,%s,%s,%s,%s,%s,%s )\"\n",
    "        val = ( customer_id, campaign_id, ad_group_ids, criterion_id, behavior_type, list_type, display_name, size, membership_life_span, seed_id, seed_size )\n",
    "        my_cursor.execute(sql, val)\n",
    "        my_db.commit()    \n",
    "    my_cursor.close()\n",
    "    my_db.close()\n",
    "    return custom_criterion_list"
   ]
  },
  {
   "cell_type": "code",
   "execution_count": 5,
   "metadata": {},
   "outputs": [],
   "source": [
    "def save_custom_audience_for_all_campaign(campaign_id=None):\n",
    "    if campaign_id:\n",
    "        df = gdn_db.get_campaign_target(campaign_id=campaign_id)[['customer_id', 'campaign_id']]\n",
    "        if df.empty:\n",
    "            print('[save_custom_audience_for_all_campaign]: campaign has ended.')\n",
    "            return\n",
    "        customer_id, campaign_id = df.customer_id.tolist()[0], df.campaign_id.tolist()[0]\n",
    "        save_campaign_custom_audience(customer_id, campaign_id)\n",
    "    else:\n",
    "        running_campaign_id_list = gdn_db.get_campaign_target().campaign_id.tolist()\n",
    "        df_conversion_campaign = gdn_db.get_performance_campaign_is_running()[['customer_id', 'campaign_id']]\n",
    "        if df_conversion_campaign.empty:\n",
    "            print('[save_custom_audience_for_all_campaign]: no running conversion campaigns.')\n",
    "            return\n",
    "        for idx, row in df_conversion_campaign.iterrows():\n",
    "            customer_id, campaign_id = row.customer_id.tolist(), row.campaign_id.tolist()\n",
    "            save_campaign_custom_audience(customer_id, campaign_id)\n",
    "#         print('[save_custom_audience_for_all_campaign] current conversion campaign:', len(conversion_campaign_id_list), conversion_campaign_id_list )\n"
   ]
  },
  {
   "cell_type": "code",
   "execution_count": 6,
   "metadata": {},
   "outputs": [],
   "source": [
    "def get_current_ad_group_ids(campaign_id, criterion_id):\n",
    "    sql = \"select ad_group_ids from custom_audience where campaign_id={} and criterion_id={}\".format(campaign_id, criterion_id)\n",
    "    mydb = gdn_db.connectDB(gdn_db.DATABASE)\n",
    "    mycursor = mydb.cursor()\n",
    "    mycursor.execute(sql)\n",
    "    ad_group_ids = mycursor.fetchall()\n",
    "    mydb.close()\n",
    "    mycursor.close()\n",
    "    return ad_group_ids[0][0].split(',')"
   ]
  },
  {
   "cell_type": "code",
   "execution_count": 7,
   "metadata": {},
   "outputs": [],
   "source": [
    "def modify_result_db(campaign_id, criterion_id, ad_group_id):\n",
    "    ad_group_id_list = get_current_ad_group_ids(campaign_id, criterion_id)\n",
    "    #get date\n",
    "    opt_date = datetime.datetime.now()\n",
    "    ad_group_id_list = ad_group_id_list + [str(ad_group_id)]\n",
    "    ad_group_ids = ','.join(str(ad_group_id) for ad_group_id in ad_group_id_list)\n",
    "    #insert to table date and Ture for is_opt\n",
    "    sql = \"update custom_audience set ad_group_ids='{}', updated_at='{}' where campaign_id={} and criterion_id={}\".format(ad_group_ids, opt_date, campaign_id, criterion_id)\n",
    "    mydb = gdn_db.connectDB(gdn_db.DATABASE)\n",
    "    mycursor = mydb.cursor()\n",
    "    mycursor.execute(sql)\n",
    "    mydb.commit()\n",
    "    mydb.close()\n",
    "    mycursor.close()"
   ]
  },
  {
   "cell_type": "code",
   "execution_count": 8,
   "metadata": {},
   "outputs": [],
   "source": [
    "def main():\n",
    "    save_custom_audience_for_all_campaign()"
   ]
  },
  {
   "cell_type": "code",
   "execution_count": 9,
   "metadata": {},
   "outputs": [
    {
     "name": "stdout",
     "output_type": "stream",
     "text": [
      "4\n",
      "3165812026\n",
      "[get_media_token_by_queryid] token_dic {'credential_id': '383662757090-j7mjkvtt22dp44ae08l8ns4a1qu1jaq2.apps.googleusercontent.com', 'credential_secret': 'DC84vPzbgnKhkpmVO7htA46h', 'credential_token': None, 'credential_developer_token': 'OteLlPsJQdjV9ph_NzdODg', 'credential_refresh_token': '1/3ox-mppBSpSLb3GjiWKbE8Q2CRmAmNfWFIHwkbkiL-0', 'name': 'AntMan Google Credential'}\n",
      "5\n",
      "2659173297\n",
      "[get_media_token_by_queryid] token_dic {'credential_id': '383662757090-j7mjkvtt22dp44ae08l8ns4a1qu1jaq2.apps.googleusercontent.com', 'credential_secret': 'DC84vPzbgnKhkpmVO7htA46h', 'credential_token': None, 'credential_developer_token': 'OteLlPsJQdjV9ph_NzdODg', 'credential_refresh_token': '1/3ox-mppBSpSLb3GjiWKbE8Q2CRmAmNfWFIHwkbkiL-0', 'name': 'AntMan Google Credential'}\n",
      "6\n",
      "5147978990\n",
      "[get_media_token_by_queryid] token_dic {'credential_id': '383662757090-j7mjkvtt22dp44ae08l8ns4a1qu1jaq2.apps.googleusercontent.com', 'credential_secret': 'DC84vPzbgnKhkpmVO7htA46h', 'credential_token': None, 'credential_developer_token': 'OteLlPsJQdjV9ph_NzdODg', 'credential_refresh_token': '1/3ox-mppBSpSLb3GjiWKbE8Q2CRmAmNfWFIHwkbkiL-0', 'name': 'AntMan Google Credential'}\n",
      "7\n",
      "8797270797\n",
      "[get_media_token_by_queryid] token_dic {'credential_id': '383662757090-j7mjkvtt22dp44ae08l8ns4a1qu1jaq2.apps.googleusercontent.com', 'credential_secret': 'DC84vPzbgnKhkpmVO7htA46h', 'credential_token': None, 'credential_developer_token': 'OteLlPsJQdjV9ph_NzdODg', 'credential_refresh_token': '1/3ox-mppBSpSLb3GjiWKbE8Q2CRmAmNfWFIHwkbkiL-0', 'name': 'AntMan Google Credential'}\n"
     ]
    }
   ],
   "source": [
    "if __name__=='__main__':\n",
    "    main()"
   ]
  },
  {
   "cell_type": "code",
   "execution_count": 11,
   "metadata": {},
   "outputs": [
    {
     "name": "stdout",
     "output_type": "stream",
     "text": [
      "[NbConvertApp] Converting notebook gdn_custom_audience.ipynb to script\n",
      "[NbConvertApp] Writing 9627 bytes to gdn_custom_audience.py\n"
     ]
    }
   ],
   "source": [
    "#!jupyter nbconvert --to script gdn_custom_audience.ipynb"
   ]
  },
  {
   "cell_type": "code",
   "execution_count": null,
   "metadata": {},
   "outputs": [],
   "source": []
  }
 ],
 "metadata": {
  "kernelspec": {
   "display_name": "Python 3",
   "language": "python",
   "name": "python3"
  },
  "language_info": {
   "codemirror_mode": {
    "name": "ipython",
    "version": 3
   },
   "file_extension": ".py",
   "mimetype": "text/x-python",
   "name": "python",
   "nbconvert_exporter": "python",
   "pygments_lexer": "ipython3",
   "version": "3.6.8"
  },
  "varInspector": {
   "cols": {
    "lenName": 16,
    "lenType": 16,
    "lenVar": 40
   },
   "kernels_config": {
    "python": {
     "delete_cmd_postfix": "",
     "delete_cmd_prefix": "del ",
     "library": "var_list.py",
     "varRefreshCmd": "print(var_dic_list())"
    },
    "r": {
     "delete_cmd_postfix": ") ",
     "delete_cmd_prefix": "rm(",
     "library": "var_list.r",
     "varRefreshCmd": "cat(var_dic_list()) "
    }
   },
   "types_to_exclude": [
    "module",
    "function",
    "builtin_function_or_method",
    "instance",
    "_Feature"
   ],
   "window_display": false
  }
 },
 "nbformat": 4,
 "nbformat_minor": 2
}
