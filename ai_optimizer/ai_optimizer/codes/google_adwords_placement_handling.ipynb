{
 "cells": [
  {
   "cell_type": "code",
   "execution_count": null,
   "metadata": {},
   "outputs": [],
   "source": [
    "import pandas as pd\n",
    "import numpy as np\n",
    "import datetime\n",
    "import math\n",
    "from loguru import logger\n",
    "from googleads import adwords\n",
    "import gdn_datacollector as datacollector\n",
    "import database_controller\n",
    "import adgeek_permission as permission\n",
    "import google_adwords_report_generator as report_generator\n",
    "import google_adwords_controller as controller"
   ]
  },
  {
   "cell_type": "code",
   "execution_count": null,
   "metadata": {},
   "outputs": [],
   "source": [
    "def process_outlier_handling(database):\n",
    "    performance_campaign_list = database.get_performance_campaign().to_dict('records')\n",
    "    campaign_id_list = [campaign['campaign_id'] for campaign in performance_campaign_list]\n",
    "    print('[processing]: campaign_id_list', campaign_id_list)\n",
    "    for campaign in performance_campaign_list:\n",
    "        campaign_id = campaign['campaign_id']\n",
    "        placement_report_generator = report_generator.PlacementReportGenerator(campaign_id, media=database.media)\n",
    "        placement_list = placement_report_generator.get_insights(date_preset=None)\n",
    "        df_plcmnt = pd.DataFrame(placement_list)\n",
    "        for x in placement_list:\n",
    "            database.upsert(\"placement_insights\", x)\n",
    "        \n",
    "        data_mean, data_std = np.mean(df_plcmnt.ctr), np.std(df_plcmnt.ctr)\n",
    "        cut_off = data_std * 3\n",
    "        lower, upper = data_mean - cut_off, data_mean + cut_off\n",
    "\n",
    "        df_drop = df_plcmnt[df_plcmnt.ctr > upper]\n",
    "        \n",
    "        service_container_campaign = controller.CampaignServiceContainer(campaign['customer_id'])\n",
    "        controller_campaign = controller.Campaign(service_container_campaign, campaign_id)\n",
    "        resp = controller_campaign.negative_criterions.make_from_df(data=df_drop)\n",
    "        for value in resp['value']:\n",
    "            url = value['criterion']['url']\n",
    "            database.upsert(\"placement_insights\", {\n",
    "                'campaign_id': campaign_id,\n",
    "                'display_name': url,\n",
    "                'status': 'excluded',\n",
    "            })"
   ]
  },
  {
   "cell_type": "code",
   "execution_count": null,
   "metadata": {},
   "outputs": [],
   "source": [
    "def process(database):\n",
    "    LOGGER_FOLDER = '/home/tim_su/ai_optimizer/opt/ai_optimizer/app_log/'\n",
    "    LOGGER_PATH = 'placement_handling/{database}/{date}.log'.format(\n",
    "        database=database.media,\n",
    "        date=datetime.datetime.strftime(datetime.datetime.today(), \"%m_%d_%Y\"))\n",
    "    logger.add(LOGGER_FOLDER + LOGGER_PATH)\n",
    "    performance_campaigns = database.get_performance_campaign().to_dict('records')\n",
    "    performance_campaigns = [campaign for campaign in performance_campaigns\n",
    "                             if eval(campaign['is_domain_adjust'])]\n",
    "    params = {'breakdowns': 'ad_group'}\n",
    "    for campaign in performance_campaigns:\n",
    "        campaign_id = campaign['campaign_id']\n",
    "        kpi = campaign['ai_spend_cap'] / campaign['destination']\n",
    "        report_generator = report_generator.PlacementReportGenerator(campaign_id,\n",
    "                                                                     media=database.media)\n",
    "        placements = report_generator.get_insights(date_preset='entire_time', params=params)\n",
    "        df_plcmnt = pd.DataFrame(placements)\n",
    "        for x in placements:\n",
    "            database.upsert(\"placement_insights\", x)\n",
    "        condtions = (df_plcmnt.ctr > 100) & (df_plcmnt.clicks > 10) & (df_plcmnt.spend > kpi)\n",
    "        df_drop = df_plcmnt[condtions]\n",
    "        \n",
    "        service_container_campaign = controller.CampaignServiceContainer(campaign['customer_id'])\n",
    "        controller_campaign = controller.Campaign(service_container_campaign, campaign_id)\n",
    "        resp = controller_campaign.negative_criterions.make_from_df(data=df_drop)\n",
    "        for value in resp['value']:\n",
    "            url = value['criterion']['url']\n",
    "            database.upsert(\"placement_insights\", {\n",
    "                'campaign_id': campaign_id,\n",
    "                'display_name': url,\n",
    "                'status': 'excluded',\n",
    "            })"
   ]
  },
  {
   "cell_type": "code",
   "execution_count": null,
   "metadata": {},
   "outputs": [],
   "source": [
    "def main():\n",
    "    global database_gdn, database_gsn\n",
    "    database_gdn = database_controller.GDN( database_controller.Database )\n",
    "    database_gsn = database_controller.GSN( database_controller.Database )\n",
    "    print('-'*20)\n",
    "    print(\"[main]: processing gdn\")\n",
    "    process(database=database_gdn)\n",
    "    print('-'*20)\n",
    "    print(\"[main]: processing gsn\")\n",
    "    process(database=database_gsn)"
   ]
  },
  {
   "cell_type": "code",
   "execution_count": null,
   "metadata": {},
   "outputs": [],
   "source": [
    "if __name__=='__main__':\n",
    "    main()"
   ]
  },
  {
   "cell_type": "code",
   "execution_count": 1,
   "metadata": {},
   "outputs": [
    {
     "name": "stdout",
     "output_type": "stream",
     "text": [
      "[NbConvertApp] Converting notebook google_adwords_placement_handling.ipynb to script\n",
      "[NbConvertApp] Writing 4253 bytes to google_adwords_placement_handling.py\n"
     ]
    }
   ],
   "source": [
    "# !jupyter nbconvert --to script google_adwords_placement_handling.ipynb"
   ]
  },
  {
   "cell_type": "code",
   "execution_count": null,
   "metadata": {},
   "outputs": [],
   "source": []
  }
 ],
 "metadata": {
  "kernelspec": {
   "display_name": "Python 3",
   "language": "python",
   "name": "python3"
  },
  "language_info": {
   "codemirror_mode": {
    "name": "ipython",
    "version": 3
   },
   "file_extension": ".py",
   "mimetype": "text/x-python",
   "name": "python",
   "nbconvert_exporter": "python",
   "pygments_lexer": "ipython3",
   "version": "3.6.9"
  },
  "varInspector": {
   "cols": {
    "lenName": 16,
    "lenType": 16,
    "lenVar": 40
   },
   "kernels_config": {
    "python": {
     "delete_cmd_postfix": "",
     "delete_cmd_prefix": "del ",
     "library": "var_list.py",
     "varRefreshCmd": "print(var_dic_list())"
    },
    "r": {
     "delete_cmd_postfix": ") ",
     "delete_cmd_prefix": "rm(",
     "library": "var_list.r",
     "varRefreshCmd": "cat(var_dic_list()) "
    }
   },
   "types_to_exclude": [
    "module",
    "function",
    "builtin_function_or_method",
    "instance",
    "_Feature"
   ],
   "window_display": false
  }
 },
 "nbformat": 4,
 "nbformat_minor": 4
}
