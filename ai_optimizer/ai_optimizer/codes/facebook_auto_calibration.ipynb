{
 "cells": [
  {
   "cell_type": "code",
   "execution_count": null,
   "metadata": {},
   "outputs": [],
   "source": [
    "import sys\n",
    "sys.path.append('../')\n",
    "import numpy as np\n",
    "import pandas as pd\n",
    "import datetime\n",
    "import matplotlib.pyplot as plt\n",
    "import statsmodels.api as sm\n",
    "import seaborn as sns\n",
    "from sklearn.preprocessing import StandardScaler, MinMaxScaler\n",
    "\n",
    "import facebook_business.adobjects.campaign as campaign\n",
    "import facebook_business.adobjects.adset as adset\n",
    "\n",
    "import adgeek_permission as permission\n",
    "import facebook_datacollector as data_collector\n",
    "import database_controller"
   ]
  },
  {
   "cell_type": "code",
   "execution_count": null,
   "metadata": {},
   "outputs": [],
   "source": [
    "LEN_SEQUENCE = 5"
   ]
  },
  {
   "cell_type": "code",
   "execution_count": null,
   "metadata": {},
   "outputs": [],
   "source": [
    "class TimeSegments:\n",
    "    Day = {'time_increment': 1,}\n",
    "    Hour = {'breakdowns':['hourly_stats_aggregated_by_audience_time_zone'],}"
   ]
  },
  {
   "cell_type": "code",
   "execution_count": null,
   "metadata": {},
   "outputs": [],
   "source": [
    "class Insights(object):\n",
    "    _fields = ['impressions', 'reach', 'cpm', 'frequency']\n",
    "    def __init__(self, campaign_id=None, adset_id=None, time_segment='Day', date_preset=None):\n",
    "        self.campaign_id = campaign_id\n",
    "        self.adset_id = adset_id\n",
    "        self.time_segment = time_segment\n",
    "        self.date_preset = date_preset\n",
    "        self.is_available = True\n",
    "        self.sequence = 0\n",
    "        self._api_init()\n",
    "        self._retrieve()\n",
    "        self._get_bid()\n",
    "        self._parse()\n",
    "        \n",
    "    def _api_init(self):\n",
    "        brief_campaign = database.get_one_campaign(campaign_id=self.campaign_id)\n",
    "        if brief_campaign.empty: raise ValueError(\"This campaign doesn't exist.\")\n",
    "        self.account_id = brief_campaign['account_id'].values[0].astype(object)\n",
    "        permission.init_facebook_api(self.account_id)\n",
    "        \n",
    "    def _set_time_segment(self):\n",
    "        self.params = dict()\n",
    "        if self.time_segment in ['Day', 'day']:\n",
    "            self.params.update(TimeSegments.Day)\n",
    "        elif self.time_segment in ['Hour', 'hour']:\n",
    "            self.params.update(TimeSegments.Hour)\n",
    "            \n",
    "    def _get_bid(self):\n",
    "        df_insights = database.retrieve(\"table_insights\", adset_id=self.adset_id)\n",
    "        if df_insights.empty:\n",
    "            self.is_available = False\n",
    "            return\n",
    "        self.df_bid = df_insights.set_index('request_time').resample('d').mean()[['bid_amount']]\n",
    "        \n",
    "    def _retrieve(self):\n",
    "        self._set_time_segment()\n",
    "        if self.adset_id:\n",
    "            self.raw_insights = list(adset.AdSet(self.adset_id).get_insights(params=self.params, fields=self._fields))\n",
    "        elif self.campaign_id:\n",
    "            self.raw_insights = list(campaign.Campaign(self.campaign_id).get_insights(params=self.params, fields=self._fields))\n",
    "        return self.raw_insights\n",
    "        \n",
    "    def _parse(self):\n",
    "        df = pd.DataFrame()\n",
    "        for insight in self.raw_insights:\n",
    "            df = pd.concat([df, pd.DataFrame(dict(insight), index=[0])])\n",
    "        if df.empty or len(df) < LEN_SEQUENCE:\n",
    "            self.is_available = False\n",
    "            return\n",
    "        df = df[df.cpm!='0']\n",
    "        df[['date_start', 'date_stop']] = df[['date_start', 'date_stop']].apply( pd.to_datetime, errors='coerce' )\n",
    "        df[['impressions', 'reach', 'cpm', 'frequency']] = df[['impressions', 'reach', 'cpm', 'frequency']].apply( pd.to_numeric, errors='coerce' )\n",
    "        df['cpr'] = df['cpm'] * df['frequency']\n",
    "        self.df_insights = df.set_index('date_start')\n",
    "        self.df_insights = self.df_insights.reindex(\n",
    "            pd.date_range(start=self.df_insights.index.min(),\n",
    "                          end=self.df_insights.index.max(),\n",
    "                          freq='D'),\n",
    "            fill_value=np.nan\n",
    "        )\n",
    "        self.df_bid = self.df_bid.reindex(\n",
    "            pd.date_range(start=self.df_bid.index.min(),\n",
    "                          end=self.df_bid.index.max(),\n",
    "                          freq='D'),\n",
    "            fill_value=np.nan\n",
    "        )\n",
    "        self.df_insights = self.df_insights.join(self.df_bid).interpolate()\n",
    "        self.df_insights = self.df_insights[self.df_insights.bid_amount != 0].dropna(subset=['bid_amount'])\n",
    "        self.sequence = len(self.df_insights)\n",
    "        self.origin_bid = self.df_insights.tail(1).bid_amount.values[0]\n",
    "        return self.df_insights\n",
    "    \n",
    "    def polynomial_fit(self, degree=2):\n",
    "        assert len(self.df_insights.bid_amount.values) == len(self.df_insights.cpm.values)\n",
    "        index_series = np.array([x for x in range(0, len(self.df_insights.bid_amount.values)+1)])\n",
    "        # init scaler\n",
    "        cpm_scaler = MinMaxScaler()\n",
    "        bid_scaler = MinMaxScaler()#feature_range=(1, 10000))\n",
    "        # first fit cpm\n",
    "        cpm_scaler.fit(self.df_insights.bid_amount.values.reshape(-1, 1))\n",
    "        scaled_cpm = cpm_scaler.fit_transform(self.df_insights.cpm.values.reshape(-1, 1))\n",
    "#         print('[scaled_cpm]:', scaled_cpm)\n",
    "        # fit bid amount data\n",
    "        bid_scaler.fit(self.df_insights.cpm.values.reshape(-1, 1))\n",
    "        scaled_bid = bid_scaler.fit_transform(self.df_insights.bid_amount.values.reshape(-1, 1))\n",
    "\n",
    "        reg = np.polyfit(index_series[:-1], scaled_cpm.reshape(-1), degree)\n",
    "#         print('[reg]:', reg)\n",
    "    #     return reg\n",
    "        scaled = np.polyval(reg, np.array([index_series[-1]]))\n",
    "#         print('[scaled]:', scaled)\n",
    "        revert_bid = bid_scaler.inverse_transform(scaled.reshape(-1, 1))\n",
    "        self.reverted_bid = revert_bid.reshape(-1)[0]\n",
    "#         percentage = (self.reverted_bid - self.df_insights.tail(1).bid_amount.values[0]) / self.reverted_bid\n",
    "#         print('=======', self.adset_id, self.reverted_bid, 'percentage: ', percentage)\n",
    "        return self.reverted_bid if self.reverted_bid > 0 else None\n"
   ]
  },
  {
   "cell_type": "code",
   "execution_count": null,
   "metadata": {},
   "outputs": [],
   "source": [
    "def main():\n",
    "    global database\n",
    "    database = database_controller.FB( database_controller.Database )\n",
    "    performance_campaigns = database.get_performance_campaign().to_dict('records')\n",
    "    print(datetime.date.today() - performance_campaigns[0]['ai_start_date'])\n",
    "    for campaign in performance_campaigns:\n",
    "        days_passed = datetime.date.today() - performance_campaigns[0]['ai_start_date']\n",
    "        if days_passed >= 5:\n",
    "            permission.init_facebook_api(campaign['account_id'])\n",
    "            adset_ids = data_collector.Campaigns(campaign_id=campaign['campaign_id'],\n",
    "                                                 database_fb=database).get_adsets_active()\n",
    "\n",
    "            print('Campaign: {}============='.format(campaign['campaign_id']))\n",
    "            for adset_id in adset_ids:\n",
    "                print('\\tAdSet: {}============='.format(adset_id))\n",
    "                ins = Insights(campaign_id=campaign['campaign_id'], adset_id=adset_id)\n",
    "                if ins.is_available:\n",
    "                    bid = ins.polynomial_fit()\n",
    "                    if bid:\n",
    "                        database.update_init_bid(adset_id=ins.adset_id, update_ratio=1)\n",
    "                    print('\\t[status record]: bid={}'.format(ins.reverted_bid), )\n",
    "                    print('\\t[status record]: origin bid={}'.format(ins.origin_bid), )\n",
    "                    print('\\t[status record]: sequence={}'.format(ins.sequence), )\n"
   ]
  },
  {
   "cell_type": "code",
   "execution_count": null,
   "metadata": {},
   "outputs": [],
   "source": [
    "if __name__=='__main__':\n",
    "    main()"
   ]
  },
  {
   "cell_type": "code",
   "execution_count": 1,
   "metadata": {},
   "outputs": [
    {
     "name": "stdout",
     "output_type": "stream",
     "text": [
      "[NbConvertApp] Converting notebook facebook_auto_calibration.ipynb to script\n",
      "[NbConvertApp] Writing 7604 bytes to facebook_auto_calibration.py\n"
     ]
    }
   ],
   "source": [
    "# !jupyter nbconvert --to script facebook_auto_calibration.ipynb"
   ]
  },
  {
   "cell_type": "code",
   "execution_count": null,
   "metadata": {},
   "outputs": [],
   "source": [
    "# database = database_controller.FB( database_controller.Database )\n",
    "# campaign_id = 23843468131980091\n",
    "# adset_id = 23843886505160091\n",
    "# ins = Insights(campaign_id=campaign_id, adset_id=adset_id)"
   ]
  },
  {
   "cell_type": "markdown",
   "metadata": {},
   "source": [
    "0.317138,0.983337,0.974521,0.131263,0.965162,0.509806,0.196673\n",
    "awareness,interest,desire,action,landing_page_view,link_click,reach,impressions,ctr,spend,bid_amount\n",
    "\n",
    "5,4,0,0,NULL,NULL,1117,1387,NULL,245,848\n",
    "\n",
    "2,8,3,1,NULL,NULL,464,568,NULL,76,433"
   ]
  },
  {
   "cell_type": "markdown",
   "metadata": {},
   "source": [
    "weight = np.array([0.317138,0.983337,0.974521,0.131263,0.965162,0.509806,0.196673])\n",
    "a = np.array([5,4,0,0,np.nan,np.nan,1117,1387,np.nan,245,848])\n",
    "b = np.array([2,8,3,1,np.nan,np.nan,464,568,np.nan,76,433])"
   ]
  },
  {
   "cell_type": "code",
   "execution_count": null,
   "metadata": {},
   "outputs": [],
   "source": []
  }
 ],
 "metadata": {
  "kernelspec": {
   "display_name": "Python 3",
   "language": "python",
   "name": "python3"
  },
  "language_info": {
   "codemirror_mode": {
    "name": "ipython",
    "version": 3
   },
   "file_extension": ".py",
   "mimetype": "text/x-python",
   "name": "python",
   "nbconvert_exporter": "python",
   "pygments_lexer": "ipython3",
   "version": "3.6.8"
  }
 },
 "nbformat": 4,
 "nbformat_minor": 4
}
