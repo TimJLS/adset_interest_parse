{
 "cells": [
  {
   "cell_type": "code",
   "execution_count": 1,
   "metadata": {},
   "outputs": [],
   "source": [
    "import gsn_db\n",
    "import datetime\n",
    "from googleads import adwords\n",
    "import pandas as pd\n",
    "import copy\n",
    "import math\n",
    "import datetime\n",
    "from enum import Enum\n",
    "AUTH_FILE_PATH = '/home/tim_su/ai_optimizer/opt/ai_optimizer/googleads.yaml'\n",
    "adwords_client = adwords.AdWordsClient.LoadFromStorage(AUTH_FILE_PATH)"
   ]
  },
  {
   "cell_type": "code",
   "execution_count": 2,
   "metadata": {},
   "outputs": [],
   "source": [
    "class Status(object):\n",
    "    enable = 'ENABLED'\n",
    "    pause = 'PAUSED'"
   ]
  },
  {
   "cell_type": "code",
   "execution_count": 3,
   "metadata": {},
   "outputs": [],
   "source": [
    "class OperatorContainer():\n",
    "    def __init__(self):\n",
    "        self.selector = [{\n",
    "            'fields': None,\n",
    "            'predicates': [{\n",
    "                'field': 'AdGroupId',\n",
    "                'operator': 'EQUALS',\n",
    "                'values':[None]\n",
    "            }]\n",
    "        }]\n",
    "        self.selector_ad = [{\n",
    "            'fields': None,\n",
    "            'predicates': [\n",
    "                {\n",
    "                    'field': 'Id',\n",
    "                    'operator': 'EQUALS',\n",
    "                    'values':[None]\n",
    "                },\n",
    "                {\n",
    "                    'field': 'AdGroupId',\n",
    "                    'operator': 'EQUALS',\n",
    "                    'values':[None]\n",
    "                }\n",
    "            ]\n",
    "        }]\n",
    "        self.selector_campaign = [{\n",
    "            'fields': None,\n",
    "            'predicates': [{\n",
    "                'field': 'CampaignId',\n",
    "                'operator': 'EQUALS',\n",
    "                'values':[None]\n",
    "            },\n",
    "            {\n",
    "                'field': 'Status',\n",
    "                'operator': 'EQUALS',\n",
    "                'values':'ENABLED'\n",
    "            }]\n",
    "        }]\n",
    "        self.criterion = {\n",
    "            'id':None, \n",
    "            'xsi_type':None,\n",
    "        }\n",
    "        self.operand = {\n",
    "            'id': None,\n",
    "        }\n",
    "        self.criterion_operand = {\n",
    "            'adGroupId': None,\n",
    "            'xsi_type': None,\n",
    "            'criterion': None,\n",
    "        }\n",
    "        self.operation = {\n",
    "            'operator': None,\n",
    "            'operand': None\n",
    "        }\n",
    "        self.operations = []"
   ]
  },
  {
   "cell_type": "code",
   "execution_count": null,
   "metadata": {},
   "outputs": [],
   "source": []
  }
 ],
 "metadata": {
  "kernelspec": {
   "display_name": "Python 3",
   "language": "python",
   "name": "python3"
  },
  "language_info": {
   "codemirror_mode": {
    "name": "ipython",
    "version": 3
   },
   "file_extension": ".py",
   "mimetype": "text/x-python",
   "name": "python",
   "nbconvert_exporter": "python",
   "pygments_lexer": "ipython3",
   "version": "3.6.7"
  },
  "varInspector": {
   "cols": {
    "lenName": 16,
    "lenType": 16,
    "lenVar": 40
   },
   "kernels_config": {
    "python": {
     "delete_cmd_postfix": "",
     "delete_cmd_prefix": "del ",
     "library": "var_list.py",
     "varRefreshCmd": "print(var_dic_list())"
    },
    "r": {
     "delete_cmd_postfix": ") ",
     "delete_cmd_prefix": "rm(",
     "library": "var_list.r",
     "varRefreshCmd": "cat(var_dic_list()) "
    }
   },
   "types_to_exclude": [
    "module",
    "function",
    "builtin_function_or_method",
    "instance",
    "_Feature"
   ],
   "window_display": false
  }
 },
 "nbformat": 4,
 "nbformat_minor": 2
}
