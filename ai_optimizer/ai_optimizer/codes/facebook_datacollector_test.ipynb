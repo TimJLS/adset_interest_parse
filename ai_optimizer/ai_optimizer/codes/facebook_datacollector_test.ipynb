{
 "cells": [
  {
   "cell_type": "code",
   "execution_count": 1,
   "metadata": {},
   "outputs": [],
   "source": [
    "from pathlib import Path\n",
    "from facebook_business.api import FacebookAdsApi\n",
    "from facebook_business.adobjects.adaccount import AdAccount\n",
    "import facebook_business.adobjects.adset as adset\n",
    "from facebook_business.adobjects.ad import Ad\n",
    "import facebook_business.adobjects.campaign as campaign\n",
    "from facebook_business.adobjects.adcreative import AdCreative\n",
    "from facebook_business.adobjects.adactivity import AdActivity\n",
    "from facebook_business.adobjects.insightsresult import InsightsResult\n",
    "from facebook_business.adobjects.adsinsights import AdsInsights\n",
    "# my_app_id = '958842090856883'\n",
    "# my_app_secret = 'a952f55afca38572cea2994d440d674b'\n",
    "# my_access_token = 'EAANoD9I4obMBACygIE9jqmlaWeOW6tBma0oS6JbRpLgAvOYXpVi2XcXuasuwbBgqmaZBj5cP8MHE5WY2l9tAoi549eGZCP61mKr9BA8rZA6kxEW4ovX3KlbbrRGgt4RZC8MAi1UG0l0ZBUd0UBAhIPhzkZBi46ncuyCwkYPB7a6voVBZBTbEZAwH3azZA3Ph6g7aCOfxZCdDOp4AZDZD'\n",
    "\n",
    "# FacebookAdsApi.init(my_app_id, my_app_secret, my_access_token)\n",
    "\n",
    "import json\n",
    "import datetime\n",
    "import pandas as pd\n",
    "import math\n",
    "import random\n",
    "\n",
    "import adgeek_permission as permission\n",
    "import mysql_adactivity_save\n",
    "from bid_operator import *"
   ]
  },
  {
   "cell_type": "code",
   "execution_count": 2,
   "metadata": {},
   "outputs": [],
   "source": [
    "\n",
    "CAMPAIGN_OBJECTIVE_FIELD = {\n",
    "    'LINK_CLICKS': 'link_click',\n",
    "    'POST_ENGAGEMENT': 'post_engagement', \n",
    "    'LANDING_PAGE_VIEW': 'landing_page_view',\n",
    "    'VIDEO_VIEWS': 'video_view', \n",
    "    'CONVERSIONS':'offsite_conversion.fb_pixel_purchase',\n",
    "    'ADD_TO_CART':'offsite_conversion.fb_pixel_add_to_cart',\n",
    "    'THRUPLAY': 'video_view',\n",
    "    'APP_INSTALLS': 'app_installs',\n",
    "    'BRAND_AWARENESS': 'brand_awareness',\n",
    "    'EVENT_RESPONSES': 'event_responses',\n",
    "    'LEAD_GENERATION': 'leadgen.other',\n",
    "    'LOCAL_AWARENESS': 'local_awareness',\n",
    "    'OFFER_CLAIMS': 'offer_claims',\n",
    "    'PAGE_LIKES': 'like',\n",
    "    'PRODUCT_CATALOG_SALES': 'product_catalog_sales',\n",
    "    'REACH': 'reach',\n",
    "    'ALL_CLICKS': 'clicks',\n",
    "    'IMPRESSIONS': 'impressions',\n",
    "    \n",
    "    'COMPLETE_REGISTRATION': 'offsite_conversion.fb_pixel_complete_registration',\n",
    "    'VIEW_CONTENT': 'offsite_conversion.fb_pixel_view_content',\n",
    "    'ADD_PAYMENT_INFO': 'offsite_conversion.fb_pixel_add_payment_info',\n",
    "    'ADD_TO_WISHLIST': 'offsite_conversion.fb_pixel_add_to_wishlist',\n",
    "    'LEAD_WEBSITE': 'offsite_conversion.fb_pixel_lead',\n",
    "    'PURCHASES': 'offsite_conversion.fb_pixel_purchase',\n",
    "    'INITIATE_CHECKOUT': 'offsite_conversion.fb_pixel_initiate_checkout',\n",
    "    'SEARCH': 'offsite_conversion.fb_pixel_search',\n",
    "    'MESSAGES': 'onsite_conversion.messaging_reply',\n",
    "    \"CUSTOM\": \"offsite_conversion.custom.\"\n",
    "}\n",
    "CAMPAIGN_FIELD = {\n",
    "    'spend_cap': campaign.Campaign.Field.spend_cap,\n",
    "    'objective': campaign.Campaign.Field.objective,\n",
    "    'start_time': campaign.Campaign.Field.start_time,\n",
    "    'stop_time': campaign.Campaign.Field.stop_time,\n",
    "}\n",
    "ADSET_FIELD = {\n",
    "    'optimization_goal':adset.AdSet.Field.optimization_goal,\n",
    "    'bid_amount':adset.AdSet.Field.bid_amount,\n",
    "    'daily_budget':adset.AdSet.Field.daily_budget,\n",
    "    'targeting':adset.AdSet.Field.targeting,\n",
    "    'status':adset.AdSet.Field.status\n",
    "}\n",
    "CAMPAIGN_INSIGHTS_FIELD = {\n",
    "    'campaign_id': AdsInsights.Field.campaign_id,\n",
    "}\n",
    "ADSET_INSIGHTS_FIELD = {\n",
    "    'adset_id': AdsInsights.Field.adset_id,\n",
    "}\n",
    "GENERAL_FIELD = {\n",
    "    'impressions': AdsInsights.Field.impressions,\n",
    "    'reach': AdsInsights.Field.reach,\n",
    "    'spend': AdsInsights.Field.spend,\n",
    "    'cpc': AdsInsights.Field.cpc,\n",
    "    'clicks': AdsInsights.Field.clicks,\n",
    "}\n",
    "TARGET_FIELD = {\n",
    "    'actions': AdsInsights.Field.actions,\n",
    "    'cost_per_actions': AdsInsights.Field.cost_per_action_type,\n",
    "    'thruplay_actions': AdsInsights.Field.video_thruplay_watched_actions,\n",
    "    'cost_per_thruplay': AdsInsights.Field.cost_per_thruplay\n",
    "}\n",
    "GENERAL_INSIGHTS = {\n",
    "    'impressions': AdsInsights.Field.impressions,\n",
    "    'spend': AdsInsights.Field.spend,\n",
    "    'ctr': AdsInsights.Field.ctr\n",
    "}\n",
    "TARGET_INSIGHTS = {\n",
    "    'actions': AdsInsights.Field.actions,\n",
    "}\n",
    "FUNNEL_METRICS = {\n",
    "    \"CONVERSIONS\": {\n",
    "        \"offsite_conversion.fb_pixel_purchase\": \"action\",\n",
    "        \"offsite_conversion.fb_pixel_add_to_cart\": \"desire\",\n",
    "        \"offsite_conversion.fb_pixel_view_content\": \"interest\",\n",
    "        \"landing_page_view\": \"awareness\",\n",
    "    },\n",
    "    \"PURCHASE\": {\n",
    "        \"offsite_conversion.fb_pixel_purchase\": \"action\",\n",
    "        \"offsite_conversion.fb_pixel_add_to_cart\": \"desire\",\n",
    "        \"offsite_conversion.fb_pixel_view_content\": \"interest\",\n",
    "        \"landing_page_view\": \"awareness\",\n",
    "    },\n",
    "    \"LEAD_WEBSITE\": {\n",
    "        \"offsite_conversion.fb_pixel_lead\":\"action\",\n",
    "        \"offsite_conversion.fb_pixel_view_content\":\"desire\",\n",
    "        \"landing_page_view\":\"interest\",\n",
    "        \"link_click\": \"awareness\",\n",
    "    },\n",
    "    \"LINK_CLICKS\": {\n",
    "        \"link_click\": \"action\",\n",
    "    },\n",
    "    \"POST_ENGAGEMENT\": {\n",
    "        \"post_engagement\": \"action\",\n",
    "    },\n",
    "    \"VIDEO_VIEWS\": {\n",
    "        \"video_view\": \"action\",\n",
    "    },\n",
    "    \"LEAD_GENERATION\": {\n",
    "        \"leadgen.other\": \"action\",\n",
    "    },\n",
    "    \"PAGE_LIKES\": {\n",
    "        \"like\": \"action\",\n",
    "    },\n",
    "    \"COMPLETE_REGISTRATION\": {\n",
    "        \"offsite_conversion.fb_pixel_complete_registration\": \"action\",\n",
    "    },\n",
    "    \"VIEW_CONTENT\": {\n",
    "        \"offsite_conversion.fb_pixel_view_content\": \"action\",\n",
    "    },\n",
    "    \"ADD_PAYMENT_INFO\": {\n",
    "        \"offsite_conversion.fb_pixel_add_payment_info\": \"action\",\n",
    "    },\n",
    "    \"ADD_TO_WISHLIST\": {\n",
    "        \"offsite_conversion.fb_pixel_add_to_wishlist\": \"action\",\n",
    "    },\n",
    "    \"INITIATE_CHECKOUT\": {\n",
    "        \"offsite_conversion.fb_pixel_initiate_checkout\": \"action\",\n",
    "    },\n",
    "    \"SEARCH\": {\n",
    "        \"offsite_conversion.fb_pixel_search\": \"action\",\n",
    "    },\n",
    "}\n",
    "FUNNEL_LIST = ['action', 'desire', 'interest', 'awareness']\n",
    "BRANDING_CAMPAIGN_LIST = [\n",
    "    'THRUPLAY', 'LINK_CLICKS', 'ALL_CLICKS', 'VIDEO_VIEWS', 'REACH', 'POST_ENGAGEMENT', 'PAGE_LIKES', 'LANDING_PAGE_VIEW']\n",
    "PERFORMANCE_CAMPAIGN_LIST = [\n",
    "    'MESSAGES', 'SEARCH', 'INITIATE_CHECKOUT', 'LEAD_WEBSITE', 'PURCHASES', 'ADD_TO_WISHLIST', 'VIEW_CONTENT', 'ADD_PAYMENT_INFO', 'COMPLETE_REGISTRATION', 'CONVERSIONS', 'LEAD_GENERATION', 'ADD_TO_CART']\n"
   ]
  },
  {
   "cell_type": "code",
   "execution_count": 3,
   "metadata": {},
   "outputs": [],
   "source": [
    "class DatePreset:\n",
    "    today = 'today'\n",
    "    yesterday = 'yesterday'\n",
    "    this_month = 'this_month'\n",
    "    last_month = 'last_month'\n",
    "    this_quarter = 'this_quarter'\n",
    "    lifetime = 'lifetime'\n",
    "    last_3d = 'last_3d'\n",
    "    last_7d = 'last_7d'\n",
    "    last_14d = 'last_14d'\n",
    "    last_28d = 'last_28d'\n",
    "    last_30d = 'last_30d'\n",
    "    last_90d = 'last_90d'\n",
    "    last_week_mon_sun = 'last_week_mon_sun'\n",
    "    last_week_sun_sat = 'last_week_sun_sat'\n",
    "    last_quarter = 'last_quarter'\n",
    "    last_year = 'last_year'\n",
    "    this_week_mon_today = 'this_week_mon_today'\n",
    "    this_week_sun_today = 'this_week_sun_today'\n",
    "    this_year = 'this_year'\n",
    "\n",
    "    \n",
    "class Status:\n",
    "    active = 'ACTIVE'\n",
    "    paused = 'PAUSED'\n",
    "    \n",
    "    \n",
    "class Field:\n",
    "    ai_spend_cap = 'ai_spend_cap'\n",
    "    ai_start_date = 'ai_start_date'\n",
    "    ai_stop_date = 'ai_stop_date'\n",
    "    target_type = 'target_type'\n",
    "    target = 'target'\n",
    "    cost_per_target = 'cost_per_target'\n",
    "    charge_type = 'charge_type'\n",
    "    start_time = 'start_time'\n",
    "    stop_time = 'stop_time'\n",
    "    period = 'period'\n",
    "    daily_budget = 'daily_budget'\n",
    "    bid_amount = 'bid_amount'\n",
    "    account_id = 'account_id'\n",
    "    actions = 'actions'\n",
    "    adset_id = 'adset_id'\n",
    "    campaign_id = 'campaign_id'\n",
    "    clicks = 'clicks'\n",
    "    targeting = 'targeting'\n",
    "    age_max = 'age_max'\n",
    "    age_min = 'age_min'\n",
    "    flexible_spec = 'flexible_spec'\n",
    "    geo_locations = 'geo_locations'\n",
    "    status = 'status'\n",
    "    conversion_values = 'conversion_values'\n",
    "    conversions = 'conversions'\n",
    "    cost_per_10_sec_video_view = 'cost_per_10_sec_video_view'\n",
    "    cost_per_15_sec_video_view = 'cost_per_15_sec_video_view'\n",
    "    cost_per_2_sec_continuous_video_view = 'cost_per_2_sec_continuous_video_view'\n",
    "    cost_per_action_type = 'cost_per_action_type'\n",
    "    cost_per_ad_click = 'cost_per_ad_click'\n",
    "    cost_per_conversion = 'cost_per_conversion'\n",
    "    cost_per_dda_countby_convs = 'cost_per_dda_countby_convs'\n",
    "    cost_per_estimated_ad_recallers = 'cost_per_estimated_ad_recallers'\n",
    "    cost_per_inline_link_click = 'cost_per_inline_link_click'\n",
    "    cost_per_inline_post_engagement = 'cost_per_inline_post_engagement'\n",
    "    cost_per_one_thousand_ad_impression = 'cost_per_one_thousand_ad_impression'\n",
    "    cost_per_outbound_click = 'cost_per_outbound_click'\n",
    "    cost_per_thruplay = 'cost_per_thruplay'\n",
    "    cost_per_unique_action_type = 'cost_per_unique_action_type'\n",
    "    cost_per_unique_click = 'cost_per_unique_click'\n",
    "    cost_per_unique_conversion = 'cost_per_unique_conversion'\n",
    "    cost_per_unique_inline_link_click = 'cost_per_unique_inline_link_click'\n",
    "    cost_per_unique_outbound_click = 'cost_per_unique_outbound_click'\n",
    "    cpc = 'cpc'\n",
    "    cpm = 'cpm'\n",
    "    cpp = 'cpp'\n",
    "    created_time = 'created_time'\n",
    "    ctr = 'ctr'\n",
    "    frequency = 'frequency'\n",
    "    frequency_value = 'frequency_value'\n",
    "    impressions = 'impressions'\n",
    "    inline_link_click_ctr = 'inline_link_click_ctr'\n",
    "    inline_link_clicks = 'inline_link_clicks'\n",
    "    inline_post_engagement = 'inline_post_engagement'\n",
    "    objective = 'objective'\n",
    "    outbound_clicks = 'outbound_clicks'\n",
    "    outbound_clicks_ctr = 'outbound_clicks_ctr'\n",
    "    product_id = 'product_id'\n",
    "    purchase_roas = 'purchase_roas'\n",
    "    reach = 'reach'\n",
    "    relevance_score = 'relevance_score'\n",
    "    spend = 'spend'\n",
    "    spend_cap = 'spend_cap'\n",
    "    unique_actions = 'unique_actions'\n",
    "    unique_clicks = 'unique_clicks'\n",
    "    unique_conversions = 'unique_conversions'\n",
    "    unique_ctr = 'unique_ctr'\n",
    "    unique_inline_link_click_ctr = 'unique_inline_link_click_ctr'\n",
    "    unique_inline_link_clicks = 'unique_inline_link_clicks'\n",
    "    unique_link_clicks_ctr = 'unique_link_clicks_ctr'\n",
    "    unique_outbound_clicks = 'unique_outbound_clicks'\n",
    "    unique_outbound_clicks_ctr = 'unique_outbound_clicks_ctr'\n",
    "    unique_video_continuous_2_sec_watched_actions = 'unique_video_continuous_2_sec_watched_actions'\n",
    "    unique_video_view_10_sec = 'unique_video_view_10_sec'\n",
    "    unique_video_view_15_sec = 'unique_video_view_15_sec'\n",
    "    thruplay_actions = 'thruplay_actions'\n",
    "    cost_per_thruplay = 'cost_per_thruplay'\n",
    "    website_ctr = 'website_ctr'\n",
    "    website_purchase_roas = 'website_purchase_roas'\n",
    "    "
   ]
  },
  {
   "cell_type": "code",
   "execution_count": 4,
   "metadata": {},
   "outputs": [],
   "source": [
    "class Accounts(object):\n",
    "    def __init__( self, account_id ):\n",
    "        self.account_id = account_id\n",
    "        self.account_insights = dict()\n",
    "        \n",
    "    def get_account_insights( self, date_preset=DatePreset.yesterday ):\n",
    "        accounts = AdAccount( self.account_id )\n",
    "        params = {\n",
    "            'date_preset': date_preset,\n",
    "        }\n",
    "        insights = accounts.get_insights(\n",
    "            params=params,\n",
    "            fields=list( GENERAL_FIELD.values() )+list( TARGET_FIELD.values() )\n",
    "        )\n",
    "#         print(insights)\n",
    "        current_account = insights[0]\n",
    "        return current_account\n",
    "    \n",
    "class Campaigns(object):\n",
    "    def __init__( self, campaign_id, charge_type=None ):\n",
    "        self.campaign_id = campaign_id\n",
    "        self.charge_type = charge_type\n",
    "        self.campaign_insights = dict.fromkeys(FUNNEL_LIST, 0)\n",
    "        self.campaign_features = dict()\n",
    "        brief_dict = mysql_adactivity_save.get_campaign_ai_brief( self.campaign_id )\n",
    "        self.ai_spend_cap = brief_dict[Field.ai_spend_cap]\n",
    "        self.ai_start_date = brief_dict[Field.ai_start_date]\n",
    "        self.ai_stop_date = brief_dict[Field.ai_stop_date]\n",
    "        self.charge_type = brief_dict[Field.charge_type]\n",
    "        self.custom_conversion_id = brief_dict[\"custom_conversion_id\"]\n",
    "        \n",
    "    # Getters\n",
    "    \n",
    "    def get_campaign_features( self ):\n",
    "        ad_campaign = campaign.Campaign( self.campaign_id )\n",
    "        adcamps = ad_campaign.remote_read( fields = list(CAMPAIGN_FIELD.values()) )\n",
    "        for campaign_field in list(adcamps.keys()):\n",
    "            self.campaign_features.update( {campaign_field:adcamps.get(campaign_field)} )\n",
    "        return self.campaign_features\n",
    "    \n",
    "    def get_campaign_insights( self, date_preset=None ):\n",
    "        params = {}\n",
    "        if date_preset is None or date_preset == DatePreset.lifetime:\n",
    "            params = {\n",
    "                'time_range[since]': self.ai_start_date,\n",
    "                'time_range[until]': self.ai_stop_date,\n",
    "            }\n",
    "        else:\n",
    "            params = {\n",
    "                'date_preset': date_preset,\n",
    "            }\n",
    "        camp = campaign.Campaign( self.campaign_id )\n",
    "        try:\n",
    "            insights = camp.get_insights(\n",
    "                params=params,\n",
    "                fields=list( GENERAL_FIELD.values() )+list( TARGET_FIELD.values() )\n",
    "            )\n",
    "        except:\n",
    "            insights = camp.get_insights(\n",
    "                fields=list( GENERAL_FIELD.values() )+list( TARGET_FIELD.values() )\n",
    "            )\n",
    "        if len(insights) > 0:\n",
    "            current_campaign = insights[0]\n",
    "            if current_campaign.get(Field.impressions):\n",
    "                spend = int( float( current_campaign.get( Field.spend ) ) )\n",
    "            if current_campaign.get( Field.actions ) and FUNNEL_METRICS.get( self.charge_type ):\n",
    "                actions_list = current_campaign.get( Field.actions )\n",
    "                actions_dict = FUNNEL_METRICS.get( self.charge_type )\n",
    "                if self.custom_conversion_id:\n",
    "                    custom_conversion_key = 'offsite_conversion.custom.' + str(self.custom_conversion_id)\n",
    "                    insights = dict( { custom_conversion_key: 0 } )\n",
    "                    action_type_list = [act[\"action_type\"] for act in actions_list]\n",
    "                    action_value_list = [int(act[\"value\"]) for act in actions_list]\n",
    "                    insights.update( dict( zip( action_type_list, action_value_list ) ) )\n",
    "                    for key, val in insights.copy().items():\n",
    "                        if val < insights[custom_conversion_key]:\n",
    "                            insights.pop(key)\n",
    "                    value_list = list(sorted(set(insights.values()), reverse=False))[:4]\n",
    "                    values = set([insights[custom_conversion_key]])\n",
    "                    for key, val in insights.copy().items():\n",
    "                        if key != custom_conversion_key:\n",
    "                            if val in values: \n",
    "                                del insights[key]\n",
    "                            else:\n",
    "                                values.add(val)\n",
    "                    for key, val in insights.copy().items():\n",
    "                        if val not in value_list:\n",
    "                            insights.pop(key)\n",
    "                    funnel_dict = dict( zip( insights.keys(), FUNNEL_LIST ) )\n",
    "                    actual_metrics_list = list(insights.keys())\n",
    "                    insights = dict((funnel_dict[key], value) for (key, value) in insights.items())\n",
    "                    insights.update({\"actual_metrics\": str(actual_metrics_list)})\n",
    "                    self.campaign_insights.update( insights )\n",
    "                    \n",
    "                else:\n",
    "                    action_type_list = [actions_dict.get(act[\"action_type\"]) for act in actions_list if act[\"action_type\"] in actions_dict]\n",
    "                    action_value_list = [int(act[\"value\"]) for act in actions_list if act[\"action_type\"] in actions_dict]\n",
    "                    self.campaign_insights.update(\n",
    "                        dict( zip( action_type_list, action_value_list ) )\n",
    "                    )\n",
    "\n",
    "            elif current_campaign.get( Field.thruplay_actions ) and self.charge_type=='THRUPLAY':\n",
    "                actions_list = current_campaign.get( Field.thruplay_actions )\n",
    "                for act in actions_list:\n",
    "                    if act[\"action_type\"] == CAMPAIGN_OBJECTIVE_FIELD[ self.charge_type ]:\n",
    "                        target = int( act.get(\"value\") ) if act.get(\"value\") else 0\n",
    "                        self.campaign_insights.update( {\"action\": target} )\n",
    "            for campaign_field in list( GENERAL_FIELD.keys() ):\n",
    "                self.campaign_insights.update( {campaign_field: current_campaign.get(campaign_field)} )\n",
    "            # Deal with those metrics not in 'actions' metric\n",
    "            if self.charge_type == 'ALL_CLICKS':\n",
    "                '''assign to field target and cost_per_target'''\n",
    "                self.campaign_insights[ \"action\" ] = self.campaign_insights.pop( Field.clicks )\n",
    "                self.campaign_insights[ Field.cost_per_target ] = self.campaign_insights.pop( Field.cpc )\n",
    "            elif self.charge_type == 'REACH':\n",
    "                self.campaign_insights[ \"action\" ] = self.campaign_insights[ Field.reach ]\n",
    "                self.campaign_insights.pop( Field.clicks )\n",
    "                self.campaign_insights.pop( Field.cpc )\n",
    "            elif self.charge_type == 'IMPRESSIONS':\n",
    "                self.campaign_insights[ \"action\" ] = self.campaign_insights[ Field.impressions ]\n",
    "                self.campaign_insights.pop( Field.clicks )\n",
    "                self.campaign_insights.pop( Field.cpc )\n",
    "            else:\n",
    "                self.campaign_insights.pop( Field.clicks )\n",
    "                self.campaign_insights.pop( Field.cpc )\n",
    "        return self.campaign_insights\n",
    "\n",
    "    def get_adsets( self ):\n",
    "        adset_list=list()\n",
    "        camp = campaign.Campaign( self.campaign_id )\n",
    "        adsets = camp.get_ad_sets( fields = [adset.AdSet.Field.id ,  adset.AdSet.Field.status])\n",
    "        for adset_id in adsets:\n",
    "            adset_list.append( adset_id.get(\"id\") )\n",
    "        return adset_list\n",
    "    \n",
    "    def get_adsets_active(self):\n",
    "        adset_active_list = list()\n",
    "        camp = campaign.Campaign( self.campaign_id )\n",
    "        adsets = camp.get_ad_sets( fields = [adset.AdSet.Field.id ,  adset.AdSet.Field.status])\n",
    "#         print('[get_adsets_active] adsets:', adsets )\n",
    "        for adset_id in adsets:\n",
    "            if  adset_id.get(\"status\") == 'ACTIVE' :\n",
    "                adset_active_list.append( adset_id.get(\"id\") )\n",
    "        print('[get_adsets_active] adset_active_list:', adset_active_list )\n",
    "        return adset_active_list\n",
    "\n",
    "    def get_account_id( self ):\n",
    "        camp = campaign.Campaign( self.campaign_id )\n",
    "        account = camp.get_ad_sets(fields=[campaign.Campaign.Field.account_id])\n",
    "        current_account = account[0]\n",
    "        return current_account.get( Field.account_id )\n",
    "        \n",
    "    # Operator\n",
    "    \n",
    "    def generate_info( self, date_preset=DatePreset.lifetime ):\n",
    "        self.get_campaign_features()\n",
    "        self.get_campaign_insights( date_preset )\n",
    "        self.campaign_features[ Field.campaign_id ] = self.campaign_features.pop('id')\n",
    "        self.campaign_features[ Field.target_type ] = self.campaign_features.pop('objective')\n",
    "        print('self.campaign_features[Field.start_time]', self.campaign_features[Field.start_time])\n",
    "        start_time_str = str(self.campaign_features[Field.start_time])[:-5]\n",
    "#         print('start_time_str', start_time_str)\n",
    "        self.campaign_features[ Field.start_time ] = datetime.datetime.strptime( start_time_str,'%Y-%m-%dT%H:%M:%S' )\n",
    "#         try:\n",
    "#             self.campaign_features[ Field.stop_time ] = datetime.datetime.strptime( self.campaign_features[Field.stop_time],'%Y-%m-%dT%H:%M:%S+%f' )\n",
    "#             self.campaign_features[Field.spend_cap]\n",
    "#         except:\n",
    "#             self.campaign_features[ Field.stop_time ] = datetime.datetime.now() + datetime.timedelta(7)\n",
    "#             self.campaign_features[Field.spend_cap] = 10000\n",
    "        self.campaign_features[ Field.period ] = ( self.ai_stop_date - self.ai_start_date ).days + 1\n",
    "        self.campaign_features[ Field.start_time ] = self.campaign_features[Field.start_time].strftime( '%Y-%m-%d %H:%M:%S' )\n",
    "#         self.campaign_features[ Field.stop_time ] = self.campaign_features[Field.stop_time].strftime( '%Y-%m-%d %H:%M:%S' )\n",
    "        self.campaign_features[ Field.daily_budget ] = int( self.ai_spend_cap )/self.campaign_features[Field.period]\n",
    "        self.campaign_info = { **self.campaign_insights, **self.campaign_features }\n",
    "        return self.campaign_info\n",
    "    \n",
    "class AdSets(object):\n",
    "    def __init__( self, adset_id, charge_type ):\n",
    "        self.adset_id = adset_id\n",
    "        self.charge_type = charge_type\n",
    "        self.adset_features = dict()\n",
    "        self.adset_insights = dict.fromkeys(FUNNEL_LIST, 0)\n",
    "        self.adset_info = dict()\n",
    "\n",
    "        adsets = adset.AdSet( self.adset_id )\n",
    "        current_adset = adsets.remote_read( fields=[adset.AdSet.Field.campaign_id] )\n",
    "        self.campaign_id = current_adset.get( Field.campaign_id )\n",
    "        \n",
    "        brief_dict = mysql_adactivity_save.get_campaign_ai_brief( self.campaign_id )\n",
    "        self.ai_spend_cap = brief_dict[Field.ai_spend_cap]\n",
    "        self.ai_start_date = brief_dict[Field.ai_start_date]\n",
    "        self.ai_stop_date = brief_dict[Field.ai_stop_date]\n",
    "        self.charge_type = brief_dict[Field.charge_type]\n",
    "        self.custom_conversion_id = brief_dict[\"custom_conversion_id\"]\n",
    "        \n",
    "    # Getters\n",
    "    \n",
    "    def get_ads( self ):\n",
    "        ad_list=list()\n",
    "        adsets = adset.AdSet( self.adset_id )\n",
    "        try:\n",
    "            ads = adsets.get_ads( fields = [ Ad.Field.id ])\n",
    "        except Exception as e:\n",
    "            print('[AdSets.get_ads] adset id: ', self.adset_id)\n",
    "            print('[AdSets.get_ads] error: ', e)\n",
    "        for ad in ads:\n",
    "            ad_list.append( ad.get(\"id\") )\n",
    "        return ad_list\n",
    "    \n",
    "    def get_fb_pixel_id( self ):\n",
    "        adsets = adset.AdSet( self.adset_id )\n",
    "        adsets = adsets.remote_read( fields=['promoted_object'] )\n",
    "        promoted_object = adsets.get(\"promoted_object\")\n",
    "        return promoted_object.get(\"pixel_id\") if promoted_object else None\n",
    "    \n",
    "    def get_campaign_id( self ):\n",
    "        adsets = adset.AdSet( self.adset_id )\n",
    "        adsets = adsets.remote_read( fields=['campaign_id'] )\n",
    "        campaign_id = adsets.get(\"campaign_id\")\n",
    "        return campaign_id\n",
    "    \n",
    "    def get_adset_features( self ):\n",
    "        adsets = adset.AdSet( self.adset_id )\n",
    "        try:\n",
    "            adsets = adsets.remote_read( fields=list( ADSET_FIELD.values() ) )\n",
    "        except Exception as e:\n",
    "            print('[AdSets.get_adset_features] adset id: ', self.adset_id)\n",
    "            print('[AdSets.get_adset_features] error: ', e)\n",
    "            return self.adset_features.update( {'id':self.adset_id})\n",
    "        for adset_field in list(adsets.keys()):\n",
    "            if adset_field == Field.targeting:\n",
    "                self.adset_features.update( { Field.age_max:adsets.get( Field.targeting ).get( Field.age_max ) } )\n",
    "                self.adset_features.update( { Field.age_min:adsets.get( Field.targeting ).get( Field.age_min ) } )\n",
    "                self.adset_features.update( { Field.flexible_spec: str(adsets.get( Field.targeting ).get( Field.flexible_spec ) ) } )\n",
    "                self.adset_features.update( { Field.geo_locations: str(adsets.get( Field.targeting ).get( Field.geo_locations ) ) } )\n",
    "            else:\n",
    "                self.adset_features.update( { adset_field:adsets.get(adset_field) } )\n",
    "        self.status = self.adset_features.pop( Field.status )\n",
    "        self.adset_features.update( { Field.status: self.status } )\n",
    "        if self.status == Status.active:\n",
    "            self.status = True\n",
    "        elif self.status == Status.paused:\n",
    "            self.status = False\n",
    "\n",
    "        return self.adset_features\n",
    "    \n",
    "    def get_adset_insights( self, date_preset=None ):\n",
    "        adsets = adset.AdSet( self.adset_id )\n",
    "        if date_preset is None or date_preset == DatePreset.lifetime:\n",
    "            params = {\n",
    "                'time_range[since]': self.ai_start_date,\n",
    "                'time_range[until]': self.ai_stop_date,\n",
    "            }\n",
    "        else:\n",
    "            params = {\n",
    "                'date_preset': date_preset,\n",
    "            }\n",
    "        try:\n",
    "            insights = adsets.get_insights(\n",
    "                params=params,\n",
    "                fields=list( GENERAL_FIELD.values() )+list( TARGET_FIELD.values() )\n",
    "            )\n",
    "        except Exception as e:\n",
    "            insights = adsets.get_insights(\n",
    "                fields=list( GENERAL_FIELD.values() )+list( TARGET_FIELD.values() )\n",
    "            )\n",
    "        if len(insights) > 0:\n",
    "            current_adset = insights[0]\n",
    "            if current_adset.get(Field.impressions):\n",
    "                spend = int( float( current_adset.get( Field.spend ) ) )\n",
    "            if current_adset.get( Field.actions ) and FUNNEL_METRICS.get( self.charge_type ):\n",
    "                actions_list = current_adset.get( Field.actions )\n",
    "                actions_dict = FUNNEL_METRICS.get( self.charge_type )\n",
    "                if self.custom_conversion_id:\n",
    "                    custom_conversion_key = 'offsite_conversion.custom.' + str(self.custom_conversion_id)\n",
    "                    insights = dict( { custom_conversion_key: 0 } )\n",
    "                    action_type_list = [act[\"action_type\"] for act in actions_list]\n",
    "                    action_value_list = [int(act[\"value\"]) for act in actions_list]\n",
    "                    insights.update( dict( zip( action_type_list, action_value_list ) ) )\n",
    "                    for key, val in insights.copy().items():\n",
    "                        if val < insights[custom_conversion_key]:\n",
    "                            insights.pop(key)\n",
    "                    value_list = list(sorted(set(insights.values()), reverse=False))[:4]\n",
    "                    values = set([insights[custom_conversion_key]])\n",
    "                    for key, val in insights.copy().items():\n",
    "                        if key != custom_conversion_key:\n",
    "                            if val in values: \n",
    "                                del insights[key]\n",
    "                            else:\n",
    "                                values.add(val)\n",
    "                    for key, val in insights.copy().items():\n",
    "                        if val not in value_list:\n",
    "                            insights.pop(key)\n",
    "                    funnel_dict = dict( zip( insights.keys(), FUNNEL_LIST ) )\n",
    "                    actual_metrics_list = list(insights.keys())\n",
    "                    insights = dict((funnel_dict[key], value) for (key, value) in insights.items())\n",
    "                    insights.update({\"actual_metrics\": str(actual_metrics_list)})\n",
    "                    self.adset_insights.update( insights )\n",
    "                else:\n",
    "                    action_type_list = [actions_dict.get(act[\"action_type\"]) for act in actions_list if act[\"action_type\"] in actions_dict]\n",
    "                    action_value_list = [int(act[\"value\"]) for act in actions_list if act[\"action_type\"] in actions_dict]\n",
    "                    self.adset_insights.update(\n",
    "                        dict( zip( action_type_list, action_value_list ) )\n",
    "                    )\n",
    "            elif current_adset.get( Field.thruplay_actions ) and self.charge_type=='THRUPLAY':\n",
    "                actions_list = current_campaign.get( Field.thruplay_actions )\n",
    "                for act in actions_list:\n",
    "                    if act[\"action_type\"] == CAMPAIGN_OBJECTIVE_FIELD[ self.charge_type ]:\n",
    "                        target = int( act.get(\"value\") ) if act.get(\"value\") else 0\n",
    "                        self.campaign_insights.update( {\"action\": target} )\n",
    "            for adset_field in list( GENERAL_FIELD.keys() ):\n",
    "                self.adset_insights.update( {adset_field: current_adset.get(adset_field)} )\n",
    "            if self.charge_type == 'ALL_CLICKS':\n",
    "                self.adset_insights[ \"action\" ] = self.adset_insights.pop( Field.clicks )\n",
    "            elif self.charge_type == 'REACH':\n",
    "                self.adset_insights[ \"action\" ] = self.adset_insights[ Field.reach ]\n",
    "                self.adset_insights.pop( Field.clicks )\n",
    "                self.adset_insights.pop( Field.cpc )\n",
    "            elif self.charge_type == 'IMPRESSIONS':\n",
    "                self.adset_insights[ \"action\" ] = self.adset_insights[ Field.impressions ]\n",
    "                self.adset_insights.pop( Field.clicks )\n",
    "                self.adset_insights.pop( Field.cpc )\n",
    "            else:\n",
    "                self.adset_insights.pop( Field.clicks )\n",
    "                self.adset_insights.pop( Field.cpc )\n",
    "        return self.adset_insights\n",
    "\n",
    "    # Operator\n",
    "    \n",
    "    def generate_info( self, date_preset=None ):\n",
    "        self.get_adset_features()\n",
    "        self.get_adset_insights( date_preset )\n",
    "        self.adset_features[ Field.adset_id ] = self.adset_features.pop('id')\n",
    "        self.adset_info = { **self.adset_insights, **self.adset_features }\n",
    "        return self.adset_info\n",
    "\n",
    "    def update(self, bid_amount):\n",
    "        adsets = adset.AdSet( self.adset_id )\n",
    "        adsets.update({\n",
    "            adset.AdSet.Field.bid_amount: bid_amount,\n",
    "        })\n",
    "        adsets.remote_update()"
   ]
  },
  {
   "cell_type": "code",
   "execution_count": 5,
   "metadata": {},
   "outputs": [],
   "source": [
    "def data_collect( campaign_id, destination, charge_type, ai_start_date, ai_stop_date ):\n",
    "    camp = Campaigns( campaign_id, charge_type )\n",
    "    \n",
    "    life_time_campaign_insights = camp.generate_info( date_preset=DatePreset.lifetime )\n",
    "    life_time_campaign_insights[\"target\"] = life_time_campaign_insights.pop(\"action\")\n",
    "    print('===============[life_time_campaign_insights]================')\n",
    "    print(life_time_campaign_insights)\n",
    "    period_left = (ai_stop_date-datetime.datetime.now().date()).days + 1\n",
    "    charge = life_time_campaign_insights[ \"target\" ]\n",
    "    life_time_campaign_insights.update({\n",
    "        \"charge_type\": charge_type,\n",
    "        \"destination\": destination,\n",
    "        \"target_left\": int(destination) - int(charge),\n",
    "        \"daily_charge\": (int(destination) - int(charge)) / (period_left),\n",
    "    })\n",
    "#     print(life_time_campaign_insights)\n",
    "    adset_list = camp.get_adsets_active()\n",
    "    for adset_id in adset_list:\n",
    "        adset = AdSets(adset_id, charge_type)\n",
    "        adset_dict = adset.generate_info(date_preset=DatePreset.today)\n",
    "        adset_dict['campaign_id'] = campaign_id\n",
    "        df_adset = pd.DataFrame(adset_dict, index=[0])\n",
    "        mysql_adactivity_save.intoDB(\"adset_metrics\", df_adset)#insert into ADSET_FIELD\n",
    "        try:\n",
    "            adset_dict['bid_amount'] = math.ceil(reverse_bid_amount(adset_dict['bid_amount']))\n",
    "            df_adset = pd.DataFrame(adset_dict, index=[0])\n",
    "            mysql_adactivity_save.check_initial_bid(adset_id, df_adset[[Field.campaign_id, Field.adset_id, Field.bid_amount]])\n",
    "        except Exception as e:\n",
    "            print('[datacollect] adset id: ', adset_id)\n",
    "            print('[datacollect] error: ', e)\n",
    "            pass\n",
    "    df_camp = pd.DataFrame(life_time_campaign_insights, index=[0])\n",
    "    df_camp[df_camp.columns] = df_camp[df_camp.columns].apply(pd.to_numeric, errors='ignore')\n",
    "    mysql_adactivity_save.update_campaign_target(df_camp)\n",
    "    return"
   ]
  },
  {
   "cell_type": "code",
   "execution_count": 6,
   "metadata": {},
   "outputs": [],
   "source": [
    "def main():\n",
    "    start_time = datetime.datetime.now()\n",
    "    campaign_running_list = mysql_adactivity_save.get_campaign_target().to_dict('records')\n",
    "    print([campaign['campaign_id'] for campaign in campaign_running_list])\n",
    "\n",
    "    for campaign in campaign_running_list:\n",
    "        account_id = campaign.get(\"account_id\")\n",
    "        campaign_id = campaign.get(\"campaign_id\")\n",
    "        destination = campaign.get(\"destination\")\n",
    "        charge_type = campaign.get(\"charge_type\")\n",
    "        ai_start_date = campaign.get(\"ai_start_date\")\n",
    "        ai_stop_date = campaign.get(\"ai_stop_date\")\n",
    "        custom_conversion_id = campaign.get(\"custom_conversion_id\")\n",
    "        permission.init_facebook_api(account_id)\n",
    "        print(campaign_id, charge_type, custom_conversion_id)\n",
    "        \n",
    "        data_collect( int(campaign_id), destination, charge_type, ai_start_date, ai_stop_date )\n",
    "\n",
    "    print(datetime.datetime.now()-start_time)"
   ]
  },
  {
   "cell_type": "code",
   "execution_count": 9,
   "metadata": {
    "collapsed": true,
    "jupyter": {
     "outputs_hidden": true
    }
   },
   "outputs": [
    {
     "name": "stderr",
     "output_type": "stream",
     "text": [
      "WARNING:root:`remote_read` is being deprecated, please update your code with new function.\n"
     ]
    },
    {
     "name": "stdout",
     "output_type": "stream",
     "text": [
      "[23843467729120098, 23843384204790368, 23843484377040702, 23843240188270516, 23843568997400374, 23843481678350339, 23843098840440451, 23843447337770036, 23843672578810681, 23843537403310559, 23843473390820344, 23843569311660559, 23843623065480355, 23843592731740022, 23843592741150022, 23843636617110232, 23843596602350235, 23843468131980091, 23843503273320350, 23843646477870386, 23843318062740647, 23843671808580702, 23843668618370702, 23843508739720127, 23843412155100631, 23843491802020339, 23843536795940014, 23843409641060659, 6130308870943, 23843688033070151]\n",
      "[get_media_token_by_queryid] token_dic {'credential_id': '958842090856883', 'credential_secret': 'a952f55afca38572cea2994d440d674b', 'credential_token': 'EAANoD9I4obMBAH8xjIhGjHc9DmLDeBDTauvkO3tk5x05v1E3G72Qp33aP4gLkE3IZBUDyCMkqCLLPS6DKk8mUJLcsncIrjveFLZCKUseqU7Qy2iIeEq0Dx8DgZAuRwhUNFkKHtmU8McAAWbWMNi2hiWZAbZAXDAyTCd1xXHUJmQZDZD', 'credential_developer_token': None, 'credential_refresh_token': None, 'name': 'AntMan Facebook Credential'}\n",
      "23843467729120098 PURCHASE None\n",
      "self.campaign_features[Field.start_time] 2019-05-02T14:56:07+0800\n",
      "===============[life_time_campaign_insights]================\n",
      "{'desire': 142, 'interest': 1024, 'awareness': 1171, 'impressions': '118196', 'reach': '89449', 'spend': '18374', 'start_time': '2019-05-02 14:56:07', 'campaign_id': '23843467729120098', 'target_type': 'CONVERSIONS', 'period': 30, 'daily_budget': 1550.0, 'target': 42}\n"
     ]
    },
    {
     "name": "stderr",
     "output_type": "stream",
     "text": [
      "WARNING:root:`remote_read` is being deprecated, please update your code with new function.\n"
     ]
    },
    {
     "name": "stdout",
     "output_type": "stream",
     "text": [
      "[get_adsets_active] adset_active_list: ['23843700236750098', '23843699400440098', '23843698625700098', '23843691948190098', '23843669340520098']\n"
     ]
    },
    {
     "name": "stderr",
     "output_type": "stream",
     "text": [
      "WARNING:root:`remote_read` is being deprecated, please update your code with new function.\n",
      "WARNING:root:`remote_read` is being deprecated, please update your code with new function.\n",
      "WARNING:root:`remote_read` is being deprecated, please update your code with new function.\n",
      "WARNING:root:`remote_read` is being deprecated, please update your code with new function.\n",
      "WARNING:root:`remote_read` is being deprecated, please update your code with new function.\n",
      "WARNING:root:`remote_read` is being deprecated, please update your code with new function.\n",
      "WARNING:root:`remote_read` is being deprecated, please update your code with new function.\n",
      "WARNING:root:`remote_read` is being deprecated, please update your code with new function.\n",
      "WARNING:root:`remote_read` is being deprecated, please update your code with new function.\n",
      "WARNING:root:`remote_read` is being deprecated, please update your code with new function.\n"
     ]
    },
    {
     "name": "stdout",
     "output_type": "stream",
     "text": [
      "1054 (42S22): Unknown column 'desire' in 'field list'\n",
      "1054 (42S22): Unknown column 'interest' in 'field list'\n",
      "1054 (42S22): Unknown column 'awareness' in 'field list'\n",
      "[get_media_token_by_queryid] token_dic {'credential_id': '958842090856883', 'credential_secret': 'a952f55afca38572cea2994d440d674b', 'credential_token': 'EAANoD9I4obMBAH8xjIhGjHc9DmLDeBDTauvkO3tk5x05v1E3G72Qp33aP4gLkE3IZBUDyCMkqCLLPS6DKk8mUJLcsncIrjveFLZCKUseqU7Qy2iIeEq0Dx8DgZAuRwhUNFkKHtmU8McAAWbWMNi2hiWZAbZAXDAyTCd1xXHUJmQZDZD', 'credential_developer_token': None, 'credential_refresh_token': None, 'name': 'AntMan Facebook Credential'}\n",
      "23843384204790368 LEAD_GENERATION None\n",
      "self.campaign_features[Field.start_time] 2019-04-08T08:30:28+0800\n",
      "===============[life_time_campaign_insights]================\n",
      "{'desire': 0, 'interest': 0, 'awareness': 0, 'impressions': '41812', 'reach': '23399', 'spend': '17610', 'spend_cap': '199997', 'start_time': '2019-04-08 08:30:28', 'campaign_id': '23843384204790368', 'target_type': 'LEAD_GENERATION', 'period': 30, 'daily_budget': 1300.0, 'target': 22}\n"
     ]
    },
    {
     "name": "stderr",
     "output_type": "stream",
     "text": [
      "WARNING:root:`remote_read` is being deprecated, please update your code with new function.\n"
     ]
    },
    {
     "name": "stdout",
     "output_type": "stream",
     "text": [
      "[get_adsets_active] adset_active_list: ['23843661314820368', '23843482074960368', '23843451198530368', '23843384205000368']\n"
     ]
    },
    {
     "name": "stderr",
     "output_type": "stream",
     "text": [
      "WARNING:root:`remote_read` is being deprecated, please update your code with new function.\n",
      "WARNING:root:`remote_read` is being deprecated, please update your code with new function.\n",
      "WARNING:root:`remote_read` is being deprecated, please update your code with new function.\n",
      "WARNING:root:`remote_read` is being deprecated, please update your code with new function.\n",
      "WARNING:root:`remote_read` is being deprecated, please update your code with new function.\n",
      "WARNING:root:`remote_read` is being deprecated, please update your code with new function.\n",
      "WARNING:root:`remote_read` is being deprecated, please update your code with new function.\n",
      "WARNING:root:`remote_read` is being deprecated, please update your code with new function.\n"
     ]
    },
    {
     "name": "stdout",
     "output_type": "stream",
     "text": [
      "1054 (42S22): Unknown column 'desire' in 'field list'\n",
      "1054 (42S22): Unknown column 'interest' in 'field list'\n",
      "1054 (42S22): Unknown column 'awareness' in 'field list'\n",
      "[get_media_token_by_queryid] token_dic {'credential_id': '958842090856883', 'credential_secret': 'a952f55afca38572cea2994d440d674b', 'credential_token': 'EAANoD9I4obMBAH8xjIhGjHc9DmLDeBDTauvkO3tk5x05v1E3G72Qp33aP4gLkE3IZBUDyCMkqCLLPS6DKk8mUJLcsncIrjveFLZCKUseqU7Qy2iIeEq0Dx8DgZAuRwhUNFkKHtmU8McAAWbWMNi2hiWZAbZAXDAyTCd1xXHUJmQZDZD', 'credential_developer_token': None, 'credential_refresh_token': None, 'name': 'AntMan Facebook Credential'}\n",
      "23843484377040702 CONVERSIONS None\n",
      "self.campaign_features[Field.start_time] 2019-05-27T00:00:44+0800\n",
      "===============[life_time_campaign_insights]================\n",
      "{'desire': 1097, 'interest': 3833, 'awareness': 1638, 'impressions': '129471', 'reach': '64702', 'spend': '31615', 'start_time': '2019-05-27 00:00:44', 'campaign_id': '23843484377040702', 'target_type': 'CONVERSIONS', 'period': 31, 'daily_budget': 3000.0, 'target': 147}\n"
     ]
    },
    {
     "name": "stderr",
     "output_type": "stream",
     "text": [
      "WARNING:root:`remote_read` is being deprecated, please update your code with new function.\n",
      "WARNING:root:`remote_read` is being deprecated, please update your code with new function.\n"
     ]
    },
    {
     "name": "stdout",
     "output_type": "stream",
     "text": [
      "[get_adsets_active] adset_active_list: ['23843705400280702', '23843686443530702', '23843655600250702', '23843603174320702', '23843603170470702', '23843484398840702']\n"
     ]
    },
    {
     "name": "stderr",
     "output_type": "stream",
     "text": [
      "WARNING:root:`remote_read` is being deprecated, please update your code with new function.\n",
      "WARNING:root:`remote_read` is being deprecated, please update your code with new function.\n",
      "WARNING:root:`remote_read` is being deprecated, please update your code with new function.\n",
      "WARNING:root:`remote_read` is being deprecated, please update your code with new function.\n",
      "WARNING:root:`remote_read` is being deprecated, please update your code with new function.\n",
      "WARNING:root:`remote_read` is being deprecated, please update your code with new function.\n",
      "WARNING:root:`remote_read` is being deprecated, please update your code with new function.\n",
      "WARNING:root:`remote_read` is being deprecated, please update your code with new function.\n",
      "WARNING:root:`remote_read` is being deprecated, please update your code with new function.\n",
      "WARNING:root:`remote_read` is being deprecated, please update your code with new function.\n",
      "WARNING:root:`remote_read` is being deprecated, please update your code with new function.\n"
     ]
    },
    {
     "name": "stdout",
     "output_type": "stream",
     "text": [
      "1054 (42S22): Unknown column 'desire' in 'field list'\n",
      "1054 (42S22): Unknown column 'interest' in 'field list'\n",
      "1054 (42S22): Unknown column 'awareness' in 'field list'\n",
      "[get_media_token_by_queryid] token_dic {'credential_id': '958842090856883', 'credential_secret': 'a952f55afca38572cea2994d440d674b', 'credential_token': 'EAANoD9I4obMBAH8xjIhGjHc9DmLDeBDTauvkO3tk5x05v1E3G72Qp33aP4gLkE3IZBUDyCMkqCLLPS6DKk8mUJLcsncIrjveFLZCKUseqU7Qy2iIeEq0Dx8DgZAuRwhUNFkKHtmU8McAAWbWMNi2hiWZAbZAXDAyTCd1xXHUJmQZDZD', 'credential_developer_token': None, 'credential_refresh_token': None, 'name': 'AntMan Facebook Credential'}\n",
      "23843240188270516 LEAD_GENERATION None\n",
      "self.campaign_features[Field.start_time] 2019-03-14T18:36:56+0800\n",
      "===============[life_time_campaign_insights]================\n",
      "{'desire': 0, 'interest': 0, 'awareness': 0, 'impressions': '279641', 'reach': '156300', 'spend': '55664', 'start_time': '2019-03-14 18:36:56', 'campaign_id': '23843240188270516', 'target_type': 'LEAD_GENERATION', 'period': 20, 'daily_budget': 4000.0, 'target': 204}\n"
     ]
    },
    {
     "name": "stderr",
     "output_type": "stream",
     "text": [
      "WARNING:root:`remote_read` is being deprecated, please update your code with new function.\n",
      "WARNING:root:`remote_read` is being deprecated, please update your code with new function.\n"
     ]
    },
    {
     "name": "stdout",
     "output_type": "stream",
     "text": [
      "[get_adsets_active] adset_active_list: ['23843592635130516', '23843559316390516', '23843535499680516', '23843428896680516', '23843428894470516']\n"
     ]
    },
    {
     "name": "stderr",
     "output_type": "stream",
     "text": [
      "WARNING:root:`remote_read` is being deprecated, please update your code with new function.\n",
      "WARNING:root:`remote_read` is being deprecated, please update your code with new function.\n",
      "WARNING:root:`remote_read` is being deprecated, please update your code with new function.\n",
      "WARNING:root:`remote_read` is being deprecated, please update your code with new function.\n",
      "WARNING:root:`remote_read` is being deprecated, please update your code with new function.\n",
      "WARNING:root:`remote_read` is being deprecated, please update your code with new function.\n",
      "WARNING:root:`remote_read` is being deprecated, please update your code with new function.\n",
      "WARNING:root:`remote_read` is being deprecated, please update your code with new function.\n",
      "WARNING:root:`remote_read` is being deprecated, please update your code with new function.\n"
     ]
    },
    {
     "name": "stdout",
     "output_type": "stream",
     "text": [
      "1054 (42S22): Unknown column 'desire' in 'field list'\n",
      "1054 (42S22): Unknown column 'interest' in 'field list'\n",
      "1054 (42S22): Unknown column 'awareness' in 'field list'\n",
      "[get_media_token_by_queryid] token_dic {'credential_id': '958842090856883', 'credential_secret': 'a952f55afca38572cea2994d440d674b', 'credential_token': 'EAANoD9I4obMBAH8xjIhGjHc9DmLDeBDTauvkO3tk5x05v1E3G72Qp33aP4gLkE3IZBUDyCMkqCLLPS6DKk8mUJLcsncIrjveFLZCKUseqU7Qy2iIeEq0Dx8DgZAuRwhUNFkKHtmU8McAAWbWMNi2hiWZAbZAXDAyTCd1xXHUJmQZDZD', 'credential_developer_token': None, 'credential_refresh_token': None, 'name': 'AntMan Facebook Credential'}\n",
      "23843568997400374 ALL_CLICKS None\n",
      "self.campaign_features[Field.start_time] 2019-06-15T00:01:11+0800\n",
      "===============[life_time_campaign_insights]================\n",
      "{'desire': 0, 'interest': 0, 'awareness': 0, 'impressions': '12576', 'reach': '7421', 'spend': '3803', 'cost_per_target': '6.244663', 'start_time': '2019-06-15 00:01:11', 'stop_time': '2019-08-09T23:59:00+0800', 'campaign_id': '23843568997400374', 'target_type': 'POST_ENGAGEMENT', 'period': 54, 'daily_budget': 105.94444444444444, 'target': '609'}\n"
     ]
    },
    {
     "name": "stderr",
     "output_type": "stream",
     "text": [
      "WARNING:root:`remote_read` is being deprecated, please update your code with new function.\n"
     ]
    },
    {
     "name": "stdout",
     "output_type": "stream",
     "text": [
      "[get_adsets_active] adset_active_list: ['23843729917170374', '23843729916640374']\n"
     ]
    },
    {
     "name": "stderr",
     "output_type": "stream",
     "text": [
      "WARNING:root:`remote_read` is being deprecated, please update your code with new function.\n",
      "WARNING:root:`remote_read` is being deprecated, please update your code with new function.\n",
      "WARNING:root:`remote_read` is being deprecated, please update your code with new function.\n",
      "WARNING:root:`remote_read` is being deprecated, please update your code with new function.\n"
     ]
    },
    {
     "name": "stdout",
     "output_type": "stream",
     "text": [
      "1054 (42S22): Unknown column 'desire' in 'field list'\n",
      "1054 (42S22): Unknown column 'interest' in 'field list'\n",
      "1054 (42S22): Unknown column 'awareness' in 'field list'\n",
      "[get_media_token_by_queryid] token_dic {'credential_id': '958842090856883', 'credential_secret': 'a952f55afca38572cea2994d440d674b', 'credential_token': 'EAANoD9I4obMBAH8xjIhGjHc9DmLDeBDTauvkO3tk5x05v1E3G72Qp33aP4gLkE3IZBUDyCMkqCLLPS6DKk8mUJLcsncIrjveFLZCKUseqU7Qy2iIeEq0Dx8DgZAuRwhUNFkKHtmU8McAAWbWMNi2hiWZAbZAXDAyTCd1xXHUJmQZDZD', 'credential_developer_token': None, 'credential_refresh_token': None, 'name': 'AntMan Facebook Credential'}\n",
      "23843481678350339 CONVERSIONS None\n",
      "self.campaign_features[Field.start_time] 2019-07-09T18:11:22+0800\n",
      "===============[life_time_campaign_insights]================\n",
      "{'desire': 59, 'interest': 1229, 'awareness': 1565, 'impressions': '220049', 'reach': '181310', 'spend': '16505', 'start_time': '2019-07-09 18:11:22', 'campaign_id': '23843481678350339', 'target_type': 'CONVERSIONS', 'period': 31, 'daily_budget': 1500.0, 'target': 21}\n"
     ]
    },
    {
     "name": "stderr",
     "output_type": "stream",
     "text": [
      "WARNING:root:`remote_read` is being deprecated, please update your code with new function.\n",
      "WARNING:root:`remote_read` is being deprecated, please update your code with new function.\n"
     ]
    },
    {
     "name": "stdout",
     "output_type": "stream",
     "text": [
      "[get_adsets_active] adset_active_list: ['23843564804320339', '23843564804140339', '23843559496710339', '23843553265710339', '23843550774490339', '23843490366360339']\n"
     ]
    },
    {
     "name": "stderr",
     "output_type": "stream",
     "text": [
      "WARNING:root:`remote_read` is being deprecated, please update your code with new function.\n",
      "WARNING:root:`remote_read` is being deprecated, please update your code with new function.\n",
      "WARNING:root:`remote_read` is being deprecated, please update your code with new function.\n",
      "WARNING:root:`remote_read` is being deprecated, please update your code with new function.\n",
      "WARNING:root:`remote_read` is being deprecated, please update your code with new function.\n",
      "WARNING:root:`remote_read` is being deprecated, please update your code with new function.\n",
      "WARNING:root:`remote_read` is being deprecated, please update your code with new function.\n",
      "WARNING:root:`remote_read` is being deprecated, please update your code with new function.\n",
      "WARNING:root:`remote_read` is being deprecated, please update your code with new function.\n",
      "WARNING:root:`remote_read` is being deprecated, please update your code with new function.\n",
      "WARNING:root:`remote_read` is being deprecated, please update your code with new function.\n"
     ]
    },
    {
     "name": "stdout",
     "output_type": "stream",
     "text": [
      "1054 (42S22): Unknown column 'desire' in 'field list'\n",
      "1054 (42S22): Unknown column 'interest' in 'field list'\n",
      "1054 (42S22): Unknown column 'awareness' in 'field list'\n",
      "[get_media_token_by_queryid] token_dic {'credential_id': '958842090856883', 'credential_secret': 'a952f55afca38572cea2994d440d674b', 'credential_token': 'EAANoD9I4obMBAH8xjIhGjHc9DmLDeBDTauvkO3tk5x05v1E3G72Qp33aP4gLkE3IZBUDyCMkqCLLPS6DKk8mUJLcsncIrjveFLZCKUseqU7Qy2iIeEq0Dx8DgZAuRwhUNFkKHtmU8McAAWbWMNi2hiWZAbZAXDAyTCd1xXHUJmQZDZD', 'credential_developer_token': None, 'credential_refresh_token': None, 'name': 'AntMan Facebook Credential'}\n",
      "23843098840440451 CONVERSIONS 964518990423505\n",
      "self.campaign_features[Field.start_time] 2018-11-15T09:25:08+0800\n",
      "===============[life_time_campaign_insights]================\n",
      "{'desire': 231, 'interest': 206, 'awareness': 119, 'actual_metrics': \"['offsite_conversion.custom.964518990423505', 'offsite_conversion.fb_pixel_custom', 'offsite_conversion.fb_pixel_lead', 'post_reaction']\", 'impressions': '263704', 'reach': '123869', 'spend': '117635', 'start_time': '2018-11-15 09:25:08', 'campaign_id': '23843098840440451', 'target_type': 'CONVERSIONS', 'period': 25, 'daily_budget': 22309.84, 'target': 116}\n"
     ]
    },
    {
     "name": "stderr",
     "output_type": "stream",
     "text": [
      "WARNING:root:`remote_read` is being deprecated, please update your code with new function.\n",
      "WARNING:root:`remote_read` is being deprecated, please update your code with new function.\n"
     ]
    },
    {
     "name": "stdout",
     "output_type": "stream",
     "text": [
      "[get_adsets_active] adset_active_list: ['23843638257760451', '23843621672470451', '23843621652590451', '23843621647530451', '23843345040900451', '23843098840580451']\n"
     ]
    },
    {
     "name": "stderr",
     "output_type": "stream",
     "text": [
      "WARNING:root:`remote_read` is being deprecated, please update your code with new function.\n",
      "WARNING:root:`remote_read` is being deprecated, please update your code with new function.\n",
      "WARNING:root:`remote_read` is being deprecated, please update your code with new function.\n",
      "WARNING:root:`remote_read` is being deprecated, please update your code with new function.\n",
      "WARNING:root:`remote_read` is being deprecated, please update your code with new function.\n",
      "WARNING:root:`remote_read` is being deprecated, please update your code with new function.\n",
      "WARNING:root:`remote_read` is being deprecated, please update your code with new function.\n",
      "WARNING:root:`remote_read` is being deprecated, please update your code with new function.\n",
      "WARNING:root:`remote_read` is being deprecated, please update your code with new function.\n",
      "WARNING:root:`remote_read` is being deprecated, please update your code with new function.\n",
      "WARNING:root:`remote_read` is being deprecated, please update your code with new function.\n"
     ]
    },
    {
     "name": "stdout",
     "output_type": "stream",
     "text": [
      "1054 (42S22): Unknown column 'desire' in 'field list'\n",
      "1054 (42S22): Unknown column 'interest' in 'field list'\n",
      "1054 (42S22): Unknown column 'awareness' in 'field list'\n",
      "1064 (42000): You have an error in your SQL syntax; check the manual that corresponds to your MariaDB server version for the right syntax to use near 'offsite_conversion.custom.964518990423505', 'offsite_conversion.fb_pixel_custom'' at line 1\n",
      "[get_media_token_by_queryid] token_dic {'credential_id': '958842090856883', 'credential_secret': 'a952f55afca38572cea2994d440d674b', 'credential_token': 'EAANoD9I4obMBAH8xjIhGjHc9DmLDeBDTauvkO3tk5x05v1E3G72Qp33aP4gLkE3IZBUDyCMkqCLLPS6DKk8mUJLcsncIrjveFLZCKUseqU7Qy2iIeEq0Dx8DgZAuRwhUNFkKHtmU8McAAWbWMNi2hiWZAbZAXDAyTCd1xXHUJmQZDZD', 'credential_developer_token': None, 'credential_refresh_token': None, 'name': 'AntMan Facebook Credential'}\n",
      "23843447337770036 POST_ENGAGEMENT None\n",
      "self.campaign_features[Field.start_time] 2019-06-19T16:56:48+0800\n",
      "===============[life_time_campaign_insights]================\n",
      "{'desire': 0, 'interest': 0, 'awareness': 0, 'impressions': '227459', 'reach': '170402', 'spend': '10763', 'spend_cap': '80000', 'start_time': '2019-06-19 16:56:48', 'stop_time': '2019-08-31T23:59:00+0800', 'campaign_id': '23843447337770036', 'target_type': 'POST_ENGAGEMENT', 'period': 31, 'daily_budget': 806.4516129032259, 'target': 78830}\n"
     ]
    },
    {
     "name": "stderr",
     "output_type": "stream",
     "text": [
      "WARNING:root:`remote_read` is being deprecated, please update your code with new function.\n",
      "WARNING:root:`remote_read` is being deprecated, please update your code with new function.\n"
     ]
    },
    {
     "name": "stdout",
     "output_type": "stream",
     "text": [
      "[get_adsets_active] adset_active_list: ['23843531828830036', '23843516369410036', '23843447338000036', '23843447337980036', '23843447337970036', '23843447337960036']\n"
     ]
    },
    {
     "name": "stderr",
     "output_type": "stream",
     "text": [
      "WARNING:root:`remote_read` is being deprecated, please update your code with new function.\n",
      "WARNING:root:`remote_read` is being deprecated, please update your code with new function.\n",
      "WARNING:root:`remote_read` is being deprecated, please update your code with new function.\n",
      "WARNING:root:`remote_read` is being deprecated, please update your code with new function.\n",
      "WARNING:root:`remote_read` is being deprecated, please update your code with new function.\n",
      "WARNING:root:`remote_read` is being deprecated, please update your code with new function.\n",
      "WARNING:root:`remote_read` is being deprecated, please update your code with new function.\n",
      "WARNING:root:`remote_read` is being deprecated, please update your code with new function.\n",
      "WARNING:root:`remote_read` is being deprecated, please update your code with new function.\n",
      "WARNING:root:`remote_read` is being deprecated, please update your code with new function.\n",
      "WARNING:root:`remote_read` is being deprecated, please update your code with new function.\n"
     ]
    },
    {
     "name": "stdout",
     "output_type": "stream",
     "text": [
      "1054 (42S22): Unknown column 'desire' in 'field list'\n",
      "1054 (42S22): Unknown column 'interest' in 'field list'\n",
      "1054 (42S22): Unknown column 'awareness' in 'field list'\n",
      "[get_media_token_by_queryid] token_dic {'credential_id': '958842090856883', 'credential_secret': 'a952f55afca38572cea2994d440d674b', 'credential_token': 'EAANoD9I4obMBAH8xjIhGjHc9DmLDeBDTauvkO3tk5x05v1E3G72Qp33aP4gLkE3IZBUDyCMkqCLLPS6DKk8mUJLcsncIrjveFLZCKUseqU7Qy2iIeEq0Dx8DgZAuRwhUNFkKHtmU8McAAWbWMNi2hiWZAbZAXDAyTCd1xXHUJmQZDZD', 'credential_developer_token': None, 'credential_refresh_token': None, 'name': 'AntMan Facebook Credential'}\n",
      "23843672578810681 VIDEO_VIEWS None\n",
      "self.campaign_features[Field.start_time] 2019-07-16T00:01:21+0800\n",
      "===============[life_time_campaign_insights]================\n",
      "{'desire': 0, 'interest': 0, 'awareness': 0, 'impressions': '188291', 'reach': '66553', 'spend': '18608', 'spend_cap': '25000', 'start_time': '2019-07-16 00:01:21', 'stop_time': '2019-08-23T23:59:00+0800', 'campaign_id': '23843672578810681', 'target_type': 'VIDEO_VIEWS', 'period': 39, 'daily_budget': 641.025641025641, 'target': 93553}\n"
     ]
    },
    {
     "name": "stderr",
     "output_type": "stream",
     "text": [
      "WARNING:root:`remote_read` is being deprecated, please update your code with new function.\n",
      "WARNING:root:`remote_read` is being deprecated, please update your code with new function.\n"
     ]
    },
    {
     "name": "stdout",
     "output_type": "stream",
     "text": [
      "[get_adsets_active] adset_active_list: ['23843672578870681', '23843672578860681', '23843672578850681', '23843672578840681', '23843672578830681', '23843672578820681', '23843672578800681']\n"
     ]
    },
    {
     "name": "stderr",
     "output_type": "stream",
     "text": [
      "WARNING:root:`remote_read` is being deprecated, please update your code with new function.\n",
      "WARNING:root:`remote_read` is being deprecated, please update your code with new function.\n",
      "WARNING:root:`remote_read` is being deprecated, please update your code with new function.\n",
      "WARNING:root:`remote_read` is being deprecated, please update your code with new function.\n",
      "WARNING:root:`remote_read` is being deprecated, please update your code with new function.\n",
      "WARNING:root:`remote_read` is being deprecated, please update your code with new function.\n",
      "WARNING:root:`remote_read` is being deprecated, please update your code with new function.\n",
      "WARNING:root:`remote_read` is being deprecated, please update your code with new function.\n",
      "WARNING:root:`remote_read` is being deprecated, please update your code with new function.\n",
      "WARNING:root:`remote_read` is being deprecated, please update your code with new function.\n",
      "WARNING:root:`remote_read` is being deprecated, please update your code with new function.\n",
      "WARNING:root:`remote_read` is being deprecated, please update your code with new function.\n",
      "WARNING:root:`remote_read` is being deprecated, please update your code with new function.\n"
     ]
    },
    {
     "name": "stdout",
     "output_type": "stream",
     "text": [
      "1054 (42S22): Unknown column 'desire' in 'field list'\n",
      "1054 (42S22): Unknown column 'interest' in 'field list'\n",
      "1054 (42S22): Unknown column 'awareness' in 'field list'\n",
      "[get_media_token_by_queryid] token_dic {'credential_id': '958842090856883', 'credential_secret': 'a952f55afca38572cea2994d440d674b', 'credential_token': 'EAANoD9I4obMBAH8xjIhGjHc9DmLDeBDTauvkO3tk5x05v1E3G72Qp33aP4gLkE3IZBUDyCMkqCLLPS6DKk8mUJLcsncIrjveFLZCKUseqU7Qy2iIeEq0Dx8DgZAuRwhUNFkKHtmU8McAAWbWMNi2hiWZAbZAXDAyTCd1xXHUJmQZDZD', 'credential_developer_token': None, 'credential_refresh_token': None, 'name': 'AntMan Facebook Credential'}\n",
      "23843537403310559 LINK_CLICKS None\n",
      "self.campaign_features[Field.start_time] 2019-07-12T00:00:46+0800\n",
      "===============[life_time_campaign_insights]================\n",
      "{'desire': 0, 'interest': 0, 'awareness': 0, 'impressions': '1680110', 'reach': '542849', 'spend': '152125', 'spend_cap': '195000', 'start_time': '2019-07-12 00:00:46', 'stop_time': '2019-08-16T23:59:00+0800', 'campaign_id': '23843537403310559', 'target_type': 'LINK_CLICKS', 'period': 31, 'daily_budget': 5417.0, 'target': 17364}\n"
     ]
    },
    {
     "name": "stderr",
     "output_type": "stream",
     "text": [
      "WARNING:root:`remote_read` is being deprecated, please update your code with new function.\n",
      "WARNING:root:`remote_read` is being deprecated, please update your code with new function.\n"
     ]
    },
    {
     "name": "stdout",
     "output_type": "stream",
     "text": [
      "[get_adsets_active] adset_active_list: ['23843566940560559', '23843537403350559', '23843537403340559', '23843537403330559', '23843537403320559', '23843537403300559', '23843537403290559', '23843537403280559']\n"
     ]
    },
    {
     "name": "stderr",
     "output_type": "stream",
     "text": [
      "WARNING:root:`remote_read` is being deprecated, please update your code with new function.\n",
      "WARNING:root:`remote_read` is being deprecated, please update your code with new function.\n",
      "WARNING:root:`remote_read` is being deprecated, please update your code with new function.\n",
      "WARNING:root:`remote_read` is being deprecated, please update your code with new function.\n",
      "WARNING:root:`remote_read` is being deprecated, please update your code with new function.\n",
      "WARNING:root:`remote_read` is being deprecated, please update your code with new function.\n",
      "WARNING:root:`remote_read` is being deprecated, please update your code with new function.\n",
      "WARNING:root:`remote_read` is being deprecated, please update your code with new function.\n",
      "WARNING:root:`remote_read` is being deprecated, please update your code with new function.\n",
      "WARNING:root:`remote_read` is being deprecated, please update your code with new function.\n",
      "WARNING:root:`remote_read` is being deprecated, please update your code with new function.\n",
      "WARNING:root:`remote_read` is being deprecated, please update your code with new function.\n",
      "WARNING:root:`remote_read` is being deprecated, please update your code with new function.\n",
      "WARNING:root:`remote_read` is being deprecated, please update your code with new function.\n",
      "WARNING:root:`remote_read` is being deprecated, please update your code with new function.\n"
     ]
    },
    {
     "name": "stdout",
     "output_type": "stream",
     "text": [
      "1054 (42S22): Unknown column 'desire' in 'field list'\n",
      "1054 (42S22): Unknown column 'interest' in 'field list'\n",
      "1054 (42S22): Unknown column 'awareness' in 'field list'\n",
      "[get_media_token_by_queryid] token_dic {'credential_id': '958842090856883', 'credential_secret': 'a952f55afca38572cea2994d440d674b', 'credential_token': 'EAANoD9I4obMBAH8xjIhGjHc9DmLDeBDTauvkO3tk5x05v1E3G72Qp33aP4gLkE3IZBUDyCMkqCLLPS6DKk8mUJLcsncIrjveFLZCKUseqU7Qy2iIeEq0Dx8DgZAuRwhUNFkKHtmU8McAAWbWMNi2hiWZAbZAXDAyTCd1xXHUJmQZDZD', 'credential_developer_token': None, 'credential_refresh_token': None, 'name': 'AntMan Facebook Credential'}\n",
      "23843473390820344 CONVERSIONS None\n",
      "self.campaign_features[Field.start_time] 2019-07-23T18:36:37+0800\n",
      "===============[life_time_campaign_insights]================\n",
      "{'desire': 2, 'interest': 0, 'awareness': 45, 'impressions': '32257', 'reach': '20580', 'spend': '2241', 'start_time': '2019-07-23 18:36:37', 'campaign_id': '23843473390820344', 'target_type': 'CONVERSIONS', 'period': 70, 'daily_budget': 1000.0, 'target': 33}\n"
     ]
    },
    {
     "name": "stderr",
     "output_type": "stream",
     "text": [
      "WARNING:root:`remote_read` is being deprecated, please update your code with new function.\n"
     ]
    },
    {
     "name": "stdout",
     "output_type": "stream",
     "text": [
      "[get_adsets_active] adset_active_list: ['23843511657650344', '23843511656660344', '23843477945310344', '23843476995720344', '23843473402760344']\n"
     ]
    },
    {
     "name": "stderr",
     "output_type": "stream",
     "text": [
      "WARNING:root:`remote_read` is being deprecated, please update your code with new function.\n",
      "WARNING:root:`remote_read` is being deprecated, please update your code with new function.\n",
      "WARNING:root:`remote_read` is being deprecated, please update your code with new function.\n",
      "WARNING:root:`remote_read` is being deprecated, please update your code with new function.\n",
      "WARNING:root:`remote_read` is being deprecated, please update your code with new function.\n",
      "WARNING:root:`remote_read` is being deprecated, please update your code with new function.\n",
      "WARNING:root:`remote_read` is being deprecated, please update your code with new function.\n",
      "WARNING:root:`remote_read` is being deprecated, please update your code with new function.\n",
      "WARNING:root:`remote_read` is being deprecated, please update your code with new function.\n",
      "WARNING:root:`remote_read` is being deprecated, please update your code with new function.\n"
     ]
    },
    {
     "name": "stdout",
     "output_type": "stream",
     "text": [
      "1054 (42S22): Unknown column 'desire' in 'field list'\n",
      "1054 (42S22): Unknown column 'interest' in 'field list'\n",
      "1054 (42S22): Unknown column 'awareness' in 'field list'\n",
      "[get_media_token_by_queryid] token_dic {'credential_id': '958842090856883', 'credential_secret': 'a952f55afca38572cea2994d440d674b', 'credential_token': 'EAANoD9I4obMBAH8xjIhGjHc9DmLDeBDTauvkO3tk5x05v1E3G72Qp33aP4gLkE3IZBUDyCMkqCLLPS6DKk8mUJLcsncIrjveFLZCKUseqU7Qy2iIeEq0Dx8DgZAuRwhUNFkKHtmU8McAAWbWMNi2hiWZAbZAXDAyTCd1xXHUJmQZDZD', 'credential_developer_token': None, 'credential_refresh_token': None, 'name': 'AntMan Facebook Credential'}\n",
      "23843569311660559 LINK_CLICKS None\n",
      "self.campaign_features[Field.start_time] 2019-07-25T00:00:49+0800\n",
      "===============[life_time_campaign_insights]================\n",
      "{'desire': 0, 'interest': 0, 'awareness': 0, 'impressions': '1371971', 'reach': '340211', 'spend': '153713', 'spend_cap': '162500', 'start_time': '2019-07-25 00:00:49', 'stop_time': '2019-08-14T23:59:00+0800', 'campaign_id': '23843569311660559', 'target_type': 'LINK_CLICKS', 'period': 21, 'daily_budget': 7738.0952380952385, 'target': 16625}\n"
     ]
    },
    {
     "name": "stderr",
     "output_type": "stream",
     "text": [
      "WARNING:root:`remote_read` is being deprecated, please update your code with new function.\n",
      "WARNING:root:`remote_read` is being deprecated, please update your code with new function.\n"
     ]
    },
    {
     "name": "stdout",
     "output_type": "stream",
     "text": [
      "[get_adsets_active] adset_active_list: ['23843587488400559', '23843587487540559', '23843587486420559', '23843587485890559', '23843587485280559', '23843587484320559', '23843585522330559', '23843569327040559', '23843569327030559', '23843569327020559', '23843569327000559', '23843569311680559']\n"
     ]
    },
    {
     "name": "stderr",
     "output_type": "stream",
     "text": [
      "WARNING:root:`remote_read` is being deprecated, please update your code with new function.\n",
      "WARNING:root:`remote_read` is being deprecated, please update your code with new function.\n",
      "WARNING:root:`remote_read` is being deprecated, please update your code with new function.\n",
      "WARNING:root:`remote_read` is being deprecated, please update your code with new function.\n",
      "WARNING:root:`remote_read` is being deprecated, please update your code with new function.\n",
      "WARNING:root:`remote_read` is being deprecated, please update your code with new function.\n",
      "WARNING:root:`remote_read` is being deprecated, please update your code with new function.\n",
      "WARNING:root:`remote_read` is being deprecated, please update your code with new function.\n",
      "WARNING:root:`remote_read` is being deprecated, please update your code with new function.\n",
      "WARNING:root:`remote_read` is being deprecated, please update your code with new function.\n",
      "WARNING:root:`remote_read` is being deprecated, please update your code with new function.\n",
      "WARNING:root:`remote_read` is being deprecated, please update your code with new function.\n",
      "WARNING:root:`remote_read` is being deprecated, please update your code with new function.\n",
      "WARNING:root:`remote_read` is being deprecated, please update your code with new function.\n",
      "WARNING:root:`remote_read` is being deprecated, please update your code with new function.\n",
      "WARNING:root:`remote_read` is being deprecated, please update your code with new function.\n",
      "WARNING:root:`remote_read` is being deprecated, please update your code with new function.\n",
      "WARNING:root:`remote_read` is being deprecated, please update your code with new function.\n",
      "WARNING:root:`remote_read` is being deprecated, please update your code with new function.\n",
      "WARNING:root:`remote_read` is being deprecated, please update your code with new function.\n",
      "WARNING:root:`remote_read` is being deprecated, please update your code with new function.\n",
      "WARNING:root:`remote_read` is being deprecated, please update your code with new function.\n",
      "WARNING:root:`remote_read` is being deprecated, please update your code with new function.\n"
     ]
    },
    {
     "name": "stdout",
     "output_type": "stream",
     "text": [
      "1054 (42S22): Unknown column 'desire' in 'field list'\n",
      "1054 (42S22): Unknown column 'interest' in 'field list'\n",
      "1054 (42S22): Unknown column 'awareness' in 'field list'\n",
      "[get_media_token_by_queryid] token_dic {'credential_id': '958842090856883', 'credential_secret': 'a952f55afca38572cea2994d440d674b', 'credential_token': 'EAANoD9I4obMBAH8xjIhGjHc9DmLDeBDTauvkO3tk5x05v1E3G72Qp33aP4gLkE3IZBUDyCMkqCLLPS6DKk8mUJLcsncIrjveFLZCKUseqU7Qy2iIeEq0Dx8DgZAuRwhUNFkKHtmU8McAAWbWMNi2hiWZAbZAXDAyTCd1xXHUJmQZDZD', 'credential_developer_token': None, 'credential_refresh_token': None, 'name': 'AntMan Facebook Credential'}\n",
      "23843623065480355 LINK_CLICKS None\n",
      "self.campaign_features[Field.start_time] 2019-07-31T17:02:40+0800\n",
      "===============[life_time_campaign_insights]================\n",
      "{'desire': 0, 'interest': 0, 'awareness': 0, 'impressions': '66707', 'reach': '38015', 'spend': '4157', 'spend_cap': '19574', 'start_time': '2019-07-31 17:02:40', 'stop_time': '2019-08-18T23:59:00+0800', 'campaign_id': '23843623065480355', 'target_type': 'LINK_CLICKS', 'period': 12, 'daily_budget': 700.0, 'target': 1444}\n"
     ]
    },
    {
     "name": "stderr",
     "output_type": "stream",
     "text": [
      "WARNING:root:`remote_read` is being deprecated, please update your code with new function.\n"
     ]
    },
    {
     "name": "stdout",
     "output_type": "stream",
     "text": [
      "[get_adsets_active] adset_active_list: ['23843623116890355', '23843623101490355', '23843623100810355', '23843623080030355', '23843623077920355', '23843623065520355']\n"
     ]
    },
    {
     "name": "stderr",
     "output_type": "stream",
     "text": [
      "WARNING:root:`remote_read` is being deprecated, please update your code with new function.\n",
      "WARNING:root:`remote_read` is being deprecated, please update your code with new function.\n",
      "WARNING:root:`remote_read` is being deprecated, please update your code with new function.\n",
      "WARNING:root:`remote_read` is being deprecated, please update your code with new function.\n",
      "WARNING:root:`remote_read` is being deprecated, please update your code with new function.\n",
      "WARNING:root:`remote_read` is being deprecated, please update your code with new function.\n",
      "WARNING:root:`remote_read` is being deprecated, please update your code with new function.\n",
      "WARNING:root:`remote_read` is being deprecated, please update your code with new function.\n",
      "WARNING:root:`remote_read` is being deprecated, please update your code with new function.\n",
      "WARNING:root:`remote_read` is being deprecated, please update your code with new function.\n",
      "WARNING:root:`remote_read` is being deprecated, please update your code with new function.\n"
     ]
    },
    {
     "name": "stdout",
     "output_type": "stream",
     "text": [
      "1054 (42S22): Unknown column 'desire' in 'field list'\n",
      "1054 (42S22): Unknown column 'interest' in 'field list'\n",
      "1054 (42S22): Unknown column 'awareness' in 'field list'\n"
     ]
    },
    {
     "name": "stderr",
     "output_type": "stream",
     "text": [
      "WARNING:root:`remote_read` is being deprecated, please update your code with new function.\n"
     ]
    },
    {
     "name": "stdout",
     "output_type": "stream",
     "text": [
      "[get_media_token_by_queryid] token_dic {'credential_id': '958842090856883', 'credential_secret': 'a952f55afca38572cea2994d440d674b', 'credential_token': 'EAANoD9I4obMBAH8xjIhGjHc9DmLDeBDTauvkO3tk5x05v1E3G72Qp33aP4gLkE3IZBUDyCMkqCLLPS6DKk8mUJLcsncIrjveFLZCKUseqU7Qy2iIeEq0Dx8DgZAuRwhUNFkKHtmU8McAAWbWMNi2hiWZAbZAXDAyTCd1xXHUJmQZDZD', 'credential_developer_token': None, 'credential_refresh_token': None, 'name': 'AntMan Facebook Credential'}\n",
      "23843592731740022 CONVERSIONS None\n",
      "self.campaign_features[Field.start_time] 2019-08-01T12:49:48+0800\n",
      "===============[life_time_campaign_insights]================\n",
      "{'desire': 471, 'interest': 358, 'awareness': 669, 'impressions': '234840', 'reach': '136630', 'spend': '16460', 'start_time': '2019-08-01 12:49:48', 'stop_time': '2019-08-15T23:59:00+0800', 'campaign_id': '23843592731740022', 'target_type': 'CONVERSIONS', 'period': 15, 'daily_budget': 1500.0, 'target': 26}\n"
     ]
    },
    {
     "name": "stderr",
     "output_type": "stream",
     "text": [
      "WARNING:root:`remote_read` is being deprecated, please update your code with new function.\n",
      "WARNING:root:`remote_read` is being deprecated, please update your code with new function.\n"
     ]
    },
    {
     "name": "stdout",
     "output_type": "stream",
     "text": [
      "[get_adsets_active] adset_active_list: ['23843614839870022', '23843613399950022', '23843607893550022', '23843592731800022', '23843592731760022']\n"
     ]
    },
    {
     "name": "stderr",
     "output_type": "stream",
     "text": [
      "WARNING:root:`remote_read` is being deprecated, please update your code with new function.\n",
      "WARNING:root:`remote_read` is being deprecated, please update your code with new function.\n",
      "WARNING:root:`remote_read` is being deprecated, please update your code with new function.\n",
      "WARNING:root:`remote_read` is being deprecated, please update your code with new function.\n",
      "WARNING:root:`remote_read` is being deprecated, please update your code with new function.\n",
      "WARNING:root:`remote_read` is being deprecated, please update your code with new function.\n",
      "WARNING:root:`remote_read` is being deprecated, please update your code with new function.\n",
      "WARNING:root:`remote_read` is being deprecated, please update your code with new function.\n",
      "WARNING:root:`remote_read` is being deprecated, please update your code with new function.\n"
     ]
    },
    {
     "name": "stdout",
     "output_type": "stream",
     "text": [
      "1054 (42S22): Unknown column 'desire' in 'field list'\n",
      "1054 (42S22): Unknown column 'interest' in 'field list'\n",
      "1054 (42S22): Unknown column 'awareness' in 'field list'\n",
      "[get_media_token_by_queryid] token_dic {'credential_id': '958842090856883', 'credential_secret': 'a952f55afca38572cea2994d440d674b', 'credential_token': 'EAANoD9I4obMBAH8xjIhGjHc9DmLDeBDTauvkO3tk5x05v1E3G72Qp33aP4gLkE3IZBUDyCMkqCLLPS6DKk8mUJLcsncIrjveFLZCKUseqU7Qy2iIeEq0Dx8DgZAuRwhUNFkKHtmU8McAAWbWMNi2hiWZAbZAXDAyTCd1xXHUJmQZDZD', 'credential_developer_token': None, 'credential_refresh_token': None, 'name': 'AntMan Facebook Credential'}\n",
      "23843592741150022 CONVERSIONS None\n",
      "self.campaign_features[Field.start_time] 2019-08-01T12:49:50+0800\n",
      "===============[life_time_campaign_insights]================\n",
      "{'desire': 375, 'interest': 603, 'awareness': 670, 'impressions': '123922', 'reach': '86437', 'spend': '16046', 'start_time': '2019-08-01 12:49:50', 'stop_time': '2019-08-14T23:45:00+0800', 'campaign_id': '23843592741150022', 'target_type': 'CONVERSIONS', 'period': 14, 'daily_budget': 1500.0, 'target': 21}\n"
     ]
    },
    {
     "name": "stderr",
     "output_type": "stream",
     "text": [
      "WARNING:root:`remote_read` is being deprecated, please update your code with new function.\n"
     ]
    },
    {
     "name": "stdout",
     "output_type": "stream",
     "text": [
      "[get_adsets_active] adset_active_list: ['23843614841920022', '23843607894360022', '23843603488960022', '23843601359320022', '23843601356280022', '23843592742790022']\n"
     ]
    },
    {
     "name": "stderr",
     "output_type": "stream",
     "text": [
      "WARNING:root:`remote_read` is being deprecated, please update your code with new function.\n",
      "WARNING:root:`remote_read` is being deprecated, please update your code with new function.\n",
      "WARNING:root:`remote_read` is being deprecated, please update your code with new function.\n",
      "WARNING:root:`remote_read` is being deprecated, please update your code with new function.\n",
      "WARNING:root:`remote_read` is being deprecated, please update your code with new function.\n",
      "WARNING:root:`remote_read` is being deprecated, please update your code with new function.\n",
      "WARNING:root:`remote_read` is being deprecated, please update your code with new function.\n",
      "WARNING:root:`remote_read` is being deprecated, please update your code with new function.\n",
      "WARNING:root:`remote_read` is being deprecated, please update your code with new function.\n",
      "WARNING:root:`remote_read` is being deprecated, please update your code with new function.\n",
      "WARNING:root:`remote_read` is being deprecated, please update your code with new function.\n",
      "WARNING:root:`remote_read` is being deprecated, please update your code with new function.\n"
     ]
    },
    {
     "name": "stdout",
     "output_type": "stream",
     "text": [
      "1054 (42S22): Unknown column 'desire' in 'field list'\n",
      "1054 (42S22): Unknown column 'interest' in 'field list'\n",
      "1054 (42S22): Unknown column 'awareness' in 'field list'\n",
      "[get_media_token_by_queryid] token_dic {'credential_id': '958842090856883', 'credential_secret': 'a952f55afca38572cea2994d440d674b', 'credential_token': 'EAANoD9I4obMBAH8xjIhGjHc9DmLDeBDTauvkO3tk5x05v1E3G72Qp33aP4gLkE3IZBUDyCMkqCLLPS6DKk8mUJLcsncIrjveFLZCKUseqU7Qy2iIeEq0Dx8DgZAuRwhUNFkKHtmU8McAAWbWMNi2hiWZAbZAXDAyTCd1xXHUJmQZDZD', 'credential_developer_token': None, 'credential_refresh_token': None, 'name': 'AntMan Facebook Credential'}\n",
      "23843636617110232 LEAD_GENERATION None\n",
      "self.campaign_features[Field.start_time] 2019-08-20T00:00:15+0800\n",
      "===============[life_time_campaign_insights]================\n",
      "{'desire': 0, 'interest': 0, 'awareness': 0, 'start_time': '2019-08-20 00:00:15', 'campaign_id': '23843636617110232', 'target_type': 'LEAD_GENERATION', 'period': 12, 'daily_budget': 2000.0, 'target': 0}\n"
     ]
    },
    {
     "name": "stderr",
     "output_type": "stream",
     "text": [
      "WARNING:root:`remote_read` is being deprecated, please update your code with new function.\n",
      "WARNING:root:`remote_read` is being deprecated, please update your code with new function.\n"
     ]
    },
    {
     "name": "stdout",
     "output_type": "stream",
     "text": [
      "[get_adsets_active] adset_active_list: ['23843636617280232', '23843636617270232']\n"
     ]
    },
    {
     "name": "stderr",
     "output_type": "stream",
     "text": [
      "WARNING:root:`remote_read` is being deprecated, please update your code with new function.\n",
      "WARNING:root:`remote_read` is being deprecated, please update your code with new function.\n",
      "WARNING:root:`remote_read` is being deprecated, please update your code with new function.\n"
     ]
    },
    {
     "name": "stdout",
     "output_type": "stream",
     "text": [
      "1054 (42S22): Unknown column 'desire' in 'field list'\n",
      "1054 (42S22): Unknown column 'interest' in 'field list'\n",
      "1054 (42S22): Unknown column 'awareness' in 'field list'\n",
      "[get_media_token_by_queryid] token_dic {'credential_id': '958842090856883', 'credential_secret': 'a952f55afca38572cea2994d440d674b', 'credential_token': 'EAANoD9I4obMBAH8xjIhGjHc9DmLDeBDTauvkO3tk5x05v1E3G72Qp33aP4gLkE3IZBUDyCMkqCLLPS6DKk8mUJLcsncIrjveFLZCKUseqU7Qy2iIeEq0Dx8DgZAuRwhUNFkKHtmU8McAAWbWMNi2hiWZAbZAXDAyTCd1xXHUJmQZDZD', 'credential_developer_token': None, 'credential_refresh_token': None, 'name': 'AntMan Facebook Credential'}\n",
      "23843596602350235 CONVERSIONS None\n",
      "self.campaign_features[Field.start_time] 2019-08-05T12:00:04+0800\n",
      "===============[life_time_campaign_insights]================\n",
      "{'desire': 0, 'interest': 0, 'awareness': 0, 'start_time': '2019-08-05 12:00:04', 'campaign_id': '23843596602350235', 'target_type': 'CONVERSIONS', 'period': 27, 'daily_budget': 1500.0, 'target': 0}\n"
     ]
    },
    {
     "name": "stderr",
     "output_type": "stream",
     "text": [
      "WARNING:root:`remote_read` is being deprecated, please update your code with new function.\n",
      "WARNING:root:`remote_read` is being deprecated, please update your code with new function.\n"
     ]
    },
    {
     "name": "stdout",
     "output_type": "stream",
     "text": [
      "[get_adsets_active] adset_active_list: ['23843596603040235', '23843596603030235', '23843596602950235']\n"
     ]
    },
    {
     "name": "stderr",
     "output_type": "stream",
     "text": [
      "WARNING:root:`remote_read` is being deprecated, please update your code with new function.\n",
      "WARNING:root:`remote_read` is being deprecated, please update your code with new function.\n",
      "WARNING:root:`remote_read` is being deprecated, please update your code with new function.\n",
      "WARNING:root:`remote_read` is being deprecated, please update your code with new function.\n",
      "WARNING:root:`remote_read` is being deprecated, please update your code with new function.\n"
     ]
    },
    {
     "name": "stdout",
     "output_type": "stream",
     "text": [
      "1054 (42S22): Unknown column 'desire' in 'field list'\n",
      "1054 (42S22): Unknown column 'interest' in 'field list'\n",
      "1054 (42S22): Unknown column 'awareness' in 'field list'\n",
      "[get_media_token_by_queryid] token_dic {'credential_id': '958842090856883', 'credential_secret': 'a952f55afca38572cea2994d440d674b', 'credential_token': 'EAANoD9I4obMBAH8xjIhGjHc9DmLDeBDTauvkO3tk5x05v1E3G72Qp33aP4gLkE3IZBUDyCMkqCLLPS6DKk8mUJLcsncIrjveFLZCKUseqU7Qy2iIeEq0Dx8DgZAuRwhUNFkKHtmU8McAAWbWMNi2hiWZAbZAXDAyTCd1xXHUJmQZDZD', 'credential_developer_token': None, 'credential_refresh_token': None, 'name': 'AntMan Facebook Credential'}\n",
      "23843468131980091 CONVERSIONS 2207133256240105\n",
      "self.campaign_features[Field.start_time] 2019-07-27T00:00:16+0800\n",
      "===============[life_time_campaign_insights]================\n",
      "{'desire': 127, 'interest': 109, 'awareness': 54, 'actual_metrics': \"['offsite_conversion.custom.2207133256240105', 'offsite_conversion.fb_pixel_initiate_checkout', 'offsite_conversion.fb_pixel_view_content', 'onsite_conversion.post_save']\", 'impressions': '73302', 'reach': '39238', 'spend': '13238', 'start_time': '2019-07-27 00:00:16', 'campaign_id': '23843468131980091', 'target_type': 'CONVERSIONS', 'period': 27, 'daily_budget': 1500.0, 'target': 36}\n"
     ]
    },
    {
     "name": "stderr",
     "output_type": "stream",
     "text": [
      "WARNING:root:`remote_read` is being deprecated, please update your code with new function.\n"
     ]
    },
    {
     "name": "stdout",
     "output_type": "stream",
     "text": [
      "[get_adsets_active] adset_active_list: ['23843508308220091', '23843506833550091', '23843498704860091', '23843496017470091', '23843468170280091']\n"
     ]
    },
    {
     "name": "stderr",
     "output_type": "stream",
     "text": [
      "WARNING:root:`remote_read` is being deprecated, please update your code with new function.\n",
      "WARNING:root:`remote_read` is being deprecated, please update your code with new function.\n",
      "WARNING:root:`remote_read` is being deprecated, please update your code with new function.\n",
      "WARNING:root:`remote_read` is being deprecated, please update your code with new function.\n",
      "WARNING:root:`remote_read` is being deprecated, please update your code with new function.\n",
      "WARNING:root:`remote_read` is being deprecated, please update your code with new function.\n",
      "WARNING:root:`remote_read` is being deprecated, please update your code with new function.\n",
      "WARNING:root:`remote_read` is being deprecated, please update your code with new function.\n",
      "WARNING:root:`remote_read` is being deprecated, please update your code with new function.\n",
      "WARNING:root:`remote_read` is being deprecated, please update your code with new function.\n"
     ]
    },
    {
     "name": "stdout",
     "output_type": "stream",
     "text": [
      "1054 (42S22): Unknown column 'desire' in 'field list'\n",
      "1054 (42S22): Unknown column 'interest' in 'field list'\n",
      "1054 (42S22): Unknown column 'awareness' in 'field list'\n",
      "1064 (42000): You have an error in your SQL syntax; check the manual that corresponds to your MariaDB server version for the right syntax to use near 'offsite_conversion.custom.2207133256240105', 'offsite_conversion.fb_pixel_initia' at line 1\n",
      "[get_media_token_by_queryid] token_dic {'credential_id': '958842090856883', 'credential_secret': 'a952f55afca38572cea2994d440d674b', 'credential_token': 'EAANoD9I4obMBAH8xjIhGjHc9DmLDeBDTauvkO3tk5x05v1E3G72Qp33aP4gLkE3IZBUDyCMkqCLLPS6DKk8mUJLcsncIrjveFLZCKUseqU7Qy2iIeEq0Dx8DgZAuRwhUNFkKHtmU8McAAWbWMNi2hiWZAbZAXDAyTCd1xXHUJmQZDZD', 'credential_developer_token': None, 'credential_refresh_token': None, 'name': 'AntMan Facebook Credential'}\n",
      "23843503273320350 CONVERSIONS None\n",
      "self.campaign_features[Field.start_time] 2019-08-05T12:00:44+0800\n",
      "===============[life_time_campaign_insights]================\n",
      "{'desire': 231, 'interest': 2331, 'awareness': 1473, 'impressions': '63840', 'reach': '28676', 'spend': '4082', 'start_time': '2019-08-05 12:00:44', 'campaign_id': '23843503273320350', 'target_type': 'CONVERSIONS', 'period': 27, 'daily_budget': 500.0, 'target': 32}\n"
     ]
    },
    {
     "name": "stderr",
     "output_type": "stream",
     "text": [
      "WARNING:root:`remote_read` is being deprecated, please update your code with new function.\n",
      "WARNING:root:`remote_read` is being deprecated, please update your code with new function.\n"
     ]
    },
    {
     "name": "stdout",
     "output_type": "stream",
     "text": [
      "[get_adsets_active] adset_active_list: ['23843511921890350', '23843509714790350', '23843503274750350']\n"
     ]
    },
    {
     "name": "stderr",
     "output_type": "stream",
     "text": [
      "WARNING:root:`remote_read` is being deprecated, please update your code with new function.\n",
      "WARNING:root:`remote_read` is being deprecated, please update your code with new function.\n",
      "WARNING:root:`remote_read` is being deprecated, please update your code with new function.\n",
      "WARNING:root:`remote_read` is being deprecated, please update your code with new function.\n",
      "WARNING:root:`remote_read` is being deprecated, please update your code with new function.\n"
     ]
    },
    {
     "name": "stdout",
     "output_type": "stream",
     "text": [
      "1054 (42S22): Unknown column 'desire' in 'field list'\n",
      "1054 (42S22): Unknown column 'interest' in 'field list'\n",
      "1054 (42S22): Unknown column 'awareness' in 'field list'\n",
      "[get_media_token_by_queryid] token_dic {'credential_id': '958842090856883', 'credential_secret': 'a952f55afca38572cea2994d440d674b', 'credential_token': 'EAANoD9I4obMBAH8xjIhGjHc9DmLDeBDTauvkO3tk5x05v1E3G72Qp33aP4gLkE3IZBUDyCMkqCLLPS6DKk8mUJLcsncIrjveFLZCKUseqU7Qy2iIeEq0Dx8DgZAuRwhUNFkKHtmU8McAAWbWMNi2hiWZAbZAXDAyTCd1xXHUJmQZDZD', 'credential_developer_token': None, 'credential_refresh_token': None, 'name': 'AntMan Facebook Credential'}\n",
      "23843646477870386 CONVERSIONS 2321496018099022\n",
      "self.campaign_features[Field.start_time] 2019-07-29T19:07:29+0800\n",
      "===============[life_time_campaign_insights]================\n",
      "{'desire': 133, 'interest': 96, 'awareness': 78, 'actual_metrics': \"['offsite_conversion.custom.2321496018099022', 'offsite_conversion.fb_pixel_add_payment_info', 'post_reaction', 'offsite_conversion.custom.648194965678113']\", 'impressions': '103235', 'reach': '48112', 'spend': '9131', 'start_time': '2019-07-29 19:07:29', 'campaign_id': '23843646477870386', 'target_type': 'CONVERSIONS', 'period': 22, 'daily_budget': 1000.0, 'target': 60}\n"
     ]
    },
    {
     "name": "stderr",
     "output_type": "stream",
     "text": [
      "WARNING:root:`remote_read` is being deprecated, please update your code with new function.\n",
      "WARNING:root:`remote_read` is being deprecated, please update your code with new function.\n"
     ]
    },
    {
     "name": "stdout",
     "output_type": "stream",
     "text": [
      "[get_adsets_active] adset_active_list: ['23843646478030386', '23843646478010386']\n"
     ]
    },
    {
     "name": "stderr",
     "output_type": "stream",
     "text": [
      "WARNING:root:`remote_read` is being deprecated, please update your code with new function.\n",
      "WARNING:root:`remote_read` is being deprecated, please update your code with new function.\n",
      "WARNING:root:`remote_read` is being deprecated, please update your code with new function.\n"
     ]
    },
    {
     "name": "stdout",
     "output_type": "stream",
     "text": [
      "1054 (42S22): Unknown column 'desire' in 'field list'\n",
      "1054 (42S22): Unknown column 'interest' in 'field list'\n",
      "1054 (42S22): Unknown column 'awareness' in 'field list'\n",
      "1064 (42000): You have an error in your SQL syntax; check the manual that corresponds to your MariaDB server version for the right syntax to use near 'offsite_conversion.custom.2321496018099022', 'offsite_conversion.fb_pixel_add_pa' at line 1\n",
      "[get_media_token_by_queryid] token_dic {'credential_id': '958842090856883', 'credential_secret': 'a952f55afca38572cea2994d440d674b', 'credential_token': 'EAANoD9I4obMBAH8xjIhGjHc9DmLDeBDTauvkO3tk5x05v1E3G72Qp33aP4gLkE3IZBUDyCMkqCLLPS6DKk8mUJLcsncIrjveFLZCKUseqU7Qy2iIeEq0Dx8DgZAuRwhUNFkKHtmU8McAAWbWMNi2hiWZAbZAXDAyTCd1xXHUJmQZDZD', 'credential_developer_token': None, 'credential_refresh_token': None, 'name': 'AntMan Facebook Credential'}\n",
      "23843318062740647 CONVERSIONS None\n",
      "self.campaign_features[Field.start_time] 2019-05-07T22:32:30+0800\n",
      "===============[life_time_campaign_insights]================\n",
      "{'desire': 0, 'interest': 511, 'awareness': 399, 'impressions': '34829', 'reach': '26062', 'spend': '20022', 'start_time': '2019-05-07 22:32:30', 'campaign_id': '23843318062740647', 'target_type': 'CONVERSIONS', 'period': 27, 'daily_budget': 3000.0, 'target': 8}\n"
     ]
    },
    {
     "name": "stderr",
     "output_type": "stream",
     "text": [
      "WARNING:root:`remote_read` is being deprecated, please update your code with new function.\n",
      "WARNING:root:`remote_read` is being deprecated, please update your code with new function.\n"
     ]
    },
    {
     "name": "stdout",
     "output_type": "stream",
     "text": [
      "[get_adsets_active] adset_active_list: ['23843569214210647', '23843569067410647', '23843507809780647', '23843473621260647']\n"
     ]
    },
    {
     "name": "stderr",
     "output_type": "stream",
     "text": [
      "WARNING:root:`remote_read` is being deprecated, please update your code with new function.\n",
      "WARNING:root:`remote_read` is being deprecated, please update your code with new function.\n",
      "WARNING:root:`remote_read` is being deprecated, please update your code with new function.\n",
      "WARNING:root:`remote_read` is being deprecated, please update your code with new function.\n",
      "WARNING:root:`remote_read` is being deprecated, please update your code with new function.\n",
      "WARNING:root:`remote_read` is being deprecated, please update your code with new function.\n",
      "WARNING:root:`remote_read` is being deprecated, please update your code with new function.\n"
     ]
    },
    {
     "name": "stdout",
     "output_type": "stream",
     "text": [
      "1054 (42S22): Unknown column 'desire' in 'field list'\n",
      "1054 (42S22): Unknown column 'interest' in 'field list'\n",
      "1054 (42S22): Unknown column 'awareness' in 'field list'\n",
      "[get_media_token_by_queryid] token_dic {'credential_id': '958842090856883', 'credential_secret': 'a952f55afca38572cea2994d440d674b', 'credential_token': 'EAANoD9I4obMBAH8xjIhGjHc9DmLDeBDTauvkO3tk5x05v1E3G72Qp33aP4gLkE3IZBUDyCMkqCLLPS6DKk8mUJLcsncIrjveFLZCKUseqU7Qy2iIeEq0Dx8DgZAuRwhUNFkKHtmU8McAAWbWMNi2hiWZAbZAXDAyTCd1xXHUJmQZDZD', 'credential_developer_token': None, 'credential_refresh_token': None, 'name': 'AntMan Facebook Credential'}\n",
      "23843671808580702 LINK_CLICKS None\n",
      "self.campaign_features[Field.start_time] 2019-08-01T16:06:41+0800\n",
      "===============[life_time_campaign_insights]================\n",
      "{'desire': 0, 'interest': 0, 'awareness': 0, 'impressions': '31705', 'reach': '26675', 'spend': '5888', 'spend_cap': '30879', 'start_time': '2019-08-01 16:06:41', 'stop_time': '2019-08-31T23:59:00+0800', 'campaign_id': '23843671808580702', 'target_type': 'LINK_CLICKS', 'period': 24, 'daily_budget': 1414.5, 'target': 1063}\n"
     ]
    },
    {
     "name": "stderr",
     "output_type": "stream",
     "text": [
      "WARNING:root:`remote_read` is being deprecated, please update your code with new function.\n",
      "WARNING:root:`remote_read` is being deprecated, please update your code with new function.\n"
     ]
    },
    {
     "name": "stdout",
     "output_type": "stream",
     "text": [
      "[get_adsets_active] adset_active_list: ['23843674623030702', '23843674622360702', '23843674621450702', '23843674617380702', '23843671808590702']\n"
     ]
    },
    {
     "name": "stderr",
     "output_type": "stream",
     "text": [
      "WARNING:root:`remote_read` is being deprecated, please update your code with new function.\n",
      "WARNING:root:`remote_read` is being deprecated, please update your code with new function.\n",
      "WARNING:root:`remote_read` is being deprecated, please update your code with new function.\n",
      "WARNING:root:`remote_read` is being deprecated, please update your code with new function.\n",
      "WARNING:root:`remote_read` is being deprecated, please update your code with new function.\n",
      "WARNING:root:`remote_read` is being deprecated, please update your code with new function.\n",
      "WARNING:root:`remote_read` is being deprecated, please update your code with new function.\n",
      "WARNING:root:`remote_read` is being deprecated, please update your code with new function.\n"
     ]
    },
    {
     "name": "stdout",
     "output_type": "stream",
     "text": [
      "1054 (42S22): Unknown column 'desire' in 'field list'\n",
      "1054 (42S22): Unknown column 'interest' in 'field list'\n",
      "1054 (42S22): Unknown column 'awareness' in 'field list'\n"
     ]
    },
    {
     "name": "stderr",
     "output_type": "stream",
     "text": [
      "WARNING:root:`remote_read` is being deprecated, please update your code with new function.\n"
     ]
    },
    {
     "name": "stdout",
     "output_type": "stream",
     "text": [
      "[get_media_token_by_queryid] token_dic {'credential_id': '958842090856883', 'credential_secret': 'a952f55afca38572cea2994d440d674b', 'credential_token': 'EAANoD9I4obMBAH8xjIhGjHc9DmLDeBDTauvkO3tk5x05v1E3G72Qp33aP4gLkE3IZBUDyCMkqCLLPS6DKk8mUJLcsncIrjveFLZCKUseqU7Qy2iIeEq0Dx8DgZAuRwhUNFkKHtmU8McAAWbWMNi2hiWZAbZAXDAyTCd1xXHUJmQZDZD', 'credential_developer_token': None, 'credential_refresh_token': None, 'name': 'AntMan Facebook Credential'}\n",
      "23843668618370702 LINK_CLICKS None\n",
      "self.campaign_features[Field.start_time] 2019-08-01T00:01:59+0800\n",
      "===============[life_time_campaign_insights]================\n",
      "{'desire': 0, 'interest': 0, 'awareness': 0, 'impressions': '15453', 'reach': '13866', 'spend': '2308', 'spend_cap': '30879', 'start_time': '2019-08-01 00:01:59', 'stop_time': '2019-08-31T23:59:00+0800', 'campaign_id': '23843668618370702', 'target_type': 'LINK_CLICKS', 'period': 24, 'daily_budget': 654.25, 'target': 390}\n"
     ]
    },
    {
     "name": "stderr",
     "output_type": "stream",
     "text": [
      "WARNING:root:`remote_read` is being deprecated, please update your code with new function.\n",
      "WARNING:root:`remote_read` is being deprecated, please update your code with new function.\n"
     ]
    },
    {
     "name": "stdout",
     "output_type": "stream",
     "text": [
      "[get_adsets_active] adset_active_list: ['23843674631750702', '23843674629890702', '23843674629270702', '23843674628290702', '23843668618380702']\n"
     ]
    },
    {
     "name": "stderr",
     "output_type": "stream",
     "text": [
      "WARNING:root:`remote_read` is being deprecated, please update your code with new function.\n",
      "WARNING:root:`remote_read` is being deprecated, please update your code with new function.\n",
      "WARNING:root:`remote_read` is being deprecated, please update your code with new function.\n",
      "WARNING:root:`remote_read` is being deprecated, please update your code with new function.\n",
      "WARNING:root:`remote_read` is being deprecated, please update your code with new function.\n",
      "WARNING:root:`remote_read` is being deprecated, please update your code with new function.\n",
      "WARNING:root:`remote_read` is being deprecated, please update your code with new function.\n",
      "WARNING:root:`remote_read` is being deprecated, please update your code with new function.\n"
     ]
    },
    {
     "name": "stdout",
     "output_type": "stream",
     "text": [
      "1054 (42S22): Unknown column 'desire' in 'field list'\n",
      "1054 (42S22): Unknown column 'interest' in 'field list'\n",
      "1054 (42S22): Unknown column 'awareness' in 'field list'\n",
      "[get_media_token_by_queryid] token_dic {'credential_id': '958842090856883', 'credential_secret': 'a952f55afca38572cea2994d440d674b', 'credential_token': 'EAANoD9I4obMBAH8xjIhGjHc9DmLDeBDTauvkO3tk5x05v1E3G72Qp33aP4gLkE3IZBUDyCMkqCLLPS6DKk8mUJLcsncIrjveFLZCKUseqU7Qy2iIeEq0Dx8DgZAuRwhUNFkKHtmU8McAAWbWMNi2hiWZAbZAXDAyTCd1xXHUJmQZDZD', 'credential_developer_token': None, 'credential_refresh_token': None, 'name': 'AntMan Facebook Credential'}\n",
      "23843508739720127 PAGE_LIKES None\n"
     ]
    },
    {
     "name": "stderr",
     "output_type": "stream",
     "text": [
      "WARNING:root:`remote_read` is being deprecated, please update your code with new function.\n"
     ]
    },
    {
     "name": "stdout",
     "output_type": "stream",
     "text": [
      "self.campaign_features[Field.start_time] 2019-06-18T10:50:25+0800\n",
      "===============[life_time_campaign_insights]================\n",
      "{'desire': 0, 'interest': 0, 'awareness': 0, 'impressions': '265', 'reach': '231', 'spend': '24', 'start_time': '2019-06-18 10:50:25', 'stop_time': '2019-12-31T23:59:00+0800', 'campaign_id': '23843508739720127', 'target_type': 'PAGE_LIKES', 'period': 2, 'daily_budget': 2700.0, 'target': 1}\n"
     ]
    },
    {
     "name": "stderr",
     "output_type": "stream",
     "text": [
      "WARNING:root:`remote_read` is being deprecated, please update your code with new function.\n"
     ]
    },
    {
     "name": "stdout",
     "output_type": "stream",
     "text": [
      "[get_adsets_active] adset_active_list: ['23843651668300127', '23843629487990127', '23843512590870127', '23843508779260127']\n"
     ]
    },
    {
     "name": "stderr",
     "output_type": "stream",
     "text": [
      "WARNING:root:`remote_read` is being deprecated, please update your code with new function.\n",
      "WARNING:root:`remote_read` is being deprecated, please update your code with new function.\n",
      "WARNING:root:`remote_read` is being deprecated, please update your code with new function.\n",
      "WARNING:root:`remote_read` is being deprecated, please update your code with new function.\n",
      "WARNING:root:`remote_read` is being deprecated, please update your code with new function.\n",
      "WARNING:root:`remote_read` is being deprecated, please update your code with new function.\n",
      "WARNING:root:`remote_read` is being deprecated, please update your code with new function.\n",
      "WARNING:root:`remote_read` is being deprecated, please update your code with new function.\n"
     ]
    },
    {
     "name": "stdout",
     "output_type": "stream",
     "text": [
      "1054 (42S22): Unknown column 'desire' in 'field list'\n",
      "1054 (42S22): Unknown column 'interest' in 'field list'\n",
      "1054 (42S22): Unknown column 'awareness' in 'field list'\n",
      "[get_media_token_by_queryid] token_dic {'credential_id': '958842090856883', 'credential_secret': 'a952f55afca38572cea2994d440d674b', 'credential_token': 'EAANoD9I4obMBAH8xjIhGjHc9DmLDeBDTauvkO3tk5x05v1E3G72Qp33aP4gLkE3IZBUDyCMkqCLLPS6DKk8mUJLcsncIrjveFLZCKUseqU7Qy2iIeEq0Dx8DgZAuRwhUNFkKHtmU8McAAWbWMNi2hiWZAbZAXDAyTCd1xXHUJmQZDZD', 'credential_developer_token': None, 'credential_refresh_token': None, 'name': 'AntMan Facebook Credential'}\n",
      "23843412155100631 CONVERSIONS 868133060192302\n",
      "self.campaign_features[Field.start_time] 2019-05-13T21:56:27+0800\n",
      "===============[life_time_campaign_insights]================\n",
      "{'desire': 23, 'interest': 9, 'awareness': 14, 'actual_metrics': \"['offsite_conversion.custom.868133060192302', 'post', 'offsite_conversion.custom.269011207192667', 'offsite_conversion.custom.477516552669773']\", 'impressions': '242362', 'reach': '94363', 'spend': '54182', 'start_time': '2019-05-13 21:56:27', 'campaign_id': '23843412155100631', 'target_type': 'CONVERSIONS', 'period': 27, 'daily_budget': 7000.0, 'target': 8}\n"
     ]
    },
    {
     "name": "stderr",
     "output_type": "stream",
     "text": [
      "WARNING:root:`remote_read` is being deprecated, please update your code with new function.\n"
     ]
    },
    {
     "name": "stdout",
     "output_type": "stream",
     "text": [
      "[get_adsets_active] adset_active_list: ['23843621239110631', '23843603909540631', '23843596836630631', '23843596823030631', '23843585233410631']\n"
     ]
    },
    {
     "name": "stderr",
     "output_type": "stream",
     "text": [
      "WARNING:root:`remote_read` is being deprecated, please update your code with new function.\n",
      "WARNING:root:`remote_read` is being deprecated, please update your code with new function.\n",
      "WARNING:root:`remote_read` is being deprecated, please update your code with new function.\n",
      "WARNING:root:`remote_read` is being deprecated, please update your code with new function.\n",
      "WARNING:root:`remote_read` is being deprecated, please update your code with new function.\n",
      "WARNING:root:`remote_read` is being deprecated, please update your code with new function.\n",
      "WARNING:root:`remote_read` is being deprecated, please update your code with new function.\n",
      "WARNING:root:`remote_read` is being deprecated, please update your code with new function.\n",
      "WARNING:root:`remote_read` is being deprecated, please update your code with new function.\n",
      "WARNING:root:`remote_read` is being deprecated, please update your code with new function.\n"
     ]
    },
    {
     "name": "stdout",
     "output_type": "stream",
     "text": [
      "1054 (42S22): Unknown column 'desire' in 'field list'\n",
      "1054 (42S22): Unknown column 'interest' in 'field list'\n",
      "1054 (42S22): Unknown column 'awareness' in 'field list'\n",
      "1064 (42000): You have an error in your SQL syntax; check the manual that corresponds to your MariaDB server version for the right syntax to use near 'offsite_conversion.custom.868133060192302', 'post', 'offsite_conversion.custom.2' at line 1\n",
      "[get_media_token_by_queryid] token_dic {'credential_id': '958842090856883', 'credential_secret': 'a952f55afca38572cea2994d440d674b', 'credential_token': 'EAANoD9I4obMBAH8xjIhGjHc9DmLDeBDTauvkO3tk5x05v1E3G72Qp33aP4gLkE3IZBUDyCMkqCLLPS6DKk8mUJLcsncIrjveFLZCKUseqU7Qy2iIeEq0Dx8DgZAuRwhUNFkKHtmU8McAAWbWMNi2hiWZAbZAXDAyTCd1xXHUJmQZDZD', 'credential_developer_token': None, 'credential_refresh_token': None, 'name': 'AntMan Facebook Credential'}\n",
      "23843491802020339 CONVERSIONS None\n",
      "self.campaign_features[Field.start_time] 2019-07-12T14:50:11+0800\n",
      "===============[life_time_campaign_insights]================\n",
      "{'desire': 25, 'interest': 254, 'awareness': 372, 'impressions': '43079', 'reach': '37448', 'spend': '6424', 'start_time': '2019-07-12 14:50:11', 'campaign_id': '23843491802020339', 'target_type': 'CONVERSIONS', 'period': 25, 'daily_budget': 1500.0, 'target': 8}\n"
     ]
    },
    {
     "name": "stderr",
     "output_type": "stream",
     "text": [
      "WARNING:root:`remote_read` is being deprecated, please update your code with new function.\n"
     ]
    },
    {
     "name": "stdout",
     "output_type": "stream",
     "text": [
      "[get_adsets_active] adset_active_list: ['23843567179980339', '23843565874680339', '23843564593300339', '23843559503140339']\n"
     ]
    },
    {
     "name": "stderr",
     "output_type": "stream",
     "text": [
      "WARNING:root:`remote_read` is being deprecated, please update your code with new function.\n",
      "WARNING:root:`remote_read` is being deprecated, please update your code with new function.\n",
      "WARNING:root:`remote_read` is being deprecated, please update your code with new function.\n",
      "WARNING:root:`remote_read` is being deprecated, please update your code with new function.\n",
      "WARNING:root:`remote_read` is being deprecated, please update your code with new function.\n",
      "WARNING:root:`remote_read` is being deprecated, please update your code with new function.\n",
      "WARNING:root:`remote_read` is being deprecated, please update your code with new function.\n",
      "WARNING:root:`remote_read` is being deprecated, please update your code with new function.\n"
     ]
    },
    {
     "name": "stdout",
     "output_type": "stream",
     "text": [
      "1054 (42S22): Unknown column 'desire' in 'field list'\n",
      "1054 (42S22): Unknown column 'interest' in 'field list'\n",
      "1054 (42S22): Unknown column 'awareness' in 'field list'\n",
      "[get_media_token_by_queryid] token_dic {'credential_id': '958842090856883', 'credential_secret': 'a952f55afca38572cea2994d440d674b', 'credential_token': 'EAANoD9I4obMBAH8xjIhGjHc9DmLDeBDTauvkO3tk5x05v1E3G72Qp33aP4gLkE3IZBUDyCMkqCLLPS6DKk8mUJLcsncIrjveFLZCKUseqU7Qy2iIeEq0Dx8DgZAuRwhUNFkKHtmU8McAAWbWMNi2hiWZAbZAXDAyTCd1xXHUJmQZDZD', 'credential_developer_token': None, 'credential_refresh_token': None, 'name': 'AntMan Facebook Credential'}\n",
      "23843536795940014 CONVERSIONS 803792276476606\n",
      "self.campaign_features[Field.start_time] 2019-08-08T14:04:05+0800\n",
      "===============[life_time_campaign_insights]================\n",
      "{'desire': 2, 'interest': 1, 'awareness': 0, 'actual_metrics': \"['offsite_conversion.custom.803792276476606', 'offsite_conversion.fb_pixel_view_content', 'video_view']\", 'impressions': '18', 'reach': '13', 'spend': '0', 'start_time': '2019-08-08 14:04:05', 'campaign_id': '23843536795940014', 'target_type': 'CONVERSIONS', 'period': 23, 'daily_budget': 1000.0, 'target': 0}\n"
     ]
    },
    {
     "name": "stderr",
     "output_type": "stream",
     "text": [
      "WARNING:root:`remote_read` is being deprecated, please update your code with new function.\n"
     ]
    },
    {
     "name": "stdout",
     "output_type": "stream",
     "text": [
      "[get_adsets_active] adset_active_list: ['23843547933390014', '23843536795980014', '23843536795970014', '23843536795960014', '23843536795950014']\n"
     ]
    },
    {
     "name": "stderr",
     "output_type": "stream",
     "text": [
      "WARNING:root:`remote_read` is being deprecated, please update your code with new function.\n",
      "WARNING:root:`remote_read` is being deprecated, please update your code with new function.\n",
      "WARNING:root:`remote_read` is being deprecated, please update your code with new function.\n",
      "WARNING:root:`remote_read` is being deprecated, please update your code with new function.\n",
      "WARNING:root:`remote_read` is being deprecated, please update your code with new function.\n",
      "WARNING:root:`remote_read` is being deprecated, please update your code with new function.\n",
      "WARNING:root:`remote_read` is being deprecated, please update your code with new function.\n",
      "WARNING:root:`remote_read` is being deprecated, please update your code with new function.\n",
      "WARNING:root:`remote_read` is being deprecated, please update your code with new function.\n",
      "WARNING:root:`remote_read` is being deprecated, please update your code with new function.\n"
     ]
    },
    {
     "name": "stdout",
     "output_type": "stream",
     "text": [
      "1054 (42S22): Unknown column 'desire' in 'field list'\n",
      "1054 (42S22): Unknown column 'interest' in 'field list'\n",
      "1054 (42S22): Unknown column 'awareness' in 'field list'\n",
      "1064 (42000): You have an error in your SQL syntax; check the manual that corresponds to your MariaDB server version for the right syntax to use near 'offsite_conversion.custom.803792276476606', 'offsite_conversion.fb_pixel_view_co' at line 1\n",
      "[get_media_token_by_queryid] token_dic {'credential_id': '958842090856883', 'credential_secret': 'a952f55afca38572cea2994d440d674b', 'credential_token': 'EAANoD9I4obMBAH8xjIhGjHc9DmLDeBDTauvkO3tk5x05v1E3G72Qp33aP4gLkE3IZBUDyCMkqCLLPS6DKk8mUJLcsncIrjveFLZCKUseqU7Qy2iIeEq0Dx8DgZAuRwhUNFkKHtmU8McAAWbWMNi2hiWZAbZAXDAyTCd1xXHUJmQZDZD', 'credential_developer_token': None, 'credential_refresh_token': None, 'name': 'AntMan Facebook Credential'}\n",
      "23843409641060659 VIDEO_VIEWS None\n",
      "self.campaign_features[Field.start_time] 2019-05-06T19:31:17+0800\n",
      "===============[life_time_campaign_insights]================\n",
      "{'desire': 0, 'interest': 0, 'awareness': 0, 'impressions': '58167', 'reach': '49655', 'spend': '3360', 'start_time': '2019-05-06 19:31:17', 'campaign_id': '23843409641060659', 'target_type': 'VIDEO_VIEWS', 'period': 9, 'daily_budget': 600.0, 'target': 13758}\n"
     ]
    },
    {
     "name": "stderr",
     "output_type": "stream",
     "text": [
      "WARNING:root:`remote_read` is being deprecated, please update your code with new function.\n"
     ]
    },
    {
     "name": "stdout",
     "output_type": "stream",
     "text": [
      "[get_adsets_active] adset_active_list: ['23843409643170659', '23843409642600659']\n"
     ]
    },
    {
     "name": "stderr",
     "output_type": "stream",
     "text": [
      "WARNING:root:`remote_read` is being deprecated, please update your code with new function.\n",
      "WARNING:root:`remote_read` is being deprecated, please update your code with new function.\n",
      "WARNING:root:`remote_read` is being deprecated, please update your code with new function.\n",
      "WARNING:root:`remote_read` is being deprecated, please update your code with new function.\n"
     ]
    },
    {
     "name": "stdout",
     "output_type": "stream",
     "text": [
      "1054 (42S22): Unknown column 'desire' in 'field list'\n",
      "1054 (42S22): Unknown column 'interest' in 'field list'\n",
      "1054 (42S22): Unknown column 'awareness' in 'field list'\n",
      "[get_media_token_by_queryid] token_dic {'credential_id': '958842090856883', 'credential_secret': 'a952f55afca38572cea2994d440d674b', 'credential_token': 'EAANoD9I4obMBAM1EOrO3OMTGhg4LrVi4wkp71qBIb9HadMAHS8s3sGvdI2BcGNp6ZAjrLKcuE5PZCfieQr0BPt8Y28CnZCq9ZA6pnh9Ft625yYPPos3xsxEgBMTJ5N2NEMr3whjg7KjSRnA5D1tjGZBAMOTbwBWmblaESXTycAgZDZD', 'credential_developer_token': '', 'credential_refresh_token': '', 'name': '郭毅驊-facebook-2532609410092074'}\n",
      "6130308870943 POST_ENGAGEMENT None\n",
      "self.campaign_features[Field.start_time] 2019-08-06T09:29:23+0800\n",
      "===============[life_time_campaign_insights]================\n",
      "{'desire': 0, 'interest': 0, 'awareness': 0, 'impressions': '5065', 'reach': '3155', 'spend': '541', 'spend_cap': '6000', 'start_time': '2019-08-06 09:29:23', 'stop_time': '2019-08-16T23:59:51+0800', 'campaign_id': '6130308870943', 'target_type': 'POST_ENGAGEMENT', 'period': 4, 'daily_budget': 400.0, 'target': 585}\n"
     ]
    },
    {
     "name": "stderr",
     "output_type": "stream",
     "text": [
      "WARNING:root:`remote_read` is being deprecated, please update your code with new function.\n"
     ]
    },
    {
     "name": "stdout",
     "output_type": "stream",
     "text": [
      "[get_adsets_active] adset_active_list: ['6130308871543']\n"
     ]
    },
    {
     "name": "stderr",
     "output_type": "stream",
     "text": [
      "WARNING:root:`remote_read` is being deprecated, please update your code with new function.\n",
      "WARNING:root:`remote_read` is being deprecated, please update your code with new function.\n"
     ]
    },
    {
     "name": "stdout",
     "output_type": "stream",
     "text": [
      "[datacollect] adset id:  6130308871543\n",
      "[datacollect] error:  'bid_amount'\n",
      "1054 (42S22): Unknown column 'desire' in 'field list'\n",
      "1054 (42S22): Unknown column 'interest' in 'field list'\n",
      "1054 (42S22): Unknown column 'awareness' in 'field list'\n",
      "[get_media_token_by_queryid] token_dic {'credential_id': '958842090856883', 'credential_secret': 'a952f55afca38572cea2994d440d674b', 'credential_token': 'EAANoD9I4obMBAH8xjIhGjHc9DmLDeBDTauvkO3tk5x05v1E3G72Qp33aP4gLkE3IZBUDyCMkqCLLPS6DKk8mUJLcsncIrjveFLZCKUseqU7Qy2iIeEq0Dx8DgZAuRwhUNFkKHtmU8McAAWbWMNi2hiWZAbZAXDAyTCd1xXHUJmQZDZD', 'credential_developer_token': None, 'credential_refresh_token': None, 'name': 'AntMan Facebook Credential'}\n",
      "23843688033070151 POST_ENGAGEMENT None\n",
      "self.campaign_features[Field.start_time] 2019-08-12T16:01:10+0800\n",
      "===============[life_time_campaign_insights]================\n",
      "{'desire': 0, 'interest': 0, 'awareness': 0, 'impressions': '18724', 'reach': '16115', 'spend': '489', 'start_time': '2019-08-12 16:01:10', 'stop_time': '2019-08-15T15:59:26+0800', 'campaign_id': '23843688033070151', 'target_type': 'POST_ENGAGEMENT', 'period': 3, 'daily_budget': 333.3333333333333, 'target': 659}\n"
     ]
    },
    {
     "name": "stderr",
     "output_type": "stream",
     "text": [
      "WARNING:root:`remote_read` is being deprecated, please update your code with new function.\n"
     ]
    },
    {
     "name": "stdout",
     "output_type": "stream",
     "text": [
      "[get_adsets_active] adset_active_list: ['23843688047900151', '23843688047880151', '23843688047860151', '23843688047380151', '23843688047350151', '23843688047340151', '23843688038940151', '23843688037370151', '23843688033110151']\n"
     ]
    },
    {
     "name": "stderr",
     "output_type": "stream",
     "text": [
      "WARNING:root:`remote_read` is being deprecated, please update your code with new function.\n",
      "WARNING:root:`remote_read` is being deprecated, please update your code with new function.\n"
     ]
    },
    {
     "name": "stdout",
     "output_type": "stream",
     "text": [
      "[datacollect] adset id:  23843688047900151\n",
      "[datacollect] error:  'bid_amount'\n"
     ]
    },
    {
     "name": "stderr",
     "output_type": "stream",
     "text": [
      "WARNING:root:`remote_read` is being deprecated, please update your code with new function.\n",
      "WARNING:root:`remote_read` is being deprecated, please update your code with new function.\n"
     ]
    },
    {
     "name": "stdout",
     "output_type": "stream",
     "text": [
      "[datacollect] adset id:  23843688047880151\n",
      "[datacollect] error:  'bid_amount'\n"
     ]
    },
    {
     "name": "stderr",
     "output_type": "stream",
     "text": [
      "WARNING:root:`remote_read` is being deprecated, please update your code with new function.\n",
      "WARNING:root:`remote_read` is being deprecated, please update your code with new function.\n"
     ]
    },
    {
     "name": "stdout",
     "output_type": "stream",
     "text": [
      "[datacollect] adset id:  23843688047860151\n",
      "[datacollect] error:  'bid_amount'\n"
     ]
    },
    {
     "name": "stderr",
     "output_type": "stream",
     "text": [
      "WARNING:root:`remote_read` is being deprecated, please update your code with new function.\n",
      "WARNING:root:`remote_read` is being deprecated, please update your code with new function.\n"
     ]
    },
    {
     "name": "stdout",
     "output_type": "stream",
     "text": [
      "[datacollect] adset id:  23843688047380151\n",
      "[datacollect] error:  'bid_amount'\n"
     ]
    },
    {
     "name": "stderr",
     "output_type": "stream",
     "text": [
      "WARNING:root:`remote_read` is being deprecated, please update your code with new function.\n",
      "WARNING:root:`remote_read` is being deprecated, please update your code with new function.\n"
     ]
    },
    {
     "name": "stdout",
     "output_type": "stream",
     "text": [
      "[datacollect] adset id:  23843688047350151\n",
      "[datacollect] error:  'bid_amount'\n"
     ]
    },
    {
     "name": "stderr",
     "output_type": "stream",
     "text": [
      "WARNING:root:`remote_read` is being deprecated, please update your code with new function.\n",
      "WARNING:root:`remote_read` is being deprecated, please update your code with new function.\n"
     ]
    },
    {
     "name": "stdout",
     "output_type": "stream",
     "text": [
      "[datacollect] adset id:  23843688047340151\n",
      "[datacollect] error:  'bid_amount'\n"
     ]
    },
    {
     "name": "stderr",
     "output_type": "stream",
     "text": [
      "WARNING:root:`remote_read` is being deprecated, please update your code with new function.\n",
      "WARNING:root:`remote_read` is being deprecated, please update your code with new function.\n"
     ]
    },
    {
     "name": "stdout",
     "output_type": "stream",
     "text": [
      "[datacollect] adset id:  23843688038940151\n",
      "[datacollect] error:  'bid_amount'\n"
     ]
    },
    {
     "name": "stderr",
     "output_type": "stream",
     "text": [
      "WARNING:root:`remote_read` is being deprecated, please update your code with new function.\n",
      "WARNING:root:`remote_read` is being deprecated, please update your code with new function.\n"
     ]
    },
    {
     "name": "stdout",
     "output_type": "stream",
     "text": [
      "[datacollect] adset id:  23843688037370151\n",
      "[datacollect] error:  'bid_amount'\n"
     ]
    },
    {
     "name": "stderr",
     "output_type": "stream",
     "text": [
      "WARNING:root:`remote_read` is being deprecated, please update your code with new function.\n"
     ]
    },
    {
     "name": "stdout",
     "output_type": "stream",
     "text": [
      "[datacollect] adset id:  23843688033110151\n",
      "[datacollect] error:  'bid_amount'\n",
      "1054 (42S22): Unknown column 'desire' in 'field list'\n",
      "1054 (42S22): Unknown column 'interest' in 'field list'\n",
      "1054 (42S22): Unknown column 'awareness' in 'field list'\n",
      "0:02:47.141357\n"
     ]
    }
   ],
   "source": [
    "if __name__ == \"__main__\":\n",
    "    main()\n",
    "    import gc\n",
    "    gc.collect()"
   ]
  }
 ],
 "metadata": {
  "kernelspec": {
   "display_name": "Python 3",
   "language": "python",
   "name": "python3"
  },
  "language_info": {
   "codemirror_mode": {
    "name": "ipython",
    "version": 3
   },
   "file_extension": ".py",
   "mimetype": "text/x-python",
   "name": "python",
   "nbconvert_exporter": "python",
   "pygments_lexer": "ipython3",
   "version": "3.6.7"
  },
  "varInspector": {
   "cols": {
    "lenName": 16,
    "lenType": 16,
    "lenVar": 40
   },
   "kernels_config": {
    "python": {
     "delete_cmd_postfix": "",
     "delete_cmd_prefix": "del ",
     "library": "var_list.py",
     "varRefreshCmd": "print(var_dic_list())"
    },
    "r": {
     "delete_cmd_postfix": ") ",
     "delete_cmd_prefix": "rm(",
     "library": "var_list.r",
     "varRefreshCmd": "cat(var_dic_list()) "
    }
   },
   "position": {
    "height": "496.4px",
    "left": "1161.6px",
    "right": "20px",
    "top": "120px",
    "width": "354.4px"
   },
   "types_to_exclude": [
    "module",
    "function",
    "builtin_function_or_method",
    "instance",
    "_Feature"
   ],
   "window_display": false
  }
 },
 "nbformat": 4,
 "nbformat_minor": 4
}
