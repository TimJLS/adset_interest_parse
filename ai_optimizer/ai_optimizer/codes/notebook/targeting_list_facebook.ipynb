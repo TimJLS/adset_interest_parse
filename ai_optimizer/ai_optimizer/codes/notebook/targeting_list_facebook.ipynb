{
 "cells": [
  {
   "cell_type": "code",
   "execution_count": 7,
   "metadata": {},
   "outputs": [],
   "source": [
    "import pandas as pd\n",
    "import numpy as np\n",
    "PATH = '/home/tim_su/ai_optimizer/opt/ai_optimizer/ai_optimizer/data/'"
   ]
  },
  {
   "cell_type": "code",
   "execution_count": 132,
   "metadata": {},
   "outputs": [],
   "source": [
    "df = pd.read_csv(PATH+'targeting_list_facebook.csv',encoding='gbk')"
   ]
  },
  {
   "cell_type": "code",
   "execution_count": 156,
   "metadata": {
    "scrolled": true
   },
   "outputs": [
    {
     "data": {
      "text/plain": [
       "array(['Business and Industry', 'Entertainment',\n",
       "       'Family and relationships', 'Fitness and wellness',\n",
       "       'Food and drink', 'Hobbies and activities', 'Shopping and fashion',\n",
       "       'Sports and outdoors', 'Technology'], dtype=object)"
      ]
     },
     "execution_count": 156,
     "metadata": {},
     "output_type": "execute_result"
    }
   ],
   "source": [
    "df['Level 1'].unique()"
   ]
  },
  {
   "cell_type": "code",
   "execution_count": 151,
   "metadata": {},
   "outputs": [],
   "source": [
    "import os\n",
    "os.getcwd()\n",
    "level_1 = None\n",
    "level_2 = None\n",
    "df = df.replace(np.nan, df.replace([np.nan], [None]))\n",
    "df['Level 3'] = df['Level 3'].str.split(\"?\",n=1, expand=True)[0]\n",
    "df_temp = pd.DataFrame(columns=df.columns)\n",
    "for i, row in df.iterrows():\n",
    "    if row[0] is not None and row[1] is not None:\n",
    "        level_1 = row[0]\n",
    "        level_2 = row[1]\n",
    "    elif row[0] is None and row[1] is not None:\n",
    "        row[0] = level_1\n",
    "        level_2 = row[1]\n",
    "    elif row[0] is not None and row[1] is None:\n",
    "        row[1] = level_2\n",
    "    else:\n",
    "        row[0] = level_1\n",
    "        row[1] = level_2\n",
    "    df_temp = df_temp.append(row)\n"
   ]
  },
  {
   "cell_type": "code",
   "execution_count": 154,
   "metadata": {},
   "outputs": [],
   "source": [
    "df_temp.to_csv(PATH+'targeting_interests.csv', index=False, encoding='utf-8')"
   ]
  },
  {
   "cell_type": "code",
   "execution_count": 158,
   "metadata": {},
   "outputs": [
    {
     "data": {
      "text/plain": [
       "23"
      ]
     },
     "execution_count": 158,
     "metadata": {},
     "output_type": "execute_result"
    }
   ],
   "source": [
    "len(df_temp['Level 2'][df_temp['Level 1']=='Business and Industry'].unique())"
   ]
  },
  {
   "cell_type": "code",
   "execution_count": 95,
   "metadata": {},
   "outputs": [],
   "source": [
    "import json"
   ]
  },
  {
   "cell_type": "code",
   "execution_count": 96,
   "metadata": {},
   "outputs": [
    {
     "name": "stdout",
     "output_type": "stream",
     "text": [
      "{\"level 1\": \"Business and Industry\", \"value\": [{\"level 2\": \"Advertising \", \"level 3\": [\"nan\"]}, {\"level 2\": \"Agriculture\", \"level 3\": [\"nan\"]}, {\"level 2\": \"Architecture \", \"level 3\": [\"nan\"]}, {\"level 2\": \"Aviation \", \"level 3\": [\"nan\"]}, {\"level 2\": \"Banking \", \"level 3\": [\"Investment banking\", \"Online banking\", \"Retail banking \"]}, {\"level 2\": \"Business\", \"level 3\": [\"nan\"]}, {\"level 2\": \"Construction\", \"level 3\": [\"nan\"]}, {\"level 2\": \"Design\", \"level 3\": [\"Fashion design\", \"Graphic design\", \"Interior design\"]}, {\"level 2\": \"Economics\", \"level 3\": [\"nan\"]}, {\"level 2\": \"Engineering\", \"level 3\": [\"nan\"]}, {\"level 2\": \"Entrepreneurship\", \"level 3\": [\"nan\"]}, {\"level 2\": \"Healthcare \", \"level 3\": [\"nan\"]}, {\"level 2\": \"Higher education  \", \"level 3\": [\"nan\"]}, {\"level 2\": \"Management\", \"level 3\": [\"nan\"]}, {\"level 2\": \"Marketing \", \"level 3\": [\"nan\"]}, {\"level 2\": \"Nursing \", \"level 3\": [\"nan\"]}, {\"level 2\": \"Online \", \"level 3\": [\"Digital marketing\", \"Display advertising\", \"Email marketing\", \"Online advertising\", \"Search engine optimization \", \"Social media \", \"Social media marketing \", \"Web design\", \"Web development \", \"Web hosting \"]}, {\"level 2\": \"Personal finance\", \"level 3\": [\"Credit cards\", \"Insurance \", \"Investment\", \"Mortgage loans\"]}, {\"level 2\": \"Real estate \", \"level 3\": [\"nan\"]}, {\"level 2\": \"Retail\", \"level 3\": [\"nan\"]}, {\"level 2\": \"Sales\", \"level 3\": [\"nan\"]}, {\"level 2\": \"Science\", \"level 3\": [\"nan\"]}, {\"level 2\": \"Small business \", \"level 3\": [\"nan\"]}]}\n",
      "------------------------------\n",
      "{\"level 1\": \"Entertainment\", \"value\": [{\"level 2\": \"Games\", \"level 3\": [\"Action games\", \"Board games\", \"Browser games\", \"Card games\", \"Casino games\", \"First-person shooter games \", \"Gambling \", \"Massively multiplayer online games\", \"Massively multiplayer online role-playing games \", \"Online games\", \"Online poker\", \"Puzzle video games\", \"Racing games\", \"Role-playing games\", \"Shooter games\", \"Simulation games\", \"Sports games\", \"Strategy games\", \"Video games\", \"Word games \"]}, {\"level 2\": \"Live events\", \"level 3\": [\"Ballet \", \"Bars \", \"Concerts \", \"Dancehalls \", \"Music festivals \", \"Nightclubs \", \"Parties \", \"Plays \", \"Theatre \"]}, {\"level 2\": \"Movies\", \"level 3\": [\"Action movies   \", \"Animated movies \", \"Anime movies\", \"Bollywood movies \", \"Comedy movies \", \"Documentary movies \", \"Drama movies \", \"Fantasy movies\", \"Horror movies\", \"Musical theatre \", \"Science fiction movies \", \"Thriller movies \"]}, {\"level 2\": \"Music\", \"level 3\": [\"Blues music \", \"Classical music\", \"Country music \", \"Dance music \", \"Electronic music \", \"Gospel music \", \"Heavy metal music \", \"Hip hop music \", \"Jazz music \", \"Music videos\", \"Pop music\", \"Rhythm and blues music \", \"Rock music\", \"Soul music \"]}, {\"level 2\": \"Reading\", \"level 3\": [\"Books \", \"Comics E-books\", \"Fiction books  \", \"Literature \", \"Magazines\", \"Manga \", \"Mystery Fiction \", \"Newspapers \", \"Non-fiction books\\n\", \"Romance novels\"]}, {\"level 2\": \"TV\", \"level 3\": [\"TV comedies\", \"TV game shows\", \"TV reality shows\", \"TV talk shows\"]}]}\n",
      "------------------------------\n",
      "{\"level 1\": \"Family and relationships\", \"value\": [{\"level 2\": \"Dating \", \"level 3\": [\"nan\"]}, {\"level 2\": \"Family \", \"level 3\": [\"nan\"]}, {\"level 2\": \"Fatherhood \", \"level 3\": [\"nan\"]}, {\"level 2\": \"Friendship \", \"level 3\": [\"nan\"]}, {\"level 2\": \"Marriage \", \"level 3\": [\"nan\"]}, {\"level 2\": \"Motherhood \", \"level 3\": [\"nan\"]}, {\"level 2\": \"Parenting \", \"level 3\": [\"nan\"]}, {\"level 2\": \"Weddings \", \"level 3\": [\"nan\"]}]}\n",
      "------------------------------\n",
      "{\"level 1\": \"Fitness and wellness\", \"value\": [{\"level 2\": \"Bodybuilding\", \"level 3\": [\"nan\"]}, {\"level 2\": \"Dieting\", \"level 3\": [\"nan\"]}, {\"level 2\": \"Gyms\", \"level 3\": [\"nan\"]}, {\"level 2\": \"Meditation \", \"level 3\": [\"nan\"]}, {\"level 2\": \"Nutrition\", \"level 3\": [\"nan\"]}, {\"level 2\": \"Physical exercise\", \"level 3\": [\"nan\"]}, {\"level 2\": \"Physical fitness\", \"level 3\": [\"nan\"]}, {\"level 2\": \"Running\", \"level 3\": [\"nan\"]}, {\"level 2\": \"Weight training\", \"level 3\": [\"nan\"]}, {\"level 2\": \"Yoga\", \"level 3\": [\"nan\"]}, {\"level 2\": \"Zumba\", \"level 3\": [\"nan\"]}]}\n",
      "------------------------------\n",
      "{\"level 1\": \"Food and drink\", \"value\": [{\"level 2\": \"Alcoholic beverages\", \"level 3\": [\"Beer\", \"Distilled beverage \", \"Wine\"]}, {\"level 2\": \"Beverages\", \"level 3\": [\"Coffee\", \"Energy drinks\", \"Juice\", \"Soft Drinks\", \"Tea\"]}, {\"level 2\": \"Cooking\", \"level 3\": [\"Baking \", \"Recipes \"]}, {\"level 2\": \"Cuisine\", \"level 3\": [\"Chinese cuisine \", \"French cuisine \", \"German cuisine\", \"Greek cuisine\", \"Indian cuisine\", \"Italian cuisine?\", \"Japanese cuisine?\", \"Korean cuisine\", \"Latin American cuisine?\", \"Mexican cuisine?\", \"Middle Eastern cuisine?\", \"Spanish cuisine?\", \"Thai cuisine?\", \"Vietnamese cuisine?\"]}, {\"level 2\": \"Food\", \"level 3\": [\"Barbecue?\", \"Chocolate?\", \"Desserts\", \"Fast food?\", \"Organic food?\", \"Pizza?\", \"Seafood?\", \"Veganism?\", \"Vegetarianism?\"]}, {\"level 2\": \"Restaurants\", \"level 3\": [\"Coffeehouses?\", \"Diners\", \"Fast casual restaurants?\", \"Fast food restaurants?\"]}]}\n",
      "------------------------------\n",
      "{\"level 1\": \"Hobbies and activities\", \"value\": [{\"level 2\": \"Arts and music\", \"level 3\": [\"Acting\", \"Crafts\", \"Dance?\", \"Drawing?\", \"Drums\", \"Fine art\", \"Guitar\", \"Painting?\", \"Performing arts?\", \"Photography?\", \"Sculpture?\", \"Singing?\", \"Writing?\"]}, {\"level 2\": \"Current events\", \"level 3\": [\"nan\"]}, {\"level 2\": \"Home and garden\", \"level 3\": [\"Do it yourself (DIY)\", \"Furniture?\", \"Gardening\", \"Home Appliances?\", \"Home Improvement\"]}, {\"level 2\": \"Pets\", \"level 3\": [\"Birds?\", \"Cats?\", \"Dogs?\", \"Fish?\", \"Horses?\", \"Pet food?\", \"Rabbits?\", \"Reptiles?\"]}, {\"level 2\": \"Politics and social issues\", \"level 3\": [\"Charity and causes?\", \"Community issues?\", \"Environmentalism?\", \"Law\", \"Military?\", \"Politics?\", \"Religion?\", \"Sustainability?\", \"Veterans?\", \"Volunteering?\"]}, {\"level 2\": \"Travel\", \"level 3\": [\"Adventure travel?\", \"Air travel?\", \"Beaches\", \"Car rentals?\", \"Cruises?\", \"Ecotourism?\", \"Hotels\", \"Lakes?\", \"Mountains?\", \"Nature?\", \"Theme parks?\", \"Tourism?\", \"Vacation?\"]}, {\"level 2\": \"Vehicles\", \"level 3\": [\"Automobiles?\", \"Boats\", \"Electric vehicle?\", \"Hybrids?\", \"Minivans?\", \"Motocycles?\", \"RVs?\", \"SUVs?\", \"Scooters?\", \"Trucks?\"]}]}\n",
      "------------------------------\n",
      "{\"level 1\": \"Shopping and fashion\", \"value\": [{\"level 2\": \"Beauty\", \"level 3\": [\"Beauty salons?\", \"Cosmetics?\", \"Fragrances?\", \"Hair products?\", \"Spas?\", \"Tattoos?\"]}, {\"level 2\": \"Clothing\", \"level 3\": [\"Children\\u02c7s clothing?\", \"Men\\u02c7s clothing?\", \"Shoes\", \"Women\\u02c7s clothing?\"]}, {\"level 2\": \"Fashion accessories\", \"level 3\": [\"Dresses?\", \"Handbags?\", \"Jewelry?\", \"Sunglasses?\"]}, {\"level 2\": \"Shopping\", \"level 3\": [\"Boutiques?\", \"Coupons?\", \"Discount stores?\", \"Luxury goods?\", \"Online shopping?\", \"Shopping malls?\"]}, {\"level 2\": \"Toys\", \"level 3\": [\"nan\"]}]}\n",
      "------------------------------\n",
      "{\"level 1\": \"Sports and outdoors\", \"value\": [{\"level 2\": \"Outdoor recreation\", \"level 3\": [\"Boating?\", \"Camping?\", \"Fishing\", \"Hiking?\", \"Horseback riding?\", \"Hunting?\", \"Mountain biking?\", \"Surfing?\"]}, {\"level 2\": \"Sports\", \"level 3\": [\"American football?\", \"Association football (Soccer)?\", \"Auto racing\", \"Baseball?\", \"Basketball?\", \"College football?\", \"Golf\", \"Marathons?\", \"Skiing?\", \"Snowboarding?\", \"Swimming?\", \"Tennis?\", \"Triathlons?\", \"Volleyball?\"]}]}\n",
      "------------------------------\n",
      "{\"level 1\": \"Technology\", \"value\": [{\"level 2\": \"Computers\", \"level 3\": [\"Computer memory?\", \"Computer monitors?\", \"Computer processors?\", \"Computer servers?\", \"Desktop computers?\", \"Free software?\", \"Hard drives?\", \"Network storage?\", \"Software\", \"Tablet computers?\"]}, {\"level 2\": \"Consumer electronics\", \"level 3\": [\"Audio equipment?\", \"Camcorders\", \"Cameras\", \"E-book readers\", \"GPS devices\", \"Game consoles\", \"Mobile phones?\", \"Portable media players?\", \"Projectors?\", \"Smartphones?\", \"Televisions?\"]}]}\n",
      "------------------------------\n"
     ]
    }
   ],
   "source": [
    "level_1_list = df_temp['Level 1'].unique()\n",
    "targeting_interests = list()\n",
    "for level_1 in level_1_list:\n",
    "    level_2_list = df_temp['Level 2'][df_temp['Level 1'] == level_1].unique()\n",
    "#     print(level_2_list)\n",
    "    targeting_interests.append( {'level 1': level_1, 'value': []} )\n",
    "    interests = {'level 1': level_1, 'value': []}\n",
    "    for level_2 in level_2_list:\n",
    "        level_3_list = list( df_temp['Level 3'][(df_temp['Level 1'] == level_1)&(df_temp['Level 2'] == level_2)].unique() )\n",
    "        if level_1 == interests['level 1']:\n",
    "            interests['value'].append( { 'level 2': level_2, 'level 3': level_3_list} )\n",
    "    interests = json.dumps(interests)\n",
    "    print(interests)\n",
    "    print('-'*30)   "
   ]
  },
  {
   "cell_type": "code",
   "execution_count": null,
   "metadata": {},
   "outputs": [],
   "source": [
    "def search_target_id(keyword=None):\n",
    "    from facebook_business.adobjects.targetingsearch import TargetingSearch\n",
    "    params = {\n",
    "        'q': str(keyword),\n",
    "        'type': TargetingSearch.TargetingSearchTypes.interest,\n",
    "    }\n",
    "    resp = TargetingSearch.search(params=params)\n",
    "    current_resp = resp[0]\n",
    "    interest_pair = {\n",
    "        \"interests\":[{\n",
    "            \"id\": current_resp[\"id\"],\n",
    "            \"name\": current_resp[\"name\"],\n",
    "        }]\n",
    "    }\n",
    "    return interest_pair\n",
    "\n",
    "test_param = retrieve_origin_adset_params(23843986717420337)\n",
    "# for level_1 in level_1_list:\n",
    "#     print(search_target_id(keyword=level_1))\n",
    "interest_pair = search_target_id(keyword=\"Business and industry\")\n",
    "interest_pair\n",
    "\n",
    "origin_name = test_param[AdSet.Field.name]\n",
    "test_param[AdSet.Field.name] = origin_name + \"_Business and industry\"\n",
    "test_param[AdSet.Field.targeting][\"flexible_spec\"] = interest_pair\n",
    "test_param[AdSet.Field.id] = None\n",
    "test_param"
   ]
  }
 ],
 "metadata": {
  "kernelspec": {
   "display_name": "Python 3",
   "language": "python",
   "name": "python3"
  },
  "language_info": {
   "codemirror_mode": {
    "name": "ipython",
    "version": 3
   },
   "file_extension": ".py",
   "mimetype": "text/x-python",
   "name": "python",
   "nbconvert_exporter": "python",
   "pygments_lexer": "ipython3",
   "version": "3.6.7"
  },
  "varInspector": {
   "cols": {
    "lenName": 16,
    "lenType": 16,
    "lenVar": 40
   },
   "kernels_config": {
    "python": {
     "delete_cmd_postfix": "",
     "delete_cmd_prefix": "del ",
     "library": "var_list.py",
     "varRefreshCmd": "print(var_dic_list())"
    },
    "r": {
     "delete_cmd_postfix": ") ",
     "delete_cmd_prefix": "rm(",
     "library": "var_list.r",
     "varRefreshCmd": "cat(var_dic_list()) "
    }
   },
   "types_to_exclude": [
    "module",
    "function",
    "builtin_function_or_method",
    "instance",
    "_Feature"
   ],
   "window_display": false
  }
 },
 "nbformat": 4,
 "nbformat_minor": 2
}
