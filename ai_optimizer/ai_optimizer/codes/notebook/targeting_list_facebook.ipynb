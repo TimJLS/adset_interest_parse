{
 "cells": [
  {
   "cell_type": "code",
   "execution_count": null,
   "metadata": {},
   "outputs": [],
   "source": [
    "import pandas as pd\n",
    "import numpy as np\n",
    "PATH = '/home/tim_su/ai_optimizer/opt/ai_optimizer/ai_optimizer/data/'"
   ]
  },
  {
   "cell_type": "code",
   "execution_count": null,
   "metadata": {},
   "outputs": [],
   "source": [
    "df = pd.read_csv(PATH+'targeting_list_facebook.csv',encoding='gbk')"
   ]
  },
  {
   "cell_type": "code",
   "execution_count": null,
   "metadata": {
    "scrolled": true
   },
   "outputs": [],
   "source": [
    "df['Level 1'].unique()"
   ]
  },
  {
   "cell_type": "code",
   "execution_count": null,
   "metadata": {},
   "outputs": [],
   "source": [
    "import os\n",
    "os.getcwd()\n",
    "level_1 = None\n",
    "level_2 = None\n",
    "df = df.replace(np.nan, df.replace([np.nan], [None]))\n",
    "df['Level 3'] = df['Level 3'].str.split(\"?\",n=1, expand=True)[0]\n",
    "df_temp = pd.DataFrame(columns=df.columns)\n",
    "for i, row in df.iterrows():\n",
    "    if row[0] is not None and row[1] is not None:\n",
    "        level_1 = row[0]\n",
    "        level_2 = row[1]\n",
    "    elif row[0] is None and row[1] is not None:\n",
    "        row[0] = level_1\n",
    "        level_2 = row[1]\n",
    "    elif row[0] is not None and row[1] is None:\n",
    "        row[1] = level_2\n",
    "    else:\n",
    "        row[0] = level_1\n",
    "        row[1] = level_2\n",
    "    df_temp = df_temp.append(row)\n"
   ]
  },
  {
   "cell_type": "code",
   "execution_count": null,
   "metadata": {},
   "outputs": [],
   "source": [
    "df_temp.to_csv(PATH+'targeting_interests.csv', index=False, encoding='utf-8')"
   ]
  },
  {
   "cell_type": "code",
   "execution_count": null,
   "metadata": {},
   "outputs": [],
   "source": [
    "len(df_temp['Level 2'][df_temp['Level 1']=='Business and Industry'].unique())"
   ]
  },
  {
   "cell_type": "code",
   "execution_count": null,
   "metadata": {},
   "outputs": [],
   "source": [
    "import json"
   ]
  },
  {
   "cell_type": "code",
   "execution_count": null,
   "metadata": {},
   "outputs": [],
   "source": [
    "level_1_list = df_temp['Level 1'].unique()\n",
    "targeting_interests = list()\n",
    "for level_1 in level_1_list:\n",
    "    level_2_list = df_temp['Level 2'][df_temp['Level 1'] == level_1].unique()\n",
    "#     print(level_2_list)\n",
    "    targeting_interests.append( {'level 1': level_1, 'value': []} )\n",
    "    interests = {'level 1': level_1, 'value': []}\n",
    "    for level_2 in level_2_list:\n",
    "        level_3_list = list( df_temp['Level 3'][(df_temp['Level 1'] == level_1)&(df_temp['Level 2'] == level_2)].unique() )\n",
    "        if level_1 == interests['level 1']:\n",
    "            interests['value'].append( { 'level 2': level_2, 'level 3': level_3_list} )\n",
    "    interests = json.dumps(interests)\n",
    "    print(interests)\n",
    "    print('-'*30)   "
   ]
  },
  {
   "cell_type": "code",
   "execution_count": 3,
   "metadata": {},
   "outputs": [
    {
     "ename": "FacebookBadObjectError",
     "evalue": "An Api instance must be provided as an argument or set as the default Api in FacebookAdsApi.",
     "output_type": "error",
     "traceback": [
      "\u001b[0;31m---------------------------------------------------------------------------\u001b[0m",
      "\u001b[0;31mFacebookBadObjectError\u001b[0m                    Traceback (most recent call last)",
      "\u001b[0;32m<ipython-input-3-935f95470646>\u001b[0m in \u001b[0;36m<module>\u001b[0;34m\u001b[0m\n\u001b[1;32m     15\u001b[0m     \u001b[0;32mreturn\u001b[0m \u001b[0minterest_pair\u001b[0m\u001b[0;34m\u001b[0m\u001b[0;34m\u001b[0m\u001b[0m\n\u001b[1;32m     16\u001b[0m \u001b[0;34m\u001b[0m\u001b[0m\n\u001b[0;32m---> 17\u001b[0;31m \u001b[0msearch_target_id\u001b[0m\u001b[0;34m(\u001b[0m\u001b[0;34m'Lingerie'\u001b[0m\u001b[0;34m)\u001b[0m\u001b[0;34m\u001b[0m\u001b[0;34m\u001b[0m\u001b[0m\n\u001b[0m\u001b[1;32m     18\u001b[0m \u001b[0;31m# test_param = retrieve_origin_adset_params(23843986717420337)\u001b[0m\u001b[0;34m\u001b[0m\u001b[0;34m\u001b[0m\u001b[0;34m\u001b[0m\u001b[0m\n\u001b[1;32m     19\u001b[0m \u001b[0;31m# # for level_1 in level_1_list:\u001b[0m\u001b[0;34m\u001b[0m\u001b[0;34m\u001b[0m\u001b[0;34m\u001b[0m\u001b[0m\n",
      "\u001b[0;32m<ipython-input-3-935f95470646>\u001b[0m in \u001b[0;36msearch_target_id\u001b[0;34m(keyword)\u001b[0m\n\u001b[1;32m      5\u001b[0m         \u001b[0;34m'type'\u001b[0m\u001b[0;34m:\u001b[0m \u001b[0mTargetingSearch\u001b[0m\u001b[0;34m.\u001b[0m\u001b[0mTargetingSearchTypes\u001b[0m\u001b[0;34m.\u001b[0m\u001b[0minterest\u001b[0m\u001b[0;34m,\u001b[0m\u001b[0;34m\u001b[0m\u001b[0;34m\u001b[0m\u001b[0m\n\u001b[1;32m      6\u001b[0m     }\n\u001b[0;32m----> 7\u001b[0;31m     \u001b[0mresp\u001b[0m \u001b[0;34m=\u001b[0m \u001b[0mTargetingSearch\u001b[0m\u001b[0;34m.\u001b[0m\u001b[0msearch\u001b[0m\u001b[0;34m(\u001b[0m\u001b[0mparams\u001b[0m\u001b[0;34m=\u001b[0m\u001b[0mparams\u001b[0m\u001b[0;34m)\u001b[0m\u001b[0;34m\u001b[0m\u001b[0;34m\u001b[0m\u001b[0m\n\u001b[0m\u001b[1;32m      8\u001b[0m     \u001b[0mcurrent_resp\u001b[0m \u001b[0;34m=\u001b[0m \u001b[0mresp\u001b[0m\u001b[0;34m[\u001b[0m\u001b[0;36m0\u001b[0m\u001b[0;34m]\u001b[0m\u001b[0;34m\u001b[0m\u001b[0;34m\u001b[0m\u001b[0m\n\u001b[1;32m      9\u001b[0m     interest_pair = {\n",
      "\u001b[0;32m~/.local/lib/python3.6/site-packages/facebook_business/adobjects/targetingsearch.py\u001b[0m in \u001b[0;36msearch\u001b[0;34m(cls, params, api)\u001b[0m\n\u001b[1;32m     67\u001b[0m         \u001b[0;32mif\u001b[0m \u001b[0;32mnot\u001b[0m \u001b[0mapi\u001b[0m\u001b[0;34m:\u001b[0m\u001b[0;34m\u001b[0m\u001b[0;34m\u001b[0m\u001b[0m\n\u001b[1;32m     68\u001b[0m             raise FacebookBadObjectError(\n\u001b[0;32m---> 69\u001b[0;31m                 \u001b[0;34m\"An Api instance must be provided as an argument or set as \"\u001b[0m\u001b[0;34m\u001b[0m\u001b[0;34m\u001b[0m\u001b[0m\n\u001b[0m\u001b[1;32m     70\u001b[0m                 \u001b[0;34m\"the default Api in FacebookAdsApi.\"\u001b[0m\u001b[0;34m,\u001b[0m\u001b[0;34m\u001b[0m\u001b[0;34m\u001b[0m\u001b[0m\n\u001b[1;32m     71\u001b[0m             )\n",
      "\u001b[0;31mFacebookBadObjectError\u001b[0m: An Api instance must be provided as an argument or set as the default Api in FacebookAdsApi."
     ]
    }
   ],
   "source": [
    "def search_target_id(keyword=None):\n",
    "    from facebook_business.adobjects.targetingsearch import TargetingSearch\n",
    "    params = {\n",
    "        'q': str(keyword),\n",
    "        'type': TargetingSearch.TargetingSearchTypes.interest,\n",
    "    }\n",
    "    resp = TargetingSearch.search(params=params)\n",
    "    current_resp = resp[0]\n",
    "    interest_pair = {\n",
    "        \"interests\":[{\n",
    "            \"id\": current_resp[\"id\"],\n",
    "            \"name\": current_resp[\"name\"],\n",
    "        }]\n",
    "    }\n",
    "    return interest_pair\n",
    "\n",
    "search_target_id('Lingerie')\n",
    "# test_param = retrieve_origin_adset_params(23843986717420337)\n",
    "# # for level_1 in level_1_list:\n",
    "# #     print(search_target_id(keyword=level_1))\n",
    "# interest_pair = search_target_id(keyword=\"Business and industry\")\n",
    "# interest_pair\n",
    "\n",
    "# origin_name = test_param[AdSet.Field.name]\n",
    "# test_param[AdSet.Field.name] = origin_name + \"_Business and industry\"\n",
    "# test_param[AdSet.Field.targeting][\"flexible_spec\"] = interest_pair\n",
    "# test_param[AdSet.Field.id] = None\n",
    "# test_param"
   ]
  },
  {
   "cell_type": "code",
   "execution_count": null,
   "metadata": {},
   "outputs": [],
   "source": []
  }
 ],
 "metadata": {
  "kernelspec": {
   "display_name": "Python 3",
   "language": "python",
   "name": "python3"
  },
  "language_info": {
   "codemirror_mode": {
    "name": "ipython",
    "version": 3
   },
   "file_extension": ".py",
   "mimetype": "text/x-python",
   "name": "python",
   "nbconvert_exporter": "python",
   "pygments_lexer": "ipython3",
   "version": "3.6.7"
  },
  "varInspector": {
   "cols": {
    "lenName": 16,
    "lenType": 16,
    "lenVar": 40
   },
   "kernels_config": {
    "python": {
     "delete_cmd_postfix": "",
     "delete_cmd_prefix": "del ",
     "library": "var_list.py",
     "varRefreshCmd": "print(var_dic_list())"
    },
    "r": {
     "delete_cmd_postfix": ") ",
     "delete_cmd_prefix": "rm(",
     "library": "var_list.r",
     "varRefreshCmd": "cat(var_dic_list()) "
    }
   },
   "types_to_exclude": [
    "module",
    "function",
    "builtin_function_or_method",
    "instance",
    "_Feature"
   ],
   "window_display": false
  }
 },
 "nbformat": 4,
 "nbformat_minor": 2
}
