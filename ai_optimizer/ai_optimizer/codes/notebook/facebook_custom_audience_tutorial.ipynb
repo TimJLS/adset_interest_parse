{
 "cells": [
  {
   "cell_type": "code",
   "execution_count": 1,
   "metadata": {},
   "outputs": [
    {
     "data": {
      "text/plain": [
       "<facebook_business.api.FacebookAdsApi at 0x7f7e07526cf8>"
      ]
     },
     "execution_count": 1,
     "metadata": {},
     "output_type": "execute_result"
    }
   ],
   "source": [
    "import facebook_business.adobjects.adset as facebook_business_adset\n",
    "import facebook_business.adobjects.campaign as facebook_business_campaign\n",
    "import facebook_business.adobjects.adaccount as facebook_business_adaccount\n",
    "import facebook_business.adobjects.customaudience as facebook_business_custom_audience\n",
    "\n",
    "from facebook_business.api import FacebookAdsApi\n",
    "import facebook_datacollector as collector\n",
    "import database_controller\n",
    "\n",
    "import pandas as pd\n",
    "my_app_id = '958842090856883'\n",
    "my_app_secret = 'a952f55afca38572cea2994d440d674b'\n",
    "my_access_token = 'EAANoD9I4obMBACygIE9jqmlaWeOW6tBma0oS6JbRpLgAvOYXpVi2XcXuasuwbBgqmaZBj5cP8MHE5WY2l9tAoi549eGZCP61mKr9BA8rZA6kxEW4ovX3KlbbrRGgt4RZC8MAi1UG0l0ZBUd0UBAhIPhzkZBi46ncuyCwkYPB7a6voVBZBTbEZAwH3azZA3Ph6g7aCOfxZCdDOp4AZDZD'\n",
    "\n",
    "FacebookAdsApi.init(my_app_id, my_app_secret, my_access_token)\n"
   ]
  },
  {
   "cell_type": "markdown",
   "metadata": {},
   "source": [
    "# Get Custom Audience's attribute"
   ]
  },
  {
   "cell_type": "code",
   "execution_count": 45,
   "metadata": {},
   "outputs": [],
   "source": [
    "ca = facebook_business_custom_audience.CustomAudience(23843450947680647).remote_read(fields=[\n",
    "    \"account_id\",\n",
    "    \"data_source\",\n",
    "    \"delivery_status\",\n",
    "    \"description\",\n",
    "    \"id\",\n",
    "    \"lookalike_audience_ids\",\n",
    "    \"lookalike_spec\",\n",
    "    \"name\",\n",
    "    \"operation_status\",\n",
    "    \"opt_out_link\",\n",
    "    \"permission_for_actions\",\n",
    "    \"pixel_id\",\n",
    "    \"retention_days\",\n",
    "    \"rule\",\n",
    "    \"subtype\",\n",
    "    \"time_updated\",\n",
    "    \"approximate_count\"])"
   ]
  },
  {
   "cell_type": "code",
   "execution_count": 46,
   "metadata": {},
   "outputs": [
    {
     "data": {
      "text/plain": [
       "<CustomAudience> {\n",
       "    \"account_id\": \"171560460354321\",\n",
       "    \"approximate_count\": 200000,\n",
       "    \"data_source\": {\n",
       "        \"creation_params\": \"[]\",\n",
       "        \"sub_type\": \"PLATFORM_USERS\",\n",
       "        \"type\": \"SEED_BASED\"\n",
       "    },\n",
       "    \"delivery_status\": {\n",
       "        \"code\": 200,\n",
       "        \"description\": \"This audience is ready for use.\"\n",
       "    },\n",
       "    \"description\": \"\",\n",
       "    \"id\": \"23843450947680647\",\n",
       "    \"lookalike_spec\": {\n",
       "        \"country\": \"TW\",\n",
       "        \"origin\": [\n",
       "            {\n",
       "                \"id\": \"23843450947670647\",\n",
       "                \"name\": \"My ViewContent Custom Audience\",\n",
       "                \"type\": \"custom_audience\"\n",
       "            }\n",
       "        ],\n",
       "        \"ratio\": 0.01,\n",
       "        \"type\": \"custom_ratio\"\n",
       "    },\n",
       "    \"name\": \"My lookalike audience for ViewContent\",\n",
       "    \"operation_status\": {\n",
       "        \"code\": 200,\n",
       "        \"description\": \"Normal\"\n",
       "    },\n",
       "    \"permission_for_actions\": {\n",
       "        \"can_edit\": true,\n",
       "        \"can_see_insight\": true,\n",
       "        \"can_share\": true,\n",
       "        \"subtype_supports_lookalike\": false,\n",
       "        \"supports_recipient_lookalike\": false\n",
       "    },\n",
       "    \"retention_days\": 0,\n",
       "    \"subtype\": \"LOOKALIKE\",\n",
       "    \"time_updated\": 1562125138\n",
       "}"
      ]
     },
     "execution_count": 46,
     "metadata": {},
     "output_type": "execute_result"
    }
   ],
   "source": [
    "ca"
   ]
  },
  {
   "cell_type": "markdown",
   "metadata": {},
   "source": [
    "# value-based cusotm audience(one pixel in value-based)"
   ]
  },
  {
   "cell_type": "code",
   "execution_count": null,
   "metadata": {},
   "outputs": [],
   "source": [
    "camp = Campaign(23843346060540647)\n",
    "adset = AdSet(23843434329230647)\n",
    "ad_acc = AdAccount('act_171560460354321')\n",
    "fields = [\n",
    "]\n",
    "params = {\n",
    "  'name': 'Test Value-Based lookalike from Pixel ViewContent',\n",
    "  'subtype': 'LOOKALIKE',\n",
    "  'lookalike_spec': {\n",
    "      'origin_event_sources':[{\n",
    "          'id':'288842628153699',\n",
    "          'event_names':['ViewContent']\n",
    "  }],\n",
    "  'type':'custom_ratio',\n",
    "  'ratio':0.01,\n",
    "  'country':'TW'},\n",
    "}\n",
    "print(ad_acc.create_custom_audience(\n",
    "    fields=fields,\n",
    "    params=params,\n",
    "))"
   ]
  },
  {
   "cell_type": "markdown",
   "metadata": {},
   "source": [
    "# look-a-like audience\n",
    "(need one custom audience id to be origin_audience_id)"
   ]
  },
  {
   "cell_type": "code",
   "execution_count": null,
   "metadata": {},
   "outputs": [],
   "source": [
    "from facebook_business.adobjects.customaudience import CustomAudience\n",
    "\n",
    "lookalike = CustomAudience(parent_id='act_171560460354321')\n",
    "lookalike.update({\n",
    "    CustomAudience.Field.name: 'My lookalike audience',\n",
    "    CustomAudience.Field.subtype: CustomAudience.Subtype.lookalike,\n",
    "    CustomAudience.Field.origin_audience_id: '23843434379220647',\n",
    "    CustomAudience.Field.lookalike_spec: {\n",
    "        'type': 'similarity',\n",
    "        'country': 'TW',\n",
    "    },\n",
    "})\n",
    "\n",
    "lookalike.remote_create()\n",
    "print(lookalike)"
   ]
  },
  {
   "cell_type": "markdown",
   "metadata": {},
   "source": [
    "same as above, except apointing ratios"
   ]
  },
  {
   "cell_type": "code",
   "execution_count": null,
   "metadata": {},
   "outputs": [],
   "source": [
    "lookalike = CustomAudience(parent_id='act_171560460354321')\n",
    "lookalike.update({\n",
    "    CustomAudience.Field.subtype: CustomAudience.Subtype.lookalike,\n",
    "    CustomAudience.Field.lookalike_spec: {\n",
    "        'origin_ids': '23843346104340647',\n",
    "#         'starting_ratio': 0.03,\n",
    "        'ratio': 0.1,\n",
    "        'conversion_type': 'campaign_conversions',\n",
    "        'country': 'TW',\n",
    "    },\n",
    "})\n",
    "\n",
    "lookalike.remote_create()\n",
    "print(lookalike)"
   ]
  },
  {
   "cell_type": "markdown",
   "metadata": {},
   "source": [
    "# offline conversion custom audience by pixel id (WE NEED THE MOST)"
   ]
  },
  {
   "cell_type": "code",
   "execution_count": null,
   "metadata": {},
   "outputs": [],
   "source": [
    "fields = [\n",
    "]\n",
    "params = {\n",
    "    'name': 'My Test Website Custom Audience',\n",
    "    \"operator\" : \"and\",\n",
    "    'rule': {\n",
    "        \"inclusions\": {\n",
    "            \"operator\": \"or\",\n",
    "            \"rules\":[{\n",
    "                \"event_sources\": [{'id': 288842628153699, 'type': 'pixel'}], \n",
    "                \"retention_seconds\" : 2592000,\n",
    "                \"filter\": {\n",
    "                    \"operator\": \"or\",\n",
    "                    \"filters\": [\n",
    "                        {\n",
    "                            \"field\": \"event\",\n",
    "                            \"operator\": \"=\",\n",
    "    #                         \"value\": \"offsite_conversion.fb_pixel_view_content\",\n",
    "                            \"value\": \"Purchase\",\n",
    "#                             \"value\": \"ViewContent\",\n",
    "                        }\n",
    "                    ]\n",
    "                },\n",
    "                \"aggregation\" : {\n",
    "                    \"type\":\"count\",\n",
    "                    \"operator\":\">\",\n",
    "                    \"value\":1\n",
    "                }\n",
    "            }]\n",
    "        }\n",
    "    }\n",
    "}\n",
    "resp = AdAccount('act_171560460354321').create_custom_audience(\n",
    "    fields=fields,\n",
    "    params=params,\n",
    ")"
   ]
  }
 ],
 "metadata": {
  "kernelspec": {
   "display_name": "Python 3",
   "language": "python",
   "name": "python3"
  },
  "language_info": {
   "codemirror_mode": {
    "name": "ipython",
    "version": 3
   },
   "file_extension": ".py",
   "mimetype": "text/x-python",
   "name": "python",
   "nbconvert_exporter": "python",
   "pygments_lexer": "ipython3",
   "version": "3.6.8"
  },
  "varInspector": {
   "cols": {
    "lenName": 16,
    "lenType": 16,
    "lenVar": 40
   },
   "kernels_config": {
    "python": {
     "delete_cmd_postfix": "",
     "delete_cmd_prefix": "del ",
     "library": "var_list.py",
     "varRefreshCmd": "print(var_dic_list())"
    },
    "r": {
     "delete_cmd_postfix": ") ",
     "delete_cmd_prefix": "rm(",
     "library": "var_list.r",
     "varRefreshCmd": "cat(var_dic_list()) "
    }
   },
   "types_to_exclude": [
    "module",
    "function",
    "builtin_function_or_method",
    "instance",
    "_Feature"
   ],
   "window_display": false
  }
 },
 "nbformat": 4,
 "nbformat_minor": 4
}
