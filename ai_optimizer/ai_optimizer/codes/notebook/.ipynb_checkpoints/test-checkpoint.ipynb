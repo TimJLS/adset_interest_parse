{
 "cells": [
  {
   "cell_type": "code",
   "execution_count": 44,
   "metadata": {},
   "outputs": [
    {
     "name": "stdout",
     "output_type": "stream",
     "text": [
      "{'code': 200, 'data': [{'media': 'facebook', 'adv_id': '1690972390965768', 'io_id': '23843415721010408', 'datenum': 20190508, 'device': 'desktop', 'clicks': 11, 'impressions': 1585, 'm_spend': 11.994600296020508, 'spend': 4.797840118408203}, {'media': 'facebook', 'adv_id': '1690972390965768', 'io_id': '23843415721010408', 'datenum': 20190508, 'device': 'mobile', 'clicks': 103, 'impressions': 5952, 'm_spend': 48.056663513183594, 'spend': 19.222665786743164}, {'media': 'facebook', 'adv_id': '1690972390965768', 'io_id': '23843415721010408', 'datenum': 20190507, 'device': 'desktop', 'clicks': 58, 'impressions': 7248, 'm_spend': 57.92499923706055, 'spend': 23.170000076293945}, {'media': 'facebook', 'adv_id': '1690972390965768', 'io_id': '23843415721010408', 'datenum': 20190507, 'device': 'mobile', 'clicks': 677, 'impressions': 28170, 'm_spend': 241.35000610351562, 'spend': 96.54000091552734}, {'media': 'facebook', 'adv_id': '1690972390965768', 'io_id': '23843415721010408', 'datenum': 20190506, 'device': 'desktop', 'clicks': 70, 'impressions': 2752, 'm_spend': 20.774999618530273, 'spend': 8.3100004196167}, {'media': 'facebook', 'adv_id': '1690972390965768', 'io_id': '23843415721010408', 'datenum': 20190506, 'device': 'mobile', 'clicks': 537, 'impressions': 18989, 'm_spend': 130.0749969482422, 'spend': 52.029998779296875}, {'media': 'facebook', 'adv_id': '1690972390965768', 'io_id': '23843415721010408', 'datenum': 20190505, 'device': 'desktop', 'clicks': 68, 'impressions': 1753, 'm_spend': 9.399999618530273, 'spend': 3.759999990463257}, {'media': 'facebook', 'adv_id': '1690972390965768', 'io_id': '23843415721010408', 'datenum': 20190505, 'device': 'mobile', 'clicks': 237, 'impressions': 15209, 'm_spend': 152.22500610351562, 'spend': 60.88999938964844}, {'media': 'facebook', 'adv_id': '1690972390965768', 'io_id': '23843415721010408', 'datenum': 20190504, 'device': 'desktop', 'clicks': 98, 'impressions': 1895, 'm_spend': 10.800000190734863, 'spend': 4.320000171661377}, {'media': 'facebook', 'adv_id': '1690972390965768', 'io_id': '23843415721010408', 'datenum': 20190504, 'device': 'mobile', 'clicks': 527, 'impressions': 23867, 'm_spend': 264.9750061035156, 'spend': 105.98999786376953}, {'media': 'facebook', 'adv_id': '1690972390965768', 'io_id': '23843415721010408', 'datenum': 20190503, 'device': 'desktop', 'clicks': 69, 'impressions': 4301, 'm_spend': 38.625, 'spend': 15.449999809265137}, {'media': 'facebook', 'adv_id': '1690972390965768', 'io_id': '23843415721010408', 'datenum': 20190503, 'device': 'mobile', 'clicks': 385, 'impressions': 16779, 'm_spend': 226.85000610351562, 'spend': 90.73999786376953}, {'media': 'facebook', 'adv_id': '1690972390965768', 'io_id': '23843415721010408', 'datenum': 20190502, 'device': 'desktop', 'clicks': 59, 'impressions': 2555, 'm_spend': 26.419452667236328, 'spend': 10.567781448364258}, {'media': 'facebook', 'adv_id': '1690972390965768', 'io_id': '23843415721010408', 'datenum': 20190502, 'device': 'mobile', 'clicks': 304, 'impressions': 12533, 'm_spend': 170.9305419921875, 'spend': 68.3722152709961}]}\n"
     ]
    }
   ],
   "source": [
    "import requests\n",
    "import json\n",
    "from urllib.parse import urlencode, quote_plus\n",
    "\n",
    "url = \"https://dc.adgeek.com.tw/api/v2/insights/index\"\n",
    "conditions = [[\"=\",\"media\",\"facebook\"],[\"=\",\"adv_id\",\"1690972390965768\"],[\"=\",\"io_id\",\"23843415721010408\"]]\n",
    "\n",
    "data = {\n",
    "    \"table\": \"campaign_main\",\n",
    "    \"conditions\": json.dumps(conditions)\n",
    "}\n",
    "\n",
    "response = requests.request(\"POST\", url, data=data)\n",
    "\n",
    "print(json.loads(response.text))"
   ]
  },
  {
   "cell_type": "code",
   "execution_count": 45,
   "metadata": {},
   "outputs": [
    {
     "data": {
      "text/plain": [
       "200"
      ]
     },
     "execution_count": 45,
     "metadata": {},
     "output_type": "execute_result"
    }
   ],
   "source": [
    "json.loads(response.text)['code']"
   ]
  },
  {
   "cell_type": "code",
   "execution_count": null,
   "metadata": {},
   "outputs": [],
   "source": []
  }
 ],
 "metadata": {
  "kernelspec": {
   "display_name": "Python 3",
   "language": "python",
   "name": "python3"
  },
  "language_info": {
   "codemirror_mode": {
    "name": "ipython",
    "version": 3
   },
   "file_extension": ".py",
   "mimetype": "text/x-python",
   "name": "python",
   "nbconvert_exporter": "python",
   "pygments_lexer": "ipython3",
   "version": "3.6.7"
  },
  "varInspector": {
   "cols": {
    "lenName": 16,
    "lenType": 16,
    "lenVar": 40
   },
   "kernels_config": {
    "python": {
     "delete_cmd_postfix": "",
     "delete_cmd_prefix": "del ",
     "library": "var_list.py",
     "varRefreshCmd": "print(var_dic_list())"
    },
    "r": {
     "delete_cmd_postfix": ") ",
     "delete_cmd_prefix": "rm(",
     "library": "var_list.r",
     "varRefreshCmd": "cat(var_dic_list()) "
    }
   },
   "types_to_exclude": [
    "module",
    "function",
    "builtin_function_or_method",
    "instance",
    "_Feature"
   ],
   "window_display": false
  }
 },
 "nbformat": 4,
 "nbformat_minor": 2
}
