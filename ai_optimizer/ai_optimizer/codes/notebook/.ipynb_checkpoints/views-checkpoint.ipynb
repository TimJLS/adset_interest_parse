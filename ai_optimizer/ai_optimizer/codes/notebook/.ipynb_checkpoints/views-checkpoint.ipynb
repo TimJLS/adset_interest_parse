{
 "cells": [
  {
   "cell_type": "code",
   "execution_count": 3,
   "metadata": {
    "code_folding": []
   },
   "outputs": [
    {
     "ename": "ModuleNotFoundError",
     "evalue": "No module named 'ai_optimizer'",
     "output_type": "error",
     "traceback": [
      "\u001b[0;31m---------------------------------------------------------------------------\u001b[0m",
      "\u001b[0;31mModuleNotFoundError\u001b[0m                       Traceback (most recent call last)",
      "\u001b[0;32m<ipython-input-3-3eab14a86bb9>\u001b[0m in \u001b[0;36m<module>\u001b[0;34m\u001b[0m\n\u001b[1;32m     11\u001b[0m \u001b[0;32mimport\u001b[0m \u001b[0mpandas\u001b[0m \u001b[0;32mas\u001b[0m \u001b[0mpd\u001b[0m\u001b[0;34m\u001b[0m\u001b[0;34m\u001b[0m\u001b[0m\n\u001b[1;32m     12\u001b[0m \u001b[0;32mfrom\u001b[0m \u001b[0msklearn\u001b[0m\u001b[0;34m.\u001b[0m\u001b[0mexternals\u001b[0m \u001b[0;32mimport\u001b[0m \u001b[0mjoblib\u001b[0m\u001b[0;34m\u001b[0m\u001b[0;34m\u001b[0m\u001b[0m\n\u001b[0;32m---> 13\u001b[0;31m \u001b[0;32mfrom\u001b[0m \u001b[0mai_optimizer\u001b[0m\u001b[0;34m.\u001b[0m\u001b[0mcodes\u001b[0m \u001b[0;32mimport\u001b[0m \u001b[0mmysql_adactivity_save\u001b[0m\u001b[0;34m\u001b[0m\u001b[0;34m\u001b[0m\u001b[0m\n\u001b[0m\u001b[1;32m     14\u001b[0m \u001b[0;32mfrom\u001b[0m \u001b[0mai_optimizer\u001b[0m\u001b[0;34m.\u001b[0m\u001b[0mcodes\u001b[0m \u001b[0;32mimport\u001b[0m \u001b[0mgdn_db\u001b[0m\u001b[0;34m\u001b[0m\u001b[0;34m\u001b[0m\u001b[0m\n\u001b[1;32m     15\u001b[0m \u001b[0;32mfrom\u001b[0m \u001b[0mai_optimizer\u001b[0m\u001b[0;34m.\u001b[0m\u001b[0mcodes\u001b[0m \u001b[0;32mimport\u001b[0m \u001b[0mgdn_datacollector\u001b[0m\u001b[0;34m\u001b[0m\u001b[0;34m\u001b[0m\u001b[0m\n",
      "\u001b[0;31mModuleNotFoundError\u001b[0m: No module named 'ai_optimizer'"
     ]
    }
   ],
   "source": [
    "from django.shortcuts import render\n",
    "\n",
    "# Create your views here.\n",
    "from django.http import HttpResponse\n",
    "from django.http import JsonResponse\n",
    "from django.views.decorators.csrf import csrf_exempt\n",
    "import sys\n",
    "sys.path.append('ai_optimizer/codes/')\n",
    "import json\n",
    "import numpy as np\n",
    "import pandas as pd\n",
    "from sklearn.externals import joblib\n",
    "from ai_optimizer.codes import mysql_adactivity_save\n",
    "from ai_optimizer.codes import gdn_db\n",
    "from ai_optimizer.codes import gdn_datacollector\n",
    "from facebook_business.api import FacebookAdsApi\n",
    "from facebook_datacollector import Campaigns\n",
    "import facebook_datacollector\n",
    "import datetime\n",
    "# FOLDER_PATH = 'ai_optimizer/models/cpc_120/'\n",
    "# MODEL_PATH = FOLDER_PATH + 'cpc_20_500_64.h5'\n",
    "class Field(object):\n",
    "    pred_cpc = 'pred_cpc'\n",
    "    pred_budget = 'pred_budget'\n",
    "    target_TYPE = 'target_type'\n",
    "    reasons = 'reasons'\n",
    "\n",
    "    ad_id = 'ad_id'\n",
    "    account_id = 'account_id'\n",
    "    campaign_id = 'campaign_id'\n",
    "    target = 'total_clicks'\n",
    "    destination_type = 'destination_type'\n",
    "    media = 'media'\n",
    "\n",
    "\n",
    "\n",
    "my_app_id = '958842090856883'\n",
    "my_app_secret = 'a952f55afca38572cea2994d440d674b'\n",
    "my_access_token = 'EAANoD9I4obMBAPcoZA5V7OZBQaPa3Tk7NMAT0ZBZCepdD8zZBcwMZBMHAM1zPeQiRY4Yw07rscee4LMRn9lMsJGuNZAYBA4nCYdZA6tsyL0KGTfQKIAFls3T5jul9Am6t95nbvcGXFmcFDYEyZAX2FpAuVesVGyiHuLFRKxlXfh5t6AZDZD'\n",
    "\n",
    "@csrf_exempt\n",
    "def opt_api(request):\n",
    "    if request.method == \"POST\":\n",
    "        start_time = datetime.datetime.now()\n",
    "        account_id = request.POST.get(Field.account_id)\n",
    "        campaign_id = request.POST.get(Field.campaign_id)\n",
    "        destination = request.POST.get(Field.target)\n",
    "        destination_type = request.POST.get(Field.destination_type)\n",
    "        media = request.POST.get(Field.media)\n",
    "        print(campaign_id and destination and destination_type, datetime.datetime.now())\n",
    "#         if campaign_id and destination and destination_type and media: # new release version\n",
    "        if campaign_id and destination and destination_type: #temporary working version\n",
    "            if media == 'Facebook' or media is None:\n",
    "                FacebookAdsApi.init(my_app_id, my_app_secret, my_access_token)\n",
    "                queue = mysql_adactivity_save.check_campaignid_target( campaign_id, destination, destination_type )\n",
    "                if mysql_adactivity_save.check_default_price(campaign_id):\n",
    "                    facebook_datacollector.make_default( int(campaign_id), destination_type )\n",
    "                if queue:\n",
    "                    campaign = Campaigns( int(campaign_id), destination_type )\n",
    "                    campaign_dict = campaign.generate_campaign_info()\n",
    "                    try:lifetime_target = campaign_dict['target']\n",
    "                    except:lifetime_target=0\n",
    "                    try:\n",
    "                        target_left_dict = {\n",
    "                            'target_left': int(destination) - int(lifetime_target)\n",
    "                        }\n",
    "                    except:\n",
    "                        temp = mysql_adactivity_save.get_campaign_target_dict()\n",
    "                        destination = temp[ int(campaign_id) ]\n",
    "                        target_left_dict = {\n",
    "                            'target_left': int(destination) - int(charge)\n",
    "                        }\n",
    "                    charge_dict = { 'charge_type': destination_type }\n",
    "                    target_dict = { 'destination': int(destination) }\n",
    "                    campaign_dict = {\n",
    "                        **campaign_dict,\n",
    "                        **charge_dict,\n",
    "                        **target_dict,\n",
    "                        **target_left_dict,\n",
    "                    }\n",
    "                    print('[campaign_dict] ', campaign_dict)\n",
    "                    df_camp = pd.DataFrame( campaign_dict, index=[0] )\n",
    "                    df_camp[df_camp.columns] = df_camp[df_camp.columns].apply(pd.to_numeric, errors='ignore')\n",
    "                    mysql_adactivity_save.update_campaign_target(df_camp)\n",
    "                    try:\n",
    "#                         mydict = mysql_adactivity_save.get_result( campaign_id ) #new version\n",
    "                        mydict = mysql_adactivity_save.get_release_result( campaign_id ) #release version\n",
    "                    except:\n",
    "#                         mydict = mysql_adactivity_save.get_default( campaign_id ) #new version\n",
    "                        mydict = mysql_adactivity_save.get_release_default( campaign_id )#release version\n",
    "                else:\n",
    "#                     mydict = mysql_adactivity_save.get_default( campaign_id ) #new version\n",
    "                    mydict = mysql_adactivity_save.get_release_default( campaign_id )#release version\n",
    "                return JsonResponse( json.loads(mydict), safe=False )\n",
    "        elif campaign_id:\n",
    "            try:\n",
    "#                         mydict = mysql_adactivity_save.get_result( campaign_id ) #new version\n",
    "                mydict = mysql_adactivity_save.get_release_result( campaign_id ) #release version\n",
    "            except:\n",
    "#                         mydict = mysql_adactivity_save.get_default( campaign_id ) #new version\n",
    "                mydict = mysql_adactivity_save.get_release_default( campaign_id )#release version\n",
    "            return JsonResponse( json.loads(mydict), safe=False )\n",
    "        if media == 'GDN':\n",
    "            if account_id and campaign_id and destination and destination_type:\n",
    "                if not gdn_db.check_campaignid_target(account_id, campaign_id, destination, destination_type):\n",
    "                    gdn_datacollector.data_collect(account_id, campaign_id, destination, destination_type)\n",
    "                    mydict=dict()\n",
    "                else:\n",
    "                    try:\n",
    "    #                         mydict = mysql_adactivity_save.get_result( campaign_id ) #new version\n",
    "                        mydict = mysql_adactivity_save.get_release_result( campaign_id ) #release version\n",
    "                    except:\n",
    "    #                         mydict = mysql_adactivity_save.get_default( campaign_id ) #new version\n",
    "                        mydict = mysql_adactivity_save.get_release_default( campaign_id )#release version\n",
    "                return JsonResponse( json.loads(mydict), safe=False )\n",
    "    else:\n",
    "        return JsonResponse( {}, safe=False )\n",
    "        "
   ]
  },
  {
   "cell_type": "code",
   "execution_count": 4,
   "metadata": {},
   "outputs": [
    {
     "name": "stdout",
     "output_type": "stream",
     "text": [
      "[NbConvertApp] Converting notebook /home/tim_su/ai_optimizer/opt/ai_optimizer/ai_optimizer/codes/notebook/views.ipynb to script\n",
      "[NbConvertApp] Writing 6322 bytes to /home/tim_su/ai_optimizer/opt/ai_optimizer/optApp/views.py\n"
     ]
    }
   ],
   "source": [
    "!jupyter nbconvert --output-dir='/home/tim_su/ai_optimizer/opt/ai_optimizer/optApp/' --to script /home/tim_su/ai_optimizer/opt/ai_optimizer/ai_optimizer/codes/notebook/views.ipynb"
   ]
  },
  {
   "cell_type": "code",
   "execution_count": null,
   "metadata": {},
   "outputs": [],
   "source": []
  }
 ],
 "metadata": {
  "kernelspec": {
   "display_name": "Python 3",
   "language": "python",
   "name": "python3"
  },
  "language_info": {
   "codemirror_mode": {
    "name": "ipython",
    "version": 3
   },
   "file_extension": ".py",
   "mimetype": "text/x-python",
   "name": "python",
   "nbconvert_exporter": "python",
   "pygments_lexer": "ipython3",
   "version": "3.6.7"
  },
  "varInspector": {
   "cols": {
    "lenName": 16,
    "lenType": 16,
    "lenVar": 40
   },
   "kernels_config": {
    "python": {
     "delete_cmd_postfix": "",
     "delete_cmd_prefix": "del ",
     "library": "var_list.py",
     "varRefreshCmd": "print(var_dic_list())"
    },
    "r": {
     "delete_cmd_postfix": ") ",
     "delete_cmd_prefix": "rm(",
     "library": "var_list.r",
     "varRefreshCmd": "cat(var_dic_list()) "
    }
   },
   "types_to_exclude": [
    "module",
    "function",
    "builtin_function_or_method",
    "instance",
    "_Feature"
   ],
   "window_display": false
  }
 },
 "nbformat": 4,
 "nbformat_minor": 2
}
