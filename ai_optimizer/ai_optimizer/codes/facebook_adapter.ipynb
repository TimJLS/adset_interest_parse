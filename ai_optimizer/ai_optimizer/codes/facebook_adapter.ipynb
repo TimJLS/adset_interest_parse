{
 "cells": [
  {
   "cell_type": "code",
   "execution_count": 1,
   "metadata": {},
   "outputs": [],
   "source": [
    "import datetime\n",
    "import pandas as pd\n",
    "import database_controller\n",
    "import bid_operator\n",
    "import json\n",
    "import math\n",
    "import facebook_datacollector as collector\n",
    "import facebook_ai_behavior_log as ai_logger\n",
    "import adgeek_permission as permission\n",
    "\n",
    "DATADASE = \"dev_facebook_test\"\n",
    "START_TIME = 'start_time'\n",
    "STOP_TIME = 'stop_time'\n",
    "AI_START_DATE = 'ai_start_date'\n",
    "AI_STOP_DATE = 'ai_stop_date'\n",
    "AD_ID = 'ad_id'\n",
    "ADSET_ID = 'adset_id'\n",
    "CAMPAIGN_ID = 'campaign_id'\n",
    "CHARGE = 'charge'\n",
    "TARGET = 'target'\n",
    "ACTION = 'action'\n",
    "BID_AMOUNT = 'bid_amount'\n",
    "REQUEST_TIME = 'request_time'\n",
    "TARGET_LEFT = 'target_left'\n",
    "\n",
    "INIT_BID = 'init_bid'\n",
    "LAST_BID = 'last_bid'\n",
    "ADSET_PROGRESS = 'adset_progress'\n",
    "CAMPAIGN_PROGRESS = 'campaign_progress'\n",
    "\n",
    "class FacebookCampaignAdapter(object):\n",
    "    def __init__(self, campaign_id, database_fb):\n",
    "        self.database_fb = database_fb\n",
    "        self.limit = 9000\n",
    "        self.hour_per_day = 20\n",
    "        self.campaign_id = campaign_id\n",
    "        self.request_time = datetime.datetime.now()\n",
    "        self.request_date = datetime.date.today()\n",
    "        self.time_progress = ( self.request_time.hour + 1 ) / self.hour_per_day\n",
    "        self.init_bid_dict = dict()\n",
    "        self.last_bid_dict = dict()\n",
    "        \n",
    "        self.df_camp = self.database_fb.get_one_campaign(self.campaign_id)\n",
    "#         self.df_camp = pd.read_sql( \"SELECT * FROM campaign_target WHERE campaign_id={}\".format( campaign_id ), con=self.mydb )\n",
    "        try:\n",
    "            self.campaign_days_left = ( self.df_camp[ AI_STOP_DATE ].iloc[0] - self.request_date ).days + 1\n",
    "        except Exception as e:\n",
    "            self.campaign_days_left = 1\n",
    "        \n",
    "        self.campaign_days = ( self.df_camp[ AI_STOP_DATE ].iloc[0] - self.df_camp[ AI_START_DATE ].iloc[0] ).days\n",
    "        self.campaign_performance = self.df_camp[ TARGET ].sum()\n",
    "        self.campaign_target = self.df_camp[ TARGET_LEFT ].iloc[0].astype(dtype=object)\n",
    "        self.campaign_day_target = self.campaign_target / self.campaign_days_left\n",
    "        self.campaign_progress = self.campaign_performance / self.campaign_day_target\n",
    "        self.campaign_progress = 1 if self.campaign_day_target <= 0 else self.campaign_progress\n",
    "#         self.mydb.close()\n",
    "        self.account_id = self.df_camp[ 'account_id' ].iloc[0].astype(dtype=object)\n",
    "        permission.init_facebook_api(self.account_id)\n",
    "            \n",
    "    def get_df(self):\n",
    "        return\n",
    "    \n",
    "    def get_bid(self):\n",
    "#         df_init_bid = pd.read_sql( \"SELECT * FROM adset_initial_bid WHERE campaign_id={} ;\".format( self.campaign_id ), con=self.mydb )\n",
    "\n",
    "        for adset in self.adset_list:           \n",
    "            try:\n",
    "                init_bid = self.database_fb.get_init_bid(adset)\n",
    "                last_bid = self.database_fb.get_last_bid(adset)\n",
    "#                 init_bid = df_init_bid[BID_AMOUNT][df_init_bid.adset_id==adset].head(1).iloc[0].astype(dtype=object)\n",
    "#                 df_adset = pd.read_sql(\"select bid_amount from adset_metrics WHERE adset_id = {} order by request_time desc limit 1\".format(adset), con=self.mydb)\n",
    "#                 last_bid = df_adset.bid_amount.iloc[0].astype(dtype=object)\n",
    "                self.init_bid_dict.update({ adset: init_bid })\n",
    "                self.last_bid_dict.update({ adset: last_bid })\n",
    "            except Exception as e:\n",
    "                print('[facebook_adapter.get_bid]: lack init_bid or last_bid. ', e)\n",
    "                pass\n",
    "        return\n",
    "    \n",
    "    def get_campaign_days_left(self):\n",
    "        return campaign_days_left\n",
    "        \n",
    "    def get_campaign_days(self):\n",
    "        return self.campaign_days\n",
    "    \n",
    "    def get_campaign_performance(self):\n",
    "        return self.campaign_performance\n",
    "    \n",
    "    def get_campaign_target(self):\n",
    "        return self.campaign_target\n",
    "    \n",
    "    def get_campaign_day_target(self):\n",
    "        return self.campaign_day_target\n",
    "\n",
    "    def get_campaign_progress(self):\n",
    "        return self.campaign_progress\n",
    "    \n",
    "    def get_adset_list(self):\n",
    "        return self.adset_list\n",
    "    \n",
    "    def retrieve_campaign_attribute(self):\n",
    "#         self.mydb = mysql_adactivity_save.connectDB( DATADASE )\n",
    "        self.df_ad = self.database_fb.retrieve('table_insights', self.campaign_id)\n",
    "        self.adset_list = [adset['adset_id'] for adset in self.df_ad.to_dict('records')]\n",
    "#         self.df_ad = pd.read_sql( \"SELECT * FROM adset_metrics where campaign_id={}\".format( self.campaign_id ), con=self.mydb )\n",
    "#         self.adset_list = self.df_ad[ADSET_ID][( self.df_ad.request_time.dt.date == self.request_time.date())].unique().tolist()\n",
    "        self.get_bid()\n",
    "        \n",
    "#         self.mydb.close()\n",
    "        return\n",
    "\n",
    "class FacebookAdSetAdapter(FacebookCampaignAdapter):\n",
    "    def __init__(self, adset_id, fb):\n",
    "#         self.mydb = mysql_adactivity_save.connectDB( DATADASE )\n",
    "        self.adset_id = int(adset_id)\n",
    "        self.fb = fb\n",
    "\n",
    "    def init_campaign(self, fb):\n",
    "        self.time_progress = fb.time_progress\n",
    "        self.limit = fb.limit\n",
    "        self.hour_per_day = fb.hour_per_day\n",
    "        self.request_time = fb.request_time\n",
    "        self.df_ad = fb.df_ad\n",
    "        self.init_bid_dict = fb.init_bid_dict\n",
    "        self.last_bid_dict = fb.last_bid_dict\n",
    "        self.campaign_days_left = fb.campaign_days_left\n",
    "        self.campaign_days = fb.campaign_days\n",
    "        self.campaign_performance = fb.campaign_performance\n",
    "        self.campaign_target = fb.campaign_target\n",
    "        self.campaign_day_target = fb.campaign_day_target\n",
    "        self.campaign_progress = fb.campaign_progress\n",
    "        return\n",
    "    \n",
    "    def get_campaign_id(self):\n",
    "        self.campaign_id = self.fb.campaign_id\n",
    "        return self.campaign_id\n",
    "    \n",
    "    def get_adset_day_target(self):\n",
    "        adset_num = len( self.fb.adset_list )\n",
    "        self.adset_day_target = self.campaign_day_target / adset_num\n",
    "        return self.adset_day_target\n",
    "    \n",
    "    def get_adset_performance(self):\n",
    "        try:\n",
    "            self.adset_performance = self.df_ad[self.df_ad.adset_id==self.adset_id][[ ACTION ]].tail(1).iloc[0,0]\n",
    "        except Exception as e:\n",
    "            print('[facebook_adapter.FacebookAdSetAdapter.get_adset_performance()]', e)\n",
    "            self.adset_performance = 0\n",
    "        if math.isnan(self.adset_performance):\n",
    "            self.adset_performance = 0\n",
    "        return self.adset_performance\n",
    "    \n",
    "    def get_bid(self):\n",
    "        self.init_bid = self.init_bid_dict.get(self.adset_id)\n",
    "        self.last_bid = self.last_bid_dict.get(self.adset_id)\n",
    "        return\n",
    "    \n",
    "    def get_adset_time_target(self):\n",
    "        self.adset_time_target = self.adset_day_target * self.time_progress\n",
    "        return self.adset_time_target\n",
    "    \n",
    "    def get_adset_progress(self):\n",
    "        self.adset_progress = self.adset_performance / self.adset_time_target\n",
    "        self.adset_progress = 1 if self.adset_time_target <= 0 else self.adset_progress\n",
    "        return self.adset_progress\n",
    "    \n",
    "    def retrieve_adset_attribute(self):\n",
    "        self.init_campaign(self.fb)\n",
    "        self.get_campaign_id()\n",
    "        self.get_adset_day_target()\n",
    "        self.get_adset_performance()\n",
    "        self.get_bid()\n",
    "        self.get_adset_time_target()\n",
    "        self.get_adset_progress()\n",
    "#         self.mydb.close()\n",
    "        return {\n",
    "            ADSET_ID:self.adset_id,\n",
    "            INIT_BID:self.init_bid,\n",
    "            LAST_BID:self.last_bid,\n",
    "            ADSET_PROGRESS:self.adset_progress,\n",
    "            CAMPAIGN_PROGRESS:self.campaign_progress\n",
    "        }\n",
    "\n",
    "def main(campaign_id=None):\n",
    "    start_time = datetime.datetime.now()\n",
    "    db = database_controller.Database()\n",
    "    database_fb = database_controller.FB(db)\n",
    "    if campaign_id:\n",
    "        print('==========[campaign_id]: {} =========='.format(campaign_id))\n",
    "        result={ 'media': 'Facebook', 'campaign_id': campaign_id, 'contents':[] }\n",
    "        collector_campaign = collector.Campaigns(campaign_id, database_fb=database_fb)\n",
    "        fb = FacebookCampaignAdapter( campaign_id )\n",
    "        fb.get_df()\n",
    "        fb.retrieve_campaign_attribute()\n",
    "        adset_list = collector_campaign.get_adsets_active()\n",
    "        destination_type = collector_campaign.charge_type\n",
    "        for adset_id in adset_list:\n",
    "            s = FacebookAdSetAdapter( adset_id, fb )\n",
    "            status = s.retrieve_adset_attribute()\n",
    "            media = result['media']\n",
    "            is_adjust_condition_sufficient=True\n",
    "            for key, val in status.items():\n",
    "                if val is None:\n",
    "                    print('[facebook_adapter.main]: insufficient conditions to adjust bid, adset_id ', adset_id)\n",
    "                    is_adjust_condition_sufficient = False\n",
    "            if is_adjust_condition_sufficient:\n",
    "                bid = bid_operator.adjust(media, **status)\n",
    "                result['contents'].append(bid)\n",
    "                print('[facebook_adapter.main]: adset_id: {}, bid is {}'.format(adset_id, bid['bid']))\n",
    "                adset = collector.AdSets(adset_id, database_fb=database_fb)\n",
    "                adset.get_adset_features()\n",
    "                bid['pred_cpc'] = bid.pop('bid')\n",
    "                bid['pred_cpc'] = int( bid['pred_cpc'] )\n",
    "                bid[\"status\"] = adset.status\n",
    "                try:\n",
    "                    next_bidding = bid['pred_cpc']\n",
    "                    ai_logger.save_adset_behavior(adset_id, ai_logger.BehaviorType.ADJUST, next_bidding)\n",
    "                    adset.update(next_bidding)\n",
    "                except Exception as e:\n",
    "                    print('[main]: update bid unavailable..', e)\n",
    "                    pass\n",
    "            del s\n",
    "        del fb\n",
    "    else:\n",
    "        campaign_running_list = database_fb.get_running_campaign().to_dict('records')\n",
    "        print('[campaign id list]: {}'.format([campaign['campaign_id'] for campaign in campaign_running_list]))\n",
    "        for campaign in campaign_running_list:\n",
    "            campaign_id = campaign.get(\"campaign_id\")\n",
    "            print('==========[campaign_id]: {} =========='.format(campaign_id))\n",
    "            collector_campaign = collector.Campaigns(campaign_id, database_fb=database_fb)\n",
    "            result={ 'media': 'Facebook', 'campaign_id': campaign_id, 'contents':[] }\n",
    "            fb = FacebookCampaignAdapter( campaign_id, database_fb )\n",
    "            fb.get_df()\n",
    "            fb.retrieve_campaign_attribute()\n",
    "            adset_list = collector_campaign.get_adsets_active()\n",
    "            charge_type = campaign.get(\"destination_type\")\n",
    "            for adset_id in adset_list:\n",
    "                s = FacebookAdSetAdapter( adset_id, fb )\n",
    "                status = s.retrieve_adset_attribute()\n",
    "                media = result['media']\n",
    "                is_adjust_condition_sufficient=True\n",
    "                for key, val in status.items():\n",
    "                    if val is None:\n",
    "                        print('[facebook_adapter.main]: insufficient conditions to adjust bid, adset_id ', adset_id)\n",
    "                        is_adjust_condition_sufficient = False\n",
    "                if is_adjust_condition_sufficient:\n",
    "                    bid = bid_operator.adjust(media, **status)\n",
    "                    result['contents'].append(bid)\n",
    "                    print('[facebook_adapter.main]: adset_id: {}, bid is {}'.format(adset_id, bid['bid']))\n",
    "                    adset = collector.AdSets(adset_id, database_fb=database_fb)\n",
    "                    adset.get_adset_features()\n",
    "                    bid['pred_cpc'] = bid.pop('bid')\n",
    "                    bid['pred_cpc'] = int( bid['pred_cpc'] )\n",
    "                    bid[\"status\"] = adset.status\n",
    "                    try:\n",
    "                        next_bidding = bid['pred_cpc']\n",
    "                        ai_logger.save_adset_behavior(adset_id, ai_logger.BehaviorType.ADJUST, next_bidding)\n",
    "                        adset.update(next_bidding)\n",
    "                    except Exception as e:\n",
    "                        print('[main]: update bid unavailable..', e)\n",
    "                        pass\n",
    "                del s\n",
    "            del fb\n",
    "    \n",
    "    print(datetime.datetime.now()-start_time)\n",
    "    return\n"
   ]
  },
  {
   "cell_type": "code",
   "execution_count": 2,
   "metadata": {
    "collapsed": true,
    "jupyter": {
     "outputs_hidden": true
    }
   },
   "outputs": [
    {
     "name": "stdout",
     "output_type": "stream",
     "text": [
      "[campaign id list]: [23842880697850266, 23843098840440451, 23843318062740647, 23843384204790368, 23843412155100631, 23843447337770036, 23843467729120098, 23843468131980091, 23843473390820344, 23843484377040702, 23843488842640474, 23843503273320350, 23843508739720127, 23843536795940014, 23843568997400374, 23843607936320431, 23843628364880022, 23843636617110232, 23843646477870386, 23843672578810681, 23843685426300680]\n",
      "==========[campaign_id]: 23842880697850266 ==========\n",
      "[get_media_token_by_queryid] token_dic {'credential_id': '958842090856883', 'credential_secret': 'a952f55afca38572cea2994d440d674b', 'credential_token': 'EAANoD9I4obMBAH8xjIhGjHc9DmLDeBDTauvkO3tk5x05v1E3G72Qp33aP4gLkE3IZBUDyCMkqCLLPS6DKk8mUJLcsncIrjveFLZCKUseqU7Qy2iIeEq0Dx8DgZAuRwhUNFkKHtmU8McAAWbWMNi2hiWZAbZAXDAyTCd1xXHUJmQZDZD', 'credential_developer_token': None, 'credential_refresh_token': None, 'name': 'AntMan Facebook Credential'}\n"
     ]
    },
    {
     "name": "stderr",
     "output_type": "stream",
     "text": [
      "WARNING:root:`remote_read` is being deprecated, please update your code with new function.\n"
     ]
    },
    {
     "name": "stdout",
     "output_type": "stream",
     "text": [
      "[get_adsets_active] adset_active_list: ['23843715308220266', '23843715194210266', '23843714716910266', '23843714690740266', '23843713666870266', '23843708355320266', '23843707875590266']\n",
      "[facebook_adapter.main]: adset_id: 23843715308220266, bid is 219.79\n"
     ]
    },
    {
     "name": "stderr",
     "output_type": "stream",
     "text": [
      "WARNING:root:`remote_read` is being deprecated, please update your code with new function.\n",
      "WARNING:root:`remote_read` is being deprecated, please update your code with new function.\n",
      "WARNING:root:`remote_update` is being deprecated, please update your code with new function.\n",
      "WARNING:root:`remote_read` is being deprecated, please update your code with new function.\n",
      "WARNING:root:`remote_read` is being deprecated, please update your code with new function.\n"
     ]
    },
    {
     "name": "stdout",
     "output_type": "stream",
     "text": [
      "[facebook_adapter.main]: adset_id: 23843715194210266, bid is 219.79\n"
     ]
    },
    {
     "name": "stderr",
     "output_type": "stream",
     "text": [
      "WARNING:root:`remote_read` is being deprecated, please update your code with new function.\n",
      "WARNING:root:`remote_update` is being deprecated, please update your code with new function.\n",
      "WARNING:root:`remote_read` is being deprecated, please update your code with new function.\n"
     ]
    },
    {
     "name": "stdout",
     "output_type": "stream",
     "text": [
      "[facebook_adapter.main]: adset_id: 23843714716910266, bid is 219.79\n"
     ]
    },
    {
     "name": "stderr",
     "output_type": "stream",
     "text": [
      "WARNING:root:`remote_read` is being deprecated, please update your code with new function.\n",
      "WARNING:root:`remote_read` is being deprecated, please update your code with new function.\n",
      "WARNING:root:`remote_update` is being deprecated, please update your code with new function.\n",
      "WARNING:root:`remote_read` is being deprecated, please update your code with new function.\n"
     ]
    },
    {
     "name": "stdout",
     "output_type": "stream",
     "text": [
      "[facebook_adapter.main]: adset_id: 23843714690740266, bid is 219.79\n"
     ]
    },
    {
     "name": "stderr",
     "output_type": "stream",
     "text": [
      "WARNING:root:`remote_read` is being deprecated, please update your code with new function.\n",
      "WARNING:root:`remote_read` is being deprecated, please update your code with new function.\n",
      "WARNING:root:`remote_update` is being deprecated, please update your code with new function.\n",
      "WARNING:root:`remote_read` is being deprecated, please update your code with new function.\n",
      "WARNING:root:`remote_read` is being deprecated, please update your code with new function.\n"
     ]
    },
    {
     "name": "stdout",
     "output_type": "stream",
     "text": [
      "[facebook_adapter.main]: adset_id: 23843713666870266, bid is 219.79\n"
     ]
    },
    {
     "name": "stderr",
     "output_type": "stream",
     "text": [
      "WARNING:root:`remote_read` is being deprecated, please update your code with new function.\n",
      "WARNING:root:`remote_update` is being deprecated, please update your code with new function.\n",
      "WARNING:root:`remote_read` is being deprecated, please update your code with new function.\n"
     ]
    },
    {
     "name": "stdout",
     "output_type": "stream",
     "text": [
      "[facebook_adapter.main]: adset_id: 23843708355320266, bid is 219.79\n"
     ]
    },
    {
     "name": "stderr",
     "output_type": "stream",
     "text": [
      "WARNING:root:`remote_read` is being deprecated, please update your code with new function.\n",
      "WARNING:root:`remote_read` is being deprecated, please update your code with new function.\n",
      "WARNING:root:`remote_update` is being deprecated, please update your code with new function.\n",
      "WARNING:root:`remote_read` is being deprecated, please update your code with new function.\n"
     ]
    },
    {
     "name": "stdout",
     "output_type": "stream",
     "text": [
      "[facebook_adapter.main]: adset_id: 23843707875590266, bid is 219.79\n"
     ]
    },
    {
     "name": "stderr",
     "output_type": "stream",
     "text": [
      "WARNING:root:`remote_read` is being deprecated, please update your code with new function.\n",
      "WARNING:root:`remote_read` is being deprecated, please update your code with new function.\n",
      "WARNING:root:`remote_update` is being deprecated, please update your code with new function.\n"
     ]
    },
    {
     "name": "stdout",
     "output_type": "stream",
     "text": [
      "==========[campaign_id]: 23843098840440451 ==========\n",
      "[get_media_token_by_queryid] token_dic {'credential_id': '958842090856883', 'credential_secret': 'a952f55afca38572cea2994d440d674b', 'credential_token': 'EAANoD9I4obMBAH8xjIhGjHc9DmLDeBDTauvkO3tk5x05v1E3G72Qp33aP4gLkE3IZBUDyCMkqCLLPS6DKk8mUJLcsncIrjveFLZCKUseqU7Qy2iIeEq0Dx8DgZAuRwhUNFkKHtmU8McAAWbWMNi2hiWZAbZAXDAyTCd1xXHUJmQZDZD', 'credential_developer_token': None, 'credential_refresh_token': None, 'name': 'AntMan Facebook Credential'}\n"
     ]
    },
    {
     "name": "stderr",
     "output_type": "stream",
     "text": [
      "WARNING:root:`remote_read` is being deprecated, please update your code with new function.\n"
     ]
    },
    {
     "name": "stdout",
     "output_type": "stream",
     "text": [
      "[get_adsets_active] adset_active_list: ['23843621652590451', '23843621647530451', '23843345040900451']\n",
      "[facebook_adapter.main]: adset_id: 23843621652590451, bid is 1000\n"
     ]
    },
    {
     "name": "stderr",
     "output_type": "stream",
     "text": [
      "WARNING:root:`remote_read` is being deprecated, please update your code with new function.\n",
      "WARNING:root:`remote_read` is being deprecated, please update your code with new function.\n",
      "WARNING:root:`remote_update` is being deprecated, please update your code with new function.\n",
      "WARNING:root:`remote_read` is being deprecated, please update your code with new function.\n",
      "WARNING:root:`remote_read` is being deprecated, please update your code with new function.\n"
     ]
    },
    {
     "name": "stdout",
     "output_type": "stream",
     "text": [
      "[facebook_adapter.main]: adset_id: 23843621647530451, bid is 1399.96\n"
     ]
    },
    {
     "name": "stderr",
     "output_type": "stream",
     "text": [
      "WARNING:root:`remote_read` is being deprecated, please update your code with new function.\n",
      "WARNING:root:`remote_update` is being deprecated, please update your code with new function.\n",
      "WARNING:root:`remote_read` is being deprecated, please update your code with new function.\n"
     ]
    },
    {
     "name": "stdout",
     "output_type": "stream",
     "text": [
      "[facebook_adapter.main]: adset_id: 23843345040900451, bid is 1399.96\n"
     ]
    },
    {
     "name": "stderr",
     "output_type": "stream",
     "text": [
      "WARNING:root:`remote_read` is being deprecated, please update your code with new function.\n",
      "WARNING:root:`remote_read` is being deprecated, please update your code with new function.\n",
      "WARNING:root:`remote_update` is being deprecated, please update your code with new function.\n"
     ]
    },
    {
     "name": "stdout",
     "output_type": "stream",
     "text": [
      "==========[campaign_id]: 23843318062740647 ==========\n",
      "[get_media_token_by_queryid] token_dic {'credential_id': '958842090856883', 'credential_secret': 'a952f55afca38572cea2994d440d674b', 'credential_token': 'EAANoD9I4obMBAH8xjIhGjHc9DmLDeBDTauvkO3tk5x05v1E3G72Qp33aP4gLkE3IZBUDyCMkqCLLPS6DKk8mUJLcsncIrjveFLZCKUseqU7Qy2iIeEq0Dx8DgZAuRwhUNFkKHtmU8McAAWbWMNi2hiWZAbZAXDAyTCd1xXHUJmQZDZD', 'credential_developer_token': None, 'credential_refresh_token': None, 'name': 'AntMan Facebook Credential'}\n"
     ]
    },
    {
     "name": "stderr",
     "output_type": "stream",
     "text": [
      "WARNING:root:`remote_read` is being deprecated, please update your code with new function.\n"
     ]
    },
    {
     "name": "stdout",
     "output_type": "stream",
     "text": [
      "[get_adsets_active] adset_active_list: ['23843590512510647', '23843577190080647', '23843577189390647', '23843575282750647', '23843569214210647']\n",
      "[facebook_adapter.main]: adset_id: 23843590512510647, bid is 1819.95\n"
     ]
    },
    {
     "name": "stderr",
     "output_type": "stream",
     "text": [
      "WARNING:root:`remote_read` is being deprecated, please update your code with new function.\n",
      "WARNING:root:`remote_read` is being deprecated, please update your code with new function.\n",
      "WARNING:root:`remote_update` is being deprecated, please update your code with new function.\n",
      "WARNING:root:`remote_read` is being deprecated, please update your code with new function.\n"
     ]
    },
    {
     "name": "stdout",
     "output_type": "stream",
     "text": [
      "[facebook_adapter.main]: adset_id: 23843577190080647, bid is 1819.95\n"
     ]
    },
    {
     "name": "stderr",
     "output_type": "stream",
     "text": [
      "WARNING:root:`remote_read` is being deprecated, please update your code with new function.\n",
      "WARNING:root:`remote_read` is being deprecated, please update your code with new function.\n",
      "WARNING:root:`remote_update` is being deprecated, please update your code with new function.\n",
      "WARNING:root:`remote_read` is being deprecated, please update your code with new function.\n"
     ]
    },
    {
     "name": "stdout",
     "output_type": "stream",
     "text": [
      "[facebook_adapter.main]: adset_id: 23843577189390647, bid is 1819.95\n"
     ]
    },
    {
     "name": "stderr",
     "output_type": "stream",
     "text": [
      "WARNING:root:`remote_read` is being deprecated, please update your code with new function.\n",
      "WARNING:root:`remote_read` is being deprecated, please update your code with new function.\n",
      "WARNING:root:`remote_update` is being deprecated, please update your code with new function.\n",
      "WARNING:root:`remote_read` is being deprecated, please update your code with new function.\n"
     ]
    },
    {
     "name": "stdout",
     "output_type": "stream",
     "text": [
      "[facebook_adapter.main]: adset_id: 23843575282750647, bid is 1819.95\n"
     ]
    },
    {
     "name": "stderr",
     "output_type": "stream",
     "text": [
      "WARNING:root:`remote_read` is being deprecated, please update your code with new function.\n",
      "WARNING:root:`remote_read` is being deprecated, please update your code with new function.\n",
      "WARNING:root:`remote_update` is being deprecated, please update your code with new function.\n",
      "WARNING:root:`remote_read` is being deprecated, please update your code with new function.\n",
      "WARNING:root:`remote_read` is being deprecated, please update your code with new function.\n"
     ]
    },
    {
     "name": "stdout",
     "output_type": "stream",
     "text": [
      "[facebook_adapter.main]: adset_id: 23843569214210647, bid is 1819.95\n"
     ]
    },
    {
     "name": "stderr",
     "output_type": "stream",
     "text": [
      "WARNING:root:`remote_read` is being deprecated, please update your code with new function.\n",
      "WARNING:root:`remote_update` is being deprecated, please update your code with new function.\n"
     ]
    },
    {
     "name": "stdout",
     "output_type": "stream",
     "text": [
      "==========[campaign_id]: 23843384204790368 ==========\n",
      "[get_media_token_by_queryid] token_dic {'credential_id': '958842090856883', 'credential_secret': 'a952f55afca38572cea2994d440d674b', 'credential_token': 'EAANoD9I4obMBAH8xjIhGjHc9DmLDeBDTauvkO3tk5x05v1E3G72Qp33aP4gLkE3IZBUDyCMkqCLLPS6DKk8mUJLcsncIrjveFLZCKUseqU7Qy2iIeEq0Dx8DgZAuRwhUNFkKHtmU8McAAWbWMNi2hiWZAbZAXDAyTCd1xXHUJmQZDZD', 'credential_developer_token': None, 'credential_refresh_token': None, 'name': 'AntMan Facebook Credential'}\n"
     ]
    },
    {
     "name": "stderr",
     "output_type": "stream",
     "text": [
      "WARNING:root:`remote_read` is being deprecated, please update your code with new function.\n"
     ]
    },
    {
     "name": "stdout",
     "output_type": "stream",
     "text": [
      "[get_adsets_active] adset_active_list: ['23843694481330368', '23843661314820368', '23843482074960368', '23843451198530368', '23843384205000368']\n",
      "[facebook_adapter.main]: adset_id: 23843694481330368, bid is 800.0\n"
     ]
    },
    {
     "name": "stderr",
     "output_type": "stream",
     "text": [
      "WARNING:root:`remote_read` is being deprecated, please update your code with new function.\n",
      "WARNING:root:`remote_read` is being deprecated, please update your code with new function.\n",
      "WARNING:root:`remote_update` is being deprecated, please update your code with new function.\n",
      "WARNING:root:`remote_read` is being deprecated, please update your code with new function.\n",
      "WARNING:root:`remote_read` is being deprecated, please update your code with new function.\n"
     ]
    },
    {
     "name": "stdout",
     "output_type": "stream",
     "text": [
      "[facebook_adapter.main]: adset_id: 23843661314820368, bid is 800.0\n"
     ]
    },
    {
     "name": "stderr",
     "output_type": "stream",
     "text": [
      "WARNING:root:`remote_read` is being deprecated, please update your code with new function.\n",
      "WARNING:root:`remote_update` is being deprecated, please update your code with new function.\n",
      "WARNING:root:`remote_read` is being deprecated, please update your code with new function.\n",
      "WARNING:root:`remote_read` is being deprecated, please update your code with new function.\n"
     ]
    },
    {
     "name": "stdout",
     "output_type": "stream",
     "text": [
      "[facebook_adapter.main]: adset_id: 23843482074960368, bid is 800.0\n"
     ]
    },
    {
     "name": "stderr",
     "output_type": "stream",
     "text": [
      "WARNING:root:`remote_read` is being deprecated, please update your code with new function.\n",
      "WARNING:root:`remote_update` is being deprecated, please update your code with new function.\n",
      "WARNING:root:`remote_read` is being deprecated, please update your code with new function.\n",
      "WARNING:root:`remote_read` is being deprecated, please update your code with new function.\n"
     ]
    },
    {
     "name": "stdout",
     "output_type": "stream",
     "text": [
      "[facebook_adapter.main]: adset_id: 23843451198530368, bid is 800.0\n"
     ]
    },
    {
     "name": "stderr",
     "output_type": "stream",
     "text": [
      "WARNING:root:`remote_read` is being deprecated, please update your code with new function.\n",
      "WARNING:root:`remote_update` is being deprecated, please update your code with new function.\n",
      "WARNING:root:`remote_read` is being deprecated, please update your code with new function.\n"
     ]
    },
    {
     "name": "stdout",
     "output_type": "stream",
     "text": [
      "[facebook_adapter.main]: adset_id: 23843384205000368, bid is 800.0\n"
     ]
    },
    {
     "name": "stderr",
     "output_type": "stream",
     "text": [
      "WARNING:root:`remote_read` is being deprecated, please update your code with new function.\n",
      "WARNING:root:`remote_read` is being deprecated, please update your code with new function.\n",
      "WARNING:root:`remote_update` is being deprecated, please update your code with new function.\n"
     ]
    },
    {
     "name": "stdout",
     "output_type": "stream",
     "text": [
      "==========[campaign_id]: 23843412155100631 ==========\n",
      "[get_media_token_by_queryid] token_dic {'credential_id': '958842090856883', 'credential_secret': 'a952f55afca38572cea2994d440d674b', 'credential_token': 'EAANoD9I4obMBAH8xjIhGjHc9DmLDeBDTauvkO3tk5x05v1E3G72Qp33aP4gLkE3IZBUDyCMkqCLLPS6DKk8mUJLcsncIrjveFLZCKUseqU7Qy2iIeEq0Dx8DgZAuRwhUNFkKHtmU8McAAWbWMNi2hiWZAbZAXDAyTCd1xXHUJmQZDZD', 'credential_developer_token': None, 'credential_refresh_token': None, 'name': 'AntMan Facebook Credential'}\n"
     ]
    },
    {
     "name": "stderr",
     "output_type": "stream",
     "text": [
      "WARNING:root:`remote_read` is being deprecated, please update your code with new function.\n"
     ]
    },
    {
     "name": "stdout",
     "output_type": "stream",
     "text": [
      "[get_adsets_active] adset_active_list: ['23843636299800631', '23843633534660631', '23843624756900631', '23843624756880631']\n",
      "[facebook_adapter.main]: adset_id: 23843636299800631, bid is 4199.89\n"
     ]
    },
    {
     "name": "stderr",
     "output_type": "stream",
     "text": [
      "WARNING:root:`remote_read` is being deprecated, please update your code with new function.\n",
      "WARNING:root:`remote_read` is being deprecated, please update your code with new function.\n",
      "WARNING:root:`remote_update` is being deprecated, please update your code with new function.\n",
      "WARNING:root:`remote_read` is being deprecated, please update your code with new function.\n"
     ]
    },
    {
     "name": "stdout",
     "output_type": "stream",
     "text": [
      "[facebook_adapter.main]: adset_id: 23843633534660631, bid is 4199.89\n"
     ]
    },
    {
     "name": "stderr",
     "output_type": "stream",
     "text": [
      "WARNING:root:`remote_read` is being deprecated, please update your code with new function.\n",
      "WARNING:root:`remote_read` is being deprecated, please update your code with new function.\n",
      "WARNING:root:`remote_update` is being deprecated, please update your code with new function.\n",
      "WARNING:root:`remote_read` is being deprecated, please update your code with new function.\n",
      "WARNING:root:`remote_read` is being deprecated, please update your code with new function.\n"
     ]
    },
    {
     "name": "stdout",
     "output_type": "stream",
     "text": [
      "[facebook_adapter.main]: adset_id: 23843624756900631, bid is 3000\n"
     ]
    },
    {
     "name": "stderr",
     "output_type": "stream",
     "text": [
      "WARNING:root:`remote_read` is being deprecated, please update your code with new function.\n",
      "WARNING:root:`remote_update` is being deprecated, please update your code with new function.\n",
      "WARNING:root:`remote_read` is being deprecated, please update your code with new function.\n"
     ]
    },
    {
     "name": "stdout",
     "output_type": "stream",
     "text": [
      "[facebook_adapter.main]: adset_id: 23843624756880631, bid is 4199.89\n"
     ]
    },
    {
     "name": "stderr",
     "output_type": "stream",
     "text": [
      "WARNING:root:`remote_read` is being deprecated, please update your code with new function.\n",
      "WARNING:root:`remote_read` is being deprecated, please update your code with new function.\n",
      "WARNING:root:`remote_update` is being deprecated, please update your code with new function.\n"
     ]
    },
    {
     "name": "stdout",
     "output_type": "stream",
     "text": [
      "==========[campaign_id]: 23843447337770036 ==========\n",
      "[get_media_token_by_queryid] token_dic {'credential_id': '958842090856883', 'credential_secret': 'a952f55afca38572cea2994d440d674b', 'credential_token': 'EAANoD9I4obMBAH8xjIhGjHc9DmLDeBDTauvkO3tk5x05v1E3G72Qp33aP4gLkE3IZBUDyCMkqCLLPS6DKk8mUJLcsncIrjveFLZCKUseqU7Qy2iIeEq0Dx8DgZAuRwhUNFkKHtmU8McAAWbWMNi2hiWZAbZAXDAyTCd1xXHUJmQZDZD', 'credential_developer_token': None, 'credential_refresh_token': None, 'name': 'AntMan Facebook Credential'}\n"
     ]
    },
    {
     "name": "stderr",
     "output_type": "stream",
     "text": [
      "WARNING:root:`remote_read` is being deprecated, please update your code with new function.\n"
     ]
    },
    {
     "name": "stdout",
     "output_type": "stream",
     "text": [
      "[get_adsets_active] adset_active_list: ['23843578121660036', '23843531828830036', '23843516369410036', '23843447338000036', '23843447337980036', '23843447337970036', '23843447337960036']\n",
      "[facebook_adapter.main]: adset_id: 23843578121660036, bid is 3.0\n"
     ]
    },
    {
     "name": "stderr",
     "output_type": "stream",
     "text": [
      "WARNING:root:`remote_read` is being deprecated, please update your code with new function.\n",
      "WARNING:root:`remote_read` is being deprecated, please update your code with new function.\n",
      "WARNING:root:`remote_update` is being deprecated, please update your code with new function.\n",
      "WARNING:root:`remote_read` is being deprecated, please update your code with new function.\n"
     ]
    },
    {
     "name": "stdout",
     "output_type": "stream",
     "text": [
      "[facebook_adapter.main]: adset_id: 23843531828830036, bid is 3.0\n"
     ]
    },
    {
     "name": "stderr",
     "output_type": "stream",
     "text": [
      "WARNING:root:`remote_read` is being deprecated, please update your code with new function.\n",
      "WARNING:root:`remote_read` is being deprecated, please update your code with new function.\n",
      "WARNING:root:`remote_update` is being deprecated, please update your code with new function.\n",
      "WARNING:root:`remote_read` is being deprecated, please update your code with new function.\n"
     ]
    },
    {
     "name": "stdout",
     "output_type": "stream",
     "text": [
      "[facebook_adapter.main]: adset_id: 23843516369410036, bid is 3.0\n"
     ]
    },
    {
     "name": "stderr",
     "output_type": "stream",
     "text": [
      "WARNING:root:`remote_read` is being deprecated, please update your code with new function.\n",
      "WARNING:root:`remote_read` is being deprecated, please update your code with new function.\n",
      "WARNING:root:`remote_update` is being deprecated, please update your code with new function.\n",
      "WARNING:root:`remote_read` is being deprecated, please update your code with new function.\n",
      "WARNING:root:`remote_read` is being deprecated, please update your code with new function.\n"
     ]
    },
    {
     "name": "stdout",
     "output_type": "stream",
     "text": [
      "[facebook_adapter.main]: adset_id: 23843447338000036, bid is 3.0\n"
     ]
    },
    {
     "name": "stderr",
     "output_type": "stream",
     "text": [
      "WARNING:root:`remote_read` is being deprecated, please update your code with new function.\n",
      "WARNING:root:`remote_update` is being deprecated, please update your code with new function.\n",
      "WARNING:root:`remote_read` is being deprecated, please update your code with new function.\n",
      "WARNING:root:`remote_read` is being deprecated, please update your code with new function.\n"
     ]
    },
    {
     "name": "stdout",
     "output_type": "stream",
     "text": [
      "[facebook_adapter.main]: adset_id: 23843447337980036, bid is 3.0\n"
     ]
    },
    {
     "name": "stderr",
     "output_type": "stream",
     "text": [
      "WARNING:root:`remote_read` is being deprecated, please update your code with new function.\n",
      "WARNING:root:`remote_update` is being deprecated, please update your code with new function.\n",
      "WARNING:root:`remote_read` is being deprecated, please update your code with new function.\n"
     ]
    },
    {
     "name": "stdout",
     "output_type": "stream",
     "text": [
      "[facebook_adapter.main]: adset_id: 23843447337970036, bid is 3.0\n"
     ]
    },
    {
     "name": "stderr",
     "output_type": "stream",
     "text": [
      "WARNING:root:`remote_read` is being deprecated, please update your code with new function.\n",
      "WARNING:root:`remote_read` is being deprecated, please update your code with new function.\n",
      "WARNING:root:`remote_update` is being deprecated, please update your code with new function.\n",
      "WARNING:root:`remote_read` is being deprecated, please update your code with new function.\n"
     ]
    },
    {
     "name": "stdout",
     "output_type": "stream",
     "text": [
      "[facebook_adapter.main]: adset_id: 23843447337960036, bid is 3.0\n"
     ]
    },
    {
     "name": "stderr",
     "output_type": "stream",
     "text": [
      "WARNING:root:`remote_read` is being deprecated, please update your code with new function.\n",
      "WARNING:root:`remote_read` is being deprecated, please update your code with new function.\n",
      "WARNING:root:`remote_update` is being deprecated, please update your code with new function.\n"
     ]
    },
    {
     "name": "stdout",
     "output_type": "stream",
     "text": [
      "==========[campaign_id]: 23843467729120098 ==========\n",
      "[get_media_token_by_queryid] token_dic {'credential_id': '958842090856883', 'credential_secret': 'a952f55afca38572cea2994d440d674b', 'credential_token': 'EAANoD9I4obMBAH8xjIhGjHc9DmLDeBDTauvkO3tk5x05v1E3G72Qp33aP4gLkE3IZBUDyCMkqCLLPS6DKk8mUJLcsncIrjveFLZCKUseqU7Qy2iIeEq0Dx8DgZAuRwhUNFkKHtmU8McAAWbWMNi2hiWZAbZAXDAyTCd1xXHUJmQZDZD', 'credential_developer_token': None, 'credential_refresh_token': None, 'name': 'AntMan Facebook Credential'}\n"
     ]
    },
    {
     "name": "stderr",
     "output_type": "stream",
     "text": [
      "WARNING:root:`remote_read` is being deprecated, please update your code with new function.\n"
     ]
    },
    {
     "name": "stdout",
     "output_type": "stream",
     "text": [
      "[get_adsets_active] adset_active_list: ['23843723343740098', '23843720932130098', '23843716721670098', '23843714517420098']\n",
      "[facebook_adapter.main]: adset_id: 23843723343740098, bid is 489.99\n"
     ]
    },
    {
     "name": "stderr",
     "output_type": "stream",
     "text": [
      "WARNING:root:`remote_read` is being deprecated, please update your code with new function.\n",
      "WARNING:root:`remote_read` is being deprecated, please update your code with new function.\n",
      "WARNING:root:`remote_update` is being deprecated, please update your code with new function.\n",
      "WARNING:root:`remote_read` is being deprecated, please update your code with new function.\n"
     ]
    },
    {
     "name": "stdout",
     "output_type": "stream",
     "text": [
      "[facebook_adapter.main]: adset_id: 23843720932130098, bid is 350\n"
     ]
    },
    {
     "name": "stderr",
     "output_type": "stream",
     "text": [
      "WARNING:root:`remote_read` is being deprecated, please update your code with new function.\n",
      "WARNING:root:`remote_read` is being deprecated, please update your code with new function.\n",
      "WARNING:root:`remote_update` is being deprecated, please update your code with new function.\n",
      "WARNING:root:`remote_read` is being deprecated, please update your code with new function.\n",
      "WARNING:root:`remote_read` is being deprecated, please update your code with new function.\n"
     ]
    },
    {
     "name": "stdout",
     "output_type": "stream",
     "text": [
      "[facebook_adapter.main]: adset_id: 23843716721670098, bid is 489.99\n"
     ]
    },
    {
     "name": "stderr",
     "output_type": "stream",
     "text": [
      "WARNING:root:`remote_read` is being deprecated, please update your code with new function.\n",
      "WARNING:root:`remote_update` is being deprecated, please update your code with new function.\n",
      "WARNING:root:`remote_read` is being deprecated, please update your code with new function.\n"
     ]
    },
    {
     "name": "stdout",
     "output_type": "stream",
     "text": [
      "[facebook_adapter.main]: adset_id: 23843714517420098, bid is 489.99\n"
     ]
    },
    {
     "name": "stderr",
     "output_type": "stream",
     "text": [
      "WARNING:root:`remote_read` is being deprecated, please update your code with new function.\n",
      "WARNING:root:`remote_read` is being deprecated, please update your code with new function.\n",
      "WARNING:root:`remote_update` is being deprecated, please update your code with new function.\n"
     ]
    },
    {
     "name": "stdout",
     "output_type": "stream",
     "text": [
      "==========[campaign_id]: 23843468131980091 ==========\n",
      "[get_media_token_by_queryid] token_dic {'credential_id': '958842090856883', 'credential_secret': 'a952f55afca38572cea2994d440d674b', 'credential_token': 'EAANoD9I4obMBAH8xjIhGjHc9DmLDeBDTauvkO3tk5x05v1E3G72Qp33aP4gLkE3IZBUDyCMkqCLLPS6DKk8mUJLcsncIrjveFLZCKUseqU7Qy2iIeEq0Dx8DgZAuRwhUNFkKHtmU8McAAWbWMNi2hiWZAbZAXDAyTCd1xXHUJmQZDZD', 'credential_developer_token': None, 'credential_refresh_token': None, 'name': 'AntMan Facebook Credential'}\n"
     ]
    },
    {
     "name": "stderr",
     "output_type": "stream",
     "text": [
      "WARNING:root:`remote_read` is being deprecated, please update your code with new function.\n"
     ]
    },
    {
     "name": "stdout",
     "output_type": "stream",
     "text": [
      "[get_adsets_active] adset_active_list: ['23843528799410091', '23843528791140091', '23843527786530091', '23843521405370091', '23843521395560091', '23843508308220091', '23843468170280091']\n",
      "[facebook_adapter.main]: adset_id: 23843528799410091, bid is 300\n"
     ]
    },
    {
     "name": "stderr",
     "output_type": "stream",
     "text": [
      "WARNING:root:`remote_read` is being deprecated, please update your code with new function.\n",
      "WARNING:root:`remote_read` is being deprecated, please update your code with new function.\n",
      "WARNING:root:`remote_update` is being deprecated, please update your code with new function.\n",
      "WARNING:root:`remote_read` is being deprecated, please update your code with new function.\n"
     ]
    },
    {
     "name": "stdout",
     "output_type": "stream",
     "text": [
      "[facebook_adapter.main]: adset_id: 23843528791140091, bid is 419.99\n"
     ]
    },
    {
     "name": "stderr",
     "output_type": "stream",
     "text": [
      "WARNING:root:`remote_read` is being deprecated, please update your code with new function.\n",
      "WARNING:root:`remote_read` is being deprecated, please update your code with new function.\n",
      "WARNING:root:`remote_update` is being deprecated, please update your code with new function.\n",
      "WARNING:root:`remote_read` is being deprecated, please update your code with new function.\n"
     ]
    },
    {
     "name": "stdout",
     "output_type": "stream",
     "text": [
      "[facebook_adapter.main]: adset_id: 23843527786530091, bid is 300\n"
     ]
    },
    {
     "name": "stderr",
     "output_type": "stream",
     "text": [
      "WARNING:root:`remote_read` is being deprecated, please update your code with new function.\n",
      "WARNING:root:`remote_read` is being deprecated, please update your code with new function.\n",
      "WARNING:root:`remote_update` is being deprecated, please update your code with new function.\n",
      "WARNING:root:`remote_read` is being deprecated, please update your code with new function.\n",
      "WARNING:root:`remote_read` is being deprecated, please update your code with new function.\n"
     ]
    },
    {
     "name": "stdout",
     "output_type": "stream",
     "text": [
      "[facebook_adapter.main]: adset_id: 23843521405370091, bid is 419.99\n"
     ]
    },
    {
     "name": "stderr",
     "output_type": "stream",
     "text": [
      "WARNING:root:`remote_read` is being deprecated, please update your code with new function.\n",
      "WARNING:root:`remote_update` is being deprecated, please update your code with new function.\n",
      "WARNING:root:`remote_read` is being deprecated, please update your code with new function.\n",
      "WARNING:root:`remote_read` is being deprecated, please update your code with new function.\n"
     ]
    },
    {
     "name": "stdout",
     "output_type": "stream",
     "text": [
      "[facebook_adapter.main]: adset_id: 23843521395560091, bid is 419.99\n"
     ]
    },
    {
     "name": "stderr",
     "output_type": "stream",
     "text": [
      "WARNING:root:`remote_read` is being deprecated, please update your code with new function.\n",
      "WARNING:root:`remote_update` is being deprecated, please update your code with new function.\n",
      "WARNING:root:`remote_read` is being deprecated, please update your code with new function.\n"
     ]
    },
    {
     "name": "stdout",
     "output_type": "stream",
     "text": [
      "[facebook_adapter.main]: adset_id: 23843508308220091, bid is 419.99\n"
     ]
    },
    {
     "name": "stderr",
     "output_type": "stream",
     "text": [
      "WARNING:root:`remote_read` is being deprecated, please update your code with new function.\n",
      "WARNING:root:`remote_read` is being deprecated, please update your code with new function.\n",
      "WARNING:root:`remote_update` is being deprecated, please update your code with new function.\n",
      "WARNING:root:`remote_read` is being deprecated, please update your code with new function.\n"
     ]
    },
    {
     "name": "stdout",
     "output_type": "stream",
     "text": [
      "[facebook_adapter.main]: adset_id: 23843468170280091, bid is 419.99\n"
     ]
    },
    {
     "name": "stderr",
     "output_type": "stream",
     "text": [
      "WARNING:root:`remote_read` is being deprecated, please update your code with new function.\n",
      "WARNING:root:`remote_read` is being deprecated, please update your code with new function.\n",
      "WARNING:root:`remote_update` is being deprecated, please update your code with new function.\n"
     ]
    },
    {
     "name": "stdout",
     "output_type": "stream",
     "text": [
      "==========[campaign_id]: 23843473390820344 ==========\n",
      "[get_media_token_by_queryid] token_dic {'credential_id': '958842090856883', 'credential_secret': 'a952f55afca38572cea2994d440d674b', 'credential_token': 'EAANoD9I4obMBAH8xjIhGjHc9DmLDeBDTauvkO3tk5x05v1E3G72Qp33aP4gLkE3IZBUDyCMkqCLLPS6DKk8mUJLcsncIrjveFLZCKUseqU7Qy2iIeEq0Dx8DgZAuRwhUNFkKHtmU8McAAWbWMNi2hiWZAbZAXDAyTCd1xXHUJmQZDZD', 'credential_developer_token': None, 'credential_refresh_token': None, 'name': 'AntMan Facebook Credential'}\n"
     ]
    },
    {
     "name": "stderr",
     "output_type": "stream",
     "text": [
      "WARNING:root:`remote_read` is being deprecated, please update your code with new function.\n"
     ]
    },
    {
     "name": "stdout",
     "output_type": "stream",
     "text": [
      "[get_adsets_active] adset_active_list: ['23843511657650344', '23843511656660344', '23843477945310344', '23843476995720344', '23843473402760344']\n",
      "[facebook_adapter.main]: adset_id: 23843511657650344, bid is 559.99\n"
     ]
    },
    {
     "name": "stderr",
     "output_type": "stream",
     "text": [
      "WARNING:root:`remote_read` is being deprecated, please update your code with new function.\n",
      "WARNING:root:`remote_read` is being deprecated, please update your code with new function.\n",
      "WARNING:root:`remote_update` is being deprecated, please update your code with new function.\n",
      "WARNING:root:`remote_read` is being deprecated, please update your code with new function.\n"
     ]
    },
    {
     "name": "stdout",
     "output_type": "stream",
     "text": [
      "[facebook_adapter.main]: adset_id: 23843511656660344, bid is 559.99\n"
     ]
    },
    {
     "name": "stderr",
     "output_type": "stream",
     "text": [
      "WARNING:root:`remote_read` is being deprecated, please update your code with new function.\n",
      "WARNING:root:`remote_read` is being deprecated, please update your code with new function.\n",
      "WARNING:root:`remote_update` is being deprecated, please update your code with new function.\n",
      "WARNING:root:`remote_read` is being deprecated, please update your code with new function.\n"
     ]
    },
    {
     "name": "stdout",
     "output_type": "stream",
     "text": [
      "[facebook_adapter.main]: adset_id: 23843477945310344, bid is 559.99\n"
     ]
    },
    {
     "name": "stderr",
     "output_type": "stream",
     "text": [
      "WARNING:root:`remote_read` is being deprecated, please update your code with new function.\n",
      "WARNING:root:`remote_read` is being deprecated, please update your code with new function.\n",
      "WARNING:root:`remote_update` is being deprecated, please update your code with new function.\n",
      "WARNING:root:`remote_read` is being deprecated, please update your code with new function.\n",
      "WARNING:root:`remote_read` is being deprecated, please update your code with new function.\n"
     ]
    },
    {
     "name": "stdout",
     "output_type": "stream",
     "text": [
      "[facebook_adapter.main]: adset_id: 23843476995720344, bid is 559.99\n"
     ]
    },
    {
     "name": "stderr",
     "output_type": "stream",
     "text": [
      "WARNING:root:`remote_read` is being deprecated, please update your code with new function.\n",
      "WARNING:root:`remote_update` is being deprecated, please update your code with new function.\n",
      "WARNING:root:`remote_read` is being deprecated, please update your code with new function.\n",
      "WARNING:root:`remote_read` is being deprecated, please update your code with new function.\n"
     ]
    },
    {
     "name": "stdout",
     "output_type": "stream",
     "text": [
      "[facebook_adapter.main]: adset_id: 23843473402760344, bid is 559.99\n"
     ]
    },
    {
     "name": "stderr",
     "output_type": "stream",
     "text": [
      "WARNING:root:`remote_read` is being deprecated, please update your code with new function.\n",
      "WARNING:root:`remote_update` is being deprecated, please update your code with new function.\n"
     ]
    },
    {
     "name": "stdout",
     "output_type": "stream",
     "text": [
      "==========[campaign_id]: 23843484377040702 ==========\n",
      "[get_media_token_by_queryid] token_dic {'credential_id': '958842090856883', 'credential_secret': 'a952f55afca38572cea2994d440d674b', 'credential_token': 'EAANoD9I4obMBAH8xjIhGjHc9DmLDeBDTauvkO3tk5x05v1E3G72Qp33aP4gLkE3IZBUDyCMkqCLLPS6DKk8mUJLcsncIrjveFLZCKUseqU7Qy2iIeEq0Dx8DgZAuRwhUNFkKHtmU8McAAWbWMNi2hiWZAbZAXDAyTCd1xXHUJmQZDZD', 'credential_developer_token': None, 'credential_refresh_token': None, 'name': 'AntMan Facebook Credential'}\n"
     ]
    },
    {
     "name": "stderr",
     "output_type": "stream",
     "text": [
      "WARNING:root:`remote_read` is being deprecated, please update your code with new function.\n"
     ]
    },
    {
     "name": "stdout",
     "output_type": "stream",
     "text": [
      "[get_adsets_active] adset_active_list: ['23843727829790702', '23843705400280702', '23843686443530702', '23843655600250702', '23843603170470702', '23843484398840702']\n",
      "[facebook_adapter.main]: adset_id: 23843727829790702, bid is 349.99\n"
     ]
    },
    {
     "name": "stderr",
     "output_type": "stream",
     "text": [
      "WARNING:root:`remote_read` is being deprecated, please update your code with new function.\n",
      "WARNING:root:`remote_read` is being deprecated, please update your code with new function.\n",
      "WARNING:root:`remote_update` is being deprecated, please update your code with new function.\n",
      "WARNING:root:`remote_read` is being deprecated, please update your code with new function.\n"
     ]
    },
    {
     "name": "stdout",
     "output_type": "stream",
     "text": [
      "[facebook_adapter.main]: adset_id: 23843705400280702, bid is 349.99\n"
     ]
    },
    {
     "name": "stderr",
     "output_type": "stream",
     "text": [
      "WARNING:root:`remote_read` is being deprecated, please update your code with new function.\n",
      "WARNING:root:`remote_read` is being deprecated, please update your code with new function.\n",
      "WARNING:root:`remote_update` is being deprecated, please update your code with new function.\n",
      "WARNING:root:`remote_read` is being deprecated, please update your code with new function.\n",
      "WARNING:root:`remote_read` is being deprecated, please update your code with new function.\n"
     ]
    },
    {
     "name": "stdout",
     "output_type": "stream",
     "text": [
      "[facebook_adapter.main]: adset_id: 23843686443530702, bid is 349.99\n"
     ]
    },
    {
     "name": "stderr",
     "output_type": "stream",
     "text": [
      "WARNING:root:`remote_read` is being deprecated, please update your code with new function.\n",
      "WARNING:root:`remote_update` is being deprecated, please update your code with new function.\n",
      "WARNING:root:`remote_read` is being deprecated, please update your code with new function.\n",
      "WARNING:root:`remote_read` is being deprecated, please update your code with new function.\n"
     ]
    },
    {
     "name": "stdout",
     "output_type": "stream",
     "text": [
      "[facebook_adapter.main]: adset_id: 23843655600250702, bid is 349.99\n"
     ]
    },
    {
     "name": "stderr",
     "output_type": "stream",
     "text": [
      "WARNING:root:`remote_read` is being deprecated, please update your code with new function.\n",
      "WARNING:root:`remote_update` is being deprecated, please update your code with new function.\n",
      "WARNING:root:`remote_read` is being deprecated, please update your code with new function.\n",
      "WARNING:root:`remote_read` is being deprecated, please update your code with new function.\n"
     ]
    },
    {
     "name": "stdout",
     "output_type": "stream",
     "text": [
      "[facebook_adapter.main]: adset_id: 23843603170470702, bid is 349.99\n"
     ]
    },
    {
     "name": "stderr",
     "output_type": "stream",
     "text": [
      "WARNING:root:`remote_read` is being deprecated, please update your code with new function.\n",
      "WARNING:root:`remote_update` is being deprecated, please update your code with new function.\n",
      "WARNING:root:`remote_read` is being deprecated, please update your code with new function.\n"
     ]
    },
    {
     "name": "stdout",
     "output_type": "stream",
     "text": [
      "[facebook_adapter.main]: adset_id: 23843484398840702, bid is 250\n"
     ]
    },
    {
     "name": "stderr",
     "output_type": "stream",
     "text": [
      "WARNING:root:`remote_read` is being deprecated, please update your code with new function.\n",
      "WARNING:root:`remote_read` is being deprecated, please update your code with new function.\n",
      "WARNING:root:`remote_update` is being deprecated, please update your code with new function.\n"
     ]
    },
    {
     "name": "stdout",
     "output_type": "stream",
     "text": [
      "==========[campaign_id]: 23843488842640474 ==========\n",
      "[get_media_token_by_queryid] token_dic {'credential_id': '958842090856883', 'credential_secret': 'a952f55afca38572cea2994d440d674b', 'credential_token': 'EAANoD9I4obMBAH8xjIhGjHc9DmLDeBDTauvkO3tk5x05v1E3G72Qp33aP4gLkE3IZBUDyCMkqCLLPS6DKk8mUJLcsncIrjveFLZCKUseqU7Qy2iIeEq0Dx8DgZAuRwhUNFkKHtmU8McAAWbWMNi2hiWZAbZAXDAyTCd1xXHUJmQZDZD', 'credential_developer_token': None, 'credential_refresh_token': None, 'name': 'AntMan Facebook Credential'}\n"
     ]
    },
    {
     "name": "stderr",
     "output_type": "stream",
     "text": [
      "WARNING:root:`remote_read` is being deprecated, please update your code with new function.\n"
     ]
    },
    {
     "name": "stdout",
     "output_type": "stream",
     "text": [
      "[get_adsets_active] adset_active_list: ['23843522131070474', '23843522124710474']\n",
      "[facebook_adapter.main]: adset_id: 23843522131070474, bid is 3000.0\n"
     ]
    },
    {
     "name": "stderr",
     "output_type": "stream",
     "text": [
      "WARNING:root:`remote_read` is being deprecated, please update your code with new function.\n",
      "WARNING:root:`remote_read` is being deprecated, please update your code with new function.\n",
      "WARNING:root:`remote_update` is being deprecated, please update your code with new function.\n",
      "WARNING:root:`remote_read` is being deprecated, please update your code with new function.\n",
      "WARNING:root:`remote_read` is being deprecated, please update your code with new function.\n"
     ]
    },
    {
     "name": "stdout",
     "output_type": "stream",
     "text": [
      "[facebook_adapter.main]: adset_id: 23843522124710474, bid is 3000.0\n"
     ]
    },
    {
     "name": "stderr",
     "output_type": "stream",
     "text": [
      "WARNING:root:`remote_read` is being deprecated, please update your code with new function.\n",
      "WARNING:root:`remote_update` is being deprecated, please update your code with new function.\n"
     ]
    },
    {
     "name": "stdout",
     "output_type": "stream",
     "text": [
      "==========[campaign_id]: 23843503273320350 ==========\n",
      "[get_media_token_by_queryid] token_dic {'credential_id': '958842090856883', 'credential_secret': 'a952f55afca38572cea2994d440d674b', 'credential_token': 'EAANoD9I4obMBAH8xjIhGjHc9DmLDeBDTauvkO3tk5x05v1E3G72Qp33aP4gLkE3IZBUDyCMkqCLLPS6DKk8mUJLcsncIrjveFLZCKUseqU7Qy2iIeEq0Dx8DgZAuRwhUNFkKHtmU8McAAWbWMNi2hiWZAbZAXDAyTCd1xXHUJmQZDZD', 'credential_developer_token': None, 'credential_refresh_token': None, 'name': 'AntMan Facebook Credential'}\n"
     ]
    },
    {
     "name": "stderr",
     "output_type": "stream",
     "text": [
      "WARNING:root:`remote_read` is being deprecated, please update your code with new function.\n"
     ]
    },
    {
     "name": "stdout",
     "output_type": "stream",
     "text": [
      "[get_adsets_active] adset_active_list: ['23843536544240350', '23843511921890350', '23843503274750350']\n",
      "[facebook_adapter.main]: adset_id: 23843536544240350, bid is 389.19\n"
     ]
    },
    {
     "name": "stderr",
     "output_type": "stream",
     "text": [
      "WARNING:root:`remote_read` is being deprecated, please update your code with new function.\n",
      "WARNING:root:`remote_read` is being deprecated, please update your code with new function.\n",
      "WARNING:root:`remote_update` is being deprecated, please update your code with new function.\n",
      "WARNING:root:`remote_read` is being deprecated, please update your code with new function.\n"
     ]
    },
    {
     "name": "stdout",
     "output_type": "stream",
     "text": [
      "[facebook_adapter.main]: adset_id: 23843511921890350, bid is 194.59\n"
     ]
    },
    {
     "name": "stderr",
     "output_type": "stream",
     "text": [
      "WARNING:root:`remote_read` is being deprecated, please update your code with new function.\n",
      "WARNING:root:`remote_read` is being deprecated, please update your code with new function.\n",
      "WARNING:root:`remote_update` is being deprecated, please update your code with new function.\n",
      "WARNING:root:`remote_read` is being deprecated, please update your code with new function.\n"
     ]
    },
    {
     "name": "stdout",
     "output_type": "stream",
     "text": [
      "[facebook_adapter.main]: adset_id: 23843503274750350, bid is 278\n"
     ]
    },
    {
     "name": "stderr",
     "output_type": "stream",
     "text": [
      "WARNING:root:`remote_read` is being deprecated, please update your code with new function.\n",
      "WARNING:root:`remote_read` is being deprecated, please update your code with new function.\n",
      "WARNING:root:`remote_update` is being deprecated, please update your code with new function.\n"
     ]
    },
    {
     "name": "stdout",
     "output_type": "stream",
     "text": [
      "==========[campaign_id]: 23843508739720127 ==========\n",
      "[get_media_token_by_queryid] token_dic {'credential_id': '958842090856883', 'credential_secret': 'a952f55afca38572cea2994d440d674b', 'credential_token': 'EAANoD9I4obMBAH8xjIhGjHc9DmLDeBDTauvkO3tk5x05v1E3G72Qp33aP4gLkE3IZBUDyCMkqCLLPS6DKk8mUJLcsncIrjveFLZCKUseqU7Qy2iIeEq0Dx8DgZAuRwhUNFkKHtmU8McAAWbWMNi2hiWZAbZAXDAyTCd1xXHUJmQZDZD', 'credential_developer_token': None, 'credential_refresh_token': None, 'name': 'AntMan Facebook Credential'}\n"
     ]
    },
    {
     "name": "stderr",
     "output_type": "stream",
     "text": [
      "WARNING:root:`remote_read` is being deprecated, please update your code with new function.\n"
     ]
    },
    {
     "name": "stdout",
     "output_type": "stream",
     "text": [
      "[get_adsets_active] adset_active_list: ['23843651668300127', '23843629487990127']\n",
      "[facebook_adapter.main]: adset_id: 23843651668300127, bid is 25.2\n"
     ]
    },
    {
     "name": "stderr",
     "output_type": "stream",
     "text": [
      "WARNING:root:`remote_read` is being deprecated, please update your code with new function.\n",
      "WARNING:root:`remote_read` is being deprecated, please update your code with new function.\n",
      "WARNING:root:`remote_update` is being deprecated, please update your code with new function.\n",
      "WARNING:root:`remote_read` is being deprecated, please update your code with new function.\n"
     ]
    },
    {
     "name": "stdout",
     "output_type": "stream",
     "text": [
      "[facebook_adapter.main]: adset_id: 23843629487990127, bid is 25.2\n"
     ]
    },
    {
     "name": "stderr",
     "output_type": "stream",
     "text": [
      "WARNING:root:`remote_read` is being deprecated, please update your code with new function.\n",
      "WARNING:root:`remote_read` is being deprecated, please update your code with new function.\n",
      "WARNING:root:`remote_update` is being deprecated, please update your code with new function.\n"
     ]
    },
    {
     "name": "stdout",
     "output_type": "stream",
     "text": [
      "==========[campaign_id]: 23843536795940014 ==========\n",
      "[get_media_token_by_queryid] token_dic {'credential_id': '958842090856883', 'credential_secret': 'a952f55afca38572cea2994d440d674b', 'credential_token': 'EAANoD9I4obMBAH8xjIhGjHc9DmLDeBDTauvkO3tk5x05v1E3G72Qp33aP4gLkE3IZBUDyCMkqCLLPS6DKk8mUJLcsncIrjveFLZCKUseqU7Qy2iIeEq0Dx8DgZAuRwhUNFkKHtmU8McAAWbWMNi2hiWZAbZAXDAyTCd1xXHUJmQZDZD', 'credential_developer_token': None, 'credential_refresh_token': None, 'name': 'AntMan Facebook Credential'}\n"
     ]
    },
    {
     "name": "stderr",
     "output_type": "stream",
     "text": [
      "WARNING:root:`remote_read` is being deprecated, please update your code with new function.\n"
     ]
    },
    {
     "name": "stdout",
     "output_type": "stream",
     "text": [
      "[get_adsets_active] adset_active_list: ['23843585944280014', '23843574129480014', '23843574128500014', '23843547933390014', '23843536795980014']\n",
      "[facebook_adapter.main]: adset_id: 23843585944280014, bid is 839.98\n"
     ]
    },
    {
     "name": "stderr",
     "output_type": "stream",
     "text": [
      "WARNING:root:`remote_read` is being deprecated, please update your code with new function.\n",
      "WARNING:root:`remote_read` is being deprecated, please update your code with new function.\n",
      "WARNING:root:`remote_update` is being deprecated, please update your code with new function.\n",
      "WARNING:root:`remote_read` is being deprecated, please update your code with new function.\n",
      "WARNING:root:`remote_read` is being deprecated, please update your code with new function.\n"
     ]
    },
    {
     "name": "stdout",
     "output_type": "stream",
     "text": [
      "[facebook_adapter.main]: adset_id: 23843574129480014, bid is 839.98\n"
     ]
    },
    {
     "name": "stderr",
     "output_type": "stream",
     "text": [
      "WARNING:root:`remote_read` is being deprecated, please update your code with new function.\n",
      "WARNING:root:`remote_update` is being deprecated, please update your code with new function.\n",
      "WARNING:root:`remote_read` is being deprecated, please update your code with new function.\n",
      "WARNING:root:`remote_read` is being deprecated, please update your code with new function.\n"
     ]
    },
    {
     "name": "stdout",
     "output_type": "stream",
     "text": [
      "[facebook_adapter.main]: adset_id: 23843574128500014, bid is 839.98\n"
     ]
    },
    {
     "name": "stderr",
     "output_type": "stream",
     "text": [
      "WARNING:root:`remote_read` is being deprecated, please update your code with new function.\n",
      "WARNING:root:`remote_update` is being deprecated, please update your code with new function.\n",
      "WARNING:root:`remote_read` is being deprecated, please update your code with new function.\n",
      "WARNING:root:`remote_read` is being deprecated, please update your code with new function.\n"
     ]
    },
    {
     "name": "stdout",
     "output_type": "stream",
     "text": [
      "[facebook_adapter.main]: adset_id: 23843547933390014, bid is 839.98\n"
     ]
    },
    {
     "name": "stderr",
     "output_type": "stream",
     "text": [
      "WARNING:root:`remote_read` is being deprecated, please update your code with new function.\n",
      "WARNING:root:`remote_update` is being deprecated, please update your code with new function.\n",
      "WARNING:root:`remote_read` is being deprecated, please update your code with new function.\n",
      "WARNING:root:`remote_read` is being deprecated, please update your code with new function.\n"
     ]
    },
    {
     "name": "stdout",
     "output_type": "stream",
     "text": [
      "[facebook_adapter.main]: adset_id: 23843536795980014, bid is 839.98\n"
     ]
    },
    {
     "name": "stderr",
     "output_type": "stream",
     "text": [
      "WARNING:root:`remote_read` is being deprecated, please update your code with new function.\n",
      "WARNING:root:`remote_update` is being deprecated, please update your code with new function.\n"
     ]
    },
    {
     "name": "stdout",
     "output_type": "stream",
     "text": [
      "==========[campaign_id]: 23843568997400374 ==========\n",
      "[get_media_token_by_queryid] token_dic {'credential_id': '958842090856883', 'credential_secret': 'a952f55afca38572cea2994d440d674b', 'credential_token': 'EAANoD9I4obMBAH8xjIhGjHc9DmLDeBDTauvkO3tk5x05v1E3G72Qp33aP4gLkE3IZBUDyCMkqCLLPS6DKk8mUJLcsncIrjveFLZCKUseqU7Qy2iIeEq0Dx8DgZAuRwhUNFkKHtmU8McAAWbWMNi2hiWZAbZAXDAyTCd1xXHUJmQZDZD', 'credential_developer_token': None, 'credential_refresh_token': None, 'name': 'AntMan Facebook Credential'}\n"
     ]
    },
    {
     "name": "stderr",
     "output_type": "stream",
     "text": [
      "WARNING:root:`remote_read` is being deprecated, please update your code with new function.\n"
     ]
    },
    {
     "name": "stdout",
     "output_type": "stream",
     "text": [
      "[get_adsets_active] adset_active_list: ['23843729917170374', '23843729916640374']\n",
      "[facebook_adapter.main]: adset_id: 23843729917170374, bid is 5.6\n"
     ]
    },
    {
     "name": "stderr",
     "output_type": "stream",
     "text": [
      "WARNING:root:`remote_read` is being deprecated, please update your code with new function.\n",
      "WARNING:root:`remote_read` is being deprecated, please update your code with new function.\n",
      "WARNING:root:`remote_update` is being deprecated, please update your code with new function.\n",
      "WARNING:root:`remote_read` is being deprecated, please update your code with new function.\n",
      "WARNING:root:`remote_read` is being deprecated, please update your code with new function.\n"
     ]
    },
    {
     "name": "stdout",
     "output_type": "stream",
     "text": [
      "[facebook_adapter.main]: adset_id: 23843729916640374, bid is 5.6\n"
     ]
    },
    {
     "name": "stderr",
     "output_type": "stream",
     "text": [
      "WARNING:root:`remote_read` is being deprecated, please update your code with new function.\n",
      "WARNING:root:`remote_update` is being deprecated, please update your code with new function.\n"
     ]
    },
    {
     "name": "stdout",
     "output_type": "stream",
     "text": [
      "==========[campaign_id]: 23843607936320431 ==========\n",
      "[get_media_token_by_queryid] token_dic {'credential_id': '958842090856883', 'credential_secret': 'a952f55afca38572cea2994d440d674b', 'credential_token': 'EAANoD9I4obMBAH8xjIhGjHc9DmLDeBDTauvkO3tk5x05v1E3G72Qp33aP4gLkE3IZBUDyCMkqCLLPS6DKk8mUJLcsncIrjveFLZCKUseqU7Qy2iIeEq0Dx8DgZAuRwhUNFkKHtmU8McAAWbWMNi2hiWZAbZAXDAyTCd1xXHUJmQZDZD', 'credential_developer_token': None, 'credential_refresh_token': None, 'name': 'AntMan Facebook Credential'}\n"
     ]
    },
    {
     "name": "stderr",
     "output_type": "stream",
     "text": [
      "WARNING:root:`remote_read` is being deprecated, please update your code with new function.\n"
     ]
    },
    {
     "name": "stdout",
     "output_type": "stream",
     "text": [
      "[get_adsets_active] adset_active_list: ['23843657922110431', '23843657916530431', '23843607939050431', '23843607939030431']\n",
      "[facebook_adapter.main]: adset_id: 23843657922110431, bid is 559.99\n"
     ]
    },
    {
     "name": "stderr",
     "output_type": "stream",
     "text": [
      "WARNING:root:`remote_read` is being deprecated, please update your code with new function.\n",
      "WARNING:root:`remote_read` is being deprecated, please update your code with new function.\n",
      "WARNING:root:`remote_update` is being deprecated, please update your code with new function.\n",
      "WARNING:root:`remote_read` is being deprecated, please update your code with new function.\n"
     ]
    },
    {
     "name": "stdout",
     "output_type": "stream",
     "text": [
      "[facebook_adapter.main]: adset_id: 23843657916530431, bid is 559.99\n"
     ]
    },
    {
     "name": "stderr",
     "output_type": "stream",
     "text": [
      "WARNING:root:`remote_read` is being deprecated, please update your code with new function.\n",
      "WARNING:root:`remote_read` is being deprecated, please update your code with new function.\n",
      "WARNING:root:`remote_update` is being deprecated, please update your code with new function.\n",
      "WARNING:root:`remote_read` is being deprecated, please update your code with new function.\n"
     ]
    },
    {
     "name": "stdout",
     "output_type": "stream",
     "text": [
      "[facebook_adapter.main]: adset_id: 23843607939050431, bid is 559.99\n"
     ]
    },
    {
     "name": "stderr",
     "output_type": "stream",
     "text": [
      "WARNING:root:`remote_read` is being deprecated, please update your code with new function.\n",
      "WARNING:root:`remote_read` is being deprecated, please update your code with new function.\n",
      "WARNING:root:`remote_update` is being deprecated, please update your code with new function.\n",
      "WARNING:root:`remote_read` is being deprecated, please update your code with new function.\n"
     ]
    },
    {
     "name": "stdout",
     "output_type": "stream",
     "text": [
      "[facebook_adapter.main]: adset_id: 23843607939030431, bid is 559.99\n"
     ]
    },
    {
     "name": "stderr",
     "output_type": "stream",
     "text": [
      "WARNING:root:`remote_read` is being deprecated, please update your code with new function.\n",
      "WARNING:root:`remote_read` is being deprecated, please update your code with new function.\n",
      "WARNING:root:`remote_update` is being deprecated, please update your code with new function.\n"
     ]
    },
    {
     "name": "stdout",
     "output_type": "stream",
     "text": [
      "==========[campaign_id]: 23843628364880022 ==========\n",
      "[get_media_token_by_queryid] token_dic {'credential_id': '958842090856883', 'credential_secret': 'a952f55afca38572cea2994d440d674b', 'credential_token': 'EAANoD9I4obMBAH8xjIhGjHc9DmLDeBDTauvkO3tk5x05v1E3G72Qp33aP4gLkE3IZBUDyCMkqCLLPS6DKk8mUJLcsncIrjveFLZCKUseqU7Qy2iIeEq0Dx8DgZAuRwhUNFkKHtmU8McAAWbWMNi2hiWZAbZAXDAyTCd1xXHUJmQZDZD', 'credential_developer_token': None, 'credential_refresh_token': None, 'name': 'AntMan Facebook Credential'}\n"
     ]
    },
    {
     "name": "stderr",
     "output_type": "stream",
     "text": [
      "WARNING:root:`remote_read` is being deprecated, please update your code with new function.\n"
     ]
    },
    {
     "name": "stdout",
     "output_type": "stream",
     "text": [
      "[get_adsets_active] adset_active_list: ['23843628561170022', '23843628364970022', '23843628364960022', '23843628364940022', '23843628364930022', '23843628364920022', '23843628364870022']\n",
      "[facebook_adapter.main]: adset_id: 23843628561170022, bid is 3.0\n"
     ]
    },
    {
     "name": "stderr",
     "output_type": "stream",
     "text": [
      "WARNING:root:`remote_read` is being deprecated, please update your code with new function.\n",
      "WARNING:root:`remote_read` is being deprecated, please update your code with new function.\n",
      "WARNING:root:`remote_update` is being deprecated, please update your code with new function.\n",
      "WARNING:root:`remote_read` is being deprecated, please update your code with new function.\n"
     ]
    },
    {
     "name": "stdout",
     "output_type": "stream",
     "text": [
      "[facebook_adapter.main]: adset_id: 23843628364970022, bid is 3.0\n"
     ]
    },
    {
     "name": "stderr",
     "output_type": "stream",
     "text": [
      "WARNING:root:`remote_read` is being deprecated, please update your code with new function.\n",
      "WARNING:root:`remote_read` is being deprecated, please update your code with new function.\n",
      "WARNING:root:`remote_update` is being deprecated, please update your code with new function.\n",
      "WARNING:root:`remote_read` is being deprecated, please update your code with new function.\n"
     ]
    },
    {
     "name": "stdout",
     "output_type": "stream",
     "text": [
      "[facebook_adapter.main]: adset_id: 23843628364960022, bid is 3.0\n"
     ]
    },
    {
     "name": "stderr",
     "output_type": "stream",
     "text": [
      "WARNING:root:`remote_read` is being deprecated, please update your code with new function.\n",
      "WARNING:root:`remote_read` is being deprecated, please update your code with new function.\n",
      "WARNING:root:`remote_update` is being deprecated, please update your code with new function.\n",
      "WARNING:root:`remote_read` is being deprecated, please update your code with new function.\n",
      "WARNING:root:`remote_read` is being deprecated, please update your code with new function.\n"
     ]
    },
    {
     "name": "stdout",
     "output_type": "stream",
     "text": [
      "[facebook_adapter.main]: adset_id: 23843628364940022, bid is 3.0\n"
     ]
    },
    {
     "name": "stderr",
     "output_type": "stream",
     "text": [
      "WARNING:root:`remote_read` is being deprecated, please update your code with new function.\n",
      "WARNING:root:`remote_update` is being deprecated, please update your code with new function.\n",
      "WARNING:root:`remote_read` is being deprecated, please update your code with new function.\n"
     ]
    },
    {
     "name": "stdout",
     "output_type": "stream",
     "text": [
      "[facebook_adapter.main]: adset_id: 23843628364930022, bid is 3.0\n"
     ]
    },
    {
     "name": "stderr",
     "output_type": "stream",
     "text": [
      "WARNING:root:`remote_read` is being deprecated, please update your code with new function.\n",
      "WARNING:root:`remote_read` is being deprecated, please update your code with new function.\n",
      "WARNING:root:`remote_update` is being deprecated, please update your code with new function.\n",
      "WARNING:root:`remote_read` is being deprecated, please update your code with new function.\n"
     ]
    },
    {
     "name": "stdout",
     "output_type": "stream",
     "text": [
      "[facebook_adapter.main]: adset_id: 23843628364920022, bid is 3.0\n"
     ]
    },
    {
     "name": "stderr",
     "output_type": "stream",
     "text": [
      "WARNING:root:`remote_read` is being deprecated, please update your code with new function.\n",
      "WARNING:root:`remote_read` is being deprecated, please update your code with new function.\n",
      "WARNING:root:`remote_update` is being deprecated, please update your code with new function.\n",
      "WARNING:root:`remote_read` is being deprecated, please update your code with new function.\n"
     ]
    },
    {
     "name": "stdout",
     "output_type": "stream",
     "text": [
      "[facebook_adapter.main]: adset_id: 23843628364870022, bid is 3.0\n"
     ]
    },
    {
     "name": "stderr",
     "output_type": "stream",
     "text": [
      "WARNING:root:`remote_read` is being deprecated, please update your code with new function.\n",
      "WARNING:root:`remote_read` is being deprecated, please update your code with new function.\n",
      "WARNING:root:`remote_update` is being deprecated, please update your code with new function.\n"
     ]
    },
    {
     "name": "stdout",
     "output_type": "stream",
     "text": [
      "==========[campaign_id]: 23843636617110232 ==========\n",
      "[get_media_token_by_queryid] token_dic {'credential_id': '958842090856883', 'credential_secret': 'a952f55afca38572cea2994d440d674b', 'credential_token': 'EAANoD9I4obMBAH8xjIhGjHc9DmLDeBDTauvkO3tk5x05v1E3G72Qp33aP4gLkE3IZBUDyCMkqCLLPS6DKk8mUJLcsncIrjveFLZCKUseqU7Qy2iIeEq0Dx8DgZAuRwhUNFkKHtmU8McAAWbWMNi2hiWZAbZAXDAyTCd1xXHUJmQZDZD', 'credential_developer_token': None, 'credential_refresh_token': None, 'name': 'AntMan Facebook Credential'}\n"
     ]
    },
    {
     "name": "stderr",
     "output_type": "stream",
     "text": [
      "WARNING:root:`remote_read` is being deprecated, please update your code with new function.\n"
     ]
    },
    {
     "name": "stdout",
     "output_type": "stream",
     "text": [
      "[get_adsets_active] adset_active_list: ['23843636617280232', '23843636617270232']\n",
      "[facebook_adapter.main]: adset_id: 23843636617280232, bid is 839.98\n"
     ]
    },
    {
     "name": "stderr",
     "output_type": "stream",
     "text": [
      "WARNING:root:`remote_read` is being deprecated, please update your code with new function.\n",
      "WARNING:root:`remote_read` is being deprecated, please update your code with new function.\n",
      "WARNING:root:`remote_update` is being deprecated, please update your code with new function.\n",
      "WARNING:root:`remote_read` is being deprecated, please update your code with new function.\n"
     ]
    },
    {
     "name": "stdout",
     "output_type": "stream",
     "text": [
      "[facebook_adapter.main]: adset_id: 23843636617270232, bid is 800\n"
     ]
    },
    {
     "name": "stderr",
     "output_type": "stream",
     "text": [
      "WARNING:root:`remote_read` is being deprecated, please update your code with new function.\n",
      "WARNING:root:`remote_read` is being deprecated, please update your code with new function.\n",
      "WARNING:root:`remote_update` is being deprecated, please update your code with new function.\n"
     ]
    },
    {
     "name": "stdout",
     "output_type": "stream",
     "text": [
      "==========[campaign_id]: 23843646477870386 ==========\n",
      "[get_media_token_by_queryid] token_dic {'credential_id': '958842090856883', 'credential_secret': 'a952f55afca38572cea2994d440d674b', 'credential_token': 'EAANoD9I4obMBAH8xjIhGjHc9DmLDeBDTauvkO3tk5x05v1E3G72Qp33aP4gLkE3IZBUDyCMkqCLLPS6DKk8mUJLcsncIrjveFLZCKUseqU7Qy2iIeEq0Dx8DgZAuRwhUNFkKHtmU8McAAWbWMNi2hiWZAbZAXDAyTCd1xXHUJmQZDZD', 'credential_developer_token': None, 'credential_refresh_token': None, 'name': 'AntMan Facebook Credential'}\n"
     ]
    },
    {
     "name": "stderr",
     "output_type": "stream",
     "text": [
      "WARNING:root:`remote_read` is being deprecated, please update your code with new function.\n"
     ]
    },
    {
     "name": "stdout",
     "output_type": "stream",
     "text": [
      "[get_adsets_active] adset_active_list: ['23843646478030386', '23843646478010386']\n",
      "[facebook_adapter.main]: adset_id: 23843646478030386, bid is 300.0\n"
     ]
    },
    {
     "name": "stderr",
     "output_type": "stream",
     "text": [
      "WARNING:root:`remote_read` is being deprecated, please update your code with new function.\n",
      "WARNING:root:`remote_read` is being deprecated, please update your code with new function.\n",
      "WARNING:root:`remote_update` is being deprecated, please update your code with new function.\n",
      "WARNING:root:`remote_read` is being deprecated, please update your code with new function.\n"
     ]
    },
    {
     "name": "stdout",
     "output_type": "stream",
     "text": [
      "[facebook_adapter.main]: adset_id: 23843646478010386, bid is 300.0\n"
     ]
    },
    {
     "name": "stderr",
     "output_type": "stream",
     "text": [
      "WARNING:root:`remote_read` is being deprecated, please update your code with new function.\n",
      "WARNING:root:`remote_read` is being deprecated, please update your code with new function.\n",
      "WARNING:root:`remote_update` is being deprecated, please update your code with new function.\n"
     ]
    },
    {
     "name": "stdout",
     "output_type": "stream",
     "text": [
      "==========[campaign_id]: 23843672578810681 ==========\n",
      "[get_media_token_by_queryid] token_dic {'credential_id': '958842090856883', 'credential_secret': 'a952f55afca38572cea2994d440d674b', 'credential_token': 'EAANoD9I4obMBAH8xjIhGjHc9DmLDeBDTauvkO3tk5x05v1E3G72Qp33aP4gLkE3IZBUDyCMkqCLLPS6DKk8mUJLcsncIrjveFLZCKUseqU7Qy2iIeEq0Dx8DgZAuRwhUNFkKHtmU8McAAWbWMNi2hiWZAbZAXDAyTCd1xXHUJmQZDZD', 'credential_developer_token': None, 'credential_refresh_token': None, 'name': 'AntMan Facebook Credential'}\n"
     ]
    },
    {
     "name": "stderr",
     "output_type": "stream",
     "text": [
      "WARNING:root:`remote_read` is being deprecated, please update your code with new function.\n"
     ]
    },
    {
     "name": "stdout",
     "output_type": "stream",
     "text": [
      "[get_adsets_active] adset_active_list: ['23843672578870681', '23843672578860681', '23843672578850681', '23843672578840681', '23843672578830681', '23843672578820681', '23843672578800681']\n",
      "[facebook_adapter.main]: adset_id: 23843672578870681, bid is 1.0\n"
     ]
    },
    {
     "name": "stderr",
     "output_type": "stream",
     "text": [
      "WARNING:root:`remote_read` is being deprecated, please update your code with new function.\n",
      "WARNING:root:`remote_read` is being deprecated, please update your code with new function.\n",
      "WARNING:root:`remote_update` is being deprecated, please update your code with new function.\n",
      "WARNING:root:`remote_read` is being deprecated, please update your code with new function.\n",
      "WARNING:root:`remote_read` is being deprecated, please update your code with new function.\n"
     ]
    },
    {
     "name": "stdout",
     "output_type": "stream",
     "text": [
      "[facebook_adapter.main]: adset_id: 23843672578860681, bid is 1.0\n"
     ]
    },
    {
     "name": "stderr",
     "output_type": "stream",
     "text": [
      "WARNING:root:`remote_read` is being deprecated, please update your code with new function.\n",
      "WARNING:root:`remote_update` is being deprecated, please update your code with new function.\n",
      "WARNING:root:`remote_read` is being deprecated, please update your code with new function.\n"
     ]
    },
    {
     "name": "stdout",
     "output_type": "stream",
     "text": [
      "[facebook_adapter.main]: adset_id: 23843672578850681, bid is 1.0\n"
     ]
    },
    {
     "name": "stderr",
     "output_type": "stream",
     "text": [
      "WARNING:root:`remote_read` is being deprecated, please update your code with new function.\n",
      "WARNING:root:`remote_read` is being deprecated, please update your code with new function.\n",
      "WARNING:root:`remote_update` is being deprecated, please update your code with new function.\n",
      "WARNING:root:`remote_read` is being deprecated, please update your code with new function.\n",
      "WARNING:root:`remote_read` is being deprecated, please update your code with new function.\n"
     ]
    },
    {
     "name": "stdout",
     "output_type": "stream",
     "text": [
      "[facebook_adapter.main]: adset_id: 23843672578840681, bid is 1.0\n"
     ]
    },
    {
     "name": "stderr",
     "output_type": "stream",
     "text": [
      "WARNING:root:`remote_read` is being deprecated, please update your code with new function.\n",
      "WARNING:root:`remote_update` is being deprecated, please update your code with new function.\n",
      "WARNING:root:`remote_read` is being deprecated, please update your code with new function.\n"
     ]
    },
    {
     "name": "stdout",
     "output_type": "stream",
     "text": [
      "[facebook_adapter.main]: adset_id: 23843672578830681, bid is 1.0\n"
     ]
    },
    {
     "name": "stderr",
     "output_type": "stream",
     "text": [
      "WARNING:root:`remote_read` is being deprecated, please update your code with new function.\n",
      "WARNING:root:`remote_read` is being deprecated, please update your code with new function.\n",
      "WARNING:root:`remote_update` is being deprecated, please update your code with new function.\n",
      "WARNING:root:`remote_read` is being deprecated, please update your code with new function.\n",
      "WARNING:root:`remote_read` is being deprecated, please update your code with new function.\n"
     ]
    },
    {
     "name": "stdout",
     "output_type": "stream",
     "text": [
      "[facebook_adapter.main]: adset_id: 23843672578820681, bid is 1.0\n"
     ]
    },
    {
     "name": "stderr",
     "output_type": "stream",
     "text": [
      "WARNING:root:`remote_read` is being deprecated, please update your code with new function.\n",
      "WARNING:root:`remote_update` is being deprecated, please update your code with new function.\n",
      "WARNING:root:`remote_read` is being deprecated, please update your code with new function.\n",
      "WARNING:root:`remote_read` is being deprecated, please update your code with new function.\n"
     ]
    },
    {
     "name": "stdout",
     "output_type": "stream",
     "text": [
      "[facebook_adapter.main]: adset_id: 23843672578800681, bid is 1.0\n"
     ]
    },
    {
     "name": "stderr",
     "output_type": "stream",
     "text": [
      "WARNING:root:`remote_read` is being deprecated, please update your code with new function.\n",
      "WARNING:root:`remote_update` is being deprecated, please update your code with new function.\n"
     ]
    },
    {
     "name": "stdout",
     "output_type": "stream",
     "text": [
      "==========[campaign_id]: 23843685426300680 ==========\n",
      "[get_media_token_by_queryid] token_dic {'credential_id': '958842090856883', 'credential_secret': 'a952f55afca38572cea2994d440d674b', 'credential_token': 'EAANoD9I4obMBAH8xjIhGjHc9DmLDeBDTauvkO3tk5x05v1E3G72Qp33aP4gLkE3IZBUDyCMkqCLLPS6DKk8mUJLcsncIrjveFLZCKUseqU7Qy2iIeEq0Dx8DgZAuRwhUNFkKHtmU8McAAWbWMNi2hiWZAbZAXDAyTCd1xXHUJmQZDZD', 'credential_developer_token': None, 'credential_refresh_token': None, 'name': 'AntMan Facebook Credential'}\n"
     ]
    },
    {
     "name": "stderr",
     "output_type": "stream",
     "text": [
      "WARNING:root:`remote_read` is being deprecated, please update your code with new function.\n"
     ]
    },
    {
     "name": "stdout",
     "output_type": "stream",
     "text": [
      "[get_adsets_active] adset_active_list: ['23843685426360680', '23843685426340680']\n",
      "[facebook_adapter.main]: adset_id: 23843685426360680, bid is 250\n"
     ]
    },
    {
     "name": "stderr",
     "output_type": "stream",
     "text": [
      "WARNING:root:`remote_read` is being deprecated, please update your code with new function.\n",
      "WARNING:root:`remote_read` is being deprecated, please update your code with new function.\n",
      "WARNING:root:`remote_update` is being deprecated, please update your code with new function.\n",
      "WARNING:root:`remote_read` is being deprecated, please update your code with new function.\n"
     ]
    },
    {
     "name": "stdout",
     "output_type": "stream",
     "text": [
      "[facebook_adapter.main]: adset_id: 23843685426340680, bid is 250\n"
     ]
    },
    {
     "name": "stderr",
     "output_type": "stream",
     "text": [
      "WARNING:root:`remote_read` is being deprecated, please update your code with new function.\n",
      "WARNING:root:`remote_read` is being deprecated, please update your code with new function.\n",
      "WARNING:root:`remote_update` is being deprecated, please update your code with new function.\n"
     ]
    },
    {
     "name": "stdout",
     "output_type": "stream",
     "text": [
      "0:03:12.353852\n"
     ]
    }
   ],
   "source": [
    "if __name__=='__main__':\n",
    "    main()\n",
    "    import gc\n",
    "    gc.collect()\n",
    "#     main(23842953829930431)"
   ]
  },
  {
   "cell_type": "code",
   "execution_count": 5,
   "metadata": {},
   "outputs": [
    {
     "name": "stdout",
     "output_type": "stream",
     "text": [
      "[NbConvertApp] Converting notebook facebook_adapter.ipynb to script\n",
      "[NbConvertApp] Writing 11909 bytes to facebook_adapter.py\n"
     ]
    }
   ],
   "source": [
    "#!jupyter nbconvert --to script facebook_adapter.ipynb"
   ]
  },
  {
   "cell_type": "code",
   "execution_count": null,
   "metadata": {},
   "outputs": [],
   "source": []
  }
 ],
 "metadata": {
  "kernelspec": {
   "display_name": "Python 3",
   "language": "python",
   "name": "python3"
  },
  "language_info": {
   "codemirror_mode": {
    "name": "ipython",
    "version": 3
   },
   "file_extension": ".py",
   "mimetype": "text/x-python",
   "name": "python",
   "nbconvert_exporter": "python",
   "pygments_lexer": "ipython3",
   "version": "3.6.8"
  },
  "varInspector": {
   "cols": {
    "lenName": 16,
    "lenType": 16,
    "lenVar": 40
   },
   "kernels_config": {
    "python": {
     "delete_cmd_postfix": "",
     "delete_cmd_prefix": "del ",
     "library": "var_list.py",
     "varRefreshCmd": "print(var_dic_list())"
    },
    "r": {
     "delete_cmd_postfix": ") ",
     "delete_cmd_prefix": "rm(",
     "library": "var_list.r",
     "varRefreshCmd": "cat(var_dic_list()) "
    }
   },
   "types_to_exclude": [
    "module",
    "function",
    "builtin_function_or_method",
    "instance",
    "_Feature"
   ],
   "window_display": false
  }
 },
 "nbformat": 4,
 "nbformat_minor": 4
}
