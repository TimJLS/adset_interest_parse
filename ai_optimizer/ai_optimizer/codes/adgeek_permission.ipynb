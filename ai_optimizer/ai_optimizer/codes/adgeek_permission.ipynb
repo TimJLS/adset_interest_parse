{
 "cells": [
  {
   "cell_type": "code",
   "execution_count": 1,
   "metadata": {},
   "outputs": [],
   "source": [
    "###FB\n",
    "ADGEEK_FACEBOOK_API_ID = '958842090856883'\n",
    "ADGEEK_FACEBOOK_APP_SECRET = 'a952f55afca38572cea2994d440d674b'\n",
    "ADGEEK_FACEBOOK_ACCESS_TOKEN = 'EAANoD9I4obMBACygIE9jqmlaWeOW6tBma0oS6JbRpLgAvOYXpVi2XcXuasuwbBgqmaZBj5cP8MHE5WY2l9tAoi549eGZCP61mKr9BA8rZA6kxEW4ovX3KlbbrRGgt4RZC8MAi1UG0l0ZBUd0UBAhIPhzkZBi46ncuyCwkYPB7a6voVBZBTbEZAwH3azZA3Ph6g7aCOfxZCdDOp4AZDZD'\n",
    "#ADGEEK_FACEBOOK_ACCESS_TOKEN = 'EAANoD9I4obMBALrHTgMWgRujnWcZA3ZB823phs6ynDDtQxnzIZASyRQZCHfr5soXBZA7NM9Dc4j9O8FtnlIzxiPCsYt4tmPQ6ZAT3yJLPuYQqjnWZBWX5dsOVzNhEqsHYj1jVJ3RAVVueW7RSxRDbNXKvK3W23dcAjNMjxIjQGIOgZDZD'\n",
    "\n",
    "ACCOUNT_API_URL = 'http://mpc.adgeek.net/v2/accounts/'\n",
    "ACCOUNT_TOEKN_API_URL = 'http://mpc.adgeek.net/v2/credentials/'\n",
    "\n",
    "from facebook_business.api import FacebookAdsApi\n",
    "\n",
    "def init_facebook_api(account_id = None):\n",
    "    if not account_id:\n",
    "        FacebookAdsApi.init(ADGEEK_FACEBOOK_API_ID, ADGEEK_FACEBOOK_APP_SECRET, ADGEEK_FACEBOOK_ACCESS_TOKEN)\n",
    "        return\n",
    "    \n",
    "    try:\n",
    "        query_id = get_queryid_by_accountid(account_id)\n",
    "        credential_id, credential_secret, credential_token = get_media_token_by_queryid(query_id)\n",
    "        FacebookAdsApi.init(credential_id, credential_secret, credential_token)\n",
    "\n",
    "    except:\n",
    "        FacebookAdsApi.init(ADGEEK_FACEBOOK_API_ID, ADGEEK_FACEBOOK_APP_SECRET, ADGEEK_FACEBOOK_ACCESS_TOKEN)\n",
    "\n",
    "##############################################################################\n",
    "\n",
    "###GOOGLE\n",
    "from googleads import adwords\n",
    "AUTH_FILE_PATH = '/home/tim_su/ai_optimizer/opt/ai_optimizer/googleads.yaml'\n",
    "adwords_client = adwords.AdWordsClient.LoadFromStorage(AUTH_FILE_PATH)\n",
    "\n",
    "def init_google_api():\n",
    "    return adwords_client"
   ]
  },
  {
   "cell_type": "code",
   "execution_count": 2,
   "metadata": {},
   "outputs": [],
   "source": [
    "import requests\n",
    "import json \n",
    "\n",
    "def get_queryid_by_accountid(account_id):\n",
    "#     print('[get_token_by_accountid] account_id:', account_id )\n",
    "    \n",
    "    my_params = {'filter[account_id]': account_id}\n",
    "    r = requests.get(ACCOUNT_API_URL, params = my_params)\n",
    "\n",
    "    if r.status_code == requests.codes.ok:\n",
    "        content = json.loads(r.text)\n",
    "#         print('[get_token_by_accountid] content:', content )\n",
    "        \n",
    "        data = content.get('_data')\n",
    "#         print('[get_token_by_accountid] data:', data )\n",
    "        \n",
    "        if len(data) > 0:\n",
    "            first_data = data[0]\n",
    "#             print('first_data', first_data)\n",
    "            query_id = first_data.get('credential_id')\n",
    "#             print('[get_token_by_accountid] query_id:', query_id )\n",
    "            return query_id\n",
    "\n",
    "def get_media_token_by_queryid(query_id):\n",
    "    request_url = ACCOUNT_TOEKN_API_URL + str(query_id)\n",
    "#     print('[get_media_token_by_queryid] request_url:', request_url )\n",
    "    \n",
    "    r = requests.get(request_url)\n",
    "    if r.status_code == requests.codes.ok:\n",
    "        content = json.loads(r.text)    \n",
    "#         print('[get_media_token_by_queryid] content:', content )\n",
    "        credential_id = content.get('credential_id')\n",
    "        credential_secret = content.get('credential_secret')\n",
    "        credential_token = content.get('credential_token')\n",
    "#         print('[get_media_token_by_queryid] credential_id:', credential_id, ' credential_secret', credential_secret, ' credential_token', credential_token )\n",
    "        return credential_id, credential_secret, credential_token\n",
    "        "
   ]
  },
  {
   "cell_type": "code",
   "execution_count": 3,
   "metadata": {},
   "outputs": [
    {
     "name": "stdout",
     "output_type": "stream",
     "text": [
      "[get_token_by_accountid] account_id: 350498128813378\n",
      "first_data {'id': 1261, 'media': 'facebook', 'account_id': '350498128813378', 'name': 'Acer', 'credential_id': 35, 'services': 'mpc,bb'}\n",
      "[get_token_by_accountid] query_id: 35\n",
      "[get_media_token_by_queryid] credential_id: 958842090856883  credential_secret a952f55afca38572cea2994d440d674b  credential_token EAANoD9I4obMBAI8tcZCcpYhKMXKMyijNvOgMZA4I2BDRoVZAxPVAcYZAZBrZBwZAnb0Y2xvgSEG4OqtxVuD9dwMP8b9xB75PQsUlzvTe7m8RSnZCxvDzQ4InV4wBk7d1zMTJ56uTPkF3kuPc6qi0jE5GlpUl6SUZBXXYO0uAGmzN3eQZDZD\n"
     ]
    }
   ],
   "source": [
    "if __name__=='__main__':\n",
    "    init_facebook_api(350498128813378)"
   ]
  },
  {
   "cell_type": "code",
   "execution_count": null,
   "metadata": {},
   "outputs": [],
   "source": []
  }
 ],
 "metadata": {
  "kernelspec": {
   "display_name": "Python 3",
   "language": "python",
   "name": "python3"
  },
  "language_info": {
   "codemirror_mode": {
    "name": "ipython",
    "version": 3
   },
   "file_extension": ".py",
   "mimetype": "text/x-python",
   "name": "python",
   "nbconvert_exporter": "python",
   "pygments_lexer": "ipython3",
   "version": "3.6.7"
  },
  "varInspector": {
   "cols": {
    "lenName": 16,
    "lenType": 16,
    "lenVar": 40
   },
   "kernels_config": {
    "python": {
     "delete_cmd_postfix": "",
     "delete_cmd_prefix": "del ",
     "library": "var_list.py",
     "varRefreshCmd": "print(var_dic_list())"
    },
    "r": {
     "delete_cmd_postfix": ") ",
     "delete_cmd_prefix": "rm(",
     "library": "var_list.r",
     "varRefreshCmd": "cat(var_dic_list()) "
    }
   },
   "types_to_exclude": [
    "module",
    "function",
    "builtin_function_or_method",
    "instance",
    "_Feature"
   ],
   "window_display": false
  }
 },
 "nbformat": 4,
 "nbformat_minor": 4
}
