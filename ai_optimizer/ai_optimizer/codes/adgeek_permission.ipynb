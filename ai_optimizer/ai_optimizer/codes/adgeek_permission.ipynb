{
 "cells": [
  {
   "cell_type": "code",
   "execution_count": null,
   "metadata": {},
   "outputs": [],
   "source": [
    "###FB\n",
    "ADGEEK_FACEBOOK_API_ID = '958842090856883'\n",
    "ADGEEK_FACEBOOK_APP_SECRET = 'a952f55afca38572cea2994d440d674b'\n",
    "ADGEEK_FACEBOOK_ACCESS_TOKEN = 'EAANoD9I4obMBACygIE9jqmlaWeOW6tBma0oS6JbRpLgAvOYXpVi2XcXuasuwbBgqmaZBj5cP8MHE5WY2l9tAoi549eGZCP61mKr9BA8rZA6kxEW4ovX3KlbbrRGgt4RZC8MAi1UG0l0ZBUd0UBAhIPhzkZBi46ncuyCwkYPB7a6voVBZBTbEZAwH3azZA3Ph6g7aCOfxZCdDOp4AZDZD'\n",
    "#ADGEEK_FACEBOOK_ACCESS_TOKEN = 'EAANoD9I4obMBALrHTgMWgRujnWcZA3ZB823phs6ynDDtQxnzIZASyRQZCHfr5soXBZA7NM9Dc4j9O8FtnlIzxiPCsYt4tmPQ6ZAT3yJLPuYQqjnWZBWX5dsOVzNhEqsHYj1jVJ3RAVVueW7RSxRDbNXKvK3W23dcAjNMjxIjQGIOgZDZD'\n",
    "\n",
    "ACCOUNT_API_URL = 'https://mpc.adgeek.net/v2/accounts/'\n",
    "ACCOUNT_TOEKN_API_URL = 'https://mpc.adgeek.net/v2/credentials/'\n",
    "FACEBOOK_API_VERSION = \"v4.0\"\n",
    "FACEBOOK_API_VERSION_URL = 'https://graph.facebook.com/{}/'.format(FACEBOOK_API_VERSION)\n",
    "\n",
    "from facebook_business.session import FacebookSession\n",
    "from facebook_business.api import FacebookAdsApi\n",
    "\n",
    "def init_facebook_api(account_id = None):\n",
    "    if not account_id:\n",
    "        session = FacebookSession()\n",
    "#         FacebookAdsApi(session, api_version=\"latest\")\n",
    "        FacebookAdsApi(session).init(ADGEEK_FACEBOOK_API_ID, ADGEEK_FACEBOOK_APP_SECRET, ADGEEK_FACEBOOK_ACCESS_TOKEN, api_version=FACEBOOK_API_VERSION)\n",
    "        return ADGEEK_FACEBOOK_ACCESS_TOKEN\n",
    "    \n",
    "    try:\n",
    "        query_id = get_queryid_by_accountid(account_id)\n",
    "        token_dic = get_media_token_by_queryid(query_id)\n",
    "        credential_id = token_dic['credential_id']\n",
    "        credential_secret = token_dic['credential_secret']\n",
    "        credential_token  = token_dic['credential_token']\n",
    "        session = FacebookSession()\n",
    "#         FacebookAdsApi(session, api_version=\"latest\")\n",
    "        \n",
    "        FacebookAdsApi(session).init(credential_id, credential_secret, credential_token, api_version=FACEBOOK_API_VERSION)\n",
    "        return credential_token\n",
    "\n",
    "    except Exception as e:\n",
    "        print('[init_facebook_api] error')\n",
    "        print(e)\n",
    "        session = FacebookSession()\n",
    "#         FacebookAdsApi(session, api_version=\"latest\")\n",
    "        FacebookAdsApi(session).init(ADGEEK_FACEBOOK_API_ID, ADGEEK_FACEBOOK_APP_SECRET, ADGEEK_FACEBOOK_ACCESS_TOKEN, api_version=FACEBOOK_API_VERSION)\n",
    "        return ADGEEK_FACEBOOK_ACCESS_TOKEN\n",
    "##############################################################################\n",
    "\n",
    "###GOOGLE\n",
    "from googleads import adwords\n",
    "from googleads import oauth2\n",
    "AUTH_FILE_PATH = '/home/tim_su/ai_optimizer/opt/ai_optimizer/googleads.yaml'\n",
    "adgeek_adwords_client = adwords.AdWordsClient.LoadFromStorage(AUTH_FILE_PATH)\n",
    "\n",
    "def init_google_api(account_id = None):\n",
    "    if not account_id:\n",
    "        return adgeek_adwords_client\n",
    "    \n",
    "    try:\n",
    "        query_id = get_queryid_by_accountid(account_id)\n",
    "        token_dic = get_media_token_by_queryid(query_id)\n",
    "        credential_id = token_dic['credential_id']\n",
    "        credential_secret = token_dic['credential_secret']\n",
    "        credential_developer_token  = token_dic['credential_developer_token']\n",
    "        credential_refresh_token = token_dic['credential_refresh_token']\n",
    "        \n",
    "        oauth2_client = oauth2.GoogleRefreshTokenClient(credential_id, credential_secret, credential_refresh_token)\n",
    "        my_adwords_client = adwords.AdWordsClient(credential_developer_token, oauth2_client, client_customer_id=account_id)\n",
    "        return my_adwords_client\n",
    "\n",
    "\n",
    "    except Exception as e:\n",
    "        print('[init_google_api] error')\n",
    "        print(e)\n",
    "        return adgeek_adwords_client\n"
   ]
  },
  {
   "cell_type": "code",
   "execution_count": null,
   "metadata": {},
   "outputs": [],
   "source": [
    "import requests\n",
    "import json \n",
    "\n",
    "def get_queryid_by_accountid(account_id):\n",
    "    my_params = {'filter[account_id]': account_id}\n",
    "    r = requests.get(ACCOUNT_API_URL, params = my_params)\n",
    "    assert r.status_code == requests.codes.ok, \"unexpected status code: {0}\\n{1}\".format(r.status_code, r.text)\n",
    "    content = json.loads(r.text)\n",
    "    data = content.get('_data')\n",
    "    assert len(data) > 0, \"account data empty: {}\".format(content)\n",
    "    first_data = data[0]\n",
    "    query_id = first_data.get('credential_id')\n",
    "    return query_id\n",
    "\n",
    "def get_media_token_by_queryid(query_id):\n",
    "    request_url = ACCOUNT_TOEKN_API_URL + str(query_id)\n",
    "    r = requests.get(request_url)\n",
    "    assert r.status_code == requests.codes.ok, \"unexpected status code: {0}\\n{1}\".format(r.status_code, r.text)\n",
    "    token_dic = {}\n",
    "    content = json.loads(r.text)\n",
    "    token_dic['credential_id'] = content.get('credential_id')#F #G\n",
    "    token_dic['credential_secret'] = content.get('credential_secret')#F #G\n",
    "    token_dic['credential_token'] = content.get('credential_token')#F\n",
    "    token_dic['credential_developer_token'] = content.get('credential_developer_token')#G\n",
    "    token_dic['credential_refresh_token'] = content.get('credential_refresh_token')#G\n",
    "    token_dic['name'] = content.get('name')#G\n",
    "#     print('[get_media_token_by_queryid] token_dic', token_dic)\n",
    "    return token_dic"
   ]
  },
  {
   "cell_type": "code",
   "execution_count": null,
   "metadata": {},
   "outputs": [],
   "source": [
    "def get_access_token_by_account(account_id):\n",
    "    query_id = get_queryid_by_accountid(account_id)\n",
    "    token_dic = get_media_token_by_queryid(query_id)\n",
    "    credential_token  = token_dic['credential_token']\n",
    "    return credential_token\n",
    "    \n",
    "def get_access_name_by_account(account_id):\n",
    "    query_id = get_queryid_by_accountid(account_id)\n",
    "    token_dic = get_media_token_by_queryid(query_id)\n",
    "    credential_token  = token_dic['name']\n",
    "    return credential_token\n",
    "    "
   ]
  },
  {
   "cell_type": "code",
   "execution_count": null,
   "metadata": {},
   "outputs": [],
   "source": [
    "if __name__=='__main__':\n",
    "    init_facebook_api(341659359840575)\n",
    "#     init_google_api(6714857152)"
   ]
  },
  {
   "cell_type": "code",
   "execution_count": 1,
   "metadata": {},
   "outputs": [
    {
     "name": "stdout",
     "output_type": "stream",
     "text": [
      "[NbConvertApp] Converting notebook adgeek_permission.ipynb to script\n",
      "[NbConvertApp] Writing 5453 bytes to adgeek_permission.py\n"
     ]
    }
   ],
   "source": [
    "# !jupyter nbconvert --to script adgeek_permission.ipynb"
   ]
  },
  {
   "cell_type": "code",
   "execution_count": null,
   "metadata": {},
   "outputs": [],
   "source": []
  }
 ],
 "metadata": {
  "kernelspec": {
   "display_name": "Python 3",
   "language": "python",
   "name": "python3"
  },
  "language_info": {
   "codemirror_mode": {
    "name": "ipython",
    "version": 3
   },
   "file_extension": ".py",
   "mimetype": "text/x-python",
   "name": "python",
   "nbconvert_exporter": "python",
   "pygments_lexer": "ipython3",
   "version": "3.6.9"
  },
  "varInspector": {
   "cols": {
    "lenName": 16,
    "lenType": 16,
    "lenVar": 40
   },
   "kernels_config": {
    "python": {
     "delete_cmd_postfix": "",
     "delete_cmd_prefix": "del ",
     "library": "var_list.py",
     "varRefreshCmd": "print(var_dic_list())"
    },
    "r": {
     "delete_cmd_postfix": ") ",
     "delete_cmd_prefix": "rm(",
     "library": "var_list.r",
     "varRefreshCmd": "cat(var_dic_list()) "
    }
   },
   "types_to_exclude": [
    "module",
    "function",
    "builtin_function_or_method",
    "instance",
    "_Feature"
   ],
   "window_display": false
  }
 },
 "nbformat": 4,
 "nbformat_minor": 4
}
