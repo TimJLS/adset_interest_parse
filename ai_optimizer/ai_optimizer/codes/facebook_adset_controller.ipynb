{
 "cells": [
  {
   "cell_type": "code",
   "execution_count": 1,
   "metadata": {},
   "outputs": [],
   "source": [
    "import json\n",
    "import requests\n",
    "import time\n",
    "import pytz\n",
    "import datetime\n",
    "import math\n",
    "import random\n",
    "import pandas as pd\n",
    "from copy import deepcopy\n",
    "from facebook_business.adobjects.adset import AdSet\n",
    "from facebook_business.adobjects.targeting import Targeting\n",
    "from facebook_business.api import FacebookAdsApi\n",
    "import facebook_business.adobjects.campaign as facebook_business_campaign\n",
    "import facebook_business.adobjects.ad as facebook_business_ad\n",
    "\n",
    "from bid_operator import revert_bid_amount\n",
    "import database_controller\n",
    "import adgeek_permission as permission\n",
    "\n",
    "from facebook_datacollector import Campaigns\n",
    "from facebook_datacollector import DatePreset\n",
    "from facebook_adapter import FacebookCampaignAdapter\n",
    "import facebook_currency_handler as fb_currency_handler\n",
    "import facebook_lookalike_audience as lookalike_audience\n",
    "import facebook_campaign_suggestion as campaign_suggestion\n",
    "\n",
    "PICK_DEFAULT_COUNT = 3\n",
    "PICK_DEFAULT_AUDIENCE_SIZE = 100000\n",
    "ADSET_COPY_STRING = ' - Copy'\n",
    "AI_ADSET_PREFIX = '_AI_'\n",
    "IS_DEBUG = False #debug mode will not modify anything\n",
    "\n",
    "ACTION_DICT = {\n",
    "    'bid': AdSet.Field.bid_amount,\n",
    "    'age': AdSet.Field.targeting, \n",
    "    'interest': AdSet.Field.targeting\n",
    "}\n",
    "\n",
    "FIELDS = [\n",
    "    AdSet.Field.id,\n",
    "    AdSet.Field.account_id,\n",
    "    AdSet.Field.adlabels,\n",
    "    AdSet.Field.adset_schedule,\n",
    "    AdSet.Field.attribution_spec,\n",
    "    AdSet.Field.bid_amount,\n",
    "    AdSet.Field.bid_info,\n",
    "    AdSet.Field.bid_strategy,\n",
    "    AdSet.Field.billing_event,\n",
    "    AdSet.Field.budget_remaining,\n",
    "    AdSet.Field.campaign_id,\n",
    "    AdSet.Field.configured_status,\n",
    "    AdSet.Field.created_time,\n",
    "    AdSet.Field.creative_sequence,\n",
    "    AdSet.Field.daily_budget,\n",
    "    AdSet.Field.daily_min_spend_target,\n",
    "    AdSet.Field.daily_spend_cap,\n",
    "    AdSet.Field.destination_type,\n",
    "    AdSet.Field.effective_status,\n",
    "    AdSet.Field.end_time,\n",
    "    AdSet.Field.frequency_control_specs,\n",
    "    AdSet.Field.instagram_actor_id,\n",
    "    AdSet.Field.is_dynamic_creative,\n",
    "    AdSet.Field.issues_info,\n",
    "    AdSet.Field.lifetime_budget,\n",
    "    AdSet.Field.lifetime_imps,\n",
    "    AdSet.Field.lifetime_min_spend_target,\n",
    "    AdSet.Field.lifetime_spend_cap,\n",
    "    AdSet.Field.name,\n",
    "    AdSet.Field.optimization_goal,\n",
    "    AdSet.Field.pacing_type,\n",
    "    AdSet.Field.promoted_object,\n",
    "    AdSet.Field.recommendations,\n",
    "    AdSet.Field.recurring_budget_semantics,\n",
    "    AdSet.Field.rf_prediction_id,\n",
    "    AdSet.Field.start_time,\n",
    "    AdSet.Field.status,\n",
    "    AdSet.Field.targeting,\n",
    "    AdSet.Field.time_based_ad_rotation_id_blocks,\n",
    "    AdSet.Field.time_based_ad_rotation_intervals,\n",
    "    AdSet.Field.updated_time,\n",
    "    AdSet.Field.daily_min_spend_target,\n",
    "    #     AdSet.Field.use_new_app_click\n",
    "]"
   ]
  },
  {
   "cell_type": "code",
   "execution_count": 2,
   "metadata": {},
   "outputs": [],
   "source": [
    "def make_adset(adset_params):\n",
    "    account_id = adset_params[AdSet.Field.account_id]\n",
    "    new_adset = AdSet(parent_id='act_{}'.format(account_id))\n",
    "    new_adset.update(adset_params)\n",
    "    new_adset.remote_create(params={'status': 'ACTIVE', })\n",
    "    return new_adset[AdSet.Field.id]\n",
    "\n",
    "def retrieve_origin_adset_params(origin_adset_id):\n",
    "    origin_adset = AdSet(fbid=origin_adset_id)\n",
    "    origin_adset_params = origin_adset.remote_read(fields=FIELDS)\n",
    "    return origin_adset_params\n",
    "\n",
    "def get_ad_id_list(adset_id):\n",
    "    ad_id_list = list()\n",
    "    adset = AdSet(adset_id)\n",
    "    ads = adset.get_ads(fields=['id'])\n",
    "    for ad in ads:\n",
    "        ad_id_list.append(ad['id'])\n",
    "    return ad_id_list\n",
    "\n",
    "def get_account_id_by_adset(adset_id):\n",
    "    this_adsets = AdSet( adset_id ).remote_read(fields=[\"account_id\"])\n",
    "    account_id = this_adsets.get('account_id')\n",
    "    return account_id\n",
    "\n",
    "def get_suggestion_target_by_adset(adset_id):\n",
    "    account_id = get_account_id_by_adset(adset_id)\n",
    "    db = database_controller.Database()\n",
    "    database_fb = database_controller.FB(db)\n",
    "    \n",
    "    df_target_suggestion = database_fb.retrieve(\"account_target_suggestion\", account_id=account_id, by_request_time=False)[['suggestion_id', 'suggestion_name']]\n",
    "    database_fb.dispose()\n",
    "    if not df_target_suggestion.empty:\n",
    "        target_suggestion_list = df_target_suggestion.to_dict('records')\n",
    "        pick_index = random.randint(0, len(target_suggestion_list)-1)\n",
    "        print('[get_suggestion_target_by_adset] pick:',target_suggestion_list[pick_index])\n",
    "        target_suggestions = target_suggestion_list[pick_index]\n",
    "        return (target_suggestions['suggestion_id'], target_suggestions['suggestion_name'])\n",
    "    else:\n",
    "        return None,None"
   ]
  },
  {
   "cell_type": "code",
   "execution_count": 3,
   "metadata": {},
   "outputs": [],
   "source": [
    "def make_performance_suggest_adset(campaign_id, original_adset_id): \n",
    "    \n",
    "    saved_suggest_id_name_dic, saved_suggest_id_size_dic = campaign_suggestion.get_suggestion_not_used(campaign_id)\n",
    "    print('[make_suggest_adset] saved_suggest_id_name_dic', saved_suggest_id_name_dic, 'saved_suggest_id_size_dic', saved_suggest_id_size_dic)\n",
    "    \n",
    "    if not saved_suggest_id_name_dic:\n",
    "        print('[make_suggest_adset] saved_suggest_id_name_dic not exist')\n",
    "        return\n",
    "        \n",
    "    suggest_group_list = []    \n",
    "    suggest_name_list = []\n",
    "    # at least 3 suggention and more than 10000 audience size\n",
    "    pick_count = 0\n",
    "    pick_total_audience_size = 0\n",
    "    for suggest_id in saved_suggest_id_name_dic:\n",
    "        pick_count += 1\n",
    "        pick_total_audience_size += saved_suggest_id_size_dic.get(suggest_id)\n",
    "        \n",
    "        suggest_name = saved_suggest_id_name_dic[suggest_id]\n",
    "        suggest_name_list.append(suggest_name)\n",
    "        this_dic = {\"id\": suggest_id, \"name\": suggest_name}\n",
    "        \n",
    "        suggest_group_list.append(this_dic)\n",
    "        \n",
    "        if pick_total_audience_size >= PICK_DEFAULT_AUDIENCE_SIZE and pick_count >= PICK_DEFAULT_COUNT:\n",
    "            break\n",
    "    \n",
    "    print('[make_suggest_adset] suggest_group_list:', suggest_group_list, ' pick_total_audience_size:', pick_total_audience_size)\n",
    "    \n",
    "    new_adset_params = retrieve_origin_adset_params(original_adset_id)\n",
    "    print('[make_suggest_adset] new_adset_params', new_adset_params)\n",
    "    \n",
    "    if new_adset_params[AdSet.Field.targeting].get(\"flexible_spec\") == None:\n",
    "        print('[make_suggest_adset] no flexible_spec')\n",
    "        return\n",
    "\n",
    "    suggestion_full_name =  '__'.join(suggest_name_list)\n",
    "    new_adset_params[AdSet.Field.name] = \"AI__\" + str(datetime.datetime.now().date()) + '_' + suggestion_full_name\n",
    "    \n",
    "    if new_adset_params[AdSet.Field.targeting].get(\"custom_audiences\"): \n",
    "        print('[make_suggest_adset] remove custom_audiences when add suggestion adset')\n",
    "        del new_adset_params[AdSet.Field.targeting]['custom_audiences']\n",
    "    \n",
    "    if new_adset_params.get(\"daily_min_spend_target\"):\n",
    "        print('[make_suggest_adset] remove daily_min_spend_target when add suggestion adset')\n",
    "        del new_adset_params['daily_min_spend_target']\n",
    "    \n",
    "    if new_adset_params.get(\"daily_spend_cap\"):\n",
    "        print('[make_suggest_adset] remove daily_spend_cap when add suggestion adset')\n",
    "        del new_adset_params['daily_spend_cap']\n",
    "\n",
    "    new_adset_params[AdSet.Field.targeting][\"flexible_spec\"][0]['interests'] = suggest_group_list\n",
    "\n",
    "    print('[make_suggest_adset] new_adset_params after process',new_adset_params)\n",
    "    new_adset_params[AdSet.Field.id] = None\n",
    "    new_adset_id = copy_adset_new_target(campaign_id, new_adset_params, original_adset_id)\n",
    "    return new_adset_id\n",
    "\n",
    "\n",
    "# ##not use now , just backup\n",
    "# def make_suggest_adset_by_account_suggestion(original_adset_id): \n",
    "#     suggestion_id, suggestion_name = get_suggestion_target_by_adset(original_adset_id)\n",
    "#     if suggestion_id is None:\n",
    "#         print('[make_suggest_adset] error')\n",
    "#         return \n",
    "    \n",
    "#     print('[make_suggest_adset] pick this suggestion:',suggestion_id, suggestion_name)\n",
    "    \n",
    "#     new_adset_params = retrieve_origin_adset_params(original_adset_id)\n",
    "#     print(new_adset_params)\n",
    "#     new_adset_params[AdSet.Field.name] = suggestion_name + \"_Target_AI\"\n",
    "\n",
    "#     interest_pair = {\n",
    "#             \"interests\":[{\n",
    "#                 \"id\": suggestion_id,\n",
    "#                 \"name\": suggestion_name,\n",
    "#             }]\n",
    "#         }\n",
    "#     if new_adset_params[AdSet.Field.targeting].get(\"flexible_spec\") == None:\n",
    "#         print('[make_suggest_adset_by_account_suggestion] no flexible_spec')\n",
    "        \n",
    "#     new_adset_params[AdSet.Field.targeting][\"flexible_spec\"] = interest_pair\n",
    "\n",
    "#     print('[make_suggest_adset] new_adset_params',new_adset_params)\n",
    "#     original_adset_id = new_adset_params[AdSet.Field.id]\n",
    "#     new_adset_params[AdSet.Field.id] = None\n",
    "#     new_adset_id = copy_adset_new_target(campaign_id, new_adset_params, original_adset_id)\n",
    "#     return new_adset_id\n"
   ]
  },
  {
   "cell_type": "code",
   "execution_count": 4,
   "metadata": {},
   "outputs": [],
   "source": [
    "def ad_name_remove_copy_string(adset_id):\n",
    "    this_ad = facebook_business_ad.Ad(adset_id).remote_read(fields=[\"name\"])\n",
    "    this_ad_name = this_ad.get('name')\n",
    "    index = this_ad_name.find(ADSET_COPY_STRING)\n",
    "    if index > -1:\n",
    "        remove_copy_name = this_ad_name[:index]\n",
    "        this_ad.remote_update(\n",
    "            params={'name': remove_copy_name, }\n",
    "        )\n",
    "\n",
    "def assign_copied_ad_to_new_adset(campaign_id, new_adset_id=None, ad_id=None):\n",
    "    #need permission first\n",
    "    account_id = get_account_id_by_adset(new_adset_id)\n",
    "    my_access_token = permission.get_access_token_by_account(account_id)\n",
    "    url = permission.FACEBOOK_API_VERSION_URL + str(ad_id) + '/copies'\n",
    "    \n",
    "    querystring = {\n",
    "        \"adset_id\": \"{}\".format(new_adset_id),\n",
    "        \"status_option\": \"INHERITED_FROM_SOURCE\"}\n",
    "    headers = {\n",
    "        'Authorization': \"Bearer {}\".format(my_access_token), }\n",
    "    response = requests.request(\n",
    "        \"POST\", url, headers=headers, params=querystring)\n",
    "    return response.text\n",
    "\n",
    "\n",
    "def copy_adset_new_target(campaign_id, new_adset_params, original_adset_id):\n",
    "    new_adset_id = -1\n",
    "    try:\n",
    "        new_adset_id = make_adset(new_adset_params)\n",
    "        print('[copy_adset_new_target] make_adset success, campaign_id:' ,campaign_id, ' original_adset_id', original_adset_id, ' new_adset_id', new_adset_id)\n",
    "        time.sleep(10)\n",
    "        ad_id_list = get_ad_id_list(original_adset_id)\n",
    "        print('ad_id_list', ad_id_list)\n",
    "\n",
    "        for ad_id in ad_id_list:\n",
    "            result_message = assign_copied_ad_to_new_adset(campaign_id, new_adset_id=new_adset_id, ad_id=ad_id)\n",
    "            print('[copy_adset_new_target] result_message', result_message)\n",
    "            if 'copied_ad_id' in result_message:\n",
    "                copied_ad_id = json.loads(result_message).get('copied_ad_id')\n",
    "                ad_name_remove_copy_string(copied_ad_id)\n",
    "\n",
    "        return new_adset_id\n",
    "            \n",
    "    except Exception as error:\n",
    "        print('[copy_adset_new_target] this adset is not existed anymore, error:', error)\n"
   ]
  },
  {
   "cell_type": "code",
   "execution_count": 5,
   "metadata": {},
   "outputs": [],
   "source": [
    "\n",
    "def copy_branding_adset(campaign_id, adset_id, actions, adset_params=None):\n",
    "    print('[copy_branding_adset] adset_params', adset_params)\n",
    "    new_adset_params = adset_params\n",
    "    origin_adset_name = adset_params[AdSet.Field.name]\n",
    "    original_adset_id = adset_id\n",
    "    new_adset_params[AdSet.Field.id] = None\n",
    "    \n",
    "    # Generate new adset name\n",
    "    new_adset_name = ''\n",
    "    index = origin_adset_name.find(AI_ADSET_PREFIX)\n",
    "    if index > 0:\n",
    "        new_adset_name = origin_adset_name[:index]  + AI_ADSET_PREFIX + str(datetime.datetime.now().date()) \n",
    "    else:\n",
    "        new_adset_name = origin_adset_name + AI_ADSET_PREFIX + str(datetime.datetime.now().date())\n",
    "    \n",
    "    for i, action in enumerate(actions.keys()):\n",
    "        if action == 'bid':\n",
    "            new_adset_params[ACTION_DICT[action]] = math.floor( revert_bid_amount(actions[action]) )  # for bid\n",
    "\n",
    "        elif action == 'age':\n",
    "            age_list = actions[action][0].split('-')\n",
    "            new_adset_params[AdSet.Field.targeting][\"age_min\"] = int(\n",
    "                age_list[:1][0])\n",
    "            new_adset_params[AdSet.Field.targeting][\"age_max\"] = int(\n",
    "                age_list[1:][0])\n",
    "            new_adset_params[AdSet.Field.name] = new_adset_name\n",
    "\n",
    "#         elif action == 'interest':\n",
    "# #             if actions[action] is None:\n",
    "# #                 new_adset_params[AdSet.Field.targeting][\"flexible_spec\"] = None\n",
    "# #             else:\n",
    "#             new_adset_params[AdSet.Field.targeting][\"flexible_spec\"] = {\n",
    "#                     \"interests\": [actions[action]]}\n",
    "    \n",
    "    new_adset_id = copy_adset_new_target(campaign_id, new_adset_params, original_adset_id)\n",
    "    return new_adset_id\n",
    "            "
   ]
  },
  {
   "cell_type": "code",
   "execution_count": 16,
   "metadata": {},
   "outputs": [],
   "source": [
    "def make_performance_lookalike_adset(campaign_id, adsets_active_list):\n",
    "    original_adset_id = adsets_active_list[0]\n",
    "    new_adset_params = retrieve_origin_adset_params(original_adset_id)\n",
    "    new_adset_params.pop(\"id\")\n",
    "    ad_id_list = get_ad_id_list(original_adset_id)\n",
    "\n",
    "    targeting = new_adset_params[\"targeting\"]\n",
    "    targeting.pop(\"flexible_spec\", None)\n",
    "\n",
    "    lookalike_audience_dict = lookalike_audience.get_lookalike_audience_id(campaign_id)\n",
    "    print('[make_performance_lookalike_adset] lookalike_audience_dict:', lookalike_audience_dict)\n",
    "    if not lookalike_audience_dict:\n",
    "        print('[make_lookalike_adset]: lookalike_audience_dict None')\n",
    "        return\n",
    "    if not any(lookalike_audience_dict):\n",
    "        print('[make_lookalike_adset]: all lookalike is in adset.')\n",
    "        return\n",
    "    \n",
    "    # Pick first lookalike audience\n",
    "\n",
    "    lookalike_audience_id = list(lookalike_audience_dict.values())[0]\n",
    "    targeting[\"custom_audiences\"] = [{\"id\": lookalike_audience_id}]\n",
    "    new_adset_params[\"name\"] = \"AI__\" + \"Look-a-like Custom {}\".format(list(lookalike_audience_dict.keys())[0])\n",
    "    print('==================')\n",
    "    print('new_adset_params:', new_adset_params)\n",
    "    \n",
    "    new_adset_id = copy_adset_new_target(campaign_id, new_adset_params, original_adset_id)\n",
    "    if new_adset_id:\n",
    "        lookalike_audience.modify_result_db(campaign_id, lookalike_audience_id, \"True\")\n",
    "    return new_adset_id\n",
    "    "
   ]
  },
  {
   "cell_type": "code",
   "execution_count": 7,
   "metadata": {
    "collapsed": true,
    "jupyter": {
     "outputs_hidden": true
    }
   },
   "outputs": [
    {
     "name": "stderr",
     "output_type": "stream",
     "text": [
      "WARNING:root:`remote_read` is being deprecated, please update your code with new function.\n"
     ]
    },
    {
     "name": "stdout",
     "output_type": "stream",
     "text": [
      "[get_media_token_by_queryid] token_dic {'credential_id': '958842090856883', 'credential_secret': 'a952f55afca38572cea2994d440d674b', 'credential_token': 'EAANoD9I4obMBAH8xjIhGjHc9DmLDeBDTauvkO3tk5x05v1E3G72Qp33aP4gLkE3IZBUDyCMkqCLLPS6DKk8mUJLcsncIrjveFLZCKUseqU7Qy2iIeEq0Dx8DgZAuRwhUNFkKHtmU8McAAWbWMNi2hiWZAbZAXDAyTCd1xXHUJmQZDZD', 'credential_developer_token': None, 'credential_refresh_token': None, 'name': 'AntMan Facebook Credential'}\n",
      "[process_campaign_suggestion] campaign_id: 23842880697850266\n"
     ]
    },
    {
     "name": "stderr",
     "output_type": "stream",
     "text": [
      "WARNING:root:`remote_read` is being deprecated, please update your code with new function.\n",
      "WARNING:root:`remote_read` is being deprecated, please update your code with new function.\n",
      "WARNING:root:`remote_read` is being deprecated, please update your code with new function.\n",
      "WARNING:root:`remote_read` is being deprecated, please update your code with new function.\n",
      "WARNING:root:`remote_read` is being deprecated, please update your code with new function.\n",
      "WARNING:root:`remote_read` is being deprecated, please update your code with new function.\n",
      "WARNING:root:`remote_read` is being deprecated, please update your code with new function.\n",
      "WARNING:root:`remote_read` is being deprecated, please update your code with new function.\n"
     ]
    },
    {
     "name": "stdout",
     "output_type": "stream",
     "text": [
      "[process_campaign_suggestion] adset_id: 23843455138150266 adset_name: Looklike_Viewcontent\n"
     ]
    },
    {
     "name": "stderr",
     "output_type": "stream",
     "text": [
      "WARNING:root:`remote_read` is being deprecated, please update your code with new function.\n",
      "WARNING:root:`remote_read` is being deprecated, please update your code with new function.\n"
     ]
    },
    {
     "name": "stdout",
     "output_type": "stream",
     "text": [
      "[process_campaign_suggestion] this_adset_interest_id_name_list: None\n",
      "[process_campaign_suggestion] adset_id: 23843323572470266 adset_name: software_aud_all\n",
      "[process_campaign_suggestion] this_adset_interest_id_name_list: [{'id': '6003215957745', 'name': 'Application software'}, {'id': '6003337257243', 'name': 'Graphics software'}, {'id': '6003485230031', 'name': 'Enterprise software'}]\n",
      "[process_campaign_suggestion] this_suggest_set: {'6003215957745', '6003387381404', '6003496364586', '6003381694577', '6018375478548', '6003124615858', '6017268931255'}\n",
      "[process_campaign_suggestion] this_suggest_set: {'6003337257243', '6003175303902'}\n"
     ]
    },
    {
     "name": "stderr",
     "output_type": "stream",
     "text": [
      "WARNING:root:`remote_read` is being deprecated, please update your code with new function.\n"
     ]
    },
    {
     "name": "stdout",
     "output_type": "stream",
     "text": [
      "[process_campaign_suggestion] this_suggest_set: {'6003485230031'}\n",
      "===========\n"
     ]
    },
    {
     "name": "stderr",
     "output_type": "stream",
     "text": [
      "WARNING:root:`remote_read` is being deprecated, please update your code with new function.\n"
     ]
    },
    {
     "name": "stdout",
     "output_type": "stream",
     "text": [
      "[process_campaign_suggestion] adset_id: 23843323572450266 adset_name: travel_aud_all\n",
      "[process_campaign_suggestion] this_adset_interest_id_name_list: [{'id': '6003178322166', 'name': 'Travel agency'}, {'id': '6003211401886', 'name': 'Air travel'}, {'id': '6003376937196', 'name': 'Airline'}, {'id': '6004160395895', 'name': 'Travel'}]\n",
      "[process_campaign_suggestion] this_suggest_set: {'6003178322166'}\n",
      "[process_campaign_suggestion] this_suggest_set: {'6003211401886', '6003337316157', '437955453031937'}\n",
      "[process_campaign_suggestion] this_suggest_set: {'6003338095497', '6003051251016', '6003259135709', '6003138380976', '6003376937196', '6003507473464', '6003144197566', '6003341110223'}\n"
     ]
    },
    {
     "name": "stderr",
     "output_type": "stream",
     "text": [
      "WARNING:root:`remote_read` is being deprecated, please update your code with new function.\n",
      "WARNING:root:`remote_read` is being deprecated, please update your code with new function.\n"
     ]
    },
    {
     "name": "stdout",
     "output_type": "stream",
     "text": [
      "[process_campaign_suggestion] this_suggest_set: {'6003714264753', '6003121064322', '6003136399408', '6003178322166', '6003211401886', '6003076027139', '6002868021822', '6004160395895'}\n",
      "===========\n",
      "[process_campaign_suggestion] adset_id: 23843323572440266 adset_name: gift_aud_all\n",
      "[process_campaign_suggestion] this_adset_interest_id_name_list: [{'id': '6003019539929', 'name': 'Gift'}, {'id': '6003106645378', 'name': 'Gift shop'}]\n",
      "[process_campaign_suggestion] this_suggest_set: {'6002962884972', '6003106645378', '6003019539929', '6003344138028', '6013669486701', '6003102618434', '6003195818298', '6003170720734'}\n"
     ]
    },
    {
     "name": "stderr",
     "output_type": "stream",
     "text": [
      "WARNING:root:`remote_read` is being deprecated, please update your code with new function.\n",
      "WARNING:root:`remote_read` is being deprecated, please update your code with new function.\n"
     ]
    },
    {
     "name": "stdout",
     "output_type": "stream",
     "text": [
      "[process_campaign_suggestion] this_suggest_set: {'6003106645378', '6003230134588'}\n",
      "===========\n",
      "[process_campaign_suggestion] adset_id: 23842933440410266 adset_name: photographer_aud_all\n",
      "[process_campaign_suggestion] this_adset_interest_id_name_list: [{'id': '6003109198633', 'name': 'Digital photography'}, {'id': '6003120113217', 'name': 'Stock photography'}, {'id': '6003157840484', 'name': 'Nature photography'}, {'id': '6003347574074', 'name': 'Portrait photography'}, {'id': '6003349071605', 'name': 'Wedding photography'}, {'id': '6003382409954', 'name': 'Landscape photography'}, {'id': '6003651840878', 'name': 'Professional Photographer'}, {'id': '6003698639713', 'name': 'Amateur Photographer'}, {'id': '6003714264753', 'name': 'Travel photography'}, {'id': '6003899195666', 'name': 'Photography'}, {'id': '6004180279295', 'name': 'Photographer'}, {'id': '6005415768752', 'name': 'Outdoor Photographer'}]\n",
      "[process_campaign_suggestion] this_suggest_set: {'6011884397154', '6003068049715', '6003179537214', '6003109198633'}\n",
      "[process_campaign_suggestion] this_suggest_set: {'6003120113217'}\n",
      "[process_campaign_suggestion] this_suggest_set: {'6013240172451', '6003061370681', '6003270586423', '6003157840484', '6003718347916', '6014875143544'}\n",
      "[process_campaign_suggestion] this_suggest_set: {'6003347574074'}\n",
      "[process_campaign_suggestion] this_suggest_set: {'6003364711251', '6003349071605', '6003590268038'}\n",
      "[process_campaign_suggestion] this_suggest_set: {'6013235860343', '6003382409954', '6014240593527', '6013240172451'}\n",
      "[process_campaign_suggestion] this_suggest_set: {'6003651840878', '6003453077186', '6003280467799', '6003301004021'}\n",
      "[process_campaign_suggestion] this_suggest_set: {'6003698639713'}\n",
      "[process_campaign_suggestion] this_suggest_set: {'6013240172451', '6016176927771', '6003714264753'}\n",
      "[process_campaign_suggestion] this_suggest_set: {'6003347574074', '6003899195666', '6003382409954', '6003714264753', '6003349071605', '6003435496770', '6003109198633', '6003157840484'}\n",
      "[process_campaign_suggestion] this_suggest_set: {'6004180279295', '949200595176466', '6013444391825', '6003302309628', '6005415768752', '6003453077186', '6004157901789'}\n"
     ]
    },
    {
     "name": "stderr",
     "output_type": "stream",
     "text": [
      "WARNING:root:`remote_read` is being deprecated, please update your code with new function.\n"
     ]
    },
    {
     "name": "stdout",
     "output_type": "stream",
     "text": [
      "[process_campaign_suggestion] this_suggest_set: {'6005415768752', '6003190229613'}\n",
      "===========\n"
     ]
    },
    {
     "name": "stderr",
     "output_type": "stream",
     "text": [
      "WARNING:root:`remote_read` is being deprecated, please update your code with new function.\n"
     ]
    },
    {
     "name": "stdout",
     "output_type": "stream",
     "text": [
      "[process_campaign_suggestion] adset_id: 23842933432700266 adset_name: smb_aud_all\n",
      "[process_campaign_suggestion] this_adset_interest_id_name_list: [{'id': '6003371567474', 'name': 'Entrepreneurship'}]\n"
     ]
    },
    {
     "name": "stderr",
     "output_type": "stream",
     "text": [
      "WARNING:root:`remote_read` is being deprecated, please update your code with new function.\n"
     ]
    },
    {
     "name": "stdout",
     "output_type": "stream",
     "text": [
      "[process_campaign_suggestion] this_suggest_set: {'6003102820440', '6003221747467', '6003371567474', '6003450939975', '6003160465208', '6003396973683'}\n",
      "===========\n",
      "[process_campaign_suggestion] adset_id: 23842933332240266 adset_name: fbpageadmin_aud_all\n"
     ]
    },
    {
     "name": "stderr",
     "output_type": "stream",
     "text": [
      "WARNING:root:`remote_read` is being deprecated, please update your code with new function.\n",
      "WARNING:root:`remote_read` is being deprecated, please update your code with new function.\n"
     ]
    },
    {
     "name": "stdout",
     "output_type": "stream",
     "text": [
      "[process_campaign_suggestion] this_adset_interest_id_name_list: None\n"
     ]
    },
    {
     "name": "stderr",
     "output_type": "stream",
     "text": [
      "WARNING:root:`remote_read` is being deprecated, please update your code with new function.\n"
     ]
    },
    {
     "name": "stdout",
     "output_type": "stream",
     "text": [
      "[process_campaign_suggestion] adset_id: 23842933306500266 adset_name: designer_aud_all\n",
      "[process_campaign_suggestion] this_adset_interest_id_name_list: [{'id': '6002992568994', 'name': 'Chief creative officer'}, {'id': '6003096002658', 'name': 'Graphic design'}, {'id': '6003207621812', 'name': 'Graphic designer'}, {'id': '6003335603557', 'name': 'Logo'}, {'id': '6003375718196', 'name': 'Designer'}, {'id': '6003402518839', 'name': 'Web design'}, {'id': '6003717873546', 'name': 'Creative director'}]\n",
      "[process_campaign_suggestion] this_suggest_set: {'6002992568994'}\n",
      "[process_campaign_suggestion] this_suggest_set: {'6003604819420', '6003096002658', '6003207621812', '6003187915950', '6004164799306', '6003179247614'}\n",
      "[process_campaign_suggestion] this_suggest_set: {'6003604819420', '6003096002658', '6003207621812', '6003594701273', '6003174494435'}\n",
      "[process_campaign_suggestion] this_suggest_set: {'6017814238531', '6003326096341', '6003201741978', '6003811620878', '6003335603557'}\n",
      "[process_campaign_suggestion] this_suggest_set: {'6003399961396', '6003739371891', '6003207621812', '6003137724176', '6003162463990', '6003375718196', '6003234741447', '6003351948043'}\n",
      "[process_campaign_suggestion] this_suggest_set: {'6003495189827', '6003143609526', '6003402518839', '6003329094837', '6003455137731', '6009178397915'}\n"
     ]
    },
    {
     "name": "stderr",
     "output_type": "stream",
     "text": [
      "WARNING:root:`remote_read` is being deprecated, please update your code with new function.\n"
     ]
    },
    {
     "name": "stdout",
     "output_type": "stream",
     "text": [
      "[process_campaign_suggestion] this_suggest_set: {'6004160705506', '6003717873546'}\n",
      "===========\n"
     ]
    },
    {
     "name": "stderr",
     "output_type": "stream",
     "text": [
      "WARNING:root:`remote_read` is being deprecated, please update your code with new function.\n"
     ]
    },
    {
     "name": "stdout",
     "output_type": "stream",
     "text": [
      "[process_campaign_suggestion] adset_id: 23842932542740266 adset_name: marketing_aud_all\n",
      "[process_campaign_suggestion] this_adset_interest_id_name_list: [{'id': '6003030259785', 'name': 'Search engine marketing'}, {'id': '6003031657055', 'name': 'Content marketing'}, {'id': '6003076016339', 'name': 'Email marketing'}, {'id': '6003127206524', 'name': 'Digital marketing'}, {'id': '6003157558030', 'name': 'Multi-level marketing'}, {'id': '6003217114776', 'name': 'Marketing buzz'}, {'id': '6003279598823', 'name': 'Marketing'}, {'id': '6003346586981', 'name': 'Marketing strategy'}, {'id': '6003389760112', 'name': 'Social media marketing'}, {'id': '6003403706343', 'name': 'Promotion (marketing)'}, {'id': '6003426926112', 'name': 'Direct marketing'}, {'id': '6003454920344', 'name': 'Viral marketing'}, {'id': '6003488208457', 'name': 'Influencer marketing'}, {'id': '6003713996153', 'name': 'Affiliate marketing'}]\n",
      "[process_campaign_suggestion] this_suggest_set: {'6003030259785'}\n",
      "[process_campaign_suggestion] this_suggest_set: {'6003031657055'}\n",
      "[process_campaign_suggestion] this_suggest_set: {'6006831589651', '6003076016339'}\n",
      "[process_campaign_suggestion] this_suggest_set: {'6014328142718', '6015101920697', '6003485781469', '6004048686696', '6003127206524'}\n",
      "[process_campaign_suggestion] this_suggest_set: {'6003157558030', '6003252159601'}\n",
      "[process_campaign_suggestion] this_suggest_set: {'6003653727638', '6003217114776'}\n",
      "[process_campaign_suggestion] this_suggest_set: {'6003454920344', '6003389760112', '6003403706343', '6003050475444', '6003279598823', '6003127206524', '6003217114776', '6003157558030'}\n",
      "[process_campaign_suggestion] this_suggest_set: {'6003452365456', '6003346586981'}\n",
      "[process_campaign_suggestion] this_suggest_set: {'6003389760112', '6003115171934'}\n",
      "[process_campaign_suggestion] this_suggest_set: {'6003403706343'}\n",
      "[process_campaign_suggestion] this_suggest_set: {'6003426926112'}\n",
      "[process_campaign_suggestion] this_suggest_set: {'6003454920344'}\n",
      "[process_campaign_suggestion] this_suggest_set: {'6003488208457'}\n"
     ]
    },
    {
     "name": "stderr",
     "output_type": "stream",
     "text": [
      "WARNING:root:`remote_read` is being deprecated, please update your code with new function.\n",
      "WARNING:root:`remote_read` is being deprecated, please update your code with new function.\n"
     ]
    },
    {
     "name": "stdout",
     "output_type": "stream",
     "text": [
      "[process_campaign_suggestion] this_suggest_set: {'6003713996153'}\n",
      "===========\n",
      "[process_campaign_suggestion] adset_id: 23842932519570266 adset_name: lalfootage_lookalike_all\n"
     ]
    },
    {
     "name": "stderr",
     "output_type": "stream",
     "text": [
      "WARNING:root:`remote_read` is being deprecated, please update your code with new function.\n",
      "WARNING:root:`remote_read` is being deprecated, please update your code with new function.\n"
     ]
    },
    {
     "name": "stdout",
     "output_type": "stream",
     "text": [
      "[process_campaign_suggestion] this_adset_interest_id_name_list: None\n",
      "[process_campaign_suggestion] adset_id: 23842880700910266 adset_name: downloadnsubscribe90d_list_all\n"
     ]
    },
    {
     "name": "stderr",
     "output_type": "stream",
     "text": [
      "WARNING:root:`remote_read` is being deprecated, please update your code with new function.\n",
      "WARNING:root:`remote_read` is being deprecated, please update your code with new function.\n"
     ]
    },
    {
     "name": "stdout",
     "output_type": "stream",
     "text": [
      "[process_campaign_suggestion] this_adset_interest_id_name_list: None\n",
      "[process_campaign_suggestion] adset_id: 23842880700900266 adset_name: lalfbanconv_lookalike_all\n"
     ]
    },
    {
     "name": "stderr",
     "output_type": "stream",
     "text": [
      "WARNING:root:`remote_read` is being deprecated, please update your code with new function.\n",
      "WARNING:root:`remote_read` is being deprecated, please update your code with new function.\n"
     ]
    },
    {
     "name": "stdout",
     "output_type": "stream",
     "text": [
      "[process_campaign_suggestion] this_adset_interest_id_name_list: None\n",
      "[process_campaign_suggestion] adset_id: 23842880700890266 adset_name: search90d_list_all\n"
     ]
    },
    {
     "name": "stderr",
     "output_type": "stream",
     "text": [
      "WARNING:root:`remote_read` is being deprecated, please update your code with new function.\n"
     ]
    },
    {
     "name": "stdout",
     "output_type": "stream",
     "text": [
      "[process_campaign_suggestion] this_adset_interest_id_name_list: None\n"
     ]
    },
    {
     "name": "stderr",
     "output_type": "stream",
     "text": [
      "WARNING:root:`remote_read` is being deprecated, please update your code with new function.\n"
     ]
    },
    {
     "name": "stdout",
     "output_type": "stream",
     "text": [
      "[process_campaign_suggestion] adset_id: 23842880700830266 adset_name: fbancollections90d_list_all\n",
      "[process_campaign_suggestion] this_adset_interest_id_name_list: None\n",
      "--\n",
      "[get_suggestion_not_used] saved_suggest_id_name_dic total len: 165\n",
      "{6002868021822: 'Adventure travel', 6002962884972: 'giFT', 6002966718646: 'Adobe Premiere Pro', 6002982861646: 'film video editing or film video editor', 6002992568994: 'Chief creative officer', 6002998003644: 'Video hosting service', 6003019539929: 'Gift', 6003029993985: 'Video game publisher', 6003030259785: 'Search engine marketing', 6003031657055: 'Content marketing', 6003050475444: 'Marketing communications', 6003051251016: 'Turkish Airlines', 6003061370681: 'North American Nature Photography Association', 6003068049715: 'Digital Photography Review', 6003076016339: 'Email marketing', 6003076027139: 'First class travel', 6003092517217: 'Non-linear editing system', 6003095577470: 'Final Cut Pro', 6003096002658: 'Graphic design', 6003102618434: 'Spiritual gift', 6003102820440: 'Creative entrepreneurship', 6003106645378: 'Gift shop', 6003109198633: 'Digital photography', 6003115171934: 'The Social Media Marketing Network', 6003120113217: 'Stock photography', 6003121064322: 'Travel + Leisure', 6003124615858: 'JMP (statistical software)', 6003127206524: 'Digital marketing', 6003132802614: 'Adobe After Effects', 6003136399408: 'Travel website', 6003137724176: 'Lego Digital Designer', 6003138380976: 'American Airlines', 6003143609526: 'Web Designer & Developer', 6003144197566: 'LAN Airlines', 6003157558030: 'Multi-level marketing', 6003157840484: 'Nature photography', 6003160465208: 'Global Entrepreneurship Week', 6003162463990: 'Ma Ke (fashion designer)', 6003170720734: 'Gift wrapping', 6003174494435: 'Creative Graphic Designer', 6003175303902: '3D computer graphics software', 6003178322166: 'Travel agency', 6003179247614: 'Art & Graphic Design', 6003179537214: 'Digital Photography School', 6003187915950: 'Vignette (graphic design)', 6003188020378: 'Adobe Students', 6003190229613: 'Outdoor Photographer Magazine', 6003195818298: 'Intellectual giftedness', 6003201741978: 'Logo TV', 6003207621812: 'Graphic designer', 6003210123133: 'Adobe Fireworks', 6003211401886: 'Air travel', 6003215957745: 'Application software', 6003217114776: 'Marketing buzz', 6003221747467: 'Schwab Foundation for Social Entrepreneurship', 6003230134588: 'Exit Through the Gift Shop', 6003234741447: 'Louis Vuitton (designer)', 6003241492011: 'Adobe Photoshop Elements', 6003252159601: 'Multi Level Marketing (MLM)', 6003258966909: 'Adobe Creative Suite', 6003259135709: 'United Airlines', 6003259559557: 'Wedding videography', 6003270586423: 'Nature and wildlife photography', 6003279598823: 'Marketing', 6003280467799: 'Professional Women Photographers', 6003301004021: 'Professional Photographer Magazine', 6003302309628: 'Wildlife Photographer of the Year', 6003322091141: 'Adobe Illustrator', 6003326096341: 'Logos Bible Software', 6003329094837: 'Web Design Blog', 6003332572777: 'Adobe Photoshop Lightroom', 6003332888237: 'Adobe Dreamweaver', 6003335603557: 'Logo', 6003337257243: 'Graphics software', 6003337316157: 'Travel Air', 6003338095497: 'Iberia (airline)', 6003341110223: 'Vietnam Airlines', 6003341931023: 'Adobe Photoshop', 6003344138028: 'Gift card', 6003346586981: 'Marketing strategy', 6003346983757: 'Adobe Photoshop Tutorials', 6003347574074: 'Portrait photography', 6003349071605: 'Wedding photography', 6003351948043: 'Carolina Herrera (fashion designer)', 6003354680651: 'Event videography', 6003364711251: 'Asian Wedding Photography', 6003371567474: 'Entrepreneurship', 6003371645340: 'Video editing software', 6003375718196: 'Designer', 6003376937196: 'Airline', 6003381694577: 'Application security', 6003382409954: 'Landscape photography', 6003387381404: 'Component-based software engineering', 6003389760112: 'Social media marketing', 6003394479312: 'Underwater videography', 6003396973683: 'Social entrepreneurship', 6003399961396: 'Yves Saint Laurent (designer)', 6003402518839: 'Web design', 6003403706343: 'Promotion (marketing)', 6003417506877: 'Adobe InDesign', 6003423317791: 'Adobe Photoshop CS5', 6003426061641: 'Final Cut Pro X', 6003426926112: 'Direct marketing', 6003429985257: 'Linear video editing', 6003435496770: 'Street photography', 6003450939975: 'European Commissioner for Industry and Entrepreneu', 6003452365456: 'Australian School of Business', 6003453077186: 'Professional Photographers of America', 6003454920344: 'Viral marketing', 6003455137731: 'Web design program', 6003456566340: 'Video editing', 6003481327765: 'Adobe Photoshop Express', 6003485230031: 'Enterprise software', 6003485781469: 'marketing digital', 6003488208457: 'Influencer marketing', 6003495189827: 'Website wireframe', 6003496364586: 'Aperture (software)', 6003507473464: 'Emirates (airline)', 6003526234370: 'Online advertising', 6003590268038: 'South Asian wedding photography', 6003594701273: 'Freelance graphic designer', 6003604819420: 'Motion graphic design', 6003648538746: 'Videographer', 6003651840878: 'Professional Photographer', 6003653727638: 'Word of mouth', 6003698639713: 'Amateur Photographer', 6003702887891: 'Advertising agency', 6003713996153: 'Affiliate marketing', 6003714264753: 'Travel photography', 6003717038546: 'Videography', 6003717873546: 'Creative director', 6003718347916: \"Nature's Best Photography\", 6003739371891: 'Designer clothing', 6003780095852: 'Michael Jackson videography', 6003808331903: 'Video editor', 6003811620878: 'Jumpman (logo)', 6003834692852: 'Video blog', 6003899195666: 'Photography', 6004048686696: 'digital marketer', 6004157901789: 'Rankin (photographer)', 6004160395895: 'Travel', 6004160705506: 'Christopher Bailey (fashion designer)', 6004164799306: 'Graphic design occupations', 6004180279295: 'Photographer', 6005415768752: 'Outdoor Photographer', 6006831589651: 'Email service provider (marketing)', 6009178397915: 'Responsive web design', 6011884397154: 'Digital SLR Photography Magazine', 6013235860343: 'Landscape Photography Magazine', 6013240172451: 'JMG-Galleries: Landscape, Nature, Travel & Fine Ar', 6013444391825: 'Sue Bryce Photographer', 6013669486701: 'Eidi (gift)', 6013804533487: 'Adobe Creative Cloud: Design', 6014211248022: 'Adobe Creative Cloud', 6014240593527: 'Darren White Photography - Fine Art Landscapes', 6014328142718: 'The Digital Marketing Podcast', 6014875143544: 'Sudhir Shivaram Nature & Wildlife Photography', 6015101920697: 'Escola do Marketing Digital', 6016176927771: 'Travel & Wildlife Photography by Ray & Sue', 6017268931255: 'Productivity software', 6017814238531: 'Viajo Logo Existo', 6018375478548: 'Telegram (software)', 437955453031937: 'Air You Go Travels Experience', 949200595176466: 'Michael Stokes (photographer)', 976250229070460: 'Red Velvet (band)'}\n",
      "--\n"
     ]
    },
    {
     "name": "stderr",
     "output_type": "stream",
     "text": [
      "WARNING:root:`remote_read` is being deprecated, please update your code with new function.\n",
      "WARNING:root:`remote_read` is being deprecated, please update your code with new function.\n",
      "WARNING:root:`remote_read` is being deprecated, please update your code with new function.\n",
      "WARNING:root:`remote_read` is being deprecated, please update your code with new function.\n",
      "WARNING:root:`remote_read` is being deprecated, please update your code with new function.\n",
      "WARNING:root:`remote_read` is being deprecated, please update your code with new function.\n",
      "WARNING:root:`remote_read` is being deprecated, please update your code with new function.\n",
      "WARNING:root:`remote_read` is being deprecated, please update your code with new function.\n",
      "WARNING:root:`remote_read` is being deprecated, please update your code with new function.\n",
      "WARNING:root:`remote_read` is being deprecated, please update your code with new function.\n",
      "WARNING:root:`remote_read` is being deprecated, please update your code with new function.\n",
      "WARNING:root:`remote_read` is being deprecated, please update your code with new function.\n",
      "WARNING:root:`remote_read` is being deprecated, please update your code with new function.\n",
      "WARNING:root:`remote_read` is being deprecated, please update your code with new function.\n",
      "WARNING:root:`remote_read` is being deprecated, please update your code with new function.\n",
      "WARNING:root:`remote_read` is being deprecated, please update your code with new function.\n",
      "WARNING:root:`remote_read` is being deprecated, please update your code with new function.\n",
      "WARNING:root:`remote_read` is being deprecated, please update your code with new function.\n",
      "WARNING:root:`remote_read` is being deprecated, please update your code with new function.\n",
      "WARNING:root:`remote_read` is being deprecated, please update your code with new function.\n",
      "WARNING:root:`remote_read` is being deprecated, please update your code with new function.\n",
      "WARNING:root:`remote_read` is being deprecated, please update your code with new function.\n",
      "WARNING:root:`remote_read` is being deprecated, please update your code with new function.\n",
      "WARNING:root:`remote_read` is being deprecated, please update your code with new function.\n",
      "WARNING:root:`remote_read` is being deprecated, please update your code with new function.\n",
      "WARNING:root:`remote_read` is being deprecated, please update your code with new function.\n",
      "WARNING:root:`remote_read` is being deprecated, please update your code with new function.\n"
     ]
    },
    {
     "name": "stdout",
     "output_type": "stream",
     "text": [
      "[6002969553968, 6003051251016, 6018375478548, 6003179348517, 6003359124987, 6014190925409, 6004392150157, 6006831589651, 6013804533487, 6003076027139, 6003326096341, 6003335867243, 6003453077186, 6003718347916, 6015898071635, 6002868021822, 6003435496770, 6009178397915, 6002992568994, 6002998003644, 6003095577470, 6003096002658, 6003109198633, 6003120113217, 6003157840484, 6003187033305, 6003207621812, 6003331693097, 6003335603557, 6003347574074, 6003349071605, 6003371645340, 6003375718196, 6003382409954, 6003402518839, 6003426061641, 6003648538746, 6003651840878, 6003698639713, 6003714264753, 6003717038546, 6003717873546, 6003808331903, 6003834692852, 6003899195666, 6004180279295, 6005415768752, 6003019539929, 6003106645378, 6003178322166, 6003211401886, 6003215957745, 6003337257243, 6003376937196, 6003485230031, 6004160395895, 6003030259785, 6003031657055, 6003076016339, 6003127206524, 6003157558030, 6003217114776, 6003279598823, 6003346586981, 6003371567474, 6003389760112, 6003403706343, 6003426926112, 6003454920344, 6003488208457, 6003526234370, 6003713996153, 6003456566340, 6002966718646, 6003132802614, 6003188020378, 6003210123133, 6003241492011, 6003258966909, 6003322091141, 6003332572777, 6003332888237, 6003341931023, 6003417506877, 6003481327765, 6014211248022, 6003702887891]\n",
      "[get_suggestion_not_used] saved_suggest_id_name_dic not use, len: 87\n",
      "[make_suggest_adset] saved_suggest_id_name_dic {6002962884972: 'giFT', 6002982861646: 'film video editing or film video editor', 6003029993985: 'Video game publisher', 6003050475444: 'Marketing communications', 6003061370681: 'North American Nature Photography Association', 6003068049715: 'Digital Photography Review', 6003092517217: 'Non-linear editing system', 6003102618434: 'Spiritual gift', 6003102820440: 'Creative entrepreneurship', 6003115171934: 'The Social Media Marketing Network', 6003121064322: 'Travel + Leisure', 6003124615858: 'JMP (statistical software)', 6003136399408: 'Travel website', 6003137724176: 'Lego Digital Designer', 6003138380976: 'American Airlines', 6003143609526: 'Web Designer & Developer', 6003144197566: 'LAN Airlines', 6003160465208: 'Global Entrepreneurship Week', 6003162463990: 'Ma Ke (fashion designer)', 6003170720734: 'Gift wrapping', 6003174494435: 'Creative Graphic Designer', 6003175303902: '3D computer graphics software', 6003179247614: 'Art & Graphic Design', 6003179537214: 'Digital Photography School', 6003187915950: 'Vignette (graphic design)', 6003190229613: 'Outdoor Photographer Magazine', 6003195818298: 'Intellectual giftedness', 6003201741978: 'Logo TV', 6003221747467: 'Schwab Foundation for Social Entrepreneurship', 6003230134588: 'Exit Through the Gift Shop', 6003234741447: 'Louis Vuitton (designer)', 6003252159601: 'Multi Level Marketing (MLM)', 6003259135709: 'United Airlines', 6003259559557: 'Wedding videography', 6003270586423: 'Nature and wildlife photography', 6003280467799: 'Professional Women Photographers', 6003301004021: 'Professional Photographer Magazine', 6003302309628: 'Wildlife Photographer of the Year', 6003329094837: 'Web Design Blog', 6003337316157: 'Travel Air', 6003338095497: 'Iberia (airline)', 6003341110223: 'Vietnam Airlines', 6003344138028: 'Gift card', 6003346983757: 'Adobe Photoshop Tutorials', 6003351948043: 'Carolina Herrera (fashion designer)', 6003354680651: 'Event videography', 6003364711251: 'Asian Wedding Photography', 6003381694577: 'Application security', 6003387381404: 'Component-based software engineering', 6003394479312: 'Underwater videography', 6003396973683: 'Social entrepreneurship', 6003399961396: 'Yves Saint Laurent (designer)', 6003423317791: 'Adobe Photoshop CS5', 6003429985257: 'Linear video editing', 6003450939975: 'European Commissioner for Industry and Entrepreneu', 6003452365456: 'Australian School of Business', 6003455137731: 'Web design program', 6003485781469: 'marketing digital', 6003495189827: 'Website wireframe', 6003496364586: 'Aperture (software)', 6003507473464: 'Emirates (airline)', 6003590268038: 'South Asian wedding photography', 6003594701273: 'Freelance graphic designer', 6003604819420: 'Motion graphic design', 6003653727638: 'Word of mouth', 6003739371891: 'Designer clothing', 6003780095852: 'Michael Jackson videography', 6003811620878: 'Jumpman (logo)', 6004048686696: 'digital marketer', 6004157901789: 'Rankin (photographer)', 6004160705506: 'Christopher Bailey (fashion designer)', 6004164799306: 'Graphic design occupations', 6011884397154: 'Digital SLR Photography Magazine', 6013235860343: 'Landscape Photography Magazine', 6013240172451: 'JMG-Galleries: Landscape, Nature, Travel & Fine Ar', 6013444391825: 'Sue Bryce Photographer', 6013669486701: 'Eidi (gift)', 6014240593527: 'Darren White Photography - Fine Art Landscapes', 6014328142718: 'The Digital Marketing Podcast', 6014875143544: 'Sudhir Shivaram Nature & Wildlife Photography', 6015101920697: 'Escola do Marketing Digital', 6016176927771: 'Travel & Wildlife Photography by Ray & Sue', 6017268931255: 'Productivity software', 6017814238531: 'Viajo Logo Existo', 437955453031937: 'Air You Go Travels Experience', 949200595176466: 'Michael Stokes (photographer)', 976250229070460: 'Red Velvet (band)'} saved_suggest_id_size_dic {6002868021822: 215777718, 6002962884972: 152276, 6002966718646: 8002378, 6002982861646: 186, 6002992568994: 172730, 6002998003644: 258252230, 6003019539929: 415046730, 6003029993985: 9190490, 6003030259785: 2493870, 6003031657055: 9771745, 6003050475444: 40547080, 6003051251016: 24133030, 6003061370681: 8540, 6003068049715: 90030, 6003076016339: 9179030, 6003076027139: 57527380, 6003092517217: 1998560, 6003095577470: 1002742, 6003096002658: 268977260, 6003102618434: 2801330, 6003102820440: 57340, 6003106645378: 8019590, 6003109198633: 87479240, 6003115171934: 660, 6003120113217: 9449540, 6003121064322: 55400052, 6003124615858: 253130, 6003127206524: 76839470, 6003132802614: 7414634, 6003136399408: 71925390, 6003137724176: 9171490, 6003138380976: 101237380, 6003143609526: 22840, 6003144197566: 22139740, 6003157558030: 37755760, 6003157840484: 57452484, 6003160465208: 98420, 6003162463990: 5073630, 6003170720734: 3605690, 6003174494435: 5130, 6003175303902: 1320, 6003178322166: 179935790, 6003179247614: 73880, 6003179537214: 368180, 6003187915950: 81610, 6003188020378: 912230, 6003190229613: 203250, 6003195818298: 4606740, 6003201741978: 13001660, 6003207621812: 15510431, 6003210123133: 1078240, 6003211401886: 310420520, 6003215957745: 947124190, 6003217114776: 22811600, 6003221747467: 48180, 6003230134588: 20390, 6003234741447: 18156130, 6003241492011: 336440, 6003252159601: 860, 6003258966909: 17042180, 6003259135709: 39017980, 6003259559557: 16777053, 6003270586423: 12660, 6003279598823: 615896240, 6003280467799: 3770, 6003301004021: 78140, 6003302309628: 350030, 6003322091141: 10853930, 6003326096341: 113620, 6003329094837: 1840, 6003332572777: 32472160, 6003332888237: 1249900, 6003335603557: 32280660, 6003337257243: 21304850, 6003337316157: 41210, 6003338095497: 154914020, 6003341110223: 33814010, 6003341931023: 62822340, 6003344138028: 58964050, 6003346586981: 8087166, 6003346983757: 48470, 6003347574074: 45430858, 6003349071605: 82138490, 6003351948043: 9564090, 6003354680651: 37440, 6003364711251: 540, 6003371567474: 338664100, 6003371645340: 9001830, 6003375718196: 131440070, 6003376937196: 206404420, 6003381694577: 213600, 6003382409954: 46900589, 6003387381404: 2144920, 6003389760112: 21668940, 6003394479312: 88100, 6003396973683: 7792760, 6003399961396: 4258950, 6003402518839: 44725290, 6003403706343: 262783580, 6003417506877: 4993320, 6003423317791: 1470, 6003426061641: 638970, 6003426926112: 6023780, 6003429985257: 5990, 6003435496770: 39468004, 6003450939975: 91200, 6003452365456: 156770, 6003453077186: 3318860, 6003454920344: 306122750, 6003455137731: 170, 6003456566340: 26706950, 6003481327765: 89610, 6003485230031: 12412180, 6003485781469: 2180557, 6003488208457: 13534495, 6003495189827: 236760, 6003496364586: 241920, 6003507473464: 33008980, 6003526234370: 168624760, 6003590268038: 409430, 6003594701273: 15650, 6003604819420: 1553061, 6003648538746: 7627170, 6003651840878: 95190, 6003653727638: 2751240, 6003698639713: 82260, 6003702887891: 26186180, 6003713996153: 6470710, 6003714264753: 67908886, 6003717038546: 12468830, 6003717873546: 5414570, 6003718347916: 57770, 6003739371891: 18137616, 6003780095852: 8930670, 6003808331903: 5460580, 6003811620878: 365210, 6003834692852: 115985500, 6003899195666: 1173696140, 6004048686696: 80, 6004157901789: 258020, 6004160395895: 1333179510, 6004160705506: 151360, 6004164799306: 20570, 6004180279295: 169204520, 6005415768752: 36369409, 6006831589651: 6720, 6009178397915: 573530, 6011884397154: 73380, 6013235860343: 100940, 6013240172451: 3180, 6013444391825: 2651021, 6013669486701: 2890040, 6013804533487: 72850, 6014211248022: 9048350, 6014240593527: 66770, 6014328142718: 35, 6014875143544: 17, 6015101920697: 54460, 6016176927771: 3920, 6017268931255: 4728260, 6017814238531: 293410, 6018375478548: 35060, 437955453031937: 1869020, 949200595176466: 464030, 976250229070460: 13203980}\n",
      "[make_suggest_adset] suggest_group_list: [{'id': 6002962884972, 'name': 'giFT'}, {'id': 6002982861646, 'name': 'film video editing or film video editor'}, {'id': 6003029993985, 'name': 'Video game publisher'}]  pick_total_audience_size: 9342952\n"
     ]
    },
    {
     "name": "stderr",
     "output_type": "stream",
     "text": [
      "WARNING:root:parent_id as a parameter of constructor is being deprecated.\n",
      "WARNING:root:`remote_create` is being deprecated, please update your code with new function.\n",
      "WARNING:root:parent_id is being deprecated.\n",
      "WARNING:root:parent_id is being deprecated.\n",
      "WARNING:root:parent_id is being deprecated.\n"
     ]
    },
    {
     "name": "stdout",
     "output_type": "stream",
     "text": [
      "[make_suggest_adset] new_adset_params <AdSet> {\n",
      "    \"account_id\": \"10155657593726278\",\n",
      "    \"attribution_spec\": [\n",
      "        {\n",
      "            \"event_type\": \"CLICK_THROUGH\",\n",
      "            \"window_days\": 1\n",
      "        }\n",
      "    ],\n",
      "    \"bid_amount\": 219,\n",
      "    \"bid_info\": {\n",
      "        \"ACTIONS\": 219\n",
      "    },\n",
      "    \"billing_event\": \"IMPRESSIONS\",\n",
      "    \"budget_remaining\": \"0\",\n",
      "    \"campaign_id\": \"23842880697850266\",\n",
      "    \"configured_status\": \"ACTIVE\",\n",
      "    \"created_time\": \"2019-08-19T13:03:09-0400\",\n",
      "    \"destination_type\": \"UNDEFINED\",\n",
      "    \"effective_status\": \"ACTIVE\",\n",
      "    \"id\": \"23843708355320266\",\n",
      "    \"is_dynamic_creative\": false,\n",
      "    \"lifetime_imps\": 0,\n",
      "    \"name\": \"AI__2019-08-20_Telegram (software)__Turkish Airlines__Bartle Bogle Hegarty\",\n",
      "    \"optimization_goal\": \"OFFSITE_CONVERSIONS\",\n",
      "    \"promoted_object\": {\n",
      "        \"custom_event_type\": \"CONTENT_VIEW\",\n",
      "        \"pixel_id\": \"708380959260669\",\n",
      "        \"pixel_rule\": \"{\\\"and\\\":[{\\\"event\\\":{\\\"eq\\\":\\\"PageView\\\"}},{\\\"or\\\":[{\\\"URL\\\":{\\\"i_not_contains\\\":\\\"\\\\/terms\\\"}}]}]}\"\n",
      "    },\n",
      "    \"recurring_budget_semantics\": false,\n",
      "    \"start_time\": \"2019-08-19T13:03:10-0400\",\n",
      "    \"status\": \"ACTIVE\",\n",
      "    \"targeting\": {\n",
      "        \"age_max\": 45,\n",
      "        \"age_min\": 18,\n",
      "        \"audience_network_positions\": [\n",
      "            \"instream_video\"\n",
      "        ],\n",
      "        \"device_platforms\": [\n",
      "            \"desktop\"\n",
      "        ],\n",
      "        \"facebook_positions\": [\n",
      "            \"feed\",\n",
      "            \"right_hand_column\",\n",
      "            \"instream_video\"\n",
      "        ],\n",
      "        \"flexible_spec\": [\n",
      "            {\n",
      "                \"behaviors\": [\n",
      "                    {\n",
      "                        \"id\": \"6002714898572\",\n",
      "                        \"name\": \"Small business owners\"\n",
      "                    }\n",
      "                ],\n",
      "                \"interests\": [\n",
      "                    {\n",
      "                        \"id\": \"6002969553968\",\n",
      "                        \"name\": \"Bartle Bogle Hegarty\"\n",
      "                    },\n",
      "                    {\n",
      "                        \"id\": \"6003051251016\",\n",
      "                        \"name\": \"Turkish Airlines\"\n",
      "                    },\n",
      "                    {\n",
      "                        \"id\": \"6018375478548\",\n",
      "                        \"name\": \"Telegram (software)\"\n",
      "                    }\n",
      "                ],\n",
      "                \"work_positions\": [\n",
      "                    {\n",
      "                        \"id\": \"1408560576113834\",\n",
      "                        \"name\": \"Marketing Coordinator\"\n",
      "                    },\n",
      "                    {\n",
      "                        \"id\": \"338783449578819\",\n",
      "                        \"name\": \"Marketing Officer\"\n",
      "                    },\n",
      "                    {\n",
      "                        \"id\": \"420490178113516\",\n",
      "                        \"name\": \"Marketing Assistant\"\n",
      "                    },\n",
      "                    {\n",
      "                        \"id\": \"422274031281491\",\n",
      "                        \"name\": \"Marketing Consultant\"\n",
      "                    },\n",
      "                    {\n",
      "                        \"id\": \"662478223875726\",\n",
      "                        \"name\": \"Marketing Agent\"\n",
      "                    }\n",
      "                ]\n",
      "            }\n",
      "        ],\n",
      "        \"genders\": [\n",
      "            0\n",
      "        ],\n",
      "        \"geo_locations\": {\n",
      "            \"countries\": [\n",
      "                \"IN\"\n",
      "            ],\n",
      "            \"location_types\": [\n",
      "                \"home\",\n",
      "                \"recent\"\n",
      "            ]\n",
      "        },\n",
      "        \"locales\": [\n",
      "            24,\n",
      "            6\n",
      "        ],\n",
      "        \"publisher_platforms\": [\n",
      "            \"facebook\",\n",
      "            \"audience_network\"\n",
      "        ]\n",
      "    },\n",
      "    \"updated_time\": \"2019-08-21T03:35:23-0400\"\n",
      "}\n",
      "[make_suggest_adset] new_adset_params after process <AdSet> {\n",
      "    \"account_id\": \"10155657593726278\",\n",
      "    \"attribution_spec\": [\n",
      "        {\n",
      "            \"event_type\": \"CLICK_THROUGH\",\n",
      "            \"window_days\": 1\n",
      "        }\n",
      "    ],\n",
      "    \"bid_amount\": 219,\n",
      "    \"bid_info\": {\n",
      "        \"ACTIONS\": 219\n",
      "    },\n",
      "    \"billing_event\": \"IMPRESSIONS\",\n",
      "    \"budget_remaining\": \"0\",\n",
      "    \"campaign_id\": \"23842880697850266\",\n",
      "    \"configured_status\": \"ACTIVE\",\n",
      "    \"created_time\": \"2019-08-19T13:03:09-0400\",\n",
      "    \"destination_type\": \"UNDEFINED\",\n",
      "    \"effective_status\": \"ACTIVE\",\n",
      "    \"id\": \"23843708355320266\",\n",
      "    \"is_dynamic_creative\": false,\n",
      "    \"lifetime_imps\": 0,\n",
      "    \"name\": \"AI__2019-08-21_giFT__film video editing or film video editor__Video game publisher\",\n",
      "    \"optimization_goal\": \"OFFSITE_CONVERSIONS\",\n",
      "    \"promoted_object\": {\n",
      "        \"custom_event_type\": \"CONTENT_VIEW\",\n",
      "        \"pixel_id\": \"708380959260669\",\n",
      "        \"pixel_rule\": \"{\\\"and\\\":[{\\\"event\\\":{\\\"eq\\\":\\\"PageView\\\"}},{\\\"or\\\":[{\\\"URL\\\":{\\\"i_not_contains\\\":\\\"\\\\/terms\\\"}}]}]}\"\n",
      "    },\n",
      "    \"recurring_budget_semantics\": false,\n",
      "    \"start_time\": \"2019-08-19T13:03:10-0400\",\n",
      "    \"status\": \"ACTIVE\",\n",
      "    \"targeting\": {\n",
      "        \"age_max\": 45,\n",
      "        \"age_min\": 18,\n",
      "        \"audience_network_positions\": [\n",
      "            \"instream_video\"\n",
      "        ],\n",
      "        \"device_platforms\": [\n",
      "            \"desktop\"\n",
      "        ],\n",
      "        \"facebook_positions\": [\n",
      "            \"feed\",\n",
      "            \"right_hand_column\",\n",
      "            \"instream_video\"\n",
      "        ],\n",
      "        \"flexible_spec\": [\n",
      "            {\n",
      "                \"behaviors\": [\n",
      "                    {\n",
      "                        \"id\": \"6002714898572\",\n",
      "                        \"name\": \"Small business owners\"\n",
      "                    }\n",
      "                ],\n",
      "                \"interests\": [\n",
      "                    {\n",
      "                        \"id\": 6002962884972,\n",
      "                        \"name\": \"giFT\"\n",
      "                    },\n",
      "                    {\n",
      "                        \"id\": 6002982861646,\n",
      "                        \"name\": \"film video editing or film video editor\"\n",
      "                    },\n",
      "                    {\n",
      "                        \"id\": 6003029993985,\n",
      "                        \"name\": \"Video game publisher\"\n",
      "                    }\n",
      "                ],\n",
      "                \"work_positions\": [\n",
      "                    {\n",
      "                        \"id\": \"1408560576113834\",\n",
      "                        \"name\": \"Marketing Coordinator\"\n",
      "                    },\n",
      "                    {\n",
      "                        \"id\": \"338783449578819\",\n",
      "                        \"name\": \"Marketing Officer\"\n",
      "                    },\n",
      "                    {\n",
      "                        \"id\": \"420490178113516\",\n",
      "                        \"name\": \"Marketing Assistant\"\n",
      "                    },\n",
      "                    {\n",
      "                        \"id\": \"422274031281491\",\n",
      "                        \"name\": \"Marketing Consultant\"\n",
      "                    },\n",
      "                    {\n",
      "                        \"id\": \"662478223875726\",\n",
      "                        \"name\": \"Marketing Agent\"\n",
      "                    }\n",
      "                ]\n",
      "            }\n",
      "        ],\n",
      "        \"genders\": [\n",
      "            0\n",
      "        ],\n",
      "        \"geo_locations\": {\n",
      "            \"countries\": [\n",
      "                \"IN\"\n",
      "            ],\n",
      "            \"location_types\": [\n",
      "                \"home\",\n",
      "                \"recent\"\n",
      "            ]\n",
      "        },\n",
      "        \"locales\": [\n",
      "            24,\n",
      "            6\n",
      "        ],\n",
      "        \"publisher_platforms\": [\n",
      "            \"facebook\",\n",
      "            \"audience_network\"\n",
      "        ]\n",
      "    },\n",
      "    \"updated_time\": \"2019-08-21T03:35:23-0400\"\n",
      "}\n",
      "[copy_adset_new_target] make_adset success, campaign_id: 23842880697850266  original_adset_id 23843708355320266  new_adset_id 23843712509330266\n"
     ]
    },
    {
     "name": "stderr",
     "output_type": "stream",
     "text": [
      "WARNING:root:`remote_read` is being deprecated, please update your code with new function.\n"
     ]
    },
    {
     "name": "stdout",
     "output_type": "stream",
     "text": [
      "ad_id_list ['23843708355860266', '23843708355580266', '23843708356080266']\n",
      "[get_media_token_by_queryid] token_dic {'credential_id': '958842090856883', 'credential_secret': 'a952f55afca38572cea2994d440d674b', 'credential_token': 'EAANoD9I4obMBAH8xjIhGjHc9DmLDeBDTauvkO3tk5x05v1E3G72Qp33aP4gLkE3IZBUDyCMkqCLLPS6DKk8mUJLcsncIrjveFLZCKUseqU7Qy2iIeEq0Dx8DgZAuRwhUNFkKHtmU8McAAWbWMNi2hiWZAbZAXDAyTCd1xXHUJmQZDZD', 'credential_developer_token': None, 'credential_refresh_token': None, 'name': 'AntMan Facebook Credential'}\n"
     ]
    },
    {
     "name": "stderr",
     "output_type": "stream",
     "text": [
      "WARNING:root:`remote_read` is being deprecated, please update your code with new function.\n"
     ]
    },
    {
     "name": "stdout",
     "output_type": "stream",
     "text": [
      "[copy_adset_new_target] result_message {\"copied_ad_id\":\"23843712510010266\"}\n"
     ]
    },
    {
     "name": "stderr",
     "output_type": "stream",
     "text": [
      "WARNING:root:`remote_update` is being deprecated, please update your code with new function.\n",
      "WARNING:root:`remote_read` is being deprecated, please update your code with new function.\n"
     ]
    },
    {
     "name": "stdout",
     "output_type": "stream",
     "text": [
      "[get_media_token_by_queryid] token_dic {'credential_id': '958842090856883', 'credential_secret': 'a952f55afca38572cea2994d440d674b', 'credential_token': 'EAANoD9I4obMBAH8xjIhGjHc9DmLDeBDTauvkO3tk5x05v1E3G72Qp33aP4gLkE3IZBUDyCMkqCLLPS6DKk8mUJLcsncIrjveFLZCKUseqU7Qy2iIeEq0Dx8DgZAuRwhUNFkKHtmU8McAAWbWMNi2hiWZAbZAXDAyTCd1xXHUJmQZDZD', 'credential_developer_token': None, 'credential_refresh_token': None, 'name': 'AntMan Facebook Credential'}\n"
     ]
    },
    {
     "name": "stderr",
     "output_type": "stream",
     "text": [
      "WARNING:root:`remote_read` is being deprecated, please update your code with new function.\n"
     ]
    },
    {
     "name": "stdout",
     "output_type": "stream",
     "text": [
      "[copy_adset_new_target] result_message {\"copied_ad_id\":\"23843712510520266\"}\n"
     ]
    },
    {
     "name": "stderr",
     "output_type": "stream",
     "text": [
      "WARNING:root:`remote_update` is being deprecated, please update your code with new function.\n",
      "WARNING:root:`remote_read` is being deprecated, please update your code with new function.\n"
     ]
    },
    {
     "name": "stdout",
     "output_type": "stream",
     "text": [
      "[get_media_token_by_queryid] token_dic {'credential_id': '958842090856883', 'credential_secret': 'a952f55afca38572cea2994d440d674b', 'credential_token': 'EAANoD9I4obMBAH8xjIhGjHc9DmLDeBDTauvkO3tk5x05v1E3G72Qp33aP4gLkE3IZBUDyCMkqCLLPS6DKk8mUJLcsncIrjveFLZCKUseqU7Qy2iIeEq0Dx8DgZAuRwhUNFkKHtmU8McAAWbWMNi2hiWZAbZAXDAyTCd1xXHUJmQZDZD', 'credential_developer_token': None, 'credential_refresh_token': None, 'name': 'AntMan Facebook Credential'}\n"
     ]
    },
    {
     "name": "stderr",
     "output_type": "stream",
     "text": [
      "WARNING:root:`remote_read` is being deprecated, please update your code with new function.\n"
     ]
    },
    {
     "name": "stdout",
     "output_type": "stream",
     "text": [
      "[copy_adset_new_target] result_message {\"copied_ad_id\":\"23843712510870266\"}\n"
     ]
    },
    {
     "name": "stderr",
     "output_type": "stream",
     "text": [
      "WARNING:root:`remote_update` is being deprecated, please update your code with new function.\n"
     ]
    },
    {
     "data": {
      "text/plain": [
       "'23843712509330266'"
      ]
     },
     "execution_count": 7,
     "metadata": {},
     "output_type": "execute_result"
    }
   ],
   "source": [
    "#test case\n",
    "# import adgeek_permission as permission\n",
    "# account_id = 10155657593726278\n",
    "# campaign_id = 23842880697850266\n",
    "# original_adset_id = 23843708355320266\n",
    "# permission.init_facebook_api(account_id)\n",
    "# make_performance_suggest_adset(campaign_id, original_adset_id)\n"
   ]
  },
  {
   "cell_type": "code",
   "execution_count": 20,
   "metadata": {},
   "outputs": [
    {
     "name": "stdout",
     "output_type": "stream",
     "text": [
      "[NbConvertApp] Converting notebook facebook_adset_controller.ipynb to script\n",
      "[NbConvertApp] Writing 13828 bytes to facebook_adset_controller.py\n"
     ]
    }
   ],
   "source": [
    "# !jupyter nbconvert --to script facebook_adset_controller.ipynb"
   ]
  },
  {
   "cell_type": "code",
   "execution_count": null,
   "metadata": {},
   "outputs": [],
   "source": []
  }
 ],
 "metadata": {
  "kernelspec": {
   "display_name": "Python 3",
   "language": "python",
   "name": "python3"
  },
  "language_info": {
   "codemirror_mode": {
    "name": "ipython",
    "version": 3
   },
   "file_extension": ".py",
   "mimetype": "text/x-python",
   "name": "python",
   "nbconvert_exporter": "python",
   "pygments_lexer": "ipython3",
   "version": "3.6.8"
  },
  "varInspector": {
   "cols": {
    "lenName": 16,
    "lenType": 16,
    "lenVar": 40
   },
   "kernels_config": {
    "python": {
     "delete_cmd_postfix": "",
     "delete_cmd_prefix": "del ",
     "library": "var_list.py",
     "varRefreshCmd": "print(var_dic_list())"
    },
    "r": {
     "delete_cmd_postfix": ") ",
     "delete_cmd_prefix": "rm(",
     "library": "var_list.r",
     "varRefreshCmd": "cat(var_dic_list()) "
    }
   },
   "types_to_exclude": [
    "module",
    "function",
    "builtin_function_or_method",
    "instance",
    "_Feature"
   ],
   "window_display": false
  }
 },
 "nbformat": 4,
 "nbformat_minor": 4
}
