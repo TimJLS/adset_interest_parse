{
 "cells": [
  {
   "cell_type": "code",
   "execution_count": 124,
   "metadata": {},
   "outputs": [],
   "source": [
    "import uuid\n",
    "from googleads import adwords\n",
    "import sys\n",
    "import pandas as pd\n",
    "import numpy as np\n",
    "import math\n",
    "import datetime\n",
    "from copy import deepcopy\n",
    "import gdn_db\n",
    "import gdn_datacollector as datacollector\n",
    "AUTH_FILE_PATH = '/home/tim_su/ai_optimizer/opt/ai_optimizer/googleads.yaml'\n",
    "adwords_client = adwords.AdWordsClient.LoadFromStorage(AUTH_FILE_PATH)\n",
    "DEVICE_BALANCE_PROPORTION = 0.3\n",
    "TIME_RANGE = 3\n",
    "MINIMUM_SPEND = 10\n",
    "DEVICE_CRITERION = {\n",
    "    'Desktop': 30000,\n",
    "    'HighEndMobile': 30001,\n",
    "    'ConnectedTv': 30004,\n",
    "    'Tablet': 30002,\n",
    "}\n",
    "\n",
    "# In[2]:\n",
    "def assign_bid_modifier(adwords_client, ad_group_id, **bid_modifier_dict,):\n",
    "    operand = {\n",
    "        'adGroupId': ad_group_id,\n",
    "        'criterion': None,\n",
    "        'bidModifier': None\n",
    "    }\n",
    "    criterion = {'id':None, 'xsi_type':'Platform'}\n",
    "    operations = []\n",
    "    criterions = []\n",
    "    for device in bid_modifier_dict:\n",
    "        id = DEVICE_CRITERION[device]\n",
    "        bid_modifier = bid_modifier_dict[device]\n",
    "        criterion['id'] = id\n",
    "        operand['criterion'] = criterion\n",
    "        operand['bidModifier'] = bid_modifier\n",
    "        operations.append(\n",
    "            {\n",
    "                'operator': 'ADD',\n",
    "                'operand': deepcopy(operand)\n",
    "            })\n",
    "    ad_group_bid_modifier_service = adwords_client.GetService(\n",
    "        'AdGroupBidModifierService', version='v201809')\n",
    "    resp = ad_group_bid_modifier_service.mutate(operations)\n",
    "    return resp\n",
    "\n",
    "def retrieve_bid_modifier(client, ad_group_id):\n",
    "    ad_group_bid_modifier_service = adwords_client.GetService(\n",
    "        'AdGroupBidModifierService', version='v201809')\n",
    "    # Get all ad group bid modifiers for the campaign.\n",
    "    selector = {\n",
    "        'fields': ['CampaignId', 'AdGroupId', 'BidModifier', 'Id', 'PlatformName'],\n",
    "        'predicates': [\n",
    "            {\n",
    "                'field': 'AdGroupId',\n",
    "                'operator': 'EQUALS',\n",
    "                'values': [ad_group_id]\n",
    "            }\n",
    "        ]\n",
    "    }\n",
    "    resp = ad_group_bid_modifier_service.get(selector)\n",
    "    return resp['entries']\n",
    "\n",
    "\n",
    "# In[3]:\n",
    "\n",
    "\n",
    "def bid_modifier_adjust(ad_group_id):\n",
    "    resps = retrieve_bid_modifier(adwords_client, ad_group_id)\n",
    "    bid_modifier_dict = dict()\n",
    "    # Retrieve bid modifier\n",
    "    for resp in resps:\n",
    "        platform = resp['criterion']['platformName']\n",
    "        bid_modifier = resp['bidModifier']\n",
    "        if bid_modifier == 0 or bid_modifier is None:\n",
    "            bid_modifier = 0\n",
    "        bid_modifier_dict.update({platform: bid_modifier})\n",
    "    # Adjust bid modifier\n",
    "    for device in bid_modifier_dict.keys():\n",
    "        if device == 'Desktop':\n",
    "            bid_modifier_dict[device] += 0.1 if bid_modifier_dict[device] <= 9.9 else 10\n",
    "        elif device == 'HighEndMobile':\n",
    "            bid_modifier_dict[device] -= 0.1 if bid_modifier_dict[device] >= 0.1 else 0\n",
    "    # Update back\n",
    "    resp = assign_bid_modifier(adwords_client, ad_group_id, **bid_modifier_dict)\n",
    "    return resp\n",
    "\n",
    "\n",
    "# In[15]:\n",
    "\n",
    "\n",
    "def main():\n",
    "    df_performance_campaign = gdn_db.get_performance_campaign_is_running()\n",
    "    for campaign_id in df_performance_campaign['campaign_id'].tolist():\n",
    "        customer_id = df_performance_campaign['customer_id'][df_performance_campaign.campaign_idn_id==campaign_id].iloc[0]\n",
    "        adwords_client.SetClientCustomerId(customer_id)\n",
    "        camp = datacollector.Campaign(customer_id=customer_id, campaign_id=campaign_id, destination_type='CONVERSIONS')\n",
    "        ad_group_id_list = camp.get_adgroup_id_list()\n",
    "        for ad_group_id in ad_group_id_list:\n",
    "            ad_group = datacollector.AdGroup(\n",
    "                customer_id=customer_id, campaign_id=campaign_id, adgroup_id=ad_group_id, destination_type='CONVERSIONS')\n",
    "            # Retrieve hourly seperated report\n",
    "            hourly_insights = ad_group.get_adgroup_insights(adwords_client, date_preset='TODAY', by_hour=True)\n",
    "            df_hourly_insights = pd.DataFrame(hourly_insights).sort_values(by=['hour_of_day']).reset_index(drop=True)  \n",
    "            # Check last time interval spend is normal or not\n",
    "            current_hour = datetime.datetime.now().hour\n",
    "            last_interval_spend = df_hourly_insights[\n",
    "                df_hourly_insights.hour_of_day.between(current_hour-TIME_RANGE, current_hour, inclusive=True)]['spend'].sum()\n",
    "            if last_interval_spend <= MINIMUM_SPEND:\n",
    "                return\n",
    "            # Retrieve device seperated report\n",
    "            device_insights = ad_group.get_adgroup_insights(adwords_client, date_preset='TODAY', by_device=True)\n",
    "            df_device_insights = pd.DataFrame(device_insights)\n",
    "            df_mobile = df_device_insights[['Device', 'spend']].sort_values(by=['spend'], ascending=False)[df_device_insights['Device'].str.contains(\"Mobile\")].reset_index(drop=True)\n",
    "            df_desktop = df_device_insights[['Device', 'spend']].sort_values(by=['spend'], ascending=False)[df_device_insights['Device'].str.contains(\"Computers\")].reset_index(drop=True)\n",
    "            # Check whether to adjust bid modifier\n",
    "            if ( df_desktop['spend']/df_mobile['spend'] ).iloc[0] < DEVICE_BALANCE_PROPORTION:\n",
    "                bid_modifier_adjust(ad_group_id)\n",
    "        return\n"
   ]
  },
  {
   "cell_type": "code",
   "execution_count": 103,
   "metadata": {},
   "outputs": [],
   "source": [
    "if __name__=='__main__':\n",
    "    main()"
   ]
  },
  {
   "cell_type": "code",
   "execution_count": 1,
   "metadata": {},
   "outputs": [
    {
     "name": "stdout",
     "output_type": "stream",
     "text": [
      "[NbConvertApp] Converting notebook handle_device_proportion.ipynb to script\n",
      "[NbConvertApp] Writing 5179 bytes to handle_device_proportion.py\n"
     ]
    }
   ],
   "source": [
    "!jupyter nbconvert --to script handle_device_proportion.ipynb"
   ]
  },
  {
   "cell_type": "code",
   "execution_count": null,
   "metadata": {},
   "outputs": [],
   "source": []
  }
 ],
 "metadata": {
  "kernelspec": {
   "display_name": "Python 3",
   "language": "python",
   "name": "python3"
  },
  "language_info": {
   "codemirror_mode": {
    "name": "ipython",
    "version": 3
   },
   "file_extension": ".py",
   "mimetype": "text/x-python",
   "name": "python",
   "nbconvert_exporter": "python",
   "pygments_lexer": "ipython3",
   "version": "3.6.7"
  },
  "varInspector": {
   "cols": {
    "lenName": 16,
    "lenType": 16,
    "lenVar": 40
   },
   "kernels_config": {
    "python": {
     "delete_cmd_postfix": "",
     "delete_cmd_prefix": "del ",
     "library": "var_list.py",
     "varRefreshCmd": "print(var_dic_list())"
    },
    "r": {
     "delete_cmd_postfix": ") ",
     "delete_cmd_prefix": "rm(",
     "library": "var_list.r",
     "varRefreshCmd": "cat(var_dic_list()) "
    }
   },
   "types_to_exclude": [
    "module",
    "function",
    "builtin_function_or_method",
    "instance",
    "_Feature"
   ],
   "window_display": false
  }
 },
 "nbformat": 4,
 "nbformat_minor": 2
}
