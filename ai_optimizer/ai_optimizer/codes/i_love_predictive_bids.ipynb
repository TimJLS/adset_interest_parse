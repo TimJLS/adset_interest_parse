{
 "cells": [
  {
   "cell_type": "code",
   "execution_count": null,
   "metadata": {},
   "outputs": [],
   "source": [
    "import mysql_adactivity_save\n",
    "import pandas as pd\n",
    "import facebook_datacollector as datacollector\n",
    "import database_controller\n",
    "DATABASE = \"dev_facebook_test\"\n",
    "\n",
    "BRANDING_LIST = ['LINK_CLICKS', 'ALL_CLICKS', 'VIDEO_VIEWS', 'REACH', 'IMPRESSIONS']\n",
    "\n",
    "TIME_WINDOW_CONST = 36\n",
    "PREDICT_STEP = 6"
   ]
  },
  {
   "cell_type": "code",
   "execution_count": null,
   "metadata": {},
   "outputs": [],
   "source": [
    "def make_df_train(df_train):\n",
    "    df_train.pop('status')\n",
    "    df_train = pd.concat([df_train.shift(-5),df_train.shift(-4),df_train.shift(-3),df_train.shift(-2),df_train.shift(-1),df_train], axis=1, sort=False)\n",
    "    df_train = df_train.dropna().reset_index(drop=True)\n",
    "    return df_train"
   ]
  },
  {
   "cell_type": "code",
   "execution_count": null,
   "metadata": {
    "scrolled": true
   },
   "outputs": [],
   "source": [
    "def make_predict():\n",
    "#     %matplotlib inline\n",
    "    global database_fb\n",
    "    database_fb = database_controller.FB(database_controller.Database)\n",
    "    branding_campaign_list = database_fb.get_branding_campaign().to_dict('records')\n",
    "    \n",
    "    print('[campaign_id_list]: ', [campaign.get('campaign_id') for campaign in branding_campaign_list])\n",
    "    for campaign in branding_campaign_list:\n",
    "        print('[campaign id]: ', campaign.get('campaign_id'))\n",
    "        df_insights = database_fb.retrieve(\"campaign_insights\", campaign_id=campaign.get('campaign_id')).tail(1)\n",
    "        \n",
    "        df = database_fb.retrieve(\"campaign_insights\", campaign_id=campaign.get('campaign_id')).tail(TIME_WINDOW_CONST)\n",
    "        df_train_y = make_df_train(df.head(PREDICT_STEP))\n",
    "        df.drop(df.head(PREDICT_STEP).index, inplace=True)\n",
    "        if len(df) < TIME_WINDOW_CONST and len(df) >= PREDICT_STEP:\n",
    "            size = len(df.index)//PREDICT_STEP * PREDICT_STEP\n",
    "            df_train_x = df.head(size)\n",
    "            df_train_x = make_df_train(df_train_x)\n",
    "            result = i_love_predict(df_train_x, df_train_y)\n",
    "            df_insights['predict_bids'] = result\n",
    "            for col in ['target', 'reach', 'spend', 'status', 'impressions', 'cost_per_target', 'request_time']:\n",
    "                df_insights.pop(col)\n",
    "            database_fb.upsert(\"campaign_predict_bids\", df_insights.to_dict('records')[0])\n",
    "        else:\n",
    "            print('[make_predict]: campaign_id {} not enough data to predict.'.format(campaign.get('campaign_id')))"
   ]
  },
  {
   "cell_type": "code",
   "execution_count": null,
   "metadata": {},
   "outputs": [],
   "source": [
    "# %matplotlib inline\n",
    "def i_love_predict(df_train_x, df_train_y):\n",
    "    import matplotlib.pyplot as plt\n",
    "    import numpy as np\n",
    "    from sklearn import linear_model\n",
    "    from sklearn.metrics import mean_squared_error, r2_score\n",
    "    df_train_x.pop('request_time'), df_train_y.pop('request_time')\n",
    "    regr = linear_model.Ridge(alpha=0.1)\n",
    "    regr.fit(df_train_x.iloc[0].as_matrix().reshape(-1,1), df_train_y.iloc[0].as_matrix().reshape(-1,1))\n",
    "    df_y_pred = regr.predict(df_train_y['cost_per_target'].iloc[0].as_matrix().reshape(-1, 1))\n",
    "    plt.plot([i for i in range(12)],\n",
    "             df_train_x['cost_per_target'].iloc[0].as_matrix().reshape(1,-1)[0].tolist() + df_y_pred.reshape(1,-1)[0].tolist(),\n",
    "             color='blue', linewidth=3)\n",
    "\n",
    "    plt.xticks(())\n",
    "    plt.yticks()\n",
    "\n",
    "    plt.show()\n",
    "    return str(df_y_pred.reshape(1,-1)[0].tolist())"
   ]
  },
  {
   "cell_type": "code",
   "execution_count": null,
   "metadata": {},
   "outputs": [],
   "source": [
    "# %matplotlib inline\n",
    "if __name__ == '__main__':\n",
    "    make_predict()"
   ]
  },
  {
   "cell_type": "code",
   "execution_count": 1,
   "metadata": {},
   "outputs": [
    {
     "name": "stdout",
     "output_type": "stream",
     "text": [
      "[NbConvertApp] Converting notebook i_love_predictive_bids.ipynb to script\n",
      "[NbConvertApp] Writing 3161 bytes to i_love_predictive_bids.py\n"
     ]
    }
   ],
   "source": [
    "# !jupyter nbconvert --to script i_love_predictive_bids.ipynb"
   ]
  },
  {
   "cell_type": "code",
   "execution_count": null,
   "metadata": {},
   "outputs": [],
   "source": []
  }
 ],
 "metadata": {
  "kernelspec": {
   "display_name": "Python 3",
   "language": "python",
   "name": "python3"
  },
  "language_info": {
   "codemirror_mode": {
    "name": "ipython",
    "version": 3
   },
   "file_extension": ".py",
   "mimetype": "text/x-python",
   "name": "python",
   "nbconvert_exporter": "python",
   "pygments_lexer": "ipython3",
   "version": "3.6.8"
  },
  "varInspector": {
   "cols": {
    "lenName": 16,
    "lenType": 16,
    "lenVar": 40
   },
   "kernels_config": {
    "python": {
     "delete_cmd_postfix": "",
     "delete_cmd_prefix": "del ",
     "library": "var_list.py",
     "varRefreshCmd": "print(var_dic_list())"
    },
    "r": {
     "delete_cmd_postfix": ") ",
     "delete_cmd_prefix": "rm(",
     "library": "var_list.r",
     "varRefreshCmd": "cat(var_dic_list()) "
    }
   },
   "types_to_exclude": [
    "module",
    "function",
    "builtin_function_or_method",
    "instance",
    "_Feature"
   ],
   "window_display": false
  }
 },
 "nbformat": 4,
 "nbformat_minor": 4
}
