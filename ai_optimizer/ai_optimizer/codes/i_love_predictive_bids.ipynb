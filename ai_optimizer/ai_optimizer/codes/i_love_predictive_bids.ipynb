{
 "cells": [
  {
   "cell_type": "code",
   "execution_count": null,
   "metadata": {},
   "outputs": [],
   "source": [
    "import mysql_adactivity_save\n",
    "import pandas as pd\n",
    "import numpy as np\n",
    "import facebook_datacollector as datacollector\n",
    "import database_controller\n",
    "import facebook_currency_handler as currency_handler\n",
    "import adgeek_permission as permission\n",
    "DATABASE = \"dev_facebook_test\"\n",
    "np.set_printoptions(suppress=True)\n",
    "BRANDING_LIST = ['LINK_CLICKS', 'ALL_CLICKS', 'VIDEO_VIEWS', 'REACH', 'IMPRESSIONS']\n",
    "\n",
    "TIME_WINDOW_CONST = 36\n",
    "PREDICT_STEP = 6"
   ]
  },
  {
   "cell_type": "code",
   "execution_count": null,
   "metadata": {},
   "outputs": [],
   "source": [
    "def make_df_train(df_train):\n",
    "    df_train.pop('status')\n",
    "    df_train_x = pd.concat(\n",
    "        [df_train.shift(-5),\n",
    "         df_train.shift(-4),\n",
    "         df_train.shift(-3),\n",
    "         df_train.shift(-2),\n",
    "         df_train.shift(-1),\n",
    "         df_train\n",
    "        ], axis=1, sort=False)\n",
    "    df_train_y = df_train.shift(-6)\n",
    "    df_train_x = df_train_x.dropna().reset_index(drop=True)\n",
    "    df_train_y = df_train_y[['cost_per_target']].dropna().reset_index(drop=True)\n",
    "    return df_train_x, df_train_y"
   ]
  },
  {
   "cell_type": "code",
   "execution_count": null,
   "metadata": {
    "scrolled": true
   },
   "outputs": [],
   "source": [
    "def make_predict():\n",
    "#     %matplotlib inline\n",
    "    global database_fb\n",
    "    database_fb = database_controller.FB(database_controller.Database)\n",
    "    branding_campaign_list = database_fb.get_branding_campaign().to_dict('records')\n",
    "    \n",
    "    print('[campaign_id_list]: ', [campaign.get('campaign_id') for campaign in branding_campaign_list])\n",
    "    for campaign in branding_campaign_list:\n",
    "        print('[campaign id]: ', campaign.get('campaign_id'), campaign.get('account_id'))\n",
    "        permission.init_facebook_api(campaign.get('account_id'))\n",
    "        df_insights = database_fb.retrieve(\"campaign_insights\", campaign_id=campaign.get('campaign_id')).tail(1)\n",
    "        \n",
    "        df = database_fb.retrieve(\"campaign_insights\", campaign_id=campaign.get('campaign_id')).tail(TIME_WINDOW_CONST)\n",
    "#         print(df)\n",
    "        df_train_x, df_train_y = make_df_train(df)\n",
    "#         if len(df_train_x) != len(df_train_y):\n",
    "#             print(len(df_train_x), len(df_train_y))\n",
    "#             continue\n",
    "        df.drop(df.head(PREDICT_STEP).index, inplace=True)\n",
    "        if len(df_train_x) < TIME_WINDOW_CONST and len(df_train_x) >= PREDICT_STEP:\n",
    "            size = len(df_train_x.index)//PREDICT_STEP * PREDICT_STEP\n",
    "            df_train_x, df_train_y = df_train_x.tail(size), df_train_y.tail(size)\n",
    "            result = i_love_predict(campaign.get('campaign_id'), df_train_x, df_train_y)\n",
    "            \n",
    "            df_insights['predict_bids'] = result\n",
    "            for col in ['target', 'reach', 'spend', 'status', 'impressions', 'cost_per_target', 'request_time']:\n",
    "                df_insights.pop(col)\n",
    "            database_fb.upsert(\"campaign_predict_bids\", df_insights.to_dict('records')[0])\n",
    "        else:\n",
    "            print('[make_predict]: campaign_id {} not enough data to predict.'.format(campaign.get('campaign_id')))"
   ]
  },
  {
   "cell_type": "code",
   "execution_count": null,
   "metadata": {},
   "outputs": [],
   "source": [
    "# %matplotlib inline\n",
    "def i_love_predict(campaign_id, df_train_x, df_train_y):\n",
    "    import matplotlib.pyplot as plt\n",
    "    import numpy as np\n",
    "    from sklearn import linear_model\n",
    "    from sklearn.metrics import mean_squared_error, r2_score\n",
    "#     campaign_id = str(df_train_x.campaign_id.iloc[:,0].unique().astype(np.int64)[0])\n",
    "#     print(type(campaign_id), campaign_id)\n",
    "    df_train_x.pop('request_time')#, df_train_y.pop('request_time')\n",
    "    df_train_x.pop('campaign_id')#, df_train_y.pop('campaign_id')\n",
    "    regr = linear_model.Ridge(alpha=0.0001)\n",
    "#     regr = linear_model.LinearRegression()\n",
    "    predict_bids_list = []\n",
    "    regr.fit(df_train_x[['cost_per_target']].values, df_train_y.values)\n",
    "    for i in range(0, 6):\n",
    "        df_y_pred = regr.predict(df_train_x[['cost_per_target']].tail(6).iloc[[i]].values)\n",
    "        train_x_list = df_train_x['cost_per_target'].tail(6).iloc[i].as_matrix().tolist()\n",
    "        train_x_list.reverse()\n",
    "        currency = currency_handler.get_currency_by_campaign(campaign_id)\n",
    "        bids = df_y_pred.reshape(1,-1)[0].tolist()[0]\n",
    "        if currency in currency_handler.OFFSET_A_HUNDRED:\n",
    "            bids = bids / 100\n",
    "        plt.plot(\n",
    "            [i for i in range(7)],\n",
    "            train_x_list + df_y_pred.reshape(1,-1)[0].tolist(),\n",
    "            color='blue', linewidth=3)\n",
    "        predict_bids_list.append( bids )\n",
    "    plt.show()\n",
    "    return str(predict_bids_list)"
   ]
  },
  {
   "cell_type": "code",
   "execution_count": null,
   "metadata": {},
   "outputs": [],
   "source": [
    "# %matplotlib inline\n",
    "if __name__ == '__main__':\n",
    "    make_predict()"
   ]
  },
  {
   "cell_type": "code",
   "execution_count": 1,
   "metadata": {},
   "outputs": [
    {
     "name": "stdout",
     "output_type": "stream",
     "text": [
      "[NbConvertApp] Converting notebook i_love_predictive_bids.ipynb to script\n",
      "[NbConvertApp] Writing 4349 bytes to i_love_predictive_bids.py\n"
     ]
    }
   ],
   "source": [
    "# !jupyter nbconvert --to script i_love_predictive_bids.ipynb"
   ]
  },
  {
   "cell_type": "code",
   "execution_count": null,
   "metadata": {},
   "outputs": [],
   "source": []
  }
 ],
 "metadata": {
  "kernelspec": {
   "display_name": "Python 3",
   "language": "python",
   "name": "python3"
  },
  "language_info": {
   "codemirror_mode": {
    "name": "ipython",
    "version": 3
   },
   "file_extension": ".py",
   "mimetype": "text/x-python",
   "name": "python",
   "nbconvert_exporter": "python",
   "pygments_lexer": "ipython3",
   "version": "3.6.8"
  },
  "varInspector": {
   "cols": {
    "lenName": 16,
    "lenType": 16,
    "lenVar": 40
   },
   "kernels_config": {
    "python": {
     "delete_cmd_postfix": "",
     "delete_cmd_prefix": "del ",
     "library": "var_list.py",
     "varRefreshCmd": "print(var_dic_list())"
    },
    "r": {
     "delete_cmd_postfix": ") ",
     "delete_cmd_prefix": "rm(",
     "library": "var_list.r",
     "varRefreshCmd": "cat(var_dic_list()) "
    }
   },
   "types_to_exclude": [
    "module",
    "function",
    "builtin_function_or_method",
    "instance",
    "_Feature"
   ],
   "window_display": false
  }
 },
 "nbformat": 4,
 "nbformat_minor": 4
}
