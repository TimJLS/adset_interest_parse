{
 "cells": [
  {
   "cell_type": "code",
   "execution_count": 11,
   "metadata": {},
   "outputs": [
    {
     "name": "stdout",
     "output_type": "stream",
     "text": [
      "{'adset_id': 23843355587230564, 'bid': 40.0}\n"
     ]
    }
   ],
   "source": [
    "import math\n",
    "import numpy as np\n",
    "import pandas as pd\n",
    "import copy\n",
    "import ai_engine_db\n",
    "ADAPTER = {\n",
    "    \"Amobee\":{\n",
    "        \"adset_id\":\"package_id\",\n",
    "        \"campaign_id\":\"ioid\",\n",
    "        \"adset_progress\":\"package_progress\",\n",
    "        \"campaign_progress\":\"io_progress\"\n",
    "    },\n",
    "    \"Facebook\":{\n",
    "        \"adset_id\":\"adset_id\",\n",
    "        \"campaign_id\":\"campaign_id\",\n",
    "        \"adset_progress\":\"adset_progress\",\n",
    "        \"campaign_progress\":\"campaign_progress\"\n",
    "    },\n",
    "    \"GDN\":{\n",
    "        \"adset_id\":\"adgroup_id\",\n",
    "        \"campaign_id\":\"campaign_id\",\n",
    "        \"adset_progress\":\"adgroup_progress\",\n",
    "        \"campaign_progress\":\"campaign_progress\"\n",
    "    },\n",
    "    \"GSN\":{\n",
    "        \"adset_id\":\"keyword_id\",\n",
    "        \"campaign_id\":\"campaign_id\",\n",
    "        \"adset_progress\":\"keyword_progress\",\n",
    "        \"campaign_progress\":\"campaign_progress\"\n",
    "    }\n",
    "}\n",
    "\n",
    "BID = 'bid'\n",
    "INIT_BID = 'init_bid'\n",
    "LAST_BID = 'last_bid'\n",
    "\n",
    "CENTER = 1\n",
    "WIDTH = 10\n",
    "BID_RANGE = 2.0\n",
    "\n",
    "def reverse_bid_amount(bid_amount):\n",
    "    init_bid = bid_amount / ( BID_RANGE * ( normalized_sigmoid_fkt(CENTER, WIDTH, 0) - 0.5 ) + 1 )\n",
    "    return init_bid\n",
    "\n",
    "def revert_bid_amount(bid_amount):\n",
    "    init_bid = bid_amount * ( BID_RANGE * ( normalized_sigmoid_fkt(CENTER, WIDTH, 0) - 0.5 ) + 1 )\n",
    "    return init_bid\n",
    "\n",
    "def normalized_sigmoid_fkt(center, width, progress):\n",
    "    s= 1/( 1 + np.exp( width * ( progress-center ) ) )\n",
    "    return s\n",
    "\n",
    "def adjust(media, **status):\n",
    "#     adset_id = status.get(ADSET_ID)\n",
    "    init_bid = status.get(INIT_BID)\n",
    "    last_bid = status.get(LAST_BID)\n",
    "    ADSET_PROGRESS = ADAPTER[media].get(\"adset_progress\")\n",
    "    CAMPAIGN_PROGRESS = ADAPTER[media].get(\"campaign_progress\")\n",
    "    ADSET_ID = ADAPTER[media].get(\"adset_id\")\n",
    "    \n",
    "    adset_progress = status.get(ADSET_PROGRESS)\n",
    "    campaign_progress = status.get(CAMPAIGN_PROGRESS)\n",
    "\n",
    "    if adset_progress > 1 and campaign_progress > 1:\n",
    "        bid = math.ceil(init_bid)\n",
    "    elif adset_progress > 1 and campaign_progress < 1:\n",
    "        bid = last_bid\n",
    "    else:\n",
    "#         init_bid = reverse_bid_amount(init_bid)\n",
    "        bid = init_bid + BID_RANGE*init_bid*( normalized_sigmoid_fkt(CENTER, WIDTH, adset_progress) - 0.5 )\n",
    "        bid = bid.astype(dtype=object)\n",
    "    if not str(adset_progress).split(\".\")[0].isdigit():\n",
    "        bid = init_bid\n",
    "    status.update( {\n",
    "        'media': media,\n",
    "        'bid': bid\n",
    "    } )\n",
    "    status['id'] = status.pop( ADAPTER[media]['adset_id'] )\n",
    "    status['campaign_progress'] = status.pop( ADAPTER[media]['campaign_progress'] )\n",
    "    status['adset_progress'] = status.pop( ADAPTER[media]['adset_progress'] )\n",
    "    df_status = pd.DataFrame( status, index=[0] )\n",
    "    ai_engine_db.into_table( df_status, \"bidding_computation\" )\n",
    "    return { ADAPTER[media].get(\"adset_id\"):status['id'], BID:np.round(bid, 2) }\n",
    "\n",
    "if __name__=='__main__':\n",
    "    status = {'campaign_progress': 0.0, 'adset_id': 23843355587230564, 'init_bid': 20, 'adset_progress': 0.0, 'last_bid': 20}\n",
    "    media = \"Facebook\"\n",
    "#     status = {'package_progress': 0.0, 'io_progress': 0.0, 'package_id': 1605818545, 'last_bid': 450, 'init_bid': 450}\n",
    "#     media = 'Amobee'\n",
    "    result = adjust(media, **status)\n",
    "    print(result)"
   ]
  },
  {
   "cell_type": "code",
   "execution_count": 12,
   "metadata": {},
   "outputs": [
    {
     "name": "stdout",
     "output_type": "stream",
     "text": [
      "[NbConvertApp] Converting notebook gsn_bid_operator.ipynb to script\n",
      "[NbConvertApp] Writing 3195 bytes to gsn_bid_operator.py\n"
     ]
    }
   ],
   "source": [
    "#!jupyter nbconvert --to script gsn_bid_operator.ipynb"
   ]
  },
  {
   "cell_type": "code",
   "execution_count": null,
   "metadata": {},
   "outputs": [],
   "source": []
  }
 ],
 "metadata": {
  "kernelspec": {
   "display_name": "Python 3",
   "language": "python",
   "name": "python3"
  },
  "language_info": {
   "codemirror_mode": {
    "name": "ipython",
    "version": 3
   },
   "file_extension": ".py",
   "mimetype": "text/x-python",
   "name": "python",
   "nbconvert_exporter": "python",
   "pygments_lexer": "ipython3",
   "version": "3.6.8"
  }
 },
 "nbformat": 4,
 "nbformat_minor": 4
}
