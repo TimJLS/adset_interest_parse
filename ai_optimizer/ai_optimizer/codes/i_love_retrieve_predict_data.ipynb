{
 "cells": [
  {
   "cell_type": "code",
   "execution_count": null,
   "metadata": {},
   "outputs": [],
   "source": [
    "import pandas as pd\n",
    "from pandas.io import sql\n",
    "from sqlalchemy import create_engine\n",
    "import pymysql\n",
    "pymysql.install_as_MySQLdb()\n",
    "import MySQLdb\n",
    "import datetime\n",
    "\n",
    "import adgeek_permission as permission\n",
    "import database_controller\n",
    "import facebook_datacollector as datacollector"
   ]
  },
  {
   "cell_type": "code",
   "execution_count": null,
   "metadata": {},
   "outputs": [],
   "source": [
    "def make_campaign_bid(campaign_id):\n",
    "    df_adsets = database_fb.retrieve(\"table_insights\", campaign_id=campaign_id,)\n",
    "    campaign_bid = df_adsets.sort_values('request_time').groupby('adset_id').tail(1).mean()['bid_amount']\n",
    "    return campaign_bid.astype(object)\n",
    "\n",
    "def main_retrieve():\n",
    "    global database_fb\n",
    "    database_fb = database_controller.FB(database_controller.Database)\n",
    "    branding_campaign_list = database_fb.get_branding_campaign().to_dict('records')\n",
    "    print([campaign.get('campaign_id') for campaign in branding_campaign_list])\n",
    "    for campaign in branding_campaign_list:\n",
    "        account_id = campaign.get('account_id')\n",
    "        campaign_id = campaign.get('campaign_id')\n",
    "        destination = campaign.get('destination')\n",
    "        spend_cap   = campaign.get('ai_spend_cap')\n",
    "        bid_amount  = spend_cap/destination\n",
    "        print('=========[campaign_id]:', campaign_id)\n",
    "        permission.init_facebook_api(account_id)\n",
    "        campaign_bid = make_campaign_bid(campaign_id)\n",
    "\n",
    "        campaign = datacollector.Campaigns(campaign_id,)\n",
    "        insights = campaign.get_campaign_insights(date_preset='today')\n",
    "        insights['target'], _, _, _ = insights.pop('action'), insights.pop('awareness'), insights.pop('desire'), insights.pop('interest')\n",
    "        \n",
    "        insights['cost_per_target'] = int(insights['spend'])/insights['target'] if insights.get('target') else 0\n",
    "        print(insights)\n",
    "        if insights:\n",
    "            insights['campaign_id'] = campaign_id\n",
    "            insights['bid_amount'] = campaign_bid\n",
    "            database_fb.upsert(\"campaign_insights\", insights)"
   ]
  },
  {
   "cell_type": "code",
   "execution_count": null,
   "metadata": {},
   "outputs": [],
   "source": [
    "if __name__ == '__main__':\n",
    "    main_retrieve()"
   ]
  },
  {
   "cell_type": "code",
   "execution_count": null,
   "metadata": {},
   "outputs": [],
   "source": [
    "# !jupyter nbconvert --to script i_love_retrieve_predict_data.ipynb"
   ]
  },
  {
   "cell_type": "code",
   "execution_count": null,
   "metadata": {},
   "outputs": [],
   "source": []
  }
 ],
 "metadata": {
  "kernelspec": {
   "display_name": "Python 3",
   "language": "python",
   "name": "python3"
  },
  "language_info": {
   "codemirror_mode": {
    "name": "ipython",
    "version": 3
   },
   "file_extension": ".py",
   "mimetype": "text/x-python",
   "name": "python",
   "nbconvert_exporter": "python",
   "pygments_lexer": "ipython3",
   "version": "3.6.8"
  },
  "varInspector": {
   "cols": {
    "lenName": 16,
    "lenType": 16,
    "lenVar": 40
   },
   "kernels_config": {
    "python": {
     "delete_cmd_postfix": "",
     "delete_cmd_prefix": "del ",
     "library": "var_list.py",
     "varRefreshCmd": "print(var_dic_list())"
    },
    "r": {
     "delete_cmd_postfix": ") ",
     "delete_cmd_prefix": "rm(",
     "library": "var_list.r",
     "varRefreshCmd": "cat(var_dic_list()) "
    }
   },
   "types_to_exclude": [
    "module",
    "function",
    "builtin_function_or_method",
    "instance",
    "_Feature"
   ],
   "window_display": false
  }
 },
 "nbformat": 4,
 "nbformat_minor": 4
}
