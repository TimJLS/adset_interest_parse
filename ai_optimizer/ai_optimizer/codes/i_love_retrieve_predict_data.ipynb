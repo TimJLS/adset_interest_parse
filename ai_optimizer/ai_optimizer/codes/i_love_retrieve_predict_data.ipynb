{
 "cells": [
  {
   "cell_type": "code",
   "execution_count": 1,
   "metadata": {},
   "outputs": [],
   "source": [
    "import facebook_datacollector as datacollector\n",
    "import pandas as pd\n",
    "from pandas.io import sql\n",
    "from sqlalchemy import create_engine\n",
    "import pymysql\n",
    "pymysql.install_as_MySQLdb()\n",
    "import MySQLdb\n",
    "import datetime\n",
    "DATABASE=\"dev_facebook_test\"\n",
    "HOST = \"aws-prod-ai-private.adgeek.cc\"\n",
    "DATE = datetime.datetime.now().date()\n",
    "BRANDING_LIST = ['LINK_CLICKS', 'ALL_CLICKS', 'VIDEO_VIEWS', 'REACH', 'IMPRESSIONS']\n"
   ]
  },
  {
   "cell_type": "code",
   "execution_count": 2,
   "metadata": {},
   "outputs": [],
   "source": [
    "import mysql_adactivity_save as ad_save"
   ]
  },
  {
   "cell_type": "code",
   "execution_count": 3,
   "metadata": {},
   "outputs": [],
   "source": [
    "\n",
    "\n",
    "def make_campaign_bid(campaign_id):\n",
    "    mydb = ad_save.connectDB(DATABASE)\n",
    "    sub_sql = \"select distinct adset_id from adset_insights where ( campaign_id = {}  and request_time like '{}%' )\".format(campaign_id, DATE)\n",
    "    adset_id_list = pd.read_sql(sub_sql, con=mydb)['adset_id'].unique()\n",
    "    sql = \"select adset_id, bid_amount, request_time from adset_insights where adset_id in ({})\".format(sub_sql)\n",
    "    df_test = pd.read_sql(sql, con=mydb)\n",
    "    mydb.close()\n",
    "\n",
    "    df_test.sort_values('request_time').groupby('adset_id').tail(1)\n",
    "    campaign_bid = df_test.sort_values('request_time').groupby('adset_id').tail(1).mean()['bid_amount']\n",
    "    return campaign_bid\n",
    "def main_retrieve():\n",
    "    mydb = ad_save.connectDB(DATABASE)\n",
    "    df = ad_save.get_campaign_target()\n",
    "    df_branding = df[df['charge_type'].isin( BRANDING_LIST )]\n",
    "    branding_campaign_id_list = df_branding.campaign_id.tolist()\n",
    "    print(branding_campaign_id_list)\n",
    "    for campaign_id in branding_campaign_id_list:\n",
    "        destination = df[df.campaign_id==campaign_id].destination.iloc[0]\n",
    "        spend_cap = df[df.campaign_id==campaign_id].spend_cap.iloc[0]\n",
    "        bid_amount = spend_cap/destination\n",
    "        charge_type = df[df.campaign_id==campaign_id].charge_type.iloc[0]\n",
    "\n",
    "        campaign_bid = make_campaign_bid(campaign_id)\n",
    "\n",
    "        campaign = datacollector.Campaigns(campaign_id, charge_type)\n",
    "        insights = campaign.get_campaign_insights(date_preset='today')\n",
    "        print(insights)\n",
    "        if insights:\n",
    "            insights['campaign_id'] = campaign_id\n",
    "            insights['bid_amount'] = campaign_bid\n",
    "            ad_save.intoDB(\"campaign_insights\", pd.DataFrame(insights, index=[0]))\n",
    "    mydb.close()"
   ]
  },
  {
   "cell_type": "code",
   "execution_count": 4,
   "metadata": {},
   "outputs": [
    {
     "name": "stdout",
     "output_type": "stream",
     "text": [
      "[23843358370700576, 23843546765400616, 23843431154770620, 23843584924490768, 23843460479780395]\n",
      "{'cost_per_target': 0.518324607329843, 'target': 191, 'impressions': '1162', 'reach': '1095', 'spend': '99'}\n",
      "{'cost_per_target': 6.875, 'target': 32, 'impressions': '1311', 'reach': '1275', 'spend': '220'}\n",
      "{'cost_per_target': '5.847458', 'target': '118', 'impressions': '7817', 'reach': '7308', 'spend': '690'}\n",
      "{'cost_per_target': 4.314814814814815, 'target': 54, 'impressions': '2651', 'reach': '2474', 'spend': '233'}\n",
      "{'cost_per_target': 0.02627511591962906, 'target': '5823', 'impressions': '6198', 'reach': '5823', 'spend': '153'}\n"
     ]
    }
   ],
   "source": [
    "if __name__ == '__main__':\n",
    "    main_retrieve()"
   ]
  },
  {
   "cell_type": "code",
   "execution_count": 5,
   "metadata": {},
   "outputs": [],
   "source": [
    "#!jupyter nbconvert --to script i_love_retrieve_predict_data.ipynb"
   ]
  },
  {
   "cell_type": "code",
   "execution_count": null,
   "metadata": {},
   "outputs": [],
   "source": []
  }
 ],
 "metadata": {
  "kernelspec": {
   "display_name": "Python 3",
   "language": "python",
   "name": "python3"
  },
  "language_info": {
   "codemirror_mode": {
    "name": "ipython",
    "version": 3
   },
   "file_extension": ".py",
   "mimetype": "text/x-python",
   "name": "python",
   "nbconvert_exporter": "python",
   "pygments_lexer": "ipython3",
   "version": "3.6.7"
  },
  "varInspector": {
   "cols": {
    "lenName": 16,
    "lenType": 16,
    "lenVar": 40
   },
   "kernels_config": {
    "python": {
     "delete_cmd_postfix": "",
     "delete_cmd_prefix": "del ",
     "library": "var_list.py",
     "varRefreshCmd": "print(var_dic_list())"
    },
    "r": {
     "delete_cmd_postfix": ") ",
     "delete_cmd_prefix": "rm(",
     "library": "var_list.r",
     "varRefreshCmd": "cat(var_dic_list()) "
    }
   },
   "types_to_exclude": [
    "module",
    "function",
    "builtin_function_or_method",
    "instance",
    "_Feature"
   ],
   "window_display": false
  }
 },
 "nbformat": 4,
 "nbformat_minor": 2
}
