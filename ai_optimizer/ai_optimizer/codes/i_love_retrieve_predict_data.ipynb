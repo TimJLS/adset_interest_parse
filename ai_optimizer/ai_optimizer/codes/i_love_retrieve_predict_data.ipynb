{
 "cells": [
  {
   "cell_type": "code",
   "execution_count": 2,
   "metadata": {},
   "outputs": [],
   "source": [
    "import facebook_datacollector as datacollector\n",
    "import pandas as pd\n",
    "from pandas.io import sql\n",
    "from sqlalchemy import create_engine\n",
    "import pymysql\n",
    "pymysql.install_as_MySQLdb()\n",
    "import MySQLdb\n",
    "import datetime\n",
    "DATABASE=\"dev_facebook_test\"\n",
    "HOST = \"aws-prod-ai-private.adgeek.cc\"\n",
    "DATE = datetime.datetime.now().date()\n",
    "BRANDING_LIST = ['LINK_CLICKS', 'ALL_CLICKS', 'VIDEO_VIEWS', 'REACH']\n"
   ]
  },
  {
   "cell_type": "code",
   "execution_count": 3,
   "metadata": {},
   "outputs": [],
   "source": [
    "import mysql_adactivity_save as ad_save"
   ]
  },
  {
   "cell_type": "code",
   "execution_count": 4,
   "metadata": {},
   "outputs": [],
   "source": [
    "\n",
    "\n",
    "def make_campaign_bid(campaign_id):\n",
    "    mydb = ad_save.connectDB(DATABASE)\n",
    "    sub_sql = \"select distinct adset_id from adset_insights where ( campaign_id = {}  and request_time like '{}%' )\".format(campaign_id, DATE)\n",
    "    adset_id_list = pd.read_sql(sub_sql, con=mydb)['adset_id'].unique()\n",
    "    sql = \"select adset_id, bid_amount, request_time from adset_insights where adset_id in ({})\".format(sub_sql)\n",
    "    df_test = pd.read_sql(sql, con=mydb)\n",
    "    mydb.close()\n",
    "\n",
    "    df_test.sort_values('request_time').groupby('adset_id').tail(1)\n",
    "    campaign_bid = df_test.sort_values('request_time').groupby('adset_id').tail(1).mean()['bid_amount']\n",
    "    return campaign_bid\n",
    "def main_retrieve():\n",
    "    mydb = ad_save.connectDB(DATABASE)\n",
    "    df = ad_save.get_campaign_target()\n",
    "    df_branding = df[df['charge_type'].isin( BRANDING_LIST )]\n",
    "    branding_campaign_id_list = df_branding.campaign_id.tolist()\n",
    "    print(branding_campaign_id_list)\n",
    "    for campaign_id in branding_campaign_id_list:\n",
    "        destination = df[df.campaign_id==campaign_id].destination.iloc[0]\n",
    "        spend_cap = df[df.campaign_id==campaign_id].spend_cap.iloc[0]\n",
    "        bid_amount = spend_cap/destination\n",
    "        charge_type = df[df.campaign_id==campaign_id].charge_type.iloc[0]\n",
    "\n",
    "        campaign_bid = make_campaign_bid(campaign_id)\n",
    "\n",
    "        campaign = datacollector.Campaigns(campaign_id, charge_type)\n",
    "        insights = campaign.get_campaign_insights(date_preset='today')\n",
    "        print(insights)\n",
    "        if insights:\n",
    "            insights['campaign_id'] = campaign_id\n",
    "            insights['bid_amount'] = campaign_bid\n",
    "            ad_save.intoDB(\"campaign_insights\", pd.DataFrame(insights, index=[0]))\n",
    "    mydb.close()"
   ]
  },
  {
   "cell_type": "code",
   "execution_count": 5,
   "metadata": {},
   "outputs": [
    {
     "name": "stdout",
     "output_type": "stream",
     "text": [
      "[23843358370700576, 23843546765400616, 23843461102670105, 23842951603280033, 23842951382220033]\n",
      "{'cost_per_target': 0.4329896907216495, 'target': 291, 'impressions': '2095', 'reach': '1934', 'spend': '126'}\n",
      "{'cost_per_target': 8.733333333333333, 'target': 30, 'impressions': '1600', 'reach': '1522', 'spend': '262'}\n",
      "{'cost_per_target': 0.0658682634730539, 'target': 167, 'impressions': '4222', 'reach': '3660', 'spend': '11.08'}\n",
      "None\n",
      "{'cost_per_target': 0.05583756345177665, 'target': '394', 'impressions': '394', 'reach': '394', 'spend': '22'}\n"
     ]
    }
   ],
   "source": [
    "if __name__ == '__main__':\n",
    "    main_retrieve()"
   ]
  },
  {
   "cell_type": "code",
   "execution_count": 7,
   "metadata": {},
   "outputs": [
    {
     "name": "stdout",
     "output_type": "stream",
     "text": [
      "[NbConvertApp] Converting notebook i_love_retrieve_predict_data.ipynb to script\n",
      "[NbConvertApp] Writing 2218 bytes to i_love_retrieve_predict_data.txt\n"
     ]
    }
   ],
   "source": [
    "#!jupyter nbconvert --to script i_love_retrieve_predict_data.ipynb"
   ]
  },
  {
   "cell_type": "code",
   "execution_count": null,
   "metadata": {},
   "outputs": [],
   "source": []
  }
 ],
 "metadata": {
  "kernelspec": {
   "display_name": "Python 3",
   "language": "python",
   "name": "python3"
  },
  "varInspector": {
   "cols": {
    "lenName": 16,
    "lenType": 16,
    "lenVar": 40
   },
   "kernels_config": {
    "python": {
     "delete_cmd_postfix": "",
     "delete_cmd_prefix": "del ",
     "library": "var_list.py",
     "varRefreshCmd": "print(var_dic_list())"
    },
    "r": {
     "delete_cmd_postfix": ") ",
     "delete_cmd_prefix": "rm(",
     "library": "var_list.r",
     "varRefreshCmd": "cat(var_dic_list()) "
    }
   },
   "types_to_exclude": [
    "module",
    "function",
    "builtin_function_or_method",
    "instance",
    "_Feature"
   ],
   "window_display": false
  }
 },
 "nbformat": 4,
 "nbformat_minor": 2
}
