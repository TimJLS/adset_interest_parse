{
 "cells": [
  {
   "cell_type": "code",
   "execution_count": null,
   "metadata": {},
   "outputs": [],
   "source": [
    "from pathlib import Path\n",
    "import datetime\n",
    "import time\n",
    "import math\n",
    "\n",
    "from facebook_business.api import FacebookAdsApi\n",
    "import facebook_business.adobjects.adaccount as facebook_business_adaccount\n",
    "import facebook_business.adobjects.adset as facebook_business_adset\n",
    "import facebook_business.adobjects.campaign as facebook_business_campaign\n",
    "import facebook_business.adobjects.adsinsights as facebook_business_adsinsights\n",
    "import facebook_business.adobjects.adaccounttargetingunified as facebook_business_adaccounttarget\n",
    "import database_controller\n",
    "import adgeek_permission as permission"
   ]
  },
  {
   "cell_type": "code",
   "execution_count": null,
   "metadata": {},
   "outputs": [],
   "source": [
    "OFFSET_ONE = [\n",
    "    'CLP','COP','CRC','HUF','ISK','IDR','JPY','KRW','PYG','TWD','VND']\n",
    "OFFSET_A_HUNDRED = [\n",
    "    'ARS',\n",
    "    'AUD',\n",
    "    'BDT',\n",
    "    'BOB',\n",
    "    'BRL',\n",
    "    'GBP',\n",
    "    'CAD',\n",
    "    'CNY',\n",
    "    'CZK',\n",
    "    'DKK',\n",
    "    'EGP',\n",
    "    'EUR',\n",
    "    'GTQ',\n",
    "    'HNL',\n",
    "    'HKD',\n",
    "    'INR',\n",
    "    'ILS',\n",
    "    'KES',\n",
    "    'MOP',\n",
    "    'MYR',\n",
    "    'MXN',\n",
    "    'NZD',\n",
    "    'NIO',\n",
    "    'NGN',\n",
    "    'NOK',\n",
    "    'PKR',\n",
    "    'PEN',\n",
    "    'PHP',\n",
    "    'PLN',\n",
    "    'QAR',\n",
    "    'RON',\n",
    "    'RUB',\n",
    "    'SAR',\n",
    "    'SGD',\n",
    "    'ZAR',\n",
    "    'SEK',\n",
    "    'CHF',\n",
    "    'THB',\n",
    "    'TRY',\n",
    "    'AED',\n",
    "    'USD',\n",
    "    'UYU',\n",
    "    'VEF'\n",
    "]"
   ]
  },
  {
   "cell_type": "code",
   "execution_count": null,
   "metadata": {},
   "outputs": [],
   "source": [
    "def get_account_id_by_adset(adset_id):\n",
    "    this_adsets = facebook_business_adset.AdSet( adset_id ).api_get(fields=[\"account_id\"])\n",
    "    account_id = this_adsets.get('account_id')\n",
    "    return account_id\n",
    "\n",
    "def get_account_id_by_campaign(campaign_id):\n",
    "    this_campaign = facebook_business_campaign.Campaign( campaign_id ).api_get(fields=[\"account_id\"])\n",
    "    account_id = this_campaign.get('account_id')\n",
    "    return account_id\n",
    "\n",
    "\n",
    "def is_currency_existed(campaign_id):\n",
    "    db = database_controller.Database()\n",
    "    database_fb = database_controller.FB(db)\n",
    "    df = database_fb.retrieve(\"facebook_campaign_currency\", campaign_id, by_request_time=False)\n",
    "    return not df.empty\n",
    "\n",
    "def get_currency_from_database(campaign_id):\n",
    "    db = database_controller.Database()\n",
    "    database_fb = database_controller.FB(db)\n",
    "    df = database_fb.retrieve(\"facebook_campaign_currency\", campaign_id, by_request_time=False)\n",
    "\n",
    "    for (idx, row,) in df.iterrows():\n",
    "        currency = row[\"currency\"]\n",
    "    return currency\n",
    "\n",
    "\n",
    "def insert_currency_into_database(campaign_id, currency):\n",
    "    db = database_controller.Database()\n",
    "    database_fb = database_controller.FB(db)\n",
    "    df = database_fb.insert(\n",
    "        \"facebook_campaign_currency\",\n",
    "        {\n",
    "            'campaign_id': campaign_id,\n",
    "            'currency': currency,\n",
    "        }\n",
    "    )\n",
    "\n",
    "def get_currency_by_campaign(campaign_id):\n",
    "    \n",
    "    currency = ''\n",
    "    if is_currency_existed(campaign_id):\n",
    "        currency = get_currency_from_database(campaign_id)\n",
    "    else:\n",
    "        account_id = get_account_id_by_campaign(campaign_id)\n",
    "        \n",
    "        account_id_act = 'act_' + str(account_id)\n",
    "        currency = facebook_business_adaccount.AdAccount(account_id_act).api_get(fields=[\"currency\"]).get('currency')\n",
    "        insert_currency_into_database(campaign_id, currency)\n",
    "    return currency\n",
    "\n",
    "def get_proper_bid(campaign_id, init_bid):\n",
    "    currency = get_currency_by_campaign(campaign_id)\n",
    "    bid = init_bid\n",
    "    if currency in OFFSET_A_HUNDRED:\n",
    "        bid = math.ceil(init_bid*1.1)\n",
    "    else:\n",
    "        if init_bid > 100:\n",
    "            bid = math.ceil(init_bid*1.1)\n",
    "        else:\n",
    "            bid = init_bid + 1\n",
    "            \n",
    "    return bid\n",
    "    \n",
    "    \n",
    "def main():\n",
    "    \n",
    "    currency = get_currency_by_campaign(23843429637800443)\n",
    "    print(currency)"
   ]
  },
  {
   "cell_type": "code",
   "execution_count": null,
   "metadata": {},
   "outputs": [],
   "source": [
    "# if __name__ == \"__main__\":\n",
    "#     main()"
   ]
  },
  {
   "cell_type": "code",
   "execution_count": 1,
   "metadata": {},
   "outputs": [
    {
     "name": "stdout",
     "output_type": "stream",
     "text": [
      "[NbConvertApp] Converting notebook facebook_currency_handler.ipynb to script\n",
      "[NbConvertApp] Writing 3623 bytes to facebook_currency_handler.py\n"
     ]
    }
   ],
   "source": [
    "# !jupyter nbconvert --to script facebook_currency_handler.ipynb"
   ]
  },
  {
   "cell_type": "code",
   "execution_count": null,
   "metadata": {},
   "outputs": [],
   "source": []
  }
 ],
 "metadata": {
  "kernelspec": {
   "display_name": "Python 3",
   "language": "python",
   "name": "python3"
  },
  "language_info": {
   "codemirror_mode": {
    "name": "ipython",
    "version": 3
   },
   "file_extension": ".py",
   "mimetype": "text/x-python",
   "name": "python",
   "nbconvert_exporter": "python",
   "pygments_lexer": "ipython3",
   "version": "3.6.8"
  },
  "varInspector": {
   "cols": {
    "lenName": 16,
    "lenType": 16,
    "lenVar": 40
   },
   "kernels_config": {
    "python": {
     "delete_cmd_postfix": "",
     "delete_cmd_prefix": "del ",
     "library": "var_list.py",
     "varRefreshCmd": "print(var_dic_list())"
    },
    "r": {
     "delete_cmd_postfix": ") ",
     "delete_cmd_prefix": "rm(",
     "library": "var_list.r",
     "varRefreshCmd": "cat(var_dic_list()) "
    }
   },
   "types_to_exclude": [
    "module",
    "function",
    "builtin_function_or_method",
    "instance",
    "_Feature"
   ],
   "window_display": false
  }
 },
 "nbformat": 4,
 "nbformat_minor": 4
}
