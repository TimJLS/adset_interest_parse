{
 "cells": [
  {
   "cell_type": "code",
   "execution_count": 1,
   "metadata": {},
   "outputs": [
    {
     "name": "stdout",
     "output_type": "stream",
     "text": [
      "USD\n"
     ]
    }
   ],
   "source": [
    "from pathlib import Path\n",
    "import datetime\n",
    "import time\n",
    "import math\n",
    "\n",
    "from facebook_business.api import FacebookAdsApi\n",
    "import facebook_business.adobjects.adaccount as facebook_business_adaccount\n",
    "import facebook_business.adobjects.adset as facebook_business_adset\n",
    "import facebook_business.adobjects.campaign as facebook_business_campaign\n",
    "import facebook_business.adobjects.adsinsights as facebook_business_adsinsights\n",
    "import facebook_business.adobjects.adaccounttargetingunified as facebook_business_adaccounttarget\n",
    "import mysql_adactivity_save as mysql_saver\n",
    "\n",
    "my_app_id = '958842090856883'\n",
    "my_app_secret = 'a952f55afca38572cea2994d440d674b'\n",
    "my_access_token = 'EAANoD9I4obMBALrHTgMWgRujnWcZA3ZB823phs6ynDDtQxnzIZASyRQZCHfr5soXBZA7NM9Dc4j9O8FtnlIzxiPCsYt4tmPQ6ZAT3yJLPuYQqjnWZBWX5dsOVzNhEqsHYj1jVJ3RAVVueW7RSxRDbNXKvK3W23dcAjNMjxIjQGIOgZDZD'\n",
    "tim_access_token = 'EAANoD9I4obMBAPcoZA5V7OZBQaPa3Tk7NMAT0ZBZCepdD8zZBcwMZBMHAM1zPeQiRY4Yw07rscee4LMRn9lMsJGuNZAYBA4nCYdZA6tsyL0KGTfQKIAFls3T5jul9Am6t95nbvcGXFmcFDYEyZAX2FpAuVesVGyiHuLFRKxlXfh5t6AZDZD'\n",
    "# 'EAANoD9I4obMBAHukuWuiyeNxAPGEojU982JmGHJP1MsdM03H3gY3EVQj5G3gzZCq7KECX0lOi87ZCGKZA5hy1INxZBhD6azH8oYHICQ1BhZAojC50zjgUa54f9R2VInhLGpHGXl6F1VWltmRK6LeF5kRkDvZC4lkZCzSU4II1gJ1NoC0SaiS6D6piSp2rUTqPXTtASZBRfy5tbscOhfXDSxyai7IAaeCFb5xRBH4QsRm8wZDZD'\n",
    "\n",
    "FacebookAdsApi.init(my_app_id, my_app_secret, my_access_token)\n",
    "\n",
    "\n",
    "def get_account_id_by_adset(adset_id):\n",
    "    this_adsets = facebook_business_adset.AdSet( adset_id ).remote_read(fields=[\"account_id\"])\n",
    "    account_id = this_adsets.get('account_id')\n",
    "    return account_id\n",
    "\n",
    "def get_account_id_by_campaign(campaign_id):\n",
    "    this_campaign = facebook_business_campaign.Campaign( campaign_id ).remote_read(fields=[\"account_id\"])\n",
    "    account_id = this_campaign.get('account_id')\n",
    "    return account_id\n",
    "\n",
    "\n",
    "def is_currency_existed(campaign_id):\n",
    "    my_db = mysql_saver.connectDB(mysql_saver.DATABASE)\n",
    "    my_cursor = my_db.cursor()\n",
    "    sql = 'SELECT * FROM facebook_campaign_currency where campaign_id = {}'.format(campaign_id)\n",
    "    my_cursor.execute(sql)\n",
    "    result = my_cursor.fetchall()\n",
    "    my_db.commit()\n",
    "    my_db.close()\n",
    "    return len(result) > 0\n",
    "\n",
    "def get_currency_from_database(campaign_id):\n",
    "    my_db = mysql_saver.connectDB(mysql_saver.DATABASE)\n",
    "    my_cursor = my_db.cursor()\n",
    "    sql = 'SELECT currency FROM facebook_campaign_currency where campaign_id = {}'.format(campaign_id)\n",
    "    my_cursor.execute(sql)\n",
    "    result = my_cursor.fetchone()\n",
    "    currency = result[0]\n",
    "    my_db.commit()\n",
    "    my_db.close()\n",
    "    return currency\n",
    "\n",
    "\n",
    "def insert_currency_into_database(campaign_id, currency):\n",
    "    my_db = mysql_saver.connectDB(mysql_saver.DATABASE)\n",
    "    my_cursor = my_db.cursor()    \n",
    "    sql = \"INSERT INTO facebook_campaign_currency ( campaign_id, currency ) VALUES ( %s, %s  )\"\n",
    "    val = ( campaign_id, currency )\n",
    "    my_cursor.execute(sql, val)\n",
    "    my_db.commit()\n",
    "    my_db.close()\n",
    "\n",
    "def get_currency_by_campaign(campaign_id):\n",
    "    currency = ''\n",
    "    if is_currency_existed(campaign_id):\n",
    "        currency = get_currency_from_database(campaign_id)\n",
    "    else:\n",
    "        account_id = get_account_id_by_campaign(campaign_id)\n",
    "        account_id_act = 'act_' + str(account_id)\n",
    "        currency = facebook_business_adaccount.AdAccount(account_id_act).remote_read(fields=[\"currency\"]).get('currency')\n",
    "        insert_currency_into_database(campaign_id, currency)\n",
    "    return currency\n",
    "\n",
    "def get_proper_bid(campaign_id, init_bid):\n",
    "    currency = get_currency_by_campaign(campaign_id)\n",
    "    bid = init_bid\n",
    "    if currency == 'USD':\n",
    "        bid = math.ceil(init_bid*1.1)\n",
    "    else:\n",
    "        if init_bid > 100:\n",
    "            bid = math.ceil(init_bid*1.1)\n",
    "        else:\n",
    "            bid = init_bid + 1\n",
    "            \n",
    "    return bid\n",
    "    \n",
    "    \n",
    "def main():\n",
    "    \n",
    "    currency = get_currency_by_campaign(23843429637800443)\n",
    "    print(currency)\n",
    "\n",
    "    \n",
    "if __name__ == \"__main__\":\n",
    "    main()"
   ]
  },
  {
   "cell_type": "code",
   "execution_count": 5,
   "metadata": {},
   "outputs": [
    {
     "ename": "TypeError",
     "evalue": "get() got an unexpected keyword argument 'fields'",
     "output_type": "error",
     "traceback": [
      "\u001b[0;31m---------------------------------------------------------------------------\u001b[0m",
      "\u001b[0;31mTypeError\u001b[0m                                 Traceback (most recent call last)",
      "\u001b[0;32m<ipython-input-5-d0ae88ff636d>\u001b[0m in \u001b[0;36m<module>\u001b[0;34m\u001b[0m\n\u001b[1;32m      7\u001b[0m params = {\n\u001b[1;32m      8\u001b[0m }\n\u001b[0;32m----> 9\u001b[0;31m \u001b[0mresult\u001b[0m \u001b[0;34m=\u001b[0m  \u001b[0mAdsPixel\u001b[0m\u001b[0;34m(\u001b[0m\u001b[0;36m325136428129918\u001b[0m\u001b[0;34m)\u001b[0m\u001b[0;34m.\u001b[0m\u001b[0mget\u001b[0m\u001b[0;34m(\u001b[0m  \u001b[0mfields\u001b[0m\u001b[0;34m=\u001b[0m\u001b[0mfields\u001b[0m\u001b[0;34m,\u001b[0m  \u001b[0mparams\u001b[0m\u001b[0;34m=\u001b[0m\u001b[0mparams\u001b[0m\u001b[0;34m,\u001b[0m\u001b[0;34m)\u001b[0m\u001b[0;34m\u001b[0m\u001b[0;34m\u001b[0m\u001b[0m\n\u001b[0m\u001b[1;32m     10\u001b[0m \u001b[0mprint\u001b[0m\u001b[0;34m(\u001b[0m\u001b[0mresult\u001b[0m\u001b[0;34m)\u001b[0m\u001b[0;34m\u001b[0m\u001b[0;34m\u001b[0m\u001b[0m\n",
      "\u001b[0;31mTypeError\u001b[0m: get() got an unexpected keyword argument 'fields'"
     ]
    }
   ],
   "source": []
  },
  {
   "cell_type": "code",
   "execution_count": null,
   "metadata": {},
   "outputs": [],
   "source": []
  }
 ],
 "metadata": {
  "kernelspec": {
   "display_name": "Python 3",
   "language": "python",
   "name": "python3"
  },
  "language_info": {
   "codemirror_mode": {
    "name": "ipython",
    "version": 3
   },
   "file_extension": ".py",
   "mimetype": "text/x-python",
   "name": "python",
   "nbconvert_exporter": "python",
   "pygments_lexer": "ipython3",
   "version": "3.6.7"
  },
  "varInspector": {
   "cols": {
    "lenName": 16,
    "lenType": 16,
    "lenVar": 40
   },
   "kernels_config": {
    "python": {
     "delete_cmd_postfix": "",
     "delete_cmd_prefix": "del ",
     "library": "var_list.py",
     "varRefreshCmd": "print(var_dic_list())"
    },
    "r": {
     "delete_cmd_postfix": ") ",
     "delete_cmd_prefix": "rm(",
     "library": "var_list.r",
     "varRefreshCmd": "cat(var_dic_list()) "
    }
   },
   "types_to_exclude": [
    "module",
    "function",
    "builtin_function_or_method",
    "instance",
    "_Feature"
   ],
   "window_display": false
  }
 },
 "nbformat": 4,
 "nbformat_minor": 2
}
