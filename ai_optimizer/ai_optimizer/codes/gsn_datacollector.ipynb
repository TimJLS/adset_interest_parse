{
 "cells": [
  {
   "cell_type": "code",
   "execution_count": null,
   "metadata": {},
   "outputs": [],
   "source": [
    "from googleads import adwords\n",
    "import pandas as pd\n",
    "import numpy as np\n",
    "import math\n",
    "import datetime\n",
    "import database_controller\n",
    "import google_adwords_controller as controller\n",
    "import gdn_datacollector as datacollector\n",
    "from bid_operator import reverse_bid_amount\n",
    "import adgeek_permission as permission\n",
    "import google_adwords_report_generator as collector"
   ]
  },
  {
   "cell_type": "code",
   "execution_count": null,
   "metadata": {},
   "outputs": [],
   "source": [
    "CAMPAIGN_OBJECTIVE_FIELD = {\n",
    "    'LINK_CLICKS': 'clicks',\n",
    "    'CONVERSIONS':'conversions',\n",
    "    'cpc': 'clicks',\n",
    "    'cpa':'conversions',\n",
    "}\n",
    "BIDDING_COLUMN = {\n",
    "    'CpmBid': 'cpm_bid',\n",
    "    'CpvBid': 'cpv_bid', \n",
    "    'CpcBid': 'cpc_bid',\n",
    "}"
   ]
  },
  {
   "cell_type": "code",
   "execution_count": null,
   "metadata": {},
   "outputs": [],
   "source": [
    "class DatePreset:\n",
    "    today = 'TODAY'\n",
    "    yesterday = 'YESTERDAY'\n",
    "    lifetime = 'ALL_TIME'\n",
    "    last_14_days = 'LAST_14_DAYS'"
   ]
  },
  {
   "cell_type": "code",
   "execution_count": null,
   "metadata": {},
   "outputs": [],
   "source": [
    "def make_addition_dict(customer_id,\n",
    "                       campaign_id,\n",
    "                       channel_type,\n",
    "                       status,\n",
    "                       ai_status,\n",
    "                       destination_type, \n",
    "                       is_optimized,\n",
    "                       optimized_date,\n",
    "                       cost_per_target,\n",
    "                       daily_target,\n",
    "                       daily_budget,\n",
    "                       destination,\n",
    "                       destination_max,\n",
    "                       period,\n",
    "                       period_left,\n",
    "                       spend,\n",
    "                       ai_spend_cap,\n",
    "                       ai_start_date,\n",
    "                       ai_stop_date,\n",
    "                       spend_cap,\n",
    "                       start_time,\n",
    "                       stop_time,\n",
    "                       target,\n",
    "                       target_left,\n",
    "                       bidding_type,\n",
    "                       impressions,\n",
    "                       ctr,\n",
    "                       clicks,\n",
    "                       conversions,\n",
    "                       view_conversions,\n",
    "                       cost_per_click,\n",
    "                       cost_per_conversion,\n",
    "                       all_conversions,\n",
    "                       cost_per_all_conversion,\n",
    "                       is_smart_spending,\n",
    "                       is_target_suggest,\n",
    "                       is_lookalike,\n",
    "                       is_creative_opt,\n",
    "                       is_device_pro_rata,\n",
    "                       average_position,\n",
    "                       top_impression_percentage):\n",
    "    addition_dict = {}\n",
    "    \n",
    "    target = eval(CAMPAIGN_OBJECTIVE_FIELD[ destination_type ])\n",
    "    target_left = int(destination) - eval(CAMPAIGN_OBJECTIVE_FIELD[ destination_type ])\n",
    "    daily_target = target_left / period_left\n",
    "    \n",
    "    addition_dict['target'] = target\n",
    "    addition_dict['target_left'] = target_left\n",
    "    addition_dict['daily_target'] = daily_target\n",
    "    \n",
    "    addition_dict['period'] = ( ai_stop_date - ai_start_date ).days + 1\n",
    "    addition_dict['period_left'] = ( ai_stop_date-datetime.datetime.now().date() ).days + 1\n",
    "    return addition_dict"
   ]
  },
  {
   "cell_type": "code",
   "execution_count": null,
   "metadata": {},
   "outputs": [],
   "source": [
    "def data_collect(database, campaign):\n",
    "    customer_id = campaign.get(\"customer_id\")\n",
    "    campaign_id = campaign.get(\"campaign_id\")\n",
    "    destination = campaign.get(\"destination\")\n",
    "    destination_type = campaign.get(\"destination_type\")\n",
    "    ai_start_date = campaign.get(\"ai_start_date\")\n",
    "    ai_stop_date = campaign.get(\"ai_stop_date\")\n",
    "    \n",
    "    collector_campaign = collector.CampaignReportGenerator(campaign_id, 'gsn')\n",
    "    campaign_lifetime_insights = collector_campaign.get_insights(date_preset=None)\n",
    "    if not campaign_lifetime_insights:\n",
    "        return\n",
    "    addition_dict = make_addition_dict(**{**campaign, **campaign_lifetime_insights[0]})\n",
    "    \n",
    "    campaign_dict = {\n",
    "        **campaign_lifetime_insights[0],\n",
    "        **addition_dict,\n",
    "    }\n",
    "    database.upsert(\"campaign_target\", campaign_dict)\n",
    "    \n",
    "    collector_keyword = collector.KeywordReportGenerator(campaign_id, 'gsn')\n",
    "    keyword_day_insights = collector_keyword.get_insights(date_preset='TODAY')\n",
    "    for insights in keyword_day_insights:\n",
    "        database.insert(\"keywords_insights\", insights)\n",
    "        if collector_keyword.bidding_type in BIDDING_COLUMN.keys():\n",
    "            insights['bid_amount'] = math.ceil(reverse_bid_amount(insights[BIDDING_COLUMN[collector_keyword.col]]))\n",
    "            database.insert_ignore(\"adgroup_initial_bid\", \n",
    "                                   {key : insights[key] for key in [\"campaign_id\", \"adgroup_id\", \"keyword_id\", \"bid_amount\"]})\n",
    "        else:\n",
    "            continue\n",
    "    database.dispose()"
   ]
  },
  {
   "cell_type": "code",
   "execution_count": null,
   "metadata": {},
   "outputs": [],
   "source": [
    "def main():\n",
    "    start_time = datetime.datetime.now()\n",
    "    db = database_controller.Database()\n",
    "    database_gsn = database_controller.GSN(db)\n",
    "    campaign_running_list = database_gsn.get_running_campaign().to_dict('records')\n",
    "    print([campaign['campaign_id'] for campaign in campaign_running_list])\n",
    "    for campaign in campaign_running_list:\n",
    "        print('[campaign_id]: ', campaign.get('campaign_id'))\n",
    "        \n",
    "        data_collect(database_gsn, campaign)\n",
    "    print(datetime.datetime.now()-start_time)"
   ]
  },
  {
   "cell_type": "code",
   "execution_count": null,
   "metadata": {},
   "outputs": [],
   "source": [
    "if __name__=='__main__':\n",
    "    main()\n",
    "#     data_collect(customer_id=CUSTOMER_ID, campaign_id=CAMPAIGN_ID)"
   ]
  },
  {
   "cell_type": "code",
   "execution_count": 1,
   "metadata": {},
   "outputs": [
    {
     "name": "stdout",
     "output_type": "stream",
     "text": [
      "[NbConvertApp] Converting notebook gsn_datacollector.ipynb to script\n",
      "[NbConvertApp] Writing 5103 bytes to gsn_datacollector.py\n"
     ]
    }
   ],
   "source": [
    "# !jupyter nbconvert --to script gsn_datacollector.ipynb"
   ]
  },
  {
   "cell_type": "code",
   "execution_count": null,
   "metadata": {},
   "outputs": [],
   "source": []
  }
 ],
 "metadata": {
  "kernelspec": {
   "display_name": "Python 3",
   "language": "python",
   "name": "python3"
  },
  "language_info": {
   "codemirror_mode": {
    "name": "ipython",
    "version": 3
   },
   "file_extension": ".py",
   "mimetype": "text/x-python",
   "name": "python",
   "nbconvert_exporter": "python",
   "pygments_lexer": "ipython3",
   "version": "3.6.8"
  },
  "varInspector": {
   "cols": {
    "lenName": 16,
    "lenType": 16,
    "lenVar": 40
   },
   "kernels_config": {
    "python": {
     "delete_cmd_postfix": "",
     "delete_cmd_prefix": "del ",
     "library": "var_list.py",
     "varRefreshCmd": "print(var_dic_list())"
    },
    "r": {
     "delete_cmd_postfix": ") ",
     "delete_cmd_prefix": "rm(",
     "library": "var_list.r",
     "varRefreshCmd": "cat(var_dic_list()) "
    }
   },
   "types_to_exclude": [
    "module",
    "function",
    "builtin_function_or_method",
    "instance",
    "_Feature"
   ],
   "window_display": false
  }
 },
 "nbformat": 4,
 "nbformat_minor": 4
}
