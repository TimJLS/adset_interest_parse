{
 "cells": [
  {
   "cell_type": "code",
   "execution_count": 1,
   "metadata": {},
   "outputs": [],
   "source": [
    "from pathlib import Path\n",
    "import time\n",
    "\n",
    "\n",
    "from facebook_business.api import FacebookAdsApi\n",
    "# from facebook_business.adobjects.adaccount import AdAccount\n",
    "import facebook_business.adobjects.adset as facebook_business_adset\n",
    "# from facebook_business.adobjects.ad import Ad\n",
    "import facebook_business.adobjects.campaign as facebook_business_campaign\n",
    "# from facebook_business.adobjects.adcreative import AdCreative\n",
    "# from facebook_business.adobjects.adactivity import AdActivity\n",
    "# from facebook_business.adobjects.insightsresult import InsightsResult\n",
    "# import facebook_business.adobjects.adsinsights as facebook_business_adsinsights\n",
    "import database_controller\n",
    "import facebook_currency_handler as currency_handler\n",
    "\n",
    "\n",
    "class BehaviorType:\n",
    "    COPY = 'copy'\n",
    "    CLOSE = 'close'\n",
    "    CREATE = 'create'\n",
    "    ADJUST = 'adjust'"
   ]
  },
  {
   "cell_type": "code",
   "execution_count": 2,
   "metadata": {},
   "outputs": [],
   "source": [
    "def get_adset_name_bidding(adset_id):\n",
    "    this_adset = facebook_business_adset.AdSet( adset_id).remote_read(fields=[\"campaign_id\", \"name\", \"bid_amount\"])\n",
    "    return this_adset.get('campaign_id'), this_adset.get('name'), this_adset.get('bid_amount')\n"
   ]
  },
  {
   "cell_type": "code",
   "execution_count": 3,
   "metadata": {},
   "outputs": [],
   "source": [
    "def save_adset_behavior(adset_id, behavior_type, behavior_misc = '' ):\n",
    "    campaign_id, adset_name , adset_bid = get_adset_name_bidding(adset_id)\n",
    "    created_at = int(time.time())\n",
    "    \n",
    "    if behavior_type == BehaviorType.ADJUST:\n",
    "        if adset_bid == behavior_misc:\n",
    "            return\n",
    "        behavior_misc = str(adset_bid) + ':' + str(behavior_misc)\n",
    "    \n",
    "    db = database_controller.Database()\n",
    "    database_fb = database_controller.FB(db)\n",
    "    database_fb.insert(\n",
    "        \"ai_behavior_log\",\n",
    "        {\n",
    "            'campaign_id': int(campaign_id),\n",
    "            'adset_id': int(adset_id),\n",
    "            'adset_name': adset_name,\n",
    "            'behavior': behavior_type,\n",
    "            'behavior_misc': behavior_misc,\n",
    "            'created_at': int(created_at),\n",
    "        }\n",
    "    )\n",
    "    "
   ]
  },
  {
   "cell_type": "code",
   "execution_count": 4,
   "metadata": {},
   "outputs": [],
   "source": [
    "\n",
    "if __name__ == \"__main__\":\n",
    "    save_adset_behavior(23843602031340098, BehaviorType.ADJUST)\n",
    "#     print(adset_name , adset_bid )\n",
    "    \n",
    "    "
   ]
  },
  {
   "cell_type": "code",
   "execution_count": 8,
   "metadata": {},
   "outputs": [
    {
     "name": "stdout",
     "output_type": "stream",
     "text": [
      "[NbConvertApp] Converting notebook facebook_ai_behavior_log.ipynb to script\n",
      "[NbConvertApp] Writing 2193 bytes to facebook_ai_behavior_log.py\n"
     ]
    }
   ],
   "source": [
    "#!jupyter nbconvert --to script facebook_ai_behavior_log.ipynb"
   ]
  },
  {
   "cell_type": "code",
   "execution_count": null,
   "metadata": {},
   "outputs": [],
   "source": []
  }
 ],
 "metadata": {
  "kernelspec": {
   "display_name": "Python 3",
   "language": "python",
   "name": "python3"
  },
  "language_info": {
   "codemirror_mode": {
    "name": "ipython",
    "version": 3
   },
   "file_extension": ".py",
   "mimetype": "text/x-python",
   "name": "python",
   "nbconvert_exporter": "python",
   "pygments_lexer": "ipython3",
   "version": "3.6.8"
  },
  "varInspector": {
   "cols": {
    "lenName": 16,
    "lenType": 16,
    "lenVar": 40
   },
   "kernels_config": {
    "python": {
     "delete_cmd_postfix": "",
     "delete_cmd_prefix": "del ",
     "library": "var_list.py",
     "varRefreshCmd": "print(var_dic_list())"
    },
    "r": {
     "delete_cmd_postfix": ") ",
     "delete_cmd_prefix": "rm(",
     "library": "var_list.r",
     "varRefreshCmd": "cat(var_dic_list()) "
    }
   },
   "types_to_exclude": [
    "module",
    "function",
    "builtin_function_or_method",
    "instance",
    "_Feature"
   ],
   "window_display": false
  }
 },
 "nbformat": 4,
 "nbformat_minor": 4
}
