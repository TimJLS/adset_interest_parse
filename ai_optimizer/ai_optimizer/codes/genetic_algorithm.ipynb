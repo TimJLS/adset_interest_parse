{
 "cells": [
  {
   "cell_type": "code",
   "execution_count": 1,
   "metadata": {},
   "outputs": [],
   "source": [
    "import matplotlib.pyplot as plt\n",
    "import numpy as np\n",
    "import pandas as pd\n",
    "import random\n",
    "import copy\n",
    "import math\n",
    "import datetime\n",
    "import adgeek_permission as permission\n",
    "import facebook_datacollector as collector\n",
    "import database_controller\n",
    "sizepop, vardim, MAXGEN, params = 1000, 7, 15, [0.9, 0.5, 0.5]\n",
    "BRANDING_CAMPAIGN_LIST = [\n",
    "    'THRUPLAY', 'LINK_CLICKS', 'ALL_CLICKS','VIDEO_VIEWS', 'REACH', 'IMPRESSIONS', 'POST_ENGAGEMENT', 'PAGE_LIKES', 'LANDING_PAGE_VIEW']\n",
    "PERFORMANCE_CAMPAIGN_LIST = [\n",
    "    'CONVERSIONS', 'LEAD_GENERATION', 'ADD_TO_CART']"
   ]
  },
  {
   "cell_type": "code",
   "execution_count": 2,
   "metadata": {},
   "outputs": [],
   "source": [
    "class GeneticAlgorithm(object):\n",
    "    '''\n",
    "    The class for genetic algorithm\n",
    "    '''\n",
    "    def __init__(self, sizepop, vardim, bound, MAXGEN, params):\n",
    "        '''\n",
    "        sizepop: population sizepop 種群數量\n",
    "        vardim: dimension of variables 變量維度\n",
    "        bound: boundaries of variables 變量邊界 -10 10 (最佳化權重上下限)\n",
    "        MAXGEN: termination condition  迭代次數  1000 (子代代數)\n",
    "        param: 交叉率, 變異率, alpha = [0.9, 0.1, 0.5]\n",
    "        '''\n",
    "        self.sizepop = sizepop\n",
    "        self.MAXGEN = MAXGEN\n",
    "        self.vardim = vardim\n",
    "        self.bound = bound\n",
    "        self.population = []\n",
    "        self.fitness = np.zeros((self.sizepop, 1))\n",
    "        self.trace = np.zeros((self.MAXGEN, 2))\n",
    "        self.params = params\n",
    "\n",
    "    def initialize(self):\n",
    "        '''\n",
    "        initialize the population\n",
    "        '''\n",
    "        for i in range(0, self.sizepop):\n",
    "            ind = GAIndividual(self.vardim, self.bound)\n",
    "            ind.generate()\n",
    "            self.population.append(ind)\n",
    "\n",
    "    def evaluate(self):\n",
    "        '''\n",
    "        evaluation of the population fitnesses\n",
    "        '''\n",
    "        for i in range(0, self.sizepop):\n",
    "            self.population[i].calculateFitness()\n",
    "            self.fitness[i] = self.population[i].fitness\n",
    "\n",
    "    def solve(self):\n",
    "        '''\n",
    "        evolution process of genetic algorithm\n",
    "        '''\n",
    "        self.t = 0\n",
    "        self.initialize()\n",
    "        self.evaluate()\n",
    "        best = np.max(self.fitness)\n",
    "        bestIndex = np.argmax(self.fitness)\n",
    "        self.best = copy.deepcopy(self.population[bestIndex])\n",
    "        self.avefitness = np.mean(self.fitness)\n",
    "        self.trace[self.t, 0] = (1 - self.best.fitness) / self.best.fitness\n",
    "        self.trace[self.t, 1] = (1 - self.avefitness) / self.avefitness\n",
    "        print(\"Generation %d: optimal function value is: %f; average function value is %f\" % (\n",
    "            self.t, self.trace[self.t, 0], self.trace[self.t, 1]))\n",
    "        while (self.t < self.MAXGEN - 1):\n",
    "            self.t += 1\n",
    "            self.selectionOperation()\n",
    "            self.crossoverOperation()\n",
    "            self.mutationOperation()\n",
    "            self.evaluate()\n",
    "            best = np.max(self.fitness)\n",
    "            bestIndex = np.argmax(self.fitness)\n",
    "            if best > self.best.fitness:\n",
    "                self.best = copy.deepcopy(self.population[bestIndex])\n",
    "            self.avefitness = np.mean(self.fitness)\n",
    "#             self.trace[self.t, 0] = (1 - self.best.fitness) / self.best.fitness\n",
    "#             self.trace[self.t, 1] = (1 - self.avefitness) / self.avefitness\n",
    "            self.trace[self.t, 0] = self.best.fitness\n",
    "            self.trace[self.t, 1] = self.avefitness\n",
    "            print(\"Generation %d: optimal function value is: %f; average function value is %f\" % (\n",
    "                self.t, self.trace[self.t, 0], self.trace[self.t, 1]))\n",
    "\n",
    "        print(\"Optimal function value is: %f; \" %\n",
    "              self.trace[self.t, 0])\n",
    "        print (\"Optimal solution is:\")\n",
    "        print(self.best.chrom)\n",
    "        self.printResult()\n",
    "        return self.best.chrom\n",
    "    \n",
    "    def selectionOperation(self):\n",
    "        '''\n",
    "        selection operation for Genetic Algorithm\n",
    "        '''\n",
    "        newpop = []\n",
    "        totalFitness = np.sum(self.fitness)\n",
    "        accuFitness = np.zeros((self.sizepop, 1))\n",
    "\n",
    "        sum1 = 0.\n",
    "        for i in range(0, self.sizepop):\n",
    "            accuFitness[i] = sum1 + self.fitness[i] / totalFitness\n",
    "            sum1 = accuFitness[i]\n",
    "\n",
    "        for i in range(0, self.sizepop):\n",
    "            r = random.random()\n",
    "            idx = 0\n",
    "            for j in range(0, self.sizepop - 1):\n",
    "                if j == 0 and r < accuFitness[j]:\n",
    "                    idx = 0\n",
    "                    break\n",
    "                elif r >= accuFitness[j] and r < accuFitness[j + 1]:\n",
    "                    idx = j + 1\n",
    "                    break\n",
    "            newpop.append(self.population[idx])\n",
    "        self.population = newpop\n",
    "\n",
    "    def crossoverOperation(self):\n",
    "        '''\n",
    "        crossover operation for genetic algorithm\n",
    "        '''\n",
    "        newpop = []\n",
    "        for i in range(0, self.sizepop, 2):\n",
    "            idx1 = random.randint(0, self.sizepop - 1)\n",
    "            idx2 = random.randint(0, self.sizepop - 1)\n",
    "            while idx2 == idx1:\n",
    "                idx2 = random.randint(0, self.sizepop - 1)\n",
    "            newpop.append(copy.deepcopy(self.population[idx1]))\n",
    "            newpop.append(copy.deepcopy(self.population[idx2]))\n",
    "            r = random.random()\n",
    "            if r < self.params[0]:\n",
    "                crossPos = random.randint(1, self.vardim - 1)\n",
    "                for j in range(crossPos, self.vardim):\n",
    "                    newpop[i].chrom[j] = newpop[i].chrom[\n",
    "                        j] * self.params[2] + (1 - self.params[2]) * newpop[i + 1].chrom[j]\n",
    "                    newpop[i + 1].chrom[j] = newpop[i + 1].chrom[j] * self.params[2] + \\\n",
    "                        (1 - self.params[2]) * newpop[i].chrom[j]\n",
    "        self.population = newpop\n",
    "\n",
    "    def mutationOperation(self):\n",
    "        '''\n",
    "        mutation operation for genetic algorithm\n",
    "        '''\n",
    "        newpop = []\n",
    "        for i in range(0, self.sizepop):\n",
    "            newpop.append(copy.deepcopy(self.population[i]))\n",
    "            r = random.random()\n",
    "            if r < self.params[1]:\n",
    "                mutatePos = random.randint(0, self.vardim - 1)\n",
    "                theta = random.random()\n",
    "                if theta > 0.5:\n",
    "                    newpop[i].chrom[mutatePos] = newpop[i].chrom[\n",
    "                        mutatePos] - (newpop[i].chrom[mutatePos] - self.bound[0, mutatePos]) * (1 - random.random() ** (1 - self.t / self.MAXGEN))\n",
    "                else:\n",
    "                    newpop[i].chrom[mutatePos] = newpop[i].chrom[\n",
    "                        mutatePos] + (self.bound[1, mutatePos] - newpop[i].chrom[mutatePos]) * (1 - random.random() ** (1 - self.t / self.MAXGEN))\n",
    "        self.population = newpop\n",
    "\n",
    "    def printResult(self):\n",
    "        '''\n",
    "        plot the result of the genetic algorithm\n",
    "        '''\n",
    "        x = np.arange(0, self.MAXGEN)\n",
    "        y1 = self.trace[:, 0]\n",
    "        y2 = self.trace[:, 1]\n",
    "        plt.plot(x, y1, 'r', label='optimal value')\n",
    "        plt.plot(x, y2, 'g', label='average value')\n",
    "        plt.xlabel(\"Iteration\")\n",
    "        plt.ylabel(\"function value\")\n",
    "        plt.title(\"Genetic algorithm for function optimization\")\n",
    "        plt.legend()\n",
    "        plt.show()\n",
    "\n",
    "class GAIndividual(object):\n",
    "    '''\n",
    "    individual of genetic algorithm\n",
    "    '''\n",
    "    def __init__(self,  vardim, bound):\n",
    "        '''\n",
    "        vardim: dimension of variables\n",
    "        bound: boundaries of variables\n",
    "        '''\n",
    "        self.vardim = vardim\n",
    "        self.bound = bound\n",
    "        self.fitness = 0.\n",
    "\n",
    "    def generate(self):\n",
    "        '''\n",
    "        generate a random chromsome for genetic algorithm\n",
    "        '''\n",
    "        len = self.vardim\n",
    "        rnd = np.random.random(size=len)\n",
    "        self.chrom = np.zeros(len)\n",
    "        for i in range(0, len):\n",
    "            self.chrom[i] = self.bound[0, i] + \\\n",
    "                (self.bound[1, i] - self.bound[0, i]) * rnd[i]\n",
    "    def calculateFitness(self):\n",
    "        '''\n",
    "        calculate the fitness of the chromsome\n",
    "        '''\n",
    "        optimal_weight = OptimalWeight(self.chrom)\n",
    "        self.fitness = np.dot(optimal_weight.matrix, chromosome.matrix)\n",
    "#         self.fitness = ObjectiveFunc.fitnessfunc( self.chrom, df )\n",
    "\n",
    "\n",
    "# def ga_optimal_weight(campaign_id):\n",
    "#     request_time = datetime.datetime.now().date()\n",
    "#     mydb = mysql_saver.connectDB( mysql_saver.DATABASE )\n",
    "#     df_weight = pd.read_sql(\"SELECT * FROM optimal_weight WHERE campaign_id=%s \" %(campaign_id), con=mydb)\n",
    "#     df_camp = pd.read_sql(\"SELECT * FROM campaign_target WHERE campaign_id=%s \" %(campaign_id), con=mydb)\n",
    "#     charge_type = df_camp['charge_type'].iloc[0]\n",
    "#     adset_list = collector.Campaigns(campaign_id, charge_type).get_adsets_active()\n",
    "#     if len(df_weight) > 0:\n",
    "#         for adset_id in adset_list:\n",
    "#             df = ObjectiveFunc.adset_status( adset_id, df_camp )\n",
    "#             r = ObjectiveFunc.adset_fitness( df_weight, df )\n",
    "#             print('[score]', r)\n",
    "#             df_final = pd.DataFrame({'campaign_id':campaign_id, 'adset_id':adset_id, 'score':r, 'request_time':request_time}, index=[0])\n",
    "#             try:\n",
    "#                 mysql_saver.intoDB(\"adset_score\", df_final)\n",
    "#             except Exception as e:\n",
    "#                 print('score is inf: ', e)\n",
    "#                 pass\n",
    "#     else:\n",
    "#         pass\n",
    "#     mydb.close()\n",
    "#     return\n"
   ]
  },
  {
   "cell_type": "code",
   "execution_count": 3,
   "metadata": {},
   "outputs": [],
   "source": [
    "def generate_optimal_weight(campaign_id, charge_type):\n",
    "    global chromosome\n",
    "    print('[campaign_id]:', campaign_id )\n",
    "    print('[current time]: ', datetime.datetime.now() )\n",
    "    start_time = datetime.datetime.now()\n",
    "    \n",
    "    campaign = Campaign(campaign_id)\n",
    "    chromosome = ObjectChromosome(campaign.condition)\n",
    "\n",
    "    bound = np.tile([[0], [1]], vardim)\n",
    "    ga = GeneticAlgorithm(sizepop, vardim, bound, MAXGEN, params)\n",
    "    result_optimal_weight = ga.solve()\n",
    "    \n",
    "    optimal_campaign = CampaignOptimalWeight(campaign_id, charge_type, result_optimal_weight)\n",
    "    \n",
    "    score = np.dot(optimal_campaign.matrix, chromosome.matrix)\n",
    "    print('==========SCORE========')\n",
    "    print(score)\n",
    "\n",
    "    score_columns=['w_action', 'w_desire', 'w_interest', 'w_awareness', 'w_discovery', 'w_spend', 'w_bid']\n",
    "    df_score = pd.DataFrame(data=[optimal_campaign.matrix], columns=score_columns, index=[0])\n",
    "    df_score['campaign_id'], df_score['score'] = campaign_id, score\n",
    "\n",
    "    database_fb.upsert(\"campaign_optimal_weight\", df_score.to_dict('records')[0])\n",
    "\n",
    "    assess_adset(campaign, optimal_campaign)\n",
    "\n",
    "    print('[optimal_weight]:', optimal_campaign.matrix)\n",
    "    print('[operation time]: ', datetime.datetime.now()-start_time)"
   ]
  },
  {
   "cell_type": "code",
   "execution_count": 4,
   "metadata": {},
   "outputs": [],
   "source": [
    "def assess_adset(campaign_object, campaign_optimal_object):\n",
    "    for adset in campaign_object.adsets:\n",
    "        \n",
    "        chromosome_adset = ObjectChromosome(adset.condition)\n",
    "        \n",
    "        score = np.dot(campaign_optimal_object.matrix, chromosome_adset.matrix)\n",
    "        \n",
    "        print('=====[adset_id]=====', adset.adset_id, '==========[score]', score)\n",
    "\n",
    "        database_fb.insert(\n",
    "            \"adset_score\", \n",
    "            {'campaign_id':campaign_object.campaign_id, 'adset_id':adset.adset_id, 'score':score.item()}\n",
    "        )\n"
   ]
  },
  {
   "cell_type": "code",
   "execution_count": 6,
   "metadata": {},
   "outputs": [],
   "source": [
    "def main():\n",
    "    starttime = datetime.datetime.now()\n",
    "    print('[start time]: ', starttime)\n",
    "    global database_fb\n",
    "    db = database_controller.Database()\n",
    "    database_fb = database_controller.FB(db)\n",
    "    campaign_list = database_fb.get_branding_campaign().to_dict('records')\n",
    "    print([campaign['campaign_id'] for campaign in campaign_list])\n",
    "    for campaign in campaign_list:\n",
    "        campaign_id = campaign.get(\"campaign_id\")\n",
    "        charge_type = campaign.get(\"charge_type\")\n",
    "        generate_optimal_weight(campaign_id, charge_type)\n",
    "    \n",
    "    campaign_list = database_fb.get_performance_campaign().to_dict('records')\n",
    "    for campaign in campaign_list:\n",
    "        campaign_id = campaign.get(\"campaign_id\")\n",
    "        charge_type = campaign.get(\"charge_type\")\n",
    "        generate_optimal_weight(campaign_id, charge_type)\n",
    "        \n",
    "    print('[total operation time]: ', datetime.datetime.now()-starttime)\n",
    "    print('genetic algorithm finish.')\n",
    "    return"
   ]
  },
  {
   "cell_type": "code",
   "execution_count": 7,
   "metadata": {},
   "outputs": [],
   "source": [
    "class Campaign(object):\n",
    "    __condition_field = [\"action\", \"desire\", \"interest\", \"awareness\", \"attention\", \"discovery\", \"impressions\", \"destination_daily_spend\",\n",
    "                       \"destination_daily_target\", \"cost_per_action\", \"spend\", \"daily_spend\", \"daily_target\", \"KPI\", \"destination_type\"]\n",
    "    def __init__(self, campaign_id):\n",
    "        self.campaign_id = campaign_id\n",
    "        self.__get_brief()\n",
    "        self.brief_dict[\"destination_type\"] = self.brief_dict.pop(\"charge_type\")\n",
    "        self.destination_type = self.brief_dict.get(\"destination_type\")\n",
    "        permission.init_facebook_api(self.brief_dict.get(\"account_id\"))\n",
    "        self.service_collect = collector.Campaigns(self.campaign_id, charge_type=None)\n",
    "        self.__create_condition()\n",
    "        self.__get_adsets()\n",
    "        \n",
    "    def __get_brief(self):\n",
    "        df_list = database_fb.get_one_campaign(self.campaign_id).to_dict('records')\n",
    "\n",
    "        self.brief_dict = df_list[0]\n",
    "        self.brief_dict['KPI'] = self.brief_dict.get(\"ai_spend_cap\")/self.brief_dict.get(\"destination\")\n",
    "    \n",
    "    def get_weight(self):\n",
    "        optimal_weight_list = database_fb.retrieve(\"optimal_weight\", self.campaign_id).to_dict('records')\n",
    "        \n",
    "        return optimal_weight_list[0]\n",
    "        \n",
    "    def __get_adsets(self):\n",
    "        adset_id_list = self.service_collect.get_adsets_active()\n",
    "        self.adsets = [ AdSet(self, adset_id) for adset_id in adset_id_list ]\n",
    "        \n",
    "    def __create_condition(self):\n",
    "        self.condition = self.service_collect.generate_info(date_preset = collector.DatePreset.lifetime)\n",
    "        self.condition.update(self.brief_dict)\n",
    "        self.condition.update({\n",
    "            \"flight\": (datetime.date.today()-self.brief_dict.get(\"ai_start_date\")).days\n",
    "        })\n",
    "        self.condition['spend'] = int(self.condition.get(\"spend\") if self.condition.get(\"spend\") else 0)\n",
    "        self.condition['impressions'] = int(self.condition.get(\"impressions\") if self.condition.get(\"impressions\") else 0)\n",
    "        self.condition.update({\n",
    "            \"attention\": self.condition.get(\"impressions\"),\n",
    "            \"discovery\": self.condition.get(\"reach\"),\n",
    "            \"destination_daily_spend\": self.condition.get(\"ai_spend_cap\") / self.condition.get(\"period\"),\n",
    "            \"destination_daily_target\":self.condition.get(\"destination\") / self.condition.get(\"period\"),\n",
    "            \"cost_per_action\": self.condition.get(\"cost_per_target\") if self.condition.get(\"cost_per_target\") else 0,\n",
    "            \"spend\": self.condition.get(\"spend\") / self.condition.get(\"flight\") if self.condition.get(\"flight\") != 0 else 1,\n",
    "            \"action\": self.condition.get(\"target\") / self.condition.get(\"flight\") if self.condition.get(\"flight\") != 0 else 1,\n",
    "        })\n",
    "        self.condition = {k: v for k, v in self.condition.items() if k in self.__condition_field}\n",
    "        \n",
    "        \n",
    "class AdSet(object):\n",
    "    __condition_field = [\"action\", \"desire\", \"interest\", \"awareness\", \"impressions\", \"destination_daily_spend\",\n",
    "                         \"destination_daily_target\", \"bid_amount\", \"cost_per_action\", \"spend\", \"KPI\", \"destination_type\"]\n",
    "    def __init__(self, campaign, adset_id):\n",
    "        self.campaign = campaign\n",
    "        self.adset_id = adset_id\n",
    "        self.destination_type = self.campaign.destination_type\n",
    "        self.service_collect = collector.AdSets(self.adset_id, charge_type=None)\n",
    "        self.__create_condition()\n",
    "        \n",
    "    def __create_condition(self):\n",
    "        self.condition = self.service_collect.generate_info(date_preset = collector.DatePreset.lifetime)\n",
    "        self.condition['spend'] = float(self.condition.get(\"spend\") if self.condition.get(\"spend\") else 0)\n",
    "        self.condition['impressions'] = int(self.condition.get(\"impressions\") if self.condition.get(\"impressions\") else 0)\n",
    "        self.condition.update({\n",
    "            \"KPI\": self.campaign.condition.get(\"KPI\"),\n",
    "            \"destination_type\": self.destination_type,\n",
    "            \"destination_daily_spend\": self.campaign.condition.get(\"destination_daily_spend\"),\n",
    "            \"destination_daily_target\": self.campaign.condition.get(\"destination_daily_target\"),\n",
    "            \"cost_per_action\": int(self.condition.get(\"spend\")) / int(self.condition.get(\"action\")) if int(self.condition.get(\"action\")) != 0 else 0\n",
    "        })\n",
    "        self.condition = {k: v for k, v in self.condition.items() if k in self.__condition_field}\n",
    "        \n",
    "    def __create_fitness(self):\n",
    "        self.fitness = Chromosome(self.condition)\n",
    "        \n",
    "    def __create_optimal_weight(self):\n",
    "        self.optimal_weight = OptimalWeight(self.destination_type)\n",
    "\n"
   ]
  },
  {
   "cell_type": "code",
   "execution_count": 8,
   "metadata": {},
   "outputs": [],
   "source": [
    "class OptimalWeight(object):        \n",
    "    def __init__(self, optimal_weight):\n",
    "        self.matrix = optimal_weight\n",
    "        self.action = self.matrix[0]\n",
    "        self.desire = self.matrix[1]\n",
    "        self.interest = self.matrix[2]\n",
    "        self.awareness = self.matrix[3]\n",
    "        self.discovery = self.matrix[4]\n",
    "        self.spend = self.matrix[5]\n",
    "        self.kpi = self.matrix[6]\n",
    "\n",
    "class CampaignOptimalWeight(OptimalWeight):\n",
    "    def __init__(self, campaign_id, destination_type, optimal_weight):\n",
    "        super().__init__(optimal_weight)\n",
    "        self.destination_type = destination_type\n",
    "        if self.destination_type in collector.BRANDING_CAMPAIGN_LIST:\n",
    "            self.desire, self.interest, self.awareness, self.discovery = 0, 0, 0, 0\n",
    "            self.matrix = np.array([\n",
    "                self.action, self.desire, self.interest, self.awareness, self.discovery, self.spend, self.kpi\n",
    "            ])\n",
    "\n",
    "    "
   ]
  },
  {
   "cell_type": "code",
   "execution_count": 9,
   "metadata": {},
   "outputs": [],
   "source": [
    "class Chromosome(object):\n",
    "    def __init__(self,):\n",
    "        self.matrix = np.random.rand(vardim,)\n",
    "        self.action = self.matrix[0]\n",
    "        self.desire = self.matrix[1]\n",
    "        self.interest = self.matrix[2]\n",
    "        self.awareness = self.matrix[3]\n",
    "        self.discovery = self.matrix[4]\n",
    "        self.spend = self.matrix[5]\n",
    "        self.kpi = self.matrix[6]\n",
    "\n",
    "class RandomChromosome(Chromosome):\n",
    "    pass\n",
    "\n",
    "class ObjectChromosome(Chromosome):\n",
    "    __fields = [\n",
    "        \"action\", \"desire\", \"interest\", \"awareness\", \"discovery\", \"attention\", \"spend\"\n",
    "    ]\n",
    "    def __init__(self, condition):\n",
    "        super().__init__()\n",
    "        self.condition = condition\n",
    "        self.destination_type = condition.get(\"destination_type\")\n",
    "        self.__initialize()\n",
    "        self.__create_m_action()\n",
    "        self.__create_m_desire()\n",
    "        self.__create_m_interest()\n",
    "        self.__create_m_awareness()\n",
    "        self.__create_m_discovery()\n",
    "        self.__create_m_spend()\n",
    "        self.__create_m_kpi()\n",
    "        self.__create_matrix()\n",
    "        \n",
    "    def __initialize(self):\n",
    "        for field in self.__fields:\n",
    "            if not self.condition.get(field):\n",
    "                self.condition[field] = 0\n",
    "        \n",
    "    def __create_m_action(self):\n",
    "        if self.destination_type in collector.BRANDING_CAMPAIGN_LIST:\n",
    "            self.m_action = (self.condition.get(\"destination_daily_target\")/int(self.condition.get(\"action\"))) if int(self.condition.get(\"action\")) != 0 else 0\n",
    "        else:\n",
    "            self.m_action = (int(self.condition.get(\"action\")) / self.condition.get(\"desire\")) if int(self.condition.get(\"desire\")) != 0 else 0\n",
    "        \n",
    "    def __create_m_desire(self):\n",
    "        if self.destination_type in collector.BRANDING_CAMPAIGN_LIST:\n",
    "            self.m_desire = 0\n",
    "        else:\n",
    "            self.m_desire = (self.condition.get(\"desire\") / self.condition.get(\"interest\")) if self.condition.get(\"interest\") != 0 else 0\n",
    "        \n",
    "    def __create_m_interest(self):\n",
    "        if self.destination_type in collector.BRANDING_CAMPAIGN_LIST:\n",
    "            self.m_interest = 0\n",
    "        else:\n",
    "            self.m_interest = (self.condition.get(\"interest\") / self.condition.get(\"awareness\")) if self.condition.get(\"awareness\") != 0 else 0\n",
    "        \n",
    "    def __create_m_awareness(self):\n",
    "        if self.destination_type in collector.BRANDING_CAMPAIGN_LIST:\n",
    "            self.m_awareness = 0\n",
    "        else:\n",
    "            self.m_awareness = (self.condition.get(\"awareness\") / self.condition.get(\"discovery\")) if self.condition.get(\"discovery\") != 0 else 0\n",
    "        \n",
    "    def __create_m_discovery(self):\n",
    "        if self.destination_type in collector.BRANDING_CAMPAIGN_LIST:\n",
    "            self.m_discovery = 0\n",
    "        else:\n",
    "            self.m_discovery = (self.condition.get(\"discovery\") / self.condition.get(\"attention\")) if self.condition.get(\"attention\") != 0 else 0\n",
    "        \n",
    "    def __create_m_spend(self):\n",
    "        self.m_spend = ( self.condition.get(\"destination_daily_spend\")-self.condition.get(\"spend\")) / self.condition.get(\"destination_daily_spend\")\n",
    "        \n",
    "    def __create_m_kpi(self):\n",
    "        self.m_kpi = ( self.condition.get(\"KPI\")-self.condition.get(\"cost_per_action\") ) / self.condition.get(\"KPI\")\n",
    "    \n",
    "    def __create_matrix(self):\n",
    "        self.matrix = np.array([\n",
    "            self.m_action, self.m_desire, self.m_interest, self.m_awareness, self.m_discovery, self.m_spend, self.m_kpi\n",
    "        ])\n",
    "    \n"
   ]
  },
  {
   "cell_type": "code",
   "execution_count": 10,
   "metadata": {
    "collapsed": true,
    "jupyter": {
     "outputs_hidden": true
    }
   },
   "outputs": [
    {
     "name": "stderr",
     "output_type": "stream",
     "text": [
      "WARNING:root:`remote_read` is being deprecated, please update your code with new function.\n"
     ]
    },
    {
     "name": "stdout",
     "output_type": "stream",
     "text": [
      "[start time]:  2019-08-23 16:39:21.015945\n",
      "[23843447337770036, 23843508739720127, 23843628364880022, 23843672578810681]\n",
      "[campaign_id]: 23843447337770036\n",
      "[current time]:  2019-08-23 16:39:21.065935\n",
      "[get_media_token_by_queryid] token_dic {'credential_id': '958842090856883', 'credential_secret': 'a952f55afca38572cea2994d440d674b', 'credential_token': 'EAANoD9I4obMBAH8xjIhGjHc9DmLDeBDTauvkO3tk5x05v1E3G72Qp33aP4gLkE3IZBUDyCMkqCLLPS6DKk8mUJLcsncIrjveFLZCKUseqU7Qy2iIeEq0Dx8DgZAuRwhUNFkKHtmU8McAAWbWMNi2hiWZAbZAXDAyTCd1xXHUJmQZDZD', 'credential_developer_token': None, 'credential_refresh_token': None, 'name': 'AntMan Facebook Credential'}\n",
      "self.campaign_features[Field.start_time] 2019-06-19T16:56:48+0800\n"
     ]
    },
    {
     "name": "stderr",
     "output_type": "stream",
     "text": [
      "WARNING:root:`remote_read` is being deprecated, please update your code with new function.\n"
     ]
    },
    {
     "name": "stdout",
     "output_type": "stream",
     "text": [
      "[get_adsets_active] adset_active_list: ['23843578121660036', '23843531828830036', '23843516369410036', '23843447338000036', '23843447337980036', '23843447337970036', '23843447337960036']\n"
     ]
    },
    {
     "name": "stderr",
     "output_type": "stream",
     "text": [
      "WARNING:root:`remote_read` is being deprecated, please update your code with new function.\n",
      "WARNING:root:`remote_read` is being deprecated, please update your code with new function.\n",
      "WARNING:root:`remote_read` is being deprecated, please update your code with new function.\n",
      "WARNING:root:`remote_read` is being deprecated, please update your code with new function.\n",
      "WARNING:root:`remote_read` is being deprecated, please update your code with new function.\n",
      "WARNING:root:`remote_read` is being deprecated, please update your code with new function.\n",
      "WARNING:root:`remote_read` is being deprecated, please update your code with new function.\n",
      "WARNING:root:`remote_read` is being deprecated, please update your code with new function.\n",
      "WARNING:root:`remote_read` is being deprecated, please update your code with new function.\n",
      "WARNING:root:`remote_read` is being deprecated, please update your code with new function.\n",
      "WARNING:root:`remote_read` is being deprecated, please update your code with new function.\n",
      "WARNING:root:`remote_read` is being deprecated, please update your code with new function.\n",
      "WARNING:root:`remote_read` is being deprecated, please update your code with new function.\n"
     ]
    },
    {
     "name": "stdout",
     "output_type": "stream",
     "text": [
      "Generation 0: optimal function value is: 0.009781; average function value is 1.040422\n",
      "Generation 1: optimal function value is: 0.990314; average function value is 0.634143\n",
      "Generation 2: optimal function value is: 0.990314; average function value is 0.682779\n",
      "Generation 3: optimal function value is: 0.990314; average function value is 0.704615\n",
      "Generation 4: optimal function value is: 0.990314; average function value is 0.719704\n",
      "Generation 5: optimal function value is: 0.990314; average function value is 0.733152\n",
      "Generation 6: optimal function value is: 0.990314; average function value is 0.742449\n",
      "Generation 7: optimal function value is: 0.990314; average function value is 0.750186\n",
      "Generation 8: optimal function value is: 0.990314; average function value is 0.756481\n",
      "Generation 9: optimal function value is: 0.990314; average function value is 0.760133\n",
      "Generation 10: optimal function value is: 0.990314; average function value is 0.757380\n",
      "Generation 11: optimal function value is: 0.990314; average function value is 0.761457\n",
      "Generation 12: optimal function value is: 0.990314; average function value is 0.761446\n",
      "Generation 13: optimal function value is: 0.990314; average function value is 0.761836\n",
      "Generation 14: optimal function value is: 0.990314; average function value is 0.763874\n",
      "Optimal function value is: 0.990314; \n",
      "Optimal solution is:\n",
      "[0.90594572 0.26321703 0.43303237 0.09404053 0.2151216  0.54492973\n",
      " 0.99977739]\n"
     ]
    },
    {
     "data": {
      "image/png": "[encoded data removed]",
      "text/plain": [
       "<Figure size 432x288 with 1 Axes>"
      ]
     },
     "metadata": {
      "needs_background": "light"
     },
     "output_type": "display_data"
    },
    {
     "name": "stdout",
     "output_type": "stream",
     "text": [
      "==========SCORE========\n",
      "0.9903138568252602\n",
      "=====[adset_id]===== 23843578121660036 ==========[score] 1.3926851749263864\n",
      "=====[adset_id]===== 23843531828830036 ==========[score] 0.787103250245353\n",
      "=====[adset_id]===== 23843516369410036 ==========[score] 0.06723037125770781\n",
      "=====[adset_id]===== 23843447338000036 ==========[score] -1.7994529440958504\n",
      "=====[adset_id]===== 23843447337980036 ==========[score] 0.08017610270481945\n",
      "=====[adset_id]===== 23843447337970036 ==========[score] 1.4752172763888074\n",
      "=====[adset_id]===== 23843447337960036 ==========[score] -3.300865500437367\n",
      "[optimal_weight]: [0.90594572 0.         0.         0.         0.         0.54492973\n",
      " 0.99977739]\n",
      "[operation time]:  0:00:23.810179\n",
      "[campaign_id]: 23843508739720127\n",
      "[current time]:  2019-08-23 16:39:44.877543\n"
     ]
    },
    {
     "name": "stderr",
     "output_type": "stream",
     "text": [
      "WARNING:root:`remote_read` is being deprecated, please update your code with new function.\n"
     ]
    },
    {
     "name": "stdout",
     "output_type": "stream",
     "text": [
      "[get_media_token_by_queryid] token_dic {'credential_id': '958842090856883', 'credential_secret': 'a952f55afca38572cea2994d440d674b', 'credential_token': 'EAANoD9I4obMBAH8xjIhGjHc9DmLDeBDTauvkO3tk5x05v1E3G72Qp33aP4gLkE3IZBUDyCMkqCLLPS6DKk8mUJLcsncIrjveFLZCKUseqU7Qy2iIeEq0Dx8DgZAuRwhUNFkKHtmU8McAAWbWMNi2hiWZAbZAXDAyTCd1xXHUJmQZDZD', 'credential_developer_token': None, 'credential_refresh_token': None, 'name': 'AntMan Facebook Credential'}\n",
      "self.campaign_features[Field.start_time] 2019-06-18T10:50:25+0800\n"
     ]
    },
    {
     "name": "stderr",
     "output_type": "stream",
     "text": [
      "WARNING:root:`remote_read` is being deprecated, please update your code with new function.\n"
     ]
    },
    {
     "name": "stdout",
     "output_type": "stream",
     "text": [
      "[get_adsets_active] adset_active_list: ['23843699666220127', '23843651668300127', '23843629487990127']\n"
     ]
    },
    {
     "name": "stderr",
     "output_type": "stream",
     "text": [
      "WARNING:root:`remote_read` is being deprecated, please update your code with new function.\n",
      "WARNING:root:`remote_read` is being deprecated, please update your code with new function.\n",
      "WARNING:root:`remote_read` is being deprecated, please update your code with new function.\n",
      "WARNING:root:`remote_read` is being deprecated, please update your code with new function.\n",
      "WARNING:root:`remote_read` is being deprecated, please update your code with new function.\n"
     ]
    },
    {
     "name": "stdout",
     "output_type": "stream",
     "text": [
      "Generation 0: optimal function value is: -0.167332; average function value is 0.767992\n",
      "Generation 1: optimal function value is: 1.200959; average function value is 0.761011\n",
      "Generation 2: optimal function value is: 1.200959; average function value is 0.833656\n",
      "Generation 3: optimal function value is: 1.200959; average function value is 0.901009\n",
      "Generation 4: optimal function value is: 1.200959; average function value is 0.939796\n",
      "Generation 5: optimal function value is: 1.200959; average function value is 0.965387\n",
      "Generation 6: optimal function value is: 1.202088; average function value is 0.991946\n",
      "Generation 7: optimal function value is: 1.202088; average function value is 1.000892\n",
      "Generation 8: optimal function value is: 1.202088; average function value is 1.021773\n",
      "Generation 9: optimal function value is: 1.202088; average function value is 1.030489\n",
      "Generation 10: optimal function value is: 1.202088; average function value is 1.043455\n",
      "Generation 11: optimal function value is: 1.202088; average function value is 1.049797\n",
      "Generation 12: optimal function value is: 1.202088; average function value is 1.046889\n",
      "Generation 13: optimal function value is: 1.202088; average function value is 1.057852\n",
      "Generation 14: optimal function value is: 1.202088; average function value is 1.065041\n",
      "Optimal function value is: 1.202088; \n",
      "Optimal solution is:\n",
      "[0.99841445 0.63208983 0.73056023 0.56083662 0.61768945 0.46179343\n",
      " 0.0098184 ]\n"
     ]
    },
    {
     "data": {
      "image/png": "[encoded data removed]",
      "text/plain": [
       "<Figure size 432x288 with 1 Axes>"
      ]
     },
     "metadata": {
      "needs_background": "light"
     },
     "output_type": "display_data"
    },
    {
     "name": "stderr",
     "output_type": "stream",
     "text": [
      "WARNING:root:`remote_read` is being deprecated, please update your code with new function.\n"
     ]
    },
    {
     "name": "stdout",
     "output_type": "stream",
     "text": [
      "==========SCORE========\n",
      "1.2020876522649924\n",
      "=====[adset_id]===== 23843699666220127 ==========[score] 17.086023498437758\n",
      "=====[adset_id]===== 23843651668300127 ==========[score] -1.0460662754936962\n",
      "=====[adset_id]===== 23843629487990127 ==========[score] -0.33392141420398425\n",
      "[optimal_weight]: [0.99841445 0.         0.         0.         0.         0.46179343\n",
      " 0.0098184 ]\n",
      "[operation time]:  0:00:20.770802\n",
      "[campaign_id]: 23843628364880022\n",
      "[current time]:  2019-08-23 16:40:05.649528\n",
      "[get_media_token_by_queryid] token_dic {'credential_id': '958842090856883', 'credential_secret': 'a952f55afca38572cea2994d440d674b', 'credential_token': 'EAANoD9I4obMBAH8xjIhGjHc9DmLDeBDTauvkO3tk5x05v1E3G72Qp33aP4gLkE3IZBUDyCMkqCLLPS6DKk8mUJLcsncIrjveFLZCKUseqU7Qy2iIeEq0Dx8DgZAuRwhUNFkKHtmU8McAAWbWMNi2hiWZAbZAXDAyTCd1xXHUJmQZDZD', 'credential_developer_token': None, 'credential_refresh_token': None, 'name': 'AntMan Facebook Credential'}\n",
      "self.campaign_features[Field.start_time] 2019-08-19T15:20:37+0800\n"
     ]
    },
    {
     "name": "stderr",
     "output_type": "stream",
     "text": [
      "WARNING:root:`remote_read` is being deprecated, please update your code with new function.\n"
     ]
    },
    {
     "name": "stdout",
     "output_type": "stream",
     "text": [
      "[get_adsets_active] adset_active_list: ['23843628561170022', '23843628364970022', '23843628364960022', '23843628364940022', '23843628364930022', '23843628364920022', '23843628364870022']\n"
     ]
    },
    {
     "name": "stderr",
     "output_type": "stream",
     "text": [
      "WARNING:root:`remote_read` is being deprecated, please update your code with new function.\n",
      "WARNING:root:`remote_read` is being deprecated, please update your code with new function.\n",
      "WARNING:root:`remote_read` is being deprecated, please update your code with new function.\n",
      "WARNING:root:`remote_read` is being deprecated, please update your code with new function.\n",
      "WARNING:root:`remote_read` is being deprecated, please update your code with new function.\n",
      "WARNING:root:`remote_read` is being deprecated, please update your code with new function.\n",
      "WARNING:root:`remote_read` is being deprecated, please update your code with new function.\n",
      "WARNING:root:`remote_read` is being deprecated, please update your code with new function.\n",
      "WARNING:root:`remote_read` is being deprecated, please update your code with new function.\n",
      "WARNING:root:`remote_read` is being deprecated, please update your code with new function.\n",
      "WARNING:root:`remote_read` is being deprecated, please update your code with new function.\n",
      "WARNING:root:`remote_read` is being deprecated, please update your code with new function.\n",
      "WARNING:root:`remote_read` is being deprecated, please update your code with new function.\n"
     ]
    },
    {
     "name": "stdout",
     "output_type": "stream",
     "text": [
      "Generation 0: optimal function value is: -0.199248; average function value is 0.510193\n",
      "Generation 1: optimal function value is: 1.259301; average function value is 0.742948\n",
      "Generation 2: optimal function value is: 1.259301; average function value is 0.796385\n",
      "Generation 3: optimal function value is: 1.259301; average function value is 0.817973\n",
      "Generation 4: optimal function value is: 1.259301; average function value is 0.834262\n",
      "Generation 5: optimal function value is: 1.259301; average function value is 0.842947\n",
      "Generation 6: optimal function value is: 1.259301; average function value is 0.852585\n",
      "Generation 7: optimal function value is: 1.259301; average function value is 0.859899\n",
      "Generation 8: optimal function value is: 1.259301; average function value is 0.865095\n",
      "Generation 9: optimal function value is: 1.259301; average function value is 0.870439\n",
      "Generation 10: optimal function value is: 1.259301; average function value is 0.875147\n",
      "Generation 11: optimal function value is: 1.259301; average function value is 0.876921\n",
      "Generation 12: optimal function value is: 1.259301; average function value is 0.882034\n",
      "Generation 13: optimal function value is: 1.259301; average function value is 0.891422\n",
      "Generation 14: optimal function value is: 1.259301; average function value is 0.894698\n",
      "Optimal function value is: 1.259301; \n",
      "Optimal solution is:\n",
      "[0.98977662 0.65591711 0.35356283 0.32625509 0.48889854 0.85999773\n",
      " 0.99306857]\n"
     ]
    },
    {
     "data": {
      "image/png": "[encoded data removed]",
      "text/plain": [
       "<Figure size 432x288 with 1 Axes>"
      ]
     },
     "metadata": {
      "needs_background": "light"
     },
     "output_type": "display_data"
    },
    {
     "name": "stderr",
     "output_type": "stream",
     "text": [
      "WARNING:root:`remote_read` is being deprecated, please update your code with new function.\n"
     ]
    },
    {
     "name": "stdout",
     "output_type": "stream",
     "text": [
      "==========SCORE========\n",
      "1.2593010151307453\n",
      "=====[adset_id]===== 23843628561170022 ==========[score] 1.722793820377932\n",
      "=====[adset_id]===== 23843628364970022 ==========[score] 1.834272566260731\n",
      "=====[adset_id]===== 23843628364960022 ==========[score] 1.795870468593984\n",
      "=====[adset_id]===== 23843628364940022 ==========[score] 1.8882137516143087\n",
      "=====[adset_id]===== 23843628364930022 ==========[score] 1.8837996268302408\n",
      "=====[adset_id]===== 23843628364920022 ==========[score] 1.3452806311869787\n",
      "=====[adset_id]===== 23843628364870022 ==========[score] 1.6656852947231564\n",
      "[optimal_weight]: [0.98977662 0.         0.         0.         0.         0.85999773\n",
      " 0.99306857]\n",
      "[operation time]:  0:00:23.651756\n",
      "[campaign_id]: 23843672578810681\n",
      "[current time]:  2019-08-23 16:40:29.302215\n",
      "[get_media_token_by_queryid] token_dic {'credential_id': '958842090856883', 'credential_secret': 'a952f55afca38572cea2994d440d674b', 'credential_token': 'EAANoD9I4obMBAH8xjIhGjHc9DmLDeBDTauvkO3tk5x05v1E3G72Qp33aP4gLkE3IZBUDyCMkqCLLPS6DKk8mUJLcsncIrjveFLZCKUseqU7Qy2iIeEq0Dx8DgZAuRwhUNFkKHtmU8McAAWbWMNi2hiWZAbZAXDAyTCd1xXHUJmQZDZD', 'credential_developer_token': None, 'credential_refresh_token': None, 'name': 'AntMan Facebook Credential'}\n",
      "self.campaign_features[Field.start_time] 2019-07-16T00:01:21+0800\n"
     ]
    },
    {
     "name": "stderr",
     "output_type": "stream",
     "text": [
      "WARNING:root:`remote_read` is being deprecated, please update your code with new function.\n"
     ]
    },
    {
     "name": "stdout",
     "output_type": "stream",
     "text": [
      "[get_adsets_active] adset_active_list: ['23843672578870681', '23843672578860681', '23843672578850681', '23843672578840681', '23843672578830681', '23843672578820681', '23843672578800681']\n"
     ]
    },
    {
     "name": "stderr",
     "output_type": "stream",
     "text": [
      "WARNING:root:`remote_read` is being deprecated, please update your code with new function.\n",
      "WARNING:root:`remote_read` is being deprecated, please update your code with new function.\n",
      "WARNING:root:`remote_read` is being deprecated, please update your code with new function.\n",
      "WARNING:root:`remote_read` is being deprecated, please update your code with new function.\n",
      "WARNING:root:`remote_read` is being deprecated, please update your code with new function.\n",
      "WARNING:root:`remote_read` is being deprecated, please update your code with new function.\n",
      "WARNING:root:`remote_read` is being deprecated, please update your code with new function.\n",
      "WARNING:root:`remote_read` is being deprecated, please update your code with new function.\n",
      "WARNING:root:`remote_read` is being deprecated, please update your code with new function.\n",
      "WARNING:root:`remote_read` is being deprecated, please update your code with new function.\n",
      "WARNING:root:`remote_read` is being deprecated, please update your code with new function.\n",
      "WARNING:root:`remote_read` is being deprecated, please update your code with new function.\n",
      "WARNING:root:`remote_read` is being deprecated, please update your code with new function.\n"
     ]
    },
    {
     "name": "stdout",
     "output_type": "stream",
     "text": [
      "Generation 0: optimal function value is: 0.012293; average function value is 1.000887\n",
      "Generation 1: optimal function value is: 0.990426; average function value is 0.615487\n",
      "Generation 2: optimal function value is: 0.990426; average function value is 0.673798\n",
      "Generation 3: optimal function value is: 0.990426; average function value is 0.687253\n",
      "Generation 4: optimal function value is: 0.990426; average function value is 0.700550\n",
      "Generation 5: optimal function value is: 0.990426; average function value is 0.717100\n",
      "Generation 6: optimal function value is: 0.990426; average function value is 0.716896\n",
      "Generation 7: optimal function value is: 0.990426; average function value is 0.732997\n",
      "Generation 8: optimal function value is: 0.990426; average function value is 0.742117\n",
      "Generation 9: optimal function value is: 0.990426; average function value is 0.749212\n",
      "Generation 10: optimal function value is: 0.990426; average function value is 0.754630\n",
      "Generation 11: optimal function value is: 0.990426; average function value is 0.757681\n",
      "Generation 12: optimal function value is: 0.990426; average function value is 0.758706\n",
      "Generation 13: optimal function value is: 0.990426; average function value is 0.764499\n",
      "Generation 14: optimal function value is: 0.990426; average function value is 0.763474\n",
      "Optimal function value is: 0.990426; \n",
      "Optimal solution is:\n",
      "[0.97074342 0.36595986 0.37465218 0.5173278  0.40363391 0.29858935\n",
      " 0.98930207]\n"
     ]
    },
    {
     "data": {
      "image/png": "[encoded data removed]",
      "text/plain": [
       "<Figure size 432x288 with 1 Axes>"
      ]
     },
     "metadata": {
      "needs_background": "light"
     },
     "output_type": "display_data"
    },
    {
     "name": "stderr",
     "output_type": "stream",
     "text": [
      "WARNING:root:`remote_read` is being deprecated, please update your code with new function.\n"
     ]
    },
    {
     "name": "stdout",
     "output_type": "stream",
     "text": [
      "==========SCORE========\n",
      "0.9904264010224036\n",
      "=====[adset_id]===== 23843672578870681 ==========[score] 0.7477103319620326\n",
      "=====[adset_id]===== 23843672578860681 ==========[score] 0.35988128821355786\n",
      "=====[adset_id]===== 23843672578850681 ==========[score] -0.4305584975050033\n",
      "=====[adset_id]===== 23843672578840681 ==========[score] 130.30806026697903\n",
      "=====[adset_id]===== 23843672578830681 ==========[score] -7.431123262918355\n",
      "=====[adset_id]===== 23843672578820681 ==========[score] 260.56765149354817\n",
      "=====[adset_id]===== 23843672578800681 ==========[score] 72.00055325977763\n",
      "[optimal_weight]: [0.97074342 0.         0.         0.         0.         0.29858935\n",
      " 0.98930207]\n",
      "[operation time]:  0:00:23.563020\n",
      "[campaign_id]: 23842880697850266\n",
      "[current time]:  2019-08-23 16:40:52.878196\n",
      "[get_media_token_by_queryid] token_dic {'credential_id': '958842090856883', 'credential_secret': 'a952f55afca38572cea2994d440d674b', 'credential_token': 'EAANoD9I4obMBAH8xjIhGjHc9DmLDeBDTauvkO3tk5x05v1E3G72Qp33aP4gLkE3IZBUDyCMkqCLLPS6DKk8mUJLcsncIrjveFLZCKUseqU7Qy2iIeEq0Dx8DgZAuRwhUNFkKHtmU8McAAWbWMNi2hiWZAbZAXDAyTCd1xXHUJmQZDZD', 'credential_developer_token': None, 'credential_refresh_token': None, 'name': 'AntMan Facebook Credential'}\n",
      "self.campaign_features[Field.start_time] 2018-07-09T11:37:17-0400\n"
     ]
    },
    {
     "name": "stderr",
     "output_type": "stream",
     "text": [
      "WARNING:root:`remote_read` is being deprecated, please update your code with new function.\n"
     ]
    },
    {
     "name": "stdout",
     "output_type": "stream",
     "text": [
      "[get_adsets_active] adset_active_list: ['23843717391720266', '23843717206480266', '23843717205420266', '23843708355320266', '23843707875590266']\n"
     ]
    },
    {
     "name": "stderr",
     "output_type": "stream",
     "text": [
      "WARNING:root:`remote_read` is being deprecated, please update your code with new function.\n",
      "WARNING:root:`remote_read` is being deprecated, please update your code with new function.\n",
      "WARNING:root:`remote_read` is being deprecated, please update your code with new function.\n",
      "WARNING:root:`remote_read` is being deprecated, please update your code with new function.\n",
      "WARNING:root:`remote_read` is being deprecated, please update your code with new function.\n",
      "WARNING:root:`remote_read` is being deprecated, please update your code with new function.\n",
      "WARNING:root:`remote_read` is being deprecated, please update your code with new function.\n",
      "WARNING:root:`remote_read` is being deprecated, please update your code with new function.\n",
      "WARNING:root:`remote_read` is being deprecated, please update your code with new function.\n"
     ]
    },
    {
     "name": "stdout",
     "output_type": "stream",
     "text": [
      "Generation 0: optimal function value is: -0.941792; average function value is -0.887321\n",
      "Generation 1: optimal function value is: 17.230743; average function value is 10.914585\n",
      "Generation 2: optimal function value is: 17.230743; average function value is 12.305352\n",
      "Generation 3: optimal function value is: 17.230743; average function value is 13.019518\n",
      "Generation 4: optimal function value is: 17.230743; average function value is 13.376701\n",
      "Generation 5: optimal function value is: 17.230743; average function value is 13.961240\n",
      "Generation 6: optimal function value is: 17.230743; average function value is 14.198100\n",
      "Generation 7: optimal function value is: 17.230743; average function value is 14.386699\n",
      "Generation 8: optimal function value is: 17.230743; average function value is 14.483881\n",
      "Generation 9: optimal function value is: 17.230743; average function value is 14.617639\n",
      "Generation 10: optimal function value is: 17.230743; average function value is 14.669770\n",
      "Generation 11: optimal function value is: 17.230743; average function value is 14.754573\n",
      "Generation 12: optimal function value is: 17.230743; average function value is 14.643564\n",
      "Generation 13: optimal function value is: 17.230743; average function value is 14.766251\n",
      "Generation 14: optimal function value is: 17.230743; average function value is 14.918290\n",
      "Optimal function value is: 17.230743; \n",
      "Optimal solution is:\n",
      "[0.61582423 0.28799294 0.98748612 0.23604164 0.74900075 0.77856595\n",
      " 0.90917383]\n"
     ]
    },
    {
     "data": {
      "image/png": "[encoded data removed]",
      "text/plain": [
       "<Figure size 432x288 with 1 Axes>"
      ]
     },
     "metadata": {
      "needs_background": "light"
     },
     "output_type": "display_data"
    },
    {
     "name": "stderr",
     "output_type": "stream",
     "text": [
      "WARNING:root:`remote_read` is being deprecated, please update your code with new function.\n"
     ]
    },
    {
     "name": "stdout",
     "output_type": "stream",
     "text": [
      "==========SCORE========\n",
      "17.2307432114058\n",
      "=====[adset_id]===== 23843717391720266 ==========[score] 1.6877397878345564\n",
      "=====[adset_id]===== 23843717206480266 ==========[score] 1.6877397878345564\n",
      "=====[adset_id]===== 23843717205420266 ==========[score] 27.75464426570901\n",
      "=====[adset_id]===== 23843708355320266 ==========[score] 36.981065488588975\n",
      "=====[adset_id]===== 23843707875590266 ==========[score] 55.60165195249656\n",
      "[optimal_weight]: [0.61582423 0.28799294 0.98748612 0.23604164 0.74900075 0.77856595\n",
      " 0.90917383]\n",
      "[operation time]:  0:00:22.724268\n",
      "[campaign_id]: 23843318062740647\n",
      "[current time]:  2019-08-23 16:41:15.603382\n",
      "[get_media_token_by_queryid] token_dic {'credential_id': '958842090856883', 'credential_secret': 'a952f55afca38572cea2994d440d674b', 'credential_token': 'EAANoD9I4obMBAH8xjIhGjHc9DmLDeBDTauvkO3tk5x05v1E3G72Qp33aP4gLkE3IZBUDyCMkqCLLPS6DKk8mUJLcsncIrjveFLZCKUseqU7Qy2iIeEq0Dx8DgZAuRwhUNFkKHtmU8McAAWbWMNi2hiWZAbZAXDAyTCd1xXHUJmQZDZD', 'credential_developer_token': None, 'credential_refresh_token': None, 'name': 'AntMan Facebook Credential'}\n",
      "self.campaign_features[Field.start_time] 2019-05-07T22:32:30+0800\n"
     ]
    },
    {
     "name": "stderr",
     "output_type": "stream",
     "text": [
      "WARNING:root:`remote_read` is being deprecated, please update your code with new function.\n"
     ]
    },
    {
     "name": "stdout",
     "output_type": "stream",
     "text": [
      "[get_adsets_active] adset_active_list: ['23843577190080647', '23843575282750647', '23843569214210647']\n"
     ]
    },
    {
     "name": "stderr",
     "output_type": "stream",
     "text": [
      "WARNING:root:`remote_read` is being deprecated, please update your code with new function.\n",
      "WARNING:root:`remote_read` is being deprecated, please update your code with new function.\n",
      "WARNING:root:`remote_read` is being deprecated, please update your code with new function.\n",
      "WARNING:root:`remote_read` is being deprecated, please update your code with new function.\n",
      "WARNING:root:`remote_read` is being deprecated, please update your code with new function.\n"
     ]
    },
    {
     "name": "stdout",
     "output_type": "stream",
     "text": [
      "Generation 0: optimal function value is: -0.448267; average function value is 12.284103\n",
      "Generation 1: optimal function value is: 1.852132; average function value is 0.964181\n",
      "Generation 2: optimal function value is: 1.856880; average function value is 1.080661\n",
      "Generation 3: optimal function value is: 1.856880; average function value is 1.159237\n",
      "Generation 4: optimal function value is: 1.856880; average function value is 1.183233\n",
      "Generation 5: optimal function value is: 1.856880; average function value is 1.231285\n",
      "Generation 6: optimal function value is: 1.856880; average function value is 1.264227\n",
      "Generation 7: optimal function value is: 1.856880; average function value is 1.281144\n",
      "Generation 8: optimal function value is: 1.856880; average function value is 1.290591\n",
      "Generation 9: optimal function value is: 1.856880; average function value is 1.293582\n",
      "Generation 10: optimal function value is: 1.856880; average function value is 1.311262\n",
      "Generation 11: optimal function value is: 1.856880; average function value is 1.319857\n",
      "Generation 12: optimal function value is: 1.856880; average function value is 1.324018\n",
      "Generation 13: optimal function value is: 1.856880; average function value is 1.340989\n",
      "Generation 14: optimal function value is: 1.856880; average function value is 1.355280\n",
      "Optimal function value is: 1.856880; \n",
      "Optimal solution is:\n",
      "[0.87589218 0.84994792 0.99783308 0.29186369 0.87888735 0.81755015\n",
      " 0.11020329]\n"
     ]
    },
    {
     "data": {
      "image/png": "[encoded data removed]",
      "text/plain": [
       "<Figure size 432x288 with 1 Axes>"
      ]
     },
     "metadata": {
      "needs_background": "light"
     },
     "output_type": "display_data"
    },
    {
     "name": "stderr",
     "output_type": "stream",
     "text": [
      "WARNING:root:`remote_read` is being deprecated, please update your code with new function.\n"
     ]
    },
    {
     "name": "stdout",
     "output_type": "stream",
     "text": [
      "==========SCORE========\n",
      "1.8568796198027888\n",
      "=====[adset_id]===== 23843577190080647 ==========[score] 1.5106664803686465\n",
      "=====[adset_id]===== 23843575282750647 ==========[score] 0.8827881145294358\n",
      "=====[adset_id]===== 23843569214210647 ==========[score] 1.6262162389943609\n",
      "[optimal_weight]: [0.87589218 0.84994792 0.99783308 0.29186369 0.87888735 0.81755015\n",
      " 0.11020329]\n",
      "[operation time]:  0:00:21.184968\n",
      "[campaign_id]: 23843384204790368\n",
      "[current time]:  2019-08-23 16:41:36.789594\n",
      "[get_media_token_by_queryid] token_dic {'credential_id': '958842090856883', 'credential_secret': 'a952f55afca38572cea2994d440d674b', 'credential_token': 'EAANoD9I4obMBAH8xjIhGjHc9DmLDeBDTauvkO3tk5x05v1E3G72Qp33aP4gLkE3IZBUDyCMkqCLLPS6DKk8mUJLcsncIrjveFLZCKUseqU7Qy2iIeEq0Dx8DgZAuRwhUNFkKHtmU8McAAWbWMNi2hiWZAbZAXDAyTCd1xXHUJmQZDZD', 'credential_developer_token': None, 'credential_refresh_token': None, 'name': 'AntMan Facebook Credential'}\n",
      "self.campaign_features[Field.start_time] 2019-04-08T08:30:28+0800\n"
     ]
    },
    {
     "name": "stderr",
     "output_type": "stream",
     "text": [
      "WARNING:root:`remote_read` is being deprecated, please update your code with new function.\n"
     ]
    },
    {
     "name": "stdout",
     "output_type": "stream",
     "text": [
      "[get_adsets_active] adset_active_list: ['23843694481330368', '23843661314820368', '23843482074960368', '23843451198530368', '23843384205000368']\n"
     ]
    },
    {
     "name": "stderr",
     "output_type": "stream",
     "text": [
      "WARNING:root:`remote_read` is being deprecated, please update your code with new function.\n",
      "WARNING:root:`remote_read` is being deprecated, please update your code with new function.\n",
      "WARNING:root:`remote_read` is being deprecated, please update your code with new function.\n",
      "WARNING:root:`remote_read` is being deprecated, please update your code with new function.\n",
      "WARNING:root:`remote_read` is being deprecated, please update your code with new function.\n",
      "WARNING:root:`remote_read` is being deprecated, please update your code with new function.\n",
      "WARNING:root:`remote_read` is being deprecated, please update your code with new function.\n",
      "WARNING:root:`remote_read` is being deprecated, please update your code with new function.\n",
      "WARNING:root:`remote_read` is being deprecated, please update your code with new function.\n"
     ]
    },
    {
     "name": "stdout",
     "output_type": "stream",
     "text": [
      "Generation 0: optimal function value is: 0.181811; average function value is 1.410708\n",
      "Generation 1: optimal function value is: 0.846159; average function value is 0.497818\n",
      "Generation 2: optimal function value is: 0.846159; average function value is 0.535380\n",
      "Generation 3: optimal function value is: 0.846159; average function value is 0.558502\n",
      "Generation 4: optimal function value is: 0.846159; average function value is 0.573361\n",
      "Generation 5: optimal function value is: 0.846159; average function value is 0.584385\n",
      "Generation 6: optimal function value is: 0.846159; average function value is 0.589814\n",
      "Generation 7: optimal function value is: 0.846159; average function value is 0.595838\n",
      "Generation 8: optimal function value is: 0.846159; average function value is 0.598760\n",
      "Generation 9: optimal function value is: 0.846159; average function value is 0.602789\n",
      "Generation 10: optimal function value is: 0.846159; average function value is 0.606042\n",
      "Generation 11: optimal function value is: 0.846159; average function value is 0.607651\n",
      "Generation 12: optimal function value is: 0.846159; average function value is 0.612033\n",
      "Generation 13: optimal function value is: 0.846159; average function value is 0.612330\n",
      "Generation 14: optimal function value is: 0.846159; average function value is 0.614057\n",
      "Optimal function value is: 0.846159; \n",
      "Optimal solution is:\n",
      "[0.82891798 0.72558473 0.60002271 0.67355059 0.98169357 0.06843658\n",
      " 0.96456868]\n"
     ]
    },
    {
     "data": {
      "image/png": "[encoded data removed]",
      "text/plain": [
       "<Figure size 432x288 with 1 Axes>"
      ]
     },
     "metadata": {
      "needs_background": "light"
     },
     "output_type": "display_data"
    },
    {
     "name": "stderr",
     "output_type": "stream",
     "text": [
      "WARNING:root:`remote_read` is being deprecated, please update your code with new function.\n"
     ]
    },
    {
     "name": "stdout",
     "output_type": "stream",
     "text": [
      "==========SCORE========\n",
      "0.8461593000248003\n",
      "=====[adset_id]===== 23843694481330368 ==========[score] 0.8629033448213519\n",
      "=====[adset_id]===== 23843661314820368 ==========[score] 0.4023336955734892\n",
      "=====[adset_id]===== 23843482074960368 ==========[score] -0.759071632734128\n",
      "=====[adset_id]===== 23843451198530368 ==========[score] 0.007748517789552434\n",
      "=====[adset_id]===== 23843384205000368 ==========[score] 0.0689015961728292\n",
      "[optimal_weight]: [0.82891798 0.72558473 0.60002271 0.67355059 0.98169357 0.06843658\n",
      " 0.96456868]\n",
      "[operation time]:  0:00:22.600959\n",
      "[campaign_id]: 23843473390820344\n",
      "[current time]:  2019-08-23 16:41:59.391511\n",
      "[get_media_token_by_queryid] token_dic {'credential_id': '958842090856883', 'credential_secret': 'a952f55afca38572cea2994d440d674b', 'credential_token': 'EAANoD9I4obMBAH8xjIhGjHc9DmLDeBDTauvkO3tk5x05v1E3G72Qp33aP4gLkE3IZBUDyCMkqCLLPS6DKk8mUJLcsncIrjveFLZCKUseqU7Qy2iIeEq0Dx8DgZAuRwhUNFkKHtmU8McAAWbWMNi2hiWZAbZAXDAyTCd1xXHUJmQZDZD', 'credential_developer_token': None, 'credential_refresh_token': None, 'name': 'AntMan Facebook Credential'}\n",
      "self.campaign_features[Field.start_time] 2019-07-23T18:36:37+0800\n"
     ]
    },
    {
     "name": "stderr",
     "output_type": "stream",
     "text": [
      "WARNING:root:`remote_read` is being deprecated, please update your code with new function.\n"
     ]
    },
    {
     "name": "stdout",
     "output_type": "stream",
     "text": [
      "[get_adsets_active] adset_active_list: ['23843511657650344', '23843511656660344', '23843477945310344', '23843476995720344', '23843473402760344']\n"
     ]
    },
    {
     "name": "stderr",
     "output_type": "stream",
     "text": [
      "WARNING:root:`remote_read` is being deprecated, please update your code with new function.\n",
      "WARNING:root:`remote_read` is being deprecated, please update your code with new function.\n",
      "WARNING:root:`remote_read` is being deprecated, please update your code with new function.\n",
      "WARNING:root:`remote_read` is being deprecated, please update your code with new function.\n",
      "WARNING:root:`remote_read` is being deprecated, please update your code with new function.\n",
      "WARNING:root:`remote_read` is being deprecated, please update your code with new function.\n",
      "WARNING:root:`remote_read` is being deprecated, please update your code with new function.\n",
      "WARNING:root:`remote_read` is being deprecated, please update your code with new function.\n",
      "WARNING:root:`remote_read` is being deprecated, please update your code with new function.\n"
     ]
    },
    {
     "name": "stdout",
     "output_type": "stream",
     "text": [
      "Generation 0: optimal function value is: -0.582253; average function value is -0.224314\n",
      "Generation 1: optimal function value is: 2.393792; average function value is 1.417394\n",
      "Generation 2: optimal function value is: 2.393792; average function value is 1.507154\n",
      "Generation 3: optimal function value is: 2.393792; average function value is 1.585101\n",
      "Generation 4: optimal function value is: 2.393792; average function value is 1.599649\n",
      "Generation 5: optimal function value is: 2.393792; average function value is 1.620145\n",
      "Generation 6: optimal function value is: 2.393792; average function value is 1.625986\n",
      "Generation 7: optimal function value is: 2.393792; average function value is 1.638320\n",
      "Generation 8: optimal function value is: 2.393792; average function value is 1.640448\n",
      "Generation 9: optimal function value is: 2.393792; average function value is 1.648889\n",
      "Generation 10: optimal function value is: 2.393792; average function value is 1.651343\n",
      "Generation 11: optimal function value is: 2.393792; average function value is 1.663369\n",
      "Generation 12: optimal function value is: 2.393792; average function value is 1.668611\n",
      "Generation 13: optimal function value is: 2.393792; average function value is 1.666383\n",
      "Generation 14: optimal function value is: 2.393792; average function value is 1.673325\n",
      "Optimal function value is: 2.393792; \n",
      "Optimal solution is:\n",
      "[0.77868096 0.18978283 0.44844691 0.80554283 0.85739634 0.96451263\n",
      " 0.987438  ]\n"
     ]
    },
    {
     "data": {
      "image/png": "[encoded data removed]",
      "text/plain": [
       "<Figure size 432x288 with 1 Axes>"
      ]
     },
     "metadata": {
      "needs_background": "light"
     },
     "output_type": "display_data"
    },
    {
     "name": "stderr",
     "output_type": "stream",
     "text": [
      "WARNING:root:`remote_read` is being deprecated, please update your code with new function.\n"
     ]
    },
    {
     "name": "stdout",
     "output_type": "stream",
     "text": [
      "==========SCORE========\n",
      "2.3937918264626052\n",
      "=====[adset_id]===== 23843511657650344 ==========[score] 1.9519506277541057\n",
      "=====[adset_id]===== 23843511656660344 ==========[score] 1.7208376965506518\n",
      "=====[adset_id]===== 23843477945310344 ==========[score] 16.57570915703064\n",
      "=====[adset_id]===== 23843476995720344 ==========[score] 5.837297302521503\n",
      "=====[adset_id]===== 23843473402760344 ==========[score] 11.08613622680463\n",
      "[optimal_weight]: [0.77868096 0.18978283 0.44844691 0.80554283 0.85739634 0.96451263\n",
      " 0.987438  ]\n",
      "[operation time]:  0:00:23.315250\n",
      "[campaign_id]: 23843636617110232\n",
      "[current time]:  2019-08-23 16:42:22.708083\n",
      "[get_media_token_by_queryid] token_dic {'credential_id': '958842090856883', 'credential_secret': 'a952f55afca38572cea2994d440d674b', 'credential_token': 'EAANoD9I4obMBAH8xjIhGjHc9DmLDeBDTauvkO3tk5x05v1E3G72Qp33aP4gLkE3IZBUDyCMkqCLLPS6DKk8mUJLcsncIrjveFLZCKUseqU7Qy2iIeEq0Dx8DgZAuRwhUNFkKHtmU8McAAWbWMNi2hiWZAbZAXDAyTCd1xXHUJmQZDZD', 'credential_developer_token': None, 'credential_refresh_token': None, 'name': 'AntMan Facebook Credential'}\n",
      "self.campaign_features[Field.start_time] 2019-08-20T00:00:15+0800\n"
     ]
    },
    {
     "name": "stderr",
     "output_type": "stream",
     "text": [
      "WARNING:root:`remote_read` is being deprecated, please update your code with new function.\n"
     ]
    },
    {
     "name": "stdout",
     "output_type": "stream",
     "text": [
      "[get_adsets_active] adset_active_list: ['23843636617280232', '23843636617270232']\n"
     ]
    },
    {
     "name": "stderr",
     "output_type": "stream",
     "text": [
      "WARNING:root:`remote_read` is being deprecated, please update your code with new function.\n",
      "WARNING:root:`remote_read` is being deprecated, please update your code with new function.\n",
      "WARNING:root:`remote_read` is being deprecated, please update your code with new function.\n"
     ]
    },
    {
     "name": "stdout",
     "output_type": "stream",
     "text": [
      "Generation 0: optimal function value is: -0.405789; average function value is 0.130520\n",
      "Generation 1: optimal function value is: 1.682903; average function value is 0.980967\n",
      "Generation 2: optimal function value is: 1.682903; average function value is 1.035639\n",
      "Generation 3: optimal function value is: 1.690685; average function value is 1.056400\n",
      "Generation 4: optimal function value is: 1.690685; average function value is 1.093670\n",
      "Generation 5: optimal function value is: 1.690685; average function value is 1.105705\n",
      "Generation 6: optimal function value is: 1.690685; average function value is 1.113556\n",
      "Generation 7: optimal function value is: 1.690685; average function value is 1.123069\n",
      "Generation 8: optimal function value is: 1.690685; average function value is 1.129581\n",
      "Generation 9: optimal function value is: 1.690685; average function value is 1.131653\n",
      "Generation 10: optimal function value is: 1.690685; average function value is 1.133419\n",
      "Generation 11: optimal function value is: 1.690685; average function value is 1.136866\n",
      "Generation 12: optimal function value is: 1.690685; average function value is 1.145971\n",
      "Generation 13: optimal function value is: 1.690685; average function value is 1.150022\n",
      "Generation 14: optimal function value is: 1.690685; average function value is 1.155799\n",
      "Optimal function value is: 1.690685; \n",
      "Optimal solution is:\n",
      "[0.02920105 0.64493037 0.66562212 0.08814144 0.98248751 0.94087552\n",
      " 0.96319589]\n"
     ]
    },
    {
     "data": {
      "image/png": "[encoded data removed]",
      "text/plain": [
       "<Figure size 432x288 with 1 Axes>"
      ]
     },
     "metadata": {
      "needs_background": "light"
     },
     "output_type": "display_data"
    },
    {
     "name": "stdout",
     "output_type": "stream",
     "text": [
      "==========SCORE========\n",
      "1.6906853783715214\n",
      "=====[adset_id]===== 23843636617280232 ==========[score] 1.7285981288055834\n"
     ]
    },
    {
     "name": "stderr",
     "output_type": "stream",
     "text": [
      "WARNING:root:`remote_read` is being deprecated, please update your code with new function.\n"
     ]
    },
    {
     "name": "stdout",
     "output_type": "stream",
     "text": [
      "=====[adset_id]===== 23843636617270232 ==========[score] -0.39677942038300484\n",
      "[optimal_weight]: [0.02920105 0.64493037 0.66562212 0.08814144 0.98248751 0.94087552\n",
      " 0.96319589]\n",
      "[operation time]:  0:00:19.533921\n",
      "[campaign_id]: 23843685426300680\n",
      "[current time]:  2019-08-23 16:42:42.242803\n",
      "[get_media_token_by_queryid] token_dic {'credential_id': '958842090856883', 'credential_secret': 'a952f55afca38572cea2994d440d674b', 'credential_token': 'EAANoD9I4obMBAH8xjIhGjHc9DmLDeBDTauvkO3tk5x05v1E3G72Qp33aP4gLkE3IZBUDyCMkqCLLPS6DKk8mUJLcsncIrjveFLZCKUseqU7Qy2iIeEq0Dx8DgZAuRwhUNFkKHtmU8McAAWbWMNi2hiWZAbZAXDAyTCd1xXHUJmQZDZD', 'credential_developer_token': None, 'credential_refresh_token': None, 'name': 'AntMan Facebook Credential'}\n",
      "self.campaign_features[Field.start_time] 2019-08-16T14:31:01+0800\n"
     ]
    },
    {
     "name": "stderr",
     "output_type": "stream",
     "text": [
      "WARNING:root:`remote_read` is being deprecated, please update your code with new function.\n"
     ]
    },
    {
     "name": "stdout",
     "output_type": "stream",
     "text": [
      "[get_adsets_active] adset_active_list: ['23843703703420680', '23843685426360680', '23843685426340680']\n"
     ]
    },
    {
     "name": "stderr",
     "output_type": "stream",
     "text": [
      "WARNING:root:`remote_read` is being deprecated, please update your code with new function.\n",
      "WARNING:root:`remote_read` is being deprecated, please update your code with new function.\n",
      "WARNING:root:`remote_read` is being deprecated, please update your code with new function.\n",
      "WARNING:root:`remote_read` is being deprecated, please update your code with new function.\n",
      "WARNING:root:`remote_read` is being deprecated, please update your code with new function.\n"
     ]
    },
    {
     "name": "stdout",
     "output_type": "stream",
     "text": [
      "Generation 0: optimal function value is: -0.664849; average function value is -0.323779\n",
      "Generation 1: optimal function value is: 2.983729; average function value is 1.736603\n",
      "Generation 2: optimal function value is: 2.983729; average function value is 1.881840\n",
      "Generation 3: optimal function value is: 2.983729; average function value is 1.942055\n",
      "Generation 4: optimal function value is: 2.983729; average function value is 2.011469\n",
      "Generation 5: optimal function value is: 2.983729; average function value is 2.049408\n",
      "Generation 6: optimal function value is: 2.983729; average function value is 2.097244\n",
      "Generation 7: optimal function value is: 2.983729; average function value is 2.106138\n",
      "Generation 8: optimal function value is: 2.983729; average function value is 2.141448\n",
      "Generation 9: optimal function value is: 2.983729; average function value is 2.164587\n",
      "Generation 10: optimal function value is: 2.983729; average function value is 2.191994\n",
      "Generation 11: optimal function value is: 2.983729; average function value is 2.201354\n",
      "Generation 12: optimal function value is: 2.983729; average function value is 2.227451\n",
      "Generation 13: optimal function value is: 2.983729; average function value is 2.247147\n",
      "Generation 14: optimal function value is: 2.983729; average function value is 2.260491\n",
      "Optimal function value is: 2.983729; \n",
      "Optimal solution is:\n",
      "[0.3790437  0.92750129 0.99848733 0.87782576 0.70607532 0.95997061\n",
      " 0.0401229 ]\n"
     ]
    },
    {
     "data": {
      "image/png": "[encoded data removed]",
      "text/plain": [
       "<Figure size 432x288 with 1 Axes>"
      ]
     },
     "metadata": {
      "needs_background": "light"
     },
     "output_type": "display_data"
    },
    {
     "name": "stderr",
     "output_type": "stream",
     "text": [
      "WARNING:root:`remote_read` is being deprecated, please update your code with new function.\n"
     ]
    },
    {
     "name": "stdout",
     "output_type": "stream",
     "text": [
      "==========SCORE========\n",
      "2.983728804806739\n",
      "=====[adset_id]===== 23843703703420680 ==========[score] 1.0000935128069894\n",
      "=====[adset_id]===== 23843685426360680 ==========[score] 2.684287361289509\n",
      "=====[adset_id]===== 23843685426340680 ==========[score] 0.7575633846791945\n",
      "[optimal_weight]: [0.3790437  0.92750129 0.99848733 0.87782576 0.70607532 0.95997061\n",
      " 0.0401229 ]\n",
      "[operation time]:  0:00:20.263342\n",
      "[campaign_id]: 23843098840440451\n",
      "[current time]:  2019-08-23 16:43:02.518325\n",
      "[get_media_token_by_queryid] token_dic {'credential_id': '958842090856883', 'credential_secret': 'a952f55afca38572cea2994d440d674b', 'credential_token': 'EAANoD9I4obMBAH8xjIhGjHc9DmLDeBDTauvkO3tk5x05v1E3G72Qp33aP4gLkE3IZBUDyCMkqCLLPS6DKk8mUJLcsncIrjveFLZCKUseqU7Qy2iIeEq0Dx8DgZAuRwhUNFkKHtmU8McAAWbWMNi2hiWZAbZAXDAyTCd1xXHUJmQZDZD', 'credential_developer_token': None, 'credential_refresh_token': None, 'name': 'AntMan Facebook Credential'}\n",
      "self.campaign_features[Field.start_time] 2018-11-15T09:25:08+0800\n"
     ]
    },
    {
     "name": "stderr",
     "output_type": "stream",
     "text": [
      "WARNING:root:`remote_read` is being deprecated, please update your code with new function.\n"
     ]
    },
    {
     "name": "stdout",
     "output_type": "stream",
     "text": [
      "[get_adsets_active] adset_active_list: ['23843661845390451', '23843661659950451', '23843660496330451', '23843621652590451', '23843345040900451']\n"
     ]
    },
    {
     "name": "stderr",
     "output_type": "stream",
     "text": [
      "WARNING:root:`remote_read` is being deprecated, please update your code with new function.\n",
      "WARNING:root:`remote_read` is being deprecated, please update your code with new function.\n",
      "WARNING:root:`remote_read` is being deprecated, please update your code with new function.\n",
      "WARNING:root:`remote_read` is being deprecated, please update your code with new function.\n",
      "WARNING:root:`remote_read` is being deprecated, please update your code with new function.\n",
      "WARNING:root:`remote_read` is being deprecated, please update your code with new function.\n",
      "WARNING:root:`remote_read` is being deprecated, please update your code with new function.\n",
      "WARNING:root:`remote_read` is being deprecated, please update your code with new function.\n",
      "WARNING:root:`remote_read` is being deprecated, please update your code with new function.\n"
     ]
    },
    {
     "name": "stdout",
     "output_type": "stream",
     "text": [
      "Generation 0: optimal function value is: -0.544233; average function value is -0.227651\n",
      "Generation 1: optimal function value is: 2.262782; average function value is 1.385096\n",
      "Generation 2: optimal function value is: 2.262782; average function value is 1.493523\n",
      "Generation 3: optimal function value is: 2.262782; average function value is 1.554533\n",
      "Generation 4: optimal function value is: 2.262782; average function value is 1.569975\n",
      "Generation 5: optimal function value is: 2.262782; average function value is 1.601557\n",
      "Generation 6: optimal function value is: 2.262782; average function value is 1.630615\n",
      "Generation 7: optimal function value is: 2.262782; average function value is 1.652656\n",
      "Generation 8: optimal function value is: 2.262782; average function value is 1.675566\n",
      "Generation 9: optimal function value is: 2.262782; average function value is 1.693192\n",
      "Generation 10: optimal function value is: 2.262782; average function value is 1.720463\n",
      "Generation 11: optimal function value is: 2.262782; average function value is 1.744324\n",
      "Generation 12: optimal function value is: 2.262782; average function value is 1.765756\n",
      "Generation 13: optimal function value is: 2.262782; average function value is 1.772515\n",
      "Generation 14: optimal function value is: 2.262782; average function value is 1.786324\n",
      "Optimal function value is: 2.262782; \n",
      "Optimal solution is:\n",
      "[0.68640487 0.92910515 0.84471984 0.37661786 0.94690481 0.94982275\n",
      " 0.61173536]\n"
     ]
    },
    {
     "data": {
      "image/png": "[encoded data removed]",
      "text/plain": [
       "<Figure size 432x288 with 1 Axes>"
      ]
     },
     "metadata": {
      "needs_background": "light"
     },
     "output_type": "display_data"
    },
    {
     "name": "stderr",
     "output_type": "stream",
     "text": [
      "WARNING:root:`remote_read` is being deprecated, please update your code with new function.\n"
     ]
    },
    {
     "name": "stdout",
     "output_type": "stream",
     "text": [
      "==========SCORE========\n",
      "2.262781922191202\n",
      "=====[adset_id]===== 23843661845390451 ==========[score] 1.5615581166415042\n",
      "=====[adset_id]===== 23843661659950451 ==========[score] 4.215209182443057\n",
      "=====[adset_id]===== 23843660496330451 ==========[score] 8.320574623775649\n",
      "=====[adset_id]===== 23843621652590451 ==========[score] 2.2211005415642173\n",
      "=====[adset_id]===== 23843345040900451 ==========[score] 2.813345417011109\n",
      "[optimal_weight]: [0.68640487 0.92910515 0.84471984 0.37661786 0.94690481 0.94982275\n",
      " 0.61173536]\n",
      "[operation time]:  0:00:22.518815\n",
      "[campaign_id]: 23843412155100631\n",
      "[current time]:  2019-08-23 16:43:25.037944\n",
      "[get_media_token_by_queryid] token_dic {'credential_id': '958842090856883', 'credential_secret': 'a952f55afca38572cea2994d440d674b', 'credential_token': 'EAANoD9I4obMBAH8xjIhGjHc9DmLDeBDTauvkO3tk5x05v1E3G72Qp33aP4gLkE3IZBUDyCMkqCLLPS6DKk8mUJLcsncIrjveFLZCKUseqU7Qy2iIeEq0Dx8DgZAuRwhUNFkKHtmU8McAAWbWMNi2hiWZAbZAXDAyTCd1xXHUJmQZDZD', 'credential_developer_token': None, 'credential_refresh_token': None, 'name': 'AntMan Facebook Credential'}\n",
      "self.campaign_features[Field.start_time] 2019-05-13T21:56:27+0800\n"
     ]
    },
    {
     "name": "stderr",
     "output_type": "stream",
     "text": [
      "WARNING:root:`remote_read` is being deprecated, please update your code with new function.\n"
     ]
    },
    {
     "name": "stdout",
     "output_type": "stream",
     "text": [
      "[get_adsets_active] adset_active_list: ['23843636299800631', '23843624756900631', '23843624756880631']\n"
     ]
    },
    {
     "name": "stderr",
     "output_type": "stream",
     "text": [
      "WARNING:root:`remote_read` is being deprecated, please update your code with new function.\n",
      "WARNING:root:`remote_read` is being deprecated, please update your code with new function.\n",
      "WARNING:root:`remote_read` is being deprecated, please update your code with new function.\n",
      "WARNING:root:`remote_read` is being deprecated, please update your code with new function.\n",
      "WARNING:root:`remote_read` is being deprecated, please update your code with new function.\n"
     ]
    },
    {
     "name": "stdout",
     "output_type": "stream",
     "text": [
      "Generation 0: optimal function value is: -0.652122; average function value is -0.171774\n",
      "Generation 1: optimal function value is: 2.874572; average function value is 1.549199\n",
      "Generation 2: optimal function value is: 2.874572; average function value is 1.759683\n",
      "Generation 3: optimal function value is: 2.874572; average function value is 1.845840\n",
      "Generation 4: optimal function value is: 2.874572; average function value is 1.885938\n",
      "Generation 5: optimal function value is: 2.874572; average function value is 1.958111\n",
      "Generation 6: optimal function value is: 2.874572; average function value is 1.983094\n",
      "Generation 7: optimal function value is: 2.874572; average function value is 2.015551\n",
      "Generation 8: optimal function value is: 2.874572; average function value is 2.045053\n",
      "Generation 9: optimal function value is: 2.874572; average function value is 2.084196\n",
      "Generation 10: optimal function value is: 2.874572; average function value is 2.120294\n",
      "Generation 11: optimal function value is: 2.874572; average function value is 2.151779\n",
      "Generation 12: optimal function value is: 2.874572; average function value is 2.159697\n",
      "Generation 13: optimal function value is: 2.874572; average function value is 2.156767\n",
      "Generation 14: optimal function value is: 2.874572; average function value is 2.179748\n",
      "Optimal function value is: 2.874572; \n",
      "Optimal solution is:\n",
      "[0.11224202 0.97217301 0.99885296 0.16353098 0.83828325 0.91529363\n",
      " 0.06562217]\n"
     ]
    },
    {
     "data": {
      "image/png": "[encoded data removed]",
      "text/plain": [
       "<Figure size 432x288 with 1 Axes>"
      ]
     },
     "metadata": {
      "needs_background": "light"
     },
     "output_type": "display_data"
    },
    {
     "name": "stderr",
     "output_type": "stream",
     "text": [
      "WARNING:root:`remote_read` is being deprecated, please update your code with new function.\n"
     ]
    },
    {
     "name": "stdout",
     "output_type": "stream",
     "text": [
      "==========SCORE========\n",
      "2.8745719346045457\n",
      "=====[adset_id]===== 23843636299800631 ==========[score] 6.144942197911663\n",
      "=====[adset_id]===== 23843624756900631 ==========[score] 0.9042944291364701\n",
      "=====[adset_id]===== 23843624756880631 ==========[score] -0.8273514793548941\n",
      "[optimal_weight]: [0.11224202 0.97217301 0.99885296 0.16353098 0.83828325 0.91529363\n",
      " 0.06562217]\n",
      "[operation time]:  0:00:21.020209\n",
      "[campaign_id]: 23843468131980091\n",
      "[current time]:  2019-08-23 16:43:46.058949\n",
      "[get_media_token_by_queryid] token_dic {'credential_id': '958842090856883', 'credential_secret': 'a952f55afca38572cea2994d440d674b', 'credential_token': 'EAANoD9I4obMBAH8xjIhGjHc9DmLDeBDTauvkO3tk5x05v1E3G72Qp33aP4gLkE3IZBUDyCMkqCLLPS6DKk8mUJLcsncIrjveFLZCKUseqU7Qy2iIeEq0Dx8DgZAuRwhUNFkKHtmU8McAAWbWMNi2hiWZAbZAXDAyTCd1xXHUJmQZDZD', 'credential_developer_token': None, 'credential_refresh_token': None, 'name': 'AntMan Facebook Credential'}\n",
      "self.campaign_features[Field.start_time] 2019-07-27T00:00:16+0800\n"
     ]
    },
    {
     "name": "stderr",
     "output_type": "stream",
     "text": [
      "WARNING:root:`remote_read` is being deprecated, please update your code with new function.\n"
     ]
    },
    {
     "name": "stdout",
     "output_type": "stream",
     "text": [
      "[get_adsets_active] adset_active_list: ['23843528799410091', '23843527786530091', '23843521405370091', '23843521395560091', '23843508308220091', '23843468170280091']\n"
     ]
    },
    {
     "name": "stderr",
     "output_type": "stream",
     "text": [
      "WARNING:root:`remote_read` is being deprecated, please update your code with new function.\n",
      "WARNING:root:`remote_read` is being deprecated, please update your code with new function.\n",
      "WARNING:root:`remote_read` is being deprecated, please update your code with new function.\n",
      "WARNING:root:`remote_read` is being deprecated, please update your code with new function.\n",
      "WARNING:root:`remote_read` is being deprecated, please update your code with new function.\n",
      "WARNING:root:`remote_read` is being deprecated, please update your code with new function.\n",
      "WARNING:root:`remote_read` is being deprecated, please update your code with new function.\n",
      "WARNING:root:`remote_read` is being deprecated, please update your code with new function.\n",
      "WARNING:root:`remote_read` is being deprecated, please update your code with new function.\n",
      "WARNING:root:`remote_read` is being deprecated, please update your code with new function.\n",
      "WARNING:root:`remote_read` is being deprecated, please update your code with new function.\n"
     ]
    },
    {
     "name": "stdout",
     "output_type": "stream",
     "text": [
      "Generation 0: optimal function value is: -0.686996; average function value is -0.384911\n",
      "Generation 1: optimal function value is: 3.283636; average function value is 1.989692\n",
      "Generation 2: optimal function value is: 3.283636; average function value is 2.153338\n",
      "Generation 3: optimal function value is: 3.283636; average function value is 2.290154\n",
      "Generation 4: optimal function value is: 3.283636; average function value is 2.376458\n",
      "Generation 5: optimal function value is: 3.283636; average function value is 2.424279\n",
      "Generation 6: optimal function value is: 3.283636; average function value is 2.473890\n",
      "Generation 7: optimal function value is: 3.283636; average function value is 2.517080\n",
      "Generation 8: optimal function value is: 3.283636; average function value is 2.537728\n",
      "Generation 9: optimal function value is: 3.283636; average function value is 2.549535\n",
      "Generation 10: optimal function value is: 3.283636; average function value is 2.584186\n",
      "Generation 11: optimal function value is: 3.283636; average function value is 2.600407\n",
      "Generation 12: optimal function value is: 3.283636; average function value is 2.594654\n",
      "Generation 13: optimal function value is: 3.283636; average function value is 2.595319\n",
      "Generation 14: optimal function value is: 3.283636; average function value is 2.596345\n",
      "Optimal function value is: 3.283636; \n",
      "Optimal solution is:\n",
      "[0.65150644 0.97224242 0.98917451 0.56693    0.86595337 0.28038823\n",
      " 0.81951146]\n"
     ]
    },
    {
     "data": {
      "image/png": "[encoded data removed]",
      "text/plain": [
       "<Figure size 432x288 with 1 Axes>"
      ]
     },
     "metadata": {
      "needs_background": "light"
     },
     "output_type": "display_data"
    },
    {
     "name": "stderr",
     "output_type": "stream",
     "text": [
      "WARNING:root:`remote_read` is being deprecated, please update your code with new function.\n"
     ]
    },
    {
     "name": "stdout",
     "output_type": "stream",
     "text": [
      "==========SCORE========\n",
      "3.2836359931351384\n",
      "=====[adset_id]===== 23843528799410091 ==========[score] 2.5670364204638094\n",
      "=====[adset_id]===== 23843527786530091 ==========[score] 2.9967494866535715\n",
      "=====[adset_id]===== 23843521405370091 ==========[score] 4.996964673059874\n",
      "=====[adset_id]===== 23843521395560091 ==========[score] 1.5860209052377106\n",
      "=====[adset_id]===== 23843508308220091 ==========[score] 2.0976229156148585\n",
      "=====[adset_id]===== 23843468170280091 ==========[score] 0.0707358746499511\n",
      "[optimal_weight]: [0.65150644 0.97224242 0.98917451 0.56693    0.86595337 0.28038823\n",
      " 0.81951146]\n",
      "[operation time]:  0:00:22.833912\n",
      "[campaign_id]: 23843488842640474\n",
      "[current time]:  2019-08-23 16:44:08.894270\n",
      "[get_media_token_by_queryid] token_dic {'credential_id': '958842090856883', 'credential_secret': 'a952f55afca38572cea2994d440d674b', 'credential_token': 'EAANoD9I4obMBAH8xjIhGjHc9DmLDeBDTauvkO3tk5x05v1E3G72Qp33aP4gLkE3IZBUDyCMkqCLLPS6DKk8mUJLcsncIrjveFLZCKUseqU7Qy2iIeEq0Dx8DgZAuRwhUNFkKHtmU8McAAWbWMNi2hiWZAbZAXDAyTCd1xXHUJmQZDZD', 'credential_developer_token': None, 'credential_refresh_token': None, 'name': 'AntMan Facebook Credential'}\n",
      "self.campaign_features[Field.start_time] 2019-05-24T12:36:46+0800\n"
     ]
    },
    {
     "name": "stderr",
     "output_type": "stream",
     "text": [
      "WARNING:root:`remote_read` is being deprecated, please update your code with new function.\n"
     ]
    },
    {
     "name": "stdout",
     "output_type": "stream",
     "text": [
      "[get_adsets_active] adset_active_list: ['23843522131070474', '23843522124710474']\n"
     ]
    },
    {
     "name": "stderr",
     "output_type": "stream",
     "text": [
      "WARNING:root:`remote_read` is being deprecated, please update your code with new function.\n",
      "WARNING:root:`remote_read` is being deprecated, please update your code with new function.\n",
      "WARNING:root:`remote_read` is being deprecated, please update your code with new function.\n"
     ]
    },
    {
     "name": "stdout",
     "output_type": "stream",
     "text": [
      "Generation 0: optimal function value is: -0.685733; average function value is -0.116529\n",
      "Generation 1: optimal function value is: 3.182007; average function value is 1.523039\n",
      "Generation 2: optimal function value is: 3.182007; average function value is 1.686728\n",
      "Generation 3: optimal function value is: 3.182007; average function value is 1.787087\n",
      "Generation 4: optimal function value is: 3.182007; average function value is 1.850579\n",
      "Generation 5: optimal function value is: 3.182007; average function value is 1.918259\n",
      "Generation 6: optimal function value is: 3.182007; average function value is 1.950658\n",
      "Generation 7: optimal function value is: 3.182007; average function value is 1.980890\n",
      "Generation 8: optimal function value is: 3.182007; average function value is 2.036182\n",
      "Generation 9: optimal function value is: 3.182007; average function value is 2.065914\n",
      "Generation 10: optimal function value is: 3.182007; average function value is 2.078512\n",
      "Generation 11: optimal function value is: 3.182007; average function value is 2.109729\n",
      "Generation 12: optimal function value is: 3.182007; average function value is 2.119635\n",
      "Generation 13: optimal function value is: 3.182007; average function value is 2.126443\n",
      "Generation 14: optimal function value is: 3.182007; average function value is 2.128871\n",
      "Optimal function value is: 3.182007; \n",
      "Optimal solution is:\n",
      "[0.90681338 0.98905273 0.93386264 0.46889942 0.75901728 0.05128762\n",
      " 0.94014273]\n"
     ]
    },
    {
     "data": {
      "image/png": "[encoded data removed]",
      "text/plain": [
       "<Figure size 432x288 with 1 Axes>"
      ]
     },
     "metadata": {
      "needs_background": "light"
     },
     "output_type": "display_data"
    },
    {
     "name": "stderr",
     "output_type": "stream",
     "text": [
      "WARNING:root:`remote_read` is being deprecated, please update your code with new function.\n"
     ]
    },
    {
     "name": "stdout",
     "output_type": "stream",
     "text": [
      "==========SCORE========\n",
      "3.1820065961965596\n",
      "=====[adset_id]===== 23843522131070474 ==========[score] 3.293076843228492\n",
      "=====[adset_id]===== 23843522124710474 ==========[score] 2.7154860402056906\n",
      "[optimal_weight]: [0.90681338 0.98905273 0.93386264 0.46889942 0.75901728 0.05128762\n",
      " 0.94014273]\n",
      "[operation time]:  0:00:19.575925\n",
      "[campaign_id]: 23843536795940014\n",
      "[current time]:  2019-08-23 16:44:28.471579\n",
      "[get_media_token_by_queryid] token_dic {'credential_id': '958842090856883', 'credential_secret': 'a952f55afca38572cea2994d440d674b', 'credential_token': 'EAANoD9I4obMBAH8xjIhGjHc9DmLDeBDTauvkO3tk5x05v1E3G72Qp33aP4gLkE3IZBUDyCMkqCLLPS6DKk8mUJLcsncIrjveFLZCKUseqU7Qy2iIeEq0Dx8DgZAuRwhUNFkKHtmU8McAAWbWMNi2hiWZAbZAXDAyTCd1xXHUJmQZDZD', 'credential_developer_token': None, 'credential_refresh_token': None, 'name': 'AntMan Facebook Credential'}\n",
      "self.campaign_features[Field.start_time] 2019-08-08T14:04:05+0800\n"
     ]
    },
    {
     "name": "stderr",
     "output_type": "stream",
     "text": [
      "WARNING:root:`remote_read` is being deprecated, please update your code with new function.\n"
     ]
    },
    {
     "name": "stdout",
     "output_type": "stream",
     "text": [
      "[get_adsets_active] adset_active_list: ['23843585944280014', '23843574129480014', '23843574128500014', '23843547933390014', '23843536795980014']\n"
     ]
    },
    {
     "name": "stderr",
     "output_type": "stream",
     "text": [
      "WARNING:root:`remote_read` is being deprecated, please update your code with new function.\n",
      "WARNING:root:`remote_read` is being deprecated, please update your code with new function.\n",
      "WARNING:root:`remote_read` is being deprecated, please update your code with new function.\n",
      "WARNING:root:`remote_read` is being deprecated, please update your code with new function.\n",
      "WARNING:root:`remote_read` is being deprecated, please update your code with new function.\n",
      "WARNING:root:`remote_read` is being deprecated, please update your code with new function.\n",
      "WARNING:root:`remote_read` is being deprecated, please update your code with new function.\n",
      "WARNING:root:`remote_read` is being deprecated, please update your code with new function.\n",
      "WARNING:root:`remote_read` is being deprecated, please update your code with new function.\n"
     ]
    },
    {
     "name": "stdout",
     "output_type": "stream",
     "text": [
      "Generation 0: optimal function value is: -0.617367; average function value is -1.768870\n",
      "Generation 1: optimal function value is: 2.613472; average function value is -2.878536\n",
      "Generation 2: optimal function value is: 2.613472; average function value is -3.107798\n",
      "Generation 3: optimal function value is: 2.613472; average function value is -3.288180\n",
      "Generation 4: optimal function value is: 2.613472; average function value is -3.321273\n",
      "Generation 5: optimal function value is: 2.613472; average function value is -3.443963\n",
      "Generation 6: optimal function value is: 2.613472; average function value is -3.471715\n",
      "Generation 7: optimal function value is: 2.613472; average function value is -3.492407\n",
      "Generation 8: optimal function value is: 2.613472; average function value is -3.530218\n",
      "Generation 9: optimal function value is: 2.613472; average function value is -3.532867\n",
      "Generation 10: optimal function value is: 2.613472; average function value is -3.548453\n",
      "Generation 11: optimal function value is: 2.613472; average function value is -3.584902\n",
      "Generation 12: optimal function value is: 2.613472; average function value is -3.594769\n",
      "Generation 13: optimal function value is: 2.613472; average function value is -3.625047\n",
      "Generation 14: optimal function value is: 2.613472; average function value is -3.638042\n",
      "Optimal function value is: 2.613472; \n",
      "Optimal solution is:\n",
      "[0.198405   0.89318096 0.81176224 0.68323294 0.88945421 0.83907564\n",
      " 0.01832114]\n"
     ]
    },
    {
     "data": {
      "image/png": "[encoded data removed]",
      "text/plain": [
       "<Figure size 432x288 with 1 Axes>"
      ]
     },
     "metadata": {
      "needs_background": "light"
     },
     "output_type": "display_data"
    },
    {
     "name": "stderr",
     "output_type": "stream",
     "text": [
      "WARNING:root:`remote_read` is being deprecated, please update your code with new function.\n"
     ]
    },
    {
     "name": "stdout",
     "output_type": "stream",
     "text": [
      "==========SCORE========\n",
      "2.6134717817186024\n",
      "=====[adset_id]===== 23843585944280014 ==========[score] 0.8573967761213382\n",
      "=====[adset_id]===== 23843574129480014 ==========[score] 1.6346331342670155\n",
      "=====[adset_id]===== 23843574128500014 ==========[score] 0.0005631258610873935\n",
      "=====[adset_id]===== 23843547933390014 ==========[score] 0.8573967761213382\n",
      "=====[adset_id]===== 23843536795980014 ==========[score] 1.3039872567930204\n",
      "[optimal_weight]: [0.198405   0.89318096 0.81176224 0.68323294 0.88945421 0.83907564\n",
      " 0.01832114]\n",
      "[operation time]:  0:00:22.142175\n",
      "[campaign_id]: 23843607936320431\n",
      "[current time]:  2019-08-23 16:44:50.615355\n",
      "[get_media_token_by_queryid] token_dic {'credential_id': '958842090856883', 'credential_secret': 'a952f55afca38572cea2994d440d674b', 'credential_token': 'EAANoD9I4obMBAH8xjIhGjHc9DmLDeBDTauvkO3tk5x05v1E3G72Qp33aP4gLkE3IZBUDyCMkqCLLPS6DKk8mUJLcsncIrjveFLZCKUseqU7Qy2iIeEq0Dx8DgZAuRwhUNFkKHtmU8McAAWbWMNi2hiWZAbZAXDAyTCd1xXHUJmQZDZD', 'credential_developer_token': None, 'credential_refresh_token': None, 'name': 'AntMan Facebook Credential'}\n",
      "self.campaign_features[Field.start_time] 2019-07-16T16:20:34+0800\n"
     ]
    },
    {
     "name": "stderr",
     "output_type": "stream",
     "text": [
      "WARNING:root:`remote_read` is being deprecated, please update your code with new function.\n"
     ]
    },
    {
     "name": "stdout",
     "output_type": "stream",
     "text": [
      "[get_adsets_active] adset_active_list: ['23843710906030431', '23843710903950431', '23843657922110431', '23843657916530431', '23843607939050431', '23843607939030431']\n"
     ]
    },
    {
     "name": "stderr",
     "output_type": "stream",
     "text": [
      "WARNING:root:`remote_read` is being deprecated, please update your code with new function.\n",
      "WARNING:root:`remote_read` is being deprecated, please update your code with new function.\n",
      "WARNING:root:`remote_read` is being deprecated, please update your code with new function.\n",
      "WARNING:root:`remote_read` is being deprecated, please update your code with new function.\n",
      "WARNING:root:`remote_read` is being deprecated, please update your code with new function.\n",
      "WARNING:root:`remote_read` is being deprecated, please update your code with new function.\n",
      "WARNING:root:`remote_read` is being deprecated, please update your code with new function.\n",
      "WARNING:root:`remote_read` is being deprecated, please update your code with new function.\n",
      "WARNING:root:`remote_read` is being deprecated, please update your code with new function.\n",
      "WARNING:root:`remote_read` is being deprecated, please update your code with new function.\n",
      "WARNING:root:`remote_read` is being deprecated, please update your code with new function.\n"
     ]
    },
    {
     "name": "stdout",
     "output_type": "stream",
     "text": [
      "Generation 0: optimal function value is: -0.553558; average function value is -0.164789\n",
      "Generation 1: optimal function value is: 2.263325; average function value is 1.312992\n",
      "Generation 2: optimal function value is: 2.263325; average function value is 1.422721\n",
      "Generation 3: optimal function value is: 2.263325; average function value is 1.474449\n",
      "Generation 4: optimal function value is: 2.268351; average function value is 1.525570\n",
      "Generation 5: optimal function value is: 2.268351; average function value is 1.556197\n",
      "Generation 6: optimal function value is: 2.268351; average function value is 1.590546\n",
      "Generation 7: optimal function value is: 2.268351; average function value is 1.622316\n",
      "Generation 8: optimal function value is: 2.268351; average function value is 1.646012\n",
      "Generation 9: optimal function value is: 2.268351; average function value is 1.668577\n",
      "Generation 10: optimal function value is: 2.268351; average function value is 1.672297\n",
      "Generation 11: optimal function value is: 2.268351; average function value is 1.691154\n",
      "Generation 12: optimal function value is: 2.268351; average function value is 1.708330\n",
      "Generation 13: optimal function value is: 2.268351; average function value is 1.713576\n",
      "Generation 14: optimal function value is: 2.268351; average function value is 1.720177\n",
      "Optimal function value is: 2.268351; \n",
      "Optimal solution is:\n",
      "[0.73463656 0.94048073 0.92320175 0.38860472 0.9555369  0.55704239\n",
      " 0.74934976]\n"
     ]
    },
    {
     "data": {
      "image/png": "[encoded data removed]",
      "text/plain": [
       "<Figure size 432x288 with 1 Axes>"
      ]
     },
     "metadata": {
      "needs_background": "light"
     },
     "output_type": "display_data"
    },
    {
     "name": "stderr",
     "output_type": "stream",
     "text": [
      "WARNING:root:`remote_read` is being deprecated, please update your code with new function.\n"
     ]
    },
    {
     "name": "stdout",
     "output_type": "stream",
     "text": [
      "==========SCORE========\n",
      "2.2683512992316754\n",
      "=====[adset_id]===== 23843710906030431 ==========[score] 1.3063921470221906\n",
      "=====[adset_id]===== 23843710903950431 ==========[score] 1.3063921470221906\n",
      "=====[adset_id]===== 23843657922110431 ==========[score] 2.957903436243587\n",
      "=====[adset_id]===== 23843657916530431 ==========[score] 2.9633668452631374\n",
      "=====[adset_id]===== 23843607939050431 ==========[score] 4.380101703040837\n",
      "=====[adset_id]===== 23843607939030431 ==========[score] 2.001233686402538\n",
      "[optimal_weight]: [0.73463656 0.94048073 0.92320175 0.38860472 0.9555369  0.55704239\n",
      " 0.74934976]\n",
      "[operation time]:  0:00:23.048753\n",
      "[campaign_id]: 23843646477870386\n",
      "[current time]:  2019-08-23 16:45:13.665595\n",
      "[get_media_token_by_queryid] token_dic {'credential_id': '958842090856883', 'credential_secret': 'a952f55afca38572cea2994d440d674b', 'credential_token': 'EAANoD9I4obMBAH8xjIhGjHc9DmLDeBDTauvkO3tk5x05v1E3G72Qp33aP4gLkE3IZBUDyCMkqCLLPS6DKk8mUJLcsncIrjveFLZCKUseqU7Qy2iIeEq0Dx8DgZAuRwhUNFkKHtmU8McAAWbWMNi2hiWZAbZAXDAyTCd1xXHUJmQZDZD', 'credential_developer_token': None, 'credential_refresh_token': None, 'name': 'AntMan Facebook Credential'}\n",
      "self.campaign_features[Field.start_time] 2019-07-29T19:07:29+0800\n"
     ]
    },
    {
     "name": "stderr",
     "output_type": "stream",
     "text": [
      "WARNING:root:`remote_read` is being deprecated, please update your code with new function.\n"
     ]
    },
    {
     "name": "stdout",
     "output_type": "stream",
     "text": [
      "[get_adsets_active] adset_active_list: ['23843646478030386', '23843646478010386']\n"
     ]
    },
    {
     "name": "stderr",
     "output_type": "stream",
     "text": [
      "WARNING:root:`remote_read` is being deprecated, please update your code with new function.\n",
      "WARNING:root:`remote_read` is being deprecated, please update your code with new function.\n",
      "WARNING:root:`remote_read` is being deprecated, please update your code with new function.\n"
     ]
    },
    {
     "name": "stdout",
     "output_type": "stream",
     "text": [
      "Generation 0: optimal function value is: -0.733923; average function value is -0.502665\n",
      "Generation 1: optimal function value is: 3.758305; average function value is 2.186806\n",
      "Generation 2: optimal function value is: 3.758305; average function value is 2.333922\n",
      "Generation 3: optimal function value is: 3.758305; average function value is 2.421241\n",
      "Generation 4: optimal function value is: 3.758305; average function value is 2.526109\n",
      "Generation 5: optimal function value is: 3.758305; average function value is 2.605193\n",
      "Generation 6: optimal function value is: 3.758305; average function value is 2.646114\n",
      "Generation 7: optimal function value is: 3.758305; average function value is 2.685811\n",
      "Generation 8: optimal function value is: 3.758305; average function value is 2.726754\n",
      "Generation 9: optimal function value is: 3.758305; average function value is 2.742738\n",
      "Generation 10: optimal function value is: 3.758305; average function value is 2.747271\n",
      "Generation 11: optimal function value is: 3.758305; average function value is 2.750868\n",
      "Generation 12: optimal function value is: 3.758305; average function value is 2.775306\n",
      "Generation 13: optimal function value is: 3.758305; average function value is 2.786003\n",
      "Generation 14: optimal function value is: 3.758305; average function value is 2.792816\n",
      "Optimal function value is: 3.758305; \n",
      "Optimal solution is:\n",
      "[0.88172448 0.92701924 0.87900742 0.81889714 0.9575818  0.96657141\n",
      " 0.96187221]\n"
     ]
    },
    {
     "data": {
      "image/png": "[encoded data removed]",
      "text/plain": [
       "<Figure size 432x288 with 1 Axes>"
      ]
     },
     "metadata": {
      "needs_background": "light"
     },
     "output_type": "display_data"
    },
    {
     "name": "stdout",
     "output_type": "stream",
     "text": [
      "==========SCORE========\n",
      "3.7583053664038024\n",
      "=====[adset_id]===== 23843646478030386 ==========[score] -2.862262551931742\n",
      "=====[adset_id]===== 23843646478010386 ==========[score] -1.2664068047623864\n",
      "[optimal_weight]: [0.88172448 0.92701924 0.87900742 0.81889714 0.9575818  0.96657141\n",
      " 0.96187221]\n",
      "[operation time]:  0:00:19.829227\n",
      "[total operation time]:  0:06:12.479848\n",
      "genetic algorithm finish.\n"
     ]
    }
   ],
   "source": [
    "if __name__ == \"__main__\":\n",
    "    main()\n",
    "    import gc\n",
    "    gc.collect()\n",
    "#     main(campaign_id=23843467729120098)"
   ]
  },
  {
   "cell_type": "code",
   "execution_count": 12,
   "metadata": {},
   "outputs": [
    {
     "name": "stdout",
     "output_type": "stream",
     "text": [
      "[NbConvertApp] Converting notebook genetic_algorithm.ipynb to script\n",
      "[NbConvertApp] Writing 20650 bytes to genetic_algorithm.py\n"
     ]
    }
   ],
   "source": [
    "# !jupyter nbconvert --to script genetic_algorithm.ipynb"
   ]
  },
  {
   "cell_type": "code",
   "execution_count": null,
   "metadata": {},
   "outputs": [],
   "source": []
  }
 ],
 "metadata": {
  "kernelspec": {
   "display_name": "Python 3",
   "language": "python",
   "name": "python3"
  },
  "language_info": {
   "codemirror_mode": {
    "name": "ipython",
    "version": 3
   },
   "file_extension": ".py",
   "mimetype": "text/x-python",
   "name": "python",
   "nbconvert_exporter": "python",
   "pygments_lexer": "ipython3",
   "version": "3.6.8"
  },
  "varInspector": {
   "cols": {
    "lenName": 16,
    "lenType": 16,
    "lenVar": 40
   },
   "kernels_config": {
    "python": {
     "delete_cmd_postfix": "",
     "delete_cmd_prefix": "del ",
     "library": "var_list.py",
     "varRefreshCmd": "print(var_dic_list())"
    },
    "r": {
     "delete_cmd_postfix": ") ",
     "delete_cmd_prefix": "rm(",
     "library": "var_list.r",
     "varRefreshCmd": "cat(var_dic_list()) "
    }
   },
   "types_to_exclude": [
    "module",
    "function",
    "builtin_function_or_method",
    "instance",
    "_Feature"
   ],
   "window_display": false
  }
 },
 "nbformat": 4,
 "nbformat_minor": 4
}
