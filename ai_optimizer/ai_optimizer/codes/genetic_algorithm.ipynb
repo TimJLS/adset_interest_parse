{
 "cells": [
  {
   "cell_type": "code",
   "execution_count": 1,
   "metadata": {},
   "outputs": [],
   "source": [
    "import numpy as np\n",
    "import random\n",
    "import copy\n",
    "import matplotlib.pyplot as plt\n",
    "import math\n",
    "import datetime\n",
    "# import main_func\n",
    "import facebook_datacollector_test as collector\n",
    "import pandas as pd\n",
    "import mysql_adactivity_save as mysql_saver\n",
    "import adgeek_permission as permission\n",
    "# sizepop, vardim, MAXGEN, params = 2000, 3, 30, [0.9, 0.5, 0.5]\n",
    "sizepop, vardim, MAXGEN, params = 1000, 7, 15, [0.9, 0.5, 0.5]\n",
    "BRANDING_CAMPAIGN_LIST = [\n",
    "    'THRUPLAY', 'LINK_CLICKS', 'ALL_CLICKS','VIDEO_VIEWS', 'REACH', 'IMPRESSIONS', 'POST_ENGAGEMENT', 'PAGE_LIKES', 'LANDING_PAGE_VIEW']\n",
    "PERFORMANCE_CAMPAIGN_LIST = [\n",
    "    'CONVERSIONS', 'LEAD_GENERATION', 'ADD_TO_CART']"
   ]
  },
  {
   "cell_type": "code",
   "execution_count": 2,
   "metadata": {},
   "outputs": [],
   "source": [
    "class GeneticAlgorithm(object):\n",
    "    '''\n",
    "    The class for genetic algorithm\n",
    "    '''\n",
    "    def __init__(self, sizepop, vardim, bound, MAXGEN, params):\n",
    "        '''\n",
    "        sizepop: population sizepop 種群數量\n",
    "        vardim: dimension of variables 變量維度\n",
    "        bound: boundaries of variables 變量邊界 -10 10 (最佳化權重上下限)\n",
    "        MAXGEN: termination condition  迭代次數  1000 (子代代數)\n",
    "        param: 交叉率, 變異率, alpha = [0.9, 0.1, 0.5]\n",
    "        '''\n",
    "        self.sizepop = sizepop\n",
    "        self.MAXGEN = MAXGEN\n",
    "        self.vardim = vardim\n",
    "        self.bound = bound\n",
    "        self.population = []\n",
    "        self.fitness = np.zeros((self.sizepop, 1))\n",
    "        self.trace = np.zeros((self.MAXGEN, 2))\n",
    "        self.params = params\n",
    "\n",
    "    def initialize(self):\n",
    "        '''\n",
    "        initialize the population\n",
    "        '''\n",
    "        for i in range(0, self.sizepop):\n",
    "            ind = GAIndividual(self.vardim, self.bound)\n",
    "            ind.generate()\n",
    "            self.population.append(ind)\n",
    "\n",
    "    def evaluate(self):\n",
    "        '''\n",
    "        evaluation of the population fitnesses\n",
    "        '''\n",
    "        for i in range(0, self.sizepop):\n",
    "            self.population[i].calculateFitness()\n",
    "            self.fitness[i] = self.population[i].fitness\n",
    "\n",
    "    def solve(self):\n",
    "        '''\n",
    "        evolution process of genetic algorithm\n",
    "        '''\n",
    "        self.t = 0\n",
    "        self.initialize()\n",
    "        self.evaluate()\n",
    "        best = np.max(self.fitness)\n",
    "        bestIndex = np.argmax(self.fitness)\n",
    "        self.best = copy.deepcopy(self.population[bestIndex])\n",
    "        self.avefitness = np.mean(self.fitness)\n",
    "        self.trace[self.t, 0] = (1 - self.best.fitness) / self.best.fitness\n",
    "        self.trace[self.t, 1] = (1 - self.avefitness) / self.avefitness\n",
    "        print(\"Generation %d: optimal function value is: %f; average function value is %f\" % (\n",
    "            self.t, self.trace[self.t, 0], self.trace[self.t, 1]))\n",
    "        while (self.t < self.MAXGEN - 1):\n",
    "            self.t += 1\n",
    "            self.selectionOperation()\n",
    "            self.crossoverOperation()\n",
    "            self.mutationOperation()\n",
    "            self.evaluate()\n",
    "            best = np.max(self.fitness)\n",
    "            bestIndex = np.argmax(self.fitness)\n",
    "            if best > self.best.fitness:\n",
    "                self.best = copy.deepcopy(self.population[bestIndex])\n",
    "            self.avefitness = np.mean(self.fitness)\n",
    "#             self.trace[self.t, 0] = (1 - self.best.fitness) / self.best.fitness\n",
    "#             self.trace[self.t, 1] = (1 - self.avefitness) / self.avefitness\n",
    "            self.trace[self.t, 0] = self.best.fitness\n",
    "            self.trace[self.t, 1] = self.avefitness\n",
    "            print(\"Generation %d: optimal function value is: %f; average function value is %f\" % (\n",
    "                self.t, self.trace[self.t, 0], self.trace[self.t, 1]))\n",
    "\n",
    "        print(\"Optimal function value is: %f; \" %\n",
    "              self.trace[self.t, 0])\n",
    "        print (\"Optimal solution is:\")\n",
    "        print(self.best.chrom)\n",
    "        self.printResult()\n",
    "        return self.best.chrom\n",
    "    \n",
    "    def selectionOperation(self):\n",
    "        '''\n",
    "        selection operation for Genetic Algorithm\n",
    "        '''\n",
    "        newpop = []\n",
    "        totalFitness = np.sum(self.fitness)\n",
    "        accuFitness = np.zeros((self.sizepop, 1))\n",
    "\n",
    "        sum1 = 0.\n",
    "        for i in range(0, self.sizepop):\n",
    "            accuFitness[i] = sum1 + self.fitness[i] / totalFitness\n",
    "            sum1 = accuFitness[i]\n",
    "\n",
    "        for i in range(0, self.sizepop):\n",
    "            r = random.random()\n",
    "            idx = 0\n",
    "            for j in range(0, self.sizepop - 1):\n",
    "                if j == 0 and r < accuFitness[j]:\n",
    "                    idx = 0\n",
    "                    break\n",
    "                elif r >= accuFitness[j] and r < accuFitness[j + 1]:\n",
    "                    idx = j + 1\n",
    "                    break\n",
    "            newpop.append(self.population[idx])\n",
    "        self.population = newpop\n",
    "\n",
    "    def crossoverOperation(self):\n",
    "        '''\n",
    "        crossover operation for genetic algorithm\n",
    "        '''\n",
    "        newpop = []\n",
    "        for i in range(0, self.sizepop, 2):\n",
    "            idx1 = random.randint(0, self.sizepop - 1)\n",
    "            idx2 = random.randint(0, self.sizepop - 1)\n",
    "            while idx2 == idx1:\n",
    "                idx2 = random.randint(0, self.sizepop - 1)\n",
    "            newpop.append(copy.deepcopy(self.population[idx1]))\n",
    "            newpop.append(copy.deepcopy(self.population[idx2]))\n",
    "            r = random.random()\n",
    "            if r < self.params[0]:\n",
    "                crossPos = random.randint(1, self.vardim - 1)\n",
    "                for j in range(crossPos, self.vardim):\n",
    "                    newpop[i].chrom[j] = newpop[i].chrom[\n",
    "                        j] * self.params[2] + (1 - self.params[2]) * newpop[i + 1].chrom[j]\n",
    "                    newpop[i + 1].chrom[j] = newpop[i + 1].chrom[j] * self.params[2] + \\\n",
    "                        (1 - self.params[2]) * newpop[i].chrom[j]\n",
    "        self.population = newpop\n",
    "\n",
    "    def mutationOperation(self):\n",
    "        '''\n",
    "        mutation operation for genetic algorithm\n",
    "        '''\n",
    "        newpop = []\n",
    "        for i in range(0, self.sizepop):\n",
    "            newpop.append(copy.deepcopy(self.population[i]))\n",
    "            r = random.random()\n",
    "            if r < self.params[1]:\n",
    "                mutatePos = random.randint(0, self.vardim - 1)\n",
    "                theta = random.random()\n",
    "                if theta > 0.5:\n",
    "                    newpop[i].chrom[mutatePos] = newpop[i].chrom[\n",
    "                        mutatePos] - (newpop[i].chrom[mutatePos] - self.bound[0, mutatePos]) * (1 - random.random() ** (1 - self.t / self.MAXGEN))\n",
    "                else:\n",
    "                    newpop[i].chrom[mutatePos] = newpop[i].chrom[\n",
    "                        mutatePos] + (self.bound[1, mutatePos] - newpop[i].chrom[mutatePos]) * (1 - random.random() ** (1 - self.t / self.MAXGEN))\n",
    "        self.population = newpop\n",
    "\n",
    "    def printResult(self):\n",
    "        '''\n",
    "        plot the result of the genetic algorithm\n",
    "        '''\n",
    "        x = np.arange(0, self.MAXGEN)\n",
    "        y1 = self.trace[:, 0]\n",
    "        y2 = self.trace[:, 1]\n",
    "        plt.plot(x, y1, 'r', label='optimal value')\n",
    "        plt.plot(x, y2, 'g', label='average value')\n",
    "        plt.xlabel(\"Iteration\")\n",
    "        plt.ylabel(\"function value\")\n",
    "        plt.title(\"Genetic algorithm for function optimization\")\n",
    "        plt.legend()\n",
    "        plt.show()\n",
    "\n",
    "class GAIndividual(object):\n",
    "    '''\n",
    "    individual of genetic algorithm\n",
    "    '''\n",
    "    def __init__(self,  vardim, bound):\n",
    "        '''\n",
    "        vardim: dimension of variables\n",
    "        bound: boundaries of variables\n",
    "        '''\n",
    "        self.vardim = vardim\n",
    "        self.bound = bound\n",
    "        self.fitness = 0.\n",
    "\n",
    "    def generate(self):\n",
    "        '''\n",
    "        generate a random chromsome for genetic algorithm\n",
    "        '''\n",
    "        len = self.vardim\n",
    "        rnd = np.random.random(size=len)\n",
    "        self.chrom = np.zeros(len)\n",
    "        for i in range(0, len):\n",
    "            self.chrom[i] = self.bound[0, i] + \\\n",
    "                (self.bound[1, i] - self.bound[0, i]) * rnd[i]\n",
    "    def calculateFitness(self):\n",
    "        '''\n",
    "        calculate the fitness of the chromsome\n",
    "        '''\n",
    "        optimal_weight = OptimalWeight(self.chrom)\n",
    "        self.fitness = np.dot(optimal_weight.matrix, chromosome.matrix)\n",
    "#         self.fitness = ObjectiveFunc.fitnessfunc( self.chrom, df )\n",
    "\n",
    "\n",
    "def ga_optimal_weight(campaign_id):\n",
    "    request_time = datetime.datetime.now().date()\n",
    "    mydb = mysql_saver.connectDB( mysql_saver.DATABASE )\n",
    "    df_weight = pd.read_sql(\"SELECT * FROM optimal_weight WHERE campaign_id=%s \" %(campaign_id), con=mydb)\n",
    "    df_camp = pd.read_sql(\"SELECT * FROM campaign_target WHERE campaign_id=%s \" %(campaign_id), con=mydb)\n",
    "    charge_type = df_camp['charge_type'].iloc[0]\n",
    "    adset_list = collector.Campaigns(campaign_id, charge_type).get_adsets_active()\n",
    "    if len(df_weight) > 0:\n",
    "        for adset_id in adset_list:\n",
    "            df = ObjectiveFunc.adset_status( adset_id, df_camp )\n",
    "            r = ObjectiveFunc.adset_fitness( df_weight, df )\n",
    "            print('[score]', r)\n",
    "            df_final = pd.DataFrame({'campaign_id':campaign_id, 'adset_id':adset_id, 'score':r, 'request_time':request_time}, index=[0])\n",
    "            try:\n",
    "                mysql_saver.intoDB(\"adset_score\", df_final)\n",
    "            except Exception as e:\n",
    "                print('score is inf: ', e)\n",
    "                pass\n",
    "    else:\n",
    "        pass\n",
    "    mydb.close()\n",
    "    return\n"
   ]
  },
  {
   "cell_type": "code",
   "execution_count": 3,
   "metadata": {},
   "outputs": [],
   "source": [
    "def generate_optimal_weight_test(campaign_id, charge_type):\n",
    "    global chromosome\n",
    "    print('[campaign_id]:', campaign_id )\n",
    "    print('[current time]: ', datetime.datetime.now() )\n",
    "    start_time = datetime.datetime.now()\n",
    "    \n",
    "    campaign = Campaign(campaign_id)\n",
    "    chromosome = ObjectChromosome(campaign.condition)\n",
    "    \n",
    "    \n",
    "#     df = ObjectiveFunc.campaign_status(account_id, campaign_id, charge_type)\n",
    "    \n",
    "    bound = np.tile([[0], [1]], vardim)\n",
    "    ga = GeneticAlgorithm(sizepop, vardim, bound, MAXGEN, params)\n",
    "    result_optimal_weight = ga.solve()\n",
    "    \n",
    "    optimal_campaign = CampaignOptimalWeight(campaign_id, charge_type, result_optimal_weight)\n",
    "    \n",
    "    score = np.dot(optimal_campaign.matrix, chromosome.matrix)\n",
    "    print('==========SCORE========')\n",
    "    print(score)\n",
    "\n",
    "    score_columns=['w_action', 'w_desire', 'w_interest', 'w_awareness', 'w_discovery', 'w_spend', 'w_bid']\n",
    "    df_score = pd.DataFrame(data=[optimal_campaign.matrix], columns=score_columns, index=[0])\n",
    "    df_score['campaign_id'], df_score['score'] = campaign_id, score\n",
    "# #     print(df_final)\n",
    "#     mysql_saver.check_optimal_weight(campaign_id, df_final)\n",
    "    check_optimal_weight(campaign_id, df_score)\n",
    "    assess_adset(campaign, optimal_campaign)\n",
    "#     ga_optimal_weight(campaign_id)\n",
    "\n",
    "    print('[optimal_weight]:', optimal_campaign.matrix)\n",
    "    print('[operation time]: ', datetime.datetime.now()-start_time)"
   ]
  },
  {
   "cell_type": "code",
   "execution_count": 4,
   "metadata": {},
   "outputs": [],
   "source": [
    "def assess_adset(campaign_object, campaign_optimal_object):\n",
    "    for adset in campaign_object.adsets:\n",
    "        \n",
    "        chromosome_adset = ObjectChromosome(adset.condition)\n",
    "        \n",
    "        score = np.dot(campaign_optimal_object.matrix, chromosome_adset.matrix)\n",
    "        \n",
    "        print('=====[adset_id]=====', adset.adset_id, '==========[score]', score)\n",
    "        df_final = pd.DataFrame({\n",
    "            'campaign_id':campaign_object.campaign_id, 'adset_id':adset.adset_id, 'score':score}, index=[0])\n",
    "        mysql_saver.intoDB(\"adset_score\", df_final)\n"
   ]
  },
  {
   "cell_type": "code",
   "execution_count": 5,
   "metadata": {},
   "outputs": [],
   "source": [
    "def check_optimal_weight(campaign_id, df):\n",
    "    from pandas.io import sql\n",
    "    from sqlalchemy import create_engine\n",
    "    import pymysql\n",
    "    pymysql.install_as_MySQLdb()\n",
    "    import MySQLdb\n",
    "    import sys\n",
    "    mydb = mysql_saver.connectDB(mysql_saver.DATABASE)\n",
    "    df_check = pd.read_sql( \"SELECT * FROM campaign_optimal_weight WHERE campaign_id={}\".format(campaign_id), con=mydb )\n",
    "    if df_check.empty:\n",
    "        engine = create_engine( 'mysql://app:adgeek1234@{}/{}'.format( mysql_saver.HOST, mysql_saver.DATABASE ) )\n",
    "        with engine.connect() as conn, conn.begin():\n",
    "            df.to_sql( \"campaign_optimal_weight\", conn, if_exists='append',index=False )\n",
    "            engine.dispose()\n",
    "        return\n",
    "    else:\n",
    "        mycursor = mydb.cursor()\n",
    "        campaign_id = df['campaign_id'].iloc[0]\n",
    "        df.drop(['campaign_id'], axis=1)\n",
    "        for column in df.columns:\n",
    "            try:\n",
    "                sql = (\"UPDATE campaign_optimal_weight SET {}='{}' WHERE campaign_id={}\".format( column, df[column].iloc[0], campaign_id))\n",
    "                mycursor.execute(sql)\n",
    "                mydb.commit()\n",
    "            except Exception as e:\n",
    "                print(e)\n",
    "                pass\n",
    "        mycursor.close()\n",
    "        mydb.close()\n",
    "        return"
   ]
  },
  {
   "cell_type": "code",
   "execution_count": 6,
   "metadata": {},
   "outputs": [],
   "source": [
    "def main():\n",
    "    starttime = datetime.datetime.now()\n",
    "    print('[start time]: ', starttime)\n",
    "    \n",
    "    campaign_list = mysql_saver.get_running_branding_campaign().to_dict('records')\n",
    "    print([campaign['campaign_id'] for campaign in campaign_list])\n",
    "    for campaign in campaign_list:\n",
    "        campaign_id = campaign.get(\"campaign_id\")\n",
    "        charge_type = campaign.get(\"charge_type\")\n",
    "        generate_optimal_weight_test(campaign_id, charge_type)\n",
    "        \n",
    "    campaign_list = mysql_saver.get_running_performance_campaign().to_dict('records')\n",
    "    for campaign in campaign_list:\n",
    "        campaign_id = campaign.get(\"campaign_id\")\n",
    "        charge_type = campaign.get(\"charge_type\")\n",
    "        generate_optimal_weight_test(campaign_id, charge_type)\n",
    "        \n",
    "    campaign_list = mysql_saver.get_running_custom_conversion_campaign().to_dict('records')\n",
    "    for campaign in campaign_list:\n",
    "        campaign_id = campaign.get(\"campaign_id\")\n",
    "        charge_type = campaign.get(\"charge_type\")\n",
    "        generate_optimal_weight_test(campaign_id, charge_type)\n",
    "        \n",
    "#         generate_optimal_weight(account_id, campaign_id, charge_type)\n",
    "    print('[total operation time]: ', datetime.datetime.now()-starttime)\n",
    "    print('genetic algorithm finish.')\n",
    "    return"
   ]
  },
  {
   "cell_type": "code",
   "execution_count": 7,
   "metadata": {},
   "outputs": [],
   "source": [
    "class Campaign(object):\n",
    "    __condition_field = [\"action\", \"desire\", \"interest\", \"awareness\", \"attention\", \"discovery\", \"impressions\", \"destination_daily_spend\",\n",
    "                       \"destination_daily_target\", \"cost_per_action\", \"spend\", \"daily_spend\", \"daily_target\", \"KPI\", \"destination_type\"]\n",
    "    def __init__(self, campaign_id):\n",
    "        self.campaign_id = campaign_id\n",
    "        self.__get_brief()\n",
    "        self.brief_dict[\"destination_type\"] = self.brief_dict.pop(\"charge_type\")\n",
    "        self.destination_type = self.brief_dict.get(\"destination_type\")\n",
    "        permission.init_facebook_api(self.brief_dict.get(\"account_id\"))\n",
    "        self.service_collect = collector.Campaigns(self.campaign_id, charge_type=None)\n",
    "        self.__create_condition()\n",
    "        self.__get_adsets()\n",
    "        \n",
    "    def __get_brief(self):\n",
    "        mydb = mysql_saver.connectDB( mysql_saver.DATABASE )\n",
    "        df_list = pd.read_sql(\n",
    "            \"SELECT * FROM campaign_target WHERE campaign_id={}\".format(self.campaign_id), con=mydb).to_dict('records')\n",
    "        mydb.close()\n",
    "        self.brief_dict = df_list[0]\n",
    "        self.brief_dict['KPI'] = self.brief_dict.get(\"ai_spend_cap\")/self.brief_dict.get(\"destination\")\n",
    "    \n",
    "    def get_weight(self):\n",
    "        mydb = mysql_saver.connectDB( mysql_saver.DATABASE )\n",
    "        optimal_weight_list = pd.read_sql(\n",
    "            \"SELECT * FROM campaign_optimal_weight WHERE campaign_id={}\".format(self.campaign_id), con=mydb).to_dict('records')\n",
    "        mydb.close()\n",
    "        return optimal_weight_list[0]\n",
    "        \n",
    "    def __get_adsets(self):\n",
    "        adset_id_list = self.service_collect.get_adsets_active()\n",
    "        self.adsets = [ AdSet(self, adset_id) for adset_id in adset_id_list ]\n",
    "        \n",
    "    def __create_condition(self):\n",
    "        self.condition = self.service_collect.generate_info(date_preset = collector.DatePreset.lifetime)\n",
    "        self.condition.update(self.brief_dict)\n",
    "        self.condition.update({\n",
    "            \"flight\": (datetime.date.today()-self.brief_dict.get(\"ai_start_date\")).days\n",
    "        })\n",
    "        self.condition['spend'] = int(self.condition.get(\"spend\") if self.condition.get(\"spend\") else 0)\n",
    "        self.condition['impressions'] = int(self.condition.get(\"impressions\") if self.condition.get(\"impressions\") else 0)\n",
    "        self.condition.update({\n",
    "            \"attention\": self.condition.get(\"impressions\"),\n",
    "            \"discovery\": self.condition.get(\"reach\"),\n",
    "            \"destination_daily_spend\": self.condition.get(\"ai_spend_cap\") / self.condition.get(\"period\"),\n",
    "            \"destination_daily_target\":self.condition.get(\"destination\") / self.condition.get(\"period\"),\n",
    "            \"cost_per_action\": self.condition.get(\"cost_per_target\") if self.condition.get(\"cost_per_target\") else 0,\n",
    "            \"spend\": self.condition.get(\"spend\") / self.condition.get(\"flight\") if self.condition.get(\"flight\") != 0 else 1,\n",
    "            \"action\": self.condition.get(\"target\") / self.condition.get(\"flight\") if self.condition.get(\"flight\") != 0 else 1,\n",
    "        })\n",
    "        self.condition = {k: v for k, v in self.condition.items() if k in self.__condition_field}\n",
    "        \n",
    "        \n",
    "class AdSet(object):\n",
    "    __condition_field = [\"action\", \"desire\", \"interest\", \"awareness\", \"impressions\", \"destination_daily_spend\",\n",
    "                         \"destination_daily_target\", \"bid_amount\", \"cost_per_action\", \"spend\", \"KPI\", \"destination_type\"]\n",
    "    def __init__(self, campaign, adset_id):\n",
    "        self.campaign = campaign\n",
    "        self.adset_id = adset_id\n",
    "        self.destination_type = self.campaign.destination_type\n",
    "        self.service_collect = collector.AdSets(self.adset_id, charge_type=None)\n",
    "        self.__create_condition()\n",
    "        \n",
    "    def __create_condition(self):\n",
    "        self.condition = self.service_collect.generate_info(date_preset = collector.DatePreset.lifetime)\n",
    "        self.condition['spend'] = float(self.condition.get(\"spend\") if self.condition.get(\"spend\") else 0)\n",
    "        self.condition['impressions'] = int(self.condition.get(\"impressions\") if self.condition.get(\"impressions\") else 0)\n",
    "        self.condition.update({\n",
    "            \"KPI\": self.campaign.condition.get(\"KPI\"),\n",
    "            \"destination_type\": self.destination_type,\n",
    "            \"destination_daily_spend\": self.campaign.condition.get(\"destination_daily_spend\"),\n",
    "            \"destination_daily_target\": self.campaign.condition.get(\"destination_daily_target\"),\n",
    "            \"cost_per_action\": int(self.condition.get(\"spend\")) / int(self.condition.get(\"action\")) if int(self.condition.get(\"action\")) != 0 else 0\n",
    "        })\n",
    "        self.condition = {k: v for k, v in self.condition.items() if k in self.__condition_field}\n",
    "        \n",
    "    def __create_fitness(self):\n",
    "        self.fitness = Chromosome(self.condition)\n",
    "        \n",
    "    def __create_optimal_weight(self):\n",
    "        self.optimal_weight = OptimalWeight(self.destination_type)\n",
    "\n",
    "\n",
    "\n",
    "\n"
   ]
  },
  {
   "cell_type": "code",
   "execution_count": 8,
   "metadata": {},
   "outputs": [],
   "source": [
    "class OptimalWeight(object):        \n",
    "    def __init__(self, optimal_weight):\n",
    "        self.matrix = optimal_weight\n",
    "        self.action = self.matrix[0]\n",
    "        self.desire = self.matrix[1]\n",
    "        self.interest = self.matrix[2]\n",
    "        self.awareness = self.matrix[3]\n",
    "        self.discovery = self.matrix[4]\n",
    "        self.spend = self.matrix[5]\n",
    "        self.kpi = self.matrix[6]\n",
    "\n",
    "class CampaignOptimalWeight(OptimalWeight):\n",
    "    def __init__(self, campaign_id, destination_type, optimal_weight):\n",
    "        super().__init__(optimal_weight)\n",
    "        self.destination_type = destination_type\n",
    "        if self.destination_type in collector.BRANDING_CAMPAIGN_LIST:\n",
    "            self.desire, self.interest, self.awareness, self.discovery = 0, 0, 0, 0\n",
    "            self.matrix = np.array([\n",
    "                self.action, self.desire, self.interest, self.awareness, self.discovery, self.spend, self.kpi\n",
    "            ])\n",
    "\n",
    "    "
   ]
  },
  {
   "cell_type": "code",
   "execution_count": 9,
   "metadata": {},
   "outputs": [],
   "source": [
    "class Chromosome(object):\n",
    "    def __init__(self,):\n",
    "        self.matrix = np.random.rand(vardim,)\n",
    "        self.action = self.matrix[0]\n",
    "        self.desire = self.matrix[1]\n",
    "        self.interest = self.matrix[2]\n",
    "        self.awareness = self.matrix[3]\n",
    "        self.discovery = self.matrix[4]\n",
    "        self.spend = self.matrix[5]\n",
    "        self.kpi = self.matrix[6]\n",
    "\n",
    "class RandomChromosome(Chromosome):\n",
    "    pass\n",
    "\n",
    "class ObjectChromosome(Chromosome):\n",
    "    __fields = [\n",
    "        \"action\", \"desire\", \"interest\", \"awareness\", \"discovery\", \"attention\", \"spend\"\n",
    "    ]\n",
    "    def __init__(self, condition):\n",
    "        super().__init__()\n",
    "        self.condition = condition\n",
    "        self.destination_type = condition.get(\"destination_type\")\n",
    "        self.__initialize()\n",
    "        self.__create_m_action()\n",
    "        self.__create_m_desire()\n",
    "        self.__create_m_interest()\n",
    "        self.__create_m_awareness()\n",
    "        self.__create_m_discovery()\n",
    "        self.__create_m_spend()\n",
    "        self.__create_m_kpi()\n",
    "        self.__create_matrix()\n",
    "        \n",
    "    def __initialize(self):\n",
    "        for field in self.__fields:\n",
    "            if not self.condition.get(field):\n",
    "                self.condition[field] = 0\n",
    "        \n",
    "    def __create_m_action(self):\n",
    "        if self.destination_type in collector.BRANDING_CAMPAIGN_LIST:\n",
    "            self.m_action = (self.condition.get(\"destination_daily_target\")/int(self.condition.get(\"action\"))) if int(self.condition.get(\"action\")) != 0 else 0\n",
    "        else:\n",
    "            self.m_action = (int(self.condition.get(\"action\")) / self.condition.get(\"desire\")) if int(self.condition.get(\"desire\")) != 0 else 0\n",
    "        \n",
    "    def __create_m_desire(self):\n",
    "        if self.destination_type in collector.BRANDING_CAMPAIGN_LIST:\n",
    "            self.m_desire = 0\n",
    "        else:\n",
    "            self.m_desire = (self.condition.get(\"desire\") / self.condition.get(\"interest\")) if self.condition.get(\"interest\") != 0 else 0\n",
    "        \n",
    "    def __create_m_interest(self):\n",
    "        if self.destination_type in collector.BRANDING_CAMPAIGN_LIST:\n",
    "            self.m_interest = 0\n",
    "        else:\n",
    "            self.m_interest = (self.condition.get(\"interest\") / self.condition.get(\"awareness\")) if self.condition.get(\"awareness\") != 0 else 0\n",
    "        \n",
    "    def __create_m_awareness(self):\n",
    "        if self.destination_type in collector.BRANDING_CAMPAIGN_LIST:\n",
    "            self.m_awareness = 0\n",
    "        else:\n",
    "            self.m_awareness = (self.condition.get(\"awareness\") / self.condition.get(\"discovery\")) if self.condition.get(\"discovery\") != 0 else 0\n",
    "        \n",
    "    def __create_m_discovery(self):\n",
    "        if self.destination_type in collector.BRANDING_CAMPAIGN_LIST:\n",
    "            self.m_discovery = 0\n",
    "        else:\n",
    "            self.m_discovery = (self.condition.get(\"discovery\") / self.condition.get(\"attention\")) if self.condition.get(\"attention\") != 0 else 0\n",
    "        \n",
    "    def __create_m_spend(self):\n",
    "        self.m_spend = ( self.condition.get(\"destination_daily_spend\")-self.condition.get(\"spend\")) / self.condition.get(\"destination_daily_spend\")\n",
    "        \n",
    "    def __create_m_kpi(self):\n",
    "        self.m_kpi = ( self.condition.get(\"KPI\")-self.condition.get(\"cost_per_action\") ) / self.condition.get(\"KPI\")\n",
    "    \n",
    "    def __create_matrix(self):\n",
    "        self.matrix = np.array([\n",
    "            self.m_action, self.m_desire, self.m_interest, self.m_awareness, self.m_discovery, self.m_spend, self.m_kpi\n",
    "        ])\n",
    "    \n",
    "#     pass"
   ]
  },
  {
   "cell_type": "code",
   "execution_count": null,
   "metadata": {},
   "outputs": [
    {
     "name": "stderr",
     "output_type": "stream",
     "text": [
      "WARNING:root:`remote_read` is being deprecated, please update your code with new function.\n"
     ]
    },
    {
     "name": "stdout",
     "output_type": "stream",
     "text": [
      "[start time]:  2019-08-19 19:28:16.071905\n",
      "[23843568997400374, 23843447337770036, 23843672578810681, 23843508739720127, 23843628563810022, 23843628364880022]\n",
      "[campaign_id]: 23843568997400374\n",
      "[current time]:  2019-08-19 19:28:16.094296\n",
      "[get_media_token_by_queryid] token_dic {'credential_id': '958842090856883', 'credential_secret': 'a952f55afca38572cea2994d440d674b', 'credential_token': 'EAANoD9I4obMBAH8xjIhGjHc9DmLDeBDTauvkO3tk5x05v1E3G72Qp33aP4gLkE3IZBUDyCMkqCLLPS6DKk8mUJLcsncIrjveFLZCKUseqU7Qy2iIeEq0Dx8DgZAuRwhUNFkKHtmU8McAAWbWMNi2hiWZAbZAXDAyTCd1xXHUJmQZDZD', 'credential_developer_token': None, 'credential_refresh_token': None, 'name': 'AntMan Facebook Credential'}\n",
      "self.campaign_features[Field.start_time] 2019-06-15T00:01:11+0800\n"
     ]
    },
    {
     "name": "stderr",
     "output_type": "stream",
     "text": [
      "WARNING:root:`remote_read` is being deprecated, please update your code with new function.\n",
      "WARNING:root:`remote_read` is being deprecated, please update your code with new function.\n"
     ]
    },
    {
     "name": "stdout",
     "output_type": "stream",
     "text": [
      "[get_adsets_active] adset_active_list: ['23843729917170374', '23843729916640374']\n"
     ]
    },
    {
     "name": "stderr",
     "output_type": "stream",
     "text": [
      "WARNING:root:`remote_read` is being deprecated, please update your code with new function.\n",
      "WARNING:root:`remote_read` is being deprecated, please update your code with new function.\n"
     ]
    },
    {
     "name": "stdout",
     "output_type": "stream",
     "text": [
      "Generation 0: optimal function value is: -0.482703; average function value is 0.362425\n",
      "Generation 1: optimal function value is: 1.933127; average function value is 1.153461\n",
      "Generation 2: optimal function value is: 1.933127; average function value is 1.278689\n",
      "Generation 3: optimal function value is: 1.933351; average function value is 1.377158\n",
      "Generation 4: optimal function value is: 1.933351; average function value is 1.441936\n",
      "Generation 5: optimal function value is: 1.933351; average function value is 1.481906\n",
      "Generation 6: optimal function value is: 1.933351; average function value is 1.521469\n",
      "Generation 7: optimal function value is: 1.933351; average function value is 1.542916\n",
      "Generation 8: optimal function value is: 1.934982; average function value is 1.566482\n",
      "Generation 9: optimal function value is: 1.934982; average function value is 1.588925\n",
      "Generation 10: optimal function value is: 1.934982; average function value is 1.599001\n",
      "Generation 11: optimal function value is: 1.934982; average function value is 1.598578\n",
      "Generation 12: optimal function value is: 1.934982; average function value is 1.614681\n",
      "Generation 13: optimal function value is: 1.934982; average function value is 1.627707\n",
      "Generation 14: optimal function value is: 1.934982; average function value is 1.630473\n",
      "Optimal function value is: 1.934982; \n",
      "Optimal solution is:\n",
      "[0.99439673 0.30693491 0.57305737 0.68658982 0.45286934 0.64935597\n",
      " 0.0477586 ]\n"
     ]
    },
    {
     "data": {
      "image/png": "[encoded data removed]",
      "text/plain": [
       "<Figure size 432x288 with 1 Axes>"
      ]
     },
     "metadata": {
      "needs_background": "light"
     },
     "output_type": "display_data"
    },
    {
     "name": "stderr",
     "output_type": "stream",
     "text": [
      "WARNING:root:`remote_read` is being deprecated, please update your code with new function.\n"
     ]
    },
    {
     "name": "stdout",
     "output_type": "stream",
     "text": [
      "==========SCORE========\n",
      "1.934982362222749\n",
      "=====[adset_id]===== 23843729917170374 ==========[score] -1.8179404051787136\n",
      "=====[adset_id]===== 23843729916640374 ==========[score] 0.8666119877215945\n",
      "[optimal_weight]: [0.99439673 0.         0.         0.         0.         0.64935597\n",
      " 0.0477586 ]\n",
      "[operation time]:  0:00:19.725176\n",
      "[campaign_id]: 23843447337770036\n",
      "[current time]:  2019-08-19 19:28:35.820762\n",
      "[get_media_token_by_queryid] token_dic {'credential_id': '958842090856883', 'credential_secret': 'a952f55afca38572cea2994d440d674b', 'credential_token': 'EAANoD9I4obMBAH8xjIhGjHc9DmLDeBDTauvkO3tk5x05v1E3G72Qp33aP4gLkE3IZBUDyCMkqCLLPS6DKk8mUJLcsncIrjveFLZCKUseqU7Qy2iIeEq0Dx8DgZAuRwhUNFkKHtmU8McAAWbWMNi2hiWZAbZAXDAyTCd1xXHUJmQZDZD', 'credential_developer_token': None, 'credential_refresh_token': None, 'name': 'AntMan Facebook Credential'}\n",
      "self.campaign_features[Field.start_time] 2019-06-19T16:56:48+0800\n"
     ]
    },
    {
     "name": "stderr",
     "output_type": "stream",
     "text": [
      "WARNING:root:`remote_read` is being deprecated, please update your code with new function.\n"
     ]
    },
    {
     "name": "stdout",
     "output_type": "stream",
     "text": [
      "[get_adsets_active] adset_active_list: ['23843531828830036', '23843516369410036', '23843447338000036', '23843447337980036', '23843447337970036', '23843447337960036']\n"
     ]
    },
    {
     "name": "stderr",
     "output_type": "stream",
     "text": [
      "WARNING:root:`remote_read` is being deprecated, please update your code with new function.\n",
      "WARNING:root:`remote_read` is being deprecated, please update your code with new function.\n",
      "WARNING:root:`remote_read` is being deprecated, please update your code with new function.\n",
      "WARNING:root:`remote_read` is being deprecated, please update your code with new function.\n",
      "WARNING:root:`remote_read` is being deprecated, please update your code with new function.\n",
      "WARNING:root:`remote_read` is being deprecated, please update your code with new function.\n",
      "WARNING:root:`remote_read` is being deprecated, please update your code with new function.\n",
      "WARNING:root:`remote_read` is being deprecated, please update your code with new function.\n",
      "WARNING:root:`remote_read` is being deprecated, please update your code with new function.\n",
      "WARNING:root:`remote_read` is being deprecated, please update your code with new function.\n",
      "WARNING:root:`remote_read` is being deprecated, please update your code with new function.\n"
     ]
    },
    {
     "name": "stdout",
     "output_type": "stream",
     "text": [
      "Generation 0: optimal function value is: 0.013831; average function value is 1.066203\n",
      "Generation 1: optimal function value is: 0.986358; average function value is 0.633241\n",
      "Generation 2: optimal function value is: 0.986358; average function value is 0.682822\n",
      "Generation 3: optimal function value is: 0.986358; average function value is 0.696359\n",
      "Generation 4: optimal function value is: 0.986358; average function value is 0.710768\n",
      "Generation 5: optimal function value is: 0.986358; average function value is 0.717399\n",
      "Generation 6: optimal function value is: 0.986358; average function value is 0.715464\n",
      "Generation 7: optimal function value is: 0.986358; average function value is 0.716326\n",
      "Generation 8: optimal function value is: 0.986358; average function value is 0.715696\n",
      "Generation 9: optimal function value is: 0.986358; average function value is 0.718058\n",
      "Generation 10: optimal function value is: 0.986358; average function value is 0.720701\n",
      "Generation 11: optimal function value is: 0.986358; average function value is 0.721178\n",
      "Generation 12: optimal function value is: 0.986358; average function value is 0.724996\n",
      "Generation 13: optimal function value is: 0.986358; average function value is 0.726245\n",
      "Generation 14: optimal function value is: 0.986358; average function value is 0.725177\n",
      "Optimal function value is: 0.986358; \n",
      "Optimal solution is:\n",
      "[0.66603193 0.40876679 0.53557152 0.32143691 0.73050795 0.14367474\n",
      " 0.99962013]\n"
     ]
    },
    {
     "data": {
      "image/png": "[encoded data removed]",
      "text/plain": [
       "<Figure size 432x288 with 1 Axes>"
      ]
     },
     "metadata": {
      "needs_background": "light"
     },
     "output_type": "display_data"
    },
    {
     "name": "stdout",
     "output_type": "stream",
     "text": [
      "==========SCORE========\n",
      "0.9863577631476195\n",
      "=====[adset_id]===== 23843531828830036 ==========[score] 0.9740907042968162\n",
      "=====[adset_id]===== 23843516369410036 ==========[score] 0.7981666103945387\n",
      "=====[adset_id]===== 23843447338000036 ==========[score] 0.4108071555912738\n",
      "=====[adset_id]===== 23843447337980036 ==========[score] 0.8101540300933165\n",
      "=====[adset_id]===== 23843447337970036 ==========[score] 1.152217404238712\n",
      "=====[adset_id]===== 23843447337960036 ==========[score] 0.008999120956411977\n",
      "[optimal_weight]: [0.66603193 0.         0.         0.         0.         0.14367474\n",
      " 0.99962013]\n",
      "[operation time]:  0:00:23.157999\n",
      "[campaign_id]: 23843672578810681\n",
      "[current time]:  2019-08-19 19:28:58.980195\n"
     ]
    },
    {
     "name": "stderr",
     "output_type": "stream",
     "text": [
      "WARNING:root:`remote_read` is being deprecated, please update your code with new function.\n"
     ]
    },
    {
     "name": "stdout",
     "output_type": "stream",
     "text": [
      "[get_media_token_by_queryid] token_dic {'credential_id': '958842090856883', 'credential_secret': 'a952f55afca38572cea2994d440d674b', 'credential_token': 'EAANoD9I4obMBAH8xjIhGjHc9DmLDeBDTauvkO3tk5x05v1E3G72Qp33aP4gLkE3IZBUDyCMkqCLLPS6DKk8mUJLcsncIrjveFLZCKUseqU7Qy2iIeEq0Dx8DgZAuRwhUNFkKHtmU8McAAWbWMNi2hiWZAbZAXDAyTCd1xXHUJmQZDZD', 'credential_developer_token': None, 'credential_refresh_token': None, 'name': 'AntMan Facebook Credential'}\n",
      "self.campaign_features[Field.start_time] 2019-07-16T00:01:21+0800\n"
     ]
    },
    {
     "name": "stderr",
     "output_type": "stream",
     "text": [
      "WARNING:root:`remote_read` is being deprecated, please update your code with new function.\n",
      "WARNING:root:`remote_read` is being deprecated, please update your code with new function.\n"
     ]
    },
    {
     "name": "stdout",
     "output_type": "stream",
     "text": [
      "[get_adsets_active] adset_active_list: ['23843672578870681', '23843672578860681', '23843672578850681', '23843672578840681', '23843672578830681', '23843672578820681', '23843672578800681']\n"
     ]
    },
    {
     "name": "stderr",
     "output_type": "stream",
     "text": [
      "WARNING:root:`remote_read` is being deprecated, please update your code with new function.\n",
      "WARNING:root:`remote_read` is being deprecated, please update your code with new function.\n",
      "WARNING:root:`remote_read` is being deprecated, please update your code with new function.\n",
      "WARNING:root:`remote_read` is being deprecated, please update your code with new function.\n",
      "WARNING:root:`remote_read` is being deprecated, please update your code with new function.\n",
      "WARNING:root:`remote_read` is being deprecated, please update your code with new function.\n",
      "WARNING:root:`remote_read` is being deprecated, please update your code with new function.\n",
      "WARNING:root:`remote_read` is being deprecated, please update your code with new function.\n",
      "WARNING:root:`remote_read` is being deprecated, please update your code with new function.\n",
      "WARNING:root:`remote_read` is being deprecated, please update your code with new function.\n",
      "WARNING:root:`remote_read` is being deprecated, please update your code with new function.\n",
      "WARNING:root:`remote_read` is being deprecated, please update your code with new function.\n"
     ]
    },
    {
     "name": "stdout",
     "output_type": "stream",
     "text": [
      "Generation 0: optimal function value is: 0.014538; average function value is 0.992774\n",
      "Generation 1: optimal function value is: 0.985670; average function value is 0.605442\n",
      "Generation 2: optimal function value is: 0.985670; average function value is 0.657130\n",
      "Generation 3: optimal function value is: 0.985670; average function value is 0.690240\n",
      "Generation 4: optimal function value is: 0.985670; average function value is 0.700614\n",
      "Generation 5: optimal function value is: 0.985670; average function value is 0.704798\n",
      "Generation 6: optimal function value is: 0.985670; average function value is 0.711012\n",
      "Generation 7: optimal function value is: 0.985670; average function value is 0.719831\n",
      "Generation 8: optimal function value is: 0.985670; average function value is 0.729085\n",
      "Generation 9: optimal function value is: 0.985670; average function value is 0.727536\n",
      "Generation 10: optimal function value is: 0.985670; average function value is 0.729801\n",
      "Generation 11: optimal function value is: 0.985670; average function value is 0.736799\n",
      "Generation 12: optimal function value is: 0.985670; average function value is 0.738702\n",
      "Generation 13: optimal function value is: 0.985670; average function value is 0.739276\n",
      "Generation 14: optimal function value is: 0.985670; average function value is 0.744933\n",
      "Optimal function value is: 0.985670; \n",
      "Optimal solution is:\n",
      "[0.99343392 0.21471795 0.36810729 0.74620889 0.90363736 0.10548543\n",
      " 0.98777489]\n"
     ]
    },
    {
     "data": {
      "image/png": "[encoded data removed]",
      "text/plain": [
       "<Figure size 432x288 with 1 Axes>"
      ]
     },
     "metadata": {
      "needs_background": "light"
     },
     "output_type": "display_data"
    },
    {
     "name": "stdout",
     "output_type": "stream",
     "text": [
      "==========SCORE========\n",
      "0.9856702407769089\n"
     ]
    },
    {
     "name": "stderr",
     "output_type": "stream",
     "text": [
      "WARNING:root:`remote_read` is being deprecated, please update your code with new function.\n"
     ]
    },
    {
     "name": "stdout",
     "output_type": "stream",
     "text": [
      "=====[adset_id]===== 23843672578870681 ==========[score] 0.8643935502250022\n",
      "=====[adset_id]===== 23843672578860681 ==========[score] 0.7008198601923812\n",
      "=====[adset_id]===== 23843672578850681 ==========[score] 0.42550953236621\n",
      "=====[adset_id]===== 23843672578840681 ==========[score] 133.1455353317944\n",
      "=====[adset_id]===== 23843672578830681 ==========[score] -1.8758951670627446\n",
      "=====[adset_id]===== 23843672578820681 ==========[score] 266.43351629597146\n",
      "=====[adset_id]===== 23843672578800681 ==========[score] 73.4587846794142\n",
      "[optimal_weight]: [0.99343392 0.         0.         0.         0.         0.10548543\n",
      " 0.98777489]\n",
      "[operation time]:  0:00:24.251790\n",
      "[campaign_id]: 23843508739720127\n",
      "[current time]:  2019-08-19 19:29:23.233835\n",
      "[get_media_token_by_queryid] token_dic {'credential_id': '958842090856883', 'credential_secret': 'a952f55afca38572cea2994d440d674b', 'credential_token': 'EAANoD9I4obMBAH8xjIhGjHc9DmLDeBDTauvkO3tk5x05v1E3G72Qp33aP4gLkE3IZBUDyCMkqCLLPS6DKk8mUJLcsncIrjveFLZCKUseqU7Qy2iIeEq0Dx8DgZAuRwhUNFkKHtmU8McAAWbWMNi2hiWZAbZAXDAyTCd1xXHUJmQZDZD', 'credential_developer_token': None, 'credential_refresh_token': None, 'name': 'AntMan Facebook Credential'}\n",
      "self.campaign_features[Field.start_time] 2019-06-18T10:50:25+0800\n"
     ]
    },
    {
     "name": "stderr",
     "output_type": "stream",
     "text": [
      "WARNING:root:`remote_read` is being deprecated, please update your code with new function.\n",
      "WARNING:root:`remote_read` is being deprecated, please update your code with new function.\n"
     ]
    },
    {
     "name": "stdout",
     "output_type": "stream",
     "text": [
      "[get_adsets_active] adset_active_list: ['23843651668300127', '23843629487990127']\n"
     ]
    },
    {
     "name": "stderr",
     "output_type": "stream",
     "text": [
      "WARNING:root:`remote_read` is being deprecated, please update your code with new function.\n",
      "WARNING:root:`remote_read` is being deprecated, please update your code with new function.\n"
     ]
    },
    {
     "name": "stdout",
     "output_type": "stream",
     "text": [
      "Generation 0: optimal function value is: 0.002078; average function value is 2.459951\n",
      "Generation 1: optimal function value is: 0.997926; average function value is 0.540543\n",
      "Generation 2: optimal function value is: 0.997926; average function value is 0.597370\n",
      "Generation 3: optimal function value is: 0.997926; average function value is 0.650017\n",
      "Generation 4: optimal function value is: 0.997926; average function value is 0.681528\n",
      "Generation 5: optimal function value is: 0.997926; average function value is 0.700875\n",
      "Generation 6: optimal function value is: 0.997926; average function value is 0.717637\n",
      "Generation 7: optimal function value is: 0.997926; average function value is 0.728380\n",
      "Generation 8: optimal function value is: 0.997926; average function value is 0.739257\n",
      "Generation 9: optimal function value is: 0.997926; average function value is 0.756660\n",
      "Generation 10: optimal function value is: 0.997926; average function value is 0.759021\n",
      "Generation 11: optimal function value is: 0.997926; average function value is 0.766513\n",
      "Generation 12: optimal function value is: 0.997926; average function value is 0.776423\n",
      "Generation 13: optimal function value is: 0.997926; average function value is 0.777020\n",
      "Generation 14: optimal function value is: 0.997926; average function value is 0.780890\n",
      "Optimal function value is: 0.997926; \n",
      "Optimal solution is:\n",
      "[0.97589489 0.5794851  0.91467725 0.37110587 0.20270551 0.00325003\n",
      " 0.0721473 ]\n"
     ]
    },
    {
     "data": {
      "image/png": "[encoded data removed]",
      "text/plain": [
       "<Figure size 432x288 with 1 Axes>"
      ]
     },
     "metadata": {
      "needs_background": "light"
     },
     "output_type": "display_data"
    },
    {
     "name": "stderr",
     "output_type": "stream",
     "text": [
      "WARNING:root:`remote_read` is being deprecated, please update your code with new function.\n"
     ]
    },
    {
     "name": "stdout",
     "output_type": "stream",
     "text": [
      "==========SCORE========\n",
      "0.9979258438535222\n",
      "=====[adset_id]===== 23843651668300127 ==========[score] 0.5189556044464964\n",
      "=====[adset_id]===== 23843629487990127 ==========[score] 0.7603569970909695\n",
      "[optimal_weight]: [0.97589489 0.         0.         0.         0.         0.00325003\n",
      " 0.0721473 ]\n",
      "[operation time]:  0:00:19.882963\n",
      "[campaign_id]: 23843628563810022\n",
      "[current time]:  2019-08-19 19:29:43.118470\n",
      "[get_media_token_by_queryid] token_dic {'credential_id': '958842090856883', 'credential_secret': 'a952f55afca38572cea2994d440d674b', 'credential_token': 'EAANoD9I4obMBAH8xjIhGjHc9DmLDeBDTauvkO3tk5x05v1E3G72Qp33aP4gLkE3IZBUDyCMkqCLLPS6DKk8mUJLcsncIrjveFLZCKUseqU7Qy2iIeEq0Dx8DgZAuRwhUNFkKHtmU8McAAWbWMNi2hiWZAbZAXDAyTCd1xXHUJmQZDZD', 'credential_developer_token': None, 'credential_refresh_token': None, 'name': 'AntMan Facebook Credential'}\n",
      "self.campaign_features[Field.start_time] 2019-08-19T15:20:37+0800\n"
     ]
    },
    {
     "name": "stderr",
     "output_type": "stream",
     "text": [
      "WARNING:root:`remote_read` is being deprecated, please update your code with new function.\n",
      "WARNING:root:`remote_read` is being deprecated, please update your code with new function.\n"
     ]
    },
    {
     "name": "stdout",
     "output_type": "stream",
     "text": [
      "[get_adsets_active] adset_active_list: ['23843628563940022', '23843628563930022', '23843628563920022', '23843628563900022', '23843628563870022', '23843628563860022', '23843628563820022']\n"
     ]
    },
    {
     "name": "stderr",
     "output_type": "stream",
     "text": [
      "WARNING:root:`remote_read` is being deprecated, please update your code with new function.\n",
      "WARNING:root:`remote_read` is being deprecated, please update your code with new function.\n",
      "WARNING:root:`remote_read` is being deprecated, please update your code with new function.\n",
      "WARNING:root:`remote_read` is being deprecated, please update your code with new function.\n",
      "WARNING:root:`remote_read` is being deprecated, please update your code with new function.\n",
      "WARNING:root:`remote_read` is being deprecated, please update your code with new function.\n",
      "WARNING:root:`remote_read` is being deprecated, please update your code with new function.\n",
      "WARNING:root:`remote_read` is being deprecated, please update your code with new function.\n",
      "WARNING:root:`remote_read` is being deprecated, please update your code with new function.\n",
      "WARNING:root:`remote_read` is being deprecated, please update your code with new function.\n",
      "WARNING:root:`remote_read` is being deprecated, please update your code with new function.\n",
      "WARNING:root:`remote_read` is being deprecated, please update your code with new function.\n"
     ]
    },
    {
     "name": "stdout",
     "output_type": "stream",
     "text": [
      "Generation 0: optimal function value is: -0.977526; average function value is -0.955044\n",
      "Generation 1: optimal function value is: 44.494938; average function value is 29.265976\n",
      "Generation 2: optimal function value is: 44.494938; average function value is 33.388702\n",
      "Generation 3: optimal function value is: 44.494938; average function value is 34.997200\n",
      "Generation 4: optimal function value is: 44.497752; average function value is 36.765454\n",
      "Generation 5: optimal function value is: 44.777372; average function value is 38.133784\n",
      "Generation 6: optimal function value is: 44.777372; average function value is 39.276390\n",
      "Generation 7: optimal function value is: 44.777372; average function value is 40.265661\n",
      "Generation 8: optimal function value is: 44.777372; average function value is 40.824742\n",
      "Generation 9: optimal function value is: 44.777372; average function value is 40.595552\n",
      "Generation 10: optimal function value is: 44.777372; average function value is 41.073145\n",
      "Generation 11: optimal function value is: 44.777372; average function value is 41.178886\n",
      "Generation 12: optimal function value is: 44.777372; average function value is 41.258927\n",
      "Generation 13: optimal function value is: 44.777372; average function value is 41.370957\n",
      "Generation 14: optimal function value is: 44.777372; average function value is 41.662405\n",
      "Optimal function value is: 44.777372; \n",
      "Optimal solution is:\n",
      "[0.99992438 0.5427295  0.53055947 0.59295747 0.55415857 0.90301232\n",
      " 0.86600634]\n"
     ]
    },
    {
     "data": {
      "image/png": "[encoded data removed]",
      "text/plain": [
       "<Figure size 432x288 with 1 Axes>"
      ]
     },
     "metadata": {
      "needs_background": "light"
     },
     "output_type": "display_data"
    },
    {
     "name": "stdout",
     "output_type": "stream",
     "text": [
      "==========SCORE========\n",
      "44.77737222500802\n",
      "=====[adset_id]===== 23843628563940022 ==========[score] 23.252510089540966\n",
      "=====[adset_id]===== 23843628563930022 ==========[score] 12.269256293753559\n",
      "=====[adset_id]===== 23843628563920022 ==========[score] 1.7690186568319302\n",
      "=====[adset_id]===== 23843628563900022 ==========[score] 10.00814190683497\n",
      "=====[adset_id]===== 23843628563870022 ==========[score] 12.411660491914365\n",
      "=====[adset_id]===== 23843628563860022 ==========[score] 1.7690186568319302\n",
      "=====[adset_id]===== 23843628563820022 ==========[score] 1.7606831585021685\n"
     ]
    },
    {
     "name": "stderr",
     "output_type": "stream",
     "text": [
      "WARNING:root:`remote_read` is being deprecated, please update your code with new function.\n"
     ]
    },
    {
     "name": "stdout",
     "output_type": "stream",
     "text": [
      "[optimal_weight]: [0.99992438 0.         0.         0.         0.         0.90301232\n",
      " 0.86600634]\n",
      "[operation time]:  0:00:23.178810\n",
      "[campaign_id]: 23843628364880022\n",
      "[current time]:  2019-08-19 19:30:06.298524\n",
      "[get_media_token_by_queryid] token_dic {'credential_id': '958842090856883', 'credential_secret': 'a952f55afca38572cea2994d440d674b', 'credential_token': 'EAANoD9I4obMBAH8xjIhGjHc9DmLDeBDTauvkO3tk5x05v1E3G72Qp33aP4gLkE3IZBUDyCMkqCLLPS6DKk8mUJLcsncIrjveFLZCKUseqU7Qy2iIeEq0Dx8DgZAuRwhUNFkKHtmU8McAAWbWMNi2hiWZAbZAXDAyTCd1xXHUJmQZDZD', 'credential_developer_token': None, 'credential_refresh_token': None, 'name': 'AntMan Facebook Credential'}\n",
      "self.campaign_features[Field.start_time] 2019-08-19T15:20:37+0800\n"
     ]
    },
    {
     "name": "stderr",
     "output_type": "stream",
     "text": [
      "WARNING:root:`remote_read` is being deprecated, please update your code with new function.\n",
      "WARNING:root:`remote_read` is being deprecated, please update your code with new function.\n"
     ]
    },
    {
     "name": "stdout",
     "output_type": "stream",
     "text": [
      "[get_adsets_active] adset_active_list: ['23843628561170022', '23843628364970022', '23843628364960022', '23843628364940022', '23843628364930022', '23843628364920022', '23843628364870022']\n"
     ]
    },
    {
     "name": "stderr",
     "output_type": "stream",
     "text": [
      "WARNING:root:`remote_read` is being deprecated, please update your code with new function.\n",
      "WARNING:root:`remote_read` is being deprecated, please update your code with new function.\n",
      "WARNING:root:`remote_read` is being deprecated, please update your code with new function.\n",
      "WARNING:root:`remote_read` is being deprecated, please update your code with new function.\n",
      "WARNING:root:`remote_read` is being deprecated, please update your code with new function.\n",
      "WARNING:root:`remote_read` is being deprecated, please update your code with new function.\n",
      "WARNING:root:`remote_read` is being deprecated, please update your code with new function.\n",
      "WARNING:root:`remote_read` is being deprecated, please update your code with new function.\n",
      "WARNING:root:`remote_read` is being deprecated, please update your code with new function.\n",
      "WARNING:root:`remote_read` is being deprecated, please update your code with new function.\n",
      "WARNING:root:`remote_read` is being deprecated, please update your code with new function.\n",
      "WARNING:root:`remote_read` is being deprecated, please update your code with new function.\n"
     ]
    },
    {
     "name": "stdout",
     "output_type": "stream",
     "text": [
      "Generation 0: optimal function value is: -0.977796; average function value is -0.955796\n",
      "Generation 1: optimal function value is: 45.036833; average function value is 29.471601\n",
      "Generation 2: optimal function value is: 45.036833; average function value is 32.933450\n",
      "Generation 3: optimal function value is: 45.036833; average function value is 34.851206\n",
      "Generation 4: optimal function value is: 45.036833; average function value is 36.146335\n",
      "Generation 5: optimal function value is: 45.036833; average function value is 36.865446\n",
      "Generation 6: optimal function value is: 45.036833; average function value is 37.933273\n",
      "Generation 7: optimal function value is: 45.036833; average function value is 39.226097\n",
      "Generation 8: optimal function value is: 45.036833; average function value is 39.719357\n",
      "Generation 9: optimal function value is: 45.036833; average function value is 39.967944\n",
      "Generation 10: optimal function value is: 45.036833; average function value is 40.239258\n",
      "Generation 11: optimal function value is: 45.036833; average function value is 40.349790\n",
      "Generation 12: optimal function value is: 45.036833; average function value is 40.533351\n",
      "Generation 13: optimal function value is: 45.036833; average function value is 40.825796\n",
      "Generation 14: optimal function value is: 45.036833; average function value is 41.132310\n",
      "Optimal function value is: 45.036833; \n",
      "Optimal solution is:\n",
      "[0.99509028 0.88011025 0.45175783 0.48035406 0.00187545 0.95128633\n",
      " 0.96935802]\n"
     ]
    },
    {
     "data": {
      "image/png": "[encoded data removed]",
      "text/plain": [
       "<Figure size 432x288 with 1 Axes>"
      ]
     },
     "metadata": {
      "needs_background": "light"
     },
     "output_type": "display_data"
    },
    {
     "name": "stdout",
     "output_type": "stream",
     "text": [
      "==========SCORE========\n",
      "45.03683273718456\n",
      "=====[adset_id]===== 23843628561170022 ==========[score] 1.920644348709084\n",
      "=====[adset_id]===== 23843628364970022 ==========[score] 1.920644348709084\n",
      "=====[adset_id]===== 23843628364960022 ==========[score] 1.920644348709084\n",
      "=====[adset_id]===== 23843628364940022 ==========[score] 1.920644348709084\n",
      "=====[adset_id]===== 23843628364930022 ==========[score] 1.920644348709084\n",
      "=====[adset_id]===== 23843628364920022 ==========[score] 1.920644348709084\n",
      "=====[adset_id]===== 23843628364870022 ==========[score] 1.920644348709084\n",
      "[optimal_weight]: [0.99509028 0.         0.         0.         0.         0.95128633\n",
      " 0.96935802]\n",
      "[operation time]:  0:00:23.219541\n",
      "[campaign_id]: 23843467729120098\n",
      "[current time]:  2019-08-19 19:30:29.536040\n"
     ]
    },
    {
     "name": "stderr",
     "output_type": "stream",
     "text": [
      "WARNING:root:`remote_read` is being deprecated, please update your code with new function.\n"
     ]
    },
    {
     "name": "stdout",
     "output_type": "stream",
     "text": [
      "[get_media_token_by_queryid] token_dic {'credential_id': '958842090856883', 'credential_secret': 'a952f55afca38572cea2994d440d674b', 'credential_token': 'EAANoD9I4obMBAH8xjIhGjHc9DmLDeBDTauvkO3tk5x05v1E3G72Qp33aP4gLkE3IZBUDyCMkqCLLPS6DKk8mUJLcsncIrjveFLZCKUseqU7Qy2iIeEq0Dx8DgZAuRwhUNFkKHtmU8McAAWbWMNi2hiWZAbZAXDAyTCd1xXHUJmQZDZD', 'credential_developer_token': None, 'credential_refresh_token': None, 'name': 'AntMan Facebook Credential'}\n",
      "self.campaign_features[Field.start_time] 2019-05-02T14:56:07+0800\n"
     ]
    },
    {
     "name": "stderr",
     "output_type": "stream",
     "text": [
      "WARNING:root:`remote_read` is being deprecated, please update your code with new function.\n",
      "WARNING:root:`remote_read` is being deprecated, please update your code with new function.\n"
     ]
    },
    {
     "name": "stdout",
     "output_type": "stream",
     "text": [
      "[get_adsets_active] adset_active_list: ['23843715152780098', '23843714517420098', '23843713666330098', '23843669340520098']\n"
     ]
    },
    {
     "name": "stderr",
     "output_type": "stream",
     "text": [
      "WARNING:root:`remote_read` is being deprecated, please update your code with new function.\n",
      "WARNING:root:`remote_read` is being deprecated, please update your code with new function.\n",
      "WARNING:root:`remote_read` is being deprecated, please update your code with new function.\n",
      "WARNING:root:`remote_read` is being deprecated, please update your code with new function.\n",
      "WARNING:root:`remote_read` is being deprecated, please update your code with new function.\n",
      "WARNING:root:`remote_read` is being deprecated, please update your code with new function.\n"
     ]
    },
    {
     "name": "stdout",
     "output_type": "stream",
     "text": [
      "Generation 0: optimal function value is: -0.404590; average function value is 0.232322\n",
      "Generation 1: optimal function value is: 1.679515; average function value is 0.952939\n",
      "Generation 2: optimal function value is: 1.679515; average function value is 1.032442\n",
      "Generation 3: optimal function value is: 1.679515; average function value is 1.073237\n",
      "Generation 4: optimal function value is: 1.679515; average function value is 1.116014\n",
      "Generation 5: optimal function value is: 1.679515; average function value is 1.155212\n",
      "Generation 6: optimal function value is: 1.679515; average function value is 1.171728\n",
      "Generation 7: optimal function value is: 1.679515; average function value is 1.186310\n",
      "Generation 8: optimal function value is: 1.679515; average function value is 1.195546\n",
      "Generation 9: optimal function value is: 1.679515; average function value is 1.215564\n",
      "Generation 10: optimal function value is: 1.679515; average function value is 1.227843\n",
      "Generation 11: optimal function value is: 1.679515; average function value is 1.233673\n",
      "Generation 12: optimal function value is: 1.679515; average function value is 1.243428\n",
      "Generation 13: optimal function value is: 1.679515; average function value is 1.244826\n",
      "Generation 14: optimal function value is: 1.679515; average function value is 1.249379\n",
      "Optimal function value is: 1.679515; \n",
      "Optimal solution is:\n",
      "[0.39120647 0.60089039 0.98250283 0.2066891  0.95638597 0.95497493\n",
      " 0.08984211]\n"
     ]
    },
    {
     "data": {
      "image/png": "[encoded data removed]",
      "text/plain": [
       "<Figure size 432x288 with 1 Axes>"
      ]
     },
     "metadata": {
      "needs_background": "light"
     },
     "output_type": "display_data"
    },
    {
     "name": "stdout",
     "output_type": "stream",
     "text": [
      "==========SCORE========\n",
      "1.6795146042674116\n",
      "=====[adset_id]===== 23843715152780098 ==========[score] 1.8834772353838711\n",
      "=====[adset_id]===== 23843714517420098 ==========[score] 1.8216585001552872\n",
      "=====[adset_id]===== 23843713666330098 ==========[score] 2.1236459094700573\n",
      "=====[adset_id]===== 23843669340520098 ==========[score] -3.38940808338174\n",
      "[optimal_weight]: [0.39120647 0.60089039 0.98250283 0.2066891  0.95638597 0.95497493\n",
      " 0.08984211]\n",
      "[operation time]:  0:00:21.942914\n",
      "[campaign_id]: 23843384204790368\n",
      "[current time]:  2019-08-19 19:30:51.480423\n"
     ]
    },
    {
     "name": "stderr",
     "output_type": "stream",
     "text": [
      "WARNING:root:`remote_read` is being deprecated, please update your code with new function.\n"
     ]
    },
    {
     "name": "stdout",
     "output_type": "stream",
     "text": [
      "[get_media_token_by_queryid] token_dic {'credential_id': '958842090856883', 'credential_secret': 'a952f55afca38572cea2994d440d674b', 'credential_token': 'EAANoD9I4obMBAH8xjIhGjHc9DmLDeBDTauvkO3tk5x05v1E3G72Qp33aP4gLkE3IZBUDyCMkqCLLPS6DKk8mUJLcsncIrjveFLZCKUseqU7Qy2iIeEq0Dx8DgZAuRwhUNFkKHtmU8McAAWbWMNi2hiWZAbZAXDAyTCd1xXHUJmQZDZD', 'credential_developer_token': None, 'credential_refresh_token': None, 'name': 'AntMan Facebook Credential'}\n",
      "self.campaign_features[Field.start_time] 2019-04-08T08:30:28+0800\n"
     ]
    },
    {
     "name": "stderr",
     "output_type": "stream",
     "text": [
      "WARNING:root:`remote_read` is being deprecated, please update your code with new function.\n",
      "WARNING:root:`remote_read` is being deprecated, please update your code with new function.\n"
     ]
    },
    {
     "name": "stdout",
     "output_type": "stream",
     "text": [
      "[get_adsets_active] adset_active_list: ['23843694481330368', '23843661314820368', '23843482074960368', '23843451198530368', '23843384205000368']\n"
     ]
    },
    {
     "name": "stderr",
     "output_type": "stream",
     "text": [
      "WARNING:root:`remote_read` is being deprecated, please update your code with new function.\n",
      "WARNING:root:`remote_read` is being deprecated, please update your code with new function.\n",
      "WARNING:root:`remote_read` is being deprecated, please update your code with new function.\n",
      "WARNING:root:`remote_read` is being deprecated, please update your code with new function.\n",
      "WARNING:root:`remote_read` is being deprecated, please update your code with new function.\n",
      "WARNING:root:`remote_read` is being deprecated, please update your code with new function.\n",
      "WARNING:root:`remote_read` is being deprecated, please update your code with new function.\n",
      "WARNING:root:`remote_read` is being deprecated, please update your code with new function.\n"
     ]
    },
    {
     "name": "stdout",
     "output_type": "stream",
     "text": [
      "Generation 0: optimal function value is: 0.332410; average function value is 2.067450\n",
      "Generation 1: optimal function value is: 0.750520; average function value is 0.424893\n",
      "Generation 2: optimal function value is: 0.750520; average function value is 0.455997\n",
      "Generation 3: optimal function value is: 0.750520; average function value is 0.474365\n",
      "Generation 4: optimal function value is: 0.750520; average function value is 0.485058\n",
      "Generation 5: optimal function value is: 0.750520; average function value is 0.496871\n",
      "Generation 6: optimal function value is: 0.750520; average function value is 0.498290\n",
      "Generation 7: optimal function value is: 0.750520; average function value is 0.498387\n",
      "Generation 8: optimal function value is: 0.750520; average function value is 0.503976\n",
      "Generation 9: optimal function value is: 0.750520; average function value is 0.505447\n",
      "Generation 10: optimal function value is: 0.750520; average function value is 0.506316\n",
      "Generation 11: optimal function value is: 0.750520; average function value is 0.508728\n",
      "Generation 12: optimal function value is: 0.750520; average function value is 0.513980\n",
      "Generation 13: optimal function value is: 0.750520; average function value is 0.513824\n",
      "Generation 14: optimal function value is: 0.750520; average function value is 0.517605\n",
      "Optimal function value is: 0.750520; \n",
      "Optimal solution is:\n",
      "[0.31833275 0.84074609 0.02238625 0.52556667 0.99513462 0.31244071\n",
      " 0.99981247]\n"
     ]
    },
    {
     "data": {
      "image/png": "[encoded data removed]",
      "text/plain": [
       "<Figure size 432x288 with 1 Axes>"
      ]
     },
     "metadata": {
      "needs_background": "light"
     },
     "output_type": "display_data"
    },
    {
     "name": "stdout",
     "output_type": "stream",
     "text": [
      "==========SCORE========\n",
      "0.7505195172604624\n"
     ]
    },
    {
     "name": "stderr",
     "output_type": "stream",
     "text": [
      "WARNING:root:`remote_read` is being deprecated, please update your code with new function.\n"
     ]
    },
    {
     "name": "stdout",
     "output_type": "stream",
     "text": [
      "=====[adset_id]===== 23843694481330368 ==========[score] 0.9265660719638114\n",
      "=====[adset_id]===== 23843661314820368 ==========[score] 0.5508001737806332\n",
      "=====[adset_id]===== 23843482074960368 ==========[score] -2.1423451438585417\n",
      "=====[adset_id]===== 23843451198530368 ==========[score] -0.8889361383435685\n",
      "=====[adset_id]===== 23843384205000368 ==========[score] -1.1381663334820007\n",
      "[optimal_weight]: [0.31833275 0.84074609 0.02238625 0.52556667 0.99513462 0.31244071\n",
      " 0.99981247]\n",
      "[operation time]:  0:00:22.253632\n",
      "[campaign_id]: 23843484377040702\n",
      "[current time]:  2019-08-19 19:31:13.735811\n",
      "[get_media_token_by_queryid] token_dic {'credential_id': '958842090856883', 'credential_secret': 'a952f55afca38572cea2994d440d674b', 'credential_token': 'EAANoD9I4obMBAH8xjIhGjHc9DmLDeBDTauvkO3tk5x05v1E3G72Qp33aP4gLkE3IZBUDyCMkqCLLPS6DKk8mUJLcsncIrjveFLZCKUseqU7Qy2iIeEq0Dx8DgZAuRwhUNFkKHtmU8McAAWbWMNi2hiWZAbZAXDAyTCd1xXHUJmQZDZD', 'credential_developer_token': None, 'credential_refresh_token': None, 'name': 'AntMan Facebook Credential'}\n",
      "self.campaign_features[Field.start_time] 2019-05-27T00:00:44+0800\n"
     ]
    },
    {
     "name": "stderr",
     "output_type": "stream",
     "text": [
      "WARNING:root:`remote_read` is being deprecated, please update your code with new function.\n",
      "WARNING:root:`remote_read` is being deprecated, please update your code with new function.\n"
     ]
    },
    {
     "name": "stdout",
     "output_type": "stream",
     "text": [
      "[get_adsets_active] adset_active_list: ['23843705400280702', '23843686443530702', '23843655600250702', '23843603174320702', '23843603170470702', '23843484398840702']\n"
     ]
    },
    {
     "name": "stderr",
     "output_type": "stream",
     "text": [
      "WARNING:root:`remote_read` is being deprecated, please update your code with new function.\n",
      "WARNING:root:`remote_read` is being deprecated, please update your code with new function.\n",
      "WARNING:root:`remote_read` is being deprecated, please update your code with new function.\n",
      "WARNING:root:`remote_read` is being deprecated, please update your code with new function.\n",
      "WARNING:root:`remote_read` is being deprecated, please update your code with new function.\n",
      "WARNING:root:`remote_read` is being deprecated, please update your code with new function.\n",
      "WARNING:root:`remote_read` is being deprecated, please update your code with new function.\n",
      "WARNING:root:`remote_read` is being deprecated, please update your code with new function.\n",
      "WARNING:root:`remote_read` is being deprecated, please update your code with new function.\n",
      "WARNING:root:`remote_read` is being deprecated, please update your code with new function.\n"
     ]
    },
    {
     "name": "stdout",
     "output_type": "stream",
     "text": [
      "Generation 0: optimal function value is: -0.689549; average function value is -0.427431\n",
      "Generation 1: optimal function value is: 3.221118; average function value is 1.995233\n",
      "Generation 2: optimal function value is: 3.221118; average function value is 2.182009\n",
      "Generation 3: optimal function value is: 3.221118; average function value is 2.293858\n",
      "Generation 4: optimal function value is: 3.221118; average function value is 2.347113\n",
      "Generation 5: optimal function value is: 3.221118; average function value is 2.365014\n",
      "Generation 6: optimal function value is: 3.221118; average function value is 2.413474\n",
      "Generation 7: optimal function value is: 3.221118; average function value is 2.428169\n",
      "Generation 8: optimal function value is: 3.221118; average function value is 2.451167\n",
      "Generation 9: optimal function value is: 3.221118; average function value is 2.468884\n",
      "Generation 10: optimal function value is: 3.221118; average function value is 2.503033\n",
      "Generation 11: optimal function value is: 3.221118; average function value is 2.516078\n",
      "Generation 12: optimal function value is: 3.221118; average function value is 2.530211\n",
      "Generation 13: optimal function value is: 3.221118; average function value is 2.550146\n",
      "Generation 14: optimal function value is: 3.221118; average function value is 2.568180\n",
      "Optimal function value is: 3.221118; \n",
      "Optimal solution is:\n",
      "[0.01306642 0.66566831 0.9884333  0.47293675 0.98374006 0.98112949\n",
      " 0.71850026]\n"
     ]
    },
    {
     "data": {
      "image/png": "[encoded data removed]",
      "text/plain": [
       "<Figure size 432x288 with 1 Axes>"
      ]
     },
     "metadata": {
      "needs_background": "light"
     },
     "output_type": "display_data"
    },
    {
     "name": "stderr",
     "output_type": "stream",
     "text": [
      "WARNING:root:`remote_read` is being deprecated, please update your code with new function.\n"
     ]
    },
    {
     "name": "stdout",
     "output_type": "stream",
     "text": [
      "==========SCORE========\n",
      "3.2211176487789652\n",
      "=====[adset_id]===== 23843705400280702 ==========[score] 1.6986486250792394\n",
      "=====[adset_id]===== 23843686443530702 ==========[score] 2.190575975415854\n",
      "=====[adset_id]===== 23843655600250702 ==========[score] 1.69962975457219\n",
      "=====[adset_id]===== 23843603174320702 ==========[score] 1.3341885318707833\n",
      "=====[adset_id]===== 23843603170470702 ==========[score] -3.1489100031845245\n",
      "=====[adset_id]===== 23843484398840702 ==========[score] -1.9553823288669105\n",
      "[optimal_weight]: [0.01306642 0.66566831 0.9884333  0.47293675 0.98374006 0.98112949\n",
      " 0.71850026]\n",
      "[operation time]:  0:00:23.374721\n",
      "[campaign_id]: 23843240188270516\n",
      "[current time]:  2019-08-19 19:31:37.112263\n",
      "[get_media_token_by_queryid] token_dic {'credential_id': '958842090856883', 'credential_secret': 'a952f55afca38572cea2994d440d674b', 'credential_token': 'EAANoD9I4obMBAH8xjIhGjHc9DmLDeBDTauvkO3tk5x05v1E3G72Qp33aP4gLkE3IZBUDyCMkqCLLPS6DKk8mUJLcsncIrjveFLZCKUseqU7Qy2iIeEq0Dx8DgZAuRwhUNFkKHtmU8McAAWbWMNi2hiWZAbZAXDAyTCd1xXHUJmQZDZD', 'credential_developer_token': None, 'credential_refresh_token': None, 'name': 'AntMan Facebook Credential'}\n",
      "self.campaign_features[Field.start_time] 2019-03-14T18:36:56+0800\n"
     ]
    },
    {
     "name": "stderr",
     "output_type": "stream",
     "text": [
      "WARNING:root:`remote_read` is being deprecated, please update your code with new function.\n"
     ]
    },
    {
     "name": "stdout",
     "output_type": "stream",
     "text": [
      "[get_adsets_active] adset_active_list: ['23843604461570516', '23843592635130516', '23843559316390516', '23843535499680516', '23843428896680516', '23843428894470516']\n"
     ]
    },
    {
     "name": "stderr",
     "output_type": "stream",
     "text": [
      "WARNING:root:`remote_read` is being deprecated, please update your code with new function.\n",
      "WARNING:root:`remote_read` is being deprecated, please update your code with new function.\n",
      "WARNING:root:`remote_read` is being deprecated, please update your code with new function.\n",
      "WARNING:root:`remote_read` is being deprecated, please update your code with new function.\n",
      "WARNING:root:`remote_read` is being deprecated, please update your code with new function.\n",
      "WARNING:root:`remote_read` is being deprecated, please update your code with new function.\n",
      "WARNING:root:`remote_read` is being deprecated, please update your code with new function.\n",
      "WARNING:root:`remote_read` is being deprecated, please update your code with new function.\n",
      "WARNING:root:`remote_read` is being deprecated, please update your code with new function.\n",
      "WARNING:root:`remote_read` is being deprecated, please update your code with new function.\n",
      "WARNING:root:`remote_read` is being deprecated, please update your code with new function.\n"
     ]
    },
    {
     "name": "stdout",
     "output_type": "stream",
     "text": [
      "Generation 0: optimal function value is: 0.958743; average function value is 3.286563\n",
      "Generation 1: optimal function value is: 0.510532; average function value is 0.334723\n",
      "Generation 2: optimal function value is: 0.511083; average function value is 0.361579\n",
      "Generation 3: optimal function value is: 0.511083; average function value is 0.382078\n",
      "Generation 4: optimal function value is: 0.513869; average function value is 0.387779\n",
      "Generation 5: optimal function value is: 0.513869; average function value is 0.392449\n",
      "Generation 6: optimal function value is: 0.513869; average function value is 0.397081\n",
      "Generation 7: optimal function value is: 0.513869; average function value is 0.399839\n",
      "Generation 8: optimal function value is: 0.513869; average function value is 0.401491\n",
      "Generation 9: optimal function value is: 0.513869; average function value is 0.401393\n",
      "Generation 10: optimal function value is: 0.513869; average function value is 0.405045\n",
      "Generation 11: optimal function value is: 0.513869; average function value is 0.406698\n",
      "Generation 12: optimal function value is: 0.513869; average function value is 0.405559\n",
      "Generation 13: optimal function value is: 0.513869; average function value is 0.408569\n",
      "Generation 14: optimal function value is: 0.513869; average function value is 0.410174\n",
      "Optimal function value is: 0.513869; \n",
      "Optimal solution is:\n",
      "[0.75781217 0.35019829 0.36478309 0.65052777 0.99009897 0.51739567\n",
      " 0.04792079]\n"
     ]
    },
    {
     "data": {
      "image/png": "[encoded data removed]",
      "text/plain": [
       "<Figure size 432x288 with 1 Axes>"
      ]
     },
     "metadata": {
      "needs_background": "light"
     },
     "output_type": "display_data"
    },
    {
     "name": "stderr",
     "output_type": "stream",
     "text": [
      "WARNING:root:`remote_read` is being deprecated, please update your code with new function.\n"
     ]
    },
    {
     "name": "stdout",
     "output_type": "stream",
     "text": [
      "==========SCORE========\n",
      "0.5138689739688992\n",
      "=====[adset_id]===== 23843604461570516 ==========[score] 0.2924380639890884\n",
      "=====[adset_id]===== 23843592635130516 ==========[score] 0.03708913843699303\n",
      "=====[adset_id]===== 23843559316390516 ==========[score] -0.7867031270082954\n",
      "=====[adset_id]===== 23843535499680516 ==========[score] 0.5567794332684488\n",
      "=====[adset_id]===== 23843428896680516 ==========[score] -2.7352863474044513\n",
      "=====[adset_id]===== 23843428894470516 ==========[score] -3.571789351940114\n",
      "[optimal_weight]: [0.75781217 0.35019829 0.36478309 0.65052777 0.99009897 0.51739567\n",
      " 0.04792079]\n",
      "[operation time]:  0:00:23.307680\n",
      "[campaign_id]: 23843098840440451\n",
      "[current time]:  2019-08-19 19:32:00.421541\n",
      "[get_media_token_by_queryid] token_dic {'credential_id': '958842090856883', 'credential_secret': 'a952f55afca38572cea2994d440d674b', 'credential_token': 'EAANoD9I4obMBAH8xjIhGjHc9DmLDeBDTauvkO3tk5x05v1E3G72Qp33aP4gLkE3IZBUDyCMkqCLLPS6DKk8mUJLcsncIrjveFLZCKUseqU7Qy2iIeEq0Dx8DgZAuRwhUNFkKHtmU8McAAWbWMNi2hiWZAbZAXDAyTCd1xXHUJmQZDZD', 'credential_developer_token': None, 'credential_refresh_token': None, 'name': 'AntMan Facebook Credential'}\n",
      "self.campaign_features[Field.start_time] 2018-11-15T09:25:08+0800\n"
     ]
    },
    {
     "name": "stderr",
     "output_type": "stream",
     "text": [
      "WARNING:root:`remote_read` is being deprecated, please update your code with new function.\n",
      "WARNING:root:`remote_read` is being deprecated, please update your code with new function.\n"
     ]
    },
    {
     "name": "stdout",
     "output_type": "stream",
     "text": [
      "[get_adsets_active] adset_active_list: ['23843646345400451', '23843621672470451', '23843621652590451', '23843621647530451', '23843345040900451', '23843098840580451']\n"
     ]
    },
    {
     "name": "stderr",
     "output_type": "stream",
     "text": [
      "WARNING:root:`remote_read` is being deprecated, please update your code with new function.\n",
      "WARNING:root:`remote_read` is being deprecated, please update your code with new function.\n",
      "WARNING:root:`remote_read` is being deprecated, please update your code with new function.\n",
      "WARNING:root:`remote_read` is being deprecated, please update your code with new function.\n",
      "WARNING:root:`remote_read` is being deprecated, please update your code with new function.\n",
      "WARNING:root:`remote_read` is being deprecated, please update your code with new function.\n",
      "WARNING:root:`remote_read` is being deprecated, please update your code with new function.\n",
      "WARNING:root:`remote_read` is being deprecated, please update your code with new function.\n",
      "WARNING:root:`remote_read` is being deprecated, please update your code with new function.\n",
      "WARNING:root:`remote_read` is being deprecated, please update your code with new function.\n"
     ]
    },
    {
     "name": "stdout",
     "output_type": "stream",
     "text": [
      "Generation 0: optimal function value is: -0.674221; average function value is -0.435727\n",
      "Generation 1: optimal function value is: 3.136261; average function value is 1.920460\n",
      "Generation 2: optimal function value is: 3.136261; average function value is 2.043356\n",
      "Generation 3: optimal function value is: 3.136261; average function value is 2.147539\n",
      "Generation 4: optimal function value is: 3.136261; average function value is 2.182515\n",
      "Generation 5: optimal function value is: 3.136261; average function value is 2.254796\n",
      "Generation 6: optimal function value is: 3.136261; average function value is 2.279985\n",
      "Generation 7: optimal function value is: 3.136261; average function value is 2.320267\n",
      "Generation 8: optimal function value is: 3.136261; average function value is 2.346322\n",
      "Generation 9: optimal function value is: 3.136261; average function value is 2.367616\n",
      "Generation 10: optimal function value is: 3.136261; average function value is 2.401278\n",
      "Generation 11: optimal function value is: 3.136261; average function value is 2.420869\n",
      "Generation 12: optimal function value is: 3.136261; average function value is 2.428392\n",
      "Generation 13: optimal function value is: 3.136261; average function value is 2.447579\n",
      "Generation 14: optimal function value is: 3.136261; average function value is 2.468166\n",
      "Optimal function value is: 3.136261; \n",
      "Optimal solution is:\n",
      "[0.78238677 0.97504085 0.9832703  0.41108914 0.49415413 0.48538984\n",
      " 0.85501845]\n"
     ]
    },
    {
     "data": {
      "image/png": "[encoded data removed]",
      "text/plain": [
       "<Figure size 432x288 with 1 Axes>"
      ]
     },
     "metadata": {
      "needs_background": "light"
     },
     "output_type": "display_data"
    },
    {
     "name": "stdout",
     "output_type": "stream",
     "text": [
      "==========SCORE========\n",
      "3.1362606715653945\n",
      "=====[adset_id]===== 23843646345400451 ==========[score] 3.8753884675209083\n",
      "=====[adset_id]===== 23843621672470451 ==========[score] 2.837686870316204\n",
      "=====[adset_id]===== 23843621652590451 ==========[score] 1.9770642177081084\n",
      "=====[adset_id]===== 23843621647530451 ==========[score] 3.113211786101497\n",
      "=====[adset_id]===== 23843345040900451 ==========[score] 4.449056260907893\n",
      "=====[adset_id]===== 23843098840580451 ==========[score] 0.5960398838823541\n",
      "[optimal_weight]: [0.78238677 0.97504085 0.9832703  0.41108914 0.49415413 0.48538984\n",
      " 0.85501845]\n",
      "[operation time]:  0:00:23.604805\n",
      "[campaign_id]: 23843473390820344\n",
      "[current time]:  2019-08-19 19:32:24.028216\n"
     ]
    },
    {
     "name": "stderr",
     "output_type": "stream",
     "text": [
      "WARNING:root:`remote_read` is being deprecated, please update your code with new function.\n"
     ]
    },
    {
     "name": "stdout",
     "output_type": "stream",
     "text": [
      "[get_media_token_by_queryid] token_dic {'credential_id': '958842090856883', 'credential_secret': 'a952f55afca38572cea2994d440d674b', 'credential_token': 'EAANoD9I4obMBAH8xjIhGjHc9DmLDeBDTauvkO3tk5x05v1E3G72Qp33aP4gLkE3IZBUDyCMkqCLLPS6DKk8mUJLcsncIrjveFLZCKUseqU7Qy2iIeEq0Dx8DgZAuRwhUNFkKHtmU8McAAWbWMNi2hiWZAbZAXDAyTCd1xXHUJmQZDZD', 'credential_developer_token': None, 'credential_refresh_token': None, 'name': 'AntMan Facebook Credential'}\n",
      "self.campaign_features[Field.start_time] 2019-07-23T18:36:37+0800\n"
     ]
    },
    {
     "name": "stderr",
     "output_type": "stream",
     "text": [
      "WARNING:root:`remote_read` is being deprecated, please update your code with new function.\n"
     ]
    },
    {
     "name": "stdout",
     "output_type": "stream",
     "text": [
      "[get_adsets_active] adset_active_list: ['23843511657650344', '23843511656660344', '23843477945310344', '23843476995720344', '23843473402760344']\n"
     ]
    },
    {
     "name": "stderr",
     "output_type": "stream",
     "text": [
      "WARNING:root:`remote_read` is being deprecated, please update your code with new function.\n",
      "WARNING:root:`remote_read` is being deprecated, please update your code with new function.\n",
      "WARNING:root:`remote_read` is being deprecated, please update your code with new function.\n",
      "WARNING:root:`remote_read` is being deprecated, please update your code with new function.\n",
      "WARNING:root:`remote_read` is being deprecated, please update your code with new function.\n",
      "WARNING:root:`remote_read` is being deprecated, please update your code with new function.\n",
      "WARNING:root:`remote_read` is being deprecated, please update your code with new function.\n",
      "WARNING:root:`remote_read` is being deprecated, please update your code with new function.\n",
      "WARNING:root:`remote_read` is being deprecated, please update your code with new function.\n"
     ]
    },
    {
     "name": "stdout",
     "output_type": "stream",
     "text": [
      "Generation 0: optimal function value is: -0.582524; average function value is -0.213237\n",
      "Generation 1: optimal function value is: 2.395349; average function value is 1.366506\n",
      "Generation 2: optimal function value is: 2.395349; average function value is 1.436615\n",
      "Generation 3: optimal function value is: 2.395349; average function value is 1.481290\n",
      "Generation 4: optimal function value is: 2.395349; average function value is 1.509568\n",
      "Generation 5: optimal function value is: 2.395349; average function value is 1.532929\n",
      "Generation 6: optimal function value is: 2.395349; average function value is 1.533267\n",
      "Generation 7: optimal function value is: 2.395349; average function value is 1.549063\n",
      "Generation 8: optimal function value is: 2.395349; average function value is 1.558745\n",
      "Generation 9: optimal function value is: 2.395349; average function value is 1.571495\n",
      "Generation 10: optimal function value is: 2.395349; average function value is 1.586581\n",
      "Generation 11: optimal function value is: 2.395349; average function value is 1.588487\n",
      "Generation 12: optimal function value is: 2.395349; average function value is 1.597883\n",
      "Generation 13: optimal function value is: 2.395349; average function value is 1.601608\n",
      "Generation 14: optimal function value is: 2.395349; average function value is 1.609642\n",
      "Optimal function value is: 2.395349; \n",
      "Optimal solution is:\n",
      "[0.96448714 0.23614348 0.80952258 0.3955688  0.80632792 0.97821827\n",
      " 0.99465905]\n"
     ]
    },
    {
     "data": {
      "image/png": "[encoded data removed]",
      "text/plain": [
       "<Figure size 432x288 with 1 Axes>"
      ]
     },
     "metadata": {
      "needs_background": "light"
     },
     "output_type": "display_data"
    },
    {
     "name": "stderr",
     "output_type": "stream",
     "text": [
      "WARNING:root:`remote_read` is being deprecated, please update your code with new function.\n"
     ]
    },
    {
     "name": "stdout",
     "output_type": "stream",
     "text": [
      "==========SCORE========\n",
      "2.395349382975226\n",
      "=====[adset_id]===== 23843511657650344 ==========[score] 1.9728773232371335\n",
      "=====[adset_id]===== 23843511656660344 ==========[score] 1.74859405800537\n",
      "=====[adset_id]===== 23843477945310344 ==========[score] 22.76556977027287\n",
      "=====[adset_id]===== 23843476995720344 ==========[score] 4.805973024318033\n",
      "=====[adset_id]===== 23843473402760344 ==========[score] 5.772369593463438\n",
      "[optimal_weight]: [0.96448714 0.23614348 0.80952258 0.3955688  0.80632792 0.97821827\n",
      " 0.99465905]\n",
      "[operation time]:  0:00:21.910218\n",
      "[campaign_id]: 23843468131980091\n",
      "[current time]:  2019-08-19 19:32:45.940083\n",
      "[get_media_token_by_queryid] token_dic {'credential_id': '958842090856883', 'credential_secret': 'a952f55afca38572cea2994d440d674b', 'credential_token': 'EAANoD9I4obMBAH8xjIhGjHc9DmLDeBDTauvkO3tk5x05v1E3G72Qp33aP4gLkE3IZBUDyCMkqCLLPS6DKk8mUJLcsncIrjveFLZCKUseqU7Qy2iIeEq0Dx8DgZAuRwhUNFkKHtmU8McAAWbWMNi2hiWZAbZAXDAyTCd1xXHUJmQZDZD', 'credential_developer_token': None, 'credential_refresh_token': None, 'name': 'AntMan Facebook Credential'}\n",
      "self.campaign_features[Field.start_time] 2019-07-27T00:00:16+0800\n"
     ]
    },
    {
     "name": "stderr",
     "output_type": "stream",
     "text": [
      "WARNING:root:`remote_read` is being deprecated, please update your code with new function.\n",
      "WARNING:root:`remote_read` is being deprecated, please update your code with new function.\n"
     ]
    },
    {
     "name": "stdout",
     "output_type": "stream",
     "text": [
      "[get_adsets_active] adset_active_list: ['23843521405370091', '23843521395560091', '23843508308220091', '23843506833550091', '23843468170280091']\n"
     ]
    },
    {
     "name": "stderr",
     "output_type": "stream",
     "text": [
      "WARNING:root:`remote_read` is being deprecated, please update your code with new function.\n",
      "WARNING:root:`remote_read` is being deprecated, please update your code with new function.\n",
      "WARNING:root:`remote_read` is being deprecated, please update your code with new function.\n",
      "WARNING:root:`remote_read` is being deprecated, please update your code with new function.\n",
      "WARNING:root:`remote_read` is being deprecated, please update your code with new function.\n",
      "WARNING:root:`remote_read` is being deprecated, please update your code with new function.\n",
      "WARNING:root:`remote_read` is being deprecated, please update your code with new function.\n",
      "WARNING:root:`remote_read` is being deprecated, please update your code with new function.\n"
     ]
    },
    {
     "name": "stdout",
     "output_type": "stream",
     "text": [
      "Generation 0: optimal function value is: -0.711191; average function value is -0.464895\n",
      "Generation 1: optimal function value is: 3.462494; average function value is 2.163910\n",
      "Generation 2: optimal function value is: 3.462494; average function value is 2.378015\n",
      "Generation 3: optimal function value is: 3.509224; average function value is 2.522478\n",
      "Generation 4: optimal function value is: 3.514379; average function value is 2.589955\n"
     ]
    }
   ],
   "source": [
    "if __name__ == \"__main__\":\n",
    "    main()\n",
    "    import gc\n",
    "    gc.collect()\n",
    "#     main(campaign_id=23843467729120098)"
   ]
  },
  {
   "cell_type": "code",
   "execution_count": null,
   "metadata": {},
   "outputs": [],
   "source": [
    "# !jupyter nbconvert --to script genetic_algorithm.ipynb"
   ]
  }
 ],
 "metadata": {
  "kernelspec": {
   "display_name": "Python 3",
   "language": "python",
   "name": "python3"
  },
  "language_info": {
   "codemirror_mode": {
    "name": "ipython",
    "version": 3
   },
   "file_extension": ".py",
   "mimetype": "text/x-python",
   "name": "python",
   "nbconvert_exporter": "python",
   "pygments_lexer": "ipython3",
   "version": "3.6.7"
  },
  "varInspector": {
   "cols": {
    "lenName": 16,
    "lenType": 16,
    "lenVar": 40
   },
   "kernels_config": {
    "python": {
     "delete_cmd_postfix": "",
     "delete_cmd_prefix": "del ",
     "library": "var_list.py",
     "varRefreshCmd": "print(var_dic_list())"
    },
    "r": {
     "delete_cmd_postfix": ") ",
     "delete_cmd_prefix": "rm(",
     "library": "var_list.r",
     "varRefreshCmd": "cat(var_dic_list()) "
    }
   },
   "types_to_exclude": [
    "module",
    "function",
    "builtin_function_or_method",
    "instance",
    "_Feature"
   ],
   "window_display": false
  }
 },
 "nbformat": 4,
 "nbformat_minor": 4
}
