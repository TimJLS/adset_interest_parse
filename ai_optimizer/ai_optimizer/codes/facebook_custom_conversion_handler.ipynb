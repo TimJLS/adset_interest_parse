{
 "cells": [
  {
   "cell_type": "code",
   "execution_count": null,
   "metadata": {},
   "outputs": [],
   "source": [
    "\n",
    "from pathlib import Path\n",
    "import datetime\n",
    "import time\n",
    "\n",
    "from facebook_business.api import FacebookAdsApi\n",
    "import facebook_business.adobjects.adaccount as facebook_business_adaccount\n",
    "import facebook_business.adobjects.adset as facebook_business_adset\n",
    "import facebook_business.adobjects.campaign as facebook_business_campaign\n",
    "import facebook_business.adobjects.adsinsights as facebook_business_adsinsights\n",
    "import facebook_business.adobjects.adaccounttargetingunified as facebook_business_adaccounttarget\n",
    "import facebook_business.adobjects.customconversion as facebook_business_customconversion\n",
    "\n",
    "import facebook_datacollector as fb_collector\n",
    "import database_controller\n"
   ]
  },
  {
   "cell_type": "code",
   "execution_count": null,
   "metadata": {},
   "outputs": [],
   "source": [
    "def get_account_id_by_campaign(campaign_id):\n",
    "    this_campaign = facebook_business_campaign.Campaign( campaign_id ).remote_read(fields=[\"account_id\"])\n",
    "    account_id = this_campaign.get('account_id')\n",
    "    return account_id"
   ]
  },
  {
   "cell_type": "code",
   "execution_count": null,
   "metadata": {},
   "outputs": [],
   "source": [
    "def save_account_custom_conversions_intodb(account_id, campaign_id, customconversions_id_list):\n",
    "    \n",
    "    db = database_controller.Database()\n",
    "    database_fb = database_controller.FB(db)\n",
    "    \n",
    "    for customconversions_id in customconversions_id_list:\n",
    "        this_customconversions = facebook_business_customconversion.CustomConversion(customconversions_id)\n",
    "        customconversions_result = this_customconversions.remote_read(fields=[\"name\", 'rule' , 'id'])\n",
    "        conversion_name = this_customconversions.get('name')\n",
    "        conversion_rule = this_customconversions.get('rule')\n",
    "        conversion_id  = this_customconversions.get('id')\n",
    "        print('[save_custom_conversions_intodb] conversion_id:', conversion_id, conversion_name, conversion_rule)\n",
    "        \n",
    "        database_fb.insert(\n",
    "            \"facebook_custom_conversion\",\n",
    "            {\n",
    "                'account_id': int(account_id),\n",
    "                'campaign_id': int(campaign_id),\n",
    "                'conversion_id': int(conversion_id),\n",
    "                'conversion_name': conversion_name,\n",
    "                'conversion_rule': conversion_rule,\n",
    "                'created_at': datetime.datetime.now(),\n",
    "            }\n",
    "        )"
   ]
  },
  {
   "cell_type": "code",
   "execution_count": null,
   "metadata": {},
   "outputs": [],
   "source": [
    "def get_account_custom_conversions(account_id, campaign_id):\n",
    "    account_id_act = 'act_' + str(account_id)\n",
    "    this_account = facebook_business_adaccount.AdAccount(account_id_act)\n",
    "    customconversions_result = this_account.remote_read(fields=[\"customconversions\"])\n",
    "#     print('[process_account_custom_conversion] customconversions_result:', customconversions_result)\n",
    "    \n",
    "    customconversions_id_list = []\n",
    "    if customconversions_result and customconversions_result.get('customconversions'):\n",
    "        for result in customconversions_result.get('customconversions').get('data'):\n",
    "            customconversions_id_list.append( int(result.get('id')))\n",
    "#     print('[process_account_custom_conversion] customconversions_id_list:', customconversions_id_list)\n",
    "    \n",
    "    save_account_custom_conversions_intodb(account_id, campaign_id, customconversions_id_list)\n",
    "      \n",
    "    \n",
    "    \n",
    "    "
   ]
  },
  {
   "cell_type": "code",
   "execution_count": null,
   "metadata": {},
   "outputs": [],
   "source": [
    "def process_account_custom_conversion(campaign_id):\n",
    "    account_id = get_account_id_by_campaign(campaign_id)\n",
    "    print('[process_account_custom_conversion] account_id:', account_id, 'campaign_id:', campaign_id)\n",
    "    \n",
    "    get_account_custom_conversions(account_id, campaign_id)\n",
    "    \n",
    "    \n",
    "    "
   ]
  },
  {
   "cell_type": "code",
   "execution_count": null,
   "metadata": {},
   "outputs": [],
   "source": [
    "def save_adset_optimization_goal_intodb(campaign_id, adset_id_list):\n",
    "    \n",
    "    db = database_controller.Database()\n",
    "    database_fb = database_controller.FB(db)\n",
    "    \n",
    "    for adset_id in adset_id_list:\n",
    "        this_adset = facebook_business_adset.AdSet( adset_id ).remote_read(fields=['name','id','optimization_goal','optimization_sub_event','promoted_object'])\n",
    "        print('[save_adset_optimization_goal_intodb]', this_adset)\n",
    "        adset_name = this_adset.get('name')\n",
    "        \n",
    "        promoted_object = this_adset.get('promoted_object')\n",
    "        pixel_rule = None\n",
    "        pixel_id = 0\n",
    "        custom_event_type = ''\n",
    "        if promoted_object:\n",
    "            pixel_rule = promoted_object.get('pixel_rule')\n",
    "            pixel_id = promoted_object.get('pixel_id')\n",
    "            custom_event_type = promoted_object.get('custom_event_type')\n",
    "        print('[save_adset_optimization_goal_intodb]', campaign_id ,adset_id ,adset_name ,pixel_rule ,pixel_id ,custom_event_type)\n",
    "        \n",
    "        if pixel_rule:\n",
    "            database_fb.insert(\n",
    "                \"facebook_adset_optimization_goal\",\n",
    "                {\n",
    "                    'campaign_id': int(campaign_id),\n",
    "                    'adset_id': int(adset_id),\n",
    "                    'adset_name': adset_name,\n",
    "                    'pixel_rule': pixel_rule,\n",
    "                    'pixel_id': int(pixel_id),\n",
    "                    'custom_event_type': custom_event_type,\n",
    "                    'created_at': datetime.datetime.now(),\n",
    "                }\n",
    "            )   \n",
    "    "
   ]
  },
  {
   "cell_type": "code",
   "execution_count": null,
   "metadata": {},
   "outputs": [],
   "source": [
    "def process_campaign_adset_optimization_goal(campaign_id):\n",
    "    this_campaign = facebook_business_campaign.Campaign(campaign_id)\n",
    "    adset_ids = this_campaign.get_ad_sets(fields = [ facebook_business_adset.AdSet.Field.id ])\n",
    "    \n",
    "    adset_id_list = []\n",
    "    for adset_id in adset_ids:\n",
    "        adset_id_list.append( int(adset_id.get('id')))\n",
    "    print('[process_campaign_adset_optimization_goal] adset_id_list', adset_id_list)\n",
    "    save_adset_optimization_goal_intodb(campaign_id, adset_id_list)\n",
    "    "
   ]
  },
  {
   "cell_type": "code",
   "execution_count": null,
   "metadata": {},
   "outputs": [],
   "source": [
    "def get_conversion_id_by_rule(pixel_rule, campaign_id):\n",
    "    \n",
    "    db = database_controller.Database()\n",
    "    database_fb = database_controller.FB(db)\n",
    "    \n",
    "    df_rule = database_fb.retrieve(\"custom_conversion\", campaign_id, by_request_time=False)\n",
    "    df_rule = df_rule[df_rule.conversion_rule == pixel_rule]['conversion_id']\n",
    "    if not df_rule.empty:\n",
    "        conversion_id = df_rule.iloc[0]\n",
    "        print('[get_rule_by_adset_id] conversion_id:',conversion_id)\n",
    "        return conversion_id\n",
    "    return None"
   ]
  },
  {
   "cell_type": "code",
   "execution_count": null,
   "metadata": {},
   "outputs": [],
   "source": [
    "def get_rule_by_adset_id(adset_id):\n",
    "    \n",
    "    db = database_controller.Database()\n",
    "    database_fb = database_controller.FB(db)\n",
    "    \n",
    "    df_optimize_goal = database_fb.retrieve(\"facebook_adset_optimization_goal\", adset_id=adset_id,)['pixel_rule']\n",
    "    if not df_optimize_goal.empty:\n",
    "        pixel_rule = df_optimize_goal.tail(1).iloc[0]\n",
    "        print('[get_rule_by_adset_id] pixel_rule:',pixel_rule)\n",
    "        return pixel_rule\n",
    "    return None"
   ]
  },
  {
   "cell_type": "code",
   "execution_count": null,
   "metadata": {},
   "outputs": [],
   "source": [
    "def get_campaign_custom_goal_id(campaign_id):\n",
    "    this_campaign = facebook_business_campaign.Campaign(campaign_id)\n",
    "    adset_ids = this_campaign.get_ad_sets(fields = [ facebook_business_adset.AdSet.Field.id ])\n",
    "    \n",
    "    adset_id_list = []\n",
    "    for adset_id in adset_ids:\n",
    "        adset_id_list.append( int(adset_id.get('id')))\n",
    "    \n",
    "    for adset_id in adset_id_list:\n",
    "        pixel_rule = get_rule_by_adset_id(adset_id)\n",
    "        if pixel_rule:\n",
    "            conversion_id = get_conversion_id_by_rule(pixel_rule, campaign_id)\n",
    "            if conversion_id:\n",
    "                return conversion_id\n",
    "    return None"
   ]
  },
  {
   "cell_type": "code",
   "execution_count": null,
   "metadata": {},
   "outputs": [],
   "source": [
    "def get_conversion_id_by_compaign(campaign_id):\n",
    "    conversion_id = get_campaign_custom_goal_id(campaign_id)\n",
    "\n",
    "    if conversion_id:\n",
    "        print('[get_conversion_id_by_compaign] conversion_id already existed:',conversion_id)\n",
    "    else:\n",
    "        process_account_custom_conversion(campaign_id)\n",
    "        process_campaign_adset_optimization_goal(campaign_id)\n",
    "        conversion_id = get_campaign_custom_goal_id(campaign_id)\n",
    "        print('[get_conversion_id_by_compaign] conversion_id:',conversion_id)\n",
    "    return conversion_id\n"
   ]
  },
  {
   "cell_type": "code",
   "execution_count": null,
   "metadata": {},
   "outputs": [],
   "source": [
    "def main():\n",
    "    database_fb = database_controller.FB( database_controller.Database )\n",
    "    campaign_list = database_fb.get_custom_performance_campaign().to_dict('records')\n",
    "    campaign_list = [ campaign['campaign_id'] for campaign in campaign_list if not campaign['custom_conversion_id'] ]\n",
    "    for campaign_id in campaign_list:\n",
    "        conversion_id = get_conversion_id_by_compaign(campaign_id)\n",
    "        database_fb.upsert(\"campaign_target\", {'campaign_id': campaign_id, 'custom_conversion_id': conversion_id})\n",
    "    database_fb.dispose()"
   ]
  },
  {
   "cell_type": "code",
   "execution_count": null,
   "metadata": {
    "scrolled": true
   },
   "outputs": [],
   "source": [
    "if __name__ == \"__main__\":\n",
    "    main()"
   ]
  },
  {
   "cell_type": "code",
   "execution_count": 1,
   "metadata": {},
   "outputs": [
    {
     "name": "stdout",
     "output_type": "stream",
     "text": [
      "[NbConvertApp] Converting notebook facebook_custom_conversion_handler.ipynb to script\n",
      "[NbConvertApp] Writing 8077 bytes to facebook_custom_conversion_handler.py\n"
     ]
    }
   ],
   "source": [
    "# !jupyter nbconvert --to script facebook_custom_conversion_handler.ipynb"
   ]
  },
  {
   "cell_type": "code",
   "execution_count": null,
   "metadata": {},
   "outputs": [],
   "source": []
  }
 ],
 "metadata": {
  "kernelspec": {
   "display_name": "Python 3",
   "language": "python",
   "name": "python3"
  },
  "language_info": {
   "codemirror_mode": {
    "name": "ipython",
    "version": 3
   },
   "file_extension": ".py",
   "mimetype": "text/x-python",
   "name": "python",
   "nbconvert_exporter": "python",
   "pygments_lexer": "ipython3",
   "version": "3.6.8"
  },
  "varInspector": {
   "cols": {
    "lenName": 16,
    "lenType": 16,
    "lenVar": 40
   },
   "kernels_config": {
    "python": {
     "delete_cmd_postfix": "",
     "delete_cmd_prefix": "del ",
     "library": "var_list.py",
     "varRefreshCmd": "print(var_dic_list())"
    },
    "r": {
     "delete_cmd_postfix": ") ",
     "delete_cmd_prefix": "rm(",
     "library": "var_list.r",
     "varRefreshCmd": "cat(var_dic_list()) "
    }
   },
   "types_to_exclude": [
    "module",
    "function",
    "builtin_function_or_method",
    "instance",
    "_Feature"
   ],
   "window_display": false
  }
 },
 "nbformat": 4,
 "nbformat_minor": 4
}
