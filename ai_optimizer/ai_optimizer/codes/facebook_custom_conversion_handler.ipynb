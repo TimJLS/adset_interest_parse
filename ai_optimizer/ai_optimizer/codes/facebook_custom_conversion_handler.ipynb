{
 "cells": [
  {
   "cell_type": "code",
   "execution_count": 6,
   "metadata": {},
   "outputs": [],
   "source": [
    "\n",
    "from pathlib import Path\n",
    "import datetime\n",
    "import time\n",
    "\n",
    "from facebook_business.api import FacebookAdsApi\n",
    "import facebook_business.adobjects.adaccount as facebook_business_adaccount\n",
    "import facebook_business.adobjects.adset as facebook_business_adset\n",
    "import facebook_business.adobjects.campaign as facebook_business_campaign\n",
    "import facebook_business.adobjects.adsinsights as facebook_business_adsinsights\n",
    "import facebook_business.adobjects.adaccounttargetingunified as facebook_business_adaccounttarget\n",
    "import facebook_business.adobjects.customconversion as facebook_business_customconversion\n",
    "\n",
    "import facebook_datacollector as fb_collector\n",
    "import mysql_adactivity_save as mysql_saver\n",
    "import adgeek_permission as permission"
   ]
  },
  {
   "cell_type": "code",
   "execution_count": 7,
   "metadata": {},
   "outputs": [],
   "source": [
    "\n",
    "def get_account_id_by_campaign(campaign_id):\n",
    "    this_campaign = facebook_business_campaign.Campaign( campaign_id ).remote_read(fields=[\"account_id\"])\n",
    "    account_id = this_campaign.get('account_id')\n",
    "    return account_id\n",
    "    \n"
   ]
  },
  {
   "cell_type": "code",
   "execution_count": 8,
   "metadata": {},
   "outputs": [],
   "source": [
    "def save_account_custom_conversions_intodb(account_id, campaign_id, customconversions_id_list):\n",
    "    my_db = mysql_saver.connectDB(mysql_saver.DATABASE)\n",
    "    my_cursor = my_db.cursor()\n",
    "    \n",
    "    for customconversions_id in customconversions_id_list:\n",
    "        this_customconversions = facebook_business_customconversion.CustomConversion(customconversions_id)\n",
    "        customconversions_result = this_customconversions.remote_read(fields=[\"name\", 'rule' , 'id'])\n",
    "        conversion_name = this_customconversions.get('name')\n",
    "        conversion_rule = this_customconversions.get('rule')\n",
    "        conversion_id  = this_customconversions.get('id')\n",
    "        print('[save_custom_conversions_intodb] conversion_id:', conversion_id, conversion_name, conversion_rule)\n",
    "        \n",
    "        sql = \"INSERT INTO facebook_custom_conversion ( account_id, campaign_id, conversion_id, conversion_name, conversion_rule, created_at ) VALUES ( %s, %s, %s, %s, %s, %s )\"\n",
    "        val = ( int(account_id), int(campaign_id), int(conversion_id), conversion_name, conversion_rule, datetime.datetime.now() )\n",
    "        my_cursor.execute(sql, val)\n",
    "        my_db.commit()  \n",
    "      \n",
    "    my_cursor.close()\n",
    "    my_db.close()"
   ]
  },
  {
   "cell_type": "code",
   "execution_count": 9,
   "metadata": {},
   "outputs": [],
   "source": [
    "def get_account_custom_conversions(account_id, campaign_id):\n",
    "    account_id_act = 'act_' + str(account_id)\n",
    "    this_account = facebook_business_adaccount.AdAccount(account_id_act)\n",
    "    customconversions_result = this_account.remote_read(fields=[\"customconversions\"])\n",
    "#     print('[process_account_custom_conversion] customconversions_result:', customconversions_result)\n",
    "    \n",
    "    customconversions_id_list = []\n",
    "    if customconversions_result and customconversions_result.get('customconversions'):\n",
    "        for result in customconversions_result.get('customconversions').get('data'):\n",
    "            customconversions_id_list.append( int(result.get('id')))\n",
    "#     print('[process_account_custom_conversion] customconversions_id_list:', customconversions_id_list)\n",
    "    \n",
    "    save_account_custom_conversions_intodb(account_id, campaign_id, customconversions_id_list)\n",
    "      \n",
    "    \n",
    "    \n",
    "    "
   ]
  },
  {
   "cell_type": "code",
   "execution_count": 10,
   "metadata": {},
   "outputs": [],
   "source": [
    "def process_account_custom_conversion(campaign_id):\n",
    "    account_id = get_account_id_by_campaign(campaign_id)\n",
    "    print('[process_account_custom_conversion] account_id:', account_id, 'campaign_id:', campaign_id)\n",
    "    \n",
    "    get_account_custom_conversions(account_id, campaign_id)\n",
    "    \n",
    "    \n",
    "    "
   ]
  },
  {
   "cell_type": "code",
   "execution_count": 11,
   "metadata": {},
   "outputs": [],
   "source": [
    "def save_adset_optimization_goal_intodb(campaign_id, adset_id_list):\n",
    "    my_db = mysql_saver.connectDB(mysql_saver.DATABASE)\n",
    "    my_cursor = my_db.cursor()\n",
    "    \n",
    "    for adset_id in adset_id_list:\n",
    "        this_adset = facebook_business_adset.AdSet( adset_id ).remote_read(fields=['name','id','optimization_goal','optimization_sub_event','promoted_object'])\n",
    "        print('[save_adset_optimization_goal_intodb]', this_adset)\n",
    "        adset_name = this_adset.get('name')\n",
    "        \n",
    "        promoted_object = this_adset.get('promoted_object')\n",
    "        pixel_rule = None\n",
    "        pixel_id = 0\n",
    "        custom_event_type = ''\n",
    "        if promoted_object:\n",
    "            pixel_rule = promoted_object.get('pixel_rule')\n",
    "            pixel_id = promoted_object.get('pixel_id')\n",
    "            custom_event_type = promoted_object.get('custom_event_type')\n",
    "        print('[save_adset_optimization_goal_intodb]', campaign_id ,adset_id ,adset_name ,pixel_rule ,pixel_id ,custom_event_type)\n",
    "        \n",
    "        if pixel_rule:\n",
    "            sql = \"INSERT INTO facebook_adset_optimization_goal ( campaign_id, adset_id, adset_name, pixel_rule, pixel_id, custom_event_type, created_at ) VALUES ( %s, %s, %s, %s, %s, %s, %s )\"\n",
    "            val = ( int(campaign_id), int(adset_id), adset_name, pixel_rule, int(pixel_id), custom_event_type, datetime.datetime.now()  )\n",
    "            my_cursor.execute(sql, val)\n",
    "            my_db.commit()  \n",
    "      \n",
    "            \n",
    "    my_cursor.close()\n",
    "    my_db.close()    \n",
    "    "
   ]
  },
  {
   "cell_type": "code",
   "execution_count": 12,
   "metadata": {},
   "outputs": [],
   "source": [
    "def process_campaign_adset_optimization_goal(campaign_id):\n",
    "    this_campaign = facebook_business_campaign.Campaign(campaign_id)\n",
    "    adset_ids = this_campaign.get_ad_sets(fields = [ facebook_business_adset.AdSet.Field.id ])\n",
    "    \n",
    "    adset_id_list = []\n",
    "    for adset_id in adset_ids:\n",
    "        adset_id_list.append( int(adset_id.get('id')))\n",
    "    print('[process_campaign_adset_optimization_goal] adset_id_list', adset_id_list)\n",
    "    save_adset_optimization_goal_intodb(campaign_id, adset_id_list)\n",
    "    "
   ]
  },
  {
   "cell_type": "code",
   "execution_count": 21,
   "metadata": {},
   "outputs": [],
   "source": [
    "def get_conversion_id_by_rule(pixel_rule, campaign_id):\n",
    "    my_db = mysql_saver.connectDB(mysql_saver.DATABASE)\n",
    "    my_cursor = my_db.cursor()\n",
    "    sql = \"SELECT conversion_id FROM facebook_custom_conversion where conversion_rule = %(conversion_rule)s and campaign_id = %(campaign_id)s\"\n",
    "    val = {'conversion_rule': pixel_rule, 'campaign_id': str(campaign_id) }\n",
    "    my_cursor.execute(sql,val)\n",
    "    result = my_cursor.fetchall()\n",
    "    my_db.commit()\n",
    "    my_cursor.close()\n",
    "    my_db.close()\n",
    "\n",
    "    if len(result) > 0:\n",
    "        first_row_tupe = result[0]\n",
    "        conversion_id = first_row_tupe[0]\n",
    "        print('[get_rule_by_adset_id] conversion_id:',conversion_id)\n",
    "        return conversion_id\n",
    "            \n",
    "            \n",
    "    return None\n",
    "      \n",
    "    "
   ]
  },
  {
   "cell_type": "code",
   "execution_count": 9,
   "metadata": {},
   "outputs": [],
   "source": [
    "def get_rule_by_adset_id(adset_id):\n",
    "    my_db = mysql_saver.connectDB(mysql_saver.DATABASE)\n",
    "    my_cursor = my_db.cursor()\n",
    "    sql = 'SELECT pixel_rule FROM facebook_adset_optimization_goal where adset_id = {}  order by `created_at` DESC'.format(adset_id)\n",
    "    my_cursor.execute(sql)\n",
    "    result = my_cursor.fetchall()\n",
    "    my_db.commit()\n",
    "    my_cursor.close()\n",
    "    my_db.close()\n",
    "    \n",
    "    if len(result) > 0:\n",
    "        first_row_tupe = result[0]\n",
    "        pixel_rule = first_row_tupe[0]\n",
    "        print('[get_rule_by_adset_id] pixel_rule:',pixel_rule)\n",
    "        return pixel_rule\n",
    "            \n",
    "    return None\n",
    "      \n",
    "    "
   ]
  },
  {
   "cell_type": "code",
   "execution_count": 10,
   "metadata": {},
   "outputs": [],
   "source": [
    "def get_campaign_custom_goal_id(campaign_id):\n",
    "    this_campaign = facebook_business_campaign.Campaign(campaign_id)\n",
    "    adset_ids = this_campaign.get_ad_sets(fields = [ facebook_business_adset.AdSet.Field.id ])\n",
    "    \n",
    "    adset_id_list = []\n",
    "    for adset_id in adset_ids:\n",
    "        adset_id_list.append( int(adset_id.get('id')))\n",
    "    \n",
    "    for adset_id in adset_id_list:\n",
    "#         print('----')\n",
    "        pixel_rule = get_rule_by_adset_id(adset_id)\n",
    "        if pixel_rule:\n",
    "            conversion_id = get_conversion_id_by_rule(pixel_rule, campaign_id)\n",
    "#             print('conversion_id:', conversion_id)\n",
    "#             print('pixel_rule:', pixel_rule)\n",
    "            if conversion_id:\n",
    "                return conversion_id\n",
    "#         print('===')\n",
    "            \n",
    "    return None\n",
    "    \n",
    "            \n",
    "        \n",
    "    "
   ]
  },
  {
   "cell_type": "code",
   "execution_count": 11,
   "metadata": {},
   "outputs": [],
   "source": [
    "def get_conversion_id_by_compaign(campaign_id):\n",
    "    conversion_id = get_campaign_custom_goal_id(campaign_id)\n",
    "\n",
    "    if conversion_id:\n",
    "        print('[get_conversion_id_by_compaign] conversion_id already existed:',conversion_id)\n",
    "    else:\n",
    "        process_account_custom_conversion(campaign_id)\n",
    "        process_campaign_adset_optimization_goal(campaign_id)\n",
    "        conversion_id = get_campaign_custom_goal_id(campaign_id)\n",
    "        print('[get_conversion_id_by_compaign] conversion_id:',conversion_id)\n",
    "    return conversion_id\n"
   ]
  },
  {
   "cell_type": "code",
   "execution_count": 12,
   "metadata": {},
   "outputs": [],
   "source": [
    "def main():\n",
    "    campaign_id = 23843417575950621\n",
    "    conversion_id = get_conversion_id_by_compaign(campaign_id)\n",
    "    print('main', conversion_id)\n",
    "    "
   ]
  },
  {
   "cell_type": "code",
   "execution_count": 13,
   "metadata": {
    "scrolled": true
   },
   "outputs": [
    {
     "name": "stdout",
     "output_type": "stream",
     "text": [
      "[get_rule_by_adset_id] pixel_rule: {\"and\":[{\"event\":{\"eq\":\"PageView\"}},{\"or\":[{\"URL\":{\"i_contains\":\"https:\\/\\/loan.apply.hsbc.com.tw\\/hsbcpil\\/personal_loan\\/application\\/loan_request\"}}]}]}\n",
      "[get_rule_by_adset_id] conversion_id: 603450500098996\n",
      "[get_conversion_id_by_compaign] conversion_id already existed: 603450500098996\n",
      "main 603450500098996\n"
     ]
    }
   ],
   "source": [
    "\n",
    "    \n",
    "if __name__ == \"__main__\":\n",
    "    main()\n",
    "    "
   ]
  },
  {
   "cell_type": "code",
   "execution_count": null,
   "metadata": {},
   "outputs": [],
   "source": []
  }
 ],
 "metadata": {
  "kernelspec": {
   "display_name": "Python 3",
   "language": "python",
   "name": "python3"
  },
  "language_info": {
   "codemirror_mode": {
    "name": "ipython",
    "version": 3
   },
   "file_extension": ".py",
   "mimetype": "text/x-python",
   "name": "python",
   "nbconvert_exporter": "python",
   "pygments_lexer": "ipython3",
   "version": "3.6.7"
  },
  "varInspector": {
   "cols": {
    "lenName": 16,
    "lenType": 16,
    "lenVar": 40
   },
   "kernels_config": {
    "python": {
     "delete_cmd_postfix": "",
     "delete_cmd_prefix": "del ",
     "library": "var_list.py",
     "varRefreshCmd": "print(var_dic_list())"
    },
    "r": {
     "delete_cmd_postfix": ") ",
     "delete_cmd_prefix": "rm(",
     "library": "var_list.r",
     "varRefreshCmd": "cat(var_dic_list()) "
    }
   },
   "types_to_exclude": [
    "module",
    "function",
    "builtin_function_or_method",
    "instance",
    "_Feature"
   ],
   "window_display": false
  }
 },
 "nbformat": 4,
 "nbformat_minor": 4
}
