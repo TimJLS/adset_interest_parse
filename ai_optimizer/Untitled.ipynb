{
 "cells": [
  {
   "cell_type": "code",
   "execution_count": 19,
   "metadata": {},
   "outputs": [],
   "source": [
    "import uuid\n",
    "from googleads import adwords"
   ]
  },
  {
   "cell_type": "code",
   "execution_count": 48,
   "metadata": {},
   "outputs": [],
   "source": [
    "client = adwords.AdWordsClient.LoadFromStorage('/home/tim_su/ai_optimizer/opt/ai_optimizer/googleads.yaml')"
   ]
  },
  {
   "cell_type": "code",
   "execution_count": 51,
   "metadata": {},
   "outputs": [],
   "source": [
    "CAMPAIGN_ID = 1579088293\n",
    "ad_group_id = str(56419450781)\n",
    "PAGE_SIZE = 10"
   ]
  },
  {
   "cell_type": "code",
   "execution_count": 53,
   "metadata": {},
   "outputs": [],
   "source": [
    "# ID of your customer here\n",
    "CUSTOMER_SERVICE_ID = '6444395344'\n",
    "\n",
    "# Load customer account access\n",
    "client.SetClientCustomerId(CUSTOMER_SERVICE_ID)"
   ]
  },
  {
   "cell_type": "code",
   "execution_count": 28,
   "metadata": {},
   "outputs": [],
   "source": [
    "# Initialize appropriate service.\n",
    "ad_group_service = adwords_client.GetService('AdGroupService', version='v201809')"
   ]
  },
  {
   "cell_type": "code",
   "execution_count": 54,
   "metadata": {
    "scrolled": true
   },
   "outputs": [
    {
     "name": "stdout",
     "output_type": "stream",
     "text": [
      "{\n",
      "    'totalNumEntries': 0,\n",
      "    'Page.Type': 'AdGroupAdPage',\n",
      "    'entries': []\n",
      "}\n",
      "0 disapproved ads were found.\n"
     ]
    }
   ],
   "source": [
    "# Initialize appropriate service.\n",
    "ad_group_ad_service = adwords_client.GetService('AdGroupAdService', version='v201809')\n",
    "\n",
    "# Construct selector and get all ads for a given ad group.\n",
    "offset = 0\n",
    "selector = {\n",
    "    'fields': ['Id', 'PolicySummary'],\n",
    "    'predicates': [{\n",
    "        'field': 'AdGroupId',\n",
    "        'operator': 'EQUALS',\n",
    "        'values': [ad_group_id]\n",
    "    },{\n",
    "        'field': 'CombinedApprovalStatus',\n",
    "        'operator': 'EQUALS',\n",
    "        'values': 'DISAPPROVED'\n",
    "    }],\n",
    "  'paging': {\n",
    "      'startIndex': str(offset),\n",
    "      'numberResults': str(PAGE_SIZE)\n",
    "  }\n",
    "}\n",
    "\n",
    "more_pages = True\n",
    "disapproved_count = 0\n",
    "\n",
    "# Display results.\n",
    "while more_pages:\n",
    "    page = ad_group_ad_service.get(selector)\n",
    "    print(page)\n",
    "    if 'entries' in page:\n",
    "        for ad in page['entries']:\n",
    "            disapproved_count += 1\n",
    "            policy_summary = ad['policySummary']\n",
    "\n",
    "            print ('Ad with id \"%s\" was disapproved with the following policy '\n",
    "                   'topic entries:' % ad['ad']['id'])\n",
    "            # Display the policy topic entries related to the ad disapproval.\n",
    "            for policy_topic_entry in policy_summary['policyTopicEntries']:\n",
    "                print ('  topic ID: %s, topic name: %s, Help Center URL: %s' % (\n",
    "                    policy_topic_entry['policyTopicId'],\n",
    "                    policy_topic_entry['policyTopicName'],\n",
    "                    policy_topic_entry['policyTopicHelpCenterUrl']))\n",
    "              # Display the attributes and values that triggered the policy topic.\n",
    "                policy_topic_evidences = policy_topic_entry['policyTopicEvidences']\n",
    "                if policy_topic_evidences:\n",
    "                    for evidence in policy_topic_entry['policyTopicEvidences']:\n",
    "                        print ('    evidence type: %s'\n",
    "                             % evidence['policyTopicEvidenceType'])\n",
    "                        evidence_text_list = evidence['evidenceTextList']\n",
    "                        if evidence_text_list:\n",
    "                            for index, evidence_text in enumerate(evidence_text_list):\n",
    "                                print ('      evidence text[%d]: %s' % (index, evidence_text))\n",
    "\n",
    "    offset += PAGE_SIZE\n",
    "    selector['paging']['startIndex'] = str(offset)\n",
    "    more_pages = offset < int(page['totalNumEntries'])\n",
    "\n",
    "print( '%d disapproved ads were found.' % disapproved_count)"
   ]
  },
  {
   "cell_type": "code",
   "execution_count": 58,
   "metadata": {},
   "outputs": [],
   "source": [
    "ad_group_service = client.GetService('AdGroupService', version='v201809')\n",
    "\n",
    "# Construct operations and update an ad group.\n",
    "operations = [{\n",
    "    'operator': 'SET',\n",
    "    'operand': {\n",
    "        'id': ad_group_id,\n",
    "        'status': 'PAUSED'\n",
    "    }\n",
    "}]\n",
    "\n",
    "# if bid_micro_amount:\n",
    "#     operations[0]['operand']['biddingStrategyConfiguration'] = {\n",
    "#         'bids': [{\n",
    "#             'xsi_type': 'CpcBid',\n",
    "#             'bid': {\n",
    "#                 'microAmount': bid_micro_amount,\n",
    "#             }\n",
    "#         }]\n",
    "#     }\n",
    "ad_groups = ad_group_service.mutate(operations)"
   ]
  },
  {
   "cell_type": "code",
   "execution_count": null,
   "metadata": {},
   "outputs": [],
   "source": []
  }
 ],
 "metadata": {
  "kernelspec": {
   "display_name": "Python 3",
   "language": "python",
   "name": "python3"
  },
  "language_info": {
   "codemirror_mode": {
    "name": "ipython",
    "version": 3
   },
   "file_extension": ".py",
   "mimetype": "text/x-python",
   "name": "python",
   "nbconvert_exporter": "python",
   "pygments_lexer": "ipython3",
   "version": "3.6.7"
  },
  "varInspector": {
   "cols": {
    "lenName": 16,
    "lenType": 16,
    "lenVar": 40
   },
   "kernels_config": {
    "python": {
     "delete_cmd_postfix": "",
     "delete_cmd_prefix": "del ",
     "library": "var_list.py",
     "varRefreshCmd": "print(var_dic_list())"
    },
    "r": {
     "delete_cmd_postfix": ") ",
     "delete_cmd_prefix": "rm(",
     "library": "var_list.r",
     "varRefreshCmd": "cat(var_dic_list()) "
    }
   },
   "types_to_exclude": [
    "module",
    "function",
    "builtin_function_or_method",
    "instance",
    "_Feature"
   ],
   "window_display": false
  }
 },
 "nbformat": 4,
 "nbformat_minor": 2
}
