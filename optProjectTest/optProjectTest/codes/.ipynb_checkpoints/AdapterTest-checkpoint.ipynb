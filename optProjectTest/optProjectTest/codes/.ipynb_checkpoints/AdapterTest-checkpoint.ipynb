{
 "cells": [
  {
   "cell_type": "code",
   "execution_count": 1,
   "metadata": {},
   "outputs": [
    {
     "name": "stderr",
     "output_type": "stream",
     "text": [
      "Using TensorFlow backend.\n"
     ]
    }
   ],
   "source": [
    "import datetime\n",
    "import pandas as pd\n",
    "import mysql_adactivity_save"
   ]
  },
  {
   "cell_type": "code",
   "execution_count": null,
   "metadata": {},
   "outputs": [],
   "source": [
    "import tqdm"
   ]
  },
  {
   "cell_type": "code",
   "execution_count": 2,
   "metadata": {},
   "outputs": [],
   "source": [
    "DATADASE = \"ad_activity\"\n",
    "START_TIME = 'start_time'\n",
    "STOP_TIME = 'stop_time'\n",
    "AD_ID = 'ad_id'\n",
    "ADSET_ID = 'adset_id'\n",
    "CAMPAIGN_ID = 'campaign_id'\n",
    "CHARGE = 'charge'\n",
    "BID_AMOUNT = 'bid_amount'\n",
    "REQUEST_TIME = 'request_time'\n",
    "TARGET_LEFT = 'target_left'"
   ]
  },
  {
   "cell_type": "code",
   "execution_count": 3,
   "metadata": {},
   "outputs": [],
   "source": [
    "class FacebookCampaignAdapter(object):\n",
    "    def __init__(self, campaign_id):\n",
    "        self.mydb = mysql_adactivity_save.connectDB( DATADASE )\n",
    "        self.limit = 10000\n",
    "        self.hour_per_day = 20\n",
    "        self.campaign_id = campaign_id\n",
    "        self.request_time = datetime.datetime.now()\n",
    "        self.time_progress = ( self.request_time.hour + 1 ) / self.hour_per_day\n",
    "        \n",
    "    def get_df(self):\n",
    "        self.df_camp = pd.read_sql( \"SELECT * FROM campaign_target WHERE campaign_id=%s\" %( self.campaign_id ), con=self.mydb )\n",
    "        self.df_ad = pd.read_sql( \"SELECT * FROM ad_insights where campaign_id = %s ORDER BY request_time DESC LIMIT %s\" %( self.campaign_id, self.limit ), con=self.mydb )\n",
    "        return\n",
    "    \n",
    "    def get_campaign_days_left(self):\n",
    "        self.campaign_days_left = ( self.df_camp[ STOP_TIME ].iloc[0] - self.request_time ).days\n",
    "        return self.campaign_days_left\n",
    "    \n",
    "    def get_campaign_days(self):\n",
    "        self.campaign_days = ( self.df_camp[ STOP_TIME ].iloc[0] - self.df_camp[ START_TIME ].iloc[0] ).days\n",
    "        return self.campaign_days\n",
    "    \n",
    "    def get_campaign_performance(self):\n",
    "        df_ads = pd.read_sql( \"SELECT * FROM ad_insights where campaign_id = %s ORDER BY request_time desc limit %s\" %( self.campaign_id, self.limit ), con=self.mydb )\n",
    "        ad_id_list = df_ads[ AD_ID ].unique()\n",
    "        dfs = pd.DataFrame(columns=[ ADSET_ID, CHARGE ])\n",
    "#         for ad_id in tqdm(ad_id_list):\n",
    "        for ad_id in ad_id_list:\n",
    "            ad_id = ad_id.astype(dtype=object)\n",
    "            df_ad = df_ads[df_ads.ad_id==ad_id]\n",
    "            adset_id = df_ad[ ADSET_ID ].iloc[0]\n",
    "            df = df_ad[[ CHARGE, REQUEST_TIME ]][df_ad.request_time.dt.date==self.request_time]\n",
    "            dfs = pd.concat([dfs, df], axis=0, sort=False)\n",
    "        dfs = dfs.sort_values(by=[ CHARGE ], ascending=False).reset_index(drop=True)\n",
    "        self.campaign_performance = dfs[ CHARGE ].sum()\n",
    "        return self.campaign_performance\n",
    "    \n",
    "    def get_campaign_target(self):\n",
    "        self.campaign_target = self.df_camp[ TARGET_LEFT ].iloc[0].astype(dtype=object)\n",
    "        return self.campaign_target\n",
    "    \n",
    "    def get_campaign_day_target(self):\n",
    "        self.campaign_day_target = self.campaign_target / self.campaign_days_left\n",
    "        return self.campaign_day_target\n",
    "    \n",
    "    def get_adset_list(self):\n",
    "        df_ad = pd.read_sql( \"SELECT * FROM ad_insights where campaign_id = %s ORDER BY request_time desc limit %s\" %( self.campaign_id, self.limit ), con=self.mydb )\n",
    "        return df_ad[ ADSET_ID ].unique()\n",
    "    \n",
    "    def retrieve_campaign_attribute(self):\n",
    "        self.get_df()\n",
    "        self.get_campaign_days_left()\n",
    "        self.get_campaign_days()\n",
    "        self.get_campaign_performance()\n",
    "        self.get_campaign_target()\n",
    "        self.get_campaign_day_target()\n",
    "        return"
   ]
  },
  {
   "cell_type": "code",
   "execution_count": null,
   "metadata": {},
   "outputs": [],
   "source": [
    "%%time\n",
    "fb = FacebookCampaignAdapter(23843355587140564)\n",
    "fb.retrieve_campaign_attribute(23843355587140564)"
   ]
  },
  {
   "cell_type": "code",
   "execution_count": null,
   "metadata": {},
   "outputs": [],
   "source": [
    "fb.time_progress"
   ]
  },
  {
   "cell_type": "code",
   "execution_count": null,
   "metadata": {},
   "outputs": [],
   "source": []
  },
  {
   "cell_type": "code",
   "execution_count": 13,
   "metadata": {},
   "outputs": [],
   "source": [
    "class FacebookAdSetAdapter(FacebookCampaignAdapter):\n",
    "    def __init__(self, adset_id):\n",
    "        self.mydb = mysql_adactivity_save.connectDB( DATADASE )\n",
    "        self.adset_id = adset_id\n",
    "    \n",
    "    def init_campaign(self):\n",
    "        fb = FacebookCampaignAdapter(self.campaign_id)\n",
    "        fb.retrieve_campaign_attribute()\n",
    "        self.time_progress = fb.time_progress\n",
    "        self.limit = fb.limit\n",
    "        self.hour_per_day = fb.hour_per_day\n",
    "        self.request_time = fb.request_time\n",
    "        self.df_camp = fb.df_camp\n",
    "        self.df_ad = fb.df_ad\n",
    "        self.campaign_days_left = fb.campaign_days_left\n",
    "        self.campaign_days = fb.campaign_days\n",
    "        self.campaign_performance = fb.campaign_performance\n",
    "        self.campaign_target = fb.campaign_target\n",
    "        self.campaign_day_target = fb.campaign_day_target\n",
    "        return\n",
    "    \n",
    "    def get_campaign_id(self):\n",
    "        df_ad = pd.read_sql( \"SELECT * FROM ad_insights WHERE adset_id = %s ORDER BY request_time DESC LIMIT 1\" %( self.adset_id ), con=self.mydb )\n",
    "        self.campaign_id = df_ad[ CAMPAIGN_ID ].iloc[0].astype(dtype=object)\n",
    "        return self.campaign_id\n",
    "    \n",
    "    def get_adset_day_target(self):\n",
    "        adset_num = len( self.df_ad[ ADSET_ID ].unique() )\n",
    "        self.adset_day_target = self.campaign_day_target / adset_num\n",
    "        return self.adset_day_target\n",
    "    \n",
    "    def get_adset_performance(self):\n",
    "        df_ad = pd.read_sql( \"SELECT * FROM ad_insights WHERE adset_id = %s ORDER BY request_time DESC LIMIT 1\" %( self.adset_id ), con=self.mydb )\n",
    "        self.adset_performance = df_ad[ CHARGE ].iloc[0]\n",
    "        return self.adset_performance\n",
    "    \n",
    "    def get_init_bid(self):\n",
    "        df_adset = pd.read_sql( \"SELECT * FROM adset_insights WHERE adset_id=%s LIMIT 1\" %( self.adset_id ), con=self.mydb )\n",
    "        self.init_bid = df_adset[ BID_AMOUNT ].iloc[0]\n",
    "        return self.init_bid\n",
    "    \n",
    "    def get_last_bid(self):\n",
    "        df_adset = pd.read_sql( \"SELECT * FROM adset_insights WHERE adset_id=%s ORDER BY request_time DESC LIMIT 1\" %( self.adset_id ), con=self.mydb )\n",
    "        self.last_bid = df_adset[ BID_AMOUNT ].iloc[0].astype(dtype=object)    \n",
    "        return self.init_bid\n",
    "    \n",
    "    def get_adset_time_target(self):\n",
    "        self.adset_time_target = self.adset_day_target * self.time_progress\n",
    "        return self.adset_time_target\n",
    "    \n",
    "    def get_adset_progress(self):\n",
    "        self.adset_progress = self.adset_performance / self.adset_time_target\n",
    "        return self.adset_progress\n",
    "    \n",
    "    def retrieve_adset_attribute(self):\n",
    "        self.get_campaign_id()\n",
    "        self.init_campaign()\n",
    "        self.get_adset_day_target()\n",
    "        self.get_adset_performance()\n",
    "        self.get_init_bid()\n",
    "        self.get_last_bid()\n",
    "        self.get_adset_time_target()\n",
    "        self.get_adset_progress()\n",
    "        return"
   ]
  },
  {
   "cell_type": "code",
   "execution_count": 15,
   "metadata": {},
   "outputs": [
    {
     "name": "stdout",
     "output_type": "stream",
     "text": [
      "1.91 s ± 6.88 ms per loop (mean ± std. dev. of 7 runs, 1 loop each)\n"
     ]
    }
   ],
   "source": [
    "%%timeit\n",
    "s = FacebookAdSetAdapter(23843355587230564)\n"
   ]
  },
  {
   "cell_type": "code",
   "execution_count": 6,
   "metadata": {},
   "outputs": [
    {
     "data": {
      "text/plain": [
       "23843355587140564"
      ]
     },
     "execution_count": 6,
     "metadata": {},
     "output_type": "execute_result"
    }
   ],
   "source": [
    "s.campaign_id\n",
    "\n"
   ]
  },
  {
   "cell_type": "code",
   "execution_count": null,
   "metadata": {},
   "outputs": [],
   "source": [
    "s.adset_progress"
   ]
  },
  {
   "cell_type": "code",
   "execution_count": null,
   "metadata": {},
   "outputs": [],
   "source": []
  }
 ],
 "metadata": {
  "kernelspec": {
   "display_name": "Python 3",
   "language": "python",
   "name": "python3"
  },
  "language_info": {
   "codemirror_mode": {
    "name": "ipython",
    "version": 3
   },
   "file_extension": ".py",
   "mimetype": "text/x-python",
   "name": "python",
   "nbconvert_exporter": "python",
   "pygments_lexer": "ipython3",
   "version": "3.5.2"
  }
 },
 "nbformat": 4,
 "nbformat_minor": 2
}
