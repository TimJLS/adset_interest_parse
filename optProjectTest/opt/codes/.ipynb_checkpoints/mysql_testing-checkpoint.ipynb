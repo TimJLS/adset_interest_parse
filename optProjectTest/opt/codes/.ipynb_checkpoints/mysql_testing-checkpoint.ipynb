{
 "cells": [
  {
   "cell_type": "code",
   "execution_count": 1,
   "metadata": {},
   "outputs": [],
   "source": [
    "import mysql.connector\n",
    "import pandas as pd\n",
    "import datetime\n",
    "from pandas.io import sql\n",
    "from sqlalchemy import create_engine\n",
    "import pymysql\n",
    "pymysql.install_as_MySQLdb()\n",
    "import MySQLdb\n",
    "\n",
    "def connectDB(db_name):\n",
    "    mydb = mysql.connector.connect(\n",
    "        host=\"localhost\",\n",
    "        user=\"root\",\n",
    "        passwd=\"adgeek1234\",\n",
    "        database=db_name\n",
    "    )\n",
    "    return mydb"
   ]
  },
  {
   "cell_type": "code",
   "execution_count": 35,
   "metadata": {},
   "outputs": [],
   "source": [
    "import mysql_adactivity_save\n",
    "import json\n",
    "import numpy as np"
   ]
  },
  {
   "cell_type": "code",
   "execution_count": 36,
   "metadata": {},
   "outputs": [],
   "source": [
    "HOUR_PER_DAY = 20\n",
    "def normalized_sigmoid_fkt(center, width, progress):\n",
    "    s= 1/(1+np.exp(width*(progress-center)))\n",
    "    return s"
   ]
  },
  {
   "cell_type": "code",
   "execution_count": 37,
   "metadata": {},
   "outputs": [
    {
     "name": "stdout",
     "output_type": "stream",
     "text": [
      "15.341102911866294\n",
      "16.13627116470387\n",
      "18.13039435038744\n",
      "15.293269772138387\n",
      "15.32068297185494\n",
      "8.484652149225484\n",
      "15.341102911866294\n",
      "7.200000001469657\n",
      "16.299325794447192\n",
      "CPU times: user 40 ms, sys: 0 ns, total: 40 ms\n",
      "Wall time: 41.2 ms\n"
     ]
    }
   ],
   "source": [
    "%%time\n",
    "mydb = connectDB(\"ad_activity\")\n",
    "BID_RANGE = 0.8\n",
    "campaign_id = 23843355587140564\n",
    "LIMIT=10000\n",
    "def bid_adjust( campaign_id ):\n",
    "    request_time = datetime.datetime.now()\n",
    "    time_progress = request_time.hour / HOUR_PER_DAY\n",
    "\n",
    "    df_camp = pd.read_sql( \"SELECT * FROM campaign_target where campaign_id=%s\" %( campaign_id ), con=mydb )\n",
    "    df_ad = pd.read_sql( \"SELECT * FROM ad_insights where campaign_id = %s limit %s\" %( campaign_id, LIMIT ), con=mydb )\n",
    "    ad_id_list = df_ad['ad_id'].unique()\n",
    "    adset_num = len( df_ad['adset_id'].unique() )\n",
    "    campaign_days = ( df_camp['stop_time'].iloc[0] - df_camp['start_time'].iloc[0] ).days\n",
    "    for ad_id in ad_id_list:\n",
    "        center = 0.5\n",
    "        width = 10\n",
    "        df_ad = pd.read_sql( \"SELECT * FROM ad_insights where ad_id=%s ORDER BY request_time DESC LIMIT 1\" %( ad_id ), con=mydb )\n",
    "        total_target = df_camp['target'].iloc[0] / campaign_days / adset_num\n",
    "        target_performane = total_target * time_progress\n",
    "        performane = df_ad['charge'].iloc[0]\n",
    "        progress = performane / target_performane\n",
    "\n",
    "        adset_id = df_ad['adset_id'].iloc[0]\n",
    "        df_adset = pd.read_sql( \"SELECT * FROM adset_insights where adset_id=%s LIMIT 1\" %( adset_id ), con=mydb )\n",
    "\n",
    "        init_cpc = df_adset['bid_amount'].iloc[0]\n",
    "        bid = init_cpc + BID_RANGE*init_cpc*( normalized_sigmoid_fkt(center, width, progress) - 0.5 )\n",
    "        print(bid)\n",
    "\n",
    "#     mysql_adactivity_save.update_bidcap(ad_id, bid)\n",
    "#         return"
   ]
  },
  {
   "cell_type": "code",
   "execution_count": 31,
   "metadata": {},
   "outputs": [],
   "source": [
    "def select_adid_by_campaign( campaign_id ):\n",
    "    mydb = mysql_adactivity_save.connectDB(\"ad_activity\")\n",
    "    df = pd.read_sql( \"SELECT * FROM by_campaign where campaign_id = %s\" %(campaign_id), con=mydb)\n",
    "    adset_list = df[COL_ADSET_ID].unique()\n",
    "    mydict={}\n",
    "    for adset_id in adset_list:\n",
    "        ad_list = df[COL_AD_ID][df.adset_id == adset_id].unique()\n",
    "        for ad_id in ad_list:\n",
    "            status = selection.performance_compute( adset_id, ad_id )\n",
    "            pred_cpc, pred_budget, decide_type = mysql_adactivity_save.get_pred_data( ad_id )\n",
    "            if decide_type == 'KPI':\n",
    "                reasons = \"KPI haven't reached yet, start CPC optimize\"\n",
    "            elif decide_type == 'CPC':\n",
    "                reasons = \"KPI reached, start CPC optimize\"\n",
    "            elif decide_type == 'Revive':\n",
    "                reasons = \"Low performance.\"\n",
    "            else:\n",
    "                reasons = \"collecting data, settings no change.\"\n",
    "            mydict[str(ad_id)] = { PRED_CPC: pred_cpc, PRED_BUDGET: pred_budget, REASONS: reasons,\n",
    "                              DECIDE_TYPE: decide_type, STATUS: status, ADSET: str(adset_id) }\n",
    "            adset_id, ad_id = adset_id.astype(dtype=object), ad_id.astype(dtype=object)\n",
    "            \n",
    "            mysql_adactivity_save.insertSelection( ad_campaign_id, adset_id, ad_id, status )\n",
    "    mydict_json = json.dumps(mydict)\n",
    "    mysql_adactivity_save.insert_result( ad_campaign_id, mydict_json, datetime.now() )\n",
    "    return"
   ]
  },
  {
   "cell_type": "code",
   "execution_count": 23,
   "metadata": {},
   "outputs": [
    {
     "data": {
      "text/plain": [
       "17"
      ]
     },
     "execution_count": 23,
     "metadata": {},
     "output_type": "execute_result"
    }
   ],
   "source": [
    "datetime.datetime.now().hour"
   ]
  },
  {
   "cell_type": "code",
   "execution_count": null,
   "metadata": {},
   "outputs": [],
   "source": []
  }
 ],
 "metadata": {
  "kernelspec": {
   "display_name": "Python 3",
   "language": "python",
   "name": "python3"
  },
  "language_info": {
   "codemirror_mode": {
    "name": "ipython",
    "version": 3
   },
   "file_extension": ".py",
   "mimetype": "text/x-python",
   "name": "python",
   "nbconvert_exporter": "python",
   "pygments_lexer": "ipython3",
   "version": "3.5.2"
  }
 },
 "nbformat": 4,
 "nbformat_minor": 2
}
