{
 "cells": [
  {
   "cell_type": "code",
   "execution_count": 1,
   "metadata": {},
   "outputs": [],
   "source": [
    "import mysql.connector\n",
    "import pandas as pd\n",
    "import datetime\n",
    "from pandas.io import sql\n",
    "from sqlalchemy import create_engine\n",
    "import pymysql\n",
    "pymysql.install_as_MySQLdb()\n",
    "import MySQLdb as db"
   ]
  },
  {
   "cell_type": "code",
   "execution_count": 2,
   "metadata": {},
   "outputs": [],
   "source": [
    "CAMPAIGN_ID = 23843180432940316"
   ]
  },
  {
   "cell_type": "code",
   "execution_count": 4,
   "metadata": {},
   "outputs": [],
   "source": [
    "def connectDB(db_name):\n",
    "    mydb = mysql.connector.connect(\n",
    "        host=\"localhost\", \n",
    "        user=\"root\",\n",
    "        passwd=\"adgeek1234\",\n",
    "        database=db_name\n",
    "    )\n",
    "    return mydb\n",
    "mydb = connectDB(\"ad_activity\")\n",
    "df_camp = pd.read_sql( \"SELECT * FROM by_campaign where campaign_id = %s\" %(CAMPAIGN_ID), con=mydb)"
   ]
  },
  {
   "cell_type": "code",
   "execution_count": 30,
   "metadata": {},
   "outputs": [],
   "source": [
    "import math"
   ]
  },
  {
   "cell_type": "code",
   "execution_count": 17,
   "metadata": {},
   "outputs": [],
   "source": [
    "df = df_camp[ ( df_camp.request_time.dt.date ) == df_camp.start_time.dt.date]"
   ]
  },
  {
   "cell_type": "code",
   "execution_count": 19,
   "metadata": {},
   "outputs": [],
   "source": [
    "ad_id_list = df['ad_id'].unique()"
   ]
  },
  {
   "cell_type": "code",
   "execution_count": 1,
   "metadata": {},
   "outputs": [
    {
     "ename": "NameError",
     "evalue": "name 'ad_id_list' is not defined",
     "output_type": "error",
     "traceback": [
      "\u001b[0;31m---------------------------------------------------------------------------\u001b[0m",
      "\u001b[0;31mNameError\u001b[0m                                 Traceback (most recent call last)",
      "\u001b[0;32m<ipython-input-1-a1bb8ae9cbbf>\u001b[0m in \u001b[0;36m<module>\u001b[0;34m\u001b[0m\n\u001b[1;32m     22\u001b[0m     \u001b[0;32mreturn\u001b[0m \u001b[0mbudget_allocation\u001b[0m\u001b[0;34m,\u001b[0m \u001b[0mnext_day_target_clicks\u001b[0m\u001b[0;34m\u001b[0m\u001b[0m\n\u001b[1;32m     23\u001b[0m \u001b[0;34m\u001b[0m\u001b[0m\n\u001b[0;32m---> 24\u001b[0;31m \u001b[0;32mfor\u001b[0m \u001b[0mad\u001b[0m \u001b[0;32min\u001b[0m \u001b[0mad_id_list\u001b[0m\u001b[0;34m:\u001b[0m\u001b[0;34m\u001b[0m\u001b[0m\n\u001b[0m\u001b[1;32m     25\u001b[0m     \u001b[0mnext_day_speed\u001b[0m\u001b[0;34m[\u001b[0m\u001b[0mad\u001b[0m\u001b[0;34m]\u001b[0m \u001b[0;34m=\u001b[0m \u001b[0mmath\u001b[0m\u001b[0;34m.\u001b[0m\u001b[0mceil\u001b[0m\u001b[0;34m(\u001b[0m \u001b[0mnext_day_target_clicks\u001b[0m\u001b[0;34m[\u001b[0m\u001b[0mad\u001b[0m\u001b[0;34m]\u001b[0m \u001b[0;34m/\u001b[0m \u001b[0mhour_per_day\u001b[0m \u001b[0;34m)\u001b[0m\u001b[0;34m\u001b[0m\u001b[0m\n\u001b[1;32m     26\u001b[0m \u001b[0;31m#     next_day_speed[ad] = next_day_target_clicks[ad] / hour_per_day\u001b[0m\u001b[0;34m\u001b[0m\u001b[0;34m\u001b[0m\u001b[0m\n",
      "\u001b[0;31mNameError\u001b[0m: name 'ad_id_list' is not defined"
     ]
    }
   ],
   "source": [
    "init_budget = 800\n",
    "day_target_clicks = 100\n",
    "hour_per_day=18\n",
    "mydict=dict()\n",
    "budget_allocation=dict()\n",
    "next_day_target_clicks=dict()\n",
    "next_day_speed=dict()\n",
    "\n",
    "sum_expected_clicks=0\n",
    "def performance_sumary():\n",
    "    sum_performed_clicks=0\n",
    "    for ad in ad_id_list:\n",
    "        mydict[ad] = df['clicks'][df.ad_id == ad].iloc[-1]\n",
    "        sum_performed_clicks += mydict[ad]\n",
    "    return mydict, sum_performed_clicks\n",
    "\n",
    "def budget_allocate():\n",
    "    for ad in ad_id_list:\n",
    "        budget_allocation[ad] = mydict[ad]/sum_performed_clicks*init_budget\n",
    "        next_day_target_clicks[ad] = math.ceil( mydict[ad]/sum_performed_clicks*day_target_clicks )\n",
    "        sum_expected_clicks += next_day_target_clicks[ad]\n",
    "    return budget_allocation, next_day_target_clicks\n",
    "        \n",
    "for ad in ad_id_list:\n",
    "    next_day_speed[ad] = math.ceil( next_day_target_clicks[ad] / hour_per_day )\n",
    "#     next_day_speed[ad] = next_day_target_clicks[ad] / hour_per_day\n",
    "# mydict,sum_performed_clicks,budget_allocation,next_day_target_clicks,sum_expected_clicks,next_day_speed"
   ]
  },
  {
   "cell_type": "code",
   "execution_count": null,
   "metadata": {},
   "outputs": [],
   "source": [
    "bid_range = 0.5\n",
    "def revive(ad_id):\n",
    "    init_cpc = mysql_adactivity_save.get_init_cpc(ad_id)\n",
    "    next_cpc = init_cpc + bid_range*init_cpc*(avgspeed-processed_clicks)/avgspeed\n",
    "    return"
   ]
  }
 ],
 "metadata": {
  "kernelspec": {
   "display_name": "Python 3",
   "language": "python",
   "name": "python3"
  },
  "language_info": {
   "codemirror_mode": {
    "name": "ipython",
    "version": 3
   },
   "file_extension": ".py",
   "mimetype": "text/x-python",
   "name": "python",
   "nbconvert_exporter": "python",
   "pygments_lexer": "ipython3",
   "version": "3.5.2"
  }
 },
 "nbformat": 4,
 "nbformat_minor": 2
}
