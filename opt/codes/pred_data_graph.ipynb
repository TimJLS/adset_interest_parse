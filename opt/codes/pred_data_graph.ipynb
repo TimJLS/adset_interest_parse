{
 "cells": [
  {
   "cell_type": "code",
   "execution_count": 2,
   "metadata": {},
   "outputs": [],
   "source": [
    "import mysql.connector\n",
    "import pandas as pd\n",
    "import datetime\n",
    "from pandas.io import sql\n",
    "from sqlalchemy import create_engine\n",
    "import pymysql\n",
    "pymysql.install_as_MySQLdb()\n",
    "import MySQLdb\n",
    "import mysql_save_load\n",
    "import datetime"
   ]
  },
  {
   "cell_type": "code",
   "execution_count": 3,
   "metadata": {},
   "outputs": [],
   "source": [
    "mydb = mysql_save_load.connectDB(\"tim_test\")\n",
    "df = pd.read_sql( \"SELECT * FROM pred\" , con=mydb)\n",
    "df_camp = pd.read_sql( \"SELECT * FROM by_campaign\", con=mydb)"
   ]
  },
  {
   "cell_type": "markdown",
   "metadata": {},
   "source": [
    "## 10/17"
   ]
  },
  {
   "cell_type": "code",
   "execution_count": 5,
   "metadata": {},
   "outputs": [],
   "source": [
    "YESTERDAY = datetime.datetime.now().date() - datetime.timedelta(1)"
   ]
  },
  {
   "cell_type": "code",
   "execution_count": 6,
   "metadata": {},
   "outputs": [],
   "source": [
    "df['date'] = df['request_time'].dt.date\n",
    "df_camp['date'] = df_camp['request_time'].dt.date"
   ]
  },
  {
   "cell_type": "code",
   "execution_count": 7,
   "metadata": {},
   "outputs": [],
   "source": [
    "df_pred = df[ (df.ad_id == 23842869152850246) & (df.date == YESTERDAY) ].reset_index()"
   ]
  },
  {
   "cell_type": "code",
   "execution_count": 8,
   "metadata": {},
   "outputs": [
    {
     "data": {
      "text/html": [
       "<div>\n",
       "<style scoped>\n",
       "    .dataframe tbody tr th:only-of-type {\n",
       "        vertical-align: middle;\n",
       "    }\n",
       "\n",
       "    .dataframe tbody tr th {\n",
       "        vertical-align: top;\n",
       "    }\n",
       "\n",
       "    .dataframe thead th {\n",
       "        text-align: right;\n",
       "    }\n",
       "</style>\n",
       "<table border=\"1\" class=\"dataframe\">\n",
       "  <thead>\n",
       "    <tr style=\"text-align: right;\">\n",
       "      <th></th>\n",
       "      <th>index</th>\n",
       "      <th>ad_id</th>\n",
       "      <th>request_time</th>\n",
       "      <th>pred_cpc</th>\n",
       "      <th>pred_budget</th>\n",
       "      <th>date</th>\n",
       "    </tr>\n",
       "  </thead>\n",
       "  <tbody>\n",
       "    <tr>\n",
       "      <th>0</th>\n",
       "      <td>1911</td>\n",
       "      <td>23842869152850246</td>\n",
       "      <td>2018-10-17 08:30:10</td>\n",
       "      <td>6.0</td>\n",
       "      <td>300</td>\n",
       "      <td>2018-10-17</td>\n",
       "    </tr>\n",
       "    <tr>\n",
       "      <th>1</th>\n",
       "      <td>1913</td>\n",
       "      <td>23842869152850246</td>\n",
       "      <td>2018-10-17 08:31:11</td>\n",
       "      <td>6.0</td>\n",
       "      <td>300</td>\n",
       "      <td>2018-10-17</td>\n",
       "    </tr>\n",
       "    <tr>\n",
       "      <th>2</th>\n",
       "      <td>1915</td>\n",
       "      <td>23842869152850246</td>\n",
       "      <td>2018-10-17 08:32:10</td>\n",
       "      <td>6.0</td>\n",
       "      <td>300</td>\n",
       "      <td>2018-10-17</td>\n",
       "    </tr>\n",
       "  </tbody>\n",
       "</table>\n",
       "</div>"
      ],
      "text/plain": [
       "   index              ad_id        request_time  pred_cpc  pred_budget  \\\n",
       "0   1911  23842869152850246 2018-10-17 08:30:10       6.0          300   \n",
       "1   1913  23842869152850246 2018-10-17 08:31:11       6.0          300   \n",
       "2   1915  23842869152850246 2018-10-17 08:32:10       6.0          300   \n",
       "\n",
       "         date  \n",
       "0  2018-10-17  \n",
       "1  2018-10-17  \n",
       "2  2018-10-17  "
      ]
     },
     "execution_count": 8,
     "metadata": {},
     "output_type": "execute_result"
    }
   ],
   "source": [
    "df_pred.head(3)"
   ]
  },
  {
   "cell_type": "code",
   "execution_count": 9,
   "metadata": {},
   "outputs": [],
   "source": [
    "df_real = df_camp[ (df_camp.ad_id == 23842869152850246) & (df_camp.date == YESTERDAY) ].reset_index()"
   ]
  },
  {
   "cell_type": "code",
   "execution_count": 11,
   "metadata": {},
   "outputs": [
    {
     "data": {
      "text/html": [
       "<div>\n",
       "<style scoped>\n",
       "    .dataframe tbody tr th:only-of-type {\n",
       "        vertical-align: middle;\n",
       "    }\n",
       "\n",
       "    .dataframe tbody tr th {\n",
       "        vertical-align: top;\n",
       "    }\n",
       "\n",
       "    .dataframe thead th {\n",
       "        text-align: right;\n",
       "    }\n",
       "</style>\n",
       "<table border=\"1\" class=\"dataframe\">\n",
       "  <thead>\n",
       "    <tr style=\"text-align: right;\">\n",
       "      <th></th>\n",
       "      <th>index</th>\n",
       "      <th>ad_id</th>\n",
       "      <th>cpc</th>\n",
       "      <th>clicks</th>\n",
       "      <th>impressions</th>\n",
       "      <th>reach</th>\n",
       "      <th>campaign_id</th>\n",
       "      <th>spend_cap</th>\n",
       "      <th>objective</th>\n",
       "      <th>start_time</th>\n",
       "      <th>stop_time</th>\n",
       "      <th>adset_id</th>\n",
       "      <th>bid_amount</th>\n",
       "      <th>daily_budget</th>\n",
       "      <th>request_time</th>\n",
       "      <th>total_clicks</th>\n",
       "      <th>date</th>\n",
       "    </tr>\n",
       "  </thead>\n",
       "  <tbody>\n",
       "    <tr>\n",
       "      <th>0</th>\n",
       "      <td>30634</td>\n",
       "      <td>23842869152850246</td>\n",
       "      <td>0.0</td>\n",
       "      <td>0</td>\n",
       "      <td>1</td>\n",
       "      <td>1</td>\n",
       "      <td>23842866254190246</td>\n",
       "      <td>None</td>\n",
       "      <td>LINK_CLICKS</td>\n",
       "      <td>2018-07-01 09:00:10</td>\n",
       "      <td>2018-11-30 23:59:00</td>\n",
       "      <td>23842866254290246</td>\n",
       "      <td>9</td>\n",
       "      <td>300</td>\n",
       "      <td>2018-10-18 00:32:09</td>\n",
       "      <td>12000.0</td>\n",
       "      <td>2018-10-18</td>\n",
       "    </tr>\n",
       "    <tr>\n",
       "      <th>1</th>\n",
       "      <td>30637</td>\n",
       "      <td>23842869152850246</td>\n",
       "      <td>0.0</td>\n",
       "      <td>0</td>\n",
       "      <td>1</td>\n",
       "      <td>1</td>\n",
       "      <td>23842866254190246</td>\n",
       "      <td>None</td>\n",
       "      <td>LINK_CLICKS</td>\n",
       "      <td>2018-07-01 09:00:10</td>\n",
       "      <td>2018-11-30 23:59:00</td>\n",
       "      <td>23842866254290246</td>\n",
       "      <td>9</td>\n",
       "      <td>300</td>\n",
       "      <td>2018-10-18 00:33:10</td>\n",
       "      <td>12000.0</td>\n",
       "      <td>2018-10-18</td>\n",
       "    </tr>\n",
       "    <tr>\n",
       "      <th>2</th>\n",
       "      <td>30641</td>\n",
       "      <td>23842869152850246</td>\n",
       "      <td>0.0</td>\n",
       "      <td>0</td>\n",
       "      <td>1</td>\n",
       "      <td>1</td>\n",
       "      <td>23842866254190246</td>\n",
       "      <td>None</td>\n",
       "      <td>LINK_CLICKS</td>\n",
       "      <td>2018-07-01 09:00:10</td>\n",
       "      <td>2018-11-30 23:59:00</td>\n",
       "      <td>23842866254290246</td>\n",
       "      <td>9</td>\n",
       "      <td>300</td>\n",
       "      <td>2018-10-18 00:34:11</td>\n",
       "      <td>12000.0</td>\n",
       "      <td>2018-10-18</td>\n",
       "    </tr>\n",
       "  </tbody>\n",
       "</table>\n",
       "</div>"
      ],
      "text/plain": [
       "   index              ad_id  cpc  clicks  impressions  reach  \\\n",
       "0  30634  23842869152850246  0.0       0            1      1   \n",
       "1  30637  23842869152850246  0.0       0            1      1   \n",
       "2  30641  23842869152850246  0.0       0            1      1   \n",
       "\n",
       "         campaign_id spend_cap    objective          start_time  \\\n",
       "0  23842866254190246      None  LINK_CLICKS 2018-07-01 09:00:10   \n",
       "1  23842866254190246      None  LINK_CLICKS 2018-07-01 09:00:10   \n",
       "2  23842866254190246      None  LINK_CLICKS 2018-07-01 09:00:10   \n",
       "\n",
       "            stop_time           adset_id  bid_amount  daily_budget  \\\n",
       "0 2018-11-30 23:59:00  23842866254290246           9           300   \n",
       "1 2018-11-30 23:59:00  23842866254290246           9           300   \n",
       "2 2018-11-30 23:59:00  23842866254290246           9           300   \n",
       "\n",
       "         request_time  total_clicks        date  \n",
       "0 2018-10-18 00:32:09       12000.0  2018-10-18  \n",
       "1 2018-10-18 00:33:10       12000.0  2018-10-18  \n",
       "2 2018-10-18 00:34:11       12000.0  2018-10-18  "
      ]
     },
     "execution_count": 11,
     "metadata": {},
     "output_type": "execute_result"
    }
   ],
   "source": [
    "df_real.head(3)"
   ]
  },
  {
   "cell_type": "code",
   "execution_count": 10,
   "metadata": {},
   "outputs": [],
   "source": [
    "import matplotlib.pyplot as plt\n",
    "import seaborn as sns\n",
    "%matplotlib inline"
   ]
  },
  {
   "cell_type": "code",
   "execution_count": 26,
   "metadata": {},
   "outputs": [
    {
     "data": {
      "text/plain": [
       "<matplotlib.legend.Legend at 0x7f8617f6c2b0>"
      ]
     },
     "execution_count": 26,
     "metadata": {},
     "output_type": "execute_result"
    },
    {
     "data": {
      "image/png": "[encoded data removed]",
      "text/plain": [
       "<Figure size 1080x360 with 1 Axes>"
      ]
     },
     "metadata": {
      "needs_background": "light"
     },
     "output_type": "display_data"
    }
   ],
   "source": [
    "fig = plt.figure(figsize=(15, 5))\n",
    "plt.plot( df_pred.request_time, df_pred['pred_cpc'], label='pred_cpc' )\n",
    "plt.plot( df_real.request_time, df_real['cpc'], 'r--', label='real_cpc' )\n",
    "plt.legend(loc='upper right')"
   ]
  },
  {
   "cell_type": "code",
   "execution_count": 19,
   "metadata": {},
   "outputs": [],
   "source": [
    "df_pred[['pred_cpc', 'pred_budget']].astype(float)\n",
    "df_pred['clicks'] = df_pred['pred_budget'] / df_pred['pred_cpc']"
   ]
  },
  {
   "cell_type": "code",
   "execution_count": 27,
   "metadata": {},
   "outputs": [
    {
     "data": {
      "text/plain": [
       "<matplotlib.legend.Legend at 0x7f8617f2e128>"
      ]
     },
     "execution_count": 27,
     "metadata": {},
     "output_type": "execute_result"
    },
    {
     "data": {
      "image/png": "[encoded data removed]",
      "text/plain": [
       "<Figure size 1080x360 with 1 Axes>"
      ]
     },
     "metadata": {
      "needs_background": "light"
     },
     "output_type": "display_data"
    }
   ],
   "source": [
    "fig = plt.figure(figsize=(15, 5))\n",
    "plt.plot( df_pred.request_time, df_pred['clicks'], label='pred_clicks' )\n",
    "plt.plot( df_real.request_time, df_real['clicks'], 'r--', label='real_clicks' )\n",
    "plt.legend(loc='upper right')"
   ]
  },
  {
   "cell_type": "code",
   "execution_count": 42,
   "metadata": {},
   "outputs": [],
   "source": [
    "df_real[['cpc', 'clicks']].astype(float)\n",
    "df_real['spend'] = df_real['cpc'] * df_real['clicks']"
   ]
  },
  {
   "cell_type": "code",
   "execution_count": 25,
   "metadata": {
    "scrolled": true
   },
   "outputs": [
    {
     "data": {
      "text/plain": [
       "<matplotlib.legend.Legend at 0x7f8617fab2e8>"
      ]
     },
     "execution_count": 25,
     "metadata": {},
     "output_type": "execute_result"
    },
    {
     "data": {
      "image/png": "[encoded data removed]",
      "text/plain": [
       "<Figure size 1440x360 with 1 Axes>"
      ]
     },
     "metadata": {
      "needs_background": "light"
     },
     "output_type": "display_data"
    }
   ],
   "source": [
    "fig = plt.figure(figsize=(20, 5))\n",
    "# plt.plot( df_pred.request_time, df_pred['pred_cpc'], label='pred_cpc' )\n",
    "plt.plot( df_pred.request_time, df_pred['pred_budget'], label='pred_budget' )\n",
    "plt.plot( df_pred.request_time, df_pred['clicks'], label='pred_clicks' )\n",
    "plt.legend(loc='upper right')"
   ]
  },
  {
   "cell_type": "code",
   "execution_count": null,
   "metadata": {},
   "outputs": [],
   "source": [
    "fig = plt.figure(figsize=(20, 5))\n"
   ]
  },
  {
   "cell_type": "code",
   "execution_count": null,
   "metadata": {},
   "outputs": [],
   "source": [
    "23842974131850246, 23842869152870246, 23842869152850246"
   ]
  },
  {
   "cell_type": "code",
   "execution_count": 26,
   "metadata": {},
   "outputs": [
    {
     "data": {
      "text/plain": [
       "datetime.datetime(2018, 10, 17, 10, 7, 22, 912557)"
      ]
     },
     "execution_count": 26,
     "metadata": {},
     "output_type": "execute_result"
    }
   ],
   "source": [
    "datetime.datetime.now() - datetime.timedelta(1)"
   ]
  },
  {
   "cell_type": "markdown",
   "metadata": {},
   "source": [
    "## 10/18"
   ]
  },
  {
   "cell_type": "code",
   "execution_count": 6,
   "metadata": {},
   "outputs": [],
   "source": [
    "df['date'] = df['request_time'].dt.date\n",
    "df_camp['date'] = df_camp['request_time'].dt.date"
   ]
  },
  {
   "cell_type": "code",
   "execution_count": 28,
   "metadata": {},
   "outputs": [],
   "source": [
    "TODAY = datetime.datetime.today().date()"
   ]
  },
  {
   "cell_type": "code",
   "execution_count": 29,
   "metadata": {},
   "outputs": [],
   "source": [
    "df_pred = df[ (df.ad_id == 23842869152850246) & (df.date == TODAY) ].reset_index()"
   ]
  },
  {
   "cell_type": "code",
   "execution_count": 30,
   "metadata": {},
   "outputs": [],
   "source": [
    "df_real = df_camp[ (df_camp.ad_id == 23842869152850246) & (df_camp.date == TODAY) ].reset_index()"
   ]
  },
  {
   "cell_type": "code",
   "execution_count": 31,
   "metadata": {},
   "outputs": [
    {
     "data": {
      "text/plain": [
       "<matplotlib.legend.Legend at 0x7f8617e76630>"
      ]
     },
     "execution_count": 31,
     "metadata": {},
     "output_type": "execute_result"
    },
    {
     "data": {
      "image/png": "[encoded data removed]",
      "text/plain": [
       "<Figure size 1080x360 with 1 Axes>"
      ]
     },
     "metadata": {
      "needs_background": "light"
     },
     "output_type": "display_data"
    }
   ],
   "source": [
    "fig = plt.figure(figsize=(15, 5))\n",
    "plt.plot( df_pred.request_time, df_pred['pred_cpc'], label='pred_cpc' )\n",
    "plt.plot( df_real.request_time, df_real['cpc'], 'r--', label='real_cpc' )\n",
    "plt.legend(loc='upper right')"
   ]
  },
  {
   "cell_type": "code",
   "execution_count": 33,
   "metadata": {},
   "outputs": [],
   "source": [
    "df_pred[['pred_cpc', 'pred_budget']].astype(float)\n",
    "df_pred['clicks'] = df_pred['pred_budget'] / df_pred['pred_cpc']"
   ]
  },
  {
   "cell_type": "code",
   "execution_count": 34,
   "metadata": {},
   "outputs": [
    {
     "data": {
      "text/plain": [
       "<matplotlib.legend.Legend at 0x7f8615f96e10>"
      ]
     },
     "execution_count": 34,
     "metadata": {},
     "output_type": "execute_result"
    },
    {
     "data": {
      "image/png": "[encoded data removed]",
      "text/plain": [
       "<Figure size 1080x360 with 1 Axes>"
      ]
     },
     "metadata": {
      "needs_background": "light"
     },
     "output_type": "display_data"
    }
   ],
   "source": [
    "fig = plt.figure(figsize=(15, 5))\n",
    "plt.plot( df_pred.request_time, df_pred['clicks'], label='pred_clicks' )\n",
    "plt.plot( df_real.request_time, df_real['clicks'], 'r--', label='real_clicks' )\n",
    "plt.legend(loc='upper right')"
   ]
  },
  {
   "cell_type": "code",
   "execution_count": null,
   "metadata": {},
   "outputs": [],
   "source": []
  }
 ],
 "metadata": {
  "kernelspec": {
   "display_name": "Python 3",
   "language": "python",
   "name": "python3"
  },
  "language_info": {
   "codemirror_mode": {
    "name": "ipython",
    "version": 3
   },
   "file_extension": ".py",
   "mimetype": "text/x-python",
   "name": "python",
   "nbconvert_exporter": "python",
   "pygments_lexer": "ipython3",
   "version": "3.5.2"
  }
 },
 "nbformat": 4,
 "nbformat_minor": 2
}
